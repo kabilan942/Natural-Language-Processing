{
  "nbformat": 4,
  "nbformat_minor": 0,
  "metadata": {
    "colab": {
      "provenance": [],
      "gpuType": "T4",
      "toc_visible": true,
      "collapsed_sections": [
        "TAZlLFfTWzfq",
        "luqBI7svWzfr",
        "jP18os9bRSlO",
        "Fcm5eej7-go2"
      ]
    },
    "kernelspec": {
      "name": "python3",
      "display_name": "Python 3"
    },
    "language_info": {
      "name": "python"
    },
    "accelerator": "GPU",
    "widgets": {
      "application/vnd.jupyter.widget-state+json": {
        "4f413379590944caa255af69c79b106e": {
          "model_module": "@jupyter-widgets/controls",
          "model_name": "HBoxModel",
          "model_module_version": "1.5.0",
          "state": {
            "_dom_classes": [],
            "_model_module": "@jupyter-widgets/controls",
            "_model_module_version": "1.5.0",
            "_model_name": "HBoxModel",
            "_view_count": null,
            "_view_module": "@jupyter-widgets/controls",
            "_view_module_version": "1.5.0",
            "_view_name": "HBoxView",
            "box_style": "",
            "children": [
              "IPY_MODEL_ef398e85adad4a359e91bcbcc7aea469",
              "IPY_MODEL_054e3ee8f73148ca83d0dfd3944d7762",
              "IPY_MODEL_13de1734e6b9438f9aeb60ba060a7001"
            ],
            "layout": "IPY_MODEL_774b9b491c2b4d85a81eda07163b48b5"
          }
        },
        "ef398e85adad4a359e91bcbcc7aea469": {
          "model_module": "@jupyter-widgets/controls",
          "model_name": "HTMLModel",
          "model_module_version": "1.5.0",
          "state": {
            "_dom_classes": [],
            "_model_module": "@jupyter-widgets/controls",
            "_model_module_version": "1.5.0",
            "_model_name": "HTMLModel",
            "_view_count": null,
            "_view_module": "@jupyter-widgets/controls",
            "_view_module_version": "1.5.0",
            "_view_name": "HTMLView",
            "description": "",
            "description_tooltip": null,
            "layout": "IPY_MODEL_0c87a44469b841a9b4b1eb76b48d50bd",
            "placeholder": "​",
            "style": "IPY_MODEL_d81363c4d7594ef0bbe422558207adb5",
            "value": "Downloading (…)solve/main/vocab.txt: 100%"
          }
        },
        "054e3ee8f73148ca83d0dfd3944d7762": {
          "model_module": "@jupyter-widgets/controls",
          "model_name": "FloatProgressModel",
          "model_module_version": "1.5.0",
          "state": {
            "_dom_classes": [],
            "_model_module": "@jupyter-widgets/controls",
            "_model_module_version": "1.5.0",
            "_model_name": "FloatProgressModel",
            "_view_count": null,
            "_view_module": "@jupyter-widgets/controls",
            "_view_module_version": "1.5.0",
            "_view_name": "ProgressView",
            "bar_style": "success",
            "description": "",
            "description_tooltip": null,
            "layout": "IPY_MODEL_8850d06368a44c1184b3af53c978c467",
            "max": 213450,
            "min": 0,
            "orientation": "horizontal",
            "style": "IPY_MODEL_c7398020e4b04821b4be00570dfb4d4f",
            "value": 213450
          }
        },
        "13de1734e6b9438f9aeb60ba060a7001": {
          "model_module": "@jupyter-widgets/controls",
          "model_name": "HTMLModel",
          "model_module_version": "1.5.0",
          "state": {
            "_dom_classes": [],
            "_model_module": "@jupyter-widgets/controls",
            "_model_module_version": "1.5.0",
            "_model_name": "HTMLModel",
            "_view_count": null,
            "_view_module": "@jupyter-widgets/controls",
            "_view_module_version": "1.5.0",
            "_view_name": "HTMLView",
            "description": "",
            "description_tooltip": null,
            "layout": "IPY_MODEL_9e24135beed74ac5863205550b3e5b98",
            "placeholder": "​",
            "style": "IPY_MODEL_1363e7d9341c4b52a2fe4f9189ffb820",
            "value": " 213k/213k [00:00&lt;00:00, 505kB/s]"
          }
        },
        "774b9b491c2b4d85a81eda07163b48b5": {
          "model_module": "@jupyter-widgets/base",
          "model_name": "LayoutModel",
          "model_module_version": "1.2.0",
          "state": {
            "_model_module": "@jupyter-widgets/base",
            "_model_module_version": "1.2.0",
            "_model_name": "LayoutModel",
            "_view_count": null,
            "_view_module": "@jupyter-widgets/base",
            "_view_module_version": "1.2.0",
            "_view_name": "LayoutView",
            "align_content": null,
            "align_items": null,
            "align_self": null,
            "border": null,
            "bottom": null,
            "display": null,
            "flex": null,
            "flex_flow": null,
            "grid_area": null,
            "grid_auto_columns": null,
            "grid_auto_flow": null,
            "grid_auto_rows": null,
            "grid_column": null,
            "grid_gap": null,
            "grid_row": null,
            "grid_template_areas": null,
            "grid_template_columns": null,
            "grid_template_rows": null,
            "height": null,
            "justify_content": null,
            "justify_items": null,
            "left": null,
            "margin": null,
            "max_height": null,
            "max_width": null,
            "min_height": null,
            "min_width": null,
            "object_fit": null,
            "object_position": null,
            "order": null,
            "overflow": null,
            "overflow_x": null,
            "overflow_y": null,
            "padding": null,
            "right": null,
            "top": null,
            "visibility": null,
            "width": null
          }
        },
        "0c87a44469b841a9b4b1eb76b48d50bd": {
          "model_module": "@jupyter-widgets/base",
          "model_name": "LayoutModel",
          "model_module_version": "1.2.0",
          "state": {
            "_model_module": "@jupyter-widgets/base",
            "_model_module_version": "1.2.0",
            "_model_name": "LayoutModel",
            "_view_count": null,
            "_view_module": "@jupyter-widgets/base",
            "_view_module_version": "1.2.0",
            "_view_name": "LayoutView",
            "align_content": null,
            "align_items": null,
            "align_self": null,
            "border": null,
            "bottom": null,
            "display": null,
            "flex": null,
            "flex_flow": null,
            "grid_area": null,
            "grid_auto_columns": null,
            "grid_auto_flow": null,
            "grid_auto_rows": null,
            "grid_column": null,
            "grid_gap": null,
            "grid_row": null,
            "grid_template_areas": null,
            "grid_template_columns": null,
            "grid_template_rows": null,
            "height": null,
            "justify_content": null,
            "justify_items": null,
            "left": null,
            "margin": null,
            "max_height": null,
            "max_width": null,
            "min_height": null,
            "min_width": null,
            "object_fit": null,
            "object_position": null,
            "order": null,
            "overflow": null,
            "overflow_x": null,
            "overflow_y": null,
            "padding": null,
            "right": null,
            "top": null,
            "visibility": null,
            "width": null
          }
        },
        "d81363c4d7594ef0bbe422558207adb5": {
          "model_module": "@jupyter-widgets/controls",
          "model_name": "DescriptionStyleModel",
          "model_module_version": "1.5.0",
          "state": {
            "_model_module": "@jupyter-widgets/controls",
            "_model_module_version": "1.5.0",
            "_model_name": "DescriptionStyleModel",
            "_view_count": null,
            "_view_module": "@jupyter-widgets/base",
            "_view_module_version": "1.2.0",
            "_view_name": "StyleView",
            "description_width": ""
          }
        },
        "8850d06368a44c1184b3af53c978c467": {
          "model_module": "@jupyter-widgets/base",
          "model_name": "LayoutModel",
          "model_module_version": "1.2.0",
          "state": {
            "_model_module": "@jupyter-widgets/base",
            "_model_module_version": "1.2.0",
            "_model_name": "LayoutModel",
            "_view_count": null,
            "_view_module": "@jupyter-widgets/base",
            "_view_module_version": "1.2.0",
            "_view_name": "LayoutView",
            "align_content": null,
            "align_items": null,
            "align_self": null,
            "border": null,
            "bottom": null,
            "display": null,
            "flex": null,
            "flex_flow": null,
            "grid_area": null,
            "grid_auto_columns": null,
            "grid_auto_flow": null,
            "grid_auto_rows": null,
            "grid_column": null,
            "grid_gap": null,
            "grid_row": null,
            "grid_template_areas": null,
            "grid_template_columns": null,
            "grid_template_rows": null,
            "height": null,
            "justify_content": null,
            "justify_items": null,
            "left": null,
            "margin": null,
            "max_height": null,
            "max_width": null,
            "min_height": null,
            "min_width": null,
            "object_fit": null,
            "object_position": null,
            "order": null,
            "overflow": null,
            "overflow_x": null,
            "overflow_y": null,
            "padding": null,
            "right": null,
            "top": null,
            "visibility": null,
            "width": null
          }
        },
        "c7398020e4b04821b4be00570dfb4d4f": {
          "model_module": "@jupyter-widgets/controls",
          "model_name": "ProgressStyleModel",
          "model_module_version": "1.5.0",
          "state": {
            "_model_module": "@jupyter-widgets/controls",
            "_model_module_version": "1.5.0",
            "_model_name": "ProgressStyleModel",
            "_view_count": null,
            "_view_module": "@jupyter-widgets/base",
            "_view_module_version": "1.2.0",
            "_view_name": "StyleView",
            "bar_color": null,
            "description_width": ""
          }
        },
        "9e24135beed74ac5863205550b3e5b98": {
          "model_module": "@jupyter-widgets/base",
          "model_name": "LayoutModel",
          "model_module_version": "1.2.0",
          "state": {
            "_model_module": "@jupyter-widgets/base",
            "_model_module_version": "1.2.0",
            "_model_name": "LayoutModel",
            "_view_count": null,
            "_view_module": "@jupyter-widgets/base",
            "_view_module_version": "1.2.0",
            "_view_name": "LayoutView",
            "align_content": null,
            "align_items": null,
            "align_self": null,
            "border": null,
            "bottom": null,
            "display": null,
            "flex": null,
            "flex_flow": null,
            "grid_area": null,
            "grid_auto_columns": null,
            "grid_auto_flow": null,
            "grid_auto_rows": null,
            "grid_column": null,
            "grid_gap": null,
            "grid_row": null,
            "grid_template_areas": null,
            "grid_template_columns": null,
            "grid_template_rows": null,
            "height": null,
            "justify_content": null,
            "justify_items": null,
            "left": null,
            "margin": null,
            "max_height": null,
            "max_width": null,
            "min_height": null,
            "min_width": null,
            "object_fit": null,
            "object_position": null,
            "order": null,
            "overflow": null,
            "overflow_x": null,
            "overflow_y": null,
            "padding": null,
            "right": null,
            "top": null,
            "visibility": null,
            "width": null
          }
        },
        "1363e7d9341c4b52a2fe4f9189ffb820": {
          "model_module": "@jupyter-widgets/controls",
          "model_name": "DescriptionStyleModel",
          "model_module_version": "1.5.0",
          "state": {
            "_model_module": "@jupyter-widgets/controls",
            "_model_module_version": "1.5.0",
            "_model_name": "DescriptionStyleModel",
            "_view_count": null,
            "_view_module": "@jupyter-widgets/base",
            "_view_module_version": "1.2.0",
            "_view_name": "StyleView",
            "description_width": ""
          }
        },
        "ce7630296b9e438fbdf4574d0966f2f7": {
          "model_module": "@jupyter-widgets/controls",
          "model_name": "HBoxModel",
          "model_module_version": "1.5.0",
          "state": {
            "_dom_classes": [],
            "_model_module": "@jupyter-widgets/controls",
            "_model_module_version": "1.5.0",
            "_model_name": "HBoxModel",
            "_view_count": null,
            "_view_module": "@jupyter-widgets/controls",
            "_view_module_version": "1.5.0",
            "_view_name": "HBoxView",
            "box_style": "",
            "children": [
              "IPY_MODEL_52d9194b55a24ed49176dccddf5ce625",
              "IPY_MODEL_374136eebaf948d8af1be35c44d3d4d8",
              "IPY_MODEL_71ec447173884f93950f718a757f2e2a"
            ],
            "layout": "IPY_MODEL_4ba150d3e2aa42eaa7967c220add7ffd"
          }
        },
        "52d9194b55a24ed49176dccddf5ce625": {
          "model_module": "@jupyter-widgets/controls",
          "model_name": "HTMLModel",
          "model_module_version": "1.5.0",
          "state": {
            "_dom_classes": [],
            "_model_module": "@jupyter-widgets/controls",
            "_model_module_version": "1.5.0",
            "_model_name": "HTMLModel",
            "_view_count": null,
            "_view_module": "@jupyter-widgets/controls",
            "_view_module_version": "1.5.0",
            "_view_name": "HTMLView",
            "description": "",
            "description_tooltip": null,
            "layout": "IPY_MODEL_2acde689de8c48508bd46cc4eef0ffd8",
            "placeholder": "​",
            "style": "IPY_MODEL_c82fbc11b79940f4a2613631d5575ab0",
            "value": "Downloading (…)okenizer_config.json: 100%"
          }
        },
        "374136eebaf948d8af1be35c44d3d4d8": {
          "model_module": "@jupyter-widgets/controls",
          "model_name": "FloatProgressModel",
          "model_module_version": "1.5.0",
          "state": {
            "_dom_classes": [],
            "_model_module": "@jupyter-widgets/controls",
            "_model_module_version": "1.5.0",
            "_model_name": "FloatProgressModel",
            "_view_count": null,
            "_view_module": "@jupyter-widgets/controls",
            "_view_module_version": "1.5.0",
            "_view_name": "ProgressView",
            "bar_style": "success",
            "description": "",
            "description_tooltip": null,
            "layout": "IPY_MODEL_766c06e0b8c34f8a8f748b6d3106bbb8",
            "max": 29,
            "min": 0,
            "orientation": "horizontal",
            "style": "IPY_MODEL_f435358a0b9345f0a0fadb1ec550ba2a",
            "value": 29
          }
        },
        "71ec447173884f93950f718a757f2e2a": {
          "model_module": "@jupyter-widgets/controls",
          "model_name": "HTMLModel",
          "model_module_version": "1.5.0",
          "state": {
            "_dom_classes": [],
            "_model_module": "@jupyter-widgets/controls",
            "_model_module_version": "1.5.0",
            "_model_name": "HTMLModel",
            "_view_count": null,
            "_view_module": "@jupyter-widgets/controls",
            "_view_module_version": "1.5.0",
            "_view_name": "HTMLView",
            "description": "",
            "description_tooltip": null,
            "layout": "IPY_MODEL_05edfee9f1e34093a12bd90c962bb522",
            "placeholder": "​",
            "style": "IPY_MODEL_dfb47449f0b94e2a8475aa0884b87294",
            "value": " 29.0/29.0 [00:00&lt;00:00, 1.98kB/s]"
          }
        },
        "4ba150d3e2aa42eaa7967c220add7ffd": {
          "model_module": "@jupyter-widgets/base",
          "model_name": "LayoutModel",
          "model_module_version": "1.2.0",
          "state": {
            "_model_module": "@jupyter-widgets/base",
            "_model_module_version": "1.2.0",
            "_model_name": "LayoutModel",
            "_view_count": null,
            "_view_module": "@jupyter-widgets/base",
            "_view_module_version": "1.2.0",
            "_view_name": "LayoutView",
            "align_content": null,
            "align_items": null,
            "align_self": null,
            "border": null,
            "bottom": null,
            "display": null,
            "flex": null,
            "flex_flow": null,
            "grid_area": null,
            "grid_auto_columns": null,
            "grid_auto_flow": null,
            "grid_auto_rows": null,
            "grid_column": null,
            "grid_gap": null,
            "grid_row": null,
            "grid_template_areas": null,
            "grid_template_columns": null,
            "grid_template_rows": null,
            "height": null,
            "justify_content": null,
            "justify_items": null,
            "left": null,
            "margin": null,
            "max_height": null,
            "max_width": null,
            "min_height": null,
            "min_width": null,
            "object_fit": null,
            "object_position": null,
            "order": null,
            "overflow": null,
            "overflow_x": null,
            "overflow_y": null,
            "padding": null,
            "right": null,
            "top": null,
            "visibility": null,
            "width": null
          }
        },
        "2acde689de8c48508bd46cc4eef0ffd8": {
          "model_module": "@jupyter-widgets/base",
          "model_name": "LayoutModel",
          "model_module_version": "1.2.0",
          "state": {
            "_model_module": "@jupyter-widgets/base",
            "_model_module_version": "1.2.0",
            "_model_name": "LayoutModel",
            "_view_count": null,
            "_view_module": "@jupyter-widgets/base",
            "_view_module_version": "1.2.0",
            "_view_name": "LayoutView",
            "align_content": null,
            "align_items": null,
            "align_self": null,
            "border": null,
            "bottom": null,
            "display": null,
            "flex": null,
            "flex_flow": null,
            "grid_area": null,
            "grid_auto_columns": null,
            "grid_auto_flow": null,
            "grid_auto_rows": null,
            "grid_column": null,
            "grid_gap": null,
            "grid_row": null,
            "grid_template_areas": null,
            "grid_template_columns": null,
            "grid_template_rows": null,
            "height": null,
            "justify_content": null,
            "justify_items": null,
            "left": null,
            "margin": null,
            "max_height": null,
            "max_width": null,
            "min_height": null,
            "min_width": null,
            "object_fit": null,
            "object_position": null,
            "order": null,
            "overflow": null,
            "overflow_x": null,
            "overflow_y": null,
            "padding": null,
            "right": null,
            "top": null,
            "visibility": null,
            "width": null
          }
        },
        "c82fbc11b79940f4a2613631d5575ab0": {
          "model_module": "@jupyter-widgets/controls",
          "model_name": "DescriptionStyleModel",
          "model_module_version": "1.5.0",
          "state": {
            "_model_module": "@jupyter-widgets/controls",
            "_model_module_version": "1.5.0",
            "_model_name": "DescriptionStyleModel",
            "_view_count": null,
            "_view_module": "@jupyter-widgets/base",
            "_view_module_version": "1.2.0",
            "_view_name": "StyleView",
            "description_width": ""
          }
        },
        "766c06e0b8c34f8a8f748b6d3106bbb8": {
          "model_module": "@jupyter-widgets/base",
          "model_name": "LayoutModel",
          "model_module_version": "1.2.0",
          "state": {
            "_model_module": "@jupyter-widgets/base",
            "_model_module_version": "1.2.0",
            "_model_name": "LayoutModel",
            "_view_count": null,
            "_view_module": "@jupyter-widgets/base",
            "_view_module_version": "1.2.0",
            "_view_name": "LayoutView",
            "align_content": null,
            "align_items": null,
            "align_self": null,
            "border": null,
            "bottom": null,
            "display": null,
            "flex": null,
            "flex_flow": null,
            "grid_area": null,
            "grid_auto_columns": null,
            "grid_auto_flow": null,
            "grid_auto_rows": null,
            "grid_column": null,
            "grid_gap": null,
            "grid_row": null,
            "grid_template_areas": null,
            "grid_template_columns": null,
            "grid_template_rows": null,
            "height": null,
            "justify_content": null,
            "justify_items": null,
            "left": null,
            "margin": null,
            "max_height": null,
            "max_width": null,
            "min_height": null,
            "min_width": null,
            "object_fit": null,
            "object_position": null,
            "order": null,
            "overflow": null,
            "overflow_x": null,
            "overflow_y": null,
            "padding": null,
            "right": null,
            "top": null,
            "visibility": null,
            "width": null
          }
        },
        "f435358a0b9345f0a0fadb1ec550ba2a": {
          "model_module": "@jupyter-widgets/controls",
          "model_name": "ProgressStyleModel",
          "model_module_version": "1.5.0",
          "state": {
            "_model_module": "@jupyter-widgets/controls",
            "_model_module_version": "1.5.0",
            "_model_name": "ProgressStyleModel",
            "_view_count": null,
            "_view_module": "@jupyter-widgets/base",
            "_view_module_version": "1.2.0",
            "_view_name": "StyleView",
            "bar_color": null,
            "description_width": ""
          }
        },
        "05edfee9f1e34093a12bd90c962bb522": {
          "model_module": "@jupyter-widgets/base",
          "model_name": "LayoutModel",
          "model_module_version": "1.2.0",
          "state": {
            "_model_module": "@jupyter-widgets/base",
            "_model_module_version": "1.2.0",
            "_model_name": "LayoutModel",
            "_view_count": null,
            "_view_module": "@jupyter-widgets/base",
            "_view_module_version": "1.2.0",
            "_view_name": "LayoutView",
            "align_content": null,
            "align_items": null,
            "align_self": null,
            "border": null,
            "bottom": null,
            "display": null,
            "flex": null,
            "flex_flow": null,
            "grid_area": null,
            "grid_auto_columns": null,
            "grid_auto_flow": null,
            "grid_auto_rows": null,
            "grid_column": null,
            "grid_gap": null,
            "grid_row": null,
            "grid_template_areas": null,
            "grid_template_columns": null,
            "grid_template_rows": null,
            "height": null,
            "justify_content": null,
            "justify_items": null,
            "left": null,
            "margin": null,
            "max_height": null,
            "max_width": null,
            "min_height": null,
            "min_width": null,
            "object_fit": null,
            "object_position": null,
            "order": null,
            "overflow": null,
            "overflow_x": null,
            "overflow_y": null,
            "padding": null,
            "right": null,
            "top": null,
            "visibility": null,
            "width": null
          }
        },
        "dfb47449f0b94e2a8475aa0884b87294": {
          "model_module": "@jupyter-widgets/controls",
          "model_name": "DescriptionStyleModel",
          "model_module_version": "1.5.0",
          "state": {
            "_model_module": "@jupyter-widgets/controls",
            "_model_module_version": "1.5.0",
            "_model_name": "DescriptionStyleModel",
            "_view_count": null,
            "_view_module": "@jupyter-widgets/base",
            "_view_module_version": "1.2.0",
            "_view_name": "StyleView",
            "description_width": ""
          }
        },
        "57bd7ecb0450499e8aadb92c0aa67c75": {
          "model_module": "@jupyter-widgets/controls",
          "model_name": "HBoxModel",
          "model_module_version": "1.5.0",
          "state": {
            "_dom_classes": [],
            "_model_module": "@jupyter-widgets/controls",
            "_model_module_version": "1.5.0",
            "_model_name": "HBoxModel",
            "_view_count": null,
            "_view_module": "@jupyter-widgets/controls",
            "_view_module_version": "1.5.0",
            "_view_name": "HBoxView",
            "box_style": "",
            "children": [
              "IPY_MODEL_230d70cc66ce45cebba1aa1827730392",
              "IPY_MODEL_41aff6b440304fe1a68f82a4709f4fc4",
              "IPY_MODEL_2e5f5ec2cde94bcfaaab47305b764b6b"
            ],
            "layout": "IPY_MODEL_47a2f4812ad94740a042647fa9e2b424"
          }
        },
        "230d70cc66ce45cebba1aa1827730392": {
          "model_module": "@jupyter-widgets/controls",
          "model_name": "HTMLModel",
          "model_module_version": "1.5.0",
          "state": {
            "_dom_classes": [],
            "_model_module": "@jupyter-widgets/controls",
            "_model_module_version": "1.5.0",
            "_model_name": "HTMLModel",
            "_view_count": null,
            "_view_module": "@jupyter-widgets/controls",
            "_view_module_version": "1.5.0",
            "_view_name": "HTMLView",
            "description": "",
            "description_tooltip": null,
            "layout": "IPY_MODEL_3a35fdc8f46042afa984784c2e5bb494",
            "placeholder": "​",
            "style": "IPY_MODEL_71b8e9bff72b4ba58dda1aff73db4874",
            "value": "Downloading (…)lve/main/config.json: 100%"
          }
        },
        "41aff6b440304fe1a68f82a4709f4fc4": {
          "model_module": "@jupyter-widgets/controls",
          "model_name": "FloatProgressModel",
          "model_module_version": "1.5.0",
          "state": {
            "_dom_classes": [],
            "_model_module": "@jupyter-widgets/controls",
            "_model_module_version": "1.5.0",
            "_model_name": "FloatProgressModel",
            "_view_count": null,
            "_view_module": "@jupyter-widgets/controls",
            "_view_module_version": "1.5.0",
            "_view_name": "ProgressView",
            "bar_style": "success",
            "description": "",
            "description_tooltip": null,
            "layout": "IPY_MODEL_48d734284f554838aabd683dc8c07699",
            "max": 570,
            "min": 0,
            "orientation": "horizontal",
            "style": "IPY_MODEL_6baacca60d094949b88b36aaee8630b6",
            "value": 570
          }
        },
        "2e5f5ec2cde94bcfaaab47305b764b6b": {
          "model_module": "@jupyter-widgets/controls",
          "model_name": "HTMLModel",
          "model_module_version": "1.5.0",
          "state": {
            "_dom_classes": [],
            "_model_module": "@jupyter-widgets/controls",
            "_model_module_version": "1.5.0",
            "_model_name": "HTMLModel",
            "_view_count": null,
            "_view_module": "@jupyter-widgets/controls",
            "_view_module_version": "1.5.0",
            "_view_name": "HTMLView",
            "description": "",
            "description_tooltip": null,
            "layout": "IPY_MODEL_80aad09646334f10a9c231875b05d57b",
            "placeholder": "​",
            "style": "IPY_MODEL_f0f11cebccf34ae49d35e94cc2abb0dd",
            "value": " 570/570 [00:00&lt;00:00, 34.5kB/s]"
          }
        },
        "47a2f4812ad94740a042647fa9e2b424": {
          "model_module": "@jupyter-widgets/base",
          "model_name": "LayoutModel",
          "model_module_version": "1.2.0",
          "state": {
            "_model_module": "@jupyter-widgets/base",
            "_model_module_version": "1.2.0",
            "_model_name": "LayoutModel",
            "_view_count": null,
            "_view_module": "@jupyter-widgets/base",
            "_view_module_version": "1.2.0",
            "_view_name": "LayoutView",
            "align_content": null,
            "align_items": null,
            "align_self": null,
            "border": null,
            "bottom": null,
            "display": null,
            "flex": null,
            "flex_flow": null,
            "grid_area": null,
            "grid_auto_columns": null,
            "grid_auto_flow": null,
            "grid_auto_rows": null,
            "grid_column": null,
            "grid_gap": null,
            "grid_row": null,
            "grid_template_areas": null,
            "grid_template_columns": null,
            "grid_template_rows": null,
            "height": null,
            "justify_content": null,
            "justify_items": null,
            "left": null,
            "margin": null,
            "max_height": null,
            "max_width": null,
            "min_height": null,
            "min_width": null,
            "object_fit": null,
            "object_position": null,
            "order": null,
            "overflow": null,
            "overflow_x": null,
            "overflow_y": null,
            "padding": null,
            "right": null,
            "top": null,
            "visibility": null,
            "width": null
          }
        },
        "3a35fdc8f46042afa984784c2e5bb494": {
          "model_module": "@jupyter-widgets/base",
          "model_name": "LayoutModel",
          "model_module_version": "1.2.0",
          "state": {
            "_model_module": "@jupyter-widgets/base",
            "_model_module_version": "1.2.0",
            "_model_name": "LayoutModel",
            "_view_count": null,
            "_view_module": "@jupyter-widgets/base",
            "_view_module_version": "1.2.0",
            "_view_name": "LayoutView",
            "align_content": null,
            "align_items": null,
            "align_self": null,
            "border": null,
            "bottom": null,
            "display": null,
            "flex": null,
            "flex_flow": null,
            "grid_area": null,
            "grid_auto_columns": null,
            "grid_auto_flow": null,
            "grid_auto_rows": null,
            "grid_column": null,
            "grid_gap": null,
            "grid_row": null,
            "grid_template_areas": null,
            "grid_template_columns": null,
            "grid_template_rows": null,
            "height": null,
            "justify_content": null,
            "justify_items": null,
            "left": null,
            "margin": null,
            "max_height": null,
            "max_width": null,
            "min_height": null,
            "min_width": null,
            "object_fit": null,
            "object_position": null,
            "order": null,
            "overflow": null,
            "overflow_x": null,
            "overflow_y": null,
            "padding": null,
            "right": null,
            "top": null,
            "visibility": null,
            "width": null
          }
        },
        "71b8e9bff72b4ba58dda1aff73db4874": {
          "model_module": "@jupyter-widgets/controls",
          "model_name": "DescriptionStyleModel",
          "model_module_version": "1.5.0",
          "state": {
            "_model_module": "@jupyter-widgets/controls",
            "_model_module_version": "1.5.0",
            "_model_name": "DescriptionStyleModel",
            "_view_count": null,
            "_view_module": "@jupyter-widgets/base",
            "_view_module_version": "1.2.0",
            "_view_name": "StyleView",
            "description_width": ""
          }
        },
        "48d734284f554838aabd683dc8c07699": {
          "model_module": "@jupyter-widgets/base",
          "model_name": "LayoutModel",
          "model_module_version": "1.2.0",
          "state": {
            "_model_module": "@jupyter-widgets/base",
            "_model_module_version": "1.2.0",
            "_model_name": "LayoutModel",
            "_view_count": null,
            "_view_module": "@jupyter-widgets/base",
            "_view_module_version": "1.2.0",
            "_view_name": "LayoutView",
            "align_content": null,
            "align_items": null,
            "align_self": null,
            "border": null,
            "bottom": null,
            "display": null,
            "flex": null,
            "flex_flow": null,
            "grid_area": null,
            "grid_auto_columns": null,
            "grid_auto_flow": null,
            "grid_auto_rows": null,
            "grid_column": null,
            "grid_gap": null,
            "grid_row": null,
            "grid_template_areas": null,
            "grid_template_columns": null,
            "grid_template_rows": null,
            "height": null,
            "justify_content": null,
            "justify_items": null,
            "left": null,
            "margin": null,
            "max_height": null,
            "max_width": null,
            "min_height": null,
            "min_width": null,
            "object_fit": null,
            "object_position": null,
            "order": null,
            "overflow": null,
            "overflow_x": null,
            "overflow_y": null,
            "padding": null,
            "right": null,
            "top": null,
            "visibility": null,
            "width": null
          }
        },
        "6baacca60d094949b88b36aaee8630b6": {
          "model_module": "@jupyter-widgets/controls",
          "model_name": "ProgressStyleModel",
          "model_module_version": "1.5.0",
          "state": {
            "_model_module": "@jupyter-widgets/controls",
            "_model_module_version": "1.5.0",
            "_model_name": "ProgressStyleModel",
            "_view_count": null,
            "_view_module": "@jupyter-widgets/base",
            "_view_module_version": "1.2.0",
            "_view_name": "StyleView",
            "bar_color": null,
            "description_width": ""
          }
        },
        "80aad09646334f10a9c231875b05d57b": {
          "model_module": "@jupyter-widgets/base",
          "model_name": "LayoutModel",
          "model_module_version": "1.2.0",
          "state": {
            "_model_module": "@jupyter-widgets/base",
            "_model_module_version": "1.2.0",
            "_model_name": "LayoutModel",
            "_view_count": null,
            "_view_module": "@jupyter-widgets/base",
            "_view_module_version": "1.2.0",
            "_view_name": "LayoutView",
            "align_content": null,
            "align_items": null,
            "align_self": null,
            "border": null,
            "bottom": null,
            "display": null,
            "flex": null,
            "flex_flow": null,
            "grid_area": null,
            "grid_auto_columns": null,
            "grid_auto_flow": null,
            "grid_auto_rows": null,
            "grid_column": null,
            "grid_gap": null,
            "grid_row": null,
            "grid_template_areas": null,
            "grid_template_columns": null,
            "grid_template_rows": null,
            "height": null,
            "justify_content": null,
            "justify_items": null,
            "left": null,
            "margin": null,
            "max_height": null,
            "max_width": null,
            "min_height": null,
            "min_width": null,
            "object_fit": null,
            "object_position": null,
            "order": null,
            "overflow": null,
            "overflow_x": null,
            "overflow_y": null,
            "padding": null,
            "right": null,
            "top": null,
            "visibility": null,
            "width": null
          }
        },
        "f0f11cebccf34ae49d35e94cc2abb0dd": {
          "model_module": "@jupyter-widgets/controls",
          "model_name": "DescriptionStyleModel",
          "model_module_version": "1.5.0",
          "state": {
            "_model_module": "@jupyter-widgets/controls",
            "_model_module_version": "1.5.0",
            "_model_name": "DescriptionStyleModel",
            "_view_count": null,
            "_view_module": "@jupyter-widgets/base",
            "_view_module_version": "1.2.0",
            "_view_name": "StyleView",
            "description_width": ""
          }
        },
        "79648514f3fa47fbb0cf19c018ff72d3": {
          "model_module": "@jupyter-widgets/controls",
          "model_name": "HBoxModel",
          "model_module_version": "1.5.0",
          "state": {
            "_dom_classes": [],
            "_model_module": "@jupyter-widgets/controls",
            "_model_module_version": "1.5.0",
            "_model_name": "HBoxModel",
            "_view_count": null,
            "_view_module": "@jupyter-widgets/controls",
            "_view_module_version": "1.5.0",
            "_view_name": "HBoxView",
            "box_style": "",
            "children": [
              "IPY_MODEL_c15a80e87b7b4307ab833624b91c33c0",
              "IPY_MODEL_b7aa32f55bc14eff9f97e2dcaffc22c5",
              "IPY_MODEL_3e670773dcd94a68a9ccd124a9ced9e1"
            ],
            "layout": "IPY_MODEL_2f1244a658a74e3594ab22d353749142"
          }
        },
        "c15a80e87b7b4307ab833624b91c33c0": {
          "model_module": "@jupyter-widgets/controls",
          "model_name": "HTMLModel",
          "model_module_version": "1.5.0",
          "state": {
            "_dom_classes": [],
            "_model_module": "@jupyter-widgets/controls",
            "_model_module_version": "1.5.0",
            "_model_name": "HTMLModel",
            "_view_count": null,
            "_view_module": "@jupyter-widgets/controls",
            "_view_module_version": "1.5.0",
            "_view_name": "HTMLView",
            "description": "",
            "description_tooltip": null,
            "layout": "IPY_MODEL_1c04a8fb06334679aa1e154dc7abdb15",
            "placeholder": "​",
            "style": "IPY_MODEL_abd1bdf0e74a41f89b9361280a5418c4",
            "value": "Downloading model.safetensors: 100%"
          }
        },
        "b7aa32f55bc14eff9f97e2dcaffc22c5": {
          "model_module": "@jupyter-widgets/controls",
          "model_name": "FloatProgressModel",
          "model_module_version": "1.5.0",
          "state": {
            "_dom_classes": [],
            "_model_module": "@jupyter-widgets/controls",
            "_model_module_version": "1.5.0",
            "_model_name": "FloatProgressModel",
            "_view_count": null,
            "_view_module": "@jupyter-widgets/controls",
            "_view_module_version": "1.5.0",
            "_view_name": "ProgressView",
            "bar_style": "success",
            "description": "",
            "description_tooltip": null,
            "layout": "IPY_MODEL_c48f28fe7bb442078f1e8b0d56c8a114",
            "max": 435755784,
            "min": 0,
            "orientation": "horizontal",
            "style": "IPY_MODEL_a2f49776bf0040808947392cb547b76c",
            "value": 435755784
          }
        },
        "3e670773dcd94a68a9ccd124a9ced9e1": {
          "model_module": "@jupyter-widgets/controls",
          "model_name": "HTMLModel",
          "model_module_version": "1.5.0",
          "state": {
            "_dom_classes": [],
            "_model_module": "@jupyter-widgets/controls",
            "_model_module_version": "1.5.0",
            "_model_name": "HTMLModel",
            "_view_count": null,
            "_view_module": "@jupyter-widgets/controls",
            "_view_module_version": "1.5.0",
            "_view_name": "HTMLView",
            "description": "",
            "description_tooltip": null,
            "layout": "IPY_MODEL_25e629cac0424e60a16029eda974dabc",
            "placeholder": "​",
            "style": "IPY_MODEL_0c0e05d8bb8d497ba10bf0ef7d1437c0",
            "value": " 436M/436M [00:01&lt;00:00, 283MB/s]"
          }
        },
        "2f1244a658a74e3594ab22d353749142": {
          "model_module": "@jupyter-widgets/base",
          "model_name": "LayoutModel",
          "model_module_version": "1.2.0",
          "state": {
            "_model_module": "@jupyter-widgets/base",
            "_model_module_version": "1.2.0",
            "_model_name": "LayoutModel",
            "_view_count": null,
            "_view_module": "@jupyter-widgets/base",
            "_view_module_version": "1.2.0",
            "_view_name": "LayoutView",
            "align_content": null,
            "align_items": null,
            "align_self": null,
            "border": null,
            "bottom": null,
            "display": null,
            "flex": null,
            "flex_flow": null,
            "grid_area": null,
            "grid_auto_columns": null,
            "grid_auto_flow": null,
            "grid_auto_rows": null,
            "grid_column": null,
            "grid_gap": null,
            "grid_row": null,
            "grid_template_areas": null,
            "grid_template_columns": null,
            "grid_template_rows": null,
            "height": null,
            "justify_content": null,
            "justify_items": null,
            "left": null,
            "margin": null,
            "max_height": null,
            "max_width": null,
            "min_height": null,
            "min_width": null,
            "object_fit": null,
            "object_position": null,
            "order": null,
            "overflow": null,
            "overflow_x": null,
            "overflow_y": null,
            "padding": null,
            "right": null,
            "top": null,
            "visibility": null,
            "width": null
          }
        },
        "1c04a8fb06334679aa1e154dc7abdb15": {
          "model_module": "@jupyter-widgets/base",
          "model_name": "LayoutModel",
          "model_module_version": "1.2.0",
          "state": {
            "_model_module": "@jupyter-widgets/base",
            "_model_module_version": "1.2.0",
            "_model_name": "LayoutModel",
            "_view_count": null,
            "_view_module": "@jupyter-widgets/base",
            "_view_module_version": "1.2.0",
            "_view_name": "LayoutView",
            "align_content": null,
            "align_items": null,
            "align_self": null,
            "border": null,
            "bottom": null,
            "display": null,
            "flex": null,
            "flex_flow": null,
            "grid_area": null,
            "grid_auto_columns": null,
            "grid_auto_flow": null,
            "grid_auto_rows": null,
            "grid_column": null,
            "grid_gap": null,
            "grid_row": null,
            "grid_template_areas": null,
            "grid_template_columns": null,
            "grid_template_rows": null,
            "height": null,
            "justify_content": null,
            "justify_items": null,
            "left": null,
            "margin": null,
            "max_height": null,
            "max_width": null,
            "min_height": null,
            "min_width": null,
            "object_fit": null,
            "object_position": null,
            "order": null,
            "overflow": null,
            "overflow_x": null,
            "overflow_y": null,
            "padding": null,
            "right": null,
            "top": null,
            "visibility": null,
            "width": null
          }
        },
        "abd1bdf0e74a41f89b9361280a5418c4": {
          "model_module": "@jupyter-widgets/controls",
          "model_name": "DescriptionStyleModel",
          "model_module_version": "1.5.0",
          "state": {
            "_model_module": "@jupyter-widgets/controls",
            "_model_module_version": "1.5.0",
            "_model_name": "DescriptionStyleModel",
            "_view_count": null,
            "_view_module": "@jupyter-widgets/base",
            "_view_module_version": "1.2.0",
            "_view_name": "StyleView",
            "description_width": ""
          }
        },
        "c48f28fe7bb442078f1e8b0d56c8a114": {
          "model_module": "@jupyter-widgets/base",
          "model_name": "LayoutModel",
          "model_module_version": "1.2.0",
          "state": {
            "_model_module": "@jupyter-widgets/base",
            "_model_module_version": "1.2.0",
            "_model_name": "LayoutModel",
            "_view_count": null,
            "_view_module": "@jupyter-widgets/base",
            "_view_module_version": "1.2.0",
            "_view_name": "LayoutView",
            "align_content": null,
            "align_items": null,
            "align_self": null,
            "border": null,
            "bottom": null,
            "display": null,
            "flex": null,
            "flex_flow": null,
            "grid_area": null,
            "grid_auto_columns": null,
            "grid_auto_flow": null,
            "grid_auto_rows": null,
            "grid_column": null,
            "grid_gap": null,
            "grid_row": null,
            "grid_template_areas": null,
            "grid_template_columns": null,
            "grid_template_rows": null,
            "height": null,
            "justify_content": null,
            "justify_items": null,
            "left": null,
            "margin": null,
            "max_height": null,
            "max_width": null,
            "min_height": null,
            "min_width": null,
            "object_fit": null,
            "object_position": null,
            "order": null,
            "overflow": null,
            "overflow_x": null,
            "overflow_y": null,
            "padding": null,
            "right": null,
            "top": null,
            "visibility": null,
            "width": null
          }
        },
        "a2f49776bf0040808947392cb547b76c": {
          "model_module": "@jupyter-widgets/controls",
          "model_name": "ProgressStyleModel",
          "model_module_version": "1.5.0",
          "state": {
            "_model_module": "@jupyter-widgets/controls",
            "_model_module_version": "1.5.0",
            "_model_name": "ProgressStyleModel",
            "_view_count": null,
            "_view_module": "@jupyter-widgets/base",
            "_view_module_version": "1.2.0",
            "_view_name": "StyleView",
            "bar_color": null,
            "description_width": ""
          }
        },
        "25e629cac0424e60a16029eda974dabc": {
          "model_module": "@jupyter-widgets/base",
          "model_name": "LayoutModel",
          "model_module_version": "1.2.0",
          "state": {
            "_model_module": "@jupyter-widgets/base",
            "_model_module_version": "1.2.0",
            "_model_name": "LayoutModel",
            "_view_count": null,
            "_view_module": "@jupyter-widgets/base",
            "_view_module_version": "1.2.0",
            "_view_name": "LayoutView",
            "align_content": null,
            "align_items": null,
            "align_self": null,
            "border": null,
            "bottom": null,
            "display": null,
            "flex": null,
            "flex_flow": null,
            "grid_area": null,
            "grid_auto_columns": null,
            "grid_auto_flow": null,
            "grid_auto_rows": null,
            "grid_column": null,
            "grid_gap": null,
            "grid_row": null,
            "grid_template_areas": null,
            "grid_template_columns": null,
            "grid_template_rows": null,
            "height": null,
            "justify_content": null,
            "justify_items": null,
            "left": null,
            "margin": null,
            "max_height": null,
            "max_width": null,
            "min_height": null,
            "min_width": null,
            "object_fit": null,
            "object_position": null,
            "order": null,
            "overflow": null,
            "overflow_x": null,
            "overflow_y": null,
            "padding": null,
            "right": null,
            "top": null,
            "visibility": null,
            "width": null
          }
        },
        "0c0e05d8bb8d497ba10bf0ef7d1437c0": {
          "model_module": "@jupyter-widgets/controls",
          "model_name": "DescriptionStyleModel",
          "model_module_version": "1.5.0",
          "state": {
            "_model_module": "@jupyter-widgets/controls",
            "_model_module_version": "1.5.0",
            "_model_name": "DescriptionStyleModel",
            "_view_count": null,
            "_view_module": "@jupyter-widgets/base",
            "_view_module_version": "1.2.0",
            "_view_name": "StyleView",
            "description_width": ""
          }
        },
        "3ce8defc24dd436c80242d1248e182cc": {
          "model_module": "@jupyter-widgets/controls",
          "model_name": "HBoxModel",
          "model_module_version": "1.5.0",
          "state": {
            "_dom_classes": [],
            "_model_module": "@jupyter-widgets/controls",
            "_model_module_version": "1.5.0",
            "_model_name": "HBoxModel",
            "_view_count": null,
            "_view_module": "@jupyter-widgets/controls",
            "_view_module_version": "1.5.0",
            "_view_name": "HBoxView",
            "box_style": "",
            "children": [
              "IPY_MODEL_0d16fe68793f402a9ba946dec53b3adf",
              "IPY_MODEL_80baba60e6b949b887d45aacf6c2bdb7",
              "IPY_MODEL_5043b59349e84ebe9ffe322247c0ba81"
            ],
            "layout": "IPY_MODEL_5f01ab94e384450ba3f11aceaac5600e"
          }
        },
        "0d16fe68793f402a9ba946dec53b3adf": {
          "model_module": "@jupyter-widgets/controls",
          "model_name": "HTMLModel",
          "model_module_version": "1.5.0",
          "state": {
            "_dom_classes": [],
            "_model_module": "@jupyter-widgets/controls",
            "_model_module_version": "1.5.0",
            "_model_name": "HTMLModel",
            "_view_count": null,
            "_view_module": "@jupyter-widgets/controls",
            "_view_module_version": "1.5.0",
            "_view_name": "HTMLView",
            "description": "",
            "description_tooltip": null,
            "layout": "IPY_MODEL_9354340d48cb4497aa8c70311af11dfe",
            "placeholder": "​",
            "style": "IPY_MODEL_fcfefcd0e91f410ca94d652f5b35bb89",
            "value": "Map: 100%"
          }
        },
        "80baba60e6b949b887d45aacf6c2bdb7": {
          "model_module": "@jupyter-widgets/controls",
          "model_name": "FloatProgressModel",
          "model_module_version": "1.5.0",
          "state": {
            "_dom_classes": [],
            "_model_module": "@jupyter-widgets/controls",
            "_model_module_version": "1.5.0",
            "_model_name": "FloatProgressModel",
            "_view_count": null,
            "_view_module": "@jupyter-widgets/controls",
            "_view_module_version": "1.5.0",
            "_view_name": "ProgressView",
            "bar_style": "",
            "description": "",
            "description_tooltip": null,
            "layout": "IPY_MODEL_c8ef96e6526e44d896a31639f056e242",
            "max": 927,
            "min": 0,
            "orientation": "horizontal",
            "style": "IPY_MODEL_c4cf1c74b45e49dfae5a953da72da8c6",
            "value": 927
          }
        },
        "5043b59349e84ebe9ffe322247c0ba81": {
          "model_module": "@jupyter-widgets/controls",
          "model_name": "HTMLModel",
          "model_module_version": "1.5.0",
          "state": {
            "_dom_classes": [],
            "_model_module": "@jupyter-widgets/controls",
            "_model_module_version": "1.5.0",
            "_model_name": "HTMLModel",
            "_view_count": null,
            "_view_module": "@jupyter-widgets/controls",
            "_view_module_version": "1.5.0",
            "_view_name": "HTMLView",
            "description": "",
            "description_tooltip": null,
            "layout": "IPY_MODEL_c81223351a71477aaeec9942475e8dc1",
            "placeholder": "​",
            "style": "IPY_MODEL_825bd350e750410d9a4f5cee58bb2492",
            "value": " 927/927 [00:06&lt;00:00, 138.26 examples/s]"
          }
        },
        "5f01ab94e384450ba3f11aceaac5600e": {
          "model_module": "@jupyter-widgets/base",
          "model_name": "LayoutModel",
          "model_module_version": "1.2.0",
          "state": {
            "_model_module": "@jupyter-widgets/base",
            "_model_module_version": "1.2.0",
            "_model_name": "LayoutModel",
            "_view_count": null,
            "_view_module": "@jupyter-widgets/base",
            "_view_module_version": "1.2.0",
            "_view_name": "LayoutView",
            "align_content": null,
            "align_items": null,
            "align_self": null,
            "border": null,
            "bottom": null,
            "display": null,
            "flex": null,
            "flex_flow": null,
            "grid_area": null,
            "grid_auto_columns": null,
            "grid_auto_flow": null,
            "grid_auto_rows": null,
            "grid_column": null,
            "grid_gap": null,
            "grid_row": null,
            "grid_template_areas": null,
            "grid_template_columns": null,
            "grid_template_rows": null,
            "height": null,
            "justify_content": null,
            "justify_items": null,
            "left": null,
            "margin": null,
            "max_height": null,
            "max_width": null,
            "min_height": null,
            "min_width": null,
            "object_fit": null,
            "object_position": null,
            "order": null,
            "overflow": null,
            "overflow_x": null,
            "overflow_y": null,
            "padding": null,
            "right": null,
            "top": null,
            "visibility": "hidden",
            "width": null
          }
        },
        "9354340d48cb4497aa8c70311af11dfe": {
          "model_module": "@jupyter-widgets/base",
          "model_name": "LayoutModel",
          "model_module_version": "1.2.0",
          "state": {
            "_model_module": "@jupyter-widgets/base",
            "_model_module_version": "1.2.0",
            "_model_name": "LayoutModel",
            "_view_count": null,
            "_view_module": "@jupyter-widgets/base",
            "_view_module_version": "1.2.0",
            "_view_name": "LayoutView",
            "align_content": null,
            "align_items": null,
            "align_self": null,
            "border": null,
            "bottom": null,
            "display": null,
            "flex": null,
            "flex_flow": null,
            "grid_area": null,
            "grid_auto_columns": null,
            "grid_auto_flow": null,
            "grid_auto_rows": null,
            "grid_column": null,
            "grid_gap": null,
            "grid_row": null,
            "grid_template_areas": null,
            "grid_template_columns": null,
            "grid_template_rows": null,
            "height": null,
            "justify_content": null,
            "justify_items": null,
            "left": null,
            "margin": null,
            "max_height": null,
            "max_width": null,
            "min_height": null,
            "min_width": null,
            "object_fit": null,
            "object_position": null,
            "order": null,
            "overflow": null,
            "overflow_x": null,
            "overflow_y": null,
            "padding": null,
            "right": null,
            "top": null,
            "visibility": null,
            "width": null
          }
        },
        "fcfefcd0e91f410ca94d652f5b35bb89": {
          "model_module": "@jupyter-widgets/controls",
          "model_name": "DescriptionStyleModel",
          "model_module_version": "1.5.0",
          "state": {
            "_model_module": "@jupyter-widgets/controls",
            "_model_module_version": "1.5.0",
            "_model_name": "DescriptionStyleModel",
            "_view_count": null,
            "_view_module": "@jupyter-widgets/base",
            "_view_module_version": "1.2.0",
            "_view_name": "StyleView",
            "description_width": ""
          }
        },
        "c8ef96e6526e44d896a31639f056e242": {
          "model_module": "@jupyter-widgets/base",
          "model_name": "LayoutModel",
          "model_module_version": "1.2.0",
          "state": {
            "_model_module": "@jupyter-widgets/base",
            "_model_module_version": "1.2.0",
            "_model_name": "LayoutModel",
            "_view_count": null,
            "_view_module": "@jupyter-widgets/base",
            "_view_module_version": "1.2.0",
            "_view_name": "LayoutView",
            "align_content": null,
            "align_items": null,
            "align_self": null,
            "border": null,
            "bottom": null,
            "display": null,
            "flex": null,
            "flex_flow": null,
            "grid_area": null,
            "grid_auto_columns": null,
            "grid_auto_flow": null,
            "grid_auto_rows": null,
            "grid_column": null,
            "grid_gap": null,
            "grid_row": null,
            "grid_template_areas": null,
            "grid_template_columns": null,
            "grid_template_rows": null,
            "height": null,
            "justify_content": null,
            "justify_items": null,
            "left": null,
            "margin": null,
            "max_height": null,
            "max_width": null,
            "min_height": null,
            "min_width": null,
            "object_fit": null,
            "object_position": null,
            "order": null,
            "overflow": null,
            "overflow_x": null,
            "overflow_y": null,
            "padding": null,
            "right": null,
            "top": null,
            "visibility": null,
            "width": null
          }
        },
        "c4cf1c74b45e49dfae5a953da72da8c6": {
          "model_module": "@jupyter-widgets/controls",
          "model_name": "ProgressStyleModel",
          "model_module_version": "1.5.0",
          "state": {
            "_model_module": "@jupyter-widgets/controls",
            "_model_module_version": "1.5.0",
            "_model_name": "ProgressStyleModel",
            "_view_count": null,
            "_view_module": "@jupyter-widgets/base",
            "_view_module_version": "1.2.0",
            "_view_name": "StyleView",
            "bar_color": null,
            "description_width": ""
          }
        },
        "c81223351a71477aaeec9942475e8dc1": {
          "model_module": "@jupyter-widgets/base",
          "model_name": "LayoutModel",
          "model_module_version": "1.2.0",
          "state": {
            "_model_module": "@jupyter-widgets/base",
            "_model_module_version": "1.2.0",
            "_model_name": "LayoutModel",
            "_view_count": null,
            "_view_module": "@jupyter-widgets/base",
            "_view_module_version": "1.2.0",
            "_view_name": "LayoutView",
            "align_content": null,
            "align_items": null,
            "align_self": null,
            "border": null,
            "bottom": null,
            "display": null,
            "flex": null,
            "flex_flow": null,
            "grid_area": null,
            "grid_auto_columns": null,
            "grid_auto_flow": null,
            "grid_auto_rows": null,
            "grid_column": null,
            "grid_gap": null,
            "grid_row": null,
            "grid_template_areas": null,
            "grid_template_columns": null,
            "grid_template_rows": null,
            "height": null,
            "justify_content": null,
            "justify_items": null,
            "left": null,
            "margin": null,
            "max_height": null,
            "max_width": null,
            "min_height": null,
            "min_width": null,
            "object_fit": null,
            "object_position": null,
            "order": null,
            "overflow": null,
            "overflow_x": null,
            "overflow_y": null,
            "padding": null,
            "right": null,
            "top": null,
            "visibility": null,
            "width": null
          }
        },
        "825bd350e750410d9a4f5cee58bb2492": {
          "model_module": "@jupyter-widgets/controls",
          "model_name": "DescriptionStyleModel",
          "model_module_version": "1.5.0",
          "state": {
            "_model_module": "@jupyter-widgets/controls",
            "_model_module_version": "1.5.0",
            "_model_name": "DescriptionStyleModel",
            "_view_count": null,
            "_view_module": "@jupyter-widgets/base",
            "_view_module_version": "1.2.0",
            "_view_name": "StyleView",
            "description_width": ""
          }
        }
      }
    }
  },
  "cells": [
    {
      "cell_type": "markdown",
      "source": [
        "# Extractive Summ with CNN"
      ],
      "metadata": {
        "id": "PQnRy7kQrnd2"
      }
    },
    {
      "cell_type": "markdown",
      "metadata": {
        "id": "TAZlLFfTWzfq"
      },
      "source": [
        "## Modules Required"
      ]
    },
    {
      "cell_type": "code",
      "source": [
        "!pip install rouge-score\n",
        "!pip install rouge"
      ],
      "metadata": {
        "id": "M61wE8raOnv_",
        "colab": {
          "base_uri": "https://localhost:8080/"
        },
        "outputId": "d46419ae-bbbe-4d42-f789-b05650457dc2"
      },
      "execution_count": null,
      "outputs": [
        {
          "output_type": "stream",
          "name": "stdout",
          "text": [
            "Collecting rouge-score\n",
            "  Downloading rouge_score-0.1.2.tar.gz (17 kB)\n",
            "  Preparing metadata (setup.py) ... \u001b[?25l\u001b[?25hdone\n",
            "Requirement already satisfied: absl-py in /usr/local/lib/python3.10/dist-packages (from rouge-score) (1.4.0)\n",
            "Requirement already satisfied: nltk in /usr/local/lib/python3.10/dist-packages (from rouge-score) (3.8.1)\n",
            "Requirement already satisfied: numpy in /usr/local/lib/python3.10/dist-packages (from rouge-score) (1.22.4)\n",
            "Requirement already satisfied: six>=1.14.0 in /usr/local/lib/python3.10/dist-packages (from rouge-score) (1.16.0)\n",
            "Requirement already satisfied: click in /usr/local/lib/python3.10/dist-packages (from nltk->rouge-score) (8.1.4)\n",
            "Requirement already satisfied: joblib in /usr/local/lib/python3.10/dist-packages (from nltk->rouge-score) (1.3.1)\n",
            "Requirement already satisfied: regex>=2021.8.3 in /usr/local/lib/python3.10/dist-packages (from nltk->rouge-score) (2022.10.31)\n",
            "Requirement already satisfied: tqdm in /usr/local/lib/python3.10/dist-packages (from nltk->rouge-score) (4.65.0)\n",
            "Building wheels for collected packages: rouge-score\n",
            "  Building wheel for rouge-score (setup.py) ... \u001b[?25l\u001b[?25hdone\n",
            "  Created wheel for rouge-score: filename=rouge_score-0.1.2-py3-none-any.whl size=24934 sha256=12d78064d3fd35aa3ead05cf6e9411c29625ee1e49605f6872ac010e1cb06072\n",
            "  Stored in directory: /root/.cache/pip/wheels/5f/dd/89/461065a73be61a532ff8599a28e9beef17985c9e9c31e541b4\n",
            "Successfully built rouge-score\n",
            "Installing collected packages: rouge-score\n",
            "Successfully installed rouge-score-0.1.2\n",
            "Collecting rouge\n",
            "  Downloading rouge-1.0.1-py3-none-any.whl (13 kB)\n",
            "Requirement already satisfied: six in /usr/local/lib/python3.10/dist-packages (from rouge) (1.16.0)\n",
            "Installing collected packages: rouge\n",
            "Successfully installed rouge-1.0.1\n"
          ]
        }
      ]
    },
    {
      "cell_type": "code",
      "source": [
        "!pip install transformers\n",
        "!pip install tensorflow"
      ],
      "metadata": {
        "id": "6UxFqDRnQyBy",
        "colab": {
          "base_uri": "https://localhost:8080/"
        },
        "outputId": "5de18bc4-7917-49ae-8de7-7c2b2471bdaf"
      },
      "execution_count": null,
      "outputs": [
        {
          "output_type": "stream",
          "name": "stdout",
          "text": [
            "Collecting transformers\n",
            "  Downloading transformers-4.31.0-py3-none-any.whl (7.4 MB)\n",
            "\u001b[2K     \u001b[90m━━━━━━━━━━━━━━━━━━━━━━━━━━━━━━━━━━━━━━━━\u001b[0m \u001b[32m7.4/7.4 MB\u001b[0m \u001b[31m31.3 MB/s\u001b[0m eta \u001b[36m0:00:00\u001b[0m\n",
            "\u001b[?25hRequirement already satisfied: filelock in /usr/local/lib/python3.10/dist-packages (from transformers) (3.12.2)\n",
            "Collecting huggingface-hub<1.0,>=0.14.1 (from transformers)\n",
            "  Downloading huggingface_hub-0.16.4-py3-none-any.whl (268 kB)\n",
            "\u001b[2K     \u001b[90m━━━━━━━━━━━━━━━━━━━━━━━━━━━━━━━━━━━━━━\u001b[0m \u001b[32m268.8/268.8 kB\u001b[0m \u001b[31m20.9 MB/s\u001b[0m eta \u001b[36m0:00:00\u001b[0m\n",
            "\u001b[?25hRequirement already satisfied: numpy>=1.17 in /usr/local/lib/python3.10/dist-packages (from transformers) (1.22.4)\n",
            "Requirement already satisfied: packaging>=20.0 in /usr/local/lib/python3.10/dist-packages (from transformers) (23.1)\n",
            "Requirement already satisfied: pyyaml>=5.1 in /usr/local/lib/python3.10/dist-packages (from transformers) (6.0)\n",
            "Requirement already satisfied: regex!=2019.12.17 in /usr/local/lib/python3.10/dist-packages (from transformers) (2022.10.31)\n",
            "Requirement already satisfied: requests in /usr/local/lib/python3.10/dist-packages (from transformers) (2.27.1)\n",
            "Collecting tokenizers!=0.11.3,<0.14,>=0.11.1 (from transformers)\n",
            "  Downloading tokenizers-0.13.3-cp310-cp310-manylinux_2_17_x86_64.manylinux2014_x86_64.whl (7.8 MB)\n",
            "\u001b[2K     \u001b[90m━━━━━━━━━━━━━━━━━━━━━━━━━━━━━━━━━━━━━━━━\u001b[0m \u001b[32m7.8/7.8 MB\u001b[0m \u001b[31m71.8 MB/s\u001b[0m eta \u001b[36m0:00:00\u001b[0m\n",
            "\u001b[?25hCollecting safetensors>=0.3.1 (from transformers)\n",
            "  Downloading safetensors-0.3.1-cp310-cp310-manylinux_2_17_x86_64.manylinux2014_x86_64.whl (1.3 MB)\n",
            "\u001b[2K     \u001b[90m━━━━━━━━━━━━━━━━━━━━━━━━━━━━━━━━━━━━━━━━\u001b[0m \u001b[32m1.3/1.3 MB\u001b[0m \u001b[31m76.3 MB/s\u001b[0m eta \u001b[36m0:00:00\u001b[0m\n",
            "\u001b[?25hRequirement already satisfied: tqdm>=4.27 in /usr/local/lib/python3.10/dist-packages (from transformers) (4.65.0)\n",
            "Requirement already satisfied: fsspec in /usr/local/lib/python3.10/dist-packages (from huggingface-hub<1.0,>=0.14.1->transformers) (2023.6.0)\n",
            "Requirement already satisfied: typing-extensions>=3.7.4.3 in /usr/local/lib/python3.10/dist-packages (from huggingface-hub<1.0,>=0.14.1->transformers) (4.7.1)\n",
            "Requirement already satisfied: urllib3<1.27,>=1.21.1 in /usr/local/lib/python3.10/dist-packages (from requests->transformers) (1.26.16)\n",
            "Requirement already satisfied: certifi>=2017.4.17 in /usr/local/lib/python3.10/dist-packages (from requests->transformers) (2023.5.7)\n",
            "Requirement already satisfied: charset-normalizer~=2.0.0 in /usr/local/lib/python3.10/dist-packages (from requests->transformers) (2.0.12)\n",
            "Requirement already satisfied: idna<4,>=2.5 in /usr/local/lib/python3.10/dist-packages (from requests->transformers) (3.4)\n",
            "Installing collected packages: tokenizers, safetensors, huggingface-hub, transformers\n",
            "Successfully installed huggingface-hub-0.16.4 safetensors-0.3.1 tokenizers-0.13.3 transformers-4.31.0\n",
            "Requirement already satisfied: tensorflow in /usr/local/lib/python3.10/dist-packages (2.12.0)\n",
            "Requirement already satisfied: absl-py>=1.0.0 in /usr/local/lib/python3.10/dist-packages (from tensorflow) (1.4.0)\n",
            "Requirement already satisfied: astunparse>=1.6.0 in /usr/local/lib/python3.10/dist-packages (from tensorflow) (1.6.3)\n",
            "Requirement already satisfied: flatbuffers>=2.0 in /usr/local/lib/python3.10/dist-packages (from tensorflow) (23.5.26)\n",
            "Requirement already satisfied: gast<=0.4.0,>=0.2.1 in /usr/local/lib/python3.10/dist-packages (from tensorflow) (0.4.0)\n",
            "Requirement already satisfied: google-pasta>=0.1.1 in /usr/local/lib/python3.10/dist-packages (from tensorflow) (0.2.0)\n",
            "Requirement already satisfied: grpcio<2.0,>=1.24.3 in /usr/local/lib/python3.10/dist-packages (from tensorflow) (1.56.0)\n",
            "Requirement already satisfied: h5py>=2.9.0 in /usr/local/lib/python3.10/dist-packages (from tensorflow) (3.8.0)\n",
            "Requirement already satisfied: jax>=0.3.15 in /usr/local/lib/python3.10/dist-packages (from tensorflow) (0.4.13)\n",
            "Requirement already satisfied: keras<2.13,>=2.12.0 in /usr/local/lib/python3.10/dist-packages (from tensorflow) (2.12.0)\n",
            "Requirement already satisfied: libclang>=13.0.0 in /usr/local/lib/python3.10/dist-packages (from tensorflow) (16.0.0)\n",
            "Requirement already satisfied: numpy<1.24,>=1.22 in /usr/local/lib/python3.10/dist-packages (from tensorflow) (1.22.4)\n",
            "Requirement already satisfied: opt-einsum>=2.3.2 in /usr/local/lib/python3.10/dist-packages (from tensorflow) (3.3.0)\n",
            "Requirement already satisfied: packaging in /usr/local/lib/python3.10/dist-packages (from tensorflow) (23.1)\n",
            "Requirement already satisfied: protobuf!=4.21.0,!=4.21.1,!=4.21.2,!=4.21.3,!=4.21.4,!=4.21.5,<5.0.0dev,>=3.20.3 in /usr/local/lib/python3.10/dist-packages (from tensorflow) (3.20.3)\n",
            "Requirement already satisfied: setuptools in /usr/local/lib/python3.10/dist-packages (from tensorflow) (67.7.2)\n",
            "Requirement already satisfied: six>=1.12.0 in /usr/local/lib/python3.10/dist-packages (from tensorflow) (1.16.0)\n",
            "Requirement already satisfied: tensorboard<2.13,>=2.12 in /usr/local/lib/python3.10/dist-packages (from tensorflow) (2.12.3)\n",
            "Requirement already satisfied: tensorflow-estimator<2.13,>=2.12.0 in /usr/local/lib/python3.10/dist-packages (from tensorflow) (2.12.0)\n",
            "Requirement already satisfied: termcolor>=1.1.0 in /usr/local/lib/python3.10/dist-packages (from tensorflow) (2.3.0)\n",
            "Requirement already satisfied: typing-extensions>=3.6.6 in /usr/local/lib/python3.10/dist-packages (from tensorflow) (4.7.1)\n",
            "Requirement already satisfied: wrapt<1.15,>=1.11.0 in /usr/local/lib/python3.10/dist-packages (from tensorflow) (1.14.1)\n",
            "Requirement already satisfied: tensorflow-io-gcs-filesystem>=0.23.1 in /usr/local/lib/python3.10/dist-packages (from tensorflow) (0.32.0)\n",
            "Requirement already satisfied: wheel<1.0,>=0.23.0 in /usr/local/lib/python3.10/dist-packages (from astunparse>=1.6.0->tensorflow) (0.40.0)\n",
            "Requirement already satisfied: ml-dtypes>=0.1.0 in /usr/local/lib/python3.10/dist-packages (from jax>=0.3.15->tensorflow) (0.2.0)\n",
            "Requirement already satisfied: scipy>=1.7 in /usr/local/lib/python3.10/dist-packages (from jax>=0.3.15->tensorflow) (1.10.1)\n",
            "Requirement already satisfied: google-auth<3,>=1.6.3 in /usr/local/lib/python3.10/dist-packages (from tensorboard<2.13,>=2.12->tensorflow) (2.17.3)\n",
            "Requirement already satisfied: google-auth-oauthlib<1.1,>=0.5 in /usr/local/lib/python3.10/dist-packages (from tensorboard<2.13,>=2.12->tensorflow) (1.0.0)\n",
            "Requirement already satisfied: markdown>=2.6.8 in /usr/local/lib/python3.10/dist-packages (from tensorboard<2.13,>=2.12->tensorflow) (3.4.3)\n",
            "Requirement already satisfied: requests<3,>=2.21.0 in /usr/local/lib/python3.10/dist-packages (from tensorboard<2.13,>=2.12->tensorflow) (2.27.1)\n",
            "Requirement already satisfied: tensorboard-data-server<0.8.0,>=0.7.0 in /usr/local/lib/python3.10/dist-packages (from tensorboard<2.13,>=2.12->tensorflow) (0.7.1)\n",
            "Requirement already satisfied: werkzeug>=1.0.1 in /usr/local/lib/python3.10/dist-packages (from tensorboard<2.13,>=2.12->tensorflow) (2.3.6)\n",
            "Requirement already satisfied: cachetools<6.0,>=2.0.0 in /usr/local/lib/python3.10/dist-packages (from google-auth<3,>=1.6.3->tensorboard<2.13,>=2.12->tensorflow) (5.3.1)\n",
            "Requirement already satisfied: pyasn1-modules>=0.2.1 in /usr/local/lib/python3.10/dist-packages (from google-auth<3,>=1.6.3->tensorboard<2.13,>=2.12->tensorflow) (0.3.0)\n",
            "Requirement already satisfied: rsa<5,>=3.1.4 in /usr/local/lib/python3.10/dist-packages (from google-auth<3,>=1.6.3->tensorboard<2.13,>=2.12->tensorflow) (4.9)\n",
            "Requirement already satisfied: requests-oauthlib>=0.7.0 in /usr/local/lib/python3.10/dist-packages (from google-auth-oauthlib<1.1,>=0.5->tensorboard<2.13,>=2.12->tensorflow) (1.3.1)\n",
            "Requirement already satisfied: urllib3<1.27,>=1.21.1 in /usr/local/lib/python3.10/dist-packages (from requests<3,>=2.21.0->tensorboard<2.13,>=2.12->tensorflow) (1.26.16)\n",
            "Requirement already satisfied: certifi>=2017.4.17 in /usr/local/lib/python3.10/dist-packages (from requests<3,>=2.21.0->tensorboard<2.13,>=2.12->tensorflow) (2023.5.7)\n",
            "Requirement already satisfied: charset-normalizer~=2.0.0 in /usr/local/lib/python3.10/dist-packages (from requests<3,>=2.21.0->tensorboard<2.13,>=2.12->tensorflow) (2.0.12)\n",
            "Requirement already satisfied: idna<4,>=2.5 in /usr/local/lib/python3.10/dist-packages (from requests<3,>=2.21.0->tensorboard<2.13,>=2.12->tensorflow) (3.4)\n",
            "Requirement already satisfied: MarkupSafe>=2.1.1 in /usr/local/lib/python3.10/dist-packages (from werkzeug>=1.0.1->tensorboard<2.13,>=2.12->tensorflow) (2.1.3)\n",
            "Requirement already satisfied: pyasn1<0.6.0,>=0.4.6 in /usr/local/lib/python3.10/dist-packages (from pyasn1-modules>=0.2.1->google-auth<3,>=1.6.3->tensorboard<2.13,>=2.12->tensorflow) (0.5.0)\n",
            "Requirement already satisfied: oauthlib>=3.0.0 in /usr/local/lib/python3.10/dist-packages (from requests-oauthlib>=0.7.0->google-auth-oauthlib<1.1,>=0.5->tensorboard<2.13,>=2.12->tensorflow) (3.2.2)\n"
          ]
        }
      ]
    },
    {
      "cell_type": "code",
      "source": [
        "!pip install datasets"
      ],
      "metadata": {
        "id": "tLvJpk0Lsi3p",
        "colab": {
          "base_uri": "https://localhost:8080/"
        },
        "outputId": "0cc3dadb-2b5a-4075-f50e-3033816edd49"
      },
      "execution_count": null,
      "outputs": [
        {
          "output_type": "stream",
          "name": "stdout",
          "text": [
            "Collecting datasets\n",
            "  Downloading datasets-2.13.1-py3-none-any.whl (486 kB)\n",
            "\u001b[2K     \u001b[90m━━━━━━━━━━━━━━━━━━━━━━━━━━━━━━━━━━━━━━━\u001b[0m \u001b[32m486.2/486.2 kB\u001b[0m \u001b[31m7.7 MB/s\u001b[0m eta \u001b[36m0:00:00\u001b[0m\n",
            "\u001b[?25hRequirement already satisfied: numpy>=1.17 in /usr/local/lib/python3.10/dist-packages (from datasets) (1.22.4)\n",
            "Requirement already satisfied: pyarrow>=8.0.0 in /usr/local/lib/python3.10/dist-packages (from datasets) (9.0.0)\n",
            "Collecting dill<0.3.7,>=0.3.0 (from datasets)\n",
            "  Downloading dill-0.3.6-py3-none-any.whl (110 kB)\n",
            "\u001b[2K     \u001b[90m━━━━━━━━━━━━━━━━━━━━━━━━━━━━━━━━━━━━━━\u001b[0m \u001b[32m110.5/110.5 kB\u001b[0m \u001b[31m14.9 MB/s\u001b[0m eta \u001b[36m0:00:00\u001b[0m\n",
            "\u001b[?25hRequirement already satisfied: pandas in /usr/local/lib/python3.10/dist-packages (from datasets) (1.5.3)\n",
            "Requirement already satisfied: requests>=2.19.0 in /usr/local/lib/python3.10/dist-packages (from datasets) (2.27.1)\n",
            "Requirement already satisfied: tqdm>=4.62.1 in /usr/local/lib/python3.10/dist-packages (from datasets) (4.65.0)\n",
            "Collecting xxhash (from datasets)\n",
            "  Downloading xxhash-3.2.0-cp310-cp310-manylinux_2_17_x86_64.manylinux2014_x86_64.whl (212 kB)\n",
            "\u001b[2K     \u001b[90m━━━━━━━━━━━━━━━━━━━━━━━━━━━━━━━━━━━━━━\u001b[0m \u001b[32m212.5/212.5 kB\u001b[0m \u001b[31m28.3 MB/s\u001b[0m eta \u001b[36m0:00:00\u001b[0m\n",
            "\u001b[?25hCollecting multiprocess (from datasets)\n",
            "  Downloading multiprocess-0.70.14-py310-none-any.whl (134 kB)\n",
            "\u001b[2K     \u001b[90m━━━━━━━━━━━━━━━━━━━━━━━━━━━━━━━━━━━━━━\u001b[0m \u001b[32m134.3/134.3 kB\u001b[0m \u001b[31m19.6 MB/s\u001b[0m eta \u001b[36m0:00:00\u001b[0m\n",
            "\u001b[?25hRequirement already satisfied: fsspec[http]>=2021.11.1 in /usr/local/lib/python3.10/dist-packages (from datasets) (2023.6.0)\n",
            "Requirement already satisfied: aiohttp in /usr/local/lib/python3.10/dist-packages (from datasets) (3.8.4)\n",
            "Requirement already satisfied: huggingface-hub<1.0.0,>=0.11.0 in /usr/local/lib/python3.10/dist-packages (from datasets) (0.16.4)\n",
            "Requirement already satisfied: packaging in /usr/local/lib/python3.10/dist-packages (from datasets) (23.1)\n",
            "Requirement already satisfied: pyyaml>=5.1 in /usr/local/lib/python3.10/dist-packages (from datasets) (6.0)\n",
            "Requirement already satisfied: attrs>=17.3.0 in /usr/local/lib/python3.10/dist-packages (from aiohttp->datasets) (23.1.0)\n",
            "Requirement already satisfied: charset-normalizer<4.0,>=2.0 in /usr/local/lib/python3.10/dist-packages (from aiohttp->datasets) (2.0.12)\n",
            "Requirement already satisfied: multidict<7.0,>=4.5 in /usr/local/lib/python3.10/dist-packages (from aiohttp->datasets) (6.0.4)\n",
            "Requirement already satisfied: async-timeout<5.0,>=4.0.0a3 in /usr/local/lib/python3.10/dist-packages (from aiohttp->datasets) (4.0.2)\n",
            "Requirement already satisfied: yarl<2.0,>=1.0 in /usr/local/lib/python3.10/dist-packages (from aiohttp->datasets) (1.9.2)\n",
            "Requirement already satisfied: frozenlist>=1.1.1 in /usr/local/lib/python3.10/dist-packages (from aiohttp->datasets) (1.4.0)\n",
            "Requirement already satisfied: aiosignal>=1.1.2 in /usr/local/lib/python3.10/dist-packages (from aiohttp->datasets) (1.3.1)\n",
            "Requirement already satisfied: filelock in /usr/local/lib/python3.10/dist-packages (from huggingface-hub<1.0.0,>=0.11.0->datasets) (3.12.2)\n",
            "Requirement already satisfied: typing-extensions>=3.7.4.3 in /usr/local/lib/python3.10/dist-packages (from huggingface-hub<1.0.0,>=0.11.0->datasets) (4.7.1)\n",
            "Requirement already satisfied: urllib3<1.27,>=1.21.1 in /usr/local/lib/python3.10/dist-packages (from requests>=2.19.0->datasets) (1.26.16)\n",
            "Requirement already satisfied: certifi>=2017.4.17 in /usr/local/lib/python3.10/dist-packages (from requests>=2.19.0->datasets) (2023.5.7)\n",
            "Requirement already satisfied: idna<4,>=2.5 in /usr/local/lib/python3.10/dist-packages (from requests>=2.19.0->datasets) (3.4)\n",
            "Requirement already satisfied: python-dateutil>=2.8.1 in /usr/local/lib/python3.10/dist-packages (from pandas->datasets) (2.8.2)\n",
            "Requirement already satisfied: pytz>=2020.1 in /usr/local/lib/python3.10/dist-packages (from pandas->datasets) (2022.7.1)\n",
            "Requirement already satisfied: six>=1.5 in /usr/local/lib/python3.10/dist-packages (from python-dateutil>=2.8.1->pandas->datasets) (1.16.0)\n",
            "Installing collected packages: xxhash, dill, multiprocess, datasets\n",
            "Successfully installed datasets-2.13.1 dill-0.3.6 multiprocess-0.70.14 xxhash-3.2.0\n"
          ]
        }
      ]
    },
    {
      "cell_type": "code",
      "source": [
        "import sys\n",
        "sys.path.insert(0, '../')\n",
        "import torch\n",
        "import nltk\n",
        "nltk.download('punkt')\n",
        "from rouge_score import rouge_scorer\n",
        "from sklearn.preprocessing import MinMaxScaler\n",
        "from rouge import Rouge\n",
        "import math\n",
        "import pandas as pd\n",
        "import numpy as np\n",
        "from tqdm import tqdm\n",
        "\n",
        "from transformers import BertTokenizer, TFBertModel\n",
        "from tensorflow import keras\n",
        "from tensorflow.keras.preprocessing.text import Tokenizer\n",
        "from tensorflow.keras.preprocessing.sequence import pad_sequences\n",
        "\n",
        "import tensorflow as tf\n",
        "from keras.models import Sequential\n",
        "from keras.layers.core import Dense, Dropout, Activation, Flatten\n",
        "from keras.layers import MaxPooling2D,concatenate,Lambda, AveragePooling2D\n",
        "from keras.layers.convolutional import Conv2D\n",
        "from keras import regularizers\n",
        "from keras.optimizers import Adadelta"
      ],
      "metadata": {
        "colab": {
          "base_uri": "https://localhost:8080/"
        },
        "id": "Y8wxgq8_Onyd",
        "outputId": "9d300f91-84dd-4cde-febf-ea608a4abac8"
      },
      "execution_count": null,
      "outputs": [
        {
          "output_type": "stream",
          "name": "stderr",
          "text": [
            "[nltk_data] Downloading package punkt to /root/nltk_data...\n",
            "[nltk_data]   Unzipping tokenizers/punkt.zip.\n"
          ]
        }
      ]
    },
    {
      "cell_type": "code",
      "source": [
        "!git clone https://github.com/yasithdev/capsnet.git"
      ],
      "metadata": {
        "colab": {
          "base_uri": "https://localhost:8080/"
        },
        "id": "PuuX1LMMAIBj",
        "outputId": "f93ed2fa-409c-44e9-c291-c7735e1156e4"
      },
      "execution_count": null,
      "outputs": [
        {
          "output_type": "stream",
          "name": "stdout",
          "text": [
            "Cloning into 'capsnet'...\n",
            "remote: Enumerating objects: 444, done.\u001b[K\n",
            "remote: Counting objects: 100% (10/10), done.\u001b[K\n",
            "remote: Compressing objects: 100% (10/10), done.\u001b[K\n",
            "remote: Total 444 (delta 3), reused 0 (delta 0), pack-reused 434\u001b[K\n",
            "Receiving objects: 100% (444/444), 104.92 MiB | 17.84 MiB/s, done.\n",
            "Resolving deltas: 100% (280/280), done.\n"
          ]
        }
      ]
    },
    {
      "cell_type": "code",
      "source": [
        "cd capsnet"
      ],
      "metadata": {
        "colab": {
          "base_uri": "https://localhost:8080/"
        },
        "id": "fOQ_tQuyBFxs",
        "outputId": "a7cb8f76-48f9-46aa-966e-0881561ec416"
      },
      "execution_count": null,
      "outputs": [
        {
          "output_type": "stream",
          "name": "stdout",
          "text": [
            "/content/capsnet\n"
          ]
        }
      ]
    },
    {
      "cell_type": "code",
      "source": [
        "from capsnet import nn, layers\n",
        "from capsnet.layers import ConvCaps2D, DenseCaps"
      ],
      "metadata": {
        "id": "AdPx8bEQBHgf"
      },
      "execution_count": null,
      "outputs": []
    },
    {
      "cell_type": "markdown",
      "metadata": {
        "id": "luqBI7svWzfr"
      },
      "source": [
        "## Getting the data"
      ]
    },
    {
      "cell_type": "code",
      "source": [
        "train=pd.read_csv(\"/content/training.csv\")\n",
        "valid=pd.read_csv(\"/content/validation.csv\")\n",
        "test=pd.read_csv(\"/content/test.csv\")"
      ],
      "metadata": {
        "id": "_za_s0iWOste"
      },
      "execution_count": null,
      "outputs": []
    },
    {
      "cell_type": "code",
      "source": [
        "train.dropna(inplace=True)\n",
        "valid.dropna(inplace=True)\n",
        "test.dropna(inplace=True)"
      ],
      "metadata": {
        "id": "JQco4B8XReVl"
      },
      "execution_count": null,
      "outputs": []
    },
    {
      "cell_type": "code",
      "source": [
        "train_source = train['article'].values.tolist()\n",
        "train_summary = train['highlights'].values.tolist()\n",
        "print(\"train file read successfully\")\n",
        "valid_source = valid['article'].values.tolist()\n",
        "valid_summary = valid['highlights'].values.tolist()\n",
        "print(\"valid file read successfully\")\n",
        "data_source = train_source+valid_source\n",
        "data_summary = train_summary+valid_summary"
      ],
      "metadata": {
        "colab": {
          "base_uri": "https://localhost:8080/"
        },
        "id": "mADXx4LhOsvr",
        "outputId": "564061d7-fe27-4fbf-c942-0ef49ce2bb2a"
      },
      "execution_count": null,
      "outputs": [
        {
          "output_type": "stream",
          "name": "stdout",
          "text": [
            "train file read successfully\n",
            "valid file read successfully\n"
          ]
        }
      ]
    },
    {
      "cell_type": "markdown",
      "metadata": {
        "id": "hh-8PbtRWzft"
      },
      "source": [
        "## Calculating Saliency score for each sentence with its summary"
      ]
    },
    {
      "cell_type": "code",
      "source": [
        "def saliency_score(doc, summary, alpha=0.5):\n",
        "  # takes in two inputs and returns the saliency score\n",
        "  scorer = rouge_scorer.RougeScorer(['rouge1', 'rouge2'], use_stemmer=True)\n",
        "  scores = scorer.score(doc, summary)\n",
        "  R1 = scores['rouge1'][2]\n",
        "  R2 = scores['rouge2'][2]\n",
        "\n",
        "  return alpha * R1 + (1 - alpha) * R2\n",
        "\n",
        "def split_to_sentences(para):\n",
        "    sents = nltk.sent_tokenize(para)   # returns list of sentences from para\n",
        "    return sents"
      ],
      "metadata": {
        "id": "yAZ3P5PQOsxw"
      },
      "execution_count": null,
      "outputs": []
    },
    {
      "cell_type": "code",
      "source": [
        "input_data = [[],[],[],[],[],[]]  # [docid, sentid, sentences, length of sentence, length of summary, saliency scores]\n",
        "total_sentences_doc = []\n",
        "total_sentences_summary = []\n",
        "for i in tqdm(range(len(data_source))):\n",
        "  splitted_doc = split_to_sentences(data_source[i])\n",
        "  total_sentences_doc.append(len(splitted_doc))\n",
        "  doc_sents = []\n",
        "  for ind in range(len(splitted_doc)):\n",
        "    if len(splitted_doc[ind].split())>5:\n",
        "      doc_sents.append(splitted_doc[ind])\n",
        "  summary = data_summary[i]\n",
        "  total_sentences_summary.append(len(split_to_sentences(summary)))\n",
        "  saliency_list = []\n",
        "  for sent in doc_sents:\n",
        "    saliency_list.append(saliency_score(sent, summary))\n",
        "  saliency_list = np.array(saliency_list)\n",
        "  mms = MinMaxScaler()\n",
        "  if len(saliency_list)>0:  # to avoide this error: Found array with 0 sample(s) (shape=(0, 1)) while a minimum of 1 is required by MinMaxScaler.\n",
        "    scaled_saliency_list = mms.fit_transform(saliency_list.reshape(-1,1))\n",
        "    for j in range(len(doc_sents)):\n",
        "      len_sent = len(doc_sents[j].split())\n",
        "      input_data[0].append(i)\n",
        "      input_data[1].append(j)\n",
        "      input_data[2].append(doc_sents[j])\n",
        "      input_data[3].append(len_sent)\n",
        "      input_data[4].append(len(split_to_sentences(summary)))\n",
        "      input_data[5].append(scaled_saliency_list[j][0])"
      ],
      "metadata": {
        "id": "PjVOTXejOs1K",
        "colab": {
          "base_uri": "https://localhost:8080/"
        },
        "outputId": "18afc45c-d7a0-49df-c96a-db81e9100410"
      },
      "execution_count": null,
      "outputs": [
        {
          "output_type": "stream",
          "name": "stderr",
          "text": [
            "100%|██████████| 29/29 [00:01<00:00, 23.02it/s]\n"
          ]
        }
      ]
    },
    {
      "cell_type": "code",
      "source": [
        "avg_sent_per_doc = sum(total_sentences_doc)/len(data_source)\n",
        "avg_sent_per_sum = sum(total_sentences_summary)/len(data_summary)\n",
        "longest_sent = max(total_sentences_doc)\n",
        "\n",
        "print('Average sentences per doc: ',avg_sent_per_doc)\n",
        "print('Average sentences per summary: ',avg_sent_per_sum)\n",
        "print('Longest sentence in doc:', longest_sent)"
      ],
      "metadata": {
        "colab": {
          "base_uri": "https://localhost:8080/"
        },
        "id": "-gp76NB2PBDX",
        "outputId": "147bebe7-afb9-47f4-8b8a-c93291d6eacb"
      },
      "execution_count": null,
      "outputs": [
        {
          "output_type": "stream",
          "name": "stdout",
          "text": [
            "Average sentences per doc:  36.827586206896555\n",
            "Average sentences per summary:  3.9310344827586206\n",
            "Longest sentence in doc: 83\n"
          ]
        }
      ]
    },
    {
      "cell_type": "code",
      "source": [
        "df = pd.DataFrame({'doc_id':input_data[0],'sent_id':input_data[1],'Sentence':input_data[2],'Sentence Length':input_data[3], 'Summary Length':input_data[4], 'Saliency Score':input_data[5]})\n",
        "\n",
        "df.head()"
      ],
      "metadata": {
        "colab": {
          "base_uri": "https://localhost:8080/",
          "height": 206
        },
        "id": "x2P-6Umv3gvE",
        "outputId": "48f1bf8b-d964-41cd-b8c3-2842c4742559"
      },
      "execution_count": null,
      "outputs": [
        {
          "output_type": "execute_result",
          "data": {
            "text/plain": [
              "   doc_id  sent_id                                           Sentence  \\\n",
              "0       0        0                       14:11 EST, 25 October 2013 .   \n",
              "1       0        1                       15:36 EST, 25 October 2013 .   \n",
              "2       0        2  The bishop of the Fargo Catholic Diocese in No...   \n",
              "3       0        3  The state Health Department has issued an advi...   \n",
              "4       0        4  Bishop John Folda (pictured) of the Fargo Cath...   \n",
              "\n",
              "   Sentence Length  Summary Length  Saliency Score  \n",
              "0                6               3        0.000000  \n",
              "1                6               3        0.000000  \n",
              "2               34               3        0.787966  \n",
              "3               19               3        0.173988  \n",
              "4               30               3        1.000000  "
            ],
            "text/html": [
              "\n",
              "\n",
              "  <div id=\"df-b93a9387-7672-4fec-9bb6-06a937ddf036\">\n",
              "    <div class=\"colab-df-container\">\n",
              "      <div>\n",
              "<style scoped>\n",
              "    .dataframe tbody tr th:only-of-type {\n",
              "        vertical-align: middle;\n",
              "    }\n",
              "\n",
              "    .dataframe tbody tr th {\n",
              "        vertical-align: top;\n",
              "    }\n",
              "\n",
              "    .dataframe thead th {\n",
              "        text-align: right;\n",
              "    }\n",
              "</style>\n",
              "<table border=\"1\" class=\"dataframe\">\n",
              "  <thead>\n",
              "    <tr style=\"text-align: right;\">\n",
              "      <th></th>\n",
              "      <th>doc_id</th>\n",
              "      <th>sent_id</th>\n",
              "      <th>Sentence</th>\n",
              "      <th>Sentence Length</th>\n",
              "      <th>Summary Length</th>\n",
              "      <th>Saliency Score</th>\n",
              "    </tr>\n",
              "  </thead>\n",
              "  <tbody>\n",
              "    <tr>\n",
              "      <th>0</th>\n",
              "      <td>0</td>\n",
              "      <td>0</td>\n",
              "      <td>14:11 EST, 25 October 2013 .</td>\n",
              "      <td>6</td>\n",
              "      <td>3</td>\n",
              "      <td>0.000000</td>\n",
              "    </tr>\n",
              "    <tr>\n",
              "      <th>1</th>\n",
              "      <td>0</td>\n",
              "      <td>1</td>\n",
              "      <td>15:36 EST, 25 October 2013 .</td>\n",
              "      <td>6</td>\n",
              "      <td>3</td>\n",
              "      <td>0.000000</td>\n",
              "    </tr>\n",
              "    <tr>\n",
              "      <th>2</th>\n",
              "      <td>0</td>\n",
              "      <td>2</td>\n",
              "      <td>The bishop of the Fargo Catholic Diocese in No...</td>\n",
              "      <td>34</td>\n",
              "      <td>3</td>\n",
              "      <td>0.787966</td>\n",
              "    </tr>\n",
              "    <tr>\n",
              "      <th>3</th>\n",
              "      <td>0</td>\n",
              "      <td>3</td>\n",
              "      <td>The state Health Department has issued an advi...</td>\n",
              "      <td>19</td>\n",
              "      <td>3</td>\n",
              "      <td>0.173988</td>\n",
              "    </tr>\n",
              "    <tr>\n",
              "      <th>4</th>\n",
              "      <td>0</td>\n",
              "      <td>4</td>\n",
              "      <td>Bishop John Folda (pictured) of the Fargo Cath...</td>\n",
              "      <td>30</td>\n",
              "      <td>3</td>\n",
              "      <td>1.000000</td>\n",
              "    </tr>\n",
              "  </tbody>\n",
              "</table>\n",
              "</div>\n",
              "      <button class=\"colab-df-convert\" onclick=\"convertToInteractive('df-b93a9387-7672-4fec-9bb6-06a937ddf036')\"\n",
              "              title=\"Convert this dataframe to an interactive table.\"\n",
              "              style=\"display:none;\">\n",
              "\n",
              "  <svg xmlns=\"http://www.w3.org/2000/svg\" height=\"24px\"viewBox=\"0 0 24 24\"\n",
              "       width=\"24px\">\n",
              "    <path d=\"M0 0h24v24H0V0z\" fill=\"none\"/>\n",
              "    <path d=\"M18.56 5.44l.94 2.06.94-2.06 2.06-.94-2.06-.94-.94-2.06-.94 2.06-2.06.94zm-11 1L8.5 8.5l.94-2.06 2.06-.94-2.06-.94L8.5 2.5l-.94 2.06-2.06.94zm10 10l.94 2.06.94-2.06 2.06-.94-2.06-.94-.94-2.06-.94 2.06-2.06.94z\"/><path d=\"M17.41 7.96l-1.37-1.37c-.4-.4-.92-.59-1.43-.59-.52 0-1.04.2-1.43.59L10.3 9.45l-7.72 7.72c-.78.78-.78 2.05 0 2.83L4 21.41c.39.39.9.59 1.41.59.51 0 1.02-.2 1.41-.59l7.78-7.78 2.81-2.81c.8-.78.8-2.07 0-2.86zM5.41 20L4 18.59l7.72-7.72 1.47 1.35L5.41 20z\"/>\n",
              "  </svg>\n",
              "      </button>\n",
              "\n",
              "\n",
              "\n",
              "    <div id=\"df-e77369ca-ca1c-4382-a865-d5103e0a773d\">\n",
              "      <button class=\"colab-df-quickchart\" onclick=\"quickchart('df-e77369ca-ca1c-4382-a865-d5103e0a773d')\"\n",
              "              title=\"Suggest charts.\"\n",
              "              style=\"display:none;\">\n",
              "\n",
              "<svg xmlns=\"http://www.w3.org/2000/svg\" height=\"24px\"viewBox=\"0 0 24 24\"\n",
              "     width=\"24px\">\n",
              "    <g>\n",
              "        <path d=\"M19 3H5c-1.1 0-2 .9-2 2v14c0 1.1.9 2 2 2h14c1.1 0 2-.9 2-2V5c0-1.1-.9-2-2-2zM9 17H7v-7h2v7zm4 0h-2V7h2v10zm4 0h-2v-4h2v4z\"/>\n",
              "    </g>\n",
              "</svg>\n",
              "      </button>\n",
              "    </div>\n",
              "\n",
              "<style>\n",
              "  .colab-df-quickchart {\n",
              "    background-color: #E8F0FE;\n",
              "    border: none;\n",
              "    border-radius: 50%;\n",
              "    cursor: pointer;\n",
              "    display: none;\n",
              "    fill: #1967D2;\n",
              "    height: 32px;\n",
              "    padding: 0 0 0 0;\n",
              "    width: 32px;\n",
              "  }\n",
              "\n",
              "  .colab-df-quickchart:hover {\n",
              "    background-color: #E2EBFA;\n",
              "    box-shadow: 0px 1px 2px rgba(60, 64, 67, 0.3), 0px 1px 3px 1px rgba(60, 64, 67, 0.15);\n",
              "    fill: #174EA6;\n",
              "  }\n",
              "\n",
              "  [theme=dark] .colab-df-quickchart {\n",
              "    background-color: #3B4455;\n",
              "    fill: #D2E3FC;\n",
              "  }\n",
              "\n",
              "  [theme=dark] .colab-df-quickchart:hover {\n",
              "    background-color: #434B5C;\n",
              "    box-shadow: 0px 1px 3px 1px rgba(0, 0, 0, 0.15);\n",
              "    filter: drop-shadow(0px 1px 2px rgba(0, 0, 0, 0.3));\n",
              "    fill: #FFFFFF;\n",
              "  }\n",
              "</style>\n",
              "\n",
              "    <script>\n",
              "      async function quickchart(key) {\n",
              "        const containerElement = document.querySelector('#' + key);\n",
              "        const charts = await google.colab.kernel.invokeFunction(\n",
              "            'suggestCharts', [key], {});\n",
              "      }\n",
              "    </script>\n",
              "\n",
              "      <script>\n",
              "\n",
              "function displayQuickchartButton(domScope) {\n",
              "  let quickchartButtonEl =\n",
              "    domScope.querySelector('#df-e77369ca-ca1c-4382-a865-d5103e0a773d button.colab-df-quickchart');\n",
              "  quickchartButtonEl.style.display =\n",
              "    google.colab.kernel.accessAllowed ? 'block' : 'none';\n",
              "}\n",
              "\n",
              "        displayQuickchartButton(document);\n",
              "      </script>\n",
              "      <style>\n",
              "    .colab-df-container {\n",
              "      display:flex;\n",
              "      flex-wrap:wrap;\n",
              "      gap: 12px;\n",
              "    }\n",
              "\n",
              "    .colab-df-convert {\n",
              "      background-color: #E8F0FE;\n",
              "      border: none;\n",
              "      border-radius: 50%;\n",
              "      cursor: pointer;\n",
              "      display: none;\n",
              "      fill: #1967D2;\n",
              "      height: 32px;\n",
              "      padding: 0 0 0 0;\n",
              "      width: 32px;\n",
              "    }\n",
              "\n",
              "    .colab-df-convert:hover {\n",
              "      background-color: #E2EBFA;\n",
              "      box-shadow: 0px 1px 2px rgba(60, 64, 67, 0.3), 0px 1px 3px 1px rgba(60, 64, 67, 0.15);\n",
              "      fill: #174EA6;\n",
              "    }\n",
              "\n",
              "    [theme=dark] .colab-df-convert {\n",
              "      background-color: #3B4455;\n",
              "      fill: #D2E3FC;\n",
              "    }\n",
              "\n",
              "    [theme=dark] .colab-df-convert:hover {\n",
              "      background-color: #434B5C;\n",
              "      box-shadow: 0px 1px 3px 1px rgba(0, 0, 0, 0.15);\n",
              "      filter: drop-shadow(0px 1px 2px rgba(0, 0, 0, 0.3));\n",
              "      fill: #FFFFFF;\n",
              "    }\n",
              "  </style>\n",
              "\n",
              "      <script>\n",
              "        const buttonEl =\n",
              "          document.querySelector('#df-b93a9387-7672-4fec-9bb6-06a937ddf036 button.colab-df-convert');\n",
              "        buttonEl.style.display =\n",
              "          google.colab.kernel.accessAllowed ? 'block' : 'none';\n",
              "\n",
              "        async function convertToInteractive(key) {\n",
              "          const element = document.querySelector('#df-b93a9387-7672-4fec-9bb6-06a937ddf036');\n",
              "          const dataTable =\n",
              "            await google.colab.kernel.invokeFunction('convertToInteractive',\n",
              "                                                     [key], {});\n",
              "          if (!dataTable) return;\n",
              "\n",
              "          const docLinkHtml = 'Like what you see? Visit the ' +\n",
              "            '<a target=\"_blank\" href=https://colab.research.google.com/notebooks/data_table.ipynb>data table notebook</a>'\n",
              "            + ' to learn more about interactive tables.';\n",
              "          element.innerHTML = '';\n",
              "          dataTable['output_type'] = 'display_data';\n",
              "          await google.colab.output.renderOutput(dataTable, element);\n",
              "          const docLink = document.createElement('div');\n",
              "          docLink.innerHTML = docLinkHtml;\n",
              "          element.appendChild(docLink);\n",
              "        }\n",
              "      </script>\n",
              "    </div>\n",
              "  </div>\n"
            ]
          },
          "metadata": {},
          "execution_count": 14
        }
      ]
    },
    {
      "cell_type": "code",
      "source": [
        "df.dtypes"
      ],
      "metadata": {
        "colab": {
          "base_uri": "https://localhost:8080/"
        },
        "id": "Ua3eXmiEfdZP",
        "outputId": "b96038e8-500c-493d-87cd-27ce16bc29d6"
      },
      "execution_count": null,
      "outputs": [
        {
          "output_type": "execute_result",
          "data": {
            "text/plain": [
              "doc_id               int64\n",
              "sent_id              int64\n",
              "Sentence            object\n",
              "Sentence Length      int64\n",
              "Summary Length       int64\n",
              "Saliency Score     float64\n",
              "dtype: object"
            ]
          },
          "metadata": {},
          "execution_count": 15
        }
      ]
    },
    {
      "cell_type": "code",
      "source": [
        "df.shape"
      ],
      "metadata": {
        "colab": {
          "base_uri": "https://localhost:8080/"
        },
        "id": "DpbJXDYHuCtS",
        "outputId": "09a591cd-46ad-494d-fc42-d58a5fd7febd"
      },
      "execution_count": null,
      "outputs": [
        {
          "output_type": "execute_result",
          "data": {
            "text/plain": [
              "(937, 6)"
            ]
          },
          "metadata": {},
          "execution_count": 16
        }
      ]
    },
    {
      "cell_type": "code",
      "source": [
        "df.to_csv('saliency_sentences.csv')"
      ],
      "metadata": {
        "id": "wixKSVCyPBIK"
      },
      "execution_count": null,
      "outputs": []
    },
    {
      "cell_type": "markdown",
      "source": [
        "## Generate word embeddings for each sentence in doc"
      ],
      "metadata": {
        "id": "NO6hSv3G_QHl"
      }
    },
    {
      "cell_type": "code",
      "source": [
        "tokenizer = BertTokenizer.from_pretrained('bert-base-cased')   # distilbert-base-uncased\n",
        "enc_model = TFBertModel.from_pretrained(\"bert-base-cased\")"
      ],
      "metadata": {
        "colab": {
          "base_uri": "https://localhost:8080/",
          "height": 252,
          "referenced_widgets": [
            "4f413379590944caa255af69c79b106e",
            "ef398e85adad4a359e91bcbcc7aea469",
            "054e3ee8f73148ca83d0dfd3944d7762",
            "13de1734e6b9438f9aeb60ba060a7001",
            "774b9b491c2b4d85a81eda07163b48b5",
            "0c87a44469b841a9b4b1eb76b48d50bd",
            "d81363c4d7594ef0bbe422558207adb5",
            "8850d06368a44c1184b3af53c978c467",
            "c7398020e4b04821b4be00570dfb4d4f",
            "9e24135beed74ac5863205550b3e5b98",
            "1363e7d9341c4b52a2fe4f9189ffb820",
            "ce7630296b9e438fbdf4574d0966f2f7",
            "52d9194b55a24ed49176dccddf5ce625",
            "374136eebaf948d8af1be35c44d3d4d8",
            "71ec447173884f93950f718a757f2e2a",
            "4ba150d3e2aa42eaa7967c220add7ffd",
            "2acde689de8c48508bd46cc4eef0ffd8",
            "c82fbc11b79940f4a2613631d5575ab0",
            "766c06e0b8c34f8a8f748b6d3106bbb8",
            "f435358a0b9345f0a0fadb1ec550ba2a",
            "05edfee9f1e34093a12bd90c962bb522",
            "dfb47449f0b94e2a8475aa0884b87294",
            "57bd7ecb0450499e8aadb92c0aa67c75",
            "230d70cc66ce45cebba1aa1827730392",
            "41aff6b440304fe1a68f82a4709f4fc4",
            "2e5f5ec2cde94bcfaaab47305b764b6b",
            "47a2f4812ad94740a042647fa9e2b424",
            "3a35fdc8f46042afa984784c2e5bb494",
            "71b8e9bff72b4ba58dda1aff73db4874",
            "48d734284f554838aabd683dc8c07699",
            "6baacca60d094949b88b36aaee8630b6",
            "80aad09646334f10a9c231875b05d57b",
            "f0f11cebccf34ae49d35e94cc2abb0dd",
            "79648514f3fa47fbb0cf19c018ff72d3",
            "c15a80e87b7b4307ab833624b91c33c0",
            "b7aa32f55bc14eff9f97e2dcaffc22c5",
            "3e670773dcd94a68a9ccd124a9ced9e1",
            "2f1244a658a74e3594ab22d353749142",
            "1c04a8fb06334679aa1e154dc7abdb15",
            "abd1bdf0e74a41f89b9361280a5418c4",
            "c48f28fe7bb442078f1e8b0d56c8a114",
            "a2f49776bf0040808947392cb547b76c",
            "25e629cac0424e60a16029eda974dabc",
            "0c0e05d8bb8d497ba10bf0ef7d1437c0"
          ]
        },
        "id": "XpSQz_K7_Qgc",
        "outputId": "22647cf3-e67e-4cbb-a2a9-a47c6c7c3d46"
      },
      "execution_count": null,
      "outputs": [
        {
          "output_type": "display_data",
          "data": {
            "text/plain": [
              "Downloading (…)solve/main/vocab.txt:   0%|          | 0.00/213k [00:00<?, ?B/s]"
            ],
            "application/vnd.jupyter.widget-view+json": {
              "version_major": 2,
              "version_minor": 0,
              "model_id": "4f413379590944caa255af69c79b106e"
            }
          },
          "metadata": {}
        },
        {
          "output_type": "display_data",
          "data": {
            "text/plain": [
              "Downloading (…)okenizer_config.json:   0%|          | 0.00/29.0 [00:00<?, ?B/s]"
            ],
            "application/vnd.jupyter.widget-view+json": {
              "version_major": 2,
              "version_minor": 0,
              "model_id": "ce7630296b9e438fbdf4574d0966f2f7"
            }
          },
          "metadata": {}
        },
        {
          "output_type": "display_data",
          "data": {
            "text/plain": [
              "Downloading (…)lve/main/config.json:   0%|          | 0.00/570 [00:00<?, ?B/s]"
            ],
            "application/vnd.jupyter.widget-view+json": {
              "version_major": 2,
              "version_minor": 0,
              "model_id": "57bd7ecb0450499e8aadb92c0aa67c75"
            }
          },
          "metadata": {}
        },
        {
          "output_type": "display_data",
          "data": {
            "text/plain": [
              "Downloading model.safetensors:   0%|          | 0.00/436M [00:00<?, ?B/s]"
            ],
            "application/vnd.jupyter.widget-view+json": {
              "version_major": 2,
              "version_minor": 0,
              "model_id": "79648514f3fa47fbb0cf19c018ff72d3"
            }
          },
          "metadata": {}
        },
        {
          "output_type": "stream",
          "name": "stderr",
          "text": [
            "Some weights of the PyTorch model were not used when initializing the TF 2.0 model TFBertModel: ['cls.predictions.transform.dense.bias', 'cls.predictions.bias', 'cls.seq_relationship.bias', 'cls.predictions.transform.LayerNorm.weight', 'cls.predictions.transform.dense.weight', 'cls.seq_relationship.weight', 'cls.predictions.transform.LayerNorm.bias']\n",
            "- This IS expected if you are initializing TFBertModel from a PyTorch model trained on another task or with another architecture (e.g. initializing a TFBertForSequenceClassification model from a BertForPreTraining model).\n",
            "- This IS NOT expected if you are initializing TFBertModel from a PyTorch model that you expect to be exactly identical (e.g. initializing a TFBertForSequenceClassification model from a BertForSequenceClassification model).\n",
            "All the weights of TFBertModel were initialized from the PyTorch model.\n",
            "If your task is similar to the task the model of the checkpoint was trained on, you can already use TFBertModel for predictions without further training.\n"
          ]
        }
      ]
    },
    {
      "cell_type": "markdown",
      "source": [
        "### Removing sentences with more than 76 tokens and storing in df - saliency_sentences_76"
      ],
      "metadata": {
        "id": "CkzvXvBtRHuO"
      }
    },
    {
      "cell_type": "code",
      "source": [
        "saliency_sentences = pd.read_csv('saliency_sentences.csv',  usecols=['Sentence','Saliency Score'])\n",
        "\n",
        "saliency_sentences.head()"
      ],
      "metadata": {
        "colab": {
          "base_uri": "https://localhost:8080/",
          "height": 206
        },
        "id": "Xl7oyPlz_Qi_",
        "outputId": "9151f58c-7112-4ccc-b3c5-0a56e9f01c12"
      },
      "execution_count": null,
      "outputs": [
        {
          "output_type": "execute_result",
          "data": {
            "text/plain": [
              "                                            Sentence  Saliency Score\n",
              "0                       14:11 EST, 25 October 2013 .        0.000000\n",
              "1                       15:36 EST, 25 October 2013 .        0.000000\n",
              "2  The bishop of the Fargo Catholic Diocese in No...        0.787966\n",
              "3  The state Health Department has issued an advi...        0.173988\n",
              "4  Bishop John Folda (pictured) of the Fargo Cath...        1.000000"
            ],
            "text/html": [
              "\n",
              "\n",
              "  <div id=\"df-3f5bd1f1-f543-405b-a0b0-9e6576ea979c\">\n",
              "    <div class=\"colab-df-container\">\n",
              "      <div>\n",
              "<style scoped>\n",
              "    .dataframe tbody tr th:only-of-type {\n",
              "        vertical-align: middle;\n",
              "    }\n",
              "\n",
              "    .dataframe tbody tr th {\n",
              "        vertical-align: top;\n",
              "    }\n",
              "\n",
              "    .dataframe thead th {\n",
              "        text-align: right;\n",
              "    }\n",
              "</style>\n",
              "<table border=\"1\" class=\"dataframe\">\n",
              "  <thead>\n",
              "    <tr style=\"text-align: right;\">\n",
              "      <th></th>\n",
              "      <th>Sentence</th>\n",
              "      <th>Saliency Score</th>\n",
              "    </tr>\n",
              "  </thead>\n",
              "  <tbody>\n",
              "    <tr>\n",
              "      <th>0</th>\n",
              "      <td>14:11 EST, 25 October 2013 .</td>\n",
              "      <td>0.000000</td>\n",
              "    </tr>\n",
              "    <tr>\n",
              "      <th>1</th>\n",
              "      <td>15:36 EST, 25 October 2013 .</td>\n",
              "      <td>0.000000</td>\n",
              "    </tr>\n",
              "    <tr>\n",
              "      <th>2</th>\n",
              "      <td>The bishop of the Fargo Catholic Diocese in No...</td>\n",
              "      <td>0.787966</td>\n",
              "    </tr>\n",
              "    <tr>\n",
              "      <th>3</th>\n",
              "      <td>The state Health Department has issued an advi...</td>\n",
              "      <td>0.173988</td>\n",
              "    </tr>\n",
              "    <tr>\n",
              "      <th>4</th>\n",
              "      <td>Bishop John Folda (pictured) of the Fargo Cath...</td>\n",
              "      <td>1.000000</td>\n",
              "    </tr>\n",
              "  </tbody>\n",
              "</table>\n",
              "</div>\n",
              "      <button class=\"colab-df-convert\" onclick=\"convertToInteractive('df-3f5bd1f1-f543-405b-a0b0-9e6576ea979c')\"\n",
              "              title=\"Convert this dataframe to an interactive table.\"\n",
              "              style=\"display:none;\">\n",
              "\n",
              "  <svg xmlns=\"http://www.w3.org/2000/svg\" height=\"24px\"viewBox=\"0 0 24 24\"\n",
              "       width=\"24px\">\n",
              "    <path d=\"M0 0h24v24H0V0z\" fill=\"none\"/>\n",
              "    <path d=\"M18.56 5.44l.94 2.06.94-2.06 2.06-.94-2.06-.94-.94-2.06-.94 2.06-2.06.94zm-11 1L8.5 8.5l.94-2.06 2.06-.94-2.06-.94L8.5 2.5l-.94 2.06-2.06.94zm10 10l.94 2.06.94-2.06 2.06-.94-2.06-.94-.94-2.06-.94 2.06-2.06.94z\"/><path d=\"M17.41 7.96l-1.37-1.37c-.4-.4-.92-.59-1.43-.59-.52 0-1.04.2-1.43.59L10.3 9.45l-7.72 7.72c-.78.78-.78 2.05 0 2.83L4 21.41c.39.39.9.59 1.41.59.51 0 1.02-.2 1.41-.59l7.78-7.78 2.81-2.81c.8-.78.8-2.07 0-2.86zM5.41 20L4 18.59l7.72-7.72 1.47 1.35L5.41 20z\"/>\n",
              "  </svg>\n",
              "      </button>\n",
              "\n",
              "\n",
              "\n",
              "    <div id=\"df-bec13f14-6701-4998-baf9-c24d9aa3c320\">\n",
              "      <button class=\"colab-df-quickchart\" onclick=\"quickchart('df-bec13f14-6701-4998-baf9-c24d9aa3c320')\"\n",
              "              title=\"Suggest charts.\"\n",
              "              style=\"display:none;\">\n",
              "\n",
              "<svg xmlns=\"http://www.w3.org/2000/svg\" height=\"24px\"viewBox=\"0 0 24 24\"\n",
              "     width=\"24px\">\n",
              "    <g>\n",
              "        <path d=\"M19 3H5c-1.1 0-2 .9-2 2v14c0 1.1.9 2 2 2h14c1.1 0 2-.9 2-2V5c0-1.1-.9-2-2-2zM9 17H7v-7h2v7zm4 0h-2V7h2v10zm4 0h-2v-4h2v4z\"/>\n",
              "    </g>\n",
              "</svg>\n",
              "      </button>\n",
              "    </div>\n",
              "\n",
              "<style>\n",
              "  .colab-df-quickchart {\n",
              "    background-color: #E8F0FE;\n",
              "    border: none;\n",
              "    border-radius: 50%;\n",
              "    cursor: pointer;\n",
              "    display: none;\n",
              "    fill: #1967D2;\n",
              "    height: 32px;\n",
              "    padding: 0 0 0 0;\n",
              "    width: 32px;\n",
              "  }\n",
              "\n",
              "  .colab-df-quickchart:hover {\n",
              "    background-color: #E2EBFA;\n",
              "    box-shadow: 0px 1px 2px rgba(60, 64, 67, 0.3), 0px 1px 3px 1px rgba(60, 64, 67, 0.15);\n",
              "    fill: #174EA6;\n",
              "  }\n",
              "\n",
              "  [theme=dark] .colab-df-quickchart {\n",
              "    background-color: #3B4455;\n",
              "    fill: #D2E3FC;\n",
              "  }\n",
              "\n",
              "  [theme=dark] .colab-df-quickchart:hover {\n",
              "    background-color: #434B5C;\n",
              "    box-shadow: 0px 1px 3px 1px rgba(0, 0, 0, 0.15);\n",
              "    filter: drop-shadow(0px 1px 2px rgba(0, 0, 0, 0.3));\n",
              "    fill: #FFFFFF;\n",
              "  }\n",
              "</style>\n",
              "\n",
              "    <script>\n",
              "      async function quickchart(key) {\n",
              "        const containerElement = document.querySelector('#' + key);\n",
              "        const charts = await google.colab.kernel.invokeFunction(\n",
              "            'suggestCharts', [key], {});\n",
              "      }\n",
              "    </script>\n",
              "\n",
              "      <script>\n",
              "\n",
              "function displayQuickchartButton(domScope) {\n",
              "  let quickchartButtonEl =\n",
              "    domScope.querySelector('#df-bec13f14-6701-4998-baf9-c24d9aa3c320 button.colab-df-quickchart');\n",
              "  quickchartButtonEl.style.display =\n",
              "    google.colab.kernel.accessAllowed ? 'block' : 'none';\n",
              "}\n",
              "\n",
              "        displayQuickchartButton(document);\n",
              "      </script>\n",
              "      <style>\n",
              "    .colab-df-container {\n",
              "      display:flex;\n",
              "      flex-wrap:wrap;\n",
              "      gap: 12px;\n",
              "    }\n",
              "\n",
              "    .colab-df-convert {\n",
              "      background-color: #E8F0FE;\n",
              "      border: none;\n",
              "      border-radius: 50%;\n",
              "      cursor: pointer;\n",
              "      display: none;\n",
              "      fill: #1967D2;\n",
              "      height: 32px;\n",
              "      padding: 0 0 0 0;\n",
              "      width: 32px;\n",
              "    }\n",
              "\n",
              "    .colab-df-convert:hover {\n",
              "      background-color: #E2EBFA;\n",
              "      box-shadow: 0px 1px 2px rgba(60, 64, 67, 0.3), 0px 1px 3px 1px rgba(60, 64, 67, 0.15);\n",
              "      fill: #174EA6;\n",
              "    }\n",
              "\n",
              "    [theme=dark] .colab-df-convert {\n",
              "      background-color: #3B4455;\n",
              "      fill: #D2E3FC;\n",
              "    }\n",
              "\n",
              "    [theme=dark] .colab-df-convert:hover {\n",
              "      background-color: #434B5C;\n",
              "      box-shadow: 0px 1px 3px 1px rgba(0, 0, 0, 0.15);\n",
              "      filter: drop-shadow(0px 1px 2px rgba(0, 0, 0, 0.3));\n",
              "      fill: #FFFFFF;\n",
              "    }\n",
              "  </style>\n",
              "\n",
              "      <script>\n",
              "        const buttonEl =\n",
              "          document.querySelector('#df-3f5bd1f1-f543-405b-a0b0-9e6576ea979c button.colab-df-convert');\n",
              "        buttonEl.style.display =\n",
              "          google.colab.kernel.accessAllowed ? 'block' : 'none';\n",
              "\n",
              "        async function convertToInteractive(key) {\n",
              "          const element = document.querySelector('#df-3f5bd1f1-f543-405b-a0b0-9e6576ea979c');\n",
              "          const dataTable =\n",
              "            await google.colab.kernel.invokeFunction('convertToInteractive',\n",
              "                                                     [key], {});\n",
              "          if (!dataTable) return;\n",
              "\n",
              "          const docLinkHtml = 'Like what you see? Visit the ' +\n",
              "            '<a target=\"_blank\" href=https://colab.research.google.com/notebooks/data_table.ipynb>data table notebook</a>'\n",
              "            + ' to learn more about interactive tables.';\n",
              "          element.innerHTML = '';\n",
              "          dataTable['output_type'] = 'display_data';\n",
              "          await google.colab.output.renderOutput(dataTable, element);\n",
              "          const docLink = document.createElement('div');\n",
              "          docLink.innerHTML = docLinkHtml;\n",
              "          element.appendChild(docLink);\n",
              "        }\n",
              "      </script>\n",
              "    </div>\n",
              "  </div>\n"
            ]
          },
          "metadata": {},
          "execution_count": 19
        }
      ]
    },
    {
      "cell_type": "code",
      "source": [
        "input_data = saliency_sentences.to_numpy().transpose()\n",
        "\n",
        "sentences = input_data[0]"
      ],
      "metadata": {
        "id": "dsFMsZ9-_QlL"
      },
      "execution_count": null,
      "outputs": []
    },
    {
      "cell_type": "code",
      "source": [
        "input_data.shape"
      ],
      "metadata": {
        "colab": {
          "base_uri": "https://localhost:8080/"
        },
        "id": "4Su7JibR_Qoe",
        "outputId": "8adbd5e2-a9cd-417f-c3e5-5e071d2a9ba1"
      },
      "execution_count": null,
      "outputs": [
        {
          "output_type": "execute_result",
          "data": {
            "text/plain": [
              "(2, 937)"
            ]
          },
          "metadata": {},
          "execution_count": 21
        }
      ]
    },
    {
      "cell_type": "code",
      "source": [
        "import numpy as np\n",
        "max_len = 0\n",
        "count76=0\n",
        "summ=0\n",
        "out_range=[]\n",
        "for i in tqdm(range(len(sentences))):\n",
        "  encoded_text = tokenizer(sentences[i], return_tensors='tf')\n",
        "  l = len(np.array(encoded_text['input_ids'])[0])\n",
        "  if l>76:\n",
        "    count76+=1\n",
        "    out_range.append(i)\n",
        "    continue\n",
        "  summ+=l\n",
        "  if l>max_len:\n",
        "    max_len=l\n",
        "\n",
        "avg_token_size = summ/len(sentences)\n",
        "print(max_len, avg_token_size, count76)"
      ],
      "metadata": {
        "colab": {
          "base_uri": "https://localhost:8080/"
        },
        "id": "yAY0-6g0_Qzo",
        "outputId": "cd3d1206-bc48-4bc5-dc1f-69d2ffe01936"
      },
      "execution_count": null,
      "outputs": [
        {
          "output_type": "stream",
          "name": "stderr",
          "text": [
            "100%|██████████| 937/937 [00:01<00:00, 816.59it/s]"
          ]
        },
        {
          "output_type": "stream",
          "name": "stdout",
          "text": [
            "72 29.056563500533617 10\n"
          ]
        },
        {
          "output_type": "stream",
          "name": "stderr",
          "text": [
            "\n"
          ]
        }
      ]
    },
    {
      "cell_type": "code",
      "source": [
        "input_data_76 = np.delete(input_data,out_range, axis=1)   # add in prev loop with an if statement that if l>100 -> delete that row\n",
        "\n",
        "input_data_76.shape"
      ],
      "metadata": {
        "colab": {
          "base_uri": "https://localhost:8080/"
        },
        "id": "jZpBc4TH_hbh",
        "outputId": "590147f3-a43c-473c-9612-13208e97d013"
      },
      "execution_count": null,
      "outputs": [
        {
          "output_type": "execute_result",
          "data": {
            "text/plain": [
              "(2, 927)"
            ]
          },
          "metadata": {},
          "execution_count": 23
        }
      ]
    },
    {
      "cell_type": "code",
      "source": [
        "saliency_sentences_76 = pd.DataFrame(data = input_data_76.transpose(), columns = ['Sentence', 'Saliency Score'])\n",
        "\n",
        "saliency_sentences_76.head()"
      ],
      "metadata": {
        "colab": {
          "base_uri": "https://localhost:8080/",
          "height": 206
        },
        "outputId": "57f8256f-6cdd-4e24-d3f9-a8efd9d0b722",
        "id": "UHUEW-U_NV8R"
      },
      "execution_count": null,
      "outputs": [
        {
          "output_type": "execute_result",
          "data": {
            "text/plain": [
              "                                            Sentence Saliency Score\n",
              "0                       14:11 EST, 25 October 2013 .            0.0\n",
              "1                       15:36 EST, 25 October 2013 .            0.0\n",
              "2  The bishop of the Fargo Catholic Diocese in No...       0.787966\n",
              "3  The state Health Department has issued an advi...       0.173988\n",
              "4  Bishop John Folda (pictured) of the Fargo Cath...            1.0"
            ],
            "text/html": [
              "\n",
              "\n",
              "  <div id=\"df-703620f0-11c4-445e-837e-7854996c1adc\">\n",
              "    <div class=\"colab-df-container\">\n",
              "      <div>\n",
              "<style scoped>\n",
              "    .dataframe tbody tr th:only-of-type {\n",
              "        vertical-align: middle;\n",
              "    }\n",
              "\n",
              "    .dataframe tbody tr th {\n",
              "        vertical-align: top;\n",
              "    }\n",
              "\n",
              "    .dataframe thead th {\n",
              "        text-align: right;\n",
              "    }\n",
              "</style>\n",
              "<table border=\"1\" class=\"dataframe\">\n",
              "  <thead>\n",
              "    <tr style=\"text-align: right;\">\n",
              "      <th></th>\n",
              "      <th>Sentence</th>\n",
              "      <th>Saliency Score</th>\n",
              "    </tr>\n",
              "  </thead>\n",
              "  <tbody>\n",
              "    <tr>\n",
              "      <th>0</th>\n",
              "      <td>14:11 EST, 25 October 2013 .</td>\n",
              "      <td>0.0</td>\n",
              "    </tr>\n",
              "    <tr>\n",
              "      <th>1</th>\n",
              "      <td>15:36 EST, 25 October 2013 .</td>\n",
              "      <td>0.0</td>\n",
              "    </tr>\n",
              "    <tr>\n",
              "      <th>2</th>\n",
              "      <td>The bishop of the Fargo Catholic Diocese in No...</td>\n",
              "      <td>0.787966</td>\n",
              "    </tr>\n",
              "    <tr>\n",
              "      <th>3</th>\n",
              "      <td>The state Health Department has issued an advi...</td>\n",
              "      <td>0.173988</td>\n",
              "    </tr>\n",
              "    <tr>\n",
              "      <th>4</th>\n",
              "      <td>Bishop John Folda (pictured) of the Fargo Cath...</td>\n",
              "      <td>1.0</td>\n",
              "    </tr>\n",
              "  </tbody>\n",
              "</table>\n",
              "</div>\n",
              "      <button class=\"colab-df-convert\" onclick=\"convertToInteractive('df-703620f0-11c4-445e-837e-7854996c1adc')\"\n",
              "              title=\"Convert this dataframe to an interactive table.\"\n",
              "              style=\"display:none;\">\n",
              "\n",
              "  <svg xmlns=\"http://www.w3.org/2000/svg\" height=\"24px\"viewBox=\"0 0 24 24\"\n",
              "       width=\"24px\">\n",
              "    <path d=\"M0 0h24v24H0V0z\" fill=\"none\"/>\n",
              "    <path d=\"M18.56 5.44l.94 2.06.94-2.06 2.06-.94-2.06-.94-.94-2.06-.94 2.06-2.06.94zm-11 1L8.5 8.5l.94-2.06 2.06-.94-2.06-.94L8.5 2.5l-.94 2.06-2.06.94zm10 10l.94 2.06.94-2.06 2.06-.94-2.06-.94-.94-2.06-.94 2.06-2.06.94z\"/><path d=\"M17.41 7.96l-1.37-1.37c-.4-.4-.92-.59-1.43-.59-.52 0-1.04.2-1.43.59L10.3 9.45l-7.72 7.72c-.78.78-.78 2.05 0 2.83L4 21.41c.39.39.9.59 1.41.59.51 0 1.02-.2 1.41-.59l7.78-7.78 2.81-2.81c.8-.78.8-2.07 0-2.86zM5.41 20L4 18.59l7.72-7.72 1.47 1.35L5.41 20z\"/>\n",
              "  </svg>\n",
              "      </button>\n",
              "\n",
              "\n",
              "\n",
              "    <div id=\"df-9e0f1dce-a113-4b7a-8407-56be0a1b1d3b\">\n",
              "      <button class=\"colab-df-quickchart\" onclick=\"quickchart('df-9e0f1dce-a113-4b7a-8407-56be0a1b1d3b')\"\n",
              "              title=\"Suggest charts.\"\n",
              "              style=\"display:none;\">\n",
              "\n",
              "<svg xmlns=\"http://www.w3.org/2000/svg\" height=\"24px\"viewBox=\"0 0 24 24\"\n",
              "     width=\"24px\">\n",
              "    <g>\n",
              "        <path d=\"M19 3H5c-1.1 0-2 .9-2 2v14c0 1.1.9 2 2 2h14c1.1 0 2-.9 2-2V5c0-1.1-.9-2-2-2zM9 17H7v-7h2v7zm4 0h-2V7h2v10zm4 0h-2v-4h2v4z\"/>\n",
              "    </g>\n",
              "</svg>\n",
              "      </button>\n",
              "    </div>\n",
              "\n",
              "<style>\n",
              "  .colab-df-quickchart {\n",
              "    background-color: #E8F0FE;\n",
              "    border: none;\n",
              "    border-radius: 50%;\n",
              "    cursor: pointer;\n",
              "    display: none;\n",
              "    fill: #1967D2;\n",
              "    height: 32px;\n",
              "    padding: 0 0 0 0;\n",
              "    width: 32px;\n",
              "  }\n",
              "\n",
              "  .colab-df-quickchart:hover {\n",
              "    background-color: #E2EBFA;\n",
              "    box-shadow: 0px 1px 2px rgba(60, 64, 67, 0.3), 0px 1px 3px 1px rgba(60, 64, 67, 0.15);\n",
              "    fill: #174EA6;\n",
              "  }\n",
              "\n",
              "  [theme=dark] .colab-df-quickchart {\n",
              "    background-color: #3B4455;\n",
              "    fill: #D2E3FC;\n",
              "  }\n",
              "\n",
              "  [theme=dark] .colab-df-quickchart:hover {\n",
              "    background-color: #434B5C;\n",
              "    box-shadow: 0px 1px 3px 1px rgba(0, 0, 0, 0.15);\n",
              "    filter: drop-shadow(0px 1px 2px rgba(0, 0, 0, 0.3));\n",
              "    fill: #FFFFFF;\n",
              "  }\n",
              "</style>\n",
              "\n",
              "    <script>\n",
              "      async function quickchart(key) {\n",
              "        const containerElement = document.querySelector('#' + key);\n",
              "        const charts = await google.colab.kernel.invokeFunction(\n",
              "            'suggestCharts', [key], {});\n",
              "      }\n",
              "    </script>\n",
              "\n",
              "      <script>\n",
              "\n",
              "function displayQuickchartButton(domScope) {\n",
              "  let quickchartButtonEl =\n",
              "    domScope.querySelector('#df-9e0f1dce-a113-4b7a-8407-56be0a1b1d3b button.colab-df-quickchart');\n",
              "  quickchartButtonEl.style.display =\n",
              "    google.colab.kernel.accessAllowed ? 'block' : 'none';\n",
              "}\n",
              "\n",
              "        displayQuickchartButton(document);\n",
              "      </script>\n",
              "      <style>\n",
              "    .colab-df-container {\n",
              "      display:flex;\n",
              "      flex-wrap:wrap;\n",
              "      gap: 12px;\n",
              "    }\n",
              "\n",
              "    .colab-df-convert {\n",
              "      background-color: #E8F0FE;\n",
              "      border: none;\n",
              "      border-radius: 50%;\n",
              "      cursor: pointer;\n",
              "      display: none;\n",
              "      fill: #1967D2;\n",
              "      height: 32px;\n",
              "      padding: 0 0 0 0;\n",
              "      width: 32px;\n",
              "    }\n",
              "\n",
              "    .colab-df-convert:hover {\n",
              "      background-color: #E2EBFA;\n",
              "      box-shadow: 0px 1px 2px rgba(60, 64, 67, 0.3), 0px 1px 3px 1px rgba(60, 64, 67, 0.15);\n",
              "      fill: #174EA6;\n",
              "    }\n",
              "\n",
              "    [theme=dark] .colab-df-convert {\n",
              "      background-color: #3B4455;\n",
              "      fill: #D2E3FC;\n",
              "    }\n",
              "\n",
              "    [theme=dark] .colab-df-convert:hover {\n",
              "      background-color: #434B5C;\n",
              "      box-shadow: 0px 1px 3px 1px rgba(0, 0, 0, 0.15);\n",
              "      filter: drop-shadow(0px 1px 2px rgba(0, 0, 0, 0.3));\n",
              "      fill: #FFFFFF;\n",
              "    }\n",
              "  </style>\n",
              "\n",
              "      <script>\n",
              "        const buttonEl =\n",
              "          document.querySelector('#df-703620f0-11c4-445e-837e-7854996c1adc button.colab-df-convert');\n",
              "        buttonEl.style.display =\n",
              "          google.colab.kernel.accessAllowed ? 'block' : 'none';\n",
              "\n",
              "        async function convertToInteractive(key) {\n",
              "          const element = document.querySelector('#df-703620f0-11c4-445e-837e-7854996c1adc');\n",
              "          const dataTable =\n",
              "            await google.colab.kernel.invokeFunction('convertToInteractive',\n",
              "                                                     [key], {});\n",
              "          if (!dataTable) return;\n",
              "\n",
              "          const docLinkHtml = 'Like what you see? Visit the ' +\n",
              "            '<a target=\"_blank\" href=https://colab.research.google.com/notebooks/data_table.ipynb>data table notebook</a>'\n",
              "            + ' to learn more about interactive tables.';\n",
              "          element.innerHTML = '';\n",
              "          dataTable['output_type'] = 'display_data';\n",
              "          await google.colab.output.renderOutput(dataTable, element);\n",
              "          const docLink = document.createElement('div');\n",
              "          docLink.innerHTML = docLinkHtml;\n",
              "          element.appendChild(docLink);\n",
              "        }\n",
              "      </script>\n",
              "    </div>\n",
              "  </div>\n"
            ]
          },
          "metadata": {},
          "execution_count": 24
        }
      ]
    },
    {
      "cell_type": "markdown",
      "source": [
        "### Generating embedding batchwise"
      ],
      "metadata": {
        "id": "jP18os9bRSlO"
      }
    },
    {
      "cell_type": "code",
      "source": [
        "from datasets import Dataset, DatasetDict"
      ],
      "metadata": {
        "id": "Zny3fBw1HTVT"
      },
      "execution_count": null,
      "outputs": []
    },
    {
      "cell_type": "code",
      "source": [
        "train_dataset = Dataset.from_pandas(saliency_sentences_76)"
      ],
      "metadata": {
        "id": "fRiyq7gdHey4"
      },
      "execution_count": null,
      "outputs": []
    },
    {
      "cell_type": "code",
      "source": [
        "train_dataset"
      ],
      "metadata": {
        "colab": {
          "base_uri": "https://localhost:8080/"
        },
        "id": "8T86hzW3K_-1",
        "outputId": "bb2be96b-7695-4baa-ce42-280338dc72c6"
      },
      "execution_count": null,
      "outputs": [
        {
          "output_type": "execute_result",
          "data": {
            "text/plain": [
              "Dataset({\n",
              "    features: ['Sentence', 'Saliency Score'],\n",
              "    num_rows: 927\n",
              "})"
            ]
          },
          "metadata": {},
          "execution_count": 27
        }
      ]
    },
    {
      "cell_type": "code",
      "source": [
        "datasets = DatasetDict()\n",
        "datasets['train'] = train_dataset\n",
        "datasets"
      ],
      "metadata": {
        "colab": {
          "base_uri": "https://localhost:8080/"
        },
        "id": "OGMFTTRJHThQ",
        "outputId": "098a2232-741c-4cf4-845a-d5d61847cea2"
      },
      "execution_count": null,
      "outputs": [
        {
          "output_type": "execute_result",
          "data": {
            "text/plain": [
              "DatasetDict({\n",
              "    train: Dataset({\n",
              "        features: ['Sentence', 'Saliency Score'],\n",
              "        num_rows: 927\n",
              "    })\n",
              "})"
            ]
          },
          "metadata": {},
          "execution_count": 28
        }
      ]
    },
    {
      "cell_type": "code",
      "source": [
        "result_arr = []\n",
        "\n",
        "def preprocess_function(examples):\n",
        "  encoded_sentences = tokenizer(examples['Sentence'], return_tensors='tf', padding='max_length', max_length=76)\n",
        "  embedded_sentences = enc_model(encoded_sentences)\n",
        "  result_arr.append(embedded_sentences['last_hidden_state'])\n",
        "  return embedded_sentences"
      ],
      "metadata": {
        "id": "tX_bZuWCL7L-"
      },
      "execution_count": null,
      "outputs": []
    },
    {
      "cell_type": "code",
      "source": [
        "tokenized_dataset = datasets.map(preprocess_function, batched=True)  # batch_size=1000 by default"
      ],
      "metadata": {
        "colab": {
          "base_uri": "https://localhost:8080/",
          "referenced_widgets": [
            "3ce8defc24dd436c80242d1248e182cc",
            "0d16fe68793f402a9ba946dec53b3adf",
            "80baba60e6b949b887d45aacf6c2bdb7",
            "5043b59349e84ebe9ffe322247c0ba81",
            "5f01ab94e384450ba3f11aceaac5600e",
            "9354340d48cb4497aa8c70311af11dfe",
            "fcfefcd0e91f410ca94d652f5b35bb89",
            "c8ef96e6526e44d896a31639f056e242",
            "c4cf1c74b45e49dfae5a953da72da8c6",
            "c81223351a71477aaeec9942475e8dc1",
            "825bd350e750410d9a4f5cee58bb2492"
          ]
        },
        "id": "6Viw--HGLuEx",
        "outputId": "9b548790-11d5-42f5-fb62-2cb8e5f26b26"
      },
      "execution_count": null,
      "outputs": [
        {
          "output_type": "stream",
          "name": "stderr",
          "text": [
            "/usr/local/lib/python3.10/dist-packages/transformers/generation/tf_utils.py:465: UserWarning: `seed_generator` is deprecated and will be removed in a future version.\n",
            "  warnings.warn(\"`seed_generator` is deprecated and will be removed in a future version.\", UserWarning)\n"
          ]
        },
        {
          "output_type": "display_data",
          "data": {
            "text/plain": [
              "Map:   0%|          | 0/927 [00:00<?, ? examples/s]"
            ],
            "application/vnd.jupyter.widget-view+json": {
              "version_major": 2,
              "version_minor": 0,
              "model_id": "3ce8defc24dd436c80242d1248e182cc"
            }
          },
          "metadata": {}
        }
      ]
    },
    {
      "cell_type": "code",
      "source": [
        "tokenized_dataset"
      ],
      "metadata": {
        "colab": {
          "base_uri": "https://localhost:8080/"
        },
        "id": "Bst0T8s1HTkl",
        "outputId": "03cda73a-7419-44e9-e775-b148951d54f7"
      },
      "execution_count": null,
      "outputs": [
        {
          "output_type": "execute_result",
          "data": {
            "text/plain": [
              "DatasetDict({\n",
              "    train: Dataset({\n",
              "        features: ['Sentence', 'Saliency Score', 'last_hidden_state', 'pooler_output'],\n",
              "        num_rows: 927\n",
              "    })\n",
              "})"
            ]
          },
          "metadata": {},
          "execution_count": 31
        }
      ]
    },
    {
      "cell_type": "code",
      "source": [
        "len(result_arr), len(result_arr[0]),len(result_arr[0][0]),len(result_arr[0][0][0]),"
      ],
      "metadata": {
        "colab": {
          "base_uri": "https://localhost:8080/"
        },
        "id": "SafC66EXyUj3",
        "outputId": "c49edb62-a044-4231-a829-61664fce782c"
      },
      "execution_count": null,
      "outputs": [
        {
          "output_type": "execute_result",
          "data": {
            "text/plain": [
              "(1, 927, 76, 768)"
            ]
          },
          "metadata": {},
          "execution_count": 32
        }
      ]
    },
    {
      "cell_type": "code",
      "source": [
        "x = np.concatenate(result_arr)"
      ],
      "metadata": {
        "id": "pdnlbeWDyRe3"
      },
      "execution_count": null,
      "outputs": []
    },
    {
      "cell_type": "code",
      "source": [
        "x.shape"
      ],
      "metadata": {
        "colab": {
          "base_uri": "https://localhost:8080/"
        },
        "id": "IlNJb7CT1XSv",
        "outputId": "aead5d4b-9611-4eef-82e8-0348f2bc3537"
      },
      "execution_count": null,
      "outputs": [
        {
          "output_type": "execute_result",
          "data": {
            "text/plain": [
              "(927, 76, 768)"
            ]
          },
          "metadata": {},
          "execution_count": 34
        }
      ]
    },
    {
      "cell_type": "code",
      "source": [
        "#sentences = input_data[0]"
      ],
      "metadata": {
        "id": "6FYNDCVK_hfG"
      },
      "execution_count": null,
      "outputs": []
    },
    {
      "cell_type": "code",
      "execution_count": null,
      "metadata": {
        "id": "Za0rpEc7Wzfw"
      },
      "outputs": [],
      "source": [
        "#encoded_sentences = tokenizer(list(sentences), return_tensors='tf', padding='max_length', max_length=76)"
      ]
    },
    {
      "cell_type": "code",
      "execution_count": null,
      "metadata": {
        "id": "INmF-g4IWzfw"
      },
      "outputs": [],
      "source": [
        "#embedded_sentences = enc_model(encoded_sentences)"
      ]
    },
    {
      "cell_type": "code",
      "source": [
        "#x = embedded_sentences['last_hidden_state'].numpy()"
      ],
      "metadata": {
        "id": "cujuHmA6_y2g"
      },
      "execution_count": null,
      "outputs": []
    },
    {
      "cell_type": "code",
      "source": [
        "#x.shape"
      ],
      "metadata": {
        "id": "OCN_grTrQNXL"
      },
      "execution_count": null,
      "outputs": []
    },
    {
      "cell_type": "code",
      "source": [
        "y = np.array(datasets['train']['Saliency Score'])"
      ],
      "metadata": {
        "id": "0kqlWjh0vzGq"
      },
      "execution_count": null,
      "outputs": []
    },
    {
      "cell_type": "code",
      "source": [
        "y_re = y.astype(np.float32)"
      ],
      "metadata": {
        "id": "aKZ4uXGP1n9J"
      },
      "execution_count": null,
      "outputs": []
    },
    {
      "cell_type": "code",
      "source": [
        "y_re.shape"
      ],
      "metadata": {
        "colab": {
          "base_uri": "https://localhost:8080/"
        },
        "id": "EdgpDIrO1oS8",
        "outputId": "48f31486-bb6a-4ae5-847b-b67f9368abc7"
      },
      "execution_count": null,
      "outputs": [
        {
          "output_type": "execute_result",
          "data": {
            "text/plain": [
              "(927,)"
            ]
          },
          "metadata": {},
          "execution_count": 42
        }
      ]
    },
    {
      "cell_type": "markdown",
      "metadata": {
        "id": "qxVzQXCZWzfx"
      },
      "source": [
        "## Modelling"
      ]
    },
    {
      "cell_type": "code",
      "source": [
        "# Create a MirroredStrategy.\n",
        "strategy = tf.distribute.MirroredStrategy()\n",
        "print('Number of devices: {}'.format(strategy.num_replicas_in_sync))"
      ],
      "metadata": {
        "colab": {
          "base_uri": "https://localhost:8080/"
        },
        "id": "mGjptuUARpfN",
        "outputId": "c84c5f6c-2119-46cd-9f36-1927d1a2dd77"
      },
      "execution_count": null,
      "outputs": [
        {
          "output_type": "stream",
          "name": "stdout",
          "text": [
            "Number of devices: 1\n"
          ]
        }
      ]
    },
    {
      "cell_type": "code",
      "source": [
        "# # capsule BiLSTM-CNN  for CNNDM\n",
        "\n",
        "with strategy.scope():\n",
        "    # Everything that creates variables should be under the strategy scope.\n",
        "    # In general this is only model construction & `compile()`.\n",
        "    inputs = tf.keras.Input(shape=(50, 768, 1))  # x.shape[1]\n",
        "\n",
        "    conv2d_layer_1 = Conv2D(128, (3,768), padding='valid', activation='relu', strides=1)(inputs)\n",
        "    conv2d_layer_2 = Conv2D(128, (4,1), padding='valid', activation='relu', strides=1)(conv2d_layer_1)\n",
        "\n",
        "    input_reshaped = tf.keras.layers.Reshape(target_shape=(conv2d_layer_2.shape[1], conv2d_layer_2.shape[2]*conv2d_layer_2.shape[3]))(conv2d_layer_2)\n",
        "    gru1 = tf.keras.layers.Bidirectional(tf.keras.layers.GRU(64, return_sequences=True))(input_reshaped)\n",
        "    gru2 = tf.keras.layers.Bidirectional(tf.keras.layers.GRU(64, return_sequences=True))(gru1)\n",
        "\n",
        "    gru_reshaped = tf.keras.layers.Reshape(target_shape=(gru2.shape[1], 1, gru2.shape[2]))(gru2)\n",
        "\n",
        "    # convert to capsule domain\n",
        "    conv_caps_2d = ConvCaps2D(filters=16, filter_dims=8, kernel_size=(5,1), strides=(1, 1), name='conv_caps_2d')(gru_reshaped)\n",
        "    conv_caps_2d = Lambda(nn.squash)(conv_caps_2d)\n",
        "\n",
        "    # dense layer for dynamic routing\n",
        "    dense_caps = DenseCaps(caps=2, caps_dims=16, routing_iter=3, name='dense_caps')(conv_caps_2d)\n",
        "    dense_caps = Lambda(nn.squash)(dense_caps)\n",
        "\n",
        "    #merged = concatenate([tower1, tower2, tower3, tower4], axis=2)\n",
        "    merged = Flatten()(dense_caps)\n",
        "\n",
        "    #drop = Dropout(0.1)(merged)\n",
        "    outputs = Dense(1, activation='sigmoid')(merged)\n",
        "\n",
        "    model = tf.keras.Model(inputs=inputs, outputs=outputs)\n",
        "\n",
        "    model.compile(loss='binary_crossentropy',\n",
        "                      optimizer=Adadelta(),\n",
        "                      metrics=['mean_absolute_error','accuracy'])\n"
      ],
      "metadata": {
        "id": "nDZGBQYYRv02"
      },
      "execution_count": null,
      "outputs": []
    },
    {
      "cell_type": "code",
      "source": [
        "model.summary()"
      ],
      "metadata": {
        "colab": {
          "base_uri": "https://localhost:8080/"
        },
        "id": "CRrZoOb9rf43",
        "outputId": "bd5ba1f2-0a82-4e04-e6a7-891f33c82edd"
      },
      "execution_count": null,
      "outputs": [
        {
          "output_type": "stream",
          "name": "stdout",
          "text": [
            "Model: \"model_11\"\n",
            "_________________________________________________________________\n",
            " Layer (type)                Output Shape              Param #   \n",
            "=================================================================\n",
            " input_12 (InputLayer)       [(None, 50, 768, 1)]      0         \n",
            "                                                                 \n",
            " conv2d_22 (Conv2D)          (None, 48, 1, 128)        295040    \n",
            "                                                                 \n",
            " conv2d_23 (Conv2D)          (None, 45, 1, 128)        65664     \n",
            "                                                                 \n",
            " reshape_8 (Reshape)         (None, 45, 128)           0         \n",
            "                                                                 \n",
            " bidirectional_8 (Bidirectio  (None, 45, 128)          74496     \n",
            " nal)                                                            \n",
            "                                                                 \n",
            " bidirectional_9 (Bidirectio  (None, 45, 128)          74496     \n",
            " nal)                                                            \n",
            "                                                                 \n",
            " reshape_9 (Reshape)         (None, 45, 1, 128)        0         \n",
            "                                                                 \n",
            " conv_caps_2d (ConvCaps2D)   (None, 41, 1, 16, 8)      5248      \n",
            "                                                                 \n",
            " lambda_22 (Lambda)          (None, 41, 1, 16, 8)      0         \n",
            "                                                                 \n",
            " dense_caps (DenseCaps)      (None, 2, 16)             167936    \n",
            "                                                                 \n",
            " lambda_23 (Lambda)          (None, 2, 16)             0         \n",
            "                                                                 \n",
            " flatten_11 (Flatten)        (None, 32)                0         \n",
            "                                                                 \n",
            " dense_11 (Dense)            (None, 1)                 33        \n",
            "                                                                 \n",
            "=================================================================\n",
            "Total params: 682,913\n",
            "Trainable params: 682,913\n",
            "Non-trainable params: 0\n",
            "_________________________________________________________________\n"
          ]
        }
      ]
    },
    {
      "cell_type": "code",
      "source": [
        "model.summary()"
      ],
      "metadata": {
        "colab": {
          "base_uri": "https://localhost:8080/"
        },
        "id": "MDd9U-8HpvN4",
        "outputId": "066febfc-a3b3-418c-a507-5c0521e06796"
      },
      "execution_count": null,
      "outputs": [
        {
          "output_type": "stream",
          "name": "stdout",
          "text": [
            "Model: \"model_6\"\n",
            "_________________________________________________________________\n",
            " Layer (type)                Output Shape              Param #   \n",
            "=================================================================\n",
            " input_7 (InputLayer)        [(None, 50, 768, 1)]      0         \n",
            "                                                                 \n",
            " conv2d_12 (Conv2D)          (None, 48, 1, 128)        295040    \n",
            "                                                                 \n",
            " conv2d_13 (Conv2D)          (None, 45, 1, 128)        65664     \n",
            "                                                                 \n",
            " conv_caps_2d (ConvCaps2D)   (None, 41, 1, 16, 8)      5248      \n",
            "                                                                 \n",
            " lambda_12 (Lambda)          (None, 41, 1, 16, 8)      0         \n",
            "                                                                 \n",
            " dense_caps (DenseCaps)      (None, 10, 16)            839680    \n",
            "                                                                 \n",
            " lambda_13 (Lambda)          (None, 10, 16)            0         \n",
            "                                                                 \n",
            " flatten_6 (Flatten)         (None, 160)               0         \n",
            "                                                                 \n",
            " dense_6 (Dense)             (None, 1)                 161       \n",
            "                                                                 \n",
            "=================================================================\n",
            "Total params: 1,205,793\n",
            "Trainable params: 1,205,793\n",
            "Non-trainable params: 0\n",
            "_________________________________________________________________\n"
          ]
        }
      ]
    },
    {
      "cell_type": "code",
      "source": [],
      "metadata": {
        "id": "bkpue_bfpkbA"
      },
      "execution_count": null,
      "outputs": []
    },
    {
      "cell_type": "code",
      "source": [
        "with strategy.scope():\n",
        "    # Everything that creates variables should be under the strategy scope.\n",
        "    # In general this is only model construction & `compile()`.\n",
        "    inputs = tf.keras.Input(shape=(76, 768, 1))  # x.shape[1]\n",
        "\n",
        "    conv2d_layer_1 = Conv2D(64, (3,257), padding='valid', activation='relu', strides=1)(inputs)\n",
        "    conv2d_layer_2 = Conv2D(128, (9,257), padding='valid', activation='relu', strides=2)(conv2d_layer_1)\n",
        "\n",
        "    avgpool = AveragePooling2D((2,2))(conv2d_layer_2)\n",
        "\n",
        "    # convert to capsule domain\n",
        "    conv_caps_2d = ConvCaps2D(filters=16, filter_dims=8, kernel_size=(5,5), strides=(2, 2), name='conv_caps_2d')(avgpool)\n",
        "    conv_caps_2d = Lambda(nn.squash)(conv_caps_2d)\n",
        "\n",
        "    # dense layer for dynamic routing\n",
        "    dense_caps = DenseCaps(caps=10, caps_dims=16, routing_iter=3, name='dense_caps')(conv_caps_2d)\n",
        "    dense_caps = Lambda(nn.squash)(dense_caps)\n",
        "\n",
        "    #merged = concatenate([tower1, tower2, tower3, tower4], axis=2)\n",
        "    merged = Flatten()(dense_caps)\n",
        "\n",
        "    #drop = Dropout(0.1)(merged)\n",
        "    outputs = Dense(1, activation='sigmoid')(merged)\n",
        "\n",
        "    model = tf.keras.Model(inputs=inputs, outputs=outputs)\n",
        "\n",
        "    model.compile(loss='binary_crossentropy',\n",
        "                      optimizer=Adadelta(),\n",
        "                      metrics=['mean_absolute_error','accuracy'])\n",
        "\n"
      ],
      "metadata": {
        "colab": {
          "base_uri": "https://localhost:8080/"
        },
        "id": "R4RxGdUApkdh",
        "outputId": "98c6ce38-ceb5-44db-a8e0-82faf5214783"
      },
      "execution_count": null,
      "outputs": [
        {
          "output_type": "stream",
          "name": "stderr",
          "text": [
            "WARNING:tensorflow:`_i` is not a valid node name. Accepted names conform to Regex /re.compile('^[A-Za-z0-9.][A-Za-z0-9_.\\\\\\\\/>-]*$')/\n",
            "WARNING:tensorflow:`_logits` is not a valid node name. Accepted names conform to Regex /re.compile('^[A-Za-z0-9.][A-Za-z0-9_.\\\\\\\\/>-]*$')/\n",
            "WARNING:tensorflow:`_pre_activation` is not a valid node name. Accepted names conform to Regex /re.compile('^[A-Za-z0-9.][A-Za-z0-9_.\\\\\\\\/>-]*$')/\n",
            "WARNING:tensorflow:`_logits` is not a valid node name. Accepted names conform to Regex /re.compile('^[A-Za-z0-9.][A-Za-z0-9_.\\\\\\\\/>-]*$')/\n",
            "WARNING:tensorflow:`_pre_activation` is not a valid node name. Accepted names conform to Regex /re.compile('^[A-Za-z0-9.][A-Za-z0-9_.\\\\\\\\/>-]*$')/\n",
            "WARNING:absl:`_logits` is not a valid tf.function parameter name. Sanitizing to `arg__logits`.\n",
            "WARNING:absl:`_pre_activation` is not a valid tf.function parameter name. Sanitizing to `arg__pre_activation`.\n",
            "WARNING:absl:`_logits` is not a valid tf.function parameter name. Sanitizing to `arg__logits`.\n",
            "WARNING:absl:`_pre_activation` is not a valid tf.function parameter name. Sanitizing to `arg__pre_activation`.\n",
            "WARNING:absl:`_i` is not a valid tf.function parameter name. Sanitizing to `arg__i`.\n"
          ]
        }
      ]
    },
    {
      "cell_type": "code",
      "source": [],
      "metadata": {
        "id": "y7rF9pqhpkgk"
      },
      "execution_count": null,
      "outputs": []
    },
    {
      "cell_type": "markdown",
      "source": [
        "**Without capsule network**"
      ],
      "metadata": {
        "id": "AcmuxMFjtKG6"
      }
    },
    {
      "cell_type": "code",
      "source": [
        "# Open a strategy scope.\n",
        "\n",
        "with strategy.scope():\n",
        "    # Everything that creates variables should be under the strategy scope.\n",
        "    # In general this is only model construction & `compile()`.\n",
        "    inputs = tf.keras.Input(shape=(76, 768, 1))  # x.shape[1]\n",
        "\n",
        "    conv2d_layer_1 = Conv2D(400, (3,257), padding='valid', activation='relu', strides=1)(inputs)\n",
        "\n",
        "    avgpool = AveragePooling2D((2,2))(conv2d_layer_1)\n",
        "    # maxpool = MaxPooling2D(pool_size=(2, 1))(conv2d_layer_1)\n",
        "\n",
        "    flat = Flatten()(avgpool)\n",
        "\n",
        "    drop = Dropout(0.1)(flat)\n",
        "    outputs = Dense(1, activation='sigmoid')(flat)\n",
        "\n",
        "    model = tf.keras.Model(inputs=inputs, outputs=outputs)\n",
        "\n",
        "    model.compile(loss='binary_crossentropy',\n",
        "                      optimizer=Adadelta(),\n",
        "                      metrics=['mean_absolute_error','accuracy'])\n",
        "\n",
        "\n",
        "\n"
      ],
      "metadata": {
        "id": "EQI0-6y_tHzU"
      },
      "execution_count": null,
      "outputs": []
    },
    {
      "cell_type": "code",
      "source": [
        "model.summary()"
      ],
      "metadata": {
        "colab": {
          "base_uri": "https://localhost:8080/"
        },
        "id": "ggxWkGUtT9lw",
        "outputId": "d7b100da-e876-4170-eea7-a98d1bdf7a16"
      },
      "execution_count": null,
      "outputs": [
        {
          "output_type": "stream",
          "name": "stdout",
          "text": [
            "Model: \"model\"\n",
            "_________________________________________________________________\n",
            " Layer (type)                Output Shape              Param #   \n",
            "=================================================================\n",
            " input_1 (InputLayer)        [(None, 76, 768, 1)]      0         \n",
            "                                                                 \n",
            " conv2d (Conv2D)             (None, 74, 512, 64)       49408     \n",
            "                                                                 \n",
            " conv2d_1 (Conv2D)           (None, 33, 128, 128)      18948224  \n",
            "                                                                 \n",
            " average_pooling2d (AverageP  (None, 16, 64, 128)      0         \n",
            " ooling2D)                                                       \n",
            "                                                                 \n",
            " conv_caps_2d (ConvCaps2D)   (None, 6, 30, 16, 8)      25728     \n",
            "                                                                 \n",
            " lambda (Lambda)             (None, 6, 30, 16, 8)      0         \n",
            "                                                                 \n",
            " dense_caps (DenseCaps)      (None, 10, 16)            3686400   \n",
            "                                                                 \n",
            " lambda_1 (Lambda)           (None, 10, 16)            0         \n",
            "                                                                 \n",
            " flatten (Flatten)           (None, 160)               0         \n",
            "                                                                 \n",
            " dense (Dense)               (None, 1)                 161       \n",
            "                                                                 \n",
            "=================================================================\n",
            "Total params: 22,709,921\n",
            "Trainable params: 22,709,921\n",
            "Non-trainable params: 0\n",
            "_________________________________________________________________\n"
          ]
        }
      ]
    },
    {
      "cell_type": "code",
      "source": [
        "tf.keras.utils.plot_model(model, show_shapes=True)"
      ],
      "metadata": {
        "id": "e4zQ38F9Wzfy",
        "colab": {
          "base_uri": "https://localhost:8080/",
          "height": 1000
        },
        "outputId": "f91e0ffb-3c1a-4122-e90a-d8c573f68f6a"
      },
      "execution_count": null,
      "outputs": [
        {
          "output_type": "execute_result",
          "data": {
            "image/png": "[encoded data removed]",
            "text/plain": [
              "<IPython.core.display.Image object>"
            ]
          },
          "metadata": {},
          "execution_count": 72
        }
      ]
    },
    {
      "cell_type": "code",
      "execution_count": null,
      "metadata": {
        "id": "VRTEmadOWzfy"
      },
      "outputs": [],
      "source": [
        "# Training parameters\n",
        "epochs = 1\n",
        "batch_size = 32\n",
        "test_train_ratio = 0.2\n",
        "val_train_ratio = 0.2"
      ]
    },
    {
      "cell_type": "code",
      "execution_count": null,
      "metadata": {
        "id": "_gBB8hAPWzfz"
      },
      "outputs": [],
      "source": [
        "from keras.callbacks import EarlyStopping\n",
        "\n",
        "early_stop = EarlyStopping(monitor='val_loss', mode='min', verbose=1, patience=20, restore_best_weights=True)"
      ]
    },
    {
      "cell_type": "code",
      "execution_count": null,
      "metadata": {
        "id": "MUQbquESWzfz"
      },
      "outputs": [],
      "source": [
        "import os\n",
        "\n",
        "def train(model, x_train, y_train, val_train_ratio=0.2, epochs=100, batch_size=64):\n",
        "  history = model.fit(x_train, y_train,\n",
        "                        batch_size=batch_size,\n",
        "                        epochs=epochs,\n",
        "                        validation_split=val_train_ratio,\n",
        "                        shuffle=False,\n",
        "                        verbose=1,\n",
        "                        callbacks=[early_stop])\n",
        "  #model.save('/content/my_model')\n",
        "  return history"
      ]
    },
    {
      "cell_type": "code",
      "execution_count": null,
      "metadata": {
        "colab": {
          "base_uri": "https://localhost:8080/"
        },
        "outputId": "b4d6d81c-aab1-42b4-9656-ce737a01350b",
        "id": "20KQdcthWzfz"
      },
      "outputs": [
        {
          "output_type": "execute_result",
          "data": {
            "text/plain": [
              "(927, 76, 768)"
            ]
          },
          "metadata": {},
          "execution_count": 49
        }
      ],
      "source": [
        "x.shape"
      ]
    },
    {
      "cell_type": "code",
      "execution_count": null,
      "metadata": {
        "id": "G8DZqCZDWzfz"
      },
      "outputs": [],
      "source": [
        "x_re = x.reshape(x.shape[0], x.shape[1], 768, 1)  # changed from (x_test.shape[0], 1, x_test.shape[1], 768)"
      ]
    },
    {
      "cell_type": "code",
      "execution_count": null,
      "metadata": {
        "colab": {
          "base_uri": "https://localhost:8080/"
        },
        "outputId": "424f65a1-d36e-42e8-dcb2-b948539f5c59",
        "id": "NlkM3s5vWzfz"
      },
      "outputs": [
        {
          "output_type": "execute_result",
          "data": {
            "text/plain": [
              "(927, 76, 768, 1)"
            ]
          },
          "metadata": {},
          "execution_count": 51
        }
      ],
      "source": [
        "x_re.shape"
      ]
    },
    {
      "cell_type": "code",
      "source": [
        "history = train(model, x_re, y_re, val_train_ratio, epochs, batch_size)"
      ],
      "metadata": {
        "colab": {
          "base_uri": "https://localhost:8080/"
        },
        "id": "8sAG6U85t6P4",
        "outputId": "4ce3ddbb-3981-4812-c083-bf5e5ad3fd81"
      },
      "execution_count": null,
      "outputs": [
        {
          "output_type": "stream",
          "name": "stderr",
          "text": [
            "WARNING:tensorflow:`_i` is not a valid node name. Accepted names conform to Regex /re.compile('^[A-Za-z0-9.][A-Za-z0-9_.\\\\\\\\/>-]*$')/\n",
            "WARNING:tensorflow:`_logits` is not a valid node name. Accepted names conform to Regex /re.compile('^[A-Za-z0-9.][A-Za-z0-9_.\\\\\\\\/>-]*$')/\n",
            "WARNING:tensorflow:`_pre_activation` is not a valid node name. Accepted names conform to Regex /re.compile('^[A-Za-z0-9.][A-Za-z0-9_.\\\\\\\\/>-]*$')/\n",
            "WARNING:tensorflow:`_logits` is not a valid node name. Accepted names conform to Regex /re.compile('^[A-Za-z0-9.][A-Za-z0-9_.\\\\\\\\/>-]*$')/\n",
            "WARNING:tensorflow:`_pre_activation` is not a valid node name. Accepted names conform to Regex /re.compile('^[A-Za-z0-9.][A-Za-z0-9_.\\\\\\\\/>-]*$')/\n"
          ]
        },
        {
          "output_type": "stream",
          "name": "stdout",
          "text": [
            "24/24 [==============================] - 226s 6s/step - loss: 0.6931 - mean_absolute_error: 0.3053 - accuracy: 0.0607 - val_loss: 0.6931 - val_mean_absolute_error: 0.2964 - val_accuracy: 0.0484\n"
          ]
        }
      ]
    },
    {
      "cell_type": "code",
      "execution_count": null,
      "metadata": {
        "id": "i0f2jE3iWzfz"
      },
      "outputs": [],
      "source": [
        "final_epoch = early_stop.stopped_epoch\n",
        "if final_epoch==0:  #implies early stopping hasn't occures\n",
        "  final_epoch=epochs-1"
      ]
    },
    {
      "cell_type": "code",
      "execution_count": null,
      "metadata": {
        "id": "Ty0UKzQxWzf0"
      },
      "outputs": [],
      "source": [
        "import matplotlib.pyplot as plt\n",
        "print(\"Plotting...\")\n",
        "f, (ax1, ax2) = plt.subplots(2, 1)\n",
        "ax1.plot(range(1, final_epoch+2), history.history['val_mean_absolute_error'], 'tab:blue', label=\"validation MAE\")\n",
        "ax1.plot(range(1, final_epoch+2), history.history['mean_absolute_error'], 'tab:red', label=\"training MAE\")\n",
        "\n",
        "ax2.plot(range(1, final_epoch+2), history.history['loss'], 'tab:orange', label=\"loss\")\n",
        "ax2.plot(range(1, final_epoch+2), history.history['val_loss'], 'tab:green', label=\"validation loss\")\n",
        "\n",
        "ax1.legend()\n",
        "ax2.legend()"
      ]
    },
    {
      "cell_type": "code",
      "source": [
        "new_model = tf.keras.models.load_model('/content/my_model')\n",
        "\n",
        "# Check its architecture\n",
        "new_model.summary()"
      ],
      "metadata": {
        "colab": {
          "base_uri": "https://localhost:8080/"
        },
        "id": "s_GVzPd7d9y5",
        "outputId": "e89cd344-72f0-4812-fab5-d5eaf91e6c4e"
      },
      "execution_count": null,
      "outputs": [
        {
          "output_type": "stream",
          "name": "stdout",
          "text": [
            "Model: \"model\"\n",
            "_________________________________________________________________\n",
            " Layer (type)                Output Shape              Param #   \n",
            "=================================================================\n",
            " input_1 (InputLayer)        [(None, 76, 768, 1)]      0         \n",
            "                                                                 \n",
            " conv2d (Conv2D)             (None, 74, 512, 64)       49408     \n",
            "                                                                 \n",
            " conv2d_1 (Conv2D)           (None, 33, 128, 128)      18948224  \n",
            "                                                                 \n",
            " average_pooling2d (AverageP  (None, 16, 64, 128)      0         \n",
            " ooling2D)                                                       \n",
            "                                                                 \n",
            " conv_caps_2d (ConvCaps2D)   (None, 6, 30, 16, 8)      25728     \n",
            "                                                                 \n",
            " lambda (Lambda)             (None, 6, 30, 16, 8)      0         \n",
            "                                                                 \n",
            " dense_caps (DenseCaps)      (None, 10, 16)            3686400   \n",
            "                                                                 \n",
            " lambda_1 (Lambda)           (None, 10, 16)            0         \n",
            "                                                                 \n",
            " flatten (Flatten)           (None, 160)               0         \n",
            "                                                                 \n",
            " dense (Dense)               (None, 1)                 161       \n",
            "                                                                 \n",
            "=================================================================\n",
            "Total params: 22,709,921\n",
            "Trainable params: 22,709,921\n",
            "Non-trainable params: 0\n",
            "_________________________________________________________________\n"
          ]
        }
      ]
    },
    {
      "cell_type": "code",
      "source": [
        "model.save_weights('capsule.h5')"
      ],
      "metadata": {
        "id": "GU_gLIL9Z2TN"
      },
      "execution_count": null,
      "outputs": []
    },
    {
      "cell_type": "markdown",
      "source": [
        "## Testing"
      ],
      "metadata": {
        "id": "Fcm5eej7-go2"
      }
    },
    {
      "cell_type": "code",
      "source": [
        "# Open a strategy scope.\n",
        "with strategy.scope():\n",
        "    # Everything that creates variables should be under the strategy scope.\n",
        "    # In general this is only model construction & `compile()`.\n",
        "    inputs = tf.keras.Input(shape=(76, 768, 1))  # x.shape[1]\n",
        "\n",
        "    conv2d_layer_1 = Conv2D(64, (3,257), padding='valid', activation='relu', strides=1)(inputs)\n",
        "    conv2d_layer_2 = Conv2D(128, (9,257), padding='valid', activation='relu', strides=2)(conv2d_layer_1)\n",
        "\n",
        "    avgpool = AveragePooling2D((2,2))(conv2d_layer_2)\n",
        "\n",
        "    # convert to capsule domain\n",
        "    conv_caps_2d = ConvCaps2D(filters=16, filter_dims=8, kernel_size=(5,5), strides=(2, 2), name='conv_caps_2d')(avgpool)\n",
        "    conv_caps_2d = Lambda(nn.squash)(conv_caps_2d)\n",
        "\n",
        "    # dense layer for dynamic routing\n",
        "    dense_caps = DenseCaps(caps=10, caps_dims=16, routing_iter=3, name='dense_caps')(conv_caps_2d)\n",
        "    dense_caps = Lambda(nn.squash)(dense_caps)\n",
        "\n",
        "    #merged = concatenate([tower1, tower2, tower3, tower4], axis=2)\n",
        "    merged = Flatten()(dense_caps)\n",
        "\n",
        "    #drop = Dropout(0.1)(merged)\n",
        "    outputs = Dense(1, activation='sigmoid')(merged)\n",
        "\n",
        "    model = tf.keras.Model(inputs=inputs, outputs=outputs)\n",
        "\n",
        "    model.compile(loss='binary_crossentropy',\n",
        "                      optimizer=Adadelta(),\n",
        "                      metrics=['mean_absolute_error','accuracy'])"
      ],
      "metadata": {
        "id": "fkDHNM3ZbVbi"
      },
      "execution_count": null,
      "outputs": []
    },
    {
      "cell_type": "code",
      "source": [
        "model.load_weights('capsule.h5')"
      ],
      "metadata": {
        "id": "2nkAJDjDbXg2"
      },
      "execution_count": null,
      "outputs": []
    },
    {
      "cell_type": "code",
      "source": [
        "test_data_source = test['article'].values.tolist()\n",
        "test_data_summary = test['highlights'].values.tolist()"
      ],
      "metadata": {
        "id": "6Qaa-6EwPBM6"
      },
      "execution_count": null,
      "outputs": []
    },
    {
      "cell_type": "code",
      "source": [
        "k = math.ceil(avg_sent_per_sum)\n",
        "print('Value of k:',k)"
      ],
      "metadata": {
        "id": "wT1q-rkHPBSo"
      },
      "execution_count": null,
      "outputs": []
    },
    {
      "cell_type": "code",
      "source": [
        "result_rouge_list = []\n",
        "\n",
        "for i in range(len(test_data_source)):\n",
        "  doc = test_data_source[i]\n",
        "  summary = test_data_summary[i]\n",
        "  sentences = split_to_sentences(doc)\n",
        "\n",
        "  # sentences are encoded (padded and truncated to input size of model) and embedded using BERT\n",
        "  encoded_sentences = tokenizer(sentences, return_tensors='tf', padding='max_length', truncation=True, max_length=76)\n",
        "  embedded_sentences = enc_model(encoded_sentences)\n",
        "\n",
        "  # embedded_sentences has two outputs- 'last_hidden_state' and 'pooler_output' (which is like sentence embedding)\n",
        "  x_test = embedded_sentences['last_hidden_state'].numpy()\n",
        "  # reshaping to format acceptable by model\n",
        "  x_test_re = x_test.reshape(x_test.shape[0], x_test.shape[1], 768, 1)\n",
        "  y_pred = model.predict(x_test_re)\n",
        "  y_pred=y_pred.reshape(y_pred.shape[0],)\n",
        "\n",
        "  # choosing the top k (k- average of number of sentences per summary during training)\n",
        "  temp = sorted(y_pred)[-k:]\n",
        "  sal_index = []\n",
        "  for ele in temp:\n",
        "    sal_index.append(list(y_pred).index(ele))\n",
        "  sal_index_sorted = sorted(sal_index)\n",
        "\n",
        "  # pred_summary - list of sentences having the top k saliency scores as predicted by the model\n",
        "  pred_summary = []\n",
        "  for ind in sal_index_sorted:\n",
        "    pred_summary.append(sentences[ind])\n",
        "\n",
        "  # the sentences in pred_summary are joined\n",
        "  final_pred_summary = ' '.join(pred_summary)\n",
        "\n",
        "  # Rouge score is calculates between the predicted summary (final_pred_summary) and the reference summary\n",
        "  rouge = Rouge()\n",
        "  result_rouge_list.append(rouge.get_scores(summary, final_pred_summary, avg=True))"
      ],
      "metadata": {
        "id": "khgxiyY-AbbO"
      },
      "execution_count": null,
      "outputs": []
    },
    {
      "cell_type": "code",
      "source": [
        "agg_rouge_score = {'rouge-1':{'r':0,'p':0,'f':0},'rouge-2':{'r':0,'p':0,'f':0},\n",
        "                   'rouge-l':{'r':0,'p':0,'f':0}}\n",
        "\n",
        "for i in range(len(result_rouge_list)):\n",
        "  for rouge_type in ['rouge-1','rouge-2','rouge-l']:\n",
        "    for j in ['r','p','f']:\n",
        "      agg_rouge_score[rouge_type][j]+=(result_rouge_list[i][rouge_type][j]/len(result_rouge_list))\n",
        "\n",
        "print(agg_rouge_score)"
      ],
      "metadata": {
        "id": "wxR06iA5AbdN"
      },
      "execution_count": null,
      "outputs": []
    },
    {
      "cell_type": "markdown",
      "source": [
        "## Updated Evaluation"
      ],
      "metadata": {
        "id": "BFc9okJ_cAQe"
      }
    },
    {
      "cell_type": "code",
      "source": [
        "!pip install evaluate\n",
        "!pip install bert_score\n",
        "\n",
        "from evaluate import load"
      ],
      "metadata": {
        "id": "HX1_gb8QEVYK"
      },
      "execution_count": null,
      "outputs": []
    },
    {
      "cell_type": "code",
      "source": [
        "test_data_source = test['article'].values.tolist()      # list containing articles of test dataset\n",
        "test_data_summary = test['highlights'].values.tolist()  # list containing highlights of test dataset"
      ],
      "metadata": {
        "id": "e7Gbi74wEYVE"
      },
      "execution_count": null,
      "outputs": []
    },
    {
      "cell_type": "code",
      "source": [
        "print(len(test_data_source))\n",
        "print(len(test_data_summary))"
      ],
      "metadata": {
        "colab": {
          "base_uri": "https://localhost:8080/"
        },
        "id": "Vx0W077ScovK",
        "outputId": "53f4741c-482a-429b-f117-7a9123eb19d3"
      },
      "execution_count": null,
      "outputs": [
        {
          "output_type": "stream",
          "name": "stdout",
          "text": [
            "5\n",
            "5\n"
          ]
        }
      ]
    },
    {
      "cell_type": "code",
      "source": [
        "import tqdm"
      ],
      "metadata": {
        "id": "s1COq7Z3dMgl"
      },
      "execution_count": null,
      "outputs": []
    },
    {
      "cell_type": "code",
      "execution_count": null,
      "metadata": {
        "id": "KgSQ4-P5Be07",
        "colab": {
          "base_uri": "https://localhost:8080/",
          "height": 235
        },
        "outputId": "3cd29158-d6c2-41f3-f1e2-b7622109d85b"
      },
      "outputs": [
        {
          "output_type": "error",
          "ename": "TypeError",
          "evalue": "ignored",
          "traceback": [
            "\u001b[0;31m---------------------------------------------------------------------------\u001b[0m",
            "\u001b[0;31mTypeError\u001b[0m                                 Traceback (most recent call last)",
            "\u001b[0;32m<ipython-input-47-cf9f16d50c5f>\u001b[0m in \u001b[0;36m<cell line: 4>\u001b[0;34m()\u001b[0m\n\u001b[1;32m      2\u001b[0m \u001b[0mresult_bertscore_list\u001b[0m \u001b[0;34m=\u001b[0m \u001b[0;34m[\u001b[0m\u001b[0;34m]\u001b[0m\u001b[0;34m\u001b[0m\u001b[0;34m\u001b[0m\u001b[0m\n\u001b[1;32m      3\u001b[0m \u001b[0;34m\u001b[0m\u001b[0m\n\u001b[0;32m----> 4\u001b[0;31m \u001b[0;32mfor\u001b[0m \u001b[0mi\u001b[0m \u001b[0;32min\u001b[0m \u001b[0mtqdm\u001b[0m\u001b[0;34m(\u001b[0m\u001b[0mrange\u001b[0m\u001b[0;34m(\u001b[0m\u001b[0mlen\u001b[0m\u001b[0;34m(\u001b[0m\u001b[0mtest_data_source\u001b[0m\u001b[0;34m)\u001b[0m\u001b[0;34m)\u001b[0m\u001b[0;34m)\u001b[0m\u001b[0;34m:\u001b[0m\u001b[0;34m\u001b[0m\u001b[0;34m\u001b[0m\u001b[0m\n\u001b[0m\u001b[1;32m      5\u001b[0m   \u001b[0mdoc\u001b[0m \u001b[0;34m=\u001b[0m \u001b[0mtest_data_source\u001b[0m\u001b[0;34m[\u001b[0m\u001b[0mi\u001b[0m\u001b[0;34m]\u001b[0m\u001b[0;34m\u001b[0m\u001b[0;34m\u001b[0m\u001b[0m\n\u001b[1;32m      6\u001b[0m   \u001b[0msummary\u001b[0m \u001b[0;34m=\u001b[0m \u001b[0mtest_data_summary\u001b[0m\u001b[0;34m[\u001b[0m\u001b[0mi\u001b[0m\u001b[0;34m]\u001b[0m\u001b[0;34m\u001b[0m\u001b[0;34m\u001b[0m\u001b[0m\n",
            "\u001b[0;31mTypeError\u001b[0m: 'module' object is not callable"
          ]
        }
      ],
      "source": [
        "result_rouge_list = []\n",
        "result_bertscore_list = []\n",
        "\n",
        "for i in tqdm(range(len(test_data_source))):\n",
        "  doc = test_data_source[i]\n",
        "  summary = test_data_summary[i]\n",
        "  print(doc)\n",
        "  print('---------------------------------------')\n",
        "  sentences = split_to_sentences(doc)\n",
        "\n",
        "  encoded_sentences = tokenizer(sentences, return_tensors='tf', padding='max_length', truncation=True, max_length=76)\n",
        "  embedded_sentences = enc_model(encoded_sentences)\n",
        "\n",
        "  # embedded_sentences has two outputs- 'last_hidden_state' and 'pooler_output' (which is like sentence embedding)\n",
        "  x_test = embedded_sentences['last_hidden_state'].numpy()\n",
        "  # reshaping to format acceptable by model\n",
        "  x_test_re = x_test.reshape(x_test.shape[0], x_test.shape[1], 768, 1)\n",
        "  y_pred = model.predict(x_test_re)\n",
        "  y_pred=y_pred.reshape(y_pred.shape[0],)\n",
        "  \"\"\"\n",
        "  # sentences are encoded (padded and truncated to input size of model) and embedded using BERT\n",
        "  encoded_sentences = tokenizer(sentences, return_tensors='tf', padding='max_length', truncation=True, max_length=50)\n",
        "  test_input_ids = encoded_sentences['input_ids']\n",
        "  test_attention_mask = encoded_sentences['attention_mask']\n",
        "\n",
        "  y_pred = model.predict([test_input_ids,test_attention_mask])\n",
        "  y_pred = y_pred.reshape(y_pred.shape[0],)\n",
        "  \"\"\"\n",
        "  temp = sorted(y_pred,reverse=True)   # saliency scores sorted in descending order\n",
        "  pred_summary = []\n",
        "  word_limit=75                        # specify word limit to restrict summary length to\n",
        "  l = 0\n",
        "  for i in range(len(temp)):           # loopong through all values\n",
        "    ind = list(y_pred).index(temp[i])        # getting index of saliency score to match to sentence\n",
        "    if l<word_limit:\n",
        "      l+=len(sentences[ind].split(' '))\n",
        "      if l<=word_limit:                # if after adding this sentence, word limit is not exceeded- add it completely\n",
        "        pred_summary.append([ind,sentences[ind]])  # index added to sort in order later\n",
        "      else:\n",
        "        req_len = l-word_limit\n",
        "        temp_list = sentences[ind].split(' ')[:req_len]\n",
        "        pred_summary.append([ind,' '.join(temp_list)])  # if after adding this sentence, word limit is exceeded - add till limit is reached\n",
        "\n",
        "  def Sort(sub_li):\n",
        "    sub_li.sort(key = lambda x: x[0])\n",
        "    return sub_li\n",
        "\n",
        "  pred_summary_index_sorted = Sort(pred_summary)   # sort the sentences according to increasing value of index to retain order\n",
        "  # the sentences in pred_summary are joined\n",
        "  pred_summary_sorted = []\n",
        "  for i in range(len(pred_summary_index_sorted)):\n",
        "    pred_summary_sorted.append(pred_summary_index_sorted[i][1])\n",
        "\n",
        "  final_pred_summary = ' '.join(pred_summary_sorted)   # join all sentences in list\n",
        "\n",
        "  # Rouge score is calculates between the predicted summary (final_pred_summary) and the reference summary\n",
        "  rouge = Rouge()\n",
        "  result_rouge_list.append(rouge.get_scores(final_pred_summary, summary, avg=True))  # rouge.get_scores(sys, ref, avg=True)\n",
        "  bertscore = load(\"bertscore\")\n",
        "  result_bertscore_list.append(bertscore.compute(predictions=[final_pred_summary], references=[summary], model_type=\"distilbert-base-uncased\"))"
      ]
    },
    {
      "cell_type": "code",
      "source": [
        "result_rouge_list = []\n",
        "result_bertscore_list = []\n",
        "\n",
        "for i in range(len(test_data_source)):\n",
        "  doc = test_data_source[i]\n",
        "  summary = test_data_summary[i]\n",
        "  sentences = split_to_sentences(doc)\n",
        "  print(doc)\n",
        "  print('---------------------------------------')\n",
        "\n",
        "  encoded_sentences = tokenizer(sentences, return_tensors='tf', padding='max_length', truncation=True, max_length=76)\n",
        "  embedded_sentences = enc_model(encoded_sentences)\n",
        "\n",
        "  # embedded_sentences has two outputs- 'last_hidden_state' and 'pooler_output' (which is like sentence embedding)\n",
        "  x_test = embedded_sentences['last_hidden_state'].numpy()\n",
        "  # reshaping to format acceptable by model\n",
        "  x_test_re = x_test.reshape(x_test.shape[0], x_test.shape[1], 768, 1)\n",
        "  y_pred = model.predict(x_test_re)\n",
        "  print(y_pred)\n",
        "  print('--------------------------')\n",
        "  y_pred=y_pred.reshape(y_pred.shape[0],)\n",
        "  print(y_pred)\n",
        "  print('--------------------------')\n",
        "\n",
        "  def Sort(sub_li, r):\n",
        "    sub_li.sort(key = lambda x: x[0], reverse=r) # reverse=True will sort the list descending\n",
        "    return sub_li\n",
        "\n",
        "  predictions = []\n",
        "  for i in range(len(y_pred)):\n",
        "    predictions.append([y_pred[i], i, sentences[i]])    # appending list of saliency score and its corresponding index and sentence\n",
        "  print(predictions)\n",
        "  print('--------------------------')\n",
        "\n",
        "  sorted_predictions = Sort(predictions,True)            # sorting pairs according to saliency score in descending order; True implies descending order\n",
        "  print(sorted_predictions)\n",
        "  print('--------------------------')\n",
        "  unordered_summary = []\n",
        "  l = 0\n",
        "  word_limit = 75                                   # to test for word_limit = 75 & 100 for daily mail\n",
        "  for i in range(len(sorted_predictions)):          # looping through sentences in order of descending value of saliency score\n",
        "    ind = sorted_predictions[i][1]\n",
        "    sent = sorted_predictions[i][2]\n",
        "    if l<word_limit:\n",
        "      l+=len(sent.split(' '))\n",
        "      if l<=word_limit:\n",
        "        unordered_summary.append([ind,sent])\n",
        "      else:\n",
        "        req_len = l-word_limit\n",
        "        temp_list = sent.split(' ')[:req_len]\n",
        "        unordered_summary.append([ind,' '.join(temp_list)])  # if after adding this sentence, word limit is exceeded - add till limit is reached\n",
        "  print(unordered_summary)\n",
        "  print('--------------------------')\n",
        "\n",
        "  predicted_summary = Sort(unordered_summary,False)    # sort according to index value; False implies ascending order of index\n",
        "  print(predicted_summary)\n",
        "  print('--------------------------')\n",
        "  temp_summary_list = []\n",
        "  for i in range(len(predicted_summary)):\n",
        "    temp_summary_list.append(predicted_summary[i][1])\n",
        "  final_pred_summary = ' '.join(temp_summary_list)   # join all sentences in list\n",
        "  temp_final_pred_summary = final_pred_summary.split(' ')[:word_limit]\n",
        "  final_pred_summary = ' '.join(temp_final_pred_summary)\n",
        "  print(final_pred_summary)\n",
        "  print(len(final_pred_summary.split(' ')))\n",
        "\n",
        "  print('--------------------------')\n",
        "  print('--------------------------')\n",
        "  # Rouge score is calculates between the predicted summary (final_pred_summary) and the reference summary\n",
        "  rouge = Rouge()\n",
        "  result_rouge_list.append(rouge.get_scores(final_pred_summary, summary, avg=True))  # rouge.get_scores(sys, ref, avg=True)\n",
        "  bertscore = load(\"bertscore\")\n",
        "  result_bertscore_list.append(bertscore.compute(predictions=[final_pred_summary], references=[summary], model_type=\"distilbert-base-uncased\"))"
      ],
      "metadata": {
        "colab": {
          "base_uri": "https://localhost:8080/"
        },
        "id": "hwuO_KxIh5Ir",
        "outputId": "95a14b7e-4fd3-49b3-8e87-6acdb681522b"
      },
      "execution_count": null,
      "outputs": [
        {
          "output_type": "stream",
          "name": "stdout",
          "text": [
            "Beirut (CNN) -- Syria carried out an airstrike on a refugee camp in northern Lebanon Saturday, killing nine Syrians and wounding nine more, a Lebanese state-run news agency reported. The strike centered on a Syrian refugee camp located near the Syrian border between the towns of Baalbeck and Arsal in the Bekaa Valley, the National News Agency said. The Red Cross took the casualties to Universal Hospital in Baalbek. Saturday's strike was not the first by the Syrian government, which has accused rebels of smuggling arms and supplies across the border. On March 18, two Syrian jets fired three rockets that hit empty buildings near Arsal. At the time, a U.S. State Department spokeswoman called the use of fighter jets to fire rockets into Lebanon a \"significant escalation.\" U.N. commissioner wants to probe into whether Syrian rebels executed soldiers . Also in March, the U.N. Security Council voiced \"grave concern over repeated incidents of cross-border fire which caused death and injury among the Lebanese population, incursions, abductions and arms trafficking across the Lebanese-Syrian border, as well as other border violations.\" The declaration followed a briefing by officials on how the conflict in Syria has spilled into Lebanon. More than 600,000 Syrians have fled to neighboring Lebanon, a country of about 4 million people, according to a U.N. estimate. But the Lebanese government puts the total at more than 1 million. Whatever the true figure, there is no dispute that the influx has destabilized the area and heightened tensions. The attack comes as the Syrian conflict is mired in a third year of unrest, which started in March 2011 when President Bashar al-Assad cracked down on peaceful protesters. Since then, it has evolved into a civil war that has killed more than 100,000 and transformed more than 1 million others into refugees, according to the Red Cross. Read more: U.N. inspectors heading to Syria to probe chemical weapons reports . CNN's Nick Paton Walsh reported this story from Beirut, and Tom Watkins wrote it in Atlanta. CNN's Hamdi Alkhshali and Yousuf Basil contributed to this report .\n",
            "---------------------------------------\n",
            "1/1 [==============================] - 0s 104ms/step\n",
            "[[0.49998873]\n",
            " [0.49998868]\n",
            " [0.49998873]\n",
            " [0.49998873]\n",
            " [0.49998868]\n",
            " [0.49998868]\n",
            " [0.49998873]\n",
            " [0.4999888 ]\n",
            " [0.49998868]\n",
            " [0.49998868]\n",
            " [0.49998868]\n",
            " [0.49998868]\n",
            " [0.4999888 ]\n",
            " [0.49998868]\n",
            " [0.49998868]\n",
            " [0.49998868]\n",
            " [0.49998868]]\n",
            "--------------------------\n",
            "[0.49998873 0.49998868 0.49998873 0.49998873 0.49998868 0.49998868\n",
            " 0.49998873 0.4999888  0.49998868 0.49998868 0.49998868 0.49998868\n",
            " 0.4999888  0.49998868 0.49998868 0.49998868 0.49998868]\n",
            "--------------------------\n",
            "[[0.49998873, 0, 'Beirut (CNN) -- Syria carried out an airstrike on a refugee camp in northern Lebanon Saturday, killing nine Syrians and wounding nine more, a Lebanese state-run news agency reported.'], [0.49998868, 1, 'The strike centered on a Syrian refugee camp located near the Syrian border between the towns of Baalbeck and Arsal in the Bekaa Valley, the National News Agency said.'], [0.49998873, 2, 'The Red Cross took the casualties to Universal Hospital in Baalbek.'], [0.49998873, 3, \"Saturday's strike was not the first by the Syrian government, which has accused rebels of smuggling arms and supplies across the border.\"], [0.49998868, 4, 'On March 18, two Syrian jets fired three rockets that hit empty buildings near Arsal.'], [0.49998868, 5, 'At the time, a U.S. State Department spokeswoman called the use of fighter jets to fire rockets into Lebanon a \"significant escalation.\"'], [0.49998873, 6, 'U.N. commissioner wants to probe into whether Syrian rebels executed soldiers .'], [0.4999888, 7, 'Also in March, the U.N. Security Council voiced \"grave concern over repeated incidents of cross-border fire which caused death and injury among the Lebanese population, incursions, abductions and arms trafficking across the Lebanese-Syrian border, as well as other border violations.\"'], [0.49998868, 8, 'The declaration followed a briefing by officials on how the conflict in Syria has spilled into Lebanon.'], [0.49998868, 9, 'More than 600,000 Syrians have fled to neighboring Lebanon, a country of about 4 million people, according to a U.N. estimate.'], [0.49998868, 10, 'But the Lebanese government puts the total at more than 1 million.'], [0.49998868, 11, 'Whatever the true figure, there is no dispute that the influx has destabilized the area and heightened tensions.'], [0.4999888, 12, 'The attack comes as the Syrian conflict is mired in a third year of unrest, which started in March 2011 when President Bashar al-Assad cracked down on peaceful protesters.'], [0.49998868, 13, 'Since then, it has evolved into a civil war that has killed more than 100,000 and transformed more than 1 million others into refugees, according to the Red Cross.'], [0.49998868, 14, 'Read more: U.N. inspectors heading to Syria to probe chemical weapons reports .'], [0.49998868, 15, \"CNN's Nick Paton Walsh reported this story from Beirut, and Tom Watkins wrote it in Atlanta.\"], [0.49998868, 16, \"CNN's Hamdi Alkhshali and Yousuf Basil contributed to this report .\"]]\n",
            "--------------------------\n",
            "[[0.4999888, 7, 'Also in March, the U.N. Security Council voiced \"grave concern over repeated incidents of cross-border fire which caused death and injury among the Lebanese population, incursions, abductions and arms trafficking across the Lebanese-Syrian border, as well as other border violations.\"'], [0.4999888, 12, 'The attack comes as the Syrian conflict is mired in a third year of unrest, which started in March 2011 when President Bashar al-Assad cracked down on peaceful protesters.'], [0.49998873, 0, 'Beirut (CNN) -- Syria carried out an airstrike on a refugee camp in northern Lebanon Saturday, killing nine Syrians and wounding nine more, a Lebanese state-run news agency reported.'], [0.49998873, 2, 'The Red Cross took the casualties to Universal Hospital in Baalbek.'], [0.49998873, 3, \"Saturday's strike was not the first by the Syrian government, which has accused rebels of smuggling arms and supplies across the border.\"], [0.49998873, 6, 'U.N. commissioner wants to probe into whether Syrian rebels executed soldiers .'], [0.49998868, 1, 'The strike centered on a Syrian refugee camp located near the Syrian border between the towns of Baalbeck and Arsal in the Bekaa Valley, the National News Agency said.'], [0.49998868, 4, 'On March 18, two Syrian jets fired three rockets that hit empty buildings near Arsal.'], [0.49998868, 5, 'At the time, a U.S. State Department spokeswoman called the use of fighter jets to fire rockets into Lebanon a \"significant escalation.\"'], [0.49998868, 8, 'The declaration followed a briefing by officials on how the conflict in Syria has spilled into Lebanon.'], [0.49998868, 9, 'More than 600,000 Syrians have fled to neighboring Lebanon, a country of about 4 million people, according to a U.N. estimate.'], [0.49998868, 10, 'But the Lebanese government puts the total at more than 1 million.'], [0.49998868, 11, 'Whatever the true figure, there is no dispute that the influx has destabilized the area and heightened tensions.'], [0.49998868, 13, 'Since then, it has evolved into a civil war that has killed more than 100,000 and transformed more than 1 million others into refugees, according to the Red Cross.'], [0.49998868, 14, 'Read more: U.N. inspectors heading to Syria to probe chemical weapons reports .'], [0.49998868, 15, \"CNN's Nick Paton Walsh reported this story from Beirut, and Tom Watkins wrote it in Atlanta.\"], [0.49998868, 16, \"CNN's Hamdi Alkhshali and Yousuf Basil contributed to this report .\"]]\n",
            "--------------------------\n",
            "[[7, 'Also in March, the U.N. Security Council voiced \"grave concern over repeated incidents of cross-border fire which caused death and injury among the Lebanese population, incursions, abductions and arms trafficking across the Lebanese-Syrian border, as well as other border violations.\"'], [12, 'The attack comes as the Syrian conflict is mired in a third year of unrest, which started in March 2011 when President Bashar al-Assad cracked down on peaceful protesters.'], [0, 'Beirut (CNN) -- Syria carried out an airstrike on a refugee camp in northern Lebanon Saturday, killing nine Syrians and wounding nine more,']]\n",
            "--------------------------\n",
            "[[0, 'Beirut (CNN) -- Syria carried out an airstrike on a refugee camp in northern Lebanon Saturday, killing nine Syrians and wounding nine more,'], [7, 'Also in March, the U.N. Security Council voiced \"grave concern over repeated incidents of cross-border fire which caused death and injury among the Lebanese population, incursions, abductions and arms trafficking across the Lebanese-Syrian border, as well as other border violations.\"'], [12, 'The attack comes as the Syrian conflict is mired in a third year of unrest, which started in March 2011 when President Bashar al-Assad cracked down on peaceful protesters.']]\n",
            "--------------------------\n",
            "Beirut (CNN) -- Syria carried out an airstrike on a refugee camp in northern Lebanon Saturday, killing nine Syrians and wounding nine more, Also in March, the U.N. Security Council voiced \"grave concern over repeated incidents of cross-border fire which caused death and injury among the Lebanese population, incursions, abductions and arms trafficking across the Lebanese-Syrian border, as well as other border violations.\" The attack comes as the Syrian conflict is mired in a third\n",
            "75\n",
            "--------------------------\n",
            "--------------------------\n",
            "An Australian citizen, who has awaited trial from behind the bars of a Russian prison for more than two years, could face a minimum of 15 years in jail for the supply of poppy seeds. Roman Shilov, whose wife and the baby daughter live in Brisbane, was detained by Russian authorities on charges of drug trafficking in July 2012, according to the ABC. He has never met his daughter. The Australian and Russian citizen has been refused bail due to being considered a flight risk, despite the Australian government assuring prosecutors that he would not be issued a passport, a letter from Foreign Affairs Minister Julie Bishop has revealed. Roman Shilov, whose wife and the baby daughter he's never had the chance to meet live in Brisbane, was detained by Russian authorities on controversial charges of drug trafficking in July 2012 . 'Regrettably, Russian authorities have not accepted this advice and remain committed to having Mr Shilov remain in detention,' Ms Bishop wrote in a letter to the Shilov family's local MP. The letter also noted that the Russian Government was refusing to recognise Mr Shilov's dual nationality which in turn 'seriously limits the ability of the Australian Government to provide consular assistance'. Mr Shilov had returned to Moscow three years before his arrest to assist his father with his spice trade business which supplied up to 20 per cent of the country's poppy seed market at the time, the ABC reported. Poppy seeds are currently classified as narcotics by the Russian government. The Australian and Russian citizen, who has been detained without trial for two and a half years, has now been refused bail due to being considered a flight risk despite the Australian government assuring prosecutors that he would not be issued a passport . One of the charges laid against Shilov and his father by Russia's Federal Drug Control Service is the importation of 47 tonnes of narcotics. The ABC reported that this shipment was made up entirely of poppy seeds and the Service had even admitted that only 0.001 percent of it could be extracted as narcotics. Evgeny Shilov, Mr Shilov's brother who also lives in Brisbane, told the ABC that the minimum 15 year sentence was worrying and expressed concern over his brother's detainment. 'It seems very, very unfair that he's been put away from day one and hasn't been let go,' he said. Evgeny Shilov, Mr Shilov's brother who also lives in Brisbane, told the ABC that the minimum 15 year sentence was a worrying one and expressed concern over his brother's long term detainment . 'I'm still hoping that it's going to get resolved. That's all.\" The Department of Foreign Affairs told Daily Mail Australia in a statement: 'Where there have been concerns expressed about his [Mr Shilov's] health or welfare in prison, the Department has made representations to Russian authorities. 'Consular officials are also in regular communication with the man's family and his legal advisers about his case.'\n",
            "---------------------------------------\n",
            "1/1 [==============================] - 0s 70ms/step\n",
            "[[0.4999888 ]\n",
            " [0.49998868]\n",
            " [0.49998868]\n",
            " [0.49998868]\n",
            " [0.49998868]\n",
            " [0.4999888 ]\n",
            " [0.49998868]\n",
            " [0.49998868]\n",
            " [0.4999888 ]\n",
            " [0.49998873]\n",
            " [0.49998873]\n",
            " [0.49998873]\n",
            " [0.49998873]\n",
            " [0.49998873]\n",
            " [0.49998868]\n",
            " [0.49998868]\n",
            " [0.49998868]\n",
            " [0.49998868]\n",
            " [0.49998868]]\n",
            "--------------------------\n",
            "[0.4999888  0.49998868 0.49998868 0.49998868 0.49998868 0.4999888\n",
            " 0.49998868 0.49998868 0.4999888  0.49998873 0.49998873 0.49998873\n",
            " 0.49998873 0.49998873 0.49998868 0.49998868 0.49998868 0.49998868\n",
            " 0.49998868]\n",
            "--------------------------\n",
            "[[0.4999888, 0, 'An Australian citizen, who has awaited trial from behind the bars of a Russian prison for more than two years, could face a minimum of 15 years in jail for the supply of poppy seeds.'], [0.49998868, 1, 'Roman Shilov, whose wife and the baby daughter live in Brisbane, was detained by Russian authorities on charges of drug trafficking in July 2012, according to the\\xa0ABC.'], [0.49998868, 2, 'He has never met his daughter.'], [0.49998868, 3, 'The Australian and Russian citizen has been refused bail due to being considered a flight risk, despite the Australian government assuring prosecutors that he would not be issued a passport, a letter from Foreign Affairs Minister Julie Bishop has revealed.'], [0.49998868, 4, \"Roman Shilov, whose wife and the baby daughter he's never had the chance to meet live in Brisbane, was detained by Russian authorities on controversial charges of drug trafficking in July 2012 .\"], [0.4999888, 5, \"'Regrettably, Russian authorities have not accepted this advice and remain committed to having Mr Shilov remain in detention,' Ms Bishop wrote in a letter to the Shilov family's local MP.\"], [0.49998868, 6, \"The letter also noted that the Russian Government was refusing to recognise Mr Shilov's dual nationality which in turn 'seriously limits the ability of the Australian Government to provide consular assistance'.\"], [0.49998868, 7, \"Mr Shilov had returned to Moscow three years before his arrest to assist his father with his spice trade business which supplied up to 20 per cent of the country's poppy seed market at the time, the ABC reported.\"], [0.4999888, 8, 'Poppy seeds are currently classified as narcotics by the Russian government.'], [0.49998873, 9, 'The Australian and Russian citizen, who has been detained without trial for two and a half years, has now been refused bail due to being considered a flight risk despite the Australian government assuring prosecutors that he would not be issued a passport .'], [0.49998873, 10, \"One of the charges laid against Shilov and his father by Russia's Federal Drug Control Service is the importation of 47 tonnes of narcotics.\"], [0.49998873, 11, 'The ABC reported that this shipment was made up entirely of poppy seeds and the Service had even admitted that only 0.001 percent of it could be extracted as narcotics.'], [0.49998873, 12, \"Evgeny Shilov, Mr Shilov's brother who also lives in Brisbane, told the ABC that the minimum 15 year sentence was worrying and expressed concern over his brother's detainment.\"], [0.49998873, 13, \"'It seems very, very unfair that he's been put away from day one and hasn't been let go,' he said.\"], [0.49998868, 14, \"Evgeny Shilov, Mr Shilov's brother who also lives in Brisbane, told the ABC that the minimum 15 year sentence was a worrying one and expressed concern over his brother's long term detainment .\"], [0.49998868, 15, \"'I'm still hoping that it's going to get resolved.\"], [0.49998868, 16, 'That\\'s all.\"'], [0.49998868, 17, \"The Department of Foreign Affairs told Daily Mail Australia in a statement: 'Where there have been concerns expressed about his [Mr Shilov's] health or welfare in prison, the Department has made representations to Russian authorities.\"], [0.49998868, 18, \"'Consular officials are also in regular communication with the man's family and his legal advisers about his case.'\"]]\n",
            "--------------------------\n",
            "[[0.4999888, 0, 'An Australian citizen, who has awaited trial from behind the bars of a Russian prison for more than two years, could face a minimum of 15 years in jail for the supply of poppy seeds.'], [0.4999888, 5, \"'Regrettably, Russian authorities have not accepted this advice and remain committed to having Mr Shilov remain in detention,' Ms Bishop wrote in a letter to the Shilov family's local MP.\"], [0.4999888, 8, 'Poppy seeds are currently classified as narcotics by the Russian government.'], [0.49998873, 9, 'The Australian and Russian citizen, who has been detained without trial for two and a half years, has now been refused bail due to being considered a flight risk despite the Australian government assuring prosecutors that he would not be issued a passport .'], [0.49998873, 10, \"One of the charges laid against Shilov and his father by Russia's Federal Drug Control Service is the importation of 47 tonnes of narcotics.\"], [0.49998873, 11, 'The ABC reported that this shipment was made up entirely of poppy seeds and the Service had even admitted that only 0.001 percent of it could be extracted as narcotics.'], [0.49998873, 12, \"Evgeny Shilov, Mr Shilov's brother who also lives in Brisbane, told the ABC that the minimum 15 year sentence was worrying and expressed concern over his brother's detainment.\"], [0.49998873, 13, \"'It seems very, very unfair that he's been put away from day one and hasn't been let go,' he said.\"], [0.49998868, 1, 'Roman Shilov, whose wife and the baby daughter live in Brisbane, was detained by Russian authorities on charges of drug trafficking in July 2012, according to the\\xa0ABC.'], [0.49998868, 2, 'He has never met his daughter.'], [0.49998868, 3, 'The Australian and Russian citizen has been refused bail due to being considered a flight risk, despite the Australian government assuring prosecutors that he would not be issued a passport, a letter from Foreign Affairs Minister Julie Bishop has revealed.'], [0.49998868, 4, \"Roman Shilov, whose wife and the baby daughter he's never had the chance to meet live in Brisbane, was detained by Russian authorities on controversial charges of drug trafficking in July 2012 .\"], [0.49998868, 6, \"The letter also noted that the Russian Government was refusing to recognise Mr Shilov's dual nationality which in turn 'seriously limits the ability of the Australian Government to provide consular assistance'.\"], [0.49998868, 7, \"Mr Shilov had returned to Moscow three years before his arrest to assist his father with his spice trade business which supplied up to 20 per cent of the country's poppy seed market at the time, the ABC reported.\"], [0.49998868, 14, \"Evgeny Shilov, Mr Shilov's brother who also lives in Brisbane, told the ABC that the minimum 15 year sentence was a worrying one and expressed concern over his brother's long term detainment .\"], [0.49998868, 15, \"'I'm still hoping that it's going to get resolved.\"], [0.49998868, 16, 'That\\'s all.\"'], [0.49998868, 17, \"The Department of Foreign Affairs told Daily Mail Australia in a statement: 'Where there have been concerns expressed about his [Mr Shilov's] health or welfare in prison, the Department has made representations to Russian authorities.\"], [0.49998868, 18, \"'Consular officials are also in regular communication with the man's family and his legal advisers about his case.'\"]]\n",
            "--------------------------\n",
            "[[0, 'An Australian citizen, who has awaited trial from behind the bars of a Russian prison for more than two years, could face a minimum of 15 years in jail for the supply of poppy seeds.'], [5, \"'Regrettably, Russian authorities have not accepted this advice and remain committed to having Mr Shilov remain in detention,' Ms Bishop wrote in a letter to the Shilov family's local MP.\"], [8, 'Poppy']]\n",
            "--------------------------\n",
            "[[0, 'An Australian citizen, who has awaited trial from behind the bars of a Russian prison for more than two years, could face a minimum of 15 years in jail for the supply of poppy seeds.'], [5, \"'Regrettably, Russian authorities have not accepted this advice and remain committed to having Mr Shilov remain in detention,' Ms Bishop wrote in a letter to the Shilov family's local MP.\"], [8, 'Poppy']]\n",
            "--------------------------\n",
            "An Australian citizen, who has awaited trial from behind the bars of a Russian prison for more than two years, could face a minimum of 15 years in jail for the supply of poppy seeds. 'Regrettably, Russian authorities have not accepted this advice and remain committed to having Mr Shilov remain in detention,' Ms Bishop wrote in a letter to the Shilov family's local MP. Poppy\n",
            "66\n",
            "--------------------------\n",
            "--------------------------\n",
            "Everton are still looking to add two new players to their ranks with Tom Cleverley of Manchester United among the options for Roberto Martinez. The midfielder made his competitive debut for United three years ago and turns 25 on August 12. He has 78 first team games under his belt  but has been targeted as one of the squad's weaker links after failing to kick-on in the last year with any consistency. Everton manager Martinez was widely credited with improving Cleverley while coaching him at Wigan, where he played 25 games in 2010-11, and the Spaniard is keeping a close on developments at Old Trafford. VIDEO Scroll down to watch Roberto Martinez: Everton need to sign a few more players . On the move? Everton are interested in Manchester United's much-criticised midfielder Tom Cleverley, with manager Roberto Martinez believing he can reinvigorate the England man . Previous experience: Martinez worked with Cleverley when he was manager of Wigan in 2010-11 . Louis van Gaal made Cleverley captain for the friendly against Roma in the USA and will inform players on their return to Manchester this week whether they have made the cut for his planned 22-man squad. The midfielder did not excel against Roma but like many of the United players is enjoying his time under the new Dutch coach. Everton have already splashed out in excess of £35m this summer with Romelu Lukaku, Muhamed Besic and Brendan Galloway signed, while David Henen's transfer from Anderlecht is close. A loan deal for Chelsea's Christian Atsu has hit stalemate but is still on, yet a transfer for Cleverley would cost around £8million. Bradford, Cleverley's first club, would also be due a percentage of any sell on. Decision time: Louis van Gaal will trim his United squad to 22 after their tour of the United States . Statement of intent: Everton have already spent big on striker Romelu Lukaku this summer . VIDEO Van Gaal happy with squad . Martinez may yet prefer to bring in Lacina Traore on loan from Monaco or another striker but Cleverley's situation will be clearer by the end of next week. If they pull off two more deals without selling their stars it would be a huge statement of intent from Everton. The concern at United would be that Martinez could find the key to re-invigorating Cleverley. Van Gaal though will recruit in midfield and defence and has been pleasantly surprised by some of the other younger players' performances. Deals for Arturo Vidal of Juventus and Mats Hummels at Borussia Dortmund remain unlikely. LAMPARD ARRIVAL COULD MEAN CITY SALES . Frank Lampard's arrival at Manchester City has lifted hopes at other clubs that certain fringe players in the Premier League champions' squad will be be made available. Sunderland are among the front runners pushing for a deal with Jack Rodwell while Valencia remain eager to take Bruno Zuculini on loan. Incoming: Frank Lampard's arrival on loan at Manchester City could lead to the departure of other players . Good impression: Bruno Zuculini has looked good on Manchester City's pre-season tour of America . Oriol Romeu has returned from the Spanish League to Chelsea only to be loaned out to the Bundesliga with Stuttgart and Valencia want a defensive-minded midfielder to step in. Zuculini has only just joined from Racing in Argentina but showed on the US tour why City have brought him into their squad. Valencia now hope to give him a season in La Liga where he can continue to improve. However, they face competition for Zuculini from Deportivo La Coruna, who are also among the clubs to have expressed an interest in Liverpool's defensive starlet Tiago Ilori. SOUTHAMPTON CHASING 'MUSKETEER' SCHELOTTO . Southampton will hold further talks with Inter Milan over winger Ezequiel Schelotto on Tuesday. The 25-year-old should certainly give Ronald Koeman's team a better cutting edge as his nickname is 'El Mosquetero' or 'The Musketeer' - although that moniker owes more to his hair than his rapier-swishing style on the wing. It is understood the nickname he actually prefers is 'El Galgo' or 'the Greyhound'. Negotiations: Southampton manager Ronald Koeman is close to sealing the signing of Ezequiel Schelotto . Whatever name he wishes to use, Inter sporting director Piero Ausilio is keen to push a deal forward. They have agreed terms on Dani Osvaldo and are discussing a loan for midfielder Saphir Taider also. Schelotto's agent Bruno Carpeggiani said: 'The situation with Southampton is active and we are waiting for the deal to go ahead.' Although Argentininian born and raised, Schelotto has been capped by Italy. He spent part of last season on loan at Parma. CANAS SWAPPING SWANSEA FOR ELCHE . Swansea midfielder Jose Canas is due to hold talks with Elche ahead of a return to Spain. Celta Vigo, who are playing a series of friendlies in England at the moment, have also shown an interest in the 27-year-old. Swansea manager Garry Monk left Canas out of the club’s pre-season tour to the US, leading his representatives to begin negotiations with Elche sporting director, Victor Orta. Return: Swansea's Jose Canas is holding talks with Elche ahead of a possible return to Spain . Swansea remain on the trail of Almeria's Ramon Azeez and have made enquiries about the Nigerian. Defender Chico Flores remains a target for Michael Laudrup at Lekhwiya. Wolfsburg have expressed an interest in Wilfried Bony, whose wage demands in excess of £100,000-a-week derailed a potential move to Liverpool. Those figures won't be easy for the Bundesliga side to accommodate either although they have also asked about a deal for Chelsea's Fernando Torres who is on around £150,000. Manager Monk said: 'Unless there's a concrete offer that we think is good for us and we want to do business, it doesn't matter. Even then, we're in control - so all of that doesn't matter, because it's speculation - Wilfried's our player.' Demands: Wolfsburg have shown an interest in Wilfried Bony, but his wages could be a stumbling block . NEWCASTLE SIGN FOREST DUO . Newcastle will sign Jamaal Lascelles and Karl Darlow from Nottingham Forest on Monday and loan the pair back. Manager Alan Pardew remains keen to bring in another striker while a deal for Clement Grenier at Lyon remains a possibility. The 23-year-old France midfielder has long been in Newcastle's sights but he is keen to join a Champions League team. If one of those does not come along soon, the greater the Toon's chances become. Possible deal: Newcastle United have been keen on France international Clement Grenier for a while . LIVERPOOL WRAP UP MORENO DEAL . Liverpool's search for a left-back should be concluded soon as talks progress with Sevilla over the £16m transfer of Alberto Moreno. Sevilla have enquired about Sporting Lisbon's 26-year-old Jefferson Nascimento as a potential short term replacement. LAZIO INTERESTED IN KABOUL . Lazio's interest in Younes Kaboul should help Tottenham offset their pending outlay on Eric Dier and Mateo Musacchio from Villarreal. Tottenham have no plans to sell Jan Vertonghen as part of their defensive restructuring but will continue to listen to offers for Michael Dawson. Kaboul, 28, is valued at around £6m by Tottenham although Lazio want to pay around £3m. They are also looking to offload Michael Ciani to Crystal Palace. Tottenham have no interest in Samuel Eto'o, who is looking more likely to return to Italy at this stage with West Ham also looking at younger options. On his way? Lazio are willing to pay Spurs £3m for Younes Kaboul . WEDNESDAY IMPRESSED BY KELHAR . Sheffield Wednesday have offered Slovenian trialist Dejan Kelhar a short-term contract. The 30-year-old defender, who has won six caps for his country and last played for Red Star Belgrade, has been training at Hillsborough and played in some of their pre-season friendlies. Manager Stuart Gray remains keen to sign a striker but Kelhar has also done enough to earn a deal. Gray said: 'We are offering Dejan a short-term contract and hopefully he will be putting pen to paper for us. Nothing has been finalised, he is mulling it over at the moment.' STOKE STOPPER BACHMANN HEADS TO WREXHAM ON LOAN . Stoke's young goalkeeper Daniel Bachmann is poised to join Conference side Wrexham on loan. The 20 year-old Austrian impressed on trial on Friday when appearing for Wrexham in a friendly against a Bolton select XI.\n",
            "---------------------------------------\n",
            "3/3 [==============================] - 4s 2s/step\n",
            "[[0.49998873]\n",
            " [0.49998868]\n",
            " [0.49998873]\n",
            " [0.49998868]\n",
            " [0.49998868]\n",
            " [0.49998868]\n",
            " [0.49998868]\n",
            " [0.49998868]\n",
            " [0.49998868]\n",
            " [0.49998868]\n",
            " [0.49998868]\n",
            " [0.49998868]\n",
            " [0.49998868]\n",
            " [0.49998868]\n",
            " [0.49998862]\n",
            " [0.49998868]\n",
            " [0.49998868]\n",
            " [0.49998868]\n",
            " [0.49998868]\n",
            " [0.49998868]\n",
            " [0.49998868]\n",
            " [0.49998856]\n",
            " [0.49998873]\n",
            " [0.49998868]\n",
            " [0.49998868]\n",
            " [0.49998862]\n",
            " [0.49998862]\n",
            " [0.49998873]\n",
            " [0.49998868]\n",
            " [0.49998873]\n",
            " [0.49998868]\n",
            " [0.49998868]\n",
            " [0.49998868]\n",
            " [0.49998868]\n",
            " [0.49998868]\n",
            " [0.49998868]\n",
            " [0.49998873]\n",
            " [0.49998868]\n",
            " [0.49998868]\n",
            " [0.49998868]\n",
            " [0.49998868]\n",
            " [0.49998868]\n",
            " [0.49998862]\n",
            " [0.49998868]\n",
            " [0.49998868]\n",
            " [0.49998868]\n",
            " [0.49998868]\n",
            " [0.49998868]\n",
            " [0.49998873]\n",
            " [0.49998868]\n",
            " [0.49998873]\n",
            " [0.49998873]\n",
            " [0.49998868]\n",
            " [0.49998868]\n",
            " [0.49998868]\n",
            " [0.49998868]\n",
            " [0.49998873]\n",
            " [0.49998862]\n",
            " [0.49998868]\n",
            " [0.49998873]\n",
            " [0.49998868]\n",
            " [0.49998868]\n",
            " [0.49998862]\n",
            " [0.49998868]\n",
            " [0.49998868]\n",
            " [0.49998873]\n",
            " [0.49998868]\n",
            " [0.49998868]\n",
            " [0.49998868]\n",
            " [0.49998856]\n",
            " [0.49998868]\n",
            " [0.4999888 ]\n",
            " [0.49998868]\n",
            " [0.49998868]\n",
            " [0.49998873]\n",
            " [0.49998862]\n",
            " [0.49998868]\n",
            " [0.49998862]]\n",
            "--------------------------\n",
            "[0.49998873 0.49998868 0.49998873 0.49998868 0.49998868 0.49998868\n",
            " 0.49998868 0.49998868 0.49998868 0.49998868 0.49998868 0.49998868\n",
            " 0.49998868 0.49998868 0.49998862 0.49998868 0.49998868 0.49998868\n",
            " 0.49998868 0.49998868 0.49998868 0.49998856 0.49998873 0.49998868\n",
            " 0.49998868 0.49998862 0.49998862 0.49998873 0.49998868 0.49998873\n",
            " 0.49998868 0.49998868 0.49998868 0.49998868 0.49998868 0.49998868\n",
            " 0.49998873 0.49998868 0.49998868 0.49998868 0.49998868 0.49998868\n",
            " 0.49998862 0.49998868 0.49998868 0.49998868 0.49998868 0.49998868\n",
            " 0.49998873 0.49998868 0.49998873 0.49998873 0.49998868 0.49998868\n",
            " 0.49998868 0.49998868 0.49998873 0.49998862 0.49998868 0.49998873\n",
            " 0.49998868 0.49998868 0.49998862 0.49998868 0.49998868 0.49998873\n",
            " 0.49998868 0.49998868 0.49998868 0.49998856 0.49998868 0.4999888\n",
            " 0.49998868 0.49998868 0.49998873 0.49998862 0.49998868 0.49998862]\n",
            "--------------------------\n",
            "[[0.49998873, 0, 'Everton are still looking to add two new players to their ranks with Tom Cleverley of Manchester United among the options for Roberto Martinez.'], [0.49998868, 1, 'The midfielder made his competitive debut for United three years ago and turns 25 on August 12.'], [0.49998873, 2, \"He has 78 first team games under his belt  but has been targeted as one of the squad's weaker links after failing to kick-on in the last year with any consistency.\"], [0.49998868, 3, 'Everton manager Martinez was widely credited with improving Cleverley while coaching him at Wigan, where he played 25 games in 2010-11, and the Spaniard is keeping a close on developments at Old Trafford.'], [0.49998868, 4, 'VIDEO\\xa0Scroll down to watch Roberto Martinez: Everton need to sign a few more players .'], [0.49998868, 5, 'On the move?'], [0.49998868, 6, \"Everton are interested in Manchester United's much-criticised midfielder Tom Cleverley, with manager Roberto Martinez believing he can reinvigorate the England man .\"], [0.49998868, 7, 'Previous experience: Martinez worked with Cleverley when he was manager of Wigan in 2010-11 .'], [0.49998868, 8, 'Louis van Gaal made Cleverley captain for the friendly against Roma in the USA and will inform players on their return to Manchester this week whether they have made the cut for his planned 22-man squad.'], [0.49998868, 9, 'The midfielder did not excel against Roma but like many of the United players is enjoying his time under the new Dutch coach.'], [0.49998868, 10, \"Everton have already splashed out in excess of £35m this summer with Romelu Lukaku, Muhamed Besic and Brendan Galloway signed, while David Henen's transfer from Anderlecht is close.\"], [0.49998868, 11, \"A loan deal for Chelsea's Christian Atsu has hit stalemate but is still on, yet a transfer for Cleverley would cost around £8million.\"], [0.49998868, 12, \"Bradford, Cleverley's first club, would also be due a percentage of any sell on.\"], [0.49998868, 13, 'Decision time: Louis van Gaal will trim his United squad to 22 after their tour of the United States .'], [0.49998862, 14, 'Statement of intent: Everton have already spent big on striker Romelu Lukaku this summer .'], [0.49998868, 15, 'VIDEO Van Gaal happy with squad .'], [0.49998868, 16, \"Martinez may yet prefer to bring in Lacina Traore on loan from Monaco or another striker but Cleverley's situation will be clearer by the end of next week.\"], [0.49998868, 17, 'If they pull off two more deals without selling their stars it would be a huge statement of intent from Everton.'], [0.49998868, 18, 'The concern at United would be that Martinez could find the key to re-invigorating Cleverley.'], [0.49998868, 19, \"Van Gaal though will recruit in midfield and defence and has been pleasantly surprised by some of the other younger players' performances.\"], [0.49998868, 20, 'Deals for Arturo Vidal of Juventus and Mats Hummels at Borussia Dortmund remain unlikely.'], [0.49998856, 21, 'LAMPARD ARRIVAL COULD MEAN CITY SALES .'], [0.49998873, 22, \"Frank Lampard's arrival at Manchester City has lifted hopes at other clubs that certain fringe players in the Premier League champions' squad will be be made available.\"], [0.49998868, 23, 'Sunderland are among the front runners pushing for a deal with Jack Rodwell while Valencia remain eager to take Bruno Zuculini on loan.'], [0.49998868, 24, \"Incoming: Frank Lampard's arrival on loan at Manchester City could lead to the departure of other players .\"], [0.49998862, 25, \"Good impression: Bruno Zuculini has looked good on Manchester City's pre-season tour of America .\"], [0.49998862, 26, 'Oriol Romeu has returned from the Spanish League to Chelsea only to be loaned out to the Bundesliga with Stuttgart and Valencia want a defensive-minded midfielder to step in.'], [0.49998873, 27, 'Zuculini has only just joined from Racing in Argentina but showed on the US tour why City have brought him into their squad.'], [0.49998868, 28, 'Valencia now hope to give him a season in La Liga where he can continue to improve.'], [0.49998873, 29, \"However, they face competition for Zuculini from Deportivo La Coruna, who are also among the clubs to have expressed an interest in Liverpool's defensive starlet Tiago Ilori.\"], [0.49998868, 30, \"SOUTHAMPTON CHASING 'MUSKETEER' SCHELOTTO .\"], [0.49998868, 31, 'Southampton will hold further talks with Inter Milan over winger Ezequiel Schelotto on Tuesday.'], [0.49998868, 32, \"The 25-year-old should certainly give Ronald Koeman's team a better cutting edge as his nickname is 'El Mosquetero' or 'The Musketeer' - although that moniker owes more to his hair than his rapier-swishing style on the wing.\"], [0.49998868, 33, \"It is understood the nickname he actually prefers is 'El Galgo' or 'the Greyhound'.\"], [0.49998868, 34, 'Negotiations: Southampton manager Ronald Koeman is close to sealing the signing of Ezequiel Schelotto .'], [0.49998868, 35, 'Whatever name he wishes to use, Inter sporting director Piero Ausilio is keen to push a deal forward.'], [0.49998873, 36, 'They have agreed terms on Dani Osvaldo and are discussing a loan for midfielder Saphir Taider also.'], [0.49998868, 37, \"Schelotto's agent Bruno Carpeggiani said: 'The situation with Southampton is active and we are waiting for the deal to go ahead.'\"], [0.49998868, 38, 'Although Argentininian born and raised, Schelotto has been capped by Italy.'], [0.49998868, 39, 'He spent part of last season on loan at Parma.'], [0.49998868, 40, 'CANAS SWAPPING SWANSEA FOR ELCHE .'], [0.49998868, 41, 'Swansea midfielder Jose Canas is due to hold talks with Elche ahead of a return to Spain.'], [0.49998862, 42, 'Celta Vigo, who are playing a series of friendlies in England at the moment, have also shown an interest in the 27-year-old.'], [0.49998868, 43, 'Swansea manager Garry Monk left Canas out of the club’s pre-season tour to the US, leading his representatives to begin negotiations with Elche sporting director, Victor Orta.'], [0.49998868, 44, \"Return: Swansea's Jose Canas is holding talks with Elche ahead of a possible return to Spain .\"], [0.49998868, 45, \"Swansea remain on the trail of Almeria's Ramon Azeez and have made enquiries about the Nigerian.\"], [0.49998868, 46, 'Defender Chico Flores remains a target for Michael Laudrup at Lekhwiya.'], [0.49998868, 47, 'Wolfsburg have expressed an interest in Wilfried Bony, whose wage demands in excess of £100,000-a-week derailed a potential move to Liverpool.'], [0.49998873, 48, \"Those figures won't be easy for the Bundesliga side to accommodate either although they have also asked about a deal for Chelsea's Fernando Torres who is on around £150,000.\"], [0.49998868, 49, \"Manager Monk said: 'Unless there's a concrete offer that we think is good for us and we want to do business, it doesn't matter.\"], [0.49998873, 50, \"Even then, we're in control - so all of that doesn't matter, because it's speculation - Wilfried's our player.'\"], [0.49998873, 51, 'Demands: Wolfsburg have shown an interest in Wilfried Bony, but his wages could be a stumbling block .'], [0.49998868, 52, 'NEWCASTLE SIGN FOREST DUO .'], [0.49998868, 53, 'Newcastle will sign Jamaal Lascelles and Karl Darlow from Nottingham Forest on Monday and loan the pair back.'], [0.49998868, 54, 'Manager Alan Pardew remains keen to bring in another striker while a deal for Clement Grenier at Lyon remains a possibility.'], [0.49998868, 55, \"The 23-year-old France midfielder has long been in Newcastle's sights but he is keen to join a Champions League team.\"], [0.49998873, 56, \"If one of those does not come along soon, the greater the Toon's chances become.\"], [0.49998862, 57, 'Possible deal: Newcastle United have been keen on France international Clement Grenier for a while .'], [0.49998868, 58, 'LIVERPOOL WRAP UP MORENO DEAL .'], [0.49998873, 59, \"Liverpool's search for a left-back should be concluded soon as talks progress with Sevilla over the £16m transfer of Alberto Moreno.\"], [0.49998868, 60, \"Sevilla have enquired about Sporting Lisbon's 26-year-old Jefferson Nascimento as a potential short term replacement.\"], [0.49998868, 61, 'LAZIO INTERESTED IN KABOUL .'], [0.49998862, 62, \"Lazio's interest in Younes Kaboul should help Tottenham offset their pending outlay on Eric Dier and Mateo Musacchio from Villarreal.\"], [0.49998868, 63, 'Tottenham have no plans to sell Jan Vertonghen as part of their defensive restructuring but will continue to listen to offers for Michael Dawson.'], [0.49998868, 64, 'Kaboul, 28, is valued at around £6m by Tottenham although Lazio want to pay around £3m.'], [0.49998873, 65, 'They are also looking to offload Michael Ciani to Crystal Palace.'], [0.49998868, 66, \"Tottenham have no interest in Samuel Eto'o, who is looking more likely to return to Italy at this stage with West Ham also looking at younger options.\"], [0.49998868, 67, 'On his way?'], [0.49998868, 68, 'Lazio are willing to pay Spurs £3m for Younes Kaboul .'], [0.49998856, 69, 'WEDNESDAY IMPRESSED BY KELHAR .'], [0.49998868, 70, 'Sheffield Wednesday have offered Slovenian trialist Dejan Kelhar a short-term contract.'], [0.4999888, 71, 'The 30-year-old defender, who has won six caps for his country and last played for Red Star Belgrade, has been training at Hillsborough and played in some of their pre-season friendlies.'], [0.49998868, 72, 'Manager Stuart Gray remains keen to sign a striker but Kelhar has also done enough to earn a deal.'], [0.49998868, 73, \"Gray said: 'We are offering Dejan a short-term contract and hopefully he will be putting pen to paper for us.\"], [0.49998873, 74, \"Nothing has been finalised, he is mulling it over at the moment.'\"], [0.49998862, 75, 'STOKE STOPPER BACHMANN HEADS TO WREXHAM ON LOAN .'], [0.49998868, 76, \"Stoke's young goalkeeper Daniel Bachmann is poised to join Conference side Wrexham on loan.\"], [0.49998862, 77, 'The 20 year-old Austrian impressed on trial on Friday when appearing for Wrexham in a friendly against a Bolton select XI.']]\n",
            "--------------------------\n",
            "[[0.4999888, 71, 'The 30-year-old defender, who has won six caps for his country and last played for Red Star Belgrade, has been training at Hillsborough and played in some of their pre-season friendlies.'], [0.49998873, 0, 'Everton are still looking to add two new players to their ranks with Tom Cleverley of Manchester United among the options for Roberto Martinez.'], [0.49998873, 2, \"He has 78 first team games under his belt  but has been targeted as one of the squad's weaker links after failing to kick-on in the last year with any consistency.\"], [0.49998873, 22, \"Frank Lampard's arrival at Manchester City has lifted hopes at other clubs that certain fringe players in the Premier League champions' squad will be be made available.\"], [0.49998873, 27, 'Zuculini has only just joined from Racing in Argentina but showed on the US tour why City have brought him into their squad.'], [0.49998873, 29, \"However, they face competition for Zuculini from Deportivo La Coruna, who are also among the clubs to have expressed an interest in Liverpool's defensive starlet Tiago Ilori.\"], [0.49998873, 36, 'They have agreed terms on Dani Osvaldo and are discussing a loan for midfielder Saphir Taider also.'], [0.49998873, 48, \"Those figures won't be easy for the Bundesliga side to accommodate either although they have also asked about a deal for Chelsea's Fernando Torres who is on around £150,000.\"], [0.49998873, 50, \"Even then, we're in control - so all of that doesn't matter, because it's speculation - Wilfried's our player.'\"], [0.49998873, 51, 'Demands: Wolfsburg have shown an interest in Wilfried Bony, but his wages could be a stumbling block .'], [0.49998873, 56, \"If one of those does not come along soon, the greater the Toon's chances become.\"], [0.49998873, 59, \"Liverpool's search for a left-back should be concluded soon as talks progress with Sevilla over the £16m transfer of Alberto Moreno.\"], [0.49998873, 65, 'They are also looking to offload Michael Ciani to Crystal Palace.'], [0.49998873, 74, \"Nothing has been finalised, he is mulling it over at the moment.'\"], [0.49998868, 1, 'The midfielder made his competitive debut for United three years ago and turns 25 on August 12.'], [0.49998868, 3, 'Everton manager Martinez was widely credited with improving Cleverley while coaching him at Wigan, where he played 25 games in 2010-11, and the Spaniard is keeping a close on developments at Old Trafford.'], [0.49998868, 4, 'VIDEO\\xa0Scroll down to watch Roberto Martinez: Everton need to sign a few more players .'], [0.49998868, 5, 'On the move?'], [0.49998868, 6, \"Everton are interested in Manchester United's much-criticised midfielder Tom Cleverley, with manager Roberto Martinez believing he can reinvigorate the England man .\"], [0.49998868, 7, 'Previous experience: Martinez worked with Cleverley when he was manager of Wigan in 2010-11 .'], [0.49998868, 8, 'Louis van Gaal made Cleverley captain for the friendly against Roma in the USA and will inform players on their return to Manchester this week whether they have made the cut for his planned 22-man squad.'], [0.49998868, 9, 'The midfielder did not excel against Roma but like many of the United players is enjoying his time under the new Dutch coach.'], [0.49998868, 10, \"Everton have already splashed out in excess of £35m this summer with Romelu Lukaku, Muhamed Besic and Brendan Galloway signed, while David Henen's transfer from Anderlecht is close.\"], [0.49998868, 11, \"A loan deal for Chelsea's Christian Atsu has hit stalemate but is still on, yet a transfer for Cleverley would cost around £8million.\"], [0.49998868, 12, \"Bradford, Cleverley's first club, would also be due a percentage of any sell on.\"], [0.49998868, 13, 'Decision time: Louis van Gaal will trim his United squad to 22 after their tour of the United States .'], [0.49998868, 15, 'VIDEO Van Gaal happy with squad .'], [0.49998868, 16, \"Martinez may yet prefer to bring in Lacina Traore on loan from Monaco or another striker but Cleverley's situation will be clearer by the end of next week.\"], [0.49998868, 17, 'If they pull off two more deals without selling their stars it would be a huge statement of intent from Everton.'], [0.49998868, 18, 'The concern at United would be that Martinez could find the key to re-invigorating Cleverley.'], [0.49998868, 19, \"Van Gaal though will recruit in midfield and defence and has been pleasantly surprised by some of the other younger players' performances.\"], [0.49998868, 20, 'Deals for Arturo Vidal of Juventus and Mats Hummels at Borussia Dortmund remain unlikely.'], [0.49998868, 23, 'Sunderland are among the front runners pushing for a deal with Jack Rodwell while Valencia remain eager to take Bruno Zuculini on loan.'], [0.49998868, 24, \"Incoming: Frank Lampard's arrival on loan at Manchester City could lead to the departure of other players .\"], [0.49998868, 28, 'Valencia now hope to give him a season in La Liga where he can continue to improve.'], [0.49998868, 30, \"SOUTHAMPTON CHASING 'MUSKETEER' SCHELOTTO .\"], [0.49998868, 31, 'Southampton will hold further talks with Inter Milan over winger Ezequiel Schelotto on Tuesday.'], [0.49998868, 32, \"The 25-year-old should certainly give Ronald Koeman's team a better cutting edge as his nickname is 'El Mosquetero' or 'The Musketeer' - although that moniker owes more to his hair than his rapier-swishing style on the wing.\"], [0.49998868, 33, \"It is understood the nickname he actually prefers is 'El Galgo' or 'the Greyhound'.\"], [0.49998868, 34, 'Negotiations: Southampton manager Ronald Koeman is close to sealing the signing of Ezequiel Schelotto .'], [0.49998868, 35, 'Whatever name he wishes to use, Inter sporting director Piero Ausilio is keen to push a deal forward.'], [0.49998868, 37, \"Schelotto's agent Bruno Carpeggiani said: 'The situation with Southampton is active and we are waiting for the deal to go ahead.'\"], [0.49998868, 38, 'Although Argentininian born and raised, Schelotto has been capped by Italy.'], [0.49998868, 39, 'He spent part of last season on loan at Parma.'], [0.49998868, 40, 'CANAS SWAPPING SWANSEA FOR ELCHE .'], [0.49998868, 41, 'Swansea midfielder Jose Canas is due to hold talks with Elche ahead of a return to Spain.'], [0.49998868, 43, 'Swansea manager Garry Monk left Canas out of the club’s pre-season tour to the US, leading his representatives to begin negotiations with Elche sporting director, Victor Orta.'], [0.49998868, 44, \"Return: Swansea's Jose Canas is holding talks with Elche ahead of a possible return to Spain .\"], [0.49998868, 45, \"Swansea remain on the trail of Almeria's Ramon Azeez and have made enquiries about the Nigerian.\"], [0.49998868, 46, 'Defender Chico Flores remains a target for Michael Laudrup at Lekhwiya.'], [0.49998868, 47, 'Wolfsburg have expressed an interest in Wilfried Bony, whose wage demands in excess of £100,000-a-week derailed a potential move to Liverpool.'], [0.49998868, 49, \"Manager Monk said: 'Unless there's a concrete offer that we think is good for us and we want to do business, it doesn't matter.\"], [0.49998868, 52, 'NEWCASTLE SIGN FOREST DUO .'], [0.49998868, 53, 'Newcastle will sign Jamaal Lascelles and Karl Darlow from Nottingham Forest on Monday and loan the pair back.'], [0.49998868, 54, 'Manager Alan Pardew remains keen to bring in another striker while a deal for Clement Grenier at Lyon remains a possibility.'], [0.49998868, 55, \"The 23-year-old France midfielder has long been in Newcastle's sights but he is keen to join a Champions League team.\"], [0.49998868, 58, 'LIVERPOOL WRAP UP MORENO DEAL .'], [0.49998868, 60, \"Sevilla have enquired about Sporting Lisbon's 26-year-old Jefferson Nascimento as a potential short term replacement.\"], [0.49998868, 61, 'LAZIO INTERESTED IN KABOUL .'], [0.49998868, 63, 'Tottenham have no plans to sell Jan Vertonghen as part of their defensive restructuring but will continue to listen to offers for Michael Dawson.'], [0.49998868, 64, 'Kaboul, 28, is valued at around £6m by Tottenham although Lazio want to pay around £3m.'], [0.49998868, 66, \"Tottenham have no interest in Samuel Eto'o, who is looking more likely to return to Italy at this stage with West Ham also looking at younger options.\"], [0.49998868, 67, 'On his way?'], [0.49998868, 68, 'Lazio are willing to pay Spurs £3m for Younes Kaboul .'], [0.49998868, 70, 'Sheffield Wednesday have offered Slovenian trialist Dejan Kelhar a short-term contract.'], [0.49998868, 72, 'Manager Stuart Gray remains keen to sign a striker but Kelhar has also done enough to earn a deal.'], [0.49998868, 73, \"Gray said: 'We are offering Dejan a short-term contract and hopefully he will be putting pen to paper for us.\"], [0.49998868, 76, \"Stoke's young goalkeeper Daniel Bachmann is poised to join Conference side Wrexham on loan.\"], [0.49998862, 14, 'Statement of intent: Everton have already spent big on striker Romelu Lukaku this summer .'], [0.49998862, 25, \"Good impression: Bruno Zuculini has looked good on Manchester City's pre-season tour of America .\"], [0.49998862, 26, 'Oriol Romeu has returned from the Spanish League to Chelsea only to be loaned out to the Bundesliga with Stuttgart and Valencia want a defensive-minded midfielder to step in.'], [0.49998862, 42, 'Celta Vigo, who are playing a series of friendlies in England at the moment, have also shown an interest in the 27-year-old.'], [0.49998862, 57, 'Possible deal: Newcastle United have been keen on France international Clement Grenier for a while .'], [0.49998862, 62, \"Lazio's interest in Younes Kaboul should help Tottenham offset their pending outlay on Eric Dier and Mateo Musacchio from Villarreal.\"], [0.49998862, 75, 'STOKE STOPPER BACHMANN HEADS TO WREXHAM ON LOAN .'], [0.49998862, 77, 'The 20 year-old Austrian impressed on trial on Friday when appearing for Wrexham in a friendly against a Bolton select XI.'], [0.49998856, 21, 'LAMPARD ARRIVAL COULD MEAN CITY SALES .'], [0.49998856, 69, 'WEDNESDAY IMPRESSED BY KELHAR .']]\n",
            "--------------------------\n",
            "[[71, 'The 30-year-old defender, who has won six caps for his country and last played for Red Star Belgrade, has been training at Hillsborough and played in some of their pre-season friendlies.'], [0, 'Everton are still looking to add two new players to their ranks with Tom Cleverley of Manchester United among the options for Roberto Martinez.'], [2, 'He has 78 first team games under his belt  but has']]\n",
            "--------------------------\n",
            "[[0, 'Everton are still looking to add two new players to their ranks with Tom Cleverley of Manchester United among the options for Roberto Martinez.'], [2, 'He has 78 first team games under his belt  but has'], [71, 'The 30-year-old defender, who has won six caps for his country and last played for Red Star Belgrade, has been training at Hillsborough and played in some of their pre-season friendlies.']]\n",
            "--------------------------\n",
            "Everton are still looking to add two new players to their ranks with Tom Cleverley of Manchester United among the options for Roberto Martinez. He has 78 first team games under his belt  but has The 30-year-old defender, who has won six caps for his country and last played for Red Star Belgrade, has been training at Hillsborough and played in some of their pre-season friendlies.\n",
            "67\n",
            "--------------------------\n",
            "--------------------------\n",
            "By . Daily Mail Reporter . Last updated at 1:25 AM on 3rd August 2011 . Dragons' Den star Duncan Bannatyne has shocked Twitter followers by offering £50,000 to anyone who could identify - and break the arms of - a sinister tweeter who threatened to harm his daughter. The self-made millionaire became embroiled in a row yesterday afternoon after receiving a string of anonymous threats via the micro-blogging service. The messages threatened to 'bring hurt and pain' to his family unless he handed over £35,000. Reward: Duncan Bennatyne sent out this message to his 372,000 followers . And although Mr Bannatyne later withdrew his threat, the entrepreneur said 'I'd gladly do my time' to get revenge on the anonymous tweeter. The TV star received a series of tweets from someone calling himself Yuri Vasilyev, linking to a message threatening to harm Hollie Bannatyne, 25. He responded by posting: 'I offer £25,000 reward for the capture of the coward who calls himself @YuriVasilyev_ Double if his arms are broken first'. Although this tweet was soon deleted, Mr Bannatyne posted another message saying: 'OK £30,000 reward for info leading to his arrest'. The drama began yesterday, when he . received a message from the Twitter account @YuriVasilyev_ which linked . to a message about Holly. It read: 'Dear Dragon. My name is . Yuri Vasilyev and I'm looking for a £35,000 investment to stop us . hurting your Hollie Bannatyne. We will bring hurt and pain into your . life. 'We are watching her. She is very attractive. Want photos? Tweet using the hashtag £4money to confirm payment will be made.' Threatened: Duncan Bannatyne received sinister messages threatening his daughter Hollie, right . A . later message said: 'Duncan Bannatyne - Hollie is going to get hurt. We . will bring pain and fear. You should have expected us. We are the men . of Belarus. 'We do not give up. We will stand . tall. You should have paid. £35,000 to stop it. Contact us to pay. We . are watching. Expect us. We are the men of Belarus.' Despite Vasilyev's claim to be from Belarus, Mr Bannatyne has said that he believes him to be in Moscow. His latest message to Vasilyev reads: 'Go home to your mum and cry we are closing in on you little boy'. That message was also later deleted. Mr Bannatyne's threats have met a mixed reaction from Twitter users. Many have helped to try to locate Vasilyev, although this is unlikely to be successful without tracking him down electronically, as 'Yuri Vasilyev' is a common name in Russian-speaking countries. But one user, speculating that Vasilyev was using a fake name, told Mr Bannatyne: 'Whoever the real Yuri Vasileyev is I hope hijacking his identity & ur call to vigilantes doesnt end in his injury or death.' [sic] . Mr Bannatyne said in a statement: 'My family is well protected, but I take any threat to them very seriously and will do all I can to ensure the person or people involved are caught.' Last night, police issued a statement saying: 'Durham Constabulary can confirm Duncan Bannatyne has reported a number of threatening messages he had received via email and Twitter in which threats were made against a member of his family. 'These appeared to originate from an email address based in Russia. 'We have been liaising since then with Mr Bannatyne and conducting enquiries into the credibility of these threats.' Mr Bannatyne contacted the Durham Constabulary because his family have long been based in the North East.\n",
            "---------------------------------------\n",
            "2/2 [==============================] - 2s 2s/step\n",
            "[[0.49998868]\n",
            " [0.49998868]\n",
            " [0.49998862]\n",
            " [0.49998868]\n",
            " [0.49998868]\n",
            " [0.49998868]\n",
            " [0.49998868]\n",
            " [0.49998873]\n",
            " [0.49998868]\n",
            " [0.49998868]\n",
            " [0.49998868]\n",
            " [0.49998868]\n",
            " [0.49998868]\n",
            " [0.49998868]\n",
            " [0.49998868]\n",
            " [0.49998873]\n",
            " [0.49998868]\n",
            " [0.49998868]\n",
            " [0.49998873]\n",
            " [0.49998868]\n",
            " [0.49998873]\n",
            " [0.49998873]\n",
            " [0.49998868]\n",
            " [0.49998868]\n",
            " [0.49998868]\n",
            " [0.49998868]\n",
            " [0.49998862]\n",
            " [0.49998868]\n",
            " [0.49998873]\n",
            " [0.49998868]\n",
            " [0.49998868]\n",
            " [0.49998868]\n",
            " [0.49998868]\n",
            " [0.49998868]\n",
            " [0.49998868]\n",
            " [0.49998868]\n",
            " [0.49998868]\n",
            " [0.49998868]\n",
            " [0.49998868]\n",
            " [0.49998868]\n",
            " [0.49998868]\n",
            " [0.49998873]\n",
            " [0.49998873]\n",
            " [0.49998868]\n",
            " [0.49998868]\n",
            " [0.49998862]\n",
            " [0.49998873]\n",
            " [0.49998868]\n",
            " [0.49998868]\n",
            " [0.49998873]\n",
            " [0.4999888 ]\n",
            " [0.49998873]\n",
            " [0.49998868]\n",
            " [0.49998868]]\n",
            "--------------------------\n",
            "[0.49998868 0.49998868 0.49998862 0.49998868 0.49998868 0.49998868\n",
            " 0.49998868 0.49998873 0.49998868 0.49998868 0.49998868 0.49998868\n",
            " 0.49998868 0.49998868 0.49998868 0.49998873 0.49998868 0.49998868\n",
            " 0.49998873 0.49998868 0.49998873 0.49998873 0.49998868 0.49998868\n",
            " 0.49998868 0.49998868 0.49998862 0.49998868 0.49998873 0.49998868\n",
            " 0.49998868 0.49998868 0.49998868 0.49998868 0.49998868 0.49998868\n",
            " 0.49998868 0.49998868 0.49998868 0.49998868 0.49998868 0.49998873\n",
            " 0.49998873 0.49998868 0.49998868 0.49998862 0.49998873 0.49998868\n",
            " 0.49998868 0.49998873 0.4999888  0.49998873 0.49998868 0.49998868]\n",
            "--------------------------\n",
            "[[0.49998868, 0, 'By .'], [0.49998868, 1, 'Daily Mail Reporter .'], [0.49998862, 2, 'Last updated at 1:25 AM on 3rd August 2011 .'], [0.49998868, 3, \"Dragons' Den star Duncan Bannatyne has shocked Twitter followers by offering £50,000 to anyone who could identify - and break the arms of - a sinister tweeter who threatened to harm his daughter.\"], [0.49998868, 4, 'The self-made millionaire became embroiled in a row yesterday afternoon after receiving a string of anonymous threats via the micro-blogging service.'], [0.49998868, 5, \"The messages threatened to 'bring hurt and pain' to his family unless he handed over £35,000.\"], [0.49998868, 6, 'Reward: Duncan Bennatyne sent out this message to his 372,000 followers .'], [0.49998873, 7, \"And although Mr Bannatyne later withdrew his threat, the entrepreneur said 'I'd gladly do my time' to get revenge on the anonymous tweeter.\"], [0.49998868, 8, 'The TV star received a series of tweets from someone calling himself Yuri Vasilyev, linking to a message threatening to harm Hollie Bannatyne, 25.'], [0.49998868, 9, \"He responded by posting: 'I offer £25,000 reward for the capture of the coward who calls himself @YuriVasilyev_ Double if his arms are broken first'.\"], [0.49998868, 10, \"Although this tweet was soon deleted, Mr Bannatyne posted another message saying: 'OK £30,000 reward for info leading to his arrest'.\"], [0.49998868, 11, 'The drama began yesterday, when he .'], [0.49998868, 12, 'received a message from the Twitter account @YuriVasilyev_ which linked .'], [0.49998868, 13, 'to a message about Holly.'], [0.49998868, 14, \"It read: 'Dear Dragon.\"], [0.49998873, 15, 'My name is .'], [0.49998868, 16, \"Yuri Vasilyev and I'm looking for a £35,000 investment to stop us .\"], [0.49998868, 17, 'hurting your Hollie Bannatyne.'], [0.49998873, 18, 'We will bring hurt and pain into your .'], [0.49998868, 19, 'life.'], [0.49998873, 20, \"'We are watching her.\"], [0.49998873, 21, 'She is very attractive.'], [0.49998868, 22, 'Want photos?'], [0.49998868, 23, \"Tweet using the hashtag £4money to confirm payment will be made.'\"], [0.49998868, 24, 'Threatened: Duncan Bannatyne received sinister messages threatening his daughter Hollie, right .'], [0.49998868, 25, 'A .'], [0.49998862, 26, \"later message said: 'Duncan Bannatyne - Hollie is going to get hurt.\"], [0.49998868, 27, 'We .'], [0.49998873, 28, 'will bring pain and fear.'], [0.49998868, 29, 'You should have expected us.'], [0.49998868, 30, 'We are the men .'], [0.49998868, 31, 'of Belarus.'], [0.49998868, 32, \"'We do not give up.\"], [0.49998868, 33, 'We will stand .'], [0.49998868, 34, 'tall.'], [0.49998868, 35, 'You should have paid.'], [0.49998868, 36, '£35,000 to stop it.'], [0.49998868, 37, 'Contact us to pay.'], [0.49998868, 38, 'We .'], [0.49998868, 39, 'are watching.'], [0.49998868, 40, 'Expect us.'], [0.49998873, 41, \"We are the men of Belarus.'\"], [0.49998873, 42, \"Despite Vasilyev's claim to be from Belarus, Mr Bannatyne has said that he believes him to be in Moscow.\"], [0.49998868, 43, \"His latest message to Vasilyev reads: 'Go home to your mum and cry we are closing in on you little boy'.\"], [0.49998868, 44, 'That message was also later deleted.'], [0.49998862, 45, \"Mr Bannatyne's threats have met a mixed reaction from Twitter users.\"], [0.49998873, 46, \"Many have helped to try to locate Vasilyev, although this is unlikely to be successful without tracking him down electronically, as 'Yuri Vasilyev' is a common name in Russian-speaking countries.\"], [0.49998868, 47, \"But one user, speculating that Vasilyev was using a fake name, told Mr Bannatyne: 'Whoever the real Yuri Vasileyev is I hope hijacking his identity & ur call to vigilantes doesnt end in his injury or death.'\"], [0.49998868, 48, '[sic] .'], [0.49998873, 49, \"Mr Bannatyne said in a statement: 'My family is well protected, but I take any threat to them very seriously and will do all I can to ensure the person or people involved are caught.'\"], [0.4999888, 50, \"Last night, police issued a statement saying: 'Durham Constabulary can confirm Duncan Bannatyne has reported a number of threatening messages he had received via email and Twitter in which threats were made against a member of his family.\"], [0.49998873, 51, \"'These appeared to originate from an email address based in Russia.\"], [0.49998868, 52, \"'We have been liaising since then with Mr Bannatyne and conducting enquiries into the credibility of these threats.'\"], [0.49998868, 53, 'Mr Bannatyne contacted the Durham Constabulary because his family have long been based in the North East.']]\n",
            "--------------------------\n",
            "[[0.4999888, 50, \"Last night, police issued a statement saying: 'Durham Constabulary can confirm Duncan Bannatyne has reported a number of threatening messages he had received via email and Twitter in which threats were made against a member of his family.\"], [0.49998873, 7, \"And although Mr Bannatyne later withdrew his threat, the entrepreneur said 'I'd gladly do my time' to get revenge on the anonymous tweeter.\"], [0.49998873, 15, 'My name is .'], [0.49998873, 18, 'We will bring hurt and pain into your .'], [0.49998873, 20, \"'We are watching her.\"], [0.49998873, 21, 'She is very attractive.'], [0.49998873, 28, 'will bring pain and fear.'], [0.49998873, 41, \"We are the men of Belarus.'\"], [0.49998873, 42, \"Despite Vasilyev's claim to be from Belarus, Mr Bannatyne has said that he believes him to be in Moscow.\"], [0.49998873, 46, \"Many have helped to try to locate Vasilyev, although this is unlikely to be successful without tracking him down electronically, as 'Yuri Vasilyev' is a common name in Russian-speaking countries.\"], [0.49998873, 49, \"Mr Bannatyne said in a statement: 'My family is well protected, but I take any threat to them very seriously and will do all I can to ensure the person or people involved are caught.'\"], [0.49998873, 51, \"'These appeared to originate from an email address based in Russia.\"], [0.49998868, 0, 'By .'], [0.49998868, 1, 'Daily Mail Reporter .'], [0.49998868, 3, \"Dragons' Den star Duncan Bannatyne has shocked Twitter followers by offering £50,000 to anyone who could identify - and break the arms of - a sinister tweeter who threatened to harm his daughter.\"], [0.49998868, 4, 'The self-made millionaire became embroiled in a row yesterday afternoon after receiving a string of anonymous threats via the micro-blogging service.'], [0.49998868, 5, \"The messages threatened to 'bring hurt and pain' to his family unless he handed over £35,000.\"], [0.49998868, 6, 'Reward: Duncan Bennatyne sent out this message to his 372,000 followers .'], [0.49998868, 8, 'The TV star received a series of tweets from someone calling himself Yuri Vasilyev, linking to a message threatening to harm Hollie Bannatyne, 25.'], [0.49998868, 9, \"He responded by posting: 'I offer £25,000 reward for the capture of the coward who calls himself @YuriVasilyev_ Double if his arms are broken first'.\"], [0.49998868, 10, \"Although this tweet was soon deleted, Mr Bannatyne posted another message saying: 'OK £30,000 reward for info leading to his arrest'.\"], [0.49998868, 11, 'The drama began yesterday, when he .'], [0.49998868, 12, 'received a message from the Twitter account @YuriVasilyev_ which linked .'], [0.49998868, 13, 'to a message about Holly.'], [0.49998868, 14, \"It read: 'Dear Dragon.\"], [0.49998868, 16, \"Yuri Vasilyev and I'm looking for a £35,000 investment to stop us .\"], [0.49998868, 17, 'hurting your Hollie Bannatyne.'], [0.49998868, 19, 'life.'], [0.49998868, 22, 'Want photos?'], [0.49998868, 23, \"Tweet using the hashtag £4money to confirm payment will be made.'\"], [0.49998868, 24, 'Threatened: Duncan Bannatyne received sinister messages threatening his daughter Hollie, right .'], [0.49998868, 25, 'A .'], [0.49998868, 27, 'We .'], [0.49998868, 29, 'You should have expected us.'], [0.49998868, 30, 'We are the men .'], [0.49998868, 31, 'of Belarus.'], [0.49998868, 32, \"'We do not give up.\"], [0.49998868, 33, 'We will stand .'], [0.49998868, 34, 'tall.'], [0.49998868, 35, 'You should have paid.'], [0.49998868, 36, '£35,000 to stop it.'], [0.49998868, 37, 'Contact us to pay.'], [0.49998868, 38, 'We .'], [0.49998868, 39, 'are watching.'], [0.49998868, 40, 'Expect us.'], [0.49998868, 43, \"His latest message to Vasilyev reads: 'Go home to your mum and cry we are closing in on you little boy'.\"], [0.49998868, 44, 'That message was also later deleted.'], [0.49998868, 47, \"But one user, speculating that Vasilyev was using a fake name, told Mr Bannatyne: 'Whoever the real Yuri Vasileyev is I hope hijacking his identity & ur call to vigilantes doesnt end in his injury or death.'\"], [0.49998868, 48, '[sic] .'], [0.49998868, 52, \"'We have been liaising since then with Mr Bannatyne and conducting enquiries into the credibility of these threats.'\"], [0.49998868, 53, 'Mr Bannatyne contacted the Durham Constabulary because his family have long been based in the North East.'], [0.49998862, 2, 'Last updated at 1:25 AM on 3rd August 2011 .'], [0.49998862, 26, \"later message said: 'Duncan Bannatyne - Hollie is going to get hurt.\"], [0.49998862, 45, \"Mr Bannatyne's threats have met a mixed reaction from Twitter users.\"]]\n",
            "--------------------------\n",
            "[[50, \"Last night, police issued a statement saying: 'Durham Constabulary can confirm Duncan Bannatyne has reported a number of threatening messages he had received via email and Twitter in which threats were made against a member of his family.\"], [7, \"And although Mr Bannatyne later withdrew his threat, the entrepreneur said 'I'd gladly do my time' to get revenge on the anonymous tweeter.\"], [15, 'My name is .'], [18, 'We will bring hurt and pain into your .'], [20, \"'We are watching\"]]\n",
            "--------------------------\n",
            "[[7, \"And although Mr Bannatyne later withdrew his threat, the entrepreneur said 'I'd gladly do my time' to get revenge on the anonymous tweeter.\"], [15, 'My name is .'], [18, 'We will bring hurt and pain into your .'], [20, \"'We are watching\"], [50, \"Last night, police issued a statement saying: 'Durham Constabulary can confirm Duncan Bannatyne has reported a number of threatening messages he had received via email and Twitter in which threats were made against a member of his family.\"]]\n",
            "--------------------------\n",
            "And although Mr Bannatyne later withdrew his threat, the entrepreneur said 'I'd gladly do my time' to get revenge on the anonymous tweeter. My name is . We will bring hurt and pain into your . 'We are watching Last night, police issued a statement saying: 'Durham Constabulary can confirm Duncan Bannatyne has reported a number of threatening messages he had received via email and Twitter in which threats were made against a member of\n",
            "75\n",
            "--------------------------\n",
            "--------------------------\n",
            "Last updated at 3:31 PM on 19th July 2011 . Cheaper farmland and proximity to population centres are fueling growth in Amish colonies in The Empire State, a study out of Pennsylvania shows. The Amish, many of them from Ohio or Pennsylvania, have set up 10 new settlements in New York since 2010 - growth that doubles other states. That population has grown by nearly a third in two years, to 13,000. Amish communities are currently in 28 U.S. states, but more communities are popping up in New York over the last few years . The first New York Amish districts were established in the Conewango Valley in 1949, but in-migration slowed until about 10 years ago. As recently as 1991, there were just 3,900 Amish in the state. Elizabethtown College professor Don Kraybill, who directed the study, said the movement has been driven by productive and underpriced land. Factors such as weather, growing season and congenial neighbours and local officials have also contributed to the population boom. In the 1980s and 90s Kentucky played that role for the Amish, while more recently it was Wisconsin, Mr Kraybill said. New York has lower land prices in rural areas than Pennsylvania and Ohio, states that together account for about half of the U.S. Amish population. New York also has more areas of rural isolation, according to Mr Kraybill.'If you want to get away from the suburbs and the high-tech world, there are more places to hide in New York.'New York, Kentucky, Illinois and Kansas have experienced the largest net gain in Amish households since 2006, the study found. The largest net losers were Pennsylvania, Wisconsin, Delaware and Ohio, although states with large Amish populations can grow even if they lose households because existing families normally have many children. The Amish emigrated to Pennsylvania from Switzerland and Germany about 300 years ago. Today, the nationwide Amish population totals about 261,000. Nearly all descend from a group of about 5,000 a century ago. 'Empire State of Mind': An Amish man works in the field in Centerville, N.Y., a town with an established Amish community. While their Christian beliefs and practices can vary from settlement to settlement, or from church to church, they were defined for study purposes as people who use horse-and-buggy transportation, and speak a dialect of Pennsylvania German or Swiss German. Mr Kraybill said: 'It's remarkable that a horse-and-buggy people like the Amish are thriving in the midst of high-tech, Twitter America.' Some areas of concentrated Amish populations in Pennsylvania, including Lancaster County, have experienced overall residential and commercial growth that can leave little room for the Amish way of life, so they make the decision to hire a tractor-trailer and head for someplace more remote. Large Amish families sometimes move into new areas to find farmland for the younger generations, while in other cases they are more motivated by a desire to preserve traditional aspects of their family life and to resolve disputes about church rules, said Karen Johnson-Weiner, an anthropology professor at the State University of New York at Potsdam. Ms Johnson-Weiner, whose book on the state's Amish was published last year, said: 'The Amish moving to New York are going to be, for the most part, very conservative. That means they're not going to be so willing to compromise or fit in.' The Amish have been involved in disputes in New York over zoning, construction practices and electronic filing of sales taxes, while some areas have capitalized on local Amish communities for tourism purposes. Ms Johnson-Weiner said some new Amish arrivals are buying land that has not been farmed since the earlier decades of the 20th century. 'The families farming those farms are ready to retire and there aren't any young people ready to take the farm over, so you sell to the Amish,' she said. 'They're revitalising farming, I would say, in many of those areas.' Mr Kraybill said Amish migration in general often consists of younger couples looking for cheaper farmland or new locations to set up small microenterprises. It can cost just a few thousand dollars to start manufacturing furniture or quilts, for example, he said. Other Amish migrants can be multigenerational families moving together so they can afford to buy several adjacent farms at the same time. Mr Kraybill said prime farmland in Lancaster County currently costs about $15,000 an acre, a daunting challenge for a young farmer, along with the expense of buying livestock and farm equipment. That makes land prices of $2,000 an acre in other states very attractive. Pennsylvania had the nation's largest Amish population in the new survey, just over 61,000, with Ohio a close second, about 400 people behind. Indiana ranked third, 46,000, Wisconsin fourth, 16,000, and New York fifth. New York, New York: Map shows new Amish communities in The Empire State .\n",
            "---------------------------------------\n",
            "2/2 [==============================] - 2s 2s/step\n",
            "[[0.49998868]\n",
            " [0.49998868]\n",
            " [0.49998868]\n",
            " [0.49998868]\n",
            " [0.49998873]\n",
            " [0.49998868]\n",
            " [0.49998868]\n",
            " [0.49998873]\n",
            " [0.49998873]\n",
            " [0.49998868]\n",
            " [0.4999888 ]\n",
            " [0.49998868]\n",
            " [0.49998873]\n",
            " [0.49998868]\n",
            " [0.49998868]\n",
            " [0.49998873]\n",
            " [0.49998868]\n",
            " [0.49998868]\n",
            " [0.49998873]\n",
            " [0.4999888 ]\n",
            " [0.49998873]\n",
            " [0.49998868]\n",
            " [0.49998873]\n",
            " [0.4999888 ]\n",
            " [0.49998868]\n",
            " [0.4999888 ]\n",
            " [0.49998873]\n",
            " [0.4999888 ]\n",
            " [0.49998868]\n",
            " [0.49998868]\n",
            " [0.49998868]\n",
            " [0.49998868]\n",
            " [0.49998873]\n",
            " [0.49998873]\n",
            " [0.4999888 ]\n",
            " [0.49998868]\n",
            " [0.49998868]]\n",
            "--------------------------\n",
            "[0.49998868 0.49998868 0.49998868 0.49998868 0.49998873 0.49998868\n",
            " 0.49998868 0.49998873 0.49998873 0.49998868 0.4999888  0.49998868\n",
            " 0.49998873 0.49998868 0.49998868 0.49998873 0.49998868 0.49998868\n",
            " 0.49998873 0.4999888  0.49998873 0.49998868 0.49998873 0.4999888\n",
            " 0.49998868 0.4999888  0.49998873 0.4999888  0.49998868 0.49998868\n",
            " 0.49998868 0.49998868 0.49998873 0.49998873 0.4999888  0.49998868\n",
            " 0.49998868]\n",
            "--------------------------\n",
            "[[0.49998868, 0, 'Last updated at 3:31 PM on 19th July 2011 .'], [0.49998868, 1, 'Cheaper farmland and proximity to population centres are fueling growth in Amish colonies in The Empire State, a study out of Pennsylvania shows.'], [0.49998868, 2, 'The Amish, many of them from Ohio or Pennsylvania, have set up 10 new settlements in New York since 2010 - growth that doubles other states.'], [0.49998868, 3, 'That population has grown by nearly a third in two years, to 13,000.'], [0.49998873, 4, 'Amish communities are currently in 28 U.S. states, but more communities are popping up in New York over the last few years .'], [0.49998868, 5, 'The first New York Amish districts were established in the Conewango Valley in 1949, but in-migration slowed until about 10 years ago.'], [0.49998868, 6, 'As recently as 1991, there were just 3,900 Amish in the state.'], [0.49998873, 7, 'Elizabethtown College professor Don Kraybill, who directed the study, said the movement has been driven by productive and underpriced land.'], [0.49998873, 8, 'Factors such as weather, growing season and congenial neighbours and local officials have also contributed to the population boom.'], [0.49998868, 9, 'In the 1980s and 90s Kentucky played that role for the Amish, while more recently it was Wisconsin, Mr Kraybill said.'], [0.4999888, 10, 'New York has lower land prices in rural areas than Pennsylvania and Ohio, states that together account for about half of the U.S. Amish population.'], [0.49998868, 11, 'New York also has more areas of rural isolation, according to Mr Kraybill.'], [0.49998873, 12, \"'If you want to get away from the suburbs and the high-tech world, there are more places to hide in New York.\"], [0.49998868, 13, \"'New York, Kentucky, Illinois and Kansas have experienced the largest net gain in Amish households since 2006, the study found.\"], [0.49998868, 14, 'The largest net losers were Pennsylvania, Wisconsin, Delaware and Ohio, although states with large Amish populations can grow even if they lose households because existing families normally have many children.'], [0.49998873, 15, 'The Amish emigrated to Pennsylvania from Switzerland and Germany about 300 years ago.'], [0.49998868, 16, 'Today, the nationwide Amish population totals about 261,000.'], [0.49998868, 17, 'Nearly all descend from a group of about 5,000 a century ago.'], [0.49998873, 18, \"'Empire State of Mind': An Amish man works in the field in Centerville, N.Y., a town with an established Amish community.\"], [0.4999888, 19, 'While their Christian beliefs and practices can vary from settlement to settlement, or from church to church, they were defined for study purposes as people who use horse-and-buggy transportation, and speak a dialect of Pennsylvania German or Swiss German.'], [0.49998873, 20, \"Mr Kraybill said: 'It's remarkable that a horse-and-buggy people like the Amish are thriving in the midst of high-tech, Twitter America.'\"], [0.49998868, 21, 'Some areas of concentrated Amish populations in Pennsylvania, including Lancaster County, have experienced overall residential and commercial growth that can leave little room for the Amish way of life, so they make the decision to hire a tractor-trailer and head for someplace more remote.'], [0.49998873, 22, 'Large Amish families sometimes move into new areas to find farmland for the younger generations, while in other cases they are more motivated by a desire to preserve traditional aspects of their family life and to resolve disputes about church rules, said Karen Johnson-Weiner, an anthropology professor at the State University of New York at Potsdam.'], [0.4999888, 23, \"Ms Johnson-Weiner, whose book on the state's Amish was published last year, said: 'The Amish moving to New York are going to be, for the most part, very conservative.\"], [0.49998868, 24, \"That means they're not going to be so willing to compromise or fit in.'\"], [0.4999888, 25, 'The Amish have been involved in disputes in New York over zoning, construction practices and electronic filing of sales taxes, while some areas have capitalized on local Amish communities for tourism purposes.'], [0.49998873, 26, 'Ms Johnson-Weiner said some new Amish arrivals are buying land that has not been farmed since the earlier decades of the 20th century.'], [0.4999888, 27, \"'The families farming those farms are ready to retire and there aren't any young people ready to take the farm over, so you sell to the Amish,' she said.\"], [0.49998868, 28, \"'They're revitalising farming, I would say, in many of those areas.'\"], [0.49998868, 29, 'Mr Kraybill said Amish migration in general often consists of younger couples looking for cheaper farmland or new locations to set up small microenterprises.'], [0.49998868, 30, 'It can cost just a few thousand dollars to start manufacturing furniture or quilts, for example, he said.'], [0.49998868, 31, 'Other Amish migrants can be multigenerational families moving together so they can afford to buy several adjacent farms at the same time.'], [0.49998873, 32, 'Mr Kraybill said prime farmland in Lancaster County currently costs about $15,000 an acre, a daunting challenge for a young farmer, along with the expense of buying livestock and farm equipment.'], [0.49998873, 33, 'That makes land prices of $2,000 an acre in other states very attractive.'], [0.4999888, 34, \"Pennsylvania had the nation's largest Amish population in the new survey, just over 61,000, with Ohio a close second, about 400 people behind.\"], [0.49998868, 35, 'Indiana ranked third, 46,000, Wisconsin fourth, 16,000, and New York fifth.'], [0.49998868, 36, 'New York, New York: Map shows new Amish communities in The Empire State .']]\n",
            "--------------------------\n",
            "[[0.4999888, 10, 'New York has lower land prices in rural areas than Pennsylvania and Ohio, states that together account for about half of the U.S. Amish population.'], [0.4999888, 19, 'While their Christian beliefs and practices can vary from settlement to settlement, or from church to church, they were defined for study purposes as people who use horse-and-buggy transportation, and speak a dialect of Pennsylvania German or Swiss German.'], [0.4999888, 23, \"Ms Johnson-Weiner, whose book on the state's Amish was published last year, said: 'The Amish moving to New York are going to be, for the most part, very conservative.\"], [0.4999888, 25, 'The Amish have been involved in disputes in New York over zoning, construction practices and electronic filing of sales taxes, while some areas have capitalized on local Amish communities for tourism purposes.'], [0.4999888, 27, \"'The families farming those farms are ready to retire and there aren't any young people ready to take the farm over, so you sell to the Amish,' she said.\"], [0.4999888, 34, \"Pennsylvania had the nation's largest Amish population in the new survey, just over 61,000, with Ohio a close second, about 400 people behind.\"], [0.49998873, 4, 'Amish communities are currently in 28 U.S. states, but more communities are popping up in New York over the last few years .'], [0.49998873, 7, 'Elizabethtown College professor Don Kraybill, who directed the study, said the movement has been driven by productive and underpriced land.'], [0.49998873, 8, 'Factors such as weather, growing season and congenial neighbours and local officials have also contributed to the population boom.'], [0.49998873, 12, \"'If you want to get away from the suburbs and the high-tech world, there are more places to hide in New York.\"], [0.49998873, 15, 'The Amish emigrated to Pennsylvania from Switzerland and Germany about 300 years ago.'], [0.49998873, 18, \"'Empire State of Mind': An Amish man works in the field in Centerville, N.Y., a town with an established Amish community.\"], [0.49998873, 20, \"Mr Kraybill said: 'It's remarkable that a horse-and-buggy people like the Amish are thriving in the midst of high-tech, Twitter America.'\"], [0.49998873, 22, 'Large Amish families sometimes move into new areas to find farmland for the younger generations, while in other cases they are more motivated by a desire to preserve traditional aspects of their family life and to resolve disputes about church rules, said Karen Johnson-Weiner, an anthropology professor at the State University of New York at Potsdam.'], [0.49998873, 26, 'Ms Johnson-Weiner said some new Amish arrivals are buying land that has not been farmed since the earlier decades of the 20th century.'], [0.49998873, 32, 'Mr Kraybill said prime farmland in Lancaster County currently costs about $15,000 an acre, a daunting challenge for a young farmer, along with the expense of buying livestock and farm equipment.'], [0.49998873, 33, 'That makes land prices of $2,000 an acre in other states very attractive.'], [0.49998868, 0, 'Last updated at 3:31 PM on 19th July 2011 .'], [0.49998868, 1, 'Cheaper farmland and proximity to population centres are fueling growth in Amish colonies in The Empire State, a study out of Pennsylvania shows.'], [0.49998868, 2, 'The Amish, many of them from Ohio or Pennsylvania, have set up 10 new settlements in New York since 2010 - growth that doubles other states.'], [0.49998868, 3, 'That population has grown by nearly a third in two years, to 13,000.'], [0.49998868, 5, 'The first New York Amish districts were established in the Conewango Valley in 1949, but in-migration slowed until about 10 years ago.'], [0.49998868, 6, 'As recently as 1991, there were just 3,900 Amish in the state.'], [0.49998868, 9, 'In the 1980s and 90s Kentucky played that role for the Amish, while more recently it was Wisconsin, Mr Kraybill said.'], [0.49998868, 11, 'New York also has more areas of rural isolation, according to Mr Kraybill.'], [0.49998868, 13, \"'New York, Kentucky, Illinois and Kansas have experienced the largest net gain in Amish households since 2006, the study found.\"], [0.49998868, 14, 'The largest net losers were Pennsylvania, Wisconsin, Delaware and Ohio, although states with large Amish populations can grow even if they lose households because existing families normally have many children.'], [0.49998868, 16, 'Today, the nationwide Amish population totals about 261,000.'], [0.49998868, 17, 'Nearly all descend from a group of about 5,000 a century ago.'], [0.49998868, 21, 'Some areas of concentrated Amish populations in Pennsylvania, including Lancaster County, have experienced overall residential and commercial growth that can leave little room for the Amish way of life, so they make the decision to hire a tractor-trailer and head for someplace more remote.'], [0.49998868, 24, \"That means they're not going to be so willing to compromise or fit in.'\"], [0.49998868, 28, \"'They're revitalising farming, I would say, in many of those areas.'\"], [0.49998868, 29, 'Mr Kraybill said Amish migration in general often consists of younger couples looking for cheaper farmland or new locations to set up small microenterprises.'], [0.49998868, 30, 'It can cost just a few thousand dollars to start manufacturing furniture or quilts, for example, he said.'], [0.49998868, 31, 'Other Amish migrants can be multigenerational families moving together so they can afford to buy several adjacent farms at the same time.'], [0.49998868, 35, 'Indiana ranked third, 46,000, Wisconsin fourth, 16,000, and New York fifth.'], [0.49998868, 36, 'New York, New York: Map shows new Amish communities in The Empire State .']]\n",
            "--------------------------\n",
            "[[10, 'New York has lower land prices in rural areas than Pennsylvania and Ohio, states that together account for about half of the U.S. Amish population.'], [19, 'While their Christian beliefs and practices can vary from settlement to settlement, or from church to church, they were defined for study purposes as people who use horse-and-buggy transportation, and speak a dialect of Pennsylvania German or Swiss German.'], [23, \"Ms Johnson-Weiner, whose book on the state's Amish was published last year, said: 'The Amish moving to New\"]]\n",
            "--------------------------\n",
            "[[10, 'New York has lower land prices in rural areas than Pennsylvania and Ohio, states that together account for about half of the U.S. Amish population.'], [19, 'While their Christian beliefs and practices can vary from settlement to settlement, or from church to church, they were defined for study purposes as people who use horse-and-buggy transportation, and speak a dialect of Pennsylvania German or Swiss German.'], [23, \"Ms Johnson-Weiner, whose book on the state's Amish was published last year, said: 'The Amish moving to New\"]]\n",
            "--------------------------\n",
            "New York has lower land prices in rural areas than Pennsylvania and Ohio, states that together account for about half of the U.S. Amish population. While their Christian beliefs and practices can vary from settlement to settlement, or from church to church, they were defined for study purposes as people who use horse-and-buggy transportation, and speak a dialect of Pennsylvania German or Swiss German. Ms Johnson-Weiner, whose book on the state's Amish was published last\n",
            "75\n",
            "--------------------------\n",
            "--------------------------\n"
          ]
        }
      ]
    },
    {
      "cell_type": "code",
      "source": [
        "result_rouge_list = []\n",
        "result_bertscore_list = []\n",
        "\n",
        "for i in tqdm(range(len(test_data_source))):\n",
        "  doc = test_data_source[i]\n",
        "  summary = test_data_summary[i]\n",
        "  sentences = split_to_sentences(doc)\n",
        "\n",
        "  encoded_sentences = tokenizer(sentences, return_tensors='tf', padding='max_length', truncation=True, max_length=76)\n",
        "  embedded_sentences = enc_model(encoded_sentences)\n",
        "\n",
        "  # embedded_sentences has two outputs- 'last_hidden_state' and 'pooler_output' (which is like sentence embedding)\n",
        "  x_test = embedded_sentences['last_hidden_state'].numpy()\n",
        "  # reshaping to format acceptable by model\n",
        "  x_test_re = x_test.reshape(x_test.shape[0], x_test.shape[1], 768, 1)\n",
        "  y_pred = model.predict(x_test_re)\n",
        "  print(y_pred)\n",
        "  print('--------------------------')\n",
        "  y_pred=y_pred.reshape(y_pred.shape[0],)\n",
        "  print(y_pred)\n",
        "  print('--------------------------')\n",
        "  \"\"\"\n",
        "  # sentences are encoded (padded and truncated to input size of model) and embedded using BERT\n",
        "  encoded_sentences = tokenizer(sentences, return_tensors='tf', padding='max_length', truncation=True, max_length=50)\n",
        "  test_input_ids = encoded_sentences['input_ids']\n",
        "  test_attention_mask = encoded_sentences['attention_mask']\n",
        "\n",
        "  y_pred = model.predict([test_input_ids,test_attention_mask])\n",
        "  y_pred = y_pred.reshape(y_pred.shape[0],)\n",
        "  \"\"\"\n",
        "  temp = sorted(y_pred,reverse=True)   # saliency scores sorted in descending order\n",
        "  print(temp)\n",
        "  print('--------------------------')\n",
        "  pred_summary = []\n",
        "  word_limit=75                        # specify word limit to restrict summary length to\n",
        "  l = 0\n",
        "  for i in range(len(temp)):           # loopong through all values\n",
        "    ind = list(y_pred).index(temp[i])        # getting index of saliency score to match to sentence\n",
        "    if l<word_limit:\n",
        "      l+=len(sentences[ind].split(' '))\n",
        "      if l<=word_limit:                # if after adding this sentence, word limit is not exceeded- add it completely\n",
        "        pred_summary.append([ind,sentences[ind]])  # index added to sort in order later\n",
        "      else:\n",
        "        req_len = l-word_limit\n",
        "        temp_list = sentences[ind].split(' ')[:req_len]\n",
        "        pred_summary.append([ind,' '.join(temp_list)])  # if after adding this sentence, word limit is exceeded - add till limit is reached\n",
        "  print(pred_summary)\n",
        "  print('-----------------------------')\n",
        "  def Sort(sub_li):\n",
        "    sub_li.sort(key = lambda x: x[0])\n",
        "    return sub_li\n",
        "\n",
        "  pred_summary_index_sorted = Sort(pred_summary)   # sort the sentences according to increasing value of index to retain order\n",
        "  # the sentences in pred_summary are joined\n",
        "  print(pred_summary_index_sorted)\n",
        "  print('-----------------------------')\n",
        "  pred_summary_sorted = []\n",
        "  for i in range(len(pred_summary_index_sorted)):\n",
        "    pred_summary_sorted.append(pred_summary_index_sorted[i][1])\n",
        "  print(pred_summary_sorted)\n",
        "  print('-----------------------------')\n",
        "  final_pred_summary = ' '.join(pred_summary_sorted)   # join all sentences in list\n",
        "  print(final_pred_summary)\n",
        "  print(len(final_pred_summary.split(' ')))\n",
        "  print('---------------------------------------------------------------------------------------------')\n",
        "  print('---------------------------------------------------------------------------------------------')\n",
        "  # Rouge score is calculates between the predicted summary (final_pred_summary) and the reference summary\n",
        "  rouge = Rouge()\n",
        "  result_rouge_list.append(rouge.get_scores(final_pred_summary, summary, avg=True))  # rouge.get_scores(sys, ref, avg=True)\n",
        "  bertscore = load(\"bertscore\")\n",
        "  result_bertscore_list.append(bertscore.compute(predictions=[final_pred_summary], references=[summary], model_type=\"distilbert-base-uncased\"))"
      ],
      "metadata": {
        "colab": {
          "base_uri": "https://localhost:8080/"
        },
        "id": "Qp0b5VGUd-8L",
        "outputId": "6d8444f5-cfc6-40b9-adac-b0dbf3f41713"
      },
      "execution_count": null,
      "outputs": [
        {
          "output_type": "stream",
          "name": "stderr",
          "text": [
            "\r  0%|          | 0/5 [00:00<?, ?it/s]"
          ]
        },
        {
          "output_type": "stream",
          "name": "stdout",
          "text": [
            "1/1 [==============================] - 0s 75ms/step\n",
            "[[0.49995244]\n",
            " [0.4999525 ]\n",
            " [0.49995255]\n",
            " [0.49995244]\n",
            " [0.49995244]\n",
            " [0.49995244]\n",
            " [0.49995244]\n",
            " [0.49995244]\n",
            " [0.4999525 ]\n",
            " [0.4999525 ]\n",
            " [0.49995255]\n",
            " [0.49995244]\n",
            " [0.49995244]\n",
            " [0.4999525 ]\n",
            " [0.49995244]\n",
            " [0.4999525 ]\n",
            " [0.49995244]]\n",
            "--------------------------\n",
            "[0.49995244 0.4999525  0.49995255 0.49995244 0.49995244 0.49995244\n",
            " 0.49995244 0.49995244 0.4999525  0.4999525  0.49995255 0.49995244\n",
            " 0.49995244 0.4999525  0.49995244 0.4999525  0.49995244]\n",
            "--------------------------\n",
            "[0.49995255, 0.49995255, 0.4999525, 0.4999525, 0.4999525, 0.4999525, 0.4999525, 0.49995244, 0.49995244, 0.49995244, 0.49995244, 0.49995244, 0.49995244, 0.49995244, 0.49995244, 0.49995244, 0.49995244]\n",
            "--------------------------\n",
            "[[2, 'The Red Cross took the casualties to Universal Hospital in Baalbek.'], [2, 'The Red Cross took the casualties to Universal Hospital in Baalbek.'], [1, 'The strike centered on a Syrian refugee camp located near the Syrian border between the towns of Baalbeck and Arsal in the Bekaa Valley, the National News Agency said.'], [1, 'The strike centered on a']]\n",
            "-----------------------------\n",
            "[[1, 'The strike centered on a Syrian refugee camp located near the Syrian border between the towns of Baalbeck and Arsal in the Bekaa Valley, the National News Agency said.'], [1, 'The strike centered on a'], [2, 'The Red Cross took the casualties to Universal Hospital in Baalbek.'], [2, 'The Red Cross took the casualties to Universal Hospital in Baalbek.']]\n",
            "-----------------------------\n",
            "['The strike centered on a Syrian refugee camp located near the Syrian border between the towns of Baalbeck and Arsal in the Bekaa Valley, the National News Agency said.', 'The strike centered on a', 'The Red Cross took the casualties to Universal Hospital in Baalbek.', 'The Red Cross took the casualties to Universal Hospital in Baalbek.']\n",
            "-----------------------------\n",
            "The strike centered on a Syrian refugee camp located near the Syrian border between the towns of Baalbeck and Arsal in the Bekaa Valley, the National News Agency said. The strike centered on a The Red Cross took the casualties to Universal Hospital in Baalbek. The Red Cross took the casualties to Universal Hospital in Baalbek.\n",
            "56\n",
            "---------------------------------------------------------------------------------------------\n",
            "---------------------------------------------------------------------------------------------\n"
          ]
        },
        {
          "output_type": "stream",
          "name": "stderr",
          "text": [
            "\r 20%|██        | 1/5 [00:03<00:15,  3.83s/it]"
          ]
        },
        {
          "output_type": "stream",
          "name": "stdout",
          "text": [
            "1/1 [==============================] - 0s 71ms/step\n",
            "[[0.4999525 ]\n",
            " [0.49995244]\n",
            " [0.4999525 ]\n",
            " [0.49995244]\n",
            " [0.49995244]\n",
            " [0.49995255]\n",
            " [0.49995244]\n",
            " [0.49995244]\n",
            " [0.4999525 ]\n",
            " [0.49995244]\n",
            " [0.49995244]\n",
            " [0.49995244]\n",
            " [0.49995244]\n",
            " [0.49995244]\n",
            " [0.49995244]\n",
            " [0.49995244]\n",
            " [0.49995244]\n",
            " [0.49995244]\n",
            " [0.49995244]]\n",
            "--------------------------\n",
            "[0.4999525  0.49995244 0.4999525  0.49995244 0.49995244 0.49995255\n",
            " 0.49995244 0.49995244 0.4999525  0.49995244 0.49995244 0.49995244\n",
            " 0.49995244 0.49995244 0.49995244 0.49995244 0.49995244 0.49995244\n",
            " 0.49995244]\n",
            "--------------------------\n",
            "[0.49995255, 0.4999525, 0.4999525, 0.4999525, 0.49995244, 0.49995244, 0.49995244, 0.49995244, 0.49995244, 0.49995244, 0.49995244, 0.49995244, 0.49995244, 0.49995244, 0.49995244, 0.49995244, 0.49995244, 0.49995244, 0.49995244]\n",
            "--------------------------\n",
            "[[5, \"'Regrettably, Russian authorities have not accepted this advice and remain committed to having Mr Shilov remain in detention,' Ms Bishop wrote in a letter to the Shilov family's local MP.\"], [0, 'An Australian citizen, who has awaited trial from behind the bars of a Russian prison for more than two years, could face a minimum of 15 years in jail for the supply of poppy seeds.'], [0, 'An Australian citizen, who has awaited trial from behind the bars of a Russian prison for more than two years, could face a minimum of']]\n",
            "-----------------------------\n",
            "[[0, 'An Australian citizen, who has awaited trial from behind the bars of a Russian prison for more than two years, could face a minimum of 15 years in jail for the supply of poppy seeds.'], [0, 'An Australian citizen, who has awaited trial from behind the bars of a Russian prison for more than two years, could face a minimum of'], [5, \"'Regrettably, Russian authorities have not accepted this advice and remain committed to having Mr Shilov remain in detention,' Ms Bishop wrote in a letter to the Shilov family's local MP.\"]]\n",
            "-----------------------------\n",
            "['An Australian citizen, who has awaited trial from behind the bars of a Russian prison for more than two years, could face a minimum of 15 years in jail for the supply of poppy seeds.', 'An Australian citizen, who has awaited trial from behind the bars of a Russian prison for more than two years, could face a minimum of', \"'Regrettably, Russian authorities have not accepted this advice and remain committed to having Mr Shilov remain in detention,' Ms Bishop wrote in a letter to the Shilov family's local MP.\"]\n",
            "-----------------------------\n",
            "An Australian citizen, who has awaited trial from behind the bars of a Russian prison for more than two years, could face a minimum of 15 years in jail for the supply of poppy seeds. An Australian citizen, who has awaited trial from behind the bars of a Russian prison for more than two years, could face a minimum of 'Regrettably, Russian authorities have not accepted this advice and remain committed to having Mr Shilov remain in detention,' Ms Bishop wrote in a letter to the Shilov family's local MP.\n",
            "90\n",
            "---------------------------------------------------------------------------------------------\n",
            "---------------------------------------------------------------------------------------------\n"
          ]
        },
        {
          "output_type": "stream",
          "name": "stderr",
          "text": [
            "\r 40%|████      | 2/5 [00:07<00:11,  3.85s/it]"
          ]
        },
        {
          "output_type": "stream",
          "name": "stdout",
          "text": [
            "3/3 [==============================] - 4s 2s/step\n",
            "[[0.49995255]\n",
            " [0.4999525 ]\n",
            " [0.49995244]\n",
            " [0.49995244]\n",
            " [0.49995244]\n",
            " [0.49995244]\n",
            " [0.49995244]\n",
            " [0.49995244]\n",
            " [0.49995244]\n",
            " [0.49995244]\n",
            " [0.49995244]\n",
            " [0.49995244]\n",
            " [0.4999525 ]\n",
            " [0.49995244]\n",
            " [0.49995244]\n",
            " [0.49995244]\n",
            " [0.49995244]\n",
            " [0.49995244]\n",
            " [0.49995244]\n",
            " [0.49995244]\n",
            " [0.49995244]\n",
            " [0.49995244]\n",
            " [0.49995244]\n",
            " [0.49995255]\n",
            " [0.49995255]\n",
            " [0.49995244]\n",
            " [0.49995244]\n",
            " [0.49995255]\n",
            " [0.49995244]\n",
            " [0.49995244]\n",
            " [0.49995244]\n",
            " [0.49995244]\n",
            " [0.49995244]\n",
            " [0.49995244]\n",
            " [0.49995244]\n",
            " [0.49995244]\n",
            " [0.49995244]\n",
            " [0.49995244]\n",
            " [0.49995244]\n",
            " [0.49995244]\n",
            " [0.49995244]\n",
            " [0.4999525 ]\n",
            " [0.49995244]\n",
            " [0.49995244]\n",
            " [0.49995244]\n",
            " [0.4999525 ]\n",
            " [0.49995244]\n",
            " [0.49995238]\n",
            " [0.49995244]\n",
            " [0.49995244]\n",
            " [0.49995244]\n",
            " [0.49995244]\n",
            " [0.49995244]\n",
            " [0.4999525 ]\n",
            " [0.49995244]\n",
            " [0.49995244]\n",
            " [0.49995244]\n",
            " [0.49995244]\n",
            " [0.49995244]\n",
            " [0.49995244]\n",
            " [0.49995244]\n",
            " [0.49995244]\n",
            " [0.49995244]\n",
            " [0.49995244]\n",
            " [0.49995255]\n",
            " [0.49995244]\n",
            " [0.49995244]\n",
            " [0.49995244]\n",
            " [0.49995255]\n",
            " [0.49995238]\n",
            " [0.49995238]\n",
            " [0.49995244]\n",
            " [0.4999525 ]\n",
            " [0.49995244]\n",
            " [0.49995244]\n",
            " [0.49995238]\n",
            " [0.49995244]\n",
            " [0.4999525 ]]\n",
            "--------------------------\n",
            "[0.49995255 0.4999525  0.49995244 0.49995244 0.49995244 0.49995244\n",
            " 0.49995244 0.49995244 0.49995244 0.49995244 0.49995244 0.49995244\n",
            " 0.4999525  0.49995244 0.49995244 0.49995244 0.49995244 0.49995244\n",
            " 0.49995244 0.49995244 0.49995244 0.49995244 0.49995244 0.49995255\n",
            " 0.49995255 0.49995244 0.49995244 0.49995255 0.49995244 0.49995244\n",
            " 0.49995244 0.49995244 0.49995244 0.49995244 0.49995244 0.49995244\n",
            " 0.49995244 0.49995244 0.49995244 0.49995244 0.49995244 0.4999525\n",
            " 0.49995244 0.49995244 0.49995244 0.4999525  0.49995244 0.49995238\n",
            " 0.49995244 0.49995244 0.49995244 0.49995244 0.49995244 0.4999525\n",
            " 0.49995244 0.49995244 0.49995244 0.49995244 0.49995244 0.49995244\n",
            " 0.49995244 0.49995244 0.49995244 0.49995244 0.49995255 0.49995244\n",
            " 0.49995244 0.49995244 0.49995255 0.49995238 0.49995238 0.49995244\n",
            " 0.4999525  0.49995244 0.49995244 0.49995238 0.49995244 0.4999525 ]\n",
            "--------------------------\n",
            "[0.49995255, 0.49995255, 0.49995255, 0.49995255, 0.49995255, 0.49995255, 0.4999525, 0.4999525, 0.4999525, 0.4999525, 0.4999525, 0.4999525, 0.4999525, 0.49995244, 0.49995244, 0.49995244, 0.49995244, 0.49995244, 0.49995244, 0.49995244, 0.49995244, 0.49995244, 0.49995244, 0.49995244, 0.49995244, 0.49995244, 0.49995244, 0.49995244, 0.49995244, 0.49995244, 0.49995244, 0.49995244, 0.49995244, 0.49995244, 0.49995244, 0.49995244, 0.49995244, 0.49995244, 0.49995244, 0.49995244, 0.49995244, 0.49995244, 0.49995244, 0.49995244, 0.49995244, 0.49995244, 0.49995244, 0.49995244, 0.49995244, 0.49995244, 0.49995244, 0.49995244, 0.49995244, 0.49995244, 0.49995244, 0.49995244, 0.49995244, 0.49995244, 0.49995244, 0.49995244, 0.49995244, 0.49995244, 0.49995244, 0.49995244, 0.49995244, 0.49995244, 0.49995244, 0.49995244, 0.49995244, 0.49995244, 0.49995244, 0.49995244, 0.49995244, 0.49995244, 0.49995238, 0.49995238, 0.49995238, 0.49995238]\n",
            "--------------------------\n",
            "[[0, 'Everton are still looking to add two new players to their ranks with Tom Cleverley of Manchester United among the options for Roberto Martinez.'], [0, 'Everton are still looking to add two new players to their ranks with Tom Cleverley of Manchester United among the options for Roberto Martinez.'], [0, 'Everton are still looking to add two new players to their ranks with Tom Cleverley of Manchester United among the options for Roberto Martinez.'], [0, 'Everton are still looking to add two new players to their ranks with Tom Cleverley of Manchester United among the options']]\n",
            "-----------------------------\n",
            "[[0, 'Everton are still looking to add two new players to their ranks with Tom Cleverley of Manchester United among the options for Roberto Martinez.'], [0, 'Everton are still looking to add two new players to their ranks with Tom Cleverley of Manchester United among the options for Roberto Martinez.'], [0, 'Everton are still looking to add two new players to their ranks with Tom Cleverley of Manchester United among the options for Roberto Martinez.'], [0, 'Everton are still looking to add two new players to their ranks with Tom Cleverley of Manchester United among the options']]\n",
            "-----------------------------\n",
            "['Everton are still looking to add two new players to their ranks with Tom Cleverley of Manchester United among the options for Roberto Martinez.', 'Everton are still looking to add two new players to their ranks with Tom Cleverley of Manchester United among the options for Roberto Martinez.', 'Everton are still looking to add two new players to their ranks with Tom Cleverley of Manchester United among the options for Roberto Martinez.', 'Everton are still looking to add two new players to their ranks with Tom Cleverley of Manchester United among the options']\n",
            "-----------------------------\n",
            "Everton are still looking to add two new players to their ranks with Tom Cleverley of Manchester United among the options for Roberto Martinez. Everton are still looking to add two new players to their ranks with Tom Cleverley of Manchester United among the options for Roberto Martinez. Everton are still looking to add two new players to their ranks with Tom Cleverley of Manchester United among the options for Roberto Martinez. Everton are still looking to add two new players to their ranks with Tom Cleverley of Manchester United among the options\n",
            "93\n",
            "---------------------------------------------------------------------------------------------\n",
            "---------------------------------------------------------------------------------------------\n"
          ]
        },
        {
          "output_type": "stream",
          "name": "stderr",
          "text": [
            "\r 60%|██████    | 3/5 [00:15<00:10,  5.47s/it]"
          ]
        },
        {
          "output_type": "stream",
          "name": "stdout",
          "text": [
            "2/2 [==============================] - 2s 2s/step\n",
            "[[0.4999525 ]\n",
            " [0.4999525 ]\n",
            " [0.49995244]\n",
            " [0.49995244]\n",
            " [0.49995244]\n",
            " [0.49995244]\n",
            " [0.49995244]\n",
            " [0.49995238]\n",
            " [0.49995244]\n",
            " [0.49995244]\n",
            " [0.49995238]\n",
            " [0.49995244]\n",
            " [0.49995244]\n",
            " [0.49995244]\n",
            " [0.49995244]\n",
            " [0.49995244]\n",
            " [0.4999525 ]\n",
            " [0.49995244]\n",
            " [0.4999525 ]\n",
            " [0.49995255]\n",
            " [0.4999525 ]\n",
            " [0.4999525 ]\n",
            " [0.49995244]\n",
            " [0.49995244]\n",
            " [0.49995244]\n",
            " [0.4999525 ]\n",
            " [0.49995244]\n",
            " [0.49995255]\n",
            " [0.49995244]\n",
            " [0.49995244]\n",
            " [0.49995244]\n",
            " [0.49995255]\n",
            " [0.49995255]\n",
            " [0.49995244]\n",
            " [0.4999525 ]\n",
            " [0.49995244]\n",
            " [0.49995244]\n",
            " [0.49995244]\n",
            " [0.49995255]\n",
            " [0.49995244]\n",
            " [0.49995244]\n",
            " [0.49995244]\n",
            " [0.49995244]\n",
            " [0.4999525 ]\n",
            " [0.49995244]\n",
            " [0.49995244]\n",
            " [0.49995244]\n",
            " [0.49995238]\n",
            " [0.4999525 ]\n",
            " [0.49995238]\n",
            " [0.49995244]\n",
            " [0.49995244]\n",
            " [0.49995244]\n",
            " [0.49995244]]\n",
            "--------------------------\n",
            "[0.4999525  0.4999525  0.49995244 0.49995244 0.49995244 0.49995244\n",
            " 0.49995244 0.49995238 0.49995244 0.49995244 0.49995238 0.49995244\n",
            " 0.49995244 0.49995244 0.49995244 0.49995244 0.4999525  0.49995244\n",
            " 0.4999525  0.49995255 0.4999525  0.4999525  0.49995244 0.49995244\n",
            " 0.49995244 0.4999525  0.49995244 0.49995255 0.49995244 0.49995244\n",
            " 0.49995244 0.49995255 0.49995255 0.49995244 0.4999525  0.49995244\n",
            " 0.49995244 0.49995244 0.49995255 0.49995244 0.49995244 0.49995244\n",
            " 0.49995244 0.4999525  0.49995244 0.49995244 0.49995244 0.49995238\n",
            " 0.4999525  0.49995238 0.49995244 0.49995244 0.49995244 0.49995244]\n",
            "--------------------------\n",
            "[0.49995255, 0.49995255, 0.49995255, 0.49995255, 0.49995255, 0.4999525, 0.4999525, 0.4999525, 0.4999525, 0.4999525, 0.4999525, 0.4999525, 0.4999525, 0.4999525, 0.4999525, 0.49995244, 0.49995244, 0.49995244, 0.49995244, 0.49995244, 0.49995244, 0.49995244, 0.49995244, 0.49995244, 0.49995244, 0.49995244, 0.49995244, 0.49995244, 0.49995244, 0.49995244, 0.49995244, 0.49995244, 0.49995244, 0.49995244, 0.49995244, 0.49995244, 0.49995244, 0.49995244, 0.49995244, 0.49995244, 0.49995244, 0.49995244, 0.49995244, 0.49995244, 0.49995244, 0.49995244, 0.49995244, 0.49995244, 0.49995244, 0.49995244, 0.49995238, 0.49995238, 0.49995238, 0.49995238]\n",
            "--------------------------\n",
            "[[19, 'life.'], [19, 'life.'], [19, 'life.'], [19, 'life.'], [19, 'life.'], [0, 'By .'], [0, 'By .'], [0, 'By .'], [0, 'By .'], [0, 'By .'], [0, 'By .'], [0, 'By .'], [0, 'By .'], [0, 'By .'], [0, 'By .'], [2, 'Last updated at 1:25 AM on 3rd August 2011 .'], [2, 'Last updated at 1:25 AM on 3rd August 2011 .'], [2, 'Last updated at 1:25 AM on 3rd August 2011 .'], [2, 'Last updated at 1:25 AM on 3rd August 2011 .'], [2, 'Last updated at 1:25 AM on 3rd August 2011 .']]\n",
            "-----------------------------\n",
            "[[0, 'By .'], [0, 'By .'], [0, 'By .'], [0, 'By .'], [0, 'By .'], [0, 'By .'], [0, 'By .'], [0, 'By .'], [0, 'By .'], [0, 'By .'], [2, 'Last updated at 1:25 AM on 3rd August 2011 .'], [2, 'Last updated at 1:25 AM on 3rd August 2011 .'], [2, 'Last updated at 1:25 AM on 3rd August 2011 .'], [2, 'Last updated at 1:25 AM on 3rd August 2011 .'], [2, 'Last updated at 1:25 AM on 3rd August 2011 .'], [19, 'life.'], [19, 'life.'], [19, 'life.'], [19, 'life.'], [19, 'life.']]\n",
            "-----------------------------\n",
            "['By .', 'By .', 'By .', 'By .', 'By .', 'By .', 'By .', 'By .', 'By .', 'By .', 'Last updated at 1:25 AM on 3rd August 2011 .', 'Last updated at 1:25 AM on 3rd August 2011 .', 'Last updated at 1:25 AM on 3rd August 2011 .', 'Last updated at 1:25 AM on 3rd August 2011 .', 'Last updated at 1:25 AM on 3rd August 2011 .', 'life.', 'life.', 'life.', 'life.', 'life.']\n",
            "-----------------------------\n",
            "By . By . By . By . By . By . By . By . By . By . Last updated at 1:25 AM on 3rd August 2011 . Last updated at 1:25 AM on 3rd August 2011 . Last updated at 1:25 AM on 3rd August 2011 . Last updated at 1:25 AM on 3rd August 2011 . Last updated at 1:25 AM on 3rd August 2011 . life. life. life. life. life.\n",
            "75\n",
            "---------------------------------------------------------------------------------------------\n",
            "---------------------------------------------------------------------------------------------\n"
          ]
        },
        {
          "output_type": "stream",
          "name": "stderr",
          "text": [
            "\r 80%|████████  | 4/5 [00:20<00:05,  5.60s/it]"
          ]
        },
        {
          "output_type": "stream",
          "name": "stdout",
          "text": [
            "2/2 [==============================] - 2s 2s/step\n",
            "[[0.4999525 ]\n",
            " [0.49995255]\n",
            " [0.49995255]\n",
            " [0.49995244]\n",
            " [0.49995255]\n",
            " [0.49995244]\n",
            " [0.49995255]\n",
            " [0.49995255]\n",
            " [0.49995244]\n",
            " [0.4999525 ]\n",
            " [0.49995255]\n",
            " [0.49995244]\n",
            " [0.49995244]\n",
            " [0.4999525 ]\n",
            " [0.49995244]\n",
            " [0.49995244]\n",
            " [0.4999525 ]\n",
            " [0.49995244]\n",
            " [0.4999525 ]\n",
            " [0.49995244]\n",
            " [0.49995244]\n",
            " [0.49995244]\n",
            " [0.49995244]\n",
            " [0.49995244]\n",
            " [0.4999525 ]\n",
            " [0.49995255]\n",
            " [0.49995244]\n",
            " [0.49995255]\n",
            " [0.49995244]\n",
            " [0.49995244]\n",
            " [0.49995255]\n",
            " [0.49995255]\n",
            " [0.4999525 ]\n",
            " [0.49995244]\n",
            " [0.4999525 ]\n",
            " [0.4999525 ]\n",
            " [0.49995244]]\n",
            "--------------------------\n",
            "[0.4999525  0.49995255 0.49995255 0.49995244 0.49995255 0.49995244\n",
            " 0.49995255 0.49995255 0.49995244 0.4999525  0.49995255 0.49995244\n",
            " 0.49995244 0.4999525  0.49995244 0.49995244 0.4999525  0.49995244\n",
            " 0.4999525  0.49995244 0.49995244 0.49995244 0.49995244 0.49995244\n",
            " 0.4999525  0.49995255 0.49995244 0.49995255 0.49995244 0.49995244\n",
            " 0.49995255 0.49995255 0.4999525  0.49995244 0.4999525  0.4999525\n",
            " 0.49995244]\n",
            "--------------------------\n",
            "[0.49995255, 0.49995255, 0.49995255, 0.49995255, 0.49995255, 0.49995255, 0.49995255, 0.49995255, 0.49995255, 0.49995255, 0.4999525, 0.4999525, 0.4999525, 0.4999525, 0.4999525, 0.4999525, 0.4999525, 0.4999525, 0.4999525, 0.49995244, 0.49995244, 0.49995244, 0.49995244, 0.49995244, 0.49995244, 0.49995244, 0.49995244, 0.49995244, 0.49995244, 0.49995244, 0.49995244, 0.49995244, 0.49995244, 0.49995244, 0.49995244, 0.49995244, 0.49995244]\n",
            "--------------------------\n",
            "[[1, 'Cheaper farmland and proximity to population centres are fueling growth in Amish colonies in The Empire State, a study out of Pennsylvania shows.'], [1, 'Cheaper farmland and proximity to population centres are fueling growth in Amish colonies in The Empire State, a study out of Pennsylvania shows.'], [1, 'Cheaper farmland and proximity to population centres are fueling growth in Amish colonies in The Empire State, a study out of Pennsylvania shows.'], [1, 'Cheaper farmland and proximity to population centres are fueling growth in Amish colonies in The Empire State,']]\n",
            "-----------------------------\n",
            "[[1, 'Cheaper farmland and proximity to population centres are fueling growth in Amish colonies in The Empire State, a study out of Pennsylvania shows.'], [1, 'Cheaper farmland and proximity to population centres are fueling growth in Amish colonies in The Empire State, a study out of Pennsylvania shows.'], [1, 'Cheaper farmland and proximity to population centres are fueling growth in Amish colonies in The Empire State, a study out of Pennsylvania shows.'], [1, 'Cheaper farmland and proximity to population centres are fueling growth in Amish colonies in The Empire State,']]\n",
            "-----------------------------\n",
            "['Cheaper farmland and proximity to population centres are fueling growth in Amish colonies in The Empire State, a study out of Pennsylvania shows.', 'Cheaper farmland and proximity to population centres are fueling growth in Amish colonies in The Empire State, a study out of Pennsylvania shows.', 'Cheaper farmland and proximity to population centres are fueling growth in Amish colonies in The Empire State, a study out of Pennsylvania shows.', 'Cheaper farmland and proximity to population centres are fueling growth in Amish colonies in The Empire State,']\n",
            "-----------------------------\n",
            "Cheaper farmland and proximity to population centres are fueling growth in Amish colonies in The Empire State, a study out of Pennsylvania shows. Cheaper farmland and proximity to population centres are fueling growth in Amish colonies in The Empire State, a study out of Pennsylvania shows. Cheaper farmland and proximity to population centres are fueling growth in Amish colonies in The Empire State, a study out of Pennsylvania shows. Cheaper farmland and proximity to population centres are fueling growth in Amish colonies in The Empire State,\n",
            "86\n",
            "---------------------------------------------------------------------------------------------\n",
            "---------------------------------------------------------------------------------------------\n"
          ]
        },
        {
          "output_type": "stream",
          "name": "stderr",
          "text": [
            "100%|██████████| 5/5 [00:26<00:00,  5.26s/it]\n"
          ]
        }
      ]
    },
    {
      "cell_type": "code",
      "execution_count": null,
      "metadata": {
        "colab": {
          "base_uri": "https://localhost:8080/"
        },
        "id": "KaG9_QwbBe08",
        "outputId": "b7438773-a289-469c-d51d-2ec4ac2eb03d"
      },
      "outputs": [
        {
          "output_type": "stream",
          "name": "stdout",
          "text": [
            "{'rouge-1': {'r': 0.18000832004770803, 'p': 0.28952569169960474, 'f': 0.2074961869646873}, 'rouge-2': {'r': 0.03270078940667176, 'p': 0.08151616499442586, 'f': 0.04404509289691641}, 'rouge-l': {'r': 0.15178299904856488, 'p': 0.24889530759095976, 'f': 0.17586248943344354}}\n"
          ]
        }
      ],
      "source": [
        "agg_rouge_score = {'rouge-1':{'r':0,'p':0,'f':0},'rouge-2':{'r':0,'p':0,'f':0},\n",
        "                   'rouge-l':{'r':0,'p':0,'f':0}}\n",
        "\n",
        "for i in range(len(result_rouge_list)):\n",
        "  for rouge_type in ['rouge-1','rouge-2','rouge-l']:\n",
        "    for j in ['r','p','f']:\n",
        "      agg_rouge_score[rouge_type][j]+=(result_rouge_list[i][rouge_type][j]/len(result_rouge_list))\n",
        "\n",
        "print(agg_rouge_score)"
      ]
    },
    {
      "cell_type": "code",
      "source": [
        "agg_bertscore = {'precision':0, 'recall':0, 'f1':0}\n",
        "\n",
        "for i in range(len(result_bertscore_list)):\n",
        "  for metric_type in ['precision','recall','f1']:\n",
        "    agg_bertscore[metric_type]+=((result_bertscore_list[i][metric_type][0])/len(result_bertscore_list))\n",
        "\n",
        "print(agg_bertscore)"
      ],
      "metadata": {
        "id": "WQswul_UD0n0",
        "colab": {
          "base_uri": "https://localhost:8080/"
        },
        "outputId": "45e27ebd-3578-4d9e-f6e1-5fff275da78a"
      },
      "execution_count": null,
      "outputs": [
        {
          "output_type": "stream",
          "name": "stdout",
          "text": [
            "{'precision': 0.6999585390090943, 'recall': 0.7174856305122377, 'f1': 0.7071266055107117}\n"
          ]
        }
      ]
    },
    {
      "cell_type": "code",
      "source": [
        "!pip install evaluate\n",
        "!pip install bert_score\n",
        "\n",
        "from evaluate import load\n",
        "\n",
        "test=pd.read_csv(\"/content/test.csv\")\n",
        "test.dropna(inplace=True)\n",
        "\n",
        "test_data_source = test['article'].values.tolist()      # list containing articles of test dataset\n",
        "test_data_summary = test['highlights'].values.tolist()  # list containing highlights of test dataset\n",
        "\n",
        "\n",
        "def Sort(sub_li):\n",
        "  sub_li.sort(key = lambda x: x[0], reverse=True) # reverse=True will sort the list descending\n",
        "  return sub_li\n",
        "\n",
        "result_rouge_list = []\n",
        "result_bertscore_list = []\n",
        "\n",
        "for i in range(len(test_data_source)):\n",
        "  doc = test_data_source[i]\n",
        "  summary = test_data_summary[i]\n",
        "  sentences = split_to_sentences(doc)\n",
        "\n",
        "  # sentences are encoded (padded and truncated to input size of model) and embedded using BERT\n",
        "  encoded_sentences = tokenizer(sentences, return_tensors='tf', padding='max_length', truncation=True, max_length=50)\n",
        "  test_input_ids = encoded_sentences['input_ids']\n",
        "  test_attention_mask = encoded_sentences['attention_mask']\n",
        "\n",
        "  y_pred = model.predict([test_input_ids,test_attention_mask])\n",
        "  y_pred = y_pred.reshape(y_pred.shape[0],)\n",
        "\n",
        "  predictions = []\n",
        "  for i in range(len(y_pred)):\n",
        "    predictions.append([y_pred[i],sentences[i]])    # appending pairs of saliency score and its corresponding sentence\n",
        "\n",
        "  sorted_predictions = Sort(predictions)            # sorting pairs according to saliency score in descending order\n",
        "\n",
        "  predicted_summary = []\n",
        "  l = 0\n",
        "  word_limit = 75                                   # to test for word_limit = 75 & 100 for daily mail\n",
        "  for i in range(len(sorted_predictions)):\n",
        "    sent = sorted_predictions[i][1]\n",
        "    if l<word_limit:\n",
        "      l+=len(sent.split(' '))\n",
        "      predicted_summary.append(sent)\n",
        "      if l>word_limit:                               # if length is more than word_limit - stop appending sentences\n",
        "        break\n",
        "\n",
        "  final_pred_summary = ' '.join(predicted_summary)   # join all sentences in list\n",
        "\n",
        "  final_pred_summary_list = final_pred_summary.split(' ')[:word_limit]\n",
        "  final_pred_summary = ' '.join(final_pred_summary_list)\n",
        "\n",
        "  # Rouge score is calculates between the predicted summary (final_pred_summary) and the reference summary\n",
        "  rouge = Rouge()\n",
        "  result_rouge_list.append(rouge.get_scores(final_pred_summary, summary, avg=True))  # rouge.get_scores(sys, ref, avg=True)\n",
        "  bertscore = load(\"bertscore\")\n",
        "  result_bertscore_list.append(bertscore.compute(predictions=[final_pred_summary], references=[summary], model_type=\"distilbert-base-uncased\"))\n",
        "\n",
        "\n",
        "\n",
        "\n",
        "agg_rouge_score = {'rouge-1':{'r':0,'p':0,'f':0},'rouge-2':{'r':0,'p':0,'f':0},\n",
        "                   'rouge-l':{'r':0,'p':0,'f':0}}\n",
        "\n",
        "for i in range(len(result_rouge_list)):\n",
        "  for rouge_type in ['rouge-1','rouge-2','rouge-l']:\n",
        "    for j in ['r','p','f']:\n",
        "      agg_rouge_score[rouge_type][j]+=(result_rouge_list[i][rouge_type][j]/len(result_rouge_list))\n",
        "\n",
        "print(agg_rouge_score)\n",
        "\n",
        "\n",
        "\n",
        "agg_bertscore = {'precision':0, 'recall':0, 'f1':0}\n",
        "\n",
        "for i in range(len(result_bertscore_list)):\n",
        "  for metric_type in ['precision','recall','f1']:\n",
        "    agg_bertscore[metric_type]+=((result_bertscore_list[i][metric_type][0])/len(result_bertscore_list))\n",
        "\n",
        "print(agg_bertscore)"
      ],
      "metadata": {
        "id": "xEl4efAhct1u"
      },
      "execution_count": null,
      "outputs": []
    },
    {
      "cell_type": "code",
      "source": [
        "!pip install evaluate\n",
        "!pip install bert_score\n",
        "\n",
        "from evaluate import load\n",
        "\n",
        "test=pd.read_csv(\"/content/test.csv\")\n",
        "test.dropna(inplace=True)\n",
        "\n",
        "test_data_source = test['article'].values.tolist()      # list containing articles of test dataset\n",
        "test_data_summary = test['highlights'].values.tolist()  # list containing highlights of test dataset\n",
        "\n",
        "\n",
        "def Sort(sub_li, r):\n",
        "  sub_li.sort(key = lambda x: x[0], reverse=r) # reverse=True will sort the list descending\n",
        "  return sub_li\n",
        "\n",
        "result_rouge_list = []\n",
        "result_bertscore_list = []\n",
        "\n",
        "for i in range(len(test_data_source)):\n",
        "  doc = test_data_source[i]\n",
        "  summary = test_data_summary[i]\n",
        "  sentences = split_to_sentences(doc)\n",
        "\n",
        "  # sentences are encoded (padded and truncated to input size of model) and embedded using BERT\n",
        "  encoded_sentences = tokenizer(sentences, return_tensors='tf', padding='max_length', truncation=True, max_length=50)\n",
        "  test_input_ids = encoded_sentences['input_ids']\n",
        "  test_attention_mask = encoded_sentences['attention_mask']\n",
        "\n",
        "  y_pred = model.predict([test_input_ids,test_attention_mask])\n",
        "  y_pred = y_pred.reshape(y_pred.shape[0],)\n",
        "\n",
        "  predictions = []\n",
        "  for i in range(len(y_pred)):\n",
        "    predictions.append([y_pred[i], i, sentences[i]])    # appending pairs of saliency score and its corresponding sentence\n",
        "\n",
        "  sorted_predictions = Sort(predictions,True)            # sorting pairs according to saliency score in descending order; True implies descending order\n",
        "\n",
        "  unordered_summary = []\n",
        "  l = 0\n",
        "  word_limit = 75                                   # to test for word_limit = 75 & 100 for daily mail\n",
        "  for i in range(len(sorted_predictions)):          # looping through sentences in order of descending value of saliency score\n",
        "    ind = sorted_predictions[i][1]\n",
        "    sent = sorted_predictions[i][2]\n",
        "    if l<word_limit:\n",
        "      l+=len(sent.split(' '))\n",
        "      if l<=word_limit:\n",
        "        unordered_summary.append([ind,sent])\n",
        "      else:\n",
        "        req_len = l-word_limit\n",
        "        temp_list = sent.split(' ')[:req_len]\n",
        "        unordered_summary.append([ind,' '.join(temp_list)])  # if after adding this sentence, word limit is exceeded - add till limit is reached\n",
        "\n",
        "\n",
        "  predicted_summary = Sort(unordered_summary,False)    # sort according to index value; False implies ascending order of index\n",
        "\n",
        "  temp_summary_list = []\n",
        "  for i in range(len(predicted_summary)):\n",
        "    temp_summary_list.append(predicted_summary[i][1])\n",
        "  final_pred_summary = ' '.join(temp_summary_list)   # join all sentences in list\n",
        "  temp_final_pred_summary = final_pred_summary.split(' ')[:word_limit]\n",
        "  final_pred_summary = ' '.join(temp_final_pred_summary)\n",
        "\n",
        "\n",
        "  # Rouge score is calculates between the predicted summary (final_pred_summary) and the reference summary\n",
        "  rouge = Rouge()\n",
        "  result_rouge_list.append(rouge.get_scores(final_pred_summary, summary, avg=True))  # rouge.get_scores(sys, ref, avg=True)\n",
        "  bertscore = load(\"bertscore\")\n",
        "  result_bertscore_list.append(bertscore.compute(predictions=[final_pred_summary], references=[summary], model_type=\"distilbert-base-uncased\"))\n",
        "\n",
        "\n",
        "\n",
        "agg_rouge_score = {'rouge-1':{'r':0,'p':0,'f':0},'rouge-2':{'r':0,'p':0,'f':0},\n",
        "                   'rouge-l':{'r':0,'p':0,'f':0}}\n",
        "\n",
        "for i in range(len(result_rouge_list)):\n",
        "  for rouge_type in ['rouge-1','rouge-2','rouge-l']:\n",
        "    for j in ['r','p','f']:\n",
        "      agg_rouge_score[rouge_type][j]+=(result_rouge_list[i][rouge_type][j]/len(result_rouge_list))\n",
        "\n",
        "print(agg_rouge_score)\n",
        "\n",
        "\n",
        "\n",
        "agg_bertscore = {'precision':0, 'recall':0, 'f1':0}\n",
        "\n",
        "for i in range(len(result_bertscore_list)):\n",
        "  for metric_type in ['precision','recall','f1']:\n",
        "    agg_bertscore[metric_type]+=((result_bertscore_list[i][metric_type][0])/len(result_bertscore_list))\n",
        "\n",
        "print(agg_bertscore)"
      ],
      "metadata": {
        "id": "bGC4h8UC-0Rs"
      },
      "execution_count": null,
      "outputs": []
    }
  ]
}