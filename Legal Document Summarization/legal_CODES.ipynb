{
  "nbformat": 4,
  "nbformat_minor": 0,
  "metadata": {
    "colab": {
      "provenance": [],
      "collapsed_sections": [
        "jq3OehB2lG2p",
        "jb4XeVKZknuo"
      ],
      "toc_visible": true,
      "mount_file_id": "1cJK_QmeY7w0NqN_ZKvS4aA4AFliYDDmw",
      "authorship_tag": "ABX9TyNu9pSv5jTNh3oxMzx8QQFx",
      "include_colab_link": true
    },
    "kernelspec": {
      "name": "python3",
      "display_name": "Python 3"
    },
    "language_info": {
      "name": "python"
    },
    "widgets": {
      "application/vnd.jupyter.widget-state+json": {
        "479475b7ef404f0abb30149ecb2d5f1a": {
          "model_module": "@jupyter-widgets/controls",
          "model_name": "HBoxModel",
          "model_module_version": "1.5.0",
          "state": {
            "_dom_classes": [],
            "_model_module": "@jupyter-widgets/controls",
            "_model_module_version": "1.5.0",
            "_model_name": "HBoxModel",
            "_view_count": null,
            "_view_module": "@jupyter-widgets/controls",
            "_view_module_version": "1.5.0",
            "_view_name": "HBoxView",
            "box_style": "",
            "children": [
              "IPY_MODEL_1561aa1079ee425ba1ad96efd56c5534",
              "IPY_MODEL_369f6254181847f3b97950d990f56c8e",
              "IPY_MODEL_1484962db0154d7094fa8e98eb757079"
            ],
            "layout": "IPY_MODEL_3d508ebf10874618bc81e1c9e60342bc"
          }
        },
        "1561aa1079ee425ba1ad96efd56c5534": {
          "model_module": "@jupyter-widgets/controls",
          "model_name": "HTMLModel",
          "model_module_version": "1.5.0",
          "state": {
            "_dom_classes": [],
            "_model_module": "@jupyter-widgets/controls",
            "_model_module_version": "1.5.0",
            "_model_name": "HTMLModel",
            "_view_count": null,
            "_view_module": "@jupyter-widgets/controls",
            "_view_module_version": "1.5.0",
            "_view_name": "HTMLView",
            "description": "",
            "description_tooltip": null,
            "layout": "IPY_MODEL_d5f334f5fba6449a9c48c2b82c0c002f",
            "placeholder": "​",
            "style": "IPY_MODEL_4f93de3973a54ad89d7b0b7d97c0c242",
            "value": "Downloading builder script: 100%"
          }
        },
        "369f6254181847f3b97950d990f56c8e": {
          "model_module": "@jupyter-widgets/controls",
          "model_name": "FloatProgressModel",
          "model_module_version": "1.5.0",
          "state": {
            "_dom_classes": [],
            "_model_module": "@jupyter-widgets/controls",
            "_model_module_version": "1.5.0",
            "_model_name": "FloatProgressModel",
            "_view_count": null,
            "_view_module": "@jupyter-widgets/controls",
            "_view_module_version": "1.5.0",
            "_view_name": "ProgressView",
            "bar_style": "success",
            "description": "",
            "description_tooltip": null,
            "layout": "IPY_MODEL_3b8dfc7783db49d5ad4d797740bb2827",
            "max": 7950,
            "min": 0,
            "orientation": "horizontal",
            "style": "IPY_MODEL_f29b9da8556546a5b1f1c5df37890757",
            "value": 7950
          }
        },
        "1484962db0154d7094fa8e98eb757079": {
          "model_module": "@jupyter-widgets/controls",
          "model_name": "HTMLModel",
          "model_module_version": "1.5.0",
          "state": {
            "_dom_classes": [],
            "_model_module": "@jupyter-widgets/controls",
            "_model_module_version": "1.5.0",
            "_model_name": "HTMLModel",
            "_view_count": null,
            "_view_module": "@jupyter-widgets/controls",
            "_view_module_version": "1.5.0",
            "_view_name": "HTMLView",
            "description": "",
            "description_tooltip": null,
            "layout": "IPY_MODEL_b433fe4a9de440c1918432dfa790d0bb",
            "placeholder": "​",
            "style": "IPY_MODEL_e509693105904d48bb126159716f0393",
            "value": " 7.95k/7.95k [00:00&lt;00:00, 8.93kB/s]"
          }
        },
        "3d508ebf10874618bc81e1c9e60342bc": {
          "model_module": "@jupyter-widgets/base",
          "model_name": "LayoutModel",
          "model_module_version": "1.2.0",
          "state": {
            "_model_module": "@jupyter-widgets/base",
            "_model_module_version": "1.2.0",
            "_model_name": "LayoutModel",
            "_view_count": null,
            "_view_module": "@jupyter-widgets/base",
            "_view_module_version": "1.2.0",
            "_view_name": "LayoutView",
            "align_content": null,
            "align_items": null,
            "align_self": null,
            "border": null,
            "bottom": null,
            "display": null,
            "flex": null,
            "flex_flow": null,
            "grid_area": null,
            "grid_auto_columns": null,
            "grid_auto_flow": null,
            "grid_auto_rows": null,
            "grid_column": null,
            "grid_gap": null,
            "grid_row": null,
            "grid_template_areas": null,
            "grid_template_columns": null,
            "grid_template_rows": null,
            "height": null,
            "justify_content": null,
            "justify_items": null,
            "left": null,
            "margin": null,
            "max_height": null,
            "max_width": null,
            "min_height": null,
            "min_width": null,
            "object_fit": null,
            "object_position": null,
            "order": null,
            "overflow": null,
            "overflow_x": null,
            "overflow_y": null,
            "padding": null,
            "right": null,
            "top": null,
            "visibility": null,
            "width": null
          }
        },
        "d5f334f5fba6449a9c48c2b82c0c002f": {
          "model_module": "@jupyter-widgets/base",
          "model_name": "LayoutModel",
          "model_module_version": "1.2.0",
          "state": {
            "_model_module": "@jupyter-widgets/base",
            "_model_module_version": "1.2.0",
            "_model_name": "LayoutModel",
            "_view_count": null,
            "_view_module": "@jupyter-widgets/base",
            "_view_module_version": "1.2.0",
            "_view_name": "LayoutView",
            "align_content": null,
            "align_items": null,
            "align_self": null,
            "border": null,
            "bottom": null,
            "display": null,
            "flex": null,
            "flex_flow": null,
            "grid_area": null,
            "grid_auto_columns": null,
            "grid_auto_flow": null,
            "grid_auto_rows": null,
            "grid_column": null,
            "grid_gap": null,
            "grid_row": null,
            "grid_template_areas": null,
            "grid_template_columns": null,
            "grid_template_rows": null,
            "height": null,
            "justify_content": null,
            "justify_items": null,
            "left": null,
            "margin": null,
            "max_height": null,
            "max_width": null,
            "min_height": null,
            "min_width": null,
            "object_fit": null,
            "object_position": null,
            "order": null,
            "overflow": null,
            "overflow_x": null,
            "overflow_y": null,
            "padding": null,
            "right": null,
            "top": null,
            "visibility": null,
            "width": null
          }
        },
        "4f93de3973a54ad89d7b0b7d97c0c242": {
          "model_module": "@jupyter-widgets/controls",
          "model_name": "DescriptionStyleModel",
          "model_module_version": "1.5.0",
          "state": {
            "_model_module": "@jupyter-widgets/controls",
            "_model_module_version": "1.5.0",
            "_model_name": "DescriptionStyleModel",
            "_view_count": null,
            "_view_module": "@jupyter-widgets/base",
            "_view_module_version": "1.2.0",
            "_view_name": "StyleView",
            "description_width": ""
          }
        },
        "3b8dfc7783db49d5ad4d797740bb2827": {
          "model_module": "@jupyter-widgets/base",
          "model_name": "LayoutModel",
          "model_module_version": "1.2.0",
          "state": {
            "_model_module": "@jupyter-widgets/base",
            "_model_module_version": "1.2.0",
            "_model_name": "LayoutModel",
            "_view_count": null,
            "_view_module": "@jupyter-widgets/base",
            "_view_module_version": "1.2.0",
            "_view_name": "LayoutView",
            "align_content": null,
            "align_items": null,
            "align_self": null,
            "border": null,
            "bottom": null,
            "display": null,
            "flex": null,
            "flex_flow": null,
            "grid_area": null,
            "grid_auto_columns": null,
            "grid_auto_flow": null,
            "grid_auto_rows": null,
            "grid_column": null,
            "grid_gap": null,
            "grid_row": null,
            "grid_template_areas": null,
            "grid_template_columns": null,
            "grid_template_rows": null,
            "height": null,
            "justify_content": null,
            "justify_items": null,
            "left": null,
            "margin": null,
            "max_height": null,
            "max_width": null,
            "min_height": null,
            "min_width": null,
            "object_fit": null,
            "object_position": null,
            "order": null,
            "overflow": null,
            "overflow_x": null,
            "overflow_y": null,
            "padding": null,
            "right": null,
            "top": null,
            "visibility": null,
            "width": null
          }
        },
        "f29b9da8556546a5b1f1c5df37890757": {
          "model_module": "@jupyter-widgets/controls",
          "model_name": "ProgressStyleModel",
          "model_module_version": "1.5.0",
          "state": {
            "_model_module": "@jupyter-widgets/controls",
            "_model_module_version": "1.5.0",
            "_model_name": "ProgressStyleModel",
            "_view_count": null,
            "_view_module": "@jupyter-widgets/base",
            "_view_module_version": "1.2.0",
            "_view_name": "StyleView",
            "bar_color": null,
            "description_width": ""
          }
        },
        "b433fe4a9de440c1918432dfa790d0bb": {
          "model_module": "@jupyter-widgets/base",
          "model_name": "LayoutModel",
          "model_module_version": "1.2.0",
          "state": {
            "_model_module": "@jupyter-widgets/base",
            "_model_module_version": "1.2.0",
            "_model_name": "LayoutModel",
            "_view_count": null,
            "_view_module": "@jupyter-widgets/base",
            "_view_module_version": "1.2.0",
            "_view_name": "LayoutView",
            "align_content": null,
            "align_items": null,
            "align_self": null,
            "border": null,
            "bottom": null,
            "display": null,
            "flex": null,
            "flex_flow": null,
            "grid_area": null,
            "grid_auto_columns": null,
            "grid_auto_flow": null,
            "grid_auto_rows": null,
            "grid_column": null,
            "grid_gap": null,
            "grid_row": null,
            "grid_template_areas": null,
            "grid_template_columns": null,
            "grid_template_rows": null,
            "height": null,
            "justify_content": null,
            "justify_items": null,
            "left": null,
            "margin": null,
            "max_height": null,
            "max_width": null,
            "min_height": null,
            "min_width": null,
            "object_fit": null,
            "object_position": null,
            "order": null,
            "overflow": null,
            "overflow_x": null,
            "overflow_y": null,
            "padding": null,
            "right": null,
            "top": null,
            "visibility": null,
            "width": null
          }
        },
        "e509693105904d48bb126159716f0393": {
          "model_module": "@jupyter-widgets/controls",
          "model_name": "DescriptionStyleModel",
          "model_module_version": "1.5.0",
          "state": {
            "_model_module": "@jupyter-widgets/controls",
            "_model_module_version": "1.5.0",
            "_model_name": "DescriptionStyleModel",
            "_view_count": null,
            "_view_module": "@jupyter-widgets/base",
            "_view_module_version": "1.2.0",
            "_view_name": "StyleView",
            "description_width": ""
          }
        },
        "17412772d26e4da98fadf34c5d11c4d3": {
          "model_module": "@jupyter-widgets/controls",
          "model_name": "HBoxModel",
          "model_module_version": "1.5.0",
          "state": {
            "_dom_classes": [],
            "_model_module": "@jupyter-widgets/controls",
            "_model_module_version": "1.5.0",
            "_model_name": "HBoxModel",
            "_view_count": null,
            "_view_module": "@jupyter-widgets/controls",
            "_view_module_version": "1.5.0",
            "_view_name": "HBoxView",
            "box_style": "",
            "children": [
              "IPY_MODEL_c1c01136fd654826a7cf161b97ca1438",
              "IPY_MODEL_f8ceb5847c40436ea9bde46e65329e10",
              "IPY_MODEL_ef8dfbafbd8442a7b0703634069d0275"
            ],
            "layout": "IPY_MODEL_63dbe00ded874c8b9ed3f95d2b235564"
          }
        },
        "c1c01136fd654826a7cf161b97ca1438": {
          "model_module": "@jupyter-widgets/controls",
          "model_name": "HTMLModel",
          "model_module_version": "1.5.0",
          "state": {
            "_dom_classes": [],
            "_model_module": "@jupyter-widgets/controls",
            "_model_module_version": "1.5.0",
            "_model_name": "HTMLModel",
            "_view_count": null,
            "_view_module": "@jupyter-widgets/controls",
            "_view_module_version": "1.5.0",
            "_view_name": "HTMLView",
            "description": "",
            "description_tooltip": null,
            "layout": "IPY_MODEL_6e01ca867c154720bd047c91b5984ef6",
            "placeholder": "​",
            "style": "IPY_MODEL_31e7c7e4829849929c88cf3d7ed93d06",
            "value": "Downloading (…)okenizer_config.json: 100%"
          }
        },
        "f8ceb5847c40436ea9bde46e65329e10": {
          "model_module": "@jupyter-widgets/controls",
          "model_name": "FloatProgressModel",
          "model_module_version": "1.5.0",
          "state": {
            "_dom_classes": [],
            "_model_module": "@jupyter-widgets/controls",
            "_model_module_version": "1.5.0",
            "_model_name": "FloatProgressModel",
            "_view_count": null,
            "_view_module": "@jupyter-widgets/controls",
            "_view_module_version": "1.5.0",
            "_view_name": "ProgressView",
            "bar_style": "success",
            "description": "",
            "description_tooltip": null,
            "layout": "IPY_MODEL_95cef580890248f9afbec516e6d7a55b",
            "max": 28,
            "min": 0,
            "orientation": "horizontal",
            "style": "IPY_MODEL_639b09436f544f73b54d917f304cfc79",
            "value": 28
          }
        },
        "ef8dfbafbd8442a7b0703634069d0275": {
          "model_module": "@jupyter-widgets/controls",
          "model_name": "HTMLModel",
          "model_module_version": "1.5.0",
          "state": {
            "_dom_classes": [],
            "_model_module": "@jupyter-widgets/controls",
            "_model_module_version": "1.5.0",
            "_model_name": "HTMLModel",
            "_view_count": null,
            "_view_module": "@jupyter-widgets/controls",
            "_view_module_version": "1.5.0",
            "_view_name": "HTMLView",
            "description": "",
            "description_tooltip": null,
            "layout": "IPY_MODEL_ee2eb9dcb73e41d48acd0f816a533ece",
            "placeholder": "​",
            "style": "IPY_MODEL_74e96d30e9a24ecc8e752d60c290b9e9",
            "value": " 28.0/28.0 [00:00&lt;00:00, 339B/s]"
          }
        },
        "63dbe00ded874c8b9ed3f95d2b235564": {
          "model_module": "@jupyter-widgets/base",
          "model_name": "LayoutModel",
          "model_module_version": "1.2.0",
          "state": {
            "_model_module": "@jupyter-widgets/base",
            "_model_module_version": "1.2.0",
            "_model_name": "LayoutModel",
            "_view_count": null,
            "_view_module": "@jupyter-widgets/base",
            "_view_module_version": "1.2.0",
            "_view_name": "LayoutView",
            "align_content": null,
            "align_items": null,
            "align_self": null,
            "border": null,
            "bottom": null,
            "display": null,
            "flex": null,
            "flex_flow": null,
            "grid_area": null,
            "grid_auto_columns": null,
            "grid_auto_flow": null,
            "grid_auto_rows": null,
            "grid_column": null,
            "grid_gap": null,
            "grid_row": null,
            "grid_template_areas": null,
            "grid_template_columns": null,
            "grid_template_rows": null,
            "height": null,
            "justify_content": null,
            "justify_items": null,
            "left": null,
            "margin": null,
            "max_height": null,
            "max_width": null,
            "min_height": null,
            "min_width": null,
            "object_fit": null,
            "object_position": null,
            "order": null,
            "overflow": null,
            "overflow_x": null,
            "overflow_y": null,
            "padding": null,
            "right": null,
            "top": null,
            "visibility": null,
            "width": null
          }
        },
        "6e01ca867c154720bd047c91b5984ef6": {
          "model_module": "@jupyter-widgets/base",
          "model_name": "LayoutModel",
          "model_module_version": "1.2.0",
          "state": {
            "_model_module": "@jupyter-widgets/base",
            "_model_module_version": "1.2.0",
            "_model_name": "LayoutModel",
            "_view_count": null,
            "_view_module": "@jupyter-widgets/base",
            "_view_module_version": "1.2.0",
            "_view_name": "LayoutView",
            "align_content": null,
            "align_items": null,
            "align_self": null,
            "border": null,
            "bottom": null,
            "display": null,
            "flex": null,
            "flex_flow": null,
            "grid_area": null,
            "grid_auto_columns": null,
            "grid_auto_flow": null,
            "grid_auto_rows": null,
            "grid_column": null,
            "grid_gap": null,
            "grid_row": null,
            "grid_template_areas": null,
            "grid_template_columns": null,
            "grid_template_rows": null,
            "height": null,
            "justify_content": null,
            "justify_items": null,
            "left": null,
            "margin": null,
            "max_height": null,
            "max_width": null,
            "min_height": null,
            "min_width": null,
            "object_fit": null,
            "object_position": null,
            "order": null,
            "overflow": null,
            "overflow_x": null,
            "overflow_y": null,
            "padding": null,
            "right": null,
            "top": null,
            "visibility": null,
            "width": null
          }
        },
        "31e7c7e4829849929c88cf3d7ed93d06": {
          "model_module": "@jupyter-widgets/controls",
          "model_name": "DescriptionStyleModel",
          "model_module_version": "1.5.0",
          "state": {
            "_model_module": "@jupyter-widgets/controls",
            "_model_module_version": "1.5.0",
            "_model_name": "DescriptionStyleModel",
            "_view_count": null,
            "_view_module": "@jupyter-widgets/base",
            "_view_module_version": "1.2.0",
            "_view_name": "StyleView",
            "description_width": ""
          }
        },
        "95cef580890248f9afbec516e6d7a55b": {
          "model_module": "@jupyter-widgets/base",
          "model_name": "LayoutModel",
          "model_module_version": "1.2.0",
          "state": {
            "_model_module": "@jupyter-widgets/base",
            "_model_module_version": "1.2.0",
            "_model_name": "LayoutModel",
            "_view_count": null,
            "_view_module": "@jupyter-widgets/base",
            "_view_module_version": "1.2.0",
            "_view_name": "LayoutView",
            "align_content": null,
            "align_items": null,
            "align_self": null,
            "border": null,
            "bottom": null,
            "display": null,
            "flex": null,
            "flex_flow": null,
            "grid_area": null,
            "grid_auto_columns": null,
            "grid_auto_flow": null,
            "grid_auto_rows": null,
            "grid_column": null,
            "grid_gap": null,
            "grid_row": null,
            "grid_template_areas": null,
            "grid_template_columns": null,
            "grid_template_rows": null,
            "height": null,
            "justify_content": null,
            "justify_items": null,
            "left": null,
            "margin": null,
            "max_height": null,
            "max_width": null,
            "min_height": null,
            "min_width": null,
            "object_fit": null,
            "object_position": null,
            "order": null,
            "overflow": null,
            "overflow_x": null,
            "overflow_y": null,
            "padding": null,
            "right": null,
            "top": null,
            "visibility": null,
            "width": null
          }
        },
        "639b09436f544f73b54d917f304cfc79": {
          "model_module": "@jupyter-widgets/controls",
          "model_name": "ProgressStyleModel",
          "model_module_version": "1.5.0",
          "state": {
            "_model_module": "@jupyter-widgets/controls",
            "_model_module_version": "1.5.0",
            "_model_name": "ProgressStyleModel",
            "_view_count": null,
            "_view_module": "@jupyter-widgets/base",
            "_view_module_version": "1.2.0",
            "_view_name": "StyleView",
            "bar_color": null,
            "description_width": ""
          }
        },
        "ee2eb9dcb73e41d48acd0f816a533ece": {
          "model_module": "@jupyter-widgets/base",
          "model_name": "LayoutModel",
          "model_module_version": "1.2.0",
          "state": {
            "_model_module": "@jupyter-widgets/base",
            "_model_module_version": "1.2.0",
            "_model_name": "LayoutModel",
            "_view_count": null,
            "_view_module": "@jupyter-widgets/base",
            "_view_module_version": "1.2.0",
            "_view_name": "LayoutView",
            "align_content": null,
            "align_items": null,
            "align_self": null,
            "border": null,
            "bottom": null,
            "display": null,
            "flex": null,
            "flex_flow": null,
            "grid_area": null,
            "grid_auto_columns": null,
            "grid_auto_flow": null,
            "grid_auto_rows": null,
            "grid_column": null,
            "grid_gap": null,
            "grid_row": null,
            "grid_template_areas": null,
            "grid_template_columns": null,
            "grid_template_rows": null,
            "height": null,
            "justify_content": null,
            "justify_items": null,
            "left": null,
            "margin": null,
            "max_height": null,
            "max_width": null,
            "min_height": null,
            "min_width": null,
            "object_fit": null,
            "object_position": null,
            "order": null,
            "overflow": null,
            "overflow_x": null,
            "overflow_y": null,
            "padding": null,
            "right": null,
            "top": null,
            "visibility": null,
            "width": null
          }
        },
        "74e96d30e9a24ecc8e752d60c290b9e9": {
          "model_module": "@jupyter-widgets/controls",
          "model_name": "DescriptionStyleModel",
          "model_module_version": "1.5.0",
          "state": {
            "_model_module": "@jupyter-widgets/controls",
            "_model_module_version": "1.5.0",
            "_model_name": "DescriptionStyleModel",
            "_view_count": null,
            "_view_module": "@jupyter-widgets/base",
            "_view_module_version": "1.2.0",
            "_view_name": "StyleView",
            "description_width": ""
          }
        },
        "69b8b76ddb6a4b2ba177ac0c4b51b9ba": {
          "model_module": "@jupyter-widgets/controls",
          "model_name": "HBoxModel",
          "model_module_version": "1.5.0",
          "state": {
            "_dom_classes": [],
            "_model_module": "@jupyter-widgets/controls",
            "_model_module_version": "1.5.0",
            "_model_name": "HBoxModel",
            "_view_count": null,
            "_view_module": "@jupyter-widgets/controls",
            "_view_module_version": "1.5.0",
            "_view_name": "HBoxView",
            "box_style": "",
            "children": [
              "IPY_MODEL_fd95516ca603447e8e8f37991fbdb824",
              "IPY_MODEL_857449db12fe488896e2e651604ed429",
              "IPY_MODEL_1bf36248ecf540529024bcac0c596b00"
            ],
            "layout": "IPY_MODEL_232ee8ea5c8e499495b52b2de8796f60"
          }
        },
        "fd95516ca603447e8e8f37991fbdb824": {
          "model_module": "@jupyter-widgets/controls",
          "model_name": "HTMLModel",
          "model_module_version": "1.5.0",
          "state": {
            "_dom_classes": [],
            "_model_module": "@jupyter-widgets/controls",
            "_model_module_version": "1.5.0",
            "_model_name": "HTMLModel",
            "_view_count": null,
            "_view_module": "@jupyter-widgets/controls",
            "_view_module_version": "1.5.0",
            "_view_name": "HTMLView",
            "description": "",
            "description_tooltip": null,
            "layout": "IPY_MODEL_db7696a3f9e146148373e44869bab743",
            "placeholder": "​",
            "style": "IPY_MODEL_c0e053df8eaa433a9495c58fb2f73891",
            "value": "Downloading (…)lve/main/config.json: 100%"
          }
        },
        "857449db12fe488896e2e651604ed429": {
          "model_module": "@jupyter-widgets/controls",
          "model_name": "FloatProgressModel",
          "model_module_version": "1.5.0",
          "state": {
            "_dom_classes": [],
            "_model_module": "@jupyter-widgets/controls",
            "_model_module_version": "1.5.0",
            "_model_name": "FloatProgressModel",
            "_view_count": null,
            "_view_module": "@jupyter-widgets/controls",
            "_view_module_version": "1.5.0",
            "_view_name": "ProgressView",
            "bar_style": "success",
            "description": "",
            "description_tooltip": null,
            "layout": "IPY_MODEL_6b11f26a4e4a42bca0179eba792f1be0",
            "max": 483,
            "min": 0,
            "orientation": "horizontal",
            "style": "IPY_MODEL_9b576fc1d31d481db63e70d09a81c943",
            "value": 483
          }
        },
        "1bf36248ecf540529024bcac0c596b00": {
          "model_module": "@jupyter-widgets/controls",
          "model_name": "HTMLModel",
          "model_module_version": "1.5.0",
          "state": {
            "_dom_classes": [],
            "_model_module": "@jupyter-widgets/controls",
            "_model_module_version": "1.5.0",
            "_model_name": "HTMLModel",
            "_view_count": null,
            "_view_module": "@jupyter-widgets/controls",
            "_view_module_version": "1.5.0",
            "_view_name": "HTMLView",
            "description": "",
            "description_tooltip": null,
            "layout": "IPY_MODEL_708ff4fe5efb4cf9b2f2e58cf30b67ae",
            "placeholder": "​",
            "style": "IPY_MODEL_e10dbcea8b3f4418bf1a7f49fb8ad893",
            "value": " 483/483 [00:00&lt;00:00, 8.34kB/s]"
          }
        },
        "232ee8ea5c8e499495b52b2de8796f60": {
          "model_module": "@jupyter-widgets/base",
          "model_name": "LayoutModel",
          "model_module_version": "1.2.0",
          "state": {
            "_model_module": "@jupyter-widgets/base",
            "_model_module_version": "1.2.0",
            "_model_name": "LayoutModel",
            "_view_count": null,
            "_view_module": "@jupyter-widgets/base",
            "_view_module_version": "1.2.0",
            "_view_name": "LayoutView",
            "align_content": null,
            "align_items": null,
            "align_self": null,
            "border": null,
            "bottom": null,
            "display": null,
            "flex": null,
            "flex_flow": null,
            "grid_area": null,
            "grid_auto_columns": null,
            "grid_auto_flow": null,
            "grid_auto_rows": null,
            "grid_column": null,
            "grid_gap": null,
            "grid_row": null,
            "grid_template_areas": null,
            "grid_template_columns": null,
            "grid_template_rows": null,
            "height": null,
            "justify_content": null,
            "justify_items": null,
            "left": null,
            "margin": null,
            "max_height": null,
            "max_width": null,
            "min_height": null,
            "min_width": null,
            "object_fit": null,
            "object_position": null,
            "order": null,
            "overflow": null,
            "overflow_x": null,
            "overflow_y": null,
            "padding": null,
            "right": null,
            "top": null,
            "visibility": null,
            "width": null
          }
        },
        "db7696a3f9e146148373e44869bab743": {
          "model_module": "@jupyter-widgets/base",
          "model_name": "LayoutModel",
          "model_module_version": "1.2.0",
          "state": {
            "_model_module": "@jupyter-widgets/base",
            "_model_module_version": "1.2.0",
            "_model_name": "LayoutModel",
            "_view_count": null,
            "_view_module": "@jupyter-widgets/base",
            "_view_module_version": "1.2.0",
            "_view_name": "LayoutView",
            "align_content": null,
            "align_items": null,
            "align_self": null,
            "border": null,
            "bottom": null,
            "display": null,
            "flex": null,
            "flex_flow": null,
            "grid_area": null,
            "grid_auto_columns": null,
            "grid_auto_flow": null,
            "grid_auto_rows": null,
            "grid_column": null,
            "grid_gap": null,
            "grid_row": null,
            "grid_template_areas": null,
            "grid_template_columns": null,
            "grid_template_rows": null,
            "height": null,
            "justify_content": null,
            "justify_items": null,
            "left": null,
            "margin": null,
            "max_height": null,
            "max_width": null,
            "min_height": null,
            "min_width": null,
            "object_fit": null,
            "object_position": null,
            "order": null,
            "overflow": null,
            "overflow_x": null,
            "overflow_y": null,
            "padding": null,
            "right": null,
            "top": null,
            "visibility": null,
            "width": null
          }
        },
        "c0e053df8eaa433a9495c58fb2f73891": {
          "model_module": "@jupyter-widgets/controls",
          "model_name": "DescriptionStyleModel",
          "model_module_version": "1.5.0",
          "state": {
            "_model_module": "@jupyter-widgets/controls",
            "_model_module_version": "1.5.0",
            "_model_name": "DescriptionStyleModel",
            "_view_count": null,
            "_view_module": "@jupyter-widgets/base",
            "_view_module_version": "1.2.0",
            "_view_name": "StyleView",
            "description_width": ""
          }
        },
        "6b11f26a4e4a42bca0179eba792f1be0": {
          "model_module": "@jupyter-widgets/base",
          "model_name": "LayoutModel",
          "model_module_version": "1.2.0",
          "state": {
            "_model_module": "@jupyter-widgets/base",
            "_model_module_version": "1.2.0",
            "_model_name": "LayoutModel",
            "_view_count": null,
            "_view_module": "@jupyter-widgets/base",
            "_view_module_version": "1.2.0",
            "_view_name": "LayoutView",
            "align_content": null,
            "align_items": null,
            "align_self": null,
            "border": null,
            "bottom": null,
            "display": null,
            "flex": null,
            "flex_flow": null,
            "grid_area": null,
            "grid_auto_columns": null,
            "grid_auto_flow": null,
            "grid_auto_rows": null,
            "grid_column": null,
            "grid_gap": null,
            "grid_row": null,
            "grid_template_areas": null,
            "grid_template_columns": null,
            "grid_template_rows": null,
            "height": null,
            "justify_content": null,
            "justify_items": null,
            "left": null,
            "margin": null,
            "max_height": null,
            "max_width": null,
            "min_height": null,
            "min_width": null,
            "object_fit": null,
            "object_position": null,
            "order": null,
            "overflow": null,
            "overflow_x": null,
            "overflow_y": null,
            "padding": null,
            "right": null,
            "top": null,
            "visibility": null,
            "width": null
          }
        },
        "9b576fc1d31d481db63e70d09a81c943": {
          "model_module": "@jupyter-widgets/controls",
          "model_name": "ProgressStyleModel",
          "model_module_version": "1.5.0",
          "state": {
            "_model_module": "@jupyter-widgets/controls",
            "_model_module_version": "1.5.0",
            "_model_name": "ProgressStyleModel",
            "_view_count": null,
            "_view_module": "@jupyter-widgets/base",
            "_view_module_version": "1.2.0",
            "_view_name": "StyleView",
            "bar_color": null,
            "description_width": ""
          }
        },
        "708ff4fe5efb4cf9b2f2e58cf30b67ae": {
          "model_module": "@jupyter-widgets/base",
          "model_name": "LayoutModel",
          "model_module_version": "1.2.0",
          "state": {
            "_model_module": "@jupyter-widgets/base",
            "_model_module_version": "1.2.0",
            "_model_name": "LayoutModel",
            "_view_count": null,
            "_view_module": "@jupyter-widgets/base",
            "_view_module_version": "1.2.0",
            "_view_name": "LayoutView",
            "align_content": null,
            "align_items": null,
            "align_self": null,
            "border": null,
            "bottom": null,
            "display": null,
            "flex": null,
            "flex_flow": null,
            "grid_area": null,
            "grid_auto_columns": null,
            "grid_auto_flow": null,
            "grid_auto_rows": null,
            "grid_column": null,
            "grid_gap": null,
            "grid_row": null,
            "grid_template_areas": null,
            "grid_template_columns": null,
            "grid_template_rows": null,
            "height": null,
            "justify_content": null,
            "justify_items": null,
            "left": null,
            "margin": null,
            "max_height": null,
            "max_width": null,
            "min_height": null,
            "min_width": null,
            "object_fit": null,
            "object_position": null,
            "order": null,
            "overflow": null,
            "overflow_x": null,
            "overflow_y": null,
            "padding": null,
            "right": null,
            "top": null,
            "visibility": null,
            "width": null
          }
        },
        "e10dbcea8b3f4418bf1a7f49fb8ad893": {
          "model_module": "@jupyter-widgets/controls",
          "model_name": "DescriptionStyleModel",
          "model_module_version": "1.5.0",
          "state": {
            "_model_module": "@jupyter-widgets/controls",
            "_model_module_version": "1.5.0",
            "_model_name": "DescriptionStyleModel",
            "_view_count": null,
            "_view_module": "@jupyter-widgets/base",
            "_view_module_version": "1.2.0",
            "_view_name": "StyleView",
            "description_width": ""
          }
        },
        "f0a3b535a2aa41e88a89978a47ce2616": {
          "model_module": "@jupyter-widgets/controls",
          "model_name": "HBoxModel",
          "model_module_version": "1.5.0",
          "state": {
            "_dom_classes": [],
            "_model_module": "@jupyter-widgets/controls",
            "_model_module_version": "1.5.0",
            "_model_name": "HBoxModel",
            "_view_count": null,
            "_view_module": "@jupyter-widgets/controls",
            "_view_module_version": "1.5.0",
            "_view_name": "HBoxView",
            "box_style": "",
            "children": [
              "IPY_MODEL_38a4643da20f4848b9ec1355024fe322",
              "IPY_MODEL_f7139525166a402f89bbfda7fe23e344",
              "IPY_MODEL_8c71c108d1dd4181bae1937dd2371bcc"
            ],
            "layout": "IPY_MODEL_6aaeeacc0eb64b70b9c2306f0e3e4246"
          }
        },
        "38a4643da20f4848b9ec1355024fe322": {
          "model_module": "@jupyter-widgets/controls",
          "model_name": "HTMLModel",
          "model_module_version": "1.5.0",
          "state": {
            "_dom_classes": [],
            "_model_module": "@jupyter-widgets/controls",
            "_model_module_version": "1.5.0",
            "_model_name": "HTMLModel",
            "_view_count": null,
            "_view_module": "@jupyter-widgets/controls",
            "_view_module_version": "1.5.0",
            "_view_name": "HTMLView",
            "description": "",
            "description_tooltip": null,
            "layout": "IPY_MODEL_3f068b53160c4e9b8b15573c183919e8",
            "placeholder": "​",
            "style": "IPY_MODEL_10a265730f524338afb166528b33b740",
            "value": "Downloading (…)solve/main/vocab.txt: 100%"
          }
        },
        "f7139525166a402f89bbfda7fe23e344": {
          "model_module": "@jupyter-widgets/controls",
          "model_name": "FloatProgressModel",
          "model_module_version": "1.5.0",
          "state": {
            "_dom_classes": [],
            "_model_module": "@jupyter-widgets/controls",
            "_model_module_version": "1.5.0",
            "_model_name": "FloatProgressModel",
            "_view_count": null,
            "_view_module": "@jupyter-widgets/controls",
            "_view_module_version": "1.5.0",
            "_view_name": "ProgressView",
            "bar_style": "success",
            "description": "",
            "description_tooltip": null,
            "layout": "IPY_MODEL_098849639a014195abb981f03d397a88",
            "max": 231508,
            "min": 0,
            "orientation": "horizontal",
            "style": "IPY_MODEL_5363d153702c4a67ab4dd78358c5c222",
            "value": 231508
          }
        },
        "8c71c108d1dd4181bae1937dd2371bcc": {
          "model_module": "@jupyter-widgets/controls",
          "model_name": "HTMLModel",
          "model_module_version": "1.5.0",
          "state": {
            "_dom_classes": [],
            "_model_module": "@jupyter-widgets/controls",
            "_model_module_version": "1.5.0",
            "_model_name": "HTMLModel",
            "_view_count": null,
            "_view_module": "@jupyter-widgets/controls",
            "_view_module_version": "1.5.0",
            "_view_name": "HTMLView",
            "description": "",
            "description_tooltip": null,
            "layout": "IPY_MODEL_88cb8ea56e464b2eba0196dce10193b6",
            "placeholder": "​",
            "style": "IPY_MODEL_4b60ad9afd1e409caff48f06ed103ffd",
            "value": " 232k/232k [00:00&lt;00:00, 658kB/s]"
          }
        },
        "6aaeeacc0eb64b70b9c2306f0e3e4246": {
          "model_module": "@jupyter-widgets/base",
          "model_name": "LayoutModel",
          "model_module_version": "1.2.0",
          "state": {
            "_model_module": "@jupyter-widgets/base",
            "_model_module_version": "1.2.0",
            "_model_name": "LayoutModel",
            "_view_count": null,
            "_view_module": "@jupyter-widgets/base",
            "_view_module_version": "1.2.0",
            "_view_name": "LayoutView",
            "align_content": null,
            "align_items": null,
            "align_self": null,
            "border": null,
            "bottom": null,
            "display": null,
            "flex": null,
            "flex_flow": null,
            "grid_area": null,
            "grid_auto_columns": null,
            "grid_auto_flow": null,
            "grid_auto_rows": null,
            "grid_column": null,
            "grid_gap": null,
            "grid_row": null,
            "grid_template_areas": null,
            "grid_template_columns": null,
            "grid_template_rows": null,
            "height": null,
            "justify_content": null,
            "justify_items": null,
            "left": null,
            "margin": null,
            "max_height": null,
            "max_width": null,
            "min_height": null,
            "min_width": null,
            "object_fit": null,
            "object_position": null,
            "order": null,
            "overflow": null,
            "overflow_x": null,
            "overflow_y": null,
            "padding": null,
            "right": null,
            "top": null,
            "visibility": null,
            "width": null
          }
        },
        "3f068b53160c4e9b8b15573c183919e8": {
          "model_module": "@jupyter-widgets/base",
          "model_name": "LayoutModel",
          "model_module_version": "1.2.0",
          "state": {
            "_model_module": "@jupyter-widgets/base",
            "_model_module_version": "1.2.0",
            "_model_name": "LayoutModel",
            "_view_count": null,
            "_view_module": "@jupyter-widgets/base",
            "_view_module_version": "1.2.0",
            "_view_name": "LayoutView",
            "align_content": null,
            "align_items": null,
            "align_self": null,
            "border": null,
            "bottom": null,
            "display": null,
            "flex": null,
            "flex_flow": null,
            "grid_area": null,
            "grid_auto_columns": null,
            "grid_auto_flow": null,
            "grid_auto_rows": null,
            "grid_column": null,
            "grid_gap": null,
            "grid_row": null,
            "grid_template_areas": null,
            "grid_template_columns": null,
            "grid_template_rows": null,
            "height": null,
            "justify_content": null,
            "justify_items": null,
            "left": null,
            "margin": null,
            "max_height": null,
            "max_width": null,
            "min_height": null,
            "min_width": null,
            "object_fit": null,
            "object_position": null,
            "order": null,
            "overflow": null,
            "overflow_x": null,
            "overflow_y": null,
            "padding": null,
            "right": null,
            "top": null,
            "visibility": null,
            "width": null
          }
        },
        "10a265730f524338afb166528b33b740": {
          "model_module": "@jupyter-widgets/controls",
          "model_name": "DescriptionStyleModel",
          "model_module_version": "1.5.0",
          "state": {
            "_model_module": "@jupyter-widgets/controls",
            "_model_module_version": "1.5.0",
            "_model_name": "DescriptionStyleModel",
            "_view_count": null,
            "_view_module": "@jupyter-widgets/base",
            "_view_module_version": "1.2.0",
            "_view_name": "StyleView",
            "description_width": ""
          }
        },
        "098849639a014195abb981f03d397a88": {
          "model_module": "@jupyter-widgets/base",
          "model_name": "LayoutModel",
          "model_module_version": "1.2.0",
          "state": {
            "_model_module": "@jupyter-widgets/base",
            "_model_module_version": "1.2.0",
            "_model_name": "LayoutModel",
            "_view_count": null,
            "_view_module": "@jupyter-widgets/base",
            "_view_module_version": "1.2.0",
            "_view_name": "LayoutView",
            "align_content": null,
            "align_items": null,
            "align_self": null,
            "border": null,
            "bottom": null,
            "display": null,
            "flex": null,
            "flex_flow": null,
            "grid_area": null,
            "grid_auto_columns": null,
            "grid_auto_flow": null,
            "grid_auto_rows": null,
            "grid_column": null,
            "grid_gap": null,
            "grid_row": null,
            "grid_template_areas": null,
            "grid_template_columns": null,
            "grid_template_rows": null,
            "height": null,
            "justify_content": null,
            "justify_items": null,
            "left": null,
            "margin": null,
            "max_height": null,
            "max_width": null,
            "min_height": null,
            "min_width": null,
            "object_fit": null,
            "object_position": null,
            "order": null,
            "overflow": null,
            "overflow_x": null,
            "overflow_y": null,
            "padding": null,
            "right": null,
            "top": null,
            "visibility": null,
            "width": null
          }
        },
        "5363d153702c4a67ab4dd78358c5c222": {
          "model_module": "@jupyter-widgets/controls",
          "model_name": "ProgressStyleModel",
          "model_module_version": "1.5.0",
          "state": {
            "_model_module": "@jupyter-widgets/controls",
            "_model_module_version": "1.5.0",
            "_model_name": "ProgressStyleModel",
            "_view_count": null,
            "_view_module": "@jupyter-widgets/base",
            "_view_module_version": "1.2.0",
            "_view_name": "StyleView",
            "bar_color": null,
            "description_width": ""
          }
        },
        "88cb8ea56e464b2eba0196dce10193b6": {
          "model_module": "@jupyter-widgets/base",
          "model_name": "LayoutModel",
          "model_module_version": "1.2.0",
          "state": {
            "_model_module": "@jupyter-widgets/base",
            "_model_module_version": "1.2.0",
            "_model_name": "LayoutModel",
            "_view_count": null,
            "_view_module": "@jupyter-widgets/base",
            "_view_module_version": "1.2.0",
            "_view_name": "LayoutView",
            "align_content": null,
            "align_items": null,
            "align_self": null,
            "border": null,
            "bottom": null,
            "display": null,
            "flex": null,
            "flex_flow": null,
            "grid_area": null,
            "grid_auto_columns": null,
            "grid_auto_flow": null,
            "grid_auto_rows": null,
            "grid_column": null,
            "grid_gap": null,
            "grid_row": null,
            "grid_template_areas": null,
            "grid_template_columns": null,
            "grid_template_rows": null,
            "height": null,
            "justify_content": null,
            "justify_items": null,
            "left": null,
            "margin": null,
            "max_height": null,
            "max_width": null,
            "min_height": null,
            "min_width": null,
            "object_fit": null,
            "object_position": null,
            "order": null,
            "overflow": null,
            "overflow_x": null,
            "overflow_y": null,
            "padding": null,
            "right": null,
            "top": null,
            "visibility": null,
            "width": null
          }
        },
        "4b60ad9afd1e409caff48f06ed103ffd": {
          "model_module": "@jupyter-widgets/controls",
          "model_name": "DescriptionStyleModel",
          "model_module_version": "1.5.0",
          "state": {
            "_model_module": "@jupyter-widgets/controls",
            "_model_module_version": "1.5.0",
            "_model_name": "DescriptionStyleModel",
            "_view_count": null,
            "_view_module": "@jupyter-widgets/base",
            "_view_module_version": "1.2.0",
            "_view_name": "StyleView",
            "description_width": ""
          }
        },
        "fb2510e86b9f4329a13c57df657d07b5": {
          "model_module": "@jupyter-widgets/controls",
          "model_name": "HBoxModel",
          "model_module_version": "1.5.0",
          "state": {
            "_dom_classes": [],
            "_model_module": "@jupyter-widgets/controls",
            "_model_module_version": "1.5.0",
            "_model_name": "HBoxModel",
            "_view_count": null,
            "_view_module": "@jupyter-widgets/controls",
            "_view_module_version": "1.5.0",
            "_view_name": "HBoxView",
            "box_style": "",
            "children": [
              "IPY_MODEL_1d99ce3e80a7436eac222c3dffccfdbc",
              "IPY_MODEL_77203375b0f6460a84d0abd1f5e6c2bf",
              "IPY_MODEL_5d88b37cc02947389d1bd23f9cf0d3b6"
            ],
            "layout": "IPY_MODEL_3f95223c13e8484e95395a2cc6149f45"
          }
        },
        "1d99ce3e80a7436eac222c3dffccfdbc": {
          "model_module": "@jupyter-widgets/controls",
          "model_name": "HTMLModel",
          "model_module_version": "1.5.0",
          "state": {
            "_dom_classes": [],
            "_model_module": "@jupyter-widgets/controls",
            "_model_module_version": "1.5.0",
            "_model_name": "HTMLModel",
            "_view_count": null,
            "_view_module": "@jupyter-widgets/controls",
            "_view_module_version": "1.5.0",
            "_view_name": "HTMLView",
            "description": "",
            "description_tooltip": null,
            "layout": "IPY_MODEL_bb9f529e03be4e7184adf6a870c0bf0c",
            "placeholder": "​",
            "style": "IPY_MODEL_703d4a531c764cf986556126fa9721ee",
            "value": "Downloading model.safetensors: 100%"
          }
        },
        "77203375b0f6460a84d0abd1f5e6c2bf": {
          "model_module": "@jupyter-widgets/controls",
          "model_name": "FloatProgressModel",
          "model_module_version": "1.5.0",
          "state": {
            "_dom_classes": [],
            "_model_module": "@jupyter-widgets/controls",
            "_model_module_version": "1.5.0",
            "_model_name": "FloatProgressModel",
            "_view_count": null,
            "_view_module": "@jupyter-widgets/controls",
            "_view_module_version": "1.5.0",
            "_view_name": "ProgressView",
            "bar_style": "success",
            "description": "",
            "description_tooltip": null,
            "layout": "IPY_MODEL_529f24d6dc4f49c19058e5307d57275e",
            "max": 267954768,
            "min": 0,
            "orientation": "horizontal",
            "style": "IPY_MODEL_292b3ba5e9bd44fbb9d0eb5454026b0d",
            "value": 267954768
          }
        },
        "5d88b37cc02947389d1bd23f9cf0d3b6": {
          "model_module": "@jupyter-widgets/controls",
          "model_name": "HTMLModel",
          "model_module_version": "1.5.0",
          "state": {
            "_dom_classes": [],
            "_model_module": "@jupyter-widgets/controls",
            "_model_module_version": "1.5.0",
            "_model_name": "HTMLModel",
            "_view_count": null,
            "_view_module": "@jupyter-widgets/controls",
            "_view_module_version": "1.5.0",
            "_view_name": "HTMLView",
            "description": "",
            "description_tooltip": null,
            "layout": "IPY_MODEL_ed38867fd3fd494d95d7f5306d69a71e",
            "placeholder": "​",
            "style": "IPY_MODEL_6a406ef048b04ac3964fc81550493170",
            "value": " 268M/268M [00:05&lt;00:00, 18.5MB/s]"
          }
        },
        "3f95223c13e8484e95395a2cc6149f45": {
          "model_module": "@jupyter-widgets/base",
          "model_name": "LayoutModel",
          "model_module_version": "1.2.0",
          "state": {
            "_model_module": "@jupyter-widgets/base",
            "_model_module_version": "1.2.0",
            "_model_name": "LayoutModel",
            "_view_count": null,
            "_view_module": "@jupyter-widgets/base",
            "_view_module_version": "1.2.0",
            "_view_name": "LayoutView",
            "align_content": null,
            "align_items": null,
            "align_self": null,
            "border": null,
            "bottom": null,
            "display": null,
            "flex": null,
            "flex_flow": null,
            "grid_area": null,
            "grid_auto_columns": null,
            "grid_auto_flow": null,
            "grid_auto_rows": null,
            "grid_column": null,
            "grid_gap": null,
            "grid_row": null,
            "grid_template_areas": null,
            "grid_template_columns": null,
            "grid_template_rows": null,
            "height": null,
            "justify_content": null,
            "justify_items": null,
            "left": null,
            "margin": null,
            "max_height": null,
            "max_width": null,
            "min_height": null,
            "min_width": null,
            "object_fit": null,
            "object_position": null,
            "order": null,
            "overflow": null,
            "overflow_x": null,
            "overflow_y": null,
            "padding": null,
            "right": null,
            "top": null,
            "visibility": null,
            "width": null
          }
        },
        "bb9f529e03be4e7184adf6a870c0bf0c": {
          "model_module": "@jupyter-widgets/base",
          "model_name": "LayoutModel",
          "model_module_version": "1.2.0",
          "state": {
            "_model_module": "@jupyter-widgets/base",
            "_model_module_version": "1.2.0",
            "_model_name": "LayoutModel",
            "_view_count": null,
            "_view_module": "@jupyter-widgets/base",
            "_view_module_version": "1.2.0",
            "_view_name": "LayoutView",
            "align_content": null,
            "align_items": null,
            "align_self": null,
            "border": null,
            "bottom": null,
            "display": null,
            "flex": null,
            "flex_flow": null,
            "grid_area": null,
            "grid_auto_columns": null,
            "grid_auto_flow": null,
            "grid_auto_rows": null,
            "grid_column": null,
            "grid_gap": null,
            "grid_row": null,
            "grid_template_areas": null,
            "grid_template_columns": null,
            "grid_template_rows": null,
            "height": null,
            "justify_content": null,
            "justify_items": null,
            "left": null,
            "margin": null,
            "max_height": null,
            "max_width": null,
            "min_height": null,
            "min_width": null,
            "object_fit": null,
            "object_position": null,
            "order": null,
            "overflow": null,
            "overflow_x": null,
            "overflow_y": null,
            "padding": null,
            "right": null,
            "top": null,
            "visibility": null,
            "width": null
          }
        },
        "703d4a531c764cf986556126fa9721ee": {
          "model_module": "@jupyter-widgets/controls",
          "model_name": "DescriptionStyleModel",
          "model_module_version": "1.5.0",
          "state": {
            "_model_module": "@jupyter-widgets/controls",
            "_model_module_version": "1.5.0",
            "_model_name": "DescriptionStyleModel",
            "_view_count": null,
            "_view_module": "@jupyter-widgets/base",
            "_view_module_version": "1.2.0",
            "_view_name": "StyleView",
            "description_width": ""
          }
        },
        "529f24d6dc4f49c19058e5307d57275e": {
          "model_module": "@jupyter-widgets/base",
          "model_name": "LayoutModel",
          "model_module_version": "1.2.0",
          "state": {
            "_model_module": "@jupyter-widgets/base",
            "_model_module_version": "1.2.0",
            "_model_name": "LayoutModel",
            "_view_count": null,
            "_view_module": "@jupyter-widgets/base",
            "_view_module_version": "1.2.0",
            "_view_name": "LayoutView",
            "align_content": null,
            "align_items": null,
            "align_self": null,
            "border": null,
            "bottom": null,
            "display": null,
            "flex": null,
            "flex_flow": null,
            "grid_area": null,
            "grid_auto_columns": null,
            "grid_auto_flow": null,
            "grid_auto_rows": null,
            "grid_column": null,
            "grid_gap": null,
            "grid_row": null,
            "grid_template_areas": null,
            "grid_template_columns": null,
            "grid_template_rows": null,
            "height": null,
            "justify_content": null,
            "justify_items": null,
            "left": null,
            "margin": null,
            "max_height": null,
            "max_width": null,
            "min_height": null,
            "min_width": null,
            "object_fit": null,
            "object_position": null,
            "order": null,
            "overflow": null,
            "overflow_x": null,
            "overflow_y": null,
            "padding": null,
            "right": null,
            "top": null,
            "visibility": null,
            "width": null
          }
        },
        "292b3ba5e9bd44fbb9d0eb5454026b0d": {
          "model_module": "@jupyter-widgets/controls",
          "model_name": "ProgressStyleModel",
          "model_module_version": "1.5.0",
          "state": {
            "_model_module": "@jupyter-widgets/controls",
            "_model_module_version": "1.5.0",
            "_model_name": "ProgressStyleModel",
            "_view_count": null,
            "_view_module": "@jupyter-widgets/base",
            "_view_module_version": "1.2.0",
            "_view_name": "StyleView",
            "bar_color": null,
            "description_width": ""
          }
        },
        "ed38867fd3fd494d95d7f5306d69a71e": {
          "model_module": "@jupyter-widgets/base",
          "model_name": "LayoutModel",
          "model_module_version": "1.2.0",
          "state": {
            "_model_module": "@jupyter-widgets/base",
            "_model_module_version": "1.2.0",
            "_model_name": "LayoutModel",
            "_view_count": null,
            "_view_module": "@jupyter-widgets/base",
            "_view_module_version": "1.2.0",
            "_view_name": "LayoutView",
            "align_content": null,
            "align_items": null,
            "align_self": null,
            "border": null,
            "bottom": null,
            "display": null,
            "flex": null,
            "flex_flow": null,
            "grid_area": null,
            "grid_auto_columns": null,
            "grid_auto_flow": null,
            "grid_auto_rows": null,
            "grid_column": null,
            "grid_gap": null,
            "grid_row": null,
            "grid_template_areas": null,
            "grid_template_columns": null,
            "grid_template_rows": null,
            "height": null,
            "justify_content": null,
            "justify_items": null,
            "left": null,
            "margin": null,
            "max_height": null,
            "max_width": null,
            "min_height": null,
            "min_width": null,
            "object_fit": null,
            "object_position": null,
            "order": null,
            "overflow": null,
            "overflow_x": null,
            "overflow_y": null,
            "padding": null,
            "right": null,
            "top": null,
            "visibility": null,
            "width": null
          }
        },
        "6a406ef048b04ac3964fc81550493170": {
          "model_module": "@jupyter-widgets/controls",
          "model_name": "DescriptionStyleModel",
          "model_module_version": "1.5.0",
          "state": {
            "_model_module": "@jupyter-widgets/controls",
            "_model_module_version": "1.5.0",
            "_model_name": "DescriptionStyleModel",
            "_view_count": null,
            "_view_module": "@jupyter-widgets/base",
            "_view_module_version": "1.2.0",
            "_view_name": "StyleView",
            "description_width": ""
          }
        },
        "fec1f02245ed4b2cbe0795988a8801c6": {
          "model_module": "@jupyter-widgets/controls",
          "model_name": "HBoxModel",
          "model_module_version": "1.5.0",
          "state": {
            "_dom_classes": [],
            "_model_module": "@jupyter-widgets/controls",
            "_model_module_version": "1.5.0",
            "_model_name": "HBoxModel",
            "_view_count": null,
            "_view_module": "@jupyter-widgets/controls",
            "_view_module_version": "1.5.0",
            "_view_name": "HBoxView",
            "box_style": "",
            "children": [
              "IPY_MODEL_cc97b382c1f34967bb8dc506b7659ae8",
              "IPY_MODEL_9862af43bb514e7093b96d4bbb0ca182",
              "IPY_MODEL_c5e57175f6224487b0ab3f924c61422e"
            ],
            "layout": "IPY_MODEL_cf1347e244a64a50bf9c42a81aea0c2d"
          }
        },
        "cc97b382c1f34967bb8dc506b7659ae8": {
          "model_module": "@jupyter-widgets/controls",
          "model_name": "HTMLModel",
          "model_module_version": "1.5.0",
          "state": {
            "_dom_classes": [],
            "_model_module": "@jupyter-widgets/controls",
            "_model_module_version": "1.5.0",
            "_model_name": "HTMLModel",
            "_view_count": null,
            "_view_module": "@jupyter-widgets/controls",
            "_view_module_version": "1.5.0",
            "_view_name": "HTMLView",
            "description": "",
            "description_tooltip": null,
            "layout": "IPY_MODEL_fe7f0ff414d04ba4943c19ac1bb3f612",
            "placeholder": "​",
            "style": "IPY_MODEL_7e3112b285a74d2e99d58e8460d7916d",
            "value": "Downloading (…)lve/main/config.json: 100%"
          }
        },
        "9862af43bb514e7093b96d4bbb0ca182": {
          "model_module": "@jupyter-widgets/controls",
          "model_name": "FloatProgressModel",
          "model_module_version": "1.5.0",
          "state": {
            "_dom_classes": [],
            "_model_module": "@jupyter-widgets/controls",
            "_model_module_version": "1.5.0",
            "_model_name": "FloatProgressModel",
            "_view_count": null,
            "_view_module": "@jupyter-widgets/controls",
            "_view_module_version": "1.5.0",
            "_view_name": "ProgressView",
            "bar_style": "success",
            "description": "",
            "description_tooltip": null,
            "layout": "IPY_MODEL_f48f4314a56a42ed99c0bbb52fdd786a",
            "max": 1209,
            "min": 0,
            "orientation": "horizontal",
            "style": "IPY_MODEL_9821f446a52b4422b8bccd122bdb1754",
            "value": 1209
          }
        },
        "c5e57175f6224487b0ab3f924c61422e": {
          "model_module": "@jupyter-widgets/controls",
          "model_name": "HTMLModel",
          "model_module_version": "1.5.0",
          "state": {
            "_dom_classes": [],
            "_model_module": "@jupyter-widgets/controls",
            "_model_module_version": "1.5.0",
            "_model_name": "HTMLModel",
            "_view_count": null,
            "_view_module": "@jupyter-widgets/controls",
            "_view_module_version": "1.5.0",
            "_view_name": "HTMLView",
            "description": "",
            "description_tooltip": null,
            "layout": "IPY_MODEL_21afbfa37a444c80940ab75199400e4e",
            "placeholder": "​",
            "style": "IPY_MODEL_e9e1a3318397479bb66c335699eecd5f",
            "value": " 1.21k/1.21k [00:00&lt;00:00, 33.5kB/s]"
          }
        },
        "cf1347e244a64a50bf9c42a81aea0c2d": {
          "model_module": "@jupyter-widgets/base",
          "model_name": "LayoutModel",
          "model_module_version": "1.2.0",
          "state": {
            "_model_module": "@jupyter-widgets/base",
            "_model_module_version": "1.2.0",
            "_model_name": "LayoutModel",
            "_view_count": null,
            "_view_module": "@jupyter-widgets/base",
            "_view_module_version": "1.2.0",
            "_view_name": "LayoutView",
            "align_content": null,
            "align_items": null,
            "align_self": null,
            "border": null,
            "bottom": null,
            "display": null,
            "flex": null,
            "flex_flow": null,
            "grid_area": null,
            "grid_auto_columns": null,
            "grid_auto_flow": null,
            "grid_auto_rows": null,
            "grid_column": null,
            "grid_gap": null,
            "grid_row": null,
            "grid_template_areas": null,
            "grid_template_columns": null,
            "grid_template_rows": null,
            "height": null,
            "justify_content": null,
            "justify_items": null,
            "left": null,
            "margin": null,
            "max_height": null,
            "max_width": null,
            "min_height": null,
            "min_width": null,
            "object_fit": null,
            "object_position": null,
            "order": null,
            "overflow": null,
            "overflow_x": null,
            "overflow_y": null,
            "padding": null,
            "right": null,
            "top": null,
            "visibility": null,
            "width": null
          }
        },
        "fe7f0ff414d04ba4943c19ac1bb3f612": {
          "model_module": "@jupyter-widgets/base",
          "model_name": "LayoutModel",
          "model_module_version": "1.2.0",
          "state": {
            "_model_module": "@jupyter-widgets/base",
            "_model_module_version": "1.2.0",
            "_model_name": "LayoutModel",
            "_view_count": null,
            "_view_module": "@jupyter-widgets/base",
            "_view_module_version": "1.2.0",
            "_view_name": "LayoutView",
            "align_content": null,
            "align_items": null,
            "align_self": null,
            "border": null,
            "bottom": null,
            "display": null,
            "flex": null,
            "flex_flow": null,
            "grid_area": null,
            "grid_auto_columns": null,
            "grid_auto_flow": null,
            "grid_auto_rows": null,
            "grid_column": null,
            "grid_gap": null,
            "grid_row": null,
            "grid_template_areas": null,
            "grid_template_columns": null,
            "grid_template_rows": null,
            "height": null,
            "justify_content": null,
            "justify_items": null,
            "left": null,
            "margin": null,
            "max_height": null,
            "max_width": null,
            "min_height": null,
            "min_width": null,
            "object_fit": null,
            "object_position": null,
            "order": null,
            "overflow": null,
            "overflow_x": null,
            "overflow_y": null,
            "padding": null,
            "right": null,
            "top": null,
            "visibility": null,
            "width": null
          }
        },
        "7e3112b285a74d2e99d58e8460d7916d": {
          "model_module": "@jupyter-widgets/controls",
          "model_name": "DescriptionStyleModel",
          "model_module_version": "1.5.0",
          "state": {
            "_model_module": "@jupyter-widgets/controls",
            "_model_module_version": "1.5.0",
            "_model_name": "DescriptionStyleModel",
            "_view_count": null,
            "_view_module": "@jupyter-widgets/base",
            "_view_module_version": "1.2.0",
            "_view_name": "StyleView",
            "description_width": ""
          }
        },
        "f48f4314a56a42ed99c0bbb52fdd786a": {
          "model_module": "@jupyter-widgets/base",
          "model_name": "LayoutModel",
          "model_module_version": "1.2.0",
          "state": {
            "_model_module": "@jupyter-widgets/base",
            "_model_module_version": "1.2.0",
            "_model_name": "LayoutModel",
            "_view_count": null,
            "_view_module": "@jupyter-widgets/base",
            "_view_module_version": "1.2.0",
            "_view_name": "LayoutView",
            "align_content": null,
            "align_items": null,
            "align_self": null,
            "border": null,
            "bottom": null,
            "display": null,
            "flex": null,
            "flex_flow": null,
            "grid_area": null,
            "grid_auto_columns": null,
            "grid_auto_flow": null,
            "grid_auto_rows": null,
            "grid_column": null,
            "grid_gap": null,
            "grid_row": null,
            "grid_template_areas": null,
            "grid_template_columns": null,
            "grid_template_rows": null,
            "height": null,
            "justify_content": null,
            "justify_items": null,
            "left": null,
            "margin": null,
            "max_height": null,
            "max_width": null,
            "min_height": null,
            "min_width": null,
            "object_fit": null,
            "object_position": null,
            "order": null,
            "overflow": null,
            "overflow_x": null,
            "overflow_y": null,
            "padding": null,
            "right": null,
            "top": null,
            "visibility": null,
            "width": null
          }
        },
        "9821f446a52b4422b8bccd122bdb1754": {
          "model_module": "@jupyter-widgets/controls",
          "model_name": "ProgressStyleModel",
          "model_module_version": "1.5.0",
          "state": {
            "_model_module": "@jupyter-widgets/controls",
            "_model_module_version": "1.5.0",
            "_model_name": "ProgressStyleModel",
            "_view_count": null,
            "_view_module": "@jupyter-widgets/base",
            "_view_module_version": "1.2.0",
            "_view_name": "StyleView",
            "bar_color": null,
            "description_width": ""
          }
        },
        "21afbfa37a444c80940ab75199400e4e": {
          "model_module": "@jupyter-widgets/base",
          "model_name": "LayoutModel",
          "model_module_version": "1.2.0",
          "state": {
            "_model_module": "@jupyter-widgets/base",
            "_model_module_version": "1.2.0",
            "_model_name": "LayoutModel",
            "_view_count": null,
            "_view_module": "@jupyter-widgets/base",
            "_view_module_version": "1.2.0",
            "_view_name": "LayoutView",
            "align_content": null,
            "align_items": null,
            "align_self": null,
            "border": null,
            "bottom": null,
            "display": null,
            "flex": null,
            "flex_flow": null,
            "grid_area": null,
            "grid_auto_columns": null,
            "grid_auto_flow": null,
            "grid_auto_rows": null,
            "grid_column": null,
            "grid_gap": null,
            "grid_row": null,
            "grid_template_areas": null,
            "grid_template_columns": null,
            "grid_template_rows": null,
            "height": null,
            "justify_content": null,
            "justify_items": null,
            "left": null,
            "margin": null,
            "max_height": null,
            "max_width": null,
            "min_height": null,
            "min_width": null,
            "object_fit": null,
            "object_position": null,
            "order": null,
            "overflow": null,
            "overflow_x": null,
            "overflow_y": null,
            "padding": null,
            "right": null,
            "top": null,
            "visibility": null,
            "width": null
          }
        },
        "e9e1a3318397479bb66c335699eecd5f": {
          "model_module": "@jupyter-widgets/controls",
          "model_name": "DescriptionStyleModel",
          "model_module_version": "1.5.0",
          "state": {
            "_model_module": "@jupyter-widgets/controls",
            "_model_module_version": "1.5.0",
            "_model_name": "DescriptionStyleModel",
            "_view_count": null,
            "_view_module": "@jupyter-widgets/base",
            "_view_module_version": "1.2.0",
            "_view_name": "StyleView",
            "description_width": ""
          }
        },
        "e56c974916144ffbb5d321d405ffa00d": {
          "model_module": "@jupyter-widgets/controls",
          "model_name": "HBoxModel",
          "model_module_version": "1.5.0",
          "state": {
            "_dom_classes": [],
            "_model_module": "@jupyter-widgets/controls",
            "_model_module_version": "1.5.0",
            "_model_name": "HBoxModel",
            "_view_count": null,
            "_view_module": "@jupyter-widgets/controls",
            "_view_module_version": "1.5.0",
            "_view_name": "HBoxView",
            "box_style": "",
            "children": [
              "IPY_MODEL_daaa65325760474c93c174540a0be961",
              "IPY_MODEL_933e14ba3b2a40fe928e520df1623707",
              "IPY_MODEL_1575f0605bb84e8cb08a00296ba42363"
            ],
            "layout": "IPY_MODEL_4fd444ab28284c40ba321c55dbace6d8"
          }
        },
        "daaa65325760474c93c174540a0be961": {
          "model_module": "@jupyter-widgets/controls",
          "model_name": "HTMLModel",
          "model_module_version": "1.5.0",
          "state": {
            "_dom_classes": [],
            "_model_module": "@jupyter-widgets/controls",
            "_model_module_version": "1.5.0",
            "_model_name": "HTMLModel",
            "_view_count": null,
            "_view_module": "@jupyter-widgets/controls",
            "_view_module_version": "1.5.0",
            "_view_name": "HTMLView",
            "description": "",
            "description_tooltip": null,
            "layout": "IPY_MODEL_495ffb7ae4e64a8ab893b232361d15a1",
            "placeholder": "​",
            "style": "IPY_MODEL_be4944578af946568ae795cb783f21f4",
            "value": "Downloading (…)ve/main/spiece.model: 100%"
          }
        },
        "933e14ba3b2a40fe928e520df1623707": {
          "model_module": "@jupyter-widgets/controls",
          "model_name": "FloatProgressModel",
          "model_module_version": "1.5.0",
          "state": {
            "_dom_classes": [],
            "_model_module": "@jupyter-widgets/controls",
            "_model_module_version": "1.5.0",
            "_model_name": "FloatProgressModel",
            "_view_count": null,
            "_view_module": "@jupyter-widgets/controls",
            "_view_module_version": "1.5.0",
            "_view_name": "ProgressView",
            "bar_style": "success",
            "description": "",
            "description_tooltip": null,
            "layout": "IPY_MODEL_b2c439df892d441e885f0e7b17156975",
            "max": 791656,
            "min": 0,
            "orientation": "horizontal",
            "style": "IPY_MODEL_38a99eef45f94223aa68e02022ca210f",
            "value": 791656
          }
        },
        "1575f0605bb84e8cb08a00296ba42363": {
          "model_module": "@jupyter-widgets/controls",
          "model_name": "HTMLModel",
          "model_module_version": "1.5.0",
          "state": {
            "_dom_classes": [],
            "_model_module": "@jupyter-widgets/controls",
            "_model_module_version": "1.5.0",
            "_model_name": "HTMLModel",
            "_view_count": null,
            "_view_module": "@jupyter-widgets/controls",
            "_view_module_version": "1.5.0",
            "_view_name": "HTMLView",
            "description": "",
            "description_tooltip": null,
            "layout": "IPY_MODEL_4048508f79354c96abc0905f85ac1612",
            "placeholder": "​",
            "style": "IPY_MODEL_b132e660e7a442ba96efc41990259a27",
            "value": " 792k/792k [00:00&lt;00:00, 1.15MB/s]"
          }
        },
        "4fd444ab28284c40ba321c55dbace6d8": {
          "model_module": "@jupyter-widgets/base",
          "model_name": "LayoutModel",
          "model_module_version": "1.2.0",
          "state": {
            "_model_module": "@jupyter-widgets/base",
            "_model_module_version": "1.2.0",
            "_model_name": "LayoutModel",
            "_view_count": null,
            "_view_module": "@jupyter-widgets/base",
            "_view_module_version": "1.2.0",
            "_view_name": "LayoutView",
            "align_content": null,
            "align_items": null,
            "align_self": null,
            "border": null,
            "bottom": null,
            "display": null,
            "flex": null,
            "flex_flow": null,
            "grid_area": null,
            "grid_auto_columns": null,
            "grid_auto_flow": null,
            "grid_auto_rows": null,
            "grid_column": null,
            "grid_gap": null,
            "grid_row": null,
            "grid_template_areas": null,
            "grid_template_columns": null,
            "grid_template_rows": null,
            "height": null,
            "justify_content": null,
            "justify_items": null,
            "left": null,
            "margin": null,
            "max_height": null,
            "max_width": null,
            "min_height": null,
            "min_width": null,
            "object_fit": null,
            "object_position": null,
            "order": null,
            "overflow": null,
            "overflow_x": null,
            "overflow_y": null,
            "padding": null,
            "right": null,
            "top": null,
            "visibility": null,
            "width": null
          }
        },
        "495ffb7ae4e64a8ab893b232361d15a1": {
          "model_module": "@jupyter-widgets/base",
          "model_name": "LayoutModel",
          "model_module_version": "1.2.0",
          "state": {
            "_model_module": "@jupyter-widgets/base",
            "_model_module_version": "1.2.0",
            "_model_name": "LayoutModel",
            "_view_count": null,
            "_view_module": "@jupyter-widgets/base",
            "_view_module_version": "1.2.0",
            "_view_name": "LayoutView",
            "align_content": null,
            "align_items": null,
            "align_self": null,
            "border": null,
            "bottom": null,
            "display": null,
            "flex": null,
            "flex_flow": null,
            "grid_area": null,
            "grid_auto_columns": null,
            "grid_auto_flow": null,
            "grid_auto_rows": null,
            "grid_column": null,
            "grid_gap": null,
            "grid_row": null,
            "grid_template_areas": null,
            "grid_template_columns": null,
            "grid_template_rows": null,
            "height": null,
            "justify_content": null,
            "justify_items": null,
            "left": null,
            "margin": null,
            "max_height": null,
            "max_width": null,
            "min_height": null,
            "min_width": null,
            "object_fit": null,
            "object_position": null,
            "order": null,
            "overflow": null,
            "overflow_x": null,
            "overflow_y": null,
            "padding": null,
            "right": null,
            "top": null,
            "visibility": null,
            "width": null
          }
        },
        "be4944578af946568ae795cb783f21f4": {
          "model_module": "@jupyter-widgets/controls",
          "model_name": "DescriptionStyleModel",
          "model_module_version": "1.5.0",
          "state": {
            "_model_module": "@jupyter-widgets/controls",
            "_model_module_version": "1.5.0",
            "_model_name": "DescriptionStyleModel",
            "_view_count": null,
            "_view_module": "@jupyter-widgets/base",
            "_view_module_version": "1.2.0",
            "_view_name": "StyleView",
            "description_width": ""
          }
        },
        "b2c439df892d441e885f0e7b17156975": {
          "model_module": "@jupyter-widgets/base",
          "model_name": "LayoutModel",
          "model_module_version": "1.2.0",
          "state": {
            "_model_module": "@jupyter-widgets/base",
            "_model_module_version": "1.2.0",
            "_model_name": "LayoutModel",
            "_view_count": null,
            "_view_module": "@jupyter-widgets/base",
            "_view_module_version": "1.2.0",
            "_view_name": "LayoutView",
            "align_content": null,
            "align_items": null,
            "align_self": null,
            "border": null,
            "bottom": null,
            "display": null,
            "flex": null,
            "flex_flow": null,
            "grid_area": null,
            "grid_auto_columns": null,
            "grid_auto_flow": null,
            "grid_auto_rows": null,
            "grid_column": null,
            "grid_gap": null,
            "grid_row": null,
            "grid_template_areas": null,
            "grid_template_columns": null,
            "grid_template_rows": null,
            "height": null,
            "justify_content": null,
            "justify_items": null,
            "left": null,
            "margin": null,
            "max_height": null,
            "max_width": null,
            "min_height": null,
            "min_width": null,
            "object_fit": null,
            "object_position": null,
            "order": null,
            "overflow": null,
            "overflow_x": null,
            "overflow_y": null,
            "padding": null,
            "right": null,
            "top": null,
            "visibility": null,
            "width": null
          }
        },
        "38a99eef45f94223aa68e02022ca210f": {
          "model_module": "@jupyter-widgets/controls",
          "model_name": "ProgressStyleModel",
          "model_module_version": "1.5.0",
          "state": {
            "_model_module": "@jupyter-widgets/controls",
            "_model_module_version": "1.5.0",
            "_model_name": "ProgressStyleModel",
            "_view_count": null,
            "_view_module": "@jupyter-widgets/base",
            "_view_module_version": "1.2.0",
            "_view_name": "StyleView",
            "bar_color": null,
            "description_width": ""
          }
        },
        "4048508f79354c96abc0905f85ac1612": {
          "model_module": "@jupyter-widgets/base",
          "model_name": "LayoutModel",
          "model_module_version": "1.2.0",
          "state": {
            "_model_module": "@jupyter-widgets/base",
            "_model_module_version": "1.2.0",
            "_model_name": "LayoutModel",
            "_view_count": null,
            "_view_module": "@jupyter-widgets/base",
            "_view_module_version": "1.2.0",
            "_view_name": "LayoutView",
            "align_content": null,
            "align_items": null,
            "align_self": null,
            "border": null,
            "bottom": null,
            "display": null,
            "flex": null,
            "flex_flow": null,
            "grid_area": null,
            "grid_auto_columns": null,
            "grid_auto_flow": null,
            "grid_auto_rows": null,
            "grid_column": null,
            "grid_gap": null,
            "grid_row": null,
            "grid_template_areas": null,
            "grid_template_columns": null,
            "grid_template_rows": null,
            "height": null,
            "justify_content": null,
            "justify_items": null,
            "left": null,
            "margin": null,
            "max_height": null,
            "max_width": null,
            "min_height": null,
            "min_width": null,
            "object_fit": null,
            "object_position": null,
            "order": null,
            "overflow": null,
            "overflow_x": null,
            "overflow_y": null,
            "padding": null,
            "right": null,
            "top": null,
            "visibility": null,
            "width": null
          }
        },
        "b132e660e7a442ba96efc41990259a27": {
          "model_module": "@jupyter-widgets/controls",
          "model_name": "DescriptionStyleModel",
          "model_module_version": "1.5.0",
          "state": {
            "_model_module": "@jupyter-widgets/controls",
            "_model_module_version": "1.5.0",
            "_model_name": "DescriptionStyleModel",
            "_view_count": null,
            "_view_module": "@jupyter-widgets/base",
            "_view_module_version": "1.2.0",
            "_view_name": "StyleView",
            "description_width": ""
          }
        },
        "147fed0eb70c475a9b6b160ecc6e30e0": {
          "model_module": "@jupyter-widgets/controls",
          "model_name": "HBoxModel",
          "model_module_version": "1.5.0",
          "state": {
            "_dom_classes": [],
            "_model_module": "@jupyter-widgets/controls",
            "_model_module_version": "1.5.0",
            "_model_name": "HBoxModel",
            "_view_count": null,
            "_view_module": "@jupyter-widgets/controls",
            "_view_module_version": "1.5.0",
            "_view_name": "HBoxView",
            "box_style": "",
            "children": [
              "IPY_MODEL_196f8c3623c94f8b93752c1b974ad0c6",
              "IPY_MODEL_a645bb14f84e45dfa491a49b07e674dc",
              "IPY_MODEL_d2ae4578d835464aa014e3aa5dca9f92"
            ],
            "layout": "IPY_MODEL_6e7c0f9d326d4e54aa7e0d133ee3a366"
          }
        },
        "196f8c3623c94f8b93752c1b974ad0c6": {
          "model_module": "@jupyter-widgets/controls",
          "model_name": "HTMLModel",
          "model_module_version": "1.5.0",
          "state": {
            "_dom_classes": [],
            "_model_module": "@jupyter-widgets/controls",
            "_model_module_version": "1.5.0",
            "_model_name": "HTMLModel",
            "_view_count": null,
            "_view_module": "@jupyter-widgets/controls",
            "_view_module_version": "1.5.0",
            "_view_name": "HTMLView",
            "description": "",
            "description_tooltip": null,
            "layout": "IPY_MODEL_bf578f680b384781a7fe0043ea79c2db",
            "placeholder": "​",
            "style": "IPY_MODEL_0570ec625b6e483eb45be1eaaf74a0c9",
            "value": "Downloading (…)/main/tokenizer.json: 100%"
          }
        },
        "a645bb14f84e45dfa491a49b07e674dc": {
          "model_module": "@jupyter-widgets/controls",
          "model_name": "FloatProgressModel",
          "model_module_version": "1.5.0",
          "state": {
            "_dom_classes": [],
            "_model_module": "@jupyter-widgets/controls",
            "_model_module_version": "1.5.0",
            "_model_name": "FloatProgressModel",
            "_view_count": null,
            "_view_module": "@jupyter-widgets/controls",
            "_view_module_version": "1.5.0",
            "_view_name": "ProgressView",
            "bar_style": "success",
            "description": "",
            "description_tooltip": null,
            "layout": "IPY_MODEL_1596ded49a7f4d41b5ebd32b2a7f5223",
            "max": 1389353,
            "min": 0,
            "orientation": "horizontal",
            "style": "IPY_MODEL_e7dacf4b65744fc4a99e6904c14cdba7",
            "value": 1389353
          }
        },
        "d2ae4578d835464aa014e3aa5dca9f92": {
          "model_module": "@jupyter-widgets/controls",
          "model_name": "HTMLModel",
          "model_module_version": "1.5.0",
          "state": {
            "_dom_classes": [],
            "_model_module": "@jupyter-widgets/controls",
            "_model_module_version": "1.5.0",
            "_model_name": "HTMLModel",
            "_view_count": null,
            "_view_module": "@jupyter-widgets/controls",
            "_view_module_version": "1.5.0",
            "_view_name": "HTMLView",
            "description": "",
            "description_tooltip": null,
            "layout": "IPY_MODEL_a9389c6d33a840d8843379d5e011ca1b",
            "placeholder": "​",
            "style": "IPY_MODEL_f0b1d7c3410a4effa84f0dc3906efb09",
            "value": " 1.39M/1.39M [00:00&lt;00:00, 7.93MB/s]"
          }
        },
        "6e7c0f9d326d4e54aa7e0d133ee3a366": {
          "model_module": "@jupyter-widgets/base",
          "model_name": "LayoutModel",
          "model_module_version": "1.2.0",
          "state": {
            "_model_module": "@jupyter-widgets/base",
            "_model_module_version": "1.2.0",
            "_model_name": "LayoutModel",
            "_view_count": null,
            "_view_module": "@jupyter-widgets/base",
            "_view_module_version": "1.2.0",
            "_view_name": "LayoutView",
            "align_content": null,
            "align_items": null,
            "align_self": null,
            "border": null,
            "bottom": null,
            "display": null,
            "flex": null,
            "flex_flow": null,
            "grid_area": null,
            "grid_auto_columns": null,
            "grid_auto_flow": null,
            "grid_auto_rows": null,
            "grid_column": null,
            "grid_gap": null,
            "grid_row": null,
            "grid_template_areas": null,
            "grid_template_columns": null,
            "grid_template_rows": null,
            "height": null,
            "justify_content": null,
            "justify_items": null,
            "left": null,
            "margin": null,
            "max_height": null,
            "max_width": null,
            "min_height": null,
            "min_width": null,
            "object_fit": null,
            "object_position": null,
            "order": null,
            "overflow": null,
            "overflow_x": null,
            "overflow_y": null,
            "padding": null,
            "right": null,
            "top": null,
            "visibility": null,
            "width": null
          }
        },
        "bf578f680b384781a7fe0043ea79c2db": {
          "model_module": "@jupyter-widgets/base",
          "model_name": "LayoutModel",
          "model_module_version": "1.2.0",
          "state": {
            "_model_module": "@jupyter-widgets/base",
            "_model_module_version": "1.2.0",
            "_model_name": "LayoutModel",
            "_view_count": null,
            "_view_module": "@jupyter-widgets/base",
            "_view_module_version": "1.2.0",
            "_view_name": "LayoutView",
            "align_content": null,
            "align_items": null,
            "align_self": null,
            "border": null,
            "bottom": null,
            "display": null,
            "flex": null,
            "flex_flow": null,
            "grid_area": null,
            "grid_auto_columns": null,
            "grid_auto_flow": null,
            "grid_auto_rows": null,
            "grid_column": null,
            "grid_gap": null,
            "grid_row": null,
            "grid_template_areas": null,
            "grid_template_columns": null,
            "grid_template_rows": null,
            "height": null,
            "justify_content": null,
            "justify_items": null,
            "left": null,
            "margin": null,
            "max_height": null,
            "max_width": null,
            "min_height": null,
            "min_width": null,
            "object_fit": null,
            "object_position": null,
            "order": null,
            "overflow": null,
            "overflow_x": null,
            "overflow_y": null,
            "padding": null,
            "right": null,
            "top": null,
            "visibility": null,
            "width": null
          }
        },
        "0570ec625b6e483eb45be1eaaf74a0c9": {
          "model_module": "@jupyter-widgets/controls",
          "model_name": "DescriptionStyleModel",
          "model_module_version": "1.5.0",
          "state": {
            "_model_module": "@jupyter-widgets/controls",
            "_model_module_version": "1.5.0",
            "_model_name": "DescriptionStyleModel",
            "_view_count": null,
            "_view_module": "@jupyter-widgets/base",
            "_view_module_version": "1.2.0",
            "_view_name": "StyleView",
            "description_width": ""
          }
        },
        "1596ded49a7f4d41b5ebd32b2a7f5223": {
          "model_module": "@jupyter-widgets/base",
          "model_name": "LayoutModel",
          "model_module_version": "1.2.0",
          "state": {
            "_model_module": "@jupyter-widgets/base",
            "_model_module_version": "1.2.0",
            "_model_name": "LayoutModel",
            "_view_count": null,
            "_view_module": "@jupyter-widgets/base",
            "_view_module_version": "1.2.0",
            "_view_name": "LayoutView",
            "align_content": null,
            "align_items": null,
            "align_self": null,
            "border": null,
            "bottom": null,
            "display": null,
            "flex": null,
            "flex_flow": null,
            "grid_area": null,
            "grid_auto_columns": null,
            "grid_auto_flow": null,
            "grid_auto_rows": null,
            "grid_column": null,
            "grid_gap": null,
            "grid_row": null,
            "grid_template_areas": null,
            "grid_template_columns": null,
            "grid_template_rows": null,
            "height": null,
            "justify_content": null,
            "justify_items": null,
            "left": null,
            "margin": null,
            "max_height": null,
            "max_width": null,
            "min_height": null,
            "min_width": null,
            "object_fit": null,
            "object_position": null,
            "order": null,
            "overflow": null,
            "overflow_x": null,
            "overflow_y": null,
            "padding": null,
            "right": null,
            "top": null,
            "visibility": null,
            "width": null
          }
        },
        "e7dacf4b65744fc4a99e6904c14cdba7": {
          "model_module": "@jupyter-widgets/controls",
          "model_name": "ProgressStyleModel",
          "model_module_version": "1.5.0",
          "state": {
            "_model_module": "@jupyter-widgets/controls",
            "_model_module_version": "1.5.0",
            "_model_name": "ProgressStyleModel",
            "_view_count": null,
            "_view_module": "@jupyter-widgets/base",
            "_view_module_version": "1.2.0",
            "_view_name": "StyleView",
            "bar_color": null,
            "description_width": ""
          }
        },
        "a9389c6d33a840d8843379d5e011ca1b": {
          "model_module": "@jupyter-widgets/base",
          "model_name": "LayoutModel",
          "model_module_version": "1.2.0",
          "state": {
            "_model_module": "@jupyter-widgets/base",
            "_model_module_version": "1.2.0",
            "_model_name": "LayoutModel",
            "_view_count": null,
            "_view_module": "@jupyter-widgets/base",
            "_view_module_version": "1.2.0",
            "_view_name": "LayoutView",
            "align_content": null,
            "align_items": null,
            "align_self": null,
            "border": null,
            "bottom": null,
            "display": null,
            "flex": null,
            "flex_flow": null,
            "grid_area": null,
            "grid_auto_columns": null,
            "grid_auto_flow": null,
            "grid_auto_rows": null,
            "grid_column": null,
            "grid_gap": null,
            "grid_row": null,
            "grid_template_areas": null,
            "grid_template_columns": null,
            "grid_template_rows": null,
            "height": null,
            "justify_content": null,
            "justify_items": null,
            "left": null,
            "margin": null,
            "max_height": null,
            "max_width": null,
            "min_height": null,
            "min_width": null,
            "object_fit": null,
            "object_position": null,
            "order": null,
            "overflow": null,
            "overflow_x": null,
            "overflow_y": null,
            "padding": null,
            "right": null,
            "top": null,
            "visibility": null,
            "width": null
          }
        },
        "f0b1d7c3410a4effa84f0dc3906efb09": {
          "model_module": "@jupyter-widgets/controls",
          "model_name": "DescriptionStyleModel",
          "model_module_version": "1.5.0",
          "state": {
            "_model_module": "@jupyter-widgets/controls",
            "_model_module_version": "1.5.0",
            "_model_name": "DescriptionStyleModel",
            "_view_count": null,
            "_view_module": "@jupyter-widgets/base",
            "_view_module_version": "1.2.0",
            "_view_name": "StyleView",
            "description_width": ""
          }
        },
        "634e12a2db184c00adb4ac3830848067": {
          "model_module": "@jupyter-widgets/controls",
          "model_name": "HBoxModel",
          "model_module_version": "1.5.0",
          "state": {
            "_dom_classes": [],
            "_model_module": "@jupyter-widgets/controls",
            "_model_module_version": "1.5.0",
            "_model_name": "HBoxModel",
            "_view_count": null,
            "_view_module": "@jupyter-widgets/controls",
            "_view_module_version": "1.5.0",
            "_view_name": "HBoxView",
            "box_style": "",
            "children": [
              "IPY_MODEL_08e19db858af4c57a3eff820d506cc8e",
              "IPY_MODEL_38068c685de74dc58199517b2febf2c9",
              "IPY_MODEL_c6592bcc5de045f58e5ac439aa1d0e83"
            ],
            "layout": "IPY_MODEL_ada9772e839240f5aedbc8c29abd8274"
          }
        },
        "08e19db858af4c57a3eff820d506cc8e": {
          "model_module": "@jupyter-widgets/controls",
          "model_name": "HTMLModel",
          "model_module_version": "1.5.0",
          "state": {
            "_dom_classes": [],
            "_model_module": "@jupyter-widgets/controls",
            "_model_module_version": "1.5.0",
            "_model_name": "HTMLModel",
            "_view_count": null,
            "_view_module": "@jupyter-widgets/controls",
            "_view_module_version": "1.5.0",
            "_view_name": "HTMLView",
            "description": "",
            "description_tooltip": null,
            "layout": "IPY_MODEL_f7d7ff9f39bd48eebbfd03f700ae945b",
            "placeholder": "​",
            "style": "IPY_MODEL_be83e53f86ee4bee9a1ea77ed47f88b2",
            "value": "Downloading model.safetensors: 100%"
          }
        },
        "38068c685de74dc58199517b2febf2c9": {
          "model_module": "@jupyter-widgets/controls",
          "model_name": "FloatProgressModel",
          "model_module_version": "1.5.0",
          "state": {
            "_dom_classes": [],
            "_model_module": "@jupyter-widgets/controls",
            "_model_module_version": "1.5.0",
            "_model_name": "FloatProgressModel",
            "_view_count": null,
            "_view_module": "@jupyter-widgets/controls",
            "_view_module_version": "1.5.0",
            "_view_name": "ProgressView",
            "bar_style": "success",
            "description": "",
            "description_tooltip": null,
            "layout": "IPY_MODEL_005dfd3f50634c629f271acce264b53d",
            "max": 2950736730,
            "min": 0,
            "orientation": "horizontal",
            "style": "IPY_MODEL_d934ae40adaf4bf7a075a3dc225e023e",
            "value": 2950736730
          }
        },
        "c6592bcc5de045f58e5ac439aa1d0e83": {
          "model_module": "@jupyter-widgets/controls",
          "model_name": "HTMLModel",
          "model_module_version": "1.5.0",
          "state": {
            "_dom_classes": [],
            "_model_module": "@jupyter-widgets/controls",
            "_model_module_version": "1.5.0",
            "_model_name": "HTMLModel",
            "_view_count": null,
            "_view_module": "@jupyter-widgets/controls",
            "_view_module_version": "1.5.0",
            "_view_name": "HTMLView",
            "description": "",
            "description_tooltip": null,
            "layout": "IPY_MODEL_dd82fcb2d6ad4693b8fd365532a9c44a",
            "placeholder": "​",
            "style": "IPY_MODEL_8b6b363d176f438b9c4fc1bbf7a2d0e8",
            "value": " 2.95G/2.95G [02:17&lt;00:00, 21.8MB/s]"
          }
        },
        "ada9772e839240f5aedbc8c29abd8274": {
          "model_module": "@jupyter-widgets/base",
          "model_name": "LayoutModel",
          "model_module_version": "1.2.0",
          "state": {
            "_model_module": "@jupyter-widgets/base",
            "_model_module_version": "1.2.0",
            "_model_name": "LayoutModel",
            "_view_count": null,
            "_view_module": "@jupyter-widgets/base",
            "_view_module_version": "1.2.0",
            "_view_name": "LayoutView",
            "align_content": null,
            "align_items": null,
            "align_self": null,
            "border": null,
            "bottom": null,
            "display": null,
            "flex": null,
            "flex_flow": null,
            "grid_area": null,
            "grid_auto_columns": null,
            "grid_auto_flow": null,
            "grid_auto_rows": null,
            "grid_column": null,
            "grid_gap": null,
            "grid_row": null,
            "grid_template_areas": null,
            "grid_template_columns": null,
            "grid_template_rows": null,
            "height": null,
            "justify_content": null,
            "justify_items": null,
            "left": null,
            "margin": null,
            "max_height": null,
            "max_width": null,
            "min_height": null,
            "min_width": null,
            "object_fit": null,
            "object_position": null,
            "order": null,
            "overflow": null,
            "overflow_x": null,
            "overflow_y": null,
            "padding": null,
            "right": null,
            "top": null,
            "visibility": null,
            "width": null
          }
        },
        "f7d7ff9f39bd48eebbfd03f700ae945b": {
          "model_module": "@jupyter-widgets/base",
          "model_name": "LayoutModel",
          "model_module_version": "1.2.0",
          "state": {
            "_model_module": "@jupyter-widgets/base",
            "_model_module_version": "1.2.0",
            "_model_name": "LayoutModel",
            "_view_count": null,
            "_view_module": "@jupyter-widgets/base",
            "_view_module_version": "1.2.0",
            "_view_name": "LayoutView",
            "align_content": null,
            "align_items": null,
            "align_self": null,
            "border": null,
            "bottom": null,
            "display": null,
            "flex": null,
            "flex_flow": null,
            "grid_area": null,
            "grid_auto_columns": null,
            "grid_auto_flow": null,
            "grid_auto_rows": null,
            "grid_column": null,
            "grid_gap": null,
            "grid_row": null,
            "grid_template_areas": null,
            "grid_template_columns": null,
            "grid_template_rows": null,
            "height": null,
            "justify_content": null,
            "justify_items": null,
            "left": null,
            "margin": null,
            "max_height": null,
            "max_width": null,
            "min_height": null,
            "min_width": null,
            "object_fit": null,
            "object_position": null,
            "order": null,
            "overflow": null,
            "overflow_x": null,
            "overflow_y": null,
            "padding": null,
            "right": null,
            "top": null,
            "visibility": null,
            "width": null
          }
        },
        "be83e53f86ee4bee9a1ea77ed47f88b2": {
          "model_module": "@jupyter-widgets/controls",
          "model_name": "DescriptionStyleModel",
          "model_module_version": "1.5.0",
          "state": {
            "_model_module": "@jupyter-widgets/controls",
            "_model_module_version": "1.5.0",
            "_model_name": "DescriptionStyleModel",
            "_view_count": null,
            "_view_module": "@jupyter-widgets/base",
            "_view_module_version": "1.2.0",
            "_view_name": "StyleView",
            "description_width": ""
          }
        },
        "005dfd3f50634c629f271acce264b53d": {
          "model_module": "@jupyter-widgets/base",
          "model_name": "LayoutModel",
          "model_module_version": "1.2.0",
          "state": {
            "_model_module": "@jupyter-widgets/base",
            "_model_module_version": "1.2.0",
            "_model_name": "LayoutModel",
            "_view_count": null,
            "_view_module": "@jupyter-widgets/base",
            "_view_module_version": "1.2.0",
            "_view_name": "LayoutView",
            "align_content": null,
            "align_items": null,
            "align_self": null,
            "border": null,
            "bottom": null,
            "display": null,
            "flex": null,
            "flex_flow": null,
            "grid_area": null,
            "grid_auto_columns": null,
            "grid_auto_flow": null,
            "grid_auto_rows": null,
            "grid_column": null,
            "grid_gap": null,
            "grid_row": null,
            "grid_template_areas": null,
            "grid_template_columns": null,
            "grid_template_rows": null,
            "height": null,
            "justify_content": null,
            "justify_items": null,
            "left": null,
            "margin": null,
            "max_height": null,
            "max_width": null,
            "min_height": null,
            "min_width": null,
            "object_fit": null,
            "object_position": null,
            "order": null,
            "overflow": null,
            "overflow_x": null,
            "overflow_y": null,
            "padding": null,
            "right": null,
            "top": null,
            "visibility": null,
            "width": null
          }
        },
        "d934ae40adaf4bf7a075a3dc225e023e": {
          "model_module": "@jupyter-widgets/controls",
          "model_name": "ProgressStyleModel",
          "model_module_version": "1.5.0",
          "state": {
            "_model_module": "@jupyter-widgets/controls",
            "_model_module_version": "1.5.0",
            "_model_name": "ProgressStyleModel",
            "_view_count": null,
            "_view_module": "@jupyter-widgets/base",
            "_view_module_version": "1.2.0",
            "_view_name": "StyleView",
            "bar_color": null,
            "description_width": ""
          }
        },
        "dd82fcb2d6ad4693b8fd365532a9c44a": {
          "model_module": "@jupyter-widgets/base",
          "model_name": "LayoutModel",
          "model_module_version": "1.2.0",
          "state": {
            "_model_module": "@jupyter-widgets/base",
            "_model_module_version": "1.2.0",
            "_model_name": "LayoutModel",
            "_view_count": null,
            "_view_module": "@jupyter-widgets/base",
            "_view_module_version": "1.2.0",
            "_view_name": "LayoutView",
            "align_content": null,
            "align_items": null,
            "align_self": null,
            "border": null,
            "bottom": null,
            "display": null,
            "flex": null,
            "flex_flow": null,
            "grid_area": null,
            "grid_auto_columns": null,
            "grid_auto_flow": null,
            "grid_auto_rows": null,
            "grid_column": null,
            "grid_gap": null,
            "grid_row": null,
            "grid_template_areas": null,
            "grid_template_columns": null,
            "grid_template_rows": null,
            "height": null,
            "justify_content": null,
            "justify_items": null,
            "left": null,
            "margin": null,
            "max_height": null,
            "max_width": null,
            "min_height": null,
            "min_width": null,
            "object_fit": null,
            "object_position": null,
            "order": null,
            "overflow": null,
            "overflow_x": null,
            "overflow_y": null,
            "padding": null,
            "right": null,
            "top": null,
            "visibility": null,
            "width": null
          }
        },
        "8b6b363d176f438b9c4fc1bbf7a2d0e8": {
          "model_module": "@jupyter-widgets/controls",
          "model_name": "DescriptionStyleModel",
          "model_module_version": "1.5.0",
          "state": {
            "_model_module": "@jupyter-widgets/controls",
            "_model_module_version": "1.5.0",
            "_model_name": "DescriptionStyleModel",
            "_view_count": null,
            "_view_module": "@jupyter-widgets/base",
            "_view_module_version": "1.2.0",
            "_view_name": "StyleView",
            "description_width": ""
          }
        },
        "1764bc1a214b4a7e875f1e8408393663": {
          "model_module": "@jupyter-widgets/controls",
          "model_name": "HBoxModel",
          "model_module_version": "1.5.0",
          "state": {
            "_dom_classes": [],
            "_model_module": "@jupyter-widgets/controls",
            "_model_module_version": "1.5.0",
            "_model_name": "HBoxModel",
            "_view_count": null,
            "_view_module": "@jupyter-widgets/controls",
            "_view_module_version": "1.5.0",
            "_view_name": "HBoxView",
            "box_style": "",
            "children": [
              "IPY_MODEL_e1f0a6905e2f4591b3975457dc3b2531",
              "IPY_MODEL_f509cf50fe00416c94e01ec4fe4fa348",
              "IPY_MODEL_8f611a9360a14b9990466cc30393dc63"
            ],
            "layout": "IPY_MODEL_93922d61ea3d4754a9adcb36796f2893"
          }
        },
        "e1f0a6905e2f4591b3975457dc3b2531": {
          "model_module": "@jupyter-widgets/controls",
          "model_name": "HTMLModel",
          "model_module_version": "1.5.0",
          "state": {
            "_dom_classes": [],
            "_model_module": "@jupyter-widgets/controls",
            "_model_module_version": "1.5.0",
            "_model_name": "HTMLModel",
            "_view_count": null,
            "_view_module": "@jupyter-widgets/controls",
            "_view_module_version": "1.5.0",
            "_view_name": "HTMLView",
            "description": "",
            "description_tooltip": null,
            "layout": "IPY_MODEL_2e307b1537fa4f8c92672c58e6d7235a",
            "placeholder": "​",
            "style": "IPY_MODEL_9c34ac25c0bc447ea0670344338e4324",
            "value": "Downloading (…)neration_config.json: 100%"
          }
        },
        "f509cf50fe00416c94e01ec4fe4fa348": {
          "model_module": "@jupyter-widgets/controls",
          "model_name": "FloatProgressModel",
          "model_module_version": "1.5.0",
          "state": {
            "_dom_classes": [],
            "_model_module": "@jupyter-widgets/controls",
            "_model_module_version": "1.5.0",
            "_model_name": "FloatProgressModel",
            "_view_count": null,
            "_view_module": "@jupyter-widgets/controls",
            "_view_module_version": "1.5.0",
            "_view_name": "ProgressView",
            "bar_style": "success",
            "description": "",
            "description_tooltip": null,
            "layout": "IPY_MODEL_59f80c3d448342d4b8fad4b6cce3a484",
            "max": 147,
            "min": 0,
            "orientation": "horizontal",
            "style": "IPY_MODEL_5a9b67d349054491a39d34ae84ffcbd8",
            "value": 147
          }
        },
        "8f611a9360a14b9990466cc30393dc63": {
          "model_module": "@jupyter-widgets/controls",
          "model_name": "HTMLModel",
          "model_module_version": "1.5.0",
          "state": {
            "_dom_classes": [],
            "_model_module": "@jupyter-widgets/controls",
            "_model_module_version": "1.5.0",
            "_model_name": "HTMLModel",
            "_view_count": null,
            "_view_module": "@jupyter-widgets/controls",
            "_view_module_version": "1.5.0",
            "_view_name": "HTMLView",
            "description": "",
            "description_tooltip": null,
            "layout": "IPY_MODEL_767134633590437da9c2aa33a5638990",
            "placeholder": "​",
            "style": "IPY_MODEL_4a058c62054645569850f8554d78520a",
            "value": " 147/147 [00:00&lt;00:00, 3.66kB/s]"
          }
        },
        "93922d61ea3d4754a9adcb36796f2893": {
          "model_module": "@jupyter-widgets/base",
          "model_name": "LayoutModel",
          "model_module_version": "1.2.0",
          "state": {
            "_model_module": "@jupyter-widgets/base",
            "_model_module_version": "1.2.0",
            "_model_name": "LayoutModel",
            "_view_count": null,
            "_view_module": "@jupyter-widgets/base",
            "_view_module_version": "1.2.0",
            "_view_name": "LayoutView",
            "align_content": null,
            "align_items": null,
            "align_self": null,
            "border": null,
            "bottom": null,
            "display": null,
            "flex": null,
            "flex_flow": null,
            "grid_area": null,
            "grid_auto_columns": null,
            "grid_auto_flow": null,
            "grid_auto_rows": null,
            "grid_column": null,
            "grid_gap": null,
            "grid_row": null,
            "grid_template_areas": null,
            "grid_template_columns": null,
            "grid_template_rows": null,
            "height": null,
            "justify_content": null,
            "justify_items": null,
            "left": null,
            "margin": null,
            "max_height": null,
            "max_width": null,
            "min_height": null,
            "min_width": null,
            "object_fit": null,
            "object_position": null,
            "order": null,
            "overflow": null,
            "overflow_x": null,
            "overflow_y": null,
            "padding": null,
            "right": null,
            "top": null,
            "visibility": null,
            "width": null
          }
        },
        "2e307b1537fa4f8c92672c58e6d7235a": {
          "model_module": "@jupyter-widgets/base",
          "model_name": "LayoutModel",
          "model_module_version": "1.2.0",
          "state": {
            "_model_module": "@jupyter-widgets/base",
            "_model_module_version": "1.2.0",
            "_model_name": "LayoutModel",
            "_view_count": null,
            "_view_module": "@jupyter-widgets/base",
            "_view_module_version": "1.2.0",
            "_view_name": "LayoutView",
            "align_content": null,
            "align_items": null,
            "align_self": null,
            "border": null,
            "bottom": null,
            "display": null,
            "flex": null,
            "flex_flow": null,
            "grid_area": null,
            "grid_auto_columns": null,
            "grid_auto_flow": null,
            "grid_auto_rows": null,
            "grid_column": null,
            "grid_gap": null,
            "grid_row": null,
            "grid_template_areas": null,
            "grid_template_columns": null,
            "grid_template_rows": null,
            "height": null,
            "justify_content": null,
            "justify_items": null,
            "left": null,
            "margin": null,
            "max_height": null,
            "max_width": null,
            "min_height": null,
            "min_width": null,
            "object_fit": null,
            "object_position": null,
            "order": null,
            "overflow": null,
            "overflow_x": null,
            "overflow_y": null,
            "padding": null,
            "right": null,
            "top": null,
            "visibility": null,
            "width": null
          }
        },
        "9c34ac25c0bc447ea0670344338e4324": {
          "model_module": "@jupyter-widgets/controls",
          "model_name": "DescriptionStyleModel",
          "model_module_version": "1.5.0",
          "state": {
            "_model_module": "@jupyter-widgets/controls",
            "_model_module_version": "1.5.0",
            "_model_name": "DescriptionStyleModel",
            "_view_count": null,
            "_view_module": "@jupyter-widgets/base",
            "_view_module_version": "1.2.0",
            "_view_name": "StyleView",
            "description_width": ""
          }
        },
        "59f80c3d448342d4b8fad4b6cce3a484": {
          "model_module": "@jupyter-widgets/base",
          "model_name": "LayoutModel",
          "model_module_version": "1.2.0",
          "state": {
            "_model_module": "@jupyter-widgets/base",
            "_model_module_version": "1.2.0",
            "_model_name": "LayoutModel",
            "_view_count": null,
            "_view_module": "@jupyter-widgets/base",
            "_view_module_version": "1.2.0",
            "_view_name": "LayoutView",
            "align_content": null,
            "align_items": null,
            "align_self": null,
            "border": null,
            "bottom": null,
            "display": null,
            "flex": null,
            "flex_flow": null,
            "grid_area": null,
            "grid_auto_columns": null,
            "grid_auto_flow": null,
            "grid_auto_rows": null,
            "grid_column": null,
            "grid_gap": null,
            "grid_row": null,
            "grid_template_areas": null,
            "grid_template_columns": null,
            "grid_template_rows": null,
            "height": null,
            "justify_content": null,
            "justify_items": null,
            "left": null,
            "margin": null,
            "max_height": null,
            "max_width": null,
            "min_height": null,
            "min_width": null,
            "object_fit": null,
            "object_position": null,
            "order": null,
            "overflow": null,
            "overflow_x": null,
            "overflow_y": null,
            "padding": null,
            "right": null,
            "top": null,
            "visibility": null,
            "width": null
          }
        },
        "5a9b67d349054491a39d34ae84ffcbd8": {
          "model_module": "@jupyter-widgets/controls",
          "model_name": "ProgressStyleModel",
          "model_module_version": "1.5.0",
          "state": {
            "_model_module": "@jupyter-widgets/controls",
            "_model_module_version": "1.5.0",
            "_model_name": "ProgressStyleModel",
            "_view_count": null,
            "_view_module": "@jupyter-widgets/base",
            "_view_module_version": "1.2.0",
            "_view_name": "StyleView",
            "bar_color": null,
            "description_width": ""
          }
        },
        "767134633590437da9c2aa33a5638990": {
          "model_module": "@jupyter-widgets/base",
          "model_name": "LayoutModel",
          "model_module_version": "1.2.0",
          "state": {
            "_model_module": "@jupyter-widgets/base",
            "_model_module_version": "1.2.0",
            "_model_name": "LayoutModel",
            "_view_count": null,
            "_view_module": "@jupyter-widgets/base",
            "_view_module_version": "1.2.0",
            "_view_name": "LayoutView",
            "align_content": null,
            "align_items": null,
            "align_self": null,
            "border": null,
            "bottom": null,
            "display": null,
            "flex": null,
            "flex_flow": null,
            "grid_area": null,
            "grid_auto_columns": null,
            "grid_auto_flow": null,
            "grid_auto_rows": null,
            "grid_column": null,
            "grid_gap": null,
            "grid_row": null,
            "grid_template_areas": null,
            "grid_template_columns": null,
            "grid_template_rows": null,
            "height": null,
            "justify_content": null,
            "justify_items": null,
            "left": null,
            "margin": null,
            "max_height": null,
            "max_width": null,
            "min_height": null,
            "min_width": null,
            "object_fit": null,
            "object_position": null,
            "order": null,
            "overflow": null,
            "overflow_x": null,
            "overflow_y": null,
            "padding": null,
            "right": null,
            "top": null,
            "visibility": null,
            "width": null
          }
        },
        "4a058c62054645569850f8554d78520a": {
          "model_module": "@jupyter-widgets/controls",
          "model_name": "DescriptionStyleModel",
          "model_module_version": "1.5.0",
          "state": {
            "_model_module": "@jupyter-widgets/controls",
            "_model_module_version": "1.5.0",
            "_model_name": "DescriptionStyleModel",
            "_view_count": null,
            "_view_module": "@jupyter-widgets/base",
            "_view_module_version": "1.2.0",
            "_view_name": "StyleView",
            "description_width": ""
          }
        }
      }
    }
  },
  "cells": [
    {
      "cell_type": "markdown",
      "metadata": {
        "id": "view-in-github",
        "colab_type": "text"
      },
      "source": [
        "<a href=\"https://colab.research.google.com/github/kabilan942/Natural-Language-Processing/blob/main/Legal%20Document%20Summarization/legal_CODES.ipynb\" target=\"_parent\"><img src=\"https://colab.research.google.com/assets/colab-badge.svg\" alt=\"Open In Colab\"/></a>"
      ]
    },
    {
      "cell_type": "markdown",
      "source": [
        "# CODE 1: In-Ext Analyzer"
      ],
      "metadata": {
        "id": "Kfs680-RHzQf"
      }
    },
    {
      "cell_type": "code",
      "source": [
        "import pandas as pd\n",
        "import numpy as np\n",
        "import glob\n",
        "import json\n",
        "import os\n",
        "import sys\n",
        "from tqdm import tqdm\n",
        "sys.path.insert(0, '../')\n",
        "import nltk\n",
        "nltk.download('punkt')"
      ],
      "metadata": {
        "id": "A0plzW08Ijib"
      },
      "execution_count": null,
      "outputs": []
    },
    {
      "cell_type": "code",
      "source": [
        "def get_root_path():\n",
        "    '''\n",
        "    function to get root path of dataset\n",
        "    change the path variable to the path of the dataset\n",
        "    '''\n",
        "    # path = \"/home/pahelibhattacharya/Abhayv2/camera_ready/summarization/dataset\"\n",
        "    path = \"/content/drive/MyDrive/ExtractiveDataset/test-data\"\n",
        "    return path\n",
        "\n",
        "def get_summary_data():\n",
        "    '''\n",
        "    function to get names, documents, and summaries\n",
        "    change the path variable to the path of the dataset\n",
        "    '''\n",
        "\n",
        "    path = get_root_path() + '/judgement'\n",
        "    all_files = glob.glob(path + \"/*.txt\")\n",
        "    data_source = []\n",
        "    name_source = []\n",
        "    for filename in all_files:\n",
        "      with open(filename, 'r') as f:\n",
        "        p = filename.rfind(\"/\")\n",
        "        name_source.append(filename[p+1:])\n",
        "        a = f.read()\n",
        "        data_source.append(a)\n",
        "    path = get_root_path() + '/summary/A1'\n",
        "    all_files = glob.glob(path + \"/*.txt\")\n",
        "    data_summary_a1 = []\n",
        "    name_a1 = []\n",
        "    for filename in all_files:\n",
        "      with open(filename, 'r') as f:\n",
        "        p = filename.rfind(\"/\")\n",
        "        name_a1.append(filename[p+1:])\n",
        "        a = f.read()\n",
        "        data_summary_a1.append(a)\n",
        "    path = get_root_path() + '/summary/A2'\n",
        "    all_files = glob.glob(path + \"/*.txt\")\n",
        "    data_summary_a2 = []\n",
        "    name_a2 = []\n",
        "    for filename in all_files:\n",
        "      with open(filename, 'r') as f:\n",
        "        p = filename.rfind(\"/\")\n",
        "        name_a2.append(filename[p+1:])\n",
        "        a = f.read()\n",
        "        data_summary_a2.append(a)\n",
        "\n",
        "    return name_source, data_source, data_summary_a1, name_a1, data_summary_a2, name_a2"
      ],
      "metadata": {
        "id": "L73BSha6H3Mr"
      },
      "execution_count": null,
      "outputs": []
    },
    {
      "cell_type": "code",
      "source": [
        "name_source, data_source, data_summary_a1, name_a1, data_summary_a2, name_a2 = get_summary_data()"
      ],
      "metadata": {
        "colab": {
          "base_uri": "https://localhost:8080/"
        },
        "id": "IkLxQgu2H3P6",
        "outputId": "b48938b3-b9f4-473e-a497-5a3e10e0ad59"
      },
      "execution_count": null,
      "outputs": [
        {
          "output_type": "stream",
          "name": "stdout",
          "text": [
            "5\n",
            "5\n",
            "5\n"
          ]
        }
      ]
    },
    {
      "cell_type": "code",
      "source": [
        "temp_dict_a2 = {}\n",
        "for i in range(len(name_a2)):\n",
        "  temp_dict_a2[name_a2[i]]=i"
      ],
      "metadata": {
        "id": "d6aHe2-zNTi1"
      },
      "execution_count": null,
      "outputs": []
    },
    {
      "cell_type": "code",
      "source": [
        "temp_dict_a1 = {}\n",
        "for i in range(len(name_a1)):\n",
        "  temp_dict_a1[name_a1[i]]=i"
      ],
      "metadata": {
        "id": "N93kN_ASTojW"
      },
      "execution_count": null,
      "outputs": []
    },
    {
      "cell_type": "code",
      "source": [
        "temp_dict_a1, temp_dict_a2"
      ],
      "metadata": {
        "colab": {
          "base_uri": "https://localhost:8080/"
        },
        "id": "ho7AxGyXOk52",
        "outputId": "8c03304c-8d78-4076-97ed-e0f5f4dd8bbb"
      },
      "execution_count": null,
      "outputs": [
        {
          "output_type": "execute_result",
          "data": {
            "text/plain": [
              "({'2012_S_270.txt': 0,\n",
              "  '2015_S_368.txt': 1,\n",
              "  '2014_R_41.txt': 2,\n",
              "  '2015_J_10.txt': 3,\n",
              "  '2014_J_33.txt': 4},\n",
              " {'2015_S_368.txt': 0,\n",
              "  '2014_J_33.txt': 1,\n",
              "  '2012_S_270.txt': 2,\n",
              "  '2015_J_10.txt': 3,\n",
              "  '2014_R_41.txt': 4})"
            ]
          },
          "metadata": {},
          "execution_count": 112
        }
      ]
    },
    {
      "cell_type": "code",
      "source": [
        "def split_to_sentences(para):\n",
        "  sents = nltk.sent_tokenize(para)   # returns list of sentences from para\n",
        "  return sents"
      ],
      "metadata": {
        "id": "xyjFdiEhUoCw"
      },
      "execution_count": null,
      "outputs": []
    },
    {
      "cell_type": "code",
      "source": [
        "summ_a1 = []\n",
        "summ_a2 = []\n",
        "doc_sent_count = []\n",
        "summ_a1_sent_count = []\n",
        "summ_a2_sent_count = []\n",
        "avg_summ_sent = []\n",
        "doc_word_count = []\n",
        "summ_a1_word_count = []\n",
        "summ_a2_word_count = []\n",
        "avg_summ_word = []\n",
        "\n",
        "for i in range(len(name_source)):\n",
        "  title = name_source[i]\n",
        "  doc_sent_count.append(len(split_to_sentences(data_source[i])))\n",
        "  doc_word_count.append(len(data_source[i].split(' ')))\n",
        "\n",
        "  index_a1 = temp_dict_a1[title]\n",
        "  s1 = data_summary_a1[index_a1]\n",
        "  summ_a1.append(s1)\n",
        "  summ_a1_sent_count.append(len(split_to_sentences(s1)))\n",
        "  summ_a1_word_count.append(len(s1.split(' ')))\n",
        "\n",
        "  index_a2 = temp_dict_a2[title]\n",
        "  s2 = data_summary_a2[index_a2]\n",
        "  summ_a2.append(s2)\n",
        "  summ_a2_sent_count.append(len(split_to_sentences(s2)))\n",
        "  summ_a2_word_count.append(len(s2.split(' ')))\n",
        "\n",
        "  avg_sent_count = 0.5*((len(split_to_sentences(s1)))+(len(split_to_sentences(s2))))\n",
        "  avg_summ_sent.append(int(avg_sent_count))\n",
        "\n",
        "  avg_word_count = 0.5*((len(s1.split(' ')))+(len(s2.split(' '))))\n",
        "  avg_summ_word.append(int(avg_word_count))"
      ],
      "metadata": {
        "id": "AdYdSvLKTF0i"
      },
      "execution_count": null,
      "outputs": []
    },
    {
      "cell_type": "code",
      "source": [
        "average_doc_sents = sum(doc_sent_count)/len(doc_sent_count)\n",
        "average_doc_words = sum(doc_word_count)/len(doc_word_count)\n",
        "average_summ_sents = sum(avg_summ_sent)/len(avg_summ_sent)\n",
        "average_summ_words = sum(avg_summ_word)/len(avg_summ_word)\n",
        "\n",
        "print('Average number of sentences in docs:', average_doc_sents)\n",
        "print('Average number of sentences in summaries:', average_summ_sents)\n",
        "print('Average number of words in docs:', average_doc_words)\n",
        "print('Average number of words in summaries:', average_summ_words)"
      ],
      "metadata": {
        "colab": {
          "base_uri": "https://localhost:8080/"
        },
        "id": "4pF0I10hYUkZ",
        "outputId": "a42cde56-c693-420a-ceac-9ce02ea23481"
      },
      "execution_count": null,
      "outputs": [
        {
          "output_type": "stream",
          "name": "stdout",
          "text": [
            "Average number of sentences in docs: 140.0\n",
            "Average number of sentences in summaries: 53.2\n",
            "Average number of words in docs: 3806.6\n",
            "Average number of words in summaries: 1194.6\n"
          ]
        }
      ]
    },
    {
      "cell_type": "code",
      "source": [
        "df = pd.DataFrame({'File':name_source, 'Document':data_source, 'Summary A1':summ_a1, 'Summary A2':summ_a2, 'Document Sentence Count':doc_sent_count, 'Document Word Count':doc_word_count,\n",
        "                   'Summary Sentence Count A1':summ_a1_sent_count, 'Summary Sentence Count A2':summ_a2_sent_count, 'Average Summary Sentence Count':avg_summ_sent,\n",
        "                   'Summary Word Count A1':summ_a1_word_count, 'Summary Word Count A2':summ_a2_word_count, 'L = Average Summary Word Count':avg_summ_word})"
      ],
      "metadata": {
        "id": "hDdcEDsNV-_9"
      },
      "execution_count": null,
      "outputs": []
    },
    {
      "cell_type": "code",
      "source": [
        "df.head()"
      ],
      "metadata": {
        "colab": {
          "base_uri": "https://localhost:8080/",
          "height": 545
        },
        "id": "0-E1uCyiXxcm",
        "outputId": "0e08a1fe-58d7-46dc-cbb8-47b8764be894"
      },
      "execution_count": null,
      "outputs": [
        {
          "output_type": "execute_result",
          "data": {
            "text/plain": [
              "             File                                           Document  \\\n",
              "0  2012_S_270.txt  accused pathan hussain basha was married to pa...   \n",
              "1   2014_J_33.txt  in these appeals the dispute relates to paymen...   \n",
              "2   2014_R_41.txt  leave granted in slp crl.\\nno 37372014.\\nthese...   \n",
              "3   2015_J_10.txt  this appeal is preferred against the judgment ...   \n",
              "4  2015_S_368.txt  this appeal by special leave is directed again...   \n",
              "\n",
              "                                          Summary A1  \\\n",
              "0  FACTS\\naccused pathan hussain basha,was marrie...   \n",
              "1  FACTS\\nin these appeals the dispute relates to...   \n",
              "2  FACTS\\nthe appellant -raju (accused no.4) has ...   \n",
              "3  FACTS\\nthis appeal is preferred against the ju...   \n",
              "4  FACTS\\nsurvey nos.118,328 and 351 of lonavala ...   \n",
              "\n",
              "                                          Summary A2  Document Sentence Count  \\\n",
              "0  FACTS\\naccused pathan hussain basha,was marrie...                      156   \n",
              "1  FACTS\\nthe company preferred two writ petition...                      146   \n",
              "2  FACTS\\nthe appellant -raju (accused no.4) has ...                      143   \n",
              "3  FACTS\\non 18.11.1994, at about 8.00 a.m. in th...                      119   \n",
              "4  FACTS\\nsurvey nos.118,328 and 351 of lonavala ...                      136   \n",
              "\n",
              "   Document Word Count  Summary Sentence Count A1  Summary Sentence Count A2  \\\n",
              "0                 4248                         56                         64   \n",
              "1                 3732                         48                         45   \n",
              "2                 3293                         54                         58   \n",
              "3                 2816                         60                         58   \n",
              "4                 4944                         45                         45   \n",
              "\n",
              "   Average Summary Sentence Count  Summary Word Count A1  \\\n",
              "0                              60                   1271   \n",
              "1                              46                   1000   \n",
              "2                              56                   1042   \n",
              "3                              59                   1123   \n",
              "4                              45                   1395   \n",
              "\n",
              "   Summary Word Count A2  L = Average Summary Word Count  \n",
              "0                   1454                            1362  \n",
              "1                   1014                            1007  \n",
              "2                   1114                            1078  \n",
              "3                   1129                            1126  \n",
              "4                   1406                            1400  "
            ],
            "text/html": [
              "\n",
              "\n",
              "  <div id=\"df-ad0b40d7-8a6a-4755-a3e6-2dd550214f4e\">\n",
              "    <div class=\"colab-df-container\">\n",
              "      <div>\n",
              "<style scoped>\n",
              "    .dataframe tbody tr th:only-of-type {\n",
              "        vertical-align: middle;\n",
              "    }\n",
              "\n",
              "    .dataframe tbody tr th {\n",
              "        vertical-align: top;\n",
              "    }\n",
              "\n",
              "    .dataframe thead th {\n",
              "        text-align: right;\n",
              "    }\n",
              "</style>\n",
              "<table border=\"1\" class=\"dataframe\">\n",
              "  <thead>\n",
              "    <tr style=\"text-align: right;\">\n",
              "      <th></th>\n",
              "      <th>File</th>\n",
              "      <th>Document</th>\n",
              "      <th>Summary A1</th>\n",
              "      <th>Summary A2</th>\n",
              "      <th>Document Sentence Count</th>\n",
              "      <th>Document Word Count</th>\n",
              "      <th>Summary Sentence Count A1</th>\n",
              "      <th>Summary Sentence Count A2</th>\n",
              "      <th>Average Summary Sentence Count</th>\n",
              "      <th>Summary Word Count A1</th>\n",
              "      <th>Summary Word Count A2</th>\n",
              "      <th>L = Average Summary Word Count</th>\n",
              "    </tr>\n",
              "  </thead>\n",
              "  <tbody>\n",
              "    <tr>\n",
              "      <th>0</th>\n",
              "      <td>2012_S_270.txt</td>\n",
              "      <td>accused pathan hussain basha was married to pa...</td>\n",
              "      <td>FACTS\\naccused pathan hussain basha,was marrie...</td>\n",
              "      <td>FACTS\\naccused pathan hussain basha,was marrie...</td>\n",
              "      <td>156</td>\n",
              "      <td>4248</td>\n",
              "      <td>56</td>\n",
              "      <td>64</td>\n",
              "      <td>60</td>\n",
              "      <td>1271</td>\n",
              "      <td>1454</td>\n",
              "      <td>1362</td>\n",
              "    </tr>\n",
              "    <tr>\n",
              "      <th>1</th>\n",
              "      <td>2014_J_33.txt</td>\n",
              "      <td>in these appeals the dispute relates to paymen...</td>\n",
              "      <td>FACTS\\nin these appeals the dispute relates to...</td>\n",
              "      <td>FACTS\\nthe company preferred two writ petition...</td>\n",
              "      <td>146</td>\n",
              "      <td>3732</td>\n",
              "      <td>48</td>\n",
              "      <td>45</td>\n",
              "      <td>46</td>\n",
              "      <td>1000</td>\n",
              "      <td>1014</td>\n",
              "      <td>1007</td>\n",
              "    </tr>\n",
              "    <tr>\n",
              "      <th>2</th>\n",
              "      <td>2014_R_41.txt</td>\n",
              "      <td>leave granted in slp crl.\\nno 37372014.\\nthese...</td>\n",
              "      <td>FACTS\\nthe appellant -raju (accused no.4) has ...</td>\n",
              "      <td>FACTS\\nthe appellant -raju (accused no.4) has ...</td>\n",
              "      <td>143</td>\n",
              "      <td>3293</td>\n",
              "      <td>54</td>\n",
              "      <td>58</td>\n",
              "      <td>56</td>\n",
              "      <td>1042</td>\n",
              "      <td>1114</td>\n",
              "      <td>1078</td>\n",
              "    </tr>\n",
              "    <tr>\n",
              "      <th>3</th>\n",
              "      <td>2015_J_10.txt</td>\n",
              "      <td>this appeal is preferred against the judgment ...</td>\n",
              "      <td>FACTS\\nthis appeal is preferred against the ju...</td>\n",
              "      <td>FACTS\\non 18.11.1994, at about 8.00 a.m. in th...</td>\n",
              "      <td>119</td>\n",
              "      <td>2816</td>\n",
              "      <td>60</td>\n",
              "      <td>58</td>\n",
              "      <td>59</td>\n",
              "      <td>1123</td>\n",
              "      <td>1129</td>\n",
              "      <td>1126</td>\n",
              "    </tr>\n",
              "    <tr>\n",
              "      <th>4</th>\n",
              "      <td>2015_S_368.txt</td>\n",
              "      <td>this appeal by special leave is directed again...</td>\n",
              "      <td>FACTS\\nsurvey nos.118,328 and 351 of lonavala ...</td>\n",
              "      <td>FACTS\\nsurvey nos.118,328 and 351 of lonavala ...</td>\n",
              "      <td>136</td>\n",
              "      <td>4944</td>\n",
              "      <td>45</td>\n",
              "      <td>45</td>\n",
              "      <td>45</td>\n",
              "      <td>1395</td>\n",
              "      <td>1406</td>\n",
              "      <td>1400</td>\n",
              "    </tr>\n",
              "  </tbody>\n",
              "</table>\n",
              "</div>\n",
              "      <button class=\"colab-df-convert\" onclick=\"convertToInteractive('df-ad0b40d7-8a6a-4755-a3e6-2dd550214f4e')\"\n",
              "              title=\"Convert this dataframe to an interactive table.\"\n",
              "              style=\"display:none;\">\n",
              "\n",
              "  <svg xmlns=\"http://www.w3.org/2000/svg\" height=\"24px\"viewBox=\"0 0 24 24\"\n",
              "       width=\"24px\">\n",
              "    <path d=\"M0 0h24v24H0V0z\" fill=\"none\"/>\n",
              "    <path d=\"M18.56 5.44l.94 2.06.94-2.06 2.06-.94-2.06-.94-.94-2.06-.94 2.06-2.06.94zm-11 1L8.5 8.5l.94-2.06 2.06-.94-2.06-.94L8.5 2.5l-.94 2.06-2.06.94zm10 10l.94 2.06.94-2.06 2.06-.94-2.06-.94-.94-2.06-.94 2.06-2.06.94z\"/><path d=\"M17.41 7.96l-1.37-1.37c-.4-.4-.92-.59-1.43-.59-.52 0-1.04.2-1.43.59L10.3 9.45l-7.72 7.72c-.78.78-.78 2.05 0 2.83L4 21.41c.39.39.9.59 1.41.59.51 0 1.02-.2 1.41-.59l7.78-7.78 2.81-2.81c.8-.78.8-2.07 0-2.86zM5.41 20L4 18.59l7.72-7.72 1.47 1.35L5.41 20z\"/>\n",
              "  </svg>\n",
              "      </button>\n",
              "\n",
              "\n",
              "\n",
              "    <div id=\"df-0002c0fe-8917-4656-9db3-13e155fd04f7\">\n",
              "      <button class=\"colab-df-quickchart\" onclick=\"quickchart('df-0002c0fe-8917-4656-9db3-13e155fd04f7')\"\n",
              "              title=\"Suggest charts.\"\n",
              "              style=\"display:none;\">\n",
              "\n",
              "<svg xmlns=\"http://www.w3.org/2000/svg\" height=\"24px\"viewBox=\"0 0 24 24\"\n",
              "     width=\"24px\">\n",
              "    <g>\n",
              "        <path d=\"M19 3H5c-1.1 0-2 .9-2 2v14c0 1.1.9 2 2 2h14c1.1 0 2-.9 2-2V5c0-1.1-.9-2-2-2zM9 17H7v-7h2v7zm4 0h-2V7h2v10zm4 0h-2v-4h2v4z\"/>\n",
              "    </g>\n",
              "</svg>\n",
              "      </button>\n",
              "    </div>\n",
              "\n",
              "<style>\n",
              "  .colab-df-quickchart {\n",
              "    background-color: #E8F0FE;\n",
              "    border: none;\n",
              "    border-radius: 50%;\n",
              "    cursor: pointer;\n",
              "    display: none;\n",
              "    fill: #1967D2;\n",
              "    height: 32px;\n",
              "    padding: 0 0 0 0;\n",
              "    width: 32px;\n",
              "  }\n",
              "\n",
              "  .colab-df-quickchart:hover {\n",
              "    background-color: #E2EBFA;\n",
              "    box-shadow: 0px 1px 2px rgba(60, 64, 67, 0.3), 0px 1px 3px 1px rgba(60, 64, 67, 0.15);\n",
              "    fill: #174EA6;\n",
              "  }\n",
              "\n",
              "  [theme=dark] .colab-df-quickchart {\n",
              "    background-color: #3B4455;\n",
              "    fill: #D2E3FC;\n",
              "  }\n",
              "\n",
              "  [theme=dark] .colab-df-quickchart:hover {\n",
              "    background-color: #434B5C;\n",
              "    box-shadow: 0px 1px 3px 1px rgba(0, 0, 0, 0.15);\n",
              "    filter: drop-shadow(0px 1px 2px rgba(0, 0, 0, 0.3));\n",
              "    fill: #FFFFFF;\n",
              "  }\n",
              "</style>\n",
              "\n",
              "    <script>\n",
              "      async function quickchart(key) {\n",
              "        const containerElement = document.querySelector('#' + key);\n",
              "        const charts = await google.colab.kernel.invokeFunction(\n",
              "            'suggestCharts', [key], {});\n",
              "      }\n",
              "    </script>\n",
              "\n",
              "      <script>\n",
              "\n",
              "function displayQuickchartButton(domScope) {\n",
              "  let quickchartButtonEl =\n",
              "    domScope.querySelector('#df-0002c0fe-8917-4656-9db3-13e155fd04f7 button.colab-df-quickchart');\n",
              "  quickchartButtonEl.style.display =\n",
              "    google.colab.kernel.accessAllowed ? 'block' : 'none';\n",
              "}\n",
              "\n",
              "        displayQuickchartButton(document);\n",
              "      </script>\n",
              "      <style>\n",
              "    .colab-df-container {\n",
              "      display:flex;\n",
              "      flex-wrap:wrap;\n",
              "      gap: 12px;\n",
              "    }\n",
              "\n",
              "    .colab-df-convert {\n",
              "      background-color: #E8F0FE;\n",
              "      border: none;\n",
              "      border-radius: 50%;\n",
              "      cursor: pointer;\n",
              "      display: none;\n",
              "      fill: #1967D2;\n",
              "      height: 32px;\n",
              "      padding: 0 0 0 0;\n",
              "      width: 32px;\n",
              "    }\n",
              "\n",
              "    .colab-df-convert:hover {\n",
              "      background-color: #E2EBFA;\n",
              "      box-shadow: 0px 1px 2px rgba(60, 64, 67, 0.3), 0px 1px 3px 1px rgba(60, 64, 67, 0.15);\n",
              "      fill: #174EA6;\n",
              "    }\n",
              "\n",
              "    [theme=dark] .colab-df-convert {\n",
              "      background-color: #3B4455;\n",
              "      fill: #D2E3FC;\n",
              "    }\n",
              "\n",
              "    [theme=dark] .colab-df-convert:hover {\n",
              "      background-color: #434B5C;\n",
              "      box-shadow: 0px 1px 3px 1px rgba(0, 0, 0, 0.15);\n",
              "      filter: drop-shadow(0px 1px 2px rgba(0, 0, 0, 0.3));\n",
              "      fill: #FFFFFF;\n",
              "    }\n",
              "  </style>\n",
              "\n",
              "      <script>\n",
              "        const buttonEl =\n",
              "          document.querySelector('#df-ad0b40d7-8a6a-4755-a3e6-2dd550214f4e button.colab-df-convert');\n",
              "        buttonEl.style.display =\n",
              "          google.colab.kernel.accessAllowed ? 'block' : 'none';\n",
              "\n",
              "        async function convertToInteractive(key) {\n",
              "          const element = document.querySelector('#df-ad0b40d7-8a6a-4755-a3e6-2dd550214f4e');\n",
              "          const dataTable =\n",
              "            await google.colab.kernel.invokeFunction('convertToInteractive',\n",
              "                                                     [key], {});\n",
              "          if (!dataTable) return;\n",
              "\n",
              "          const docLinkHtml = 'Like what you see? Visit the ' +\n",
              "            '<a target=\"_blank\" href=https://colab.research.google.com/notebooks/data_table.ipynb>data table notebook</a>'\n",
              "            + ' to learn more about interactive tables.';\n",
              "          element.innerHTML = '';\n",
              "          dataTable['output_type'] = 'display_data';\n",
              "          await google.colab.output.renderOutput(dataTable, element);\n",
              "          const docLink = document.createElement('div');\n",
              "          docLink.innerHTML = docLinkHtml;\n",
              "          element.appendChild(docLink);\n",
              "        }\n",
              "      </script>\n",
              "    </div>\n",
              "  </div>\n"
            ]
          },
          "metadata": {},
          "execution_count": 130
        }
      ]
    },
    {
      "cell_type": "code",
      "source": [
        "df.to_csv('Extractive Test Dataset Analysis.csv')"
      ],
      "metadata": {
        "id": "1tQDe8ABX_R-"
      },
      "execution_count": null,
      "outputs": []
    },
    {
      "cell_type": "markdown",
      "source": [
        "# CODE 2: In-Abs Analyzer"
      ],
      "metadata": {
        "id": "6V0KIsWCOnGq"
      }
    },
    {
      "cell_type": "code",
      "source": [
        "import pandas as pd\n",
        "import numpy as np\n",
        "import glob\n",
        "import json\n",
        "import os\n",
        "import sys\n",
        "from tqdm import tqdm\n",
        "sys.path.insert(0, '../')\n",
        "import nltk\n",
        "nltk.download('punkt')"
      ],
      "metadata": {
        "colab": {
          "base_uri": "https://localhost:8080/"
        },
        "id": "ZDLanq-ZOrI-",
        "outputId": "6fc2dca9-de0d-4940-e332-05595c7da296"
      },
      "execution_count": null,
      "outputs": [
        {
          "output_type": "stream",
          "name": "stderr",
          "text": [
            "[nltk_data] Downloading package punkt to /root/nltk_data...\n",
            "[nltk_data]   Unzipping tokenizers/punkt.zip.\n"
          ]
        },
        {
          "output_type": "execute_result",
          "data": {
            "text/plain": [
              "True"
            ]
          },
          "metadata": {},
          "execution_count": 51
        }
      ]
    },
    {
      "cell_type": "code",
      "execution_count": null,
      "metadata": {
        "id": "aCB5zzQpxGLg"
      },
      "outputs": [],
      "source": [
        "def get_root_path():\n",
        "    '''\n",
        "    function to get root path of dataset\n",
        "    change the path variable to the path of the dataset\n",
        "    '''\n",
        "    path = \"/content/drive/MyDrive/AbstractiveDataset\"\n",
        "    return path\n",
        "\n",
        "def get_summary_data():\n",
        "    '''\n",
        "    function to get names, documents, and summaries\n",
        "    change the path variable to the path of the dataset\n",
        "    '''\n",
        "\n",
        "    path = get_root_path() + '/judgement'\n",
        "    all_files = glob.glob(path + \"/*.txt\")\n",
        "    data_source = []\n",
        "    names = []\n",
        "    for filename in all_files:\n",
        "        with open(filename, 'r') as f:\n",
        "            p = filename.rfind(\"/\")\n",
        "            names.append(filename[p+1:])\n",
        "            a = f.read()\n",
        "            data_source.append(a)\n",
        "    path = get_root_path() + '/summary'\n",
        "    all_files = glob.glob(path + \"/*.txt\")\n",
        "    data_summary = []\n",
        "    for filename in all_files:\n",
        "        with open(filename, 'r') as f:\n",
        "            a = f.read()\n",
        "            l = len(a)\n",
        "            data_summary.append(a)\n",
        "\n",
        "    return names, data_source, data_summary"
      ]
    },
    {
      "cell_type": "code",
      "source": [
        "names, data_source, data_summary = get_summary_data()\n",
        "print(len(names))\n",
        "print(len(data_source))\n",
        "print(len(data_summary))\n"
      ],
      "metadata": {
        "colab": {
          "base_uri": "https://localhost:8080/"
        },
        "id": "VqKnTfS_hDGs",
        "outputId": "699e046a-0341-4af0-e39c-7f9e9cef439e"
      },
      "execution_count": null,
      "outputs": [
        {
          "output_type": "stream",
          "name": "stdout",
          "text": [
            "1\n",
            "1\n",
            "1\n"
          ]
        }
      ]
    },
    {
      "cell_type": "code",
      "source": [
        "def split_to_sentences(para):\n",
        "    sents = nltk.sent_tokenize(para)   # returns list of sentences from para\n",
        "    return sents"
      ],
      "metadata": {
        "id": "kv3G0jzeO0Cw"
      },
      "execution_count": null,
      "outputs": []
    },
    {
      "cell_type": "code",
      "source": [
        "doc_sent_count = []\n",
        "summ_sent_count = []\n",
        "doc_word_count = []\n",
        "summ_word_count = []\n",
        "\n",
        "for i in range(len(names)):\n",
        "  doc_sent_count.append(len(split_to_sentences(data_source[i])))\n",
        "  summ_sent_count.append(len(split_to_sentences(data_summary[i])))\n",
        "  doc_word_count.append(len(data_source[i].split(' ')))\n",
        "  summ_word_count.append(len(data_summary[i].split(' ')))"
      ],
      "metadata": {
        "id": "MWonWR4uPlCY"
      },
      "execution_count": null,
      "outputs": []
    },
    {
      "cell_type": "code",
      "source": [
        "average_doc_sents = sum(doc_sent_count)/len(doc_sent_count)\n",
        "average_doc_words = sum(doc_word_count)/len(doc_word_count)\n",
        "average_summ_sents = sum(summ_sent_count)/len(summ_sent_count)\n",
        "average_summ_words = sum(summ_word_count)/len(summ_word_count)\n",
        "\n",
        "print('Average number of sentences in docs:', average_doc_sents)\n",
        "print('Average number of sentences in summaries:', average_summ_sents)\n",
        "print('Average number of words in docs:', average_doc_words)\n",
        "print('Average number of words in summaries:', average_summ_words)"
      ],
      "metadata": {
        "colab": {
          "base_uri": "https://localhost:8080/"
        },
        "id": "uCpRnULsaK8y",
        "outputId": "bd554395-b380-4a84-acec-2c9d79d62f72"
      },
      "execution_count": null,
      "outputs": [
        {
          "output_type": "stream",
          "name": "stdout",
          "text": [
            "Average number of sentences in docs: 132.0\n",
            "Average number of sentences in summaries: 5.0\n",
            "Average number of words in docs: 3278.0\n",
            "Average number of words in summaries: 150.0\n"
          ]
        }
      ]
    },
    {
      "cell_type": "code",
      "source": [
        "df = pd.DataFrame({'File':names, 'Document':data_source, 'Summary':data_summary, 'Document Sentence Count':doc_sent_count,\n",
        "                   'Summary Sentence Count':summ_sent_count, 'Document Word Count':doc_word_count, 'Summary Word Count':summ_word_count})"
      ],
      "metadata": {
        "id": "I0kJLP6zQ2v2"
      },
      "execution_count": null,
      "outputs": []
    },
    {
      "cell_type": "code",
      "source": [
        "df.head()"
      ],
      "metadata": {
        "colab": {
          "base_uri": "https://localhost:8080/",
          "height": 159
        },
        "id": "oT1WsK1zRjZr",
        "outputId": "a39b8dc1-c776-40a6-e1b9-7b48e23c736a"
      },
      "execution_count": null,
      "outputs": [
        {
          "output_type": "execute_result",
          "data": {
            "text/plain": [
              "    File                                           Document  \\\n",
              "0  1.txt  Appeal No. LXVI of 1949.\\nAppeal from the High...   \n",
              "\n",
              "                                             Summary  Document Sentence Count  \\\n",
              "0  The charge created in respect of municipal pro...                      132   \n",
              "\n",
              "   Summary Sentence Count  Document Word Count  Summary Word Count  \n",
              "0                       5                 3278                 150  "
            ],
            "text/html": [
              "\n",
              "\n",
              "  <div id=\"df-17ff4f58-9fc2-4e7c-9ac1-0c5db5e4a5c4\">\n",
              "    <div class=\"colab-df-container\">\n",
              "      <div>\n",
              "<style scoped>\n",
              "    .dataframe tbody tr th:only-of-type {\n",
              "        vertical-align: middle;\n",
              "    }\n",
              "\n",
              "    .dataframe tbody tr th {\n",
              "        vertical-align: top;\n",
              "    }\n",
              "\n",
              "    .dataframe thead th {\n",
              "        text-align: right;\n",
              "    }\n",
              "</style>\n",
              "<table border=\"1\" class=\"dataframe\">\n",
              "  <thead>\n",
              "    <tr style=\"text-align: right;\">\n",
              "      <th></th>\n",
              "      <th>File</th>\n",
              "      <th>Document</th>\n",
              "      <th>Summary</th>\n",
              "      <th>Document Sentence Count</th>\n",
              "      <th>Summary Sentence Count</th>\n",
              "      <th>Document Word Count</th>\n",
              "      <th>Summary Word Count</th>\n",
              "    </tr>\n",
              "  </thead>\n",
              "  <tbody>\n",
              "    <tr>\n",
              "      <th>0</th>\n",
              "      <td>1.txt</td>\n",
              "      <td>Appeal No. LXVI of 1949.\\nAppeal from the High...</td>\n",
              "      <td>The charge created in respect of municipal pro...</td>\n",
              "      <td>132</td>\n",
              "      <td>5</td>\n",
              "      <td>3278</td>\n",
              "      <td>150</td>\n",
              "    </tr>\n",
              "  </tbody>\n",
              "</table>\n",
              "</div>\n",
              "      <button class=\"colab-df-convert\" onclick=\"convertToInteractive('df-17ff4f58-9fc2-4e7c-9ac1-0c5db5e4a5c4')\"\n",
              "              title=\"Convert this dataframe to an interactive table.\"\n",
              "              style=\"display:none;\">\n",
              "\n",
              "  <svg xmlns=\"http://www.w3.org/2000/svg\" height=\"24px\"viewBox=\"0 0 24 24\"\n",
              "       width=\"24px\">\n",
              "    <path d=\"M0 0h24v24H0V0z\" fill=\"none\"/>\n",
              "    <path d=\"M18.56 5.44l.94 2.06.94-2.06 2.06-.94-2.06-.94-.94-2.06-.94 2.06-2.06.94zm-11 1L8.5 8.5l.94-2.06 2.06-.94-2.06-.94L8.5 2.5l-.94 2.06-2.06.94zm10 10l.94 2.06.94-2.06 2.06-.94-2.06-.94-.94-2.06-.94 2.06-2.06.94z\"/><path d=\"M17.41 7.96l-1.37-1.37c-.4-.4-.92-.59-1.43-.59-.52 0-1.04.2-1.43.59L10.3 9.45l-7.72 7.72c-.78.78-.78 2.05 0 2.83L4 21.41c.39.39.9.59 1.41.59.51 0 1.02-.2 1.41-.59l7.78-7.78 2.81-2.81c.8-.78.8-2.07 0-2.86zM5.41 20L4 18.59l7.72-7.72 1.47 1.35L5.41 20z\"/>\n",
              "  </svg>\n",
              "      </button>\n",
              "\n",
              "\n",
              "\n",
              "    <div id=\"df-5b87bdf7-cb26-4e45-8ac3-2f30d2221b2d\">\n",
              "      <button class=\"colab-df-quickchart\" onclick=\"quickchart('df-5b87bdf7-cb26-4e45-8ac3-2f30d2221b2d')\"\n",
              "              title=\"Suggest charts.\"\n",
              "              style=\"display:none;\">\n",
              "\n",
              "<svg xmlns=\"http://www.w3.org/2000/svg\" height=\"24px\"viewBox=\"0 0 24 24\"\n",
              "     width=\"24px\">\n",
              "    <g>\n",
              "        <path d=\"M19 3H5c-1.1 0-2 .9-2 2v14c0 1.1.9 2 2 2h14c1.1 0 2-.9 2-2V5c0-1.1-.9-2-2-2zM9 17H7v-7h2v7zm4 0h-2V7h2v10zm4 0h-2v-4h2v4z\"/>\n",
              "    </g>\n",
              "</svg>\n",
              "      </button>\n",
              "    </div>\n",
              "\n",
              "<style>\n",
              "  .colab-df-quickchart {\n",
              "    background-color: #E8F0FE;\n",
              "    border: none;\n",
              "    border-radius: 50%;\n",
              "    cursor: pointer;\n",
              "    display: none;\n",
              "    fill: #1967D2;\n",
              "    height: 32px;\n",
              "    padding: 0 0 0 0;\n",
              "    width: 32px;\n",
              "  }\n",
              "\n",
              "  .colab-df-quickchart:hover {\n",
              "    background-color: #E2EBFA;\n",
              "    box-shadow: 0px 1px 2px rgba(60, 64, 67, 0.3), 0px 1px 3px 1px rgba(60, 64, 67, 0.15);\n",
              "    fill: #174EA6;\n",
              "  }\n",
              "\n",
              "  [theme=dark] .colab-df-quickchart {\n",
              "    background-color: #3B4455;\n",
              "    fill: #D2E3FC;\n",
              "  }\n",
              "\n",
              "  [theme=dark] .colab-df-quickchart:hover {\n",
              "    background-color: #434B5C;\n",
              "    box-shadow: 0px 1px 3px 1px rgba(0, 0, 0, 0.15);\n",
              "    filter: drop-shadow(0px 1px 2px rgba(0, 0, 0, 0.3));\n",
              "    fill: #FFFFFF;\n",
              "  }\n",
              "</style>\n",
              "\n",
              "    <script>\n",
              "      async function quickchart(key) {\n",
              "        const containerElement = document.querySelector('#' + key);\n",
              "        const charts = await google.colab.kernel.invokeFunction(\n",
              "            'suggestCharts', [key], {});\n",
              "      }\n",
              "    </script>\n",
              "\n",
              "      <script>\n",
              "\n",
              "function displayQuickchartButton(domScope) {\n",
              "  let quickchartButtonEl =\n",
              "    domScope.querySelector('#df-5b87bdf7-cb26-4e45-8ac3-2f30d2221b2d button.colab-df-quickchart');\n",
              "  quickchartButtonEl.style.display =\n",
              "    google.colab.kernel.accessAllowed ? 'block' : 'none';\n",
              "}\n",
              "\n",
              "        displayQuickchartButton(document);\n",
              "      </script>\n",
              "      <style>\n",
              "    .colab-df-container {\n",
              "      display:flex;\n",
              "      flex-wrap:wrap;\n",
              "      gap: 12px;\n",
              "    }\n",
              "\n",
              "    .colab-df-convert {\n",
              "      background-color: #E8F0FE;\n",
              "      border: none;\n",
              "      border-radius: 50%;\n",
              "      cursor: pointer;\n",
              "      display: none;\n",
              "      fill: #1967D2;\n",
              "      height: 32px;\n",
              "      padding: 0 0 0 0;\n",
              "      width: 32px;\n",
              "    }\n",
              "\n",
              "    .colab-df-convert:hover {\n",
              "      background-color: #E2EBFA;\n",
              "      box-shadow: 0px 1px 2px rgba(60, 64, 67, 0.3), 0px 1px 3px 1px rgba(60, 64, 67, 0.15);\n",
              "      fill: #174EA6;\n",
              "    }\n",
              "\n",
              "    [theme=dark] .colab-df-convert {\n",
              "      background-color: #3B4455;\n",
              "      fill: #D2E3FC;\n",
              "    }\n",
              "\n",
              "    [theme=dark] .colab-df-convert:hover {\n",
              "      background-color: #434B5C;\n",
              "      box-shadow: 0px 1px 3px 1px rgba(0, 0, 0, 0.15);\n",
              "      filter: drop-shadow(0px 1px 2px rgba(0, 0, 0, 0.3));\n",
              "      fill: #FFFFFF;\n",
              "    }\n",
              "  </style>\n",
              "\n",
              "      <script>\n",
              "        const buttonEl =\n",
              "          document.querySelector('#df-17ff4f58-9fc2-4e7c-9ac1-0c5db5e4a5c4 button.colab-df-convert');\n",
              "        buttonEl.style.display =\n",
              "          google.colab.kernel.accessAllowed ? 'block' : 'none';\n",
              "\n",
              "        async function convertToInteractive(key) {\n",
              "          const element = document.querySelector('#df-17ff4f58-9fc2-4e7c-9ac1-0c5db5e4a5c4');\n",
              "          const dataTable =\n",
              "            await google.colab.kernel.invokeFunction('convertToInteractive',\n",
              "                                                     [key], {});\n",
              "          if (!dataTable) return;\n",
              "\n",
              "          const docLinkHtml = 'Like what you see? Visit the ' +\n",
              "            '<a target=\"_blank\" href=https://colab.research.google.com/notebooks/data_table.ipynb>data table notebook</a>'\n",
              "            + ' to learn more about interactive tables.';\n",
              "          element.innerHTML = '';\n",
              "          dataTable['output_type'] = 'display_data';\n",
              "          await google.colab.output.renderOutput(dataTable, element);\n",
              "          const docLink = document.createElement('div');\n",
              "          docLink.innerHTML = docLinkHtml;\n",
              "          element.appendChild(docLink);\n",
              "        }\n",
              "      </script>\n",
              "    </div>\n",
              "  </div>\n"
            ]
          },
          "metadata": {},
          "execution_count": 145
        }
      ]
    },
    {
      "cell_type": "code",
      "source": [
        "df.to_csv('Abstractive Test Dataset Analysis.csv')"
      ],
      "metadata": {
        "id": "rLIIhk6jRqwx"
      },
      "execution_count": null,
      "outputs": []
    },
    {
      "cell_type": "markdown",
      "source": [
        "# CODE 3A: Evaluation of Pre-Trained t5 (Abstractive)"
      ],
      "metadata": {
        "id": "te3L5dQ5yZES"
      }
    },
    {
      "cell_type": "code",
      "source": [
        "!pip install evaluate\n",
        "!pip install bert_score"
      ],
      "metadata": {
        "id": "1ZLghv0deJmw"
      },
      "execution_count": null,
      "outputs": []
    },
    {
      "cell_type": "code",
      "source": [
        "import sys\n",
        "sys.path.insert(0, '../')\n",
        "import glob\n",
        "import os\n",
        "import json\n",
        "import nltk\n",
        "nltk.download('punkt')\n",
        "from rouge_score import rouge_scorer\n",
        "from rouge import Rouge\n",
        "import math\n",
        "import numpy as np\n",
        "from tqdm import tqdm\n",
        "from evaluate import load"
      ],
      "metadata": {
        "colab": {
          "base_uri": "https://localhost:8080/"
        },
        "id": "RlBHHu9Zyslc",
        "outputId": "82b2bf92-43c9-4a54-e98a-70e54386ae36"
      },
      "execution_count": null,
      "outputs": [
        {
          "output_type": "stream",
          "name": "stderr",
          "text": [
            "[nltk_data] Downloading package punkt to /root/nltk_data...\n",
            "[nltk_data]   Package punkt is already up-to-date!\n"
          ]
        }
      ]
    },
    {
      "cell_type": "code",
      "execution_count": null,
      "metadata": {
        "id": "SJc1gRK6WKAl"
      },
      "outputs": [],
      "source": [
        "def get_root_path():\n",
        "    '''\n",
        "    function to get root path of dataset\n",
        "    change the path variable to the path of the dataset\n",
        "    '''\n",
        "    path = \"/content/drive/MyDrive/AbstractiveDataset\"\n",
        "    return path\n",
        "\n",
        "def get_summary_data():\n",
        "    '''\n",
        "    function to get names, documents, and summaries\n",
        "    change the path variable to the path of the dataset\n",
        "    '''\n",
        "\n",
        "    path = get_root_path() + '/judgement'\n",
        "    all_files = glob.glob(path + \"/*.txt\")\n",
        "    data_source = []\n",
        "    names = []\n",
        "    for filename in all_files:\n",
        "        with open(filename, 'r') as f:\n",
        "            p = filename.rfind(\"/\")\n",
        "            names.append(filename[p+1:])\n",
        "            a = f.read()\n",
        "            data_source.append(a)\n",
        "    path = get_root_path() + '/summary'\n",
        "    all_files = glob.glob(path + \"/*.txt\")\n",
        "    data_summary = []\n",
        "    for filename in all_files:\n",
        "        with open(filename, 'r') as f:\n",
        "            a = f.read()\n",
        "            l = len(a)\n",
        "            data_summary.append(a)\n",
        "\n",
        "    return names, data_source, data_summary"
      ]
    },
    {
      "cell_type": "code",
      "source": [
        "names, data_source, data_summary = get_summary_data()\n",
        "print(len(names))\n",
        "print(len(data_source))\n",
        "print(len(data_summary))\n"
      ],
      "metadata": {
        "colab": {
          "base_uri": "https://localhost:8080/"
        },
        "outputId": "10c218a4-f358-47a9-9c52-e4c0f8b8cd2c",
        "id": "HybmNVvZWKAt"
      },
      "execution_count": null,
      "outputs": [
        {
          "output_type": "stream",
          "name": "stdout",
          "text": [
            "1\n",
            "1\n",
            "1\n"
          ]
        }
      ]
    },
    {
      "cell_type": "code",
      "source": [
        "import pandas as pd\n",
        "ext_analysis = pd.read_csv('Abstractive Test Dataset Analysis.csv')"
      ],
      "metadata": {
        "id": "w-T_ze0JVVV2"
      },
      "execution_count": null,
      "outputs": []
    },
    {
      "cell_type": "code",
      "source": [
        "names, summ_word_count = list(ext_analysis['File']), list(ext_analysis['Summary Word Count'])\n",
        "\n",
        "get_req_len = {}\n",
        "for i in range(len(names)):\n",
        "  get_req_len[names[i]] = summ_word_count[i]"
      ],
      "metadata": {
        "id": "8NbdcL3uVVV3"
      },
      "execution_count": null,
      "outputs": []
    },
    {
      "cell_type": "code",
      "source": [
        "# Loading Model and tokenizer\n",
        "from transformers import AutoTokenizer, AutoModelForSeq2SeqLM\n",
        "\n",
        "tokenizer = AutoTokenizer.from_pretrained(\"t5-small\")\n",
        "model = AutoModelForSeq2SeqLM.from_pretrained(\"t5-small\")"
      ],
      "metadata": {
        "id": "OOyEhbLYysn-"
      },
      "execution_count": null,
      "outputs": []
    },
    {
      "cell_type": "code",
      "source": [
        "def nest_sentences(document,chunk_length):\n",
        "    '''\n",
        "    function to chunk a document\n",
        "    input:  document           - Input document\n",
        "            chunk_length        - chunk length\n",
        "    output: list of chunks. Each chunk is a string.\n",
        "    '''\n",
        "    nested = []  # to store list of chunks of a doc\n",
        "    sent = []    # to store sentences per chunk in loop\n",
        "    length = 0\n",
        "    for sentence in nltk.sent_tokenize(document):\n",
        "        length += len(sentence.split(\" \"))       # adding no of words per sentence\n",
        "        if length < chunk_length:\n",
        "            sent.append(sentence)\n",
        "        else:\n",
        "            nested.append(\" \".join(sent))        # when word limit exceed chunk length (512 for t5) add the list of sentences (a chunk) after joining to the nested list\n",
        "            sent = []                            # create a new list to store next batch fof sentences for subsequent chunk\n",
        "            sent.append(sentence)\n",
        "            length = 0\n",
        "            length += len(sentence.split(\" \"))   # added to include length i=of sentence in else loop. Initially not added\n",
        "    if len(sent)>0:\n",
        "        nested.append(\" \".join(sent))            # including the final list of sentences to nested\n",
        "    return nested                                # return the list of chunks of that doc"
      ],
      "metadata": {
        "id": "PALyiPlFXZSp"
      },
      "execution_count": null,
      "outputs": []
    },
    {
      "cell_type": "code",
      "source": [
        "def generate_summary_gpu(nested_sentences,p=0.2):\n",
        "  '''\n",
        "    Function to generate summaries from the list containing chunks of the document\n",
        "    input:  nested_sentences - chunks\n",
        "            p - Number of words in summaries per word in the document\n",
        "    output: document summary\n",
        "    '''\n",
        "  summaries = []\n",
        "  for nested in nested_sentences:         # looping through each of the chunks\n",
        "    l = int(p * len(nested.split(\" \")))   # multiplying p with length of chunk to distribute summary length to that particular chunk\n",
        "    input_tokenized = tokenizer.encode(nested, truncation=True, return_tensors='pt')\n",
        "    summary_ids = model.generate(input_tokenized,\n",
        "                                      length_penalty=0.01,\n",
        "                                      min_length=l-5,\n",
        "                                      max_length=l+5)\n",
        "    output = tokenizer.decode(summary_ids[0], skip_special_tokens=True, clean_up_tokenization_spaces=False)\n",
        "    summaries.append(output)\n",
        "  return summaries"
      ],
      "metadata": {
        "id": "XqsaI3oiysq0"
      },
      "execution_count": null,
      "outputs": []
    },
    {
      "cell_type": "code",
      "source": [
        "# main loop to generate and save summaries of each document in the test dataset\n",
        "\n",
        "result_rouge_list = []\n",
        "result_bertscore_list = []\n",
        "\n",
        "for i in tqdm(range(len(data_source))):\n",
        "    name = names[i]\n",
        "    doc = data_source[i]\n",
        "    input_len = len(doc.split(\" \"))\n",
        "    req_len = get_req_len[name]\n",
        "    print(str(i) + \": \" + name +  \" - \" + str(input_len) + \" : \" + str(req_len), end = \" ,\")\n",
        "\n",
        "    nested = nest_sentences(doc,512)  # returns a list of chunks with word count < 512\n",
        "    #l = int(req_len/len(nested))\n",
        "    p = float(req_len/input_len)  # p is the ratio of summary length to doc length\n",
        "    print('Value of p for doc {} is {}'.format(i,p))\n",
        "\n",
        "    abs_summ = generate_summary_gpu(nested,p)  # returns list of chunks summaries\n",
        "\n",
        "    abs_summ = \" \".join(abs_summ)\n",
        "    print(len((abs_summ.split(\" \"))))\n",
        "\n",
        "    if len(abs_summ.split(\" \")) > req_len:\n",
        "        abs_summ = abs_summ.split(\" \")\n",
        "        abs_summ = abs_summ[:req_len]\n",
        "        abs_summ = \" \".join(abs_summ)\n",
        "\n",
        "    print(data_summary[i])\n",
        "    print('------------------------------------------------------------------')\n",
        "    print(abs_summ)\n",
        "\n",
        "    rouge = Rouge()\n",
        "    result_rouge_list.append(rouge.get_scores(data_summary[i], abs_summ, avg=True))\n",
        "    bertscore = load(\"bertscore\")\n",
        "    result_bertscore_list.append(bertscore.compute(predictions=[abs_summ], references=[data_summary[i]], model_type=\"distilbert-base-uncased\"))"
      ],
      "metadata": {
        "colab": {
          "base_uri": "https://localhost:8080/",
          "height": 1000,
          "referenced_widgets": [
            "479475b7ef404f0abb30149ecb2d5f1a",
            "1561aa1079ee425ba1ad96efd56c5534",
            "369f6254181847f3b97950d990f56c8e",
            "1484962db0154d7094fa8e98eb757079",
            "3d508ebf10874618bc81e1c9e60342bc",
            "d5f334f5fba6449a9c48c2b82c0c002f",
            "4f93de3973a54ad89d7b0b7d97c0c242",
            "3b8dfc7783db49d5ad4d797740bb2827",
            "f29b9da8556546a5b1f1c5df37890757",
            "b433fe4a9de440c1918432dfa790d0bb",
            "e509693105904d48bb126159716f0393",
            "17412772d26e4da98fadf34c5d11c4d3",
            "c1c01136fd654826a7cf161b97ca1438",
            "f8ceb5847c40436ea9bde46e65329e10",
            "ef8dfbafbd8442a7b0703634069d0275",
            "63dbe00ded874c8b9ed3f95d2b235564",
            "6e01ca867c154720bd047c91b5984ef6",
            "31e7c7e4829849929c88cf3d7ed93d06",
            "95cef580890248f9afbec516e6d7a55b",
            "639b09436f544f73b54d917f304cfc79",
            "ee2eb9dcb73e41d48acd0f816a533ece",
            "74e96d30e9a24ecc8e752d60c290b9e9",
            "69b8b76ddb6a4b2ba177ac0c4b51b9ba",
            "fd95516ca603447e8e8f37991fbdb824",
            "857449db12fe488896e2e651604ed429",
            "1bf36248ecf540529024bcac0c596b00",
            "232ee8ea5c8e499495b52b2de8796f60",
            "db7696a3f9e146148373e44869bab743",
            "c0e053df8eaa433a9495c58fb2f73891",
            "6b11f26a4e4a42bca0179eba792f1be0",
            "9b576fc1d31d481db63e70d09a81c943",
            "708ff4fe5efb4cf9b2f2e58cf30b67ae",
            "e10dbcea8b3f4418bf1a7f49fb8ad893",
            "f0a3b535a2aa41e88a89978a47ce2616",
            "38a4643da20f4848b9ec1355024fe322",
            "f7139525166a402f89bbfda7fe23e344",
            "8c71c108d1dd4181bae1937dd2371bcc",
            "6aaeeacc0eb64b70b9c2306f0e3e4246",
            "3f068b53160c4e9b8b15573c183919e8",
            "10a265730f524338afb166528b33b740",
            "098849639a014195abb981f03d397a88",
            "5363d153702c4a67ab4dd78358c5c222",
            "88cb8ea56e464b2eba0196dce10193b6",
            "4b60ad9afd1e409caff48f06ed103ffd",
            "fb2510e86b9f4329a13c57df657d07b5",
            "1d99ce3e80a7436eac222c3dffccfdbc",
            "77203375b0f6460a84d0abd1f5e6c2bf",
            "5d88b37cc02947389d1bd23f9cf0d3b6",
            "3f95223c13e8484e95395a2cc6149f45",
            "bb9f529e03be4e7184adf6a870c0bf0c",
            "703d4a531c764cf986556126fa9721ee",
            "529f24d6dc4f49c19058e5307d57275e",
            "292b3ba5e9bd44fbb9d0eb5454026b0d",
            "ed38867fd3fd494d95d7f5306d69a71e",
            "6a406ef048b04ac3964fc81550493170"
          ]
        },
        "id": "Bb24XYMLyss_",
        "outputId": "7b0b9cdf-ba4f-4633-ceb4-a08e28e24760"
      },
      "execution_count": null,
      "outputs": [
        {
          "output_type": "stream",
          "name": "stderr",
          "text": [
            "\r  0%|          | 0/1 [00:00<?, ?it/s]"
          ]
        },
        {
          "output_type": "stream",
          "name": "stdout",
          "text": [
            "0: 1.txt - 3278 : 150 ,Value of p for doc 0 is 0.04575960951799878\n",
            "Value of l is: 22\n",
            "input_tokenized\n",
            "tensor([[25024,   465,     5,   301,     4,  7765,    13, 24319,     5, 25024,\n",
            "            45,     8,  1592,  2243,    13,     3,  2047, 11346,  2693,     6,\n",
            "         16327,     9,    63,     6,    16,     3,     9,  2848,   365,  1375,\n",
            "             3,  3539,    13,     8,  2557, 20110,  1104,  1983,     6,   335,\n",
            "          2884,     5,   480,     5,   329,     5,  9810,  5605,    41,   567,\n",
            "             5,   276,     5,  1823,   189, 16658,     6,    28,   376,   201,\n",
            "            21,     8,  8319,     3,  6761,     5,     3,    31,   283,     5,\n",
            "           254,     5,  2821,   138,   900,    26,     6, 10154,  2146,    21,\n",
            "          1547,    41,   566,     5,   446,     5,  2432,  3380,   291,     6,\n",
            "            28,   376,   201,    21,     8,  3531,   295,     5, 10247,     5,\n",
            "           932,  2208,     5,    37,  7661,    13,     8,  2243,    47,  3566,\n",
            "            57,  7934, 11120,     3, 25000,   308,  4800,  5478,   683,  5033,\n",
            "           446,     5,   100,    19,    46,  3958,   581,     3,     9,  7661,\n",
            "            13,     8,  1592,  2243,    13,  3736, 11346,  2693,    44, 16327,\n",
            "             9,    63,    16,    46,  2055,  1104,  1052,    11,    34,  3033,\n",
            "             7,     8,   822,   823, 13844,  1294,  7692,   785,  1104,    11,\n",
            "          4150,   256,  7168,    15,   179,   785,  1104, 19608,   365,     8,\n",
            "          2193, 16327,     9,    63,  1983,     7,    33,   995,   179, 20061,\n",
            "             7,   365,  1375,   668,  5637,    41,    23,   208,    61,    13,\n",
            "             8,  2557, 20110,  1104,  1983,     5,    37,  6570,    15,    15,\n",
            "           349,    19,    46,  1729,   349,    20,  5927,    53,   165,  2055,\n",
            "            45,  2605,    16,     8,   690,    13, 16327,     9,    63,     5,\n",
            "           242,     8,  4193,   215, 15830,  8798,     8,  3134,  2055,    13,\n",
            "             8,  6570,    15,    15,   365,     8,   819,    96, 10401,    49,\n",
            "            17,    63,   121,    47, 29216,    26,    57,     8, 20110,  1104,\n",
            "          6027,    16,     8,  4505,    13, 11715,     5,  8580,  2658,     6,\n",
            "          3959,   591,   227,    20,  7472,    53,    45,  8690,  3170,     7,\n",
            "           824,  4364,     5,    37,   349,   141,  1866,   383,     8,  2193,\n",
            "           215, 11715,     5,  1914,  2884,     6,  3708,   755,    38, 10516,\n",
            "           785,  1104,    11, 11715,     5,  3538,     6, 28212,    38,  4150,\n",
            "           785,  1104,     5,   374,  8291,    13,   175,   192,  4505,     7,\n",
            "            47,  7760,   365,     8,  9848,    13,  1375,   668,     8,  1983,\n",
            "             5,  3387,    13,     8,   166,  2118,     3,     9, 20061,    16,\n",
            "             8,  4505,    13, 11715,     5,  4678,     6,  3436,   357,    47,\n",
            "          2225,    30,     8,  1591,    24,    48,  2118,  7283, 16801,     3,\n",
            "            31,  9054,     7,  1866,    57,     8,  6570,    15,    15,     6,\n",
            "          2904,     8,  1988,    47,  1028,   138,     3, 22411,     5,    37,\n",
            "             6,  3958,     7,    13,     8,  6570,    15,    15,    12,     8,\n",
            "             3, 27794,  5867,   282,   108,     7,  3672, 14595,    11,    12,\n",
            "             8, 20110,  1104,     3, 27794,  5867,  2702,  3007,     3,    29,\n",
            "           138,   130, 26684,     5,    37, 24910,     6,   983,     6,  4686,\n",
            "            12,  2401,   192,   746,    13,   973,    12,     8,  1592,  2243,\n",
            "            13,  3736, 11346,  2693,    44, 16327,     9,    63,     6,     3,\n",
            "         17332,     6,  5637,     3,  2374,     8, 10516,  5161,  1866,    57,\n",
            "             8, 13322,   349,    33,    46,   995,   179, 20061,   365,     3,\n",
            "         28803,     8,  9848,    13,  1375,   668,  5637,    41,    23,   208,\n",
            "            61,    13,     8,  2557, 20110,  1104,  1983,   117,  6499,     3,\n",
            "          2374,     8,  4150,   256,  7168,    15,   179,   785,  5161,  1866,\n",
            "            57,     8, 13322,   349,    33,    46,   995,   179, 20061,   365,\n",
            "          1375,   668,  5637,    41,    23,   208,    61,    42,   365,  1375,\n",
            "           668,  5637,    41,   208,    61,    13,     8,  2557, 20110,  1104,\n",
            "          1983,     1]])\n",
            "summary_ids\n",
            "tensor([[    0, 32099,    13,     8,  1592,  2243,    13,  3736, 11346,  2693,\n",
            "            44, 16327,     9,    63,    16,     3,     9,  2848,   365,  1375,\n",
            "             3,  3539,    13,     8,  2557, 20110,  1104]])\n",
            "Output\n",
            "of the High Court of Judicature at Bombay in a reference under section 66 of the Indian Income tax\n",
            "Value of l is: 22\n",
            "input_tokenized\n",
            "tensor([[ 5568,   668,   590,    28,     8,  2193, 14442,  3154,  2932,    10,\n",
            "          5637,    37,  1104,  1522,    36, 19608,    57,    46,  6570,    15,\n",
            "            15,   365,     8,   819,     3,    31,  2055,    45,   785,     3,\n",
            "            31,    16,  1445,    13,     8,  2682,     9,   361,   221,  2041,\n",
            "           701,    13,   785,  5608,    53,    13,   136,  3950,    42,     3,\n",
            "          6347,  1120,   450,   324,   288,   132,   235,    13,  4073,     3,\n",
            "            88,    19,     8,  2527,     6,     3,     5,     3,     5,  1426,\n",
            "            12,     8,   826, 18651,     7,     6,     3, 17332,     3,    10,\n",
            "            41,    23,   208,    61,   213,     8,   785,    19,  1426,    12,\n",
            "             3,     9,  4539,    42,   119,  1784,  1567,     6,     8,   866,\n",
            "            13,   136,  1046,    30,   224,  4539,    42,  1567,   117,   213,\n",
            "             8,   785,    19,  1426,    12,    46,  2041,  1567,    59,   271,\n",
            "             3,     9,  1784,  1567,     6,     8,     5,   866,    13,   224,\n",
            "          1567,   117,   213,     8,   785,    19,  1426,    12,     3,     9,\n",
            "          1591,  3170,     6,     8,   866,    13,   224,  1591,  3170,   117,\n",
            "            11,     6,   213,     8,   785,    65,   118,  7347,     6,  8520,\n",
            "             6, 20454,     6, 18184,    42, 18695,     3,  7593,    15,    26,\n",
            "            28, 26688,  1784,     6,     8,   866,    13,   136,  1046, 19608,\n",
            "            30,   224,  1784,   117,     3,     5,     3,     5,     3,     5,\n",
            "            96,    94,    56,    36,   894,    24, 14442,    41,    23,   208,\n",
            "            61,     3,  6848,    13,   662,   769, 14442,     7,     3,  9921,\n",
            "            12,     8,   662, 20061,     7,  2225,   305,  4834,   365,     8,\n",
            "         14442,     5,  3103,     8, 14545,    53,  1983,    13,   957,  3288,\n",
            "             6, 14442,    41,    23,   208,    61,  6966,   163,     8,   166,\n",
            "             6,  1025,    11,  4509,   769, 14442,     7,     5,  3526,     8,\n",
            "           166,   769, 14442,  1046,    19,     3, 19180,   823,     8,   866,\n",
            "         26688,    30,     8,  1034,    13,     8,   785,    47,  1869,    30,\n",
            "             8,   785,    42,    59,     5,   290,    19,   150,   822,    13,\n",
            "           136,  1784,    42,   119, 15700,    30,     8,   785,     5,    37,\n",
            "          3893,    96,  4010,  9538,  1567,   121,    16,     8,   769, 14442,\n",
            "          1178,   975,  7977,     3,     9,  1567,    30,     8,  1784,     6,\n",
            "            24,    19,     6,     8,   785, 14841,     5,   466,   133,    36,\n",
            "             3,     9,  1131,  1106,  6833,    38,     8,  2101,  1234,  1452,\n",
            "          3133,  6360,    24,     8,  1567,    19,    30,     8,   785,     5,\n",
            "           101,    33,  2459,    13,  3474,    24,  1784,  1567,   270,   228,\n",
            "           163,  1243,     3,     9,  1567,   990,    21,     3,     9,  1784,\n",
            "          4505,     6,     3,    23,     5,    15,     5,     6,     3,     9,\n",
            "          1567,    12,  2451,     8, 12445,    13,     3,     9,  6283,    13,\n",
            "             3,     9,  1784,  1405,     5,    86, 26957,     8,   276,  5927,\n",
            "            63,  2063,  1500,     8,   495,    13,  2106,  1927,    63, 16738,\n",
            "             5,   970,    26,   107,   459,     9,     3,   208,     7, 14595,\n",
            "            13, 20110,  1104,     6,  3104,  3044,    17,     9,  4077,     3,\n",
            "           137,    94,    47,    59,    46,  4193,   365,  1375,   668,    68,\n",
            "            46,  6570,     3,   297,    30,     8,   879,  2055,    13,    46,\n",
            "          6570,    15,    15,   113,    47,     3,  8860,    12,   726,  2453,\n",
            "            21,   112,  1147,  2039,    84,   141,   118,  4977,    30,    66,\n",
            "           112,  4089,    57,     3,     9, 28717,    13,  2243,     5,    94,\n",
            "            47,    59,     3,     9,     3,    40,    23,  1418,     3, 26704,\n",
            "             3, 20890,    57,   376,    68,    80,  4061,    30,   376,    57,\n",
            "           973,     5,    37,   276,  5927,    63,  2063,  1213,    24,     8,\n",
            "           866,  1866,    57,   376,    16, 12445,    13,    24,  6283,  5147,\n",
            "           150,     1]])\n",
            "summary_ids\n",
            "tensor([[    0, 32099,     6, 32098,     6, 32097,     3,     9,  1567,    30,\n",
            "             8,   785,     6,     3,    23,     5,    15,     5,     6,     8,\n",
            "           866,    13,   136,  1046, 19608,    30,   224]])\n",
            "Output\n",
            ",, a charge on the property, i.e., the amount of any interest payable on such\n",
            "Value of l is: 23\n",
            "input_tokenized\n",
            "tensor([[   94,    19,    48,   769, 14442,    84,     8,  8319,  6761, 26914,\n",
            "             7,    16,   380,    13,   165,  1988,    12, 20061,    13,     8,\n",
            "         10516,    11,  4150,     6,   785,  5161,    16,     8,   915,   495,\n",
            "             5,    86,   903,    13,     8,  2101,  1234,    13,     8,  6164,\n",
            "           974,   769, 14442,     6,     8,  3893,    96,  4010,  9538,  1567,\n",
            "           121,    92,   261,   132,    77,  1178,    43,  2848,    12,     3,\n",
            "             9,  1567,    30,     8,   785,     6,    11,    62,   317,    34,\n",
            "           398,  5637,    27,     5,   434,     5,   448,     5,  1640,     3,\n",
            "          1489,     5,   305,  3436,    36,  7571,    16,     8,   337,  1254,\n",
            "            38,    16,   769, 14442,  5637,   117,    24,    19,    12,   497,\n",
            "             6,     8,   166,   769, 14442,   578,   937,    21,    20,  4817,\n",
            "             3,  1575,    13,  1046,   213,     3,     9,  1784,  4505,    19,\n",
            "          4977,    30,     8,   785,     6,    48,   769, 14442,   795,    21,\n",
            "             3,     9, 20061,    13,  2041,  4505,     7,    78,  4977,     6,\n",
            "           224,  4505,     7,    59,   271,  1784,  4505,     7,     6,     8,\n",
            "             3, 17979,  1234,   271,  3855,    12, 17981,  1488,   213,  1784,\n",
            "          3279,    30,     8,  1034,    13,     8,   785,    19,   263, 26344,\n",
            "           179,    16,    16,  8407,  4128,     5,    86, 14595,    13, 20110,\n",
            "          1104,     6, 16327,     9,    63,     3,   208,     7,  1534,  5515,\n",
            "            26,   115,   107,    32,    63, 11768,   354,    23,  5637,     6,\n",
            "             3,     9, 21493,    13,     8, 16327,     9,    63,  1592,  2243,\n",
            "          1702,     8,  2530,    13,   175,  1234,     5,   282,  9544,    96,\n",
            "         30627,  1567,   976, 12433,  6278,   205,     5,   683,     5,  6970,\n",
            "            38,  6963,     3,    10,    96,   634,  1234,     6,    27,   317,\n",
            "             6,   133,  1189,     3,     9,  1567,    12,  2451,    46,  2041,\n",
            "          6283,   535,  4540,    23,     9,   446,     5,     6,    38,     3,\n",
            "            88,   258,    47,     6,   243,    38,  6963,     3,    10,    96,\n",
            "           196,   103,    59,   217,   149,     3,     9,  1567,    54,    36,\n",
            "          2041,     3,  3227,    34,   598,     3,     9,  1567,    16,  1445,\n",
            "            13,     3,     9,  1942,    12,    36,   263, 10943,   535,   100,\n",
            "          1449,    13,     8,  1234,    65,   118,  2348,    16,     8,  7661,\n",
            "           365,  3958,     5,    86,   350,  3096,   440,   138,  4540,  1024,\n",
            "            23,    63,     9,   325,    40,     3,   208,     7, 14595,    13,\n",
            "         20110,  1104,  6499,    41,   532,  2895,  3958,   274,   178,   201,\n",
            "             8, 21493,    13,     8, 21329,     9,  5514,  1592,  2243,  4686,\n",
            "            28,     8,  1449,  2681,    30,   175,  1234,    16,     8, 16327,\n",
            "             9,    63,   495,     6,     3,    23,     5,    15,     5,     6,\n",
            "             8,  1234,    96, 30627,  1567,   121,  1243,     3,     9,  1567,\n",
            "            12,  2451,    46,  2041,  6283,     5,    94,    19,  2459,   964,\n",
            "            24,   132,    19,   150,  4129,    13,     3, 18810,  7908,     3,\n",
            "          1938,     7,    38,    12,     8,  2530,    13,     8,  9261,    96,\n",
            "         30627,  1567,   121,  4093,     3,  1007,    16,  1375,   220,  5637,\n",
            "            41,    23,   208,    61,    11,     8,  2530,   787,    19,     8,\n",
            "           793,  2530,    13,   175,  1234,     5,   282,    12,     8,  9261,\n",
            "            96,  4010,  9538,  1567,  1686, 12433,  4662,   205,     5,   683,\n",
            "             5,    16,     8,   495,   756,     3,  4822,    12,   808,     8,\n",
            "           903,    24,     8,  1234,  1243,     3,     9,  1567,    30,  1784,\n",
            "             5,  4540,    23,     9,   446,     5,     6,   983,     6,   808,\n",
            "             3,     9,   315,   903,    11,  6970,    24,     3,    88,    47,\n",
            "            59,  2657,    12,  1845,     8,     3,     7, 13917,    15,     7,\n",
            "             3,  1575,    24,     3,     9,  1708,    84,   795,    21,     3,\n",
            "             9,     1]])\n",
            "summary_ids\n",
            "tensor([[    0, 32099,     6,     8,  1234,    96, 30627,  1567,   121,  1243,\n",
            "             3,     9,  1567,    12,  2451,    46,  2041,  6283,     3,     5,\n",
            "            34,    19,   964,    24,   132,    19,   150,  4129]])\n",
            "Output\n",
            ", the words \"annual charge\" mean a charge to secure an annual liability . it is clear that there is no conflict\n",
            "Value of l is: 23\n",
            "input_tokenized\n",
            "tensor([[ 5568,     3, 25133,    13,     8,   896,    13, 16327,     9,    63,\n",
            "         16492,  1983,     6,   507,  4060,     6,  2291,    23,  2260,     8,\n",
            "             3, 10912,    63,    13,     3,     9,   879,  1104,    30,    66,\n",
            "          3950,    11,     3,  6347,    16,     8,   690,     5,    37,  2329,\n",
            "          3263,    12,   726,    48,   785,  1104,    19,    30,     8,   705,\n",
            "           127,    41,  6961,    15,  1375,     3, 24300,    13,     8,  1983,\n",
            "           137,    86,   455,    12,  6570,     8,  1104,  6537,    65,   118,\n",
            "           263,    21,     8, 11444,    13,     8,  2041,  1080,   179,   701,\n",
            "            13,     8,   740,    16,  1375,     3, 27308,     5,  5568,     3,\n",
            "         25463,   795,    21,     8,  2453,    13,    46,  4193,   484,    16,\n",
            "            84, 10066,    43,    12,    36,   263,   334,  2314,   215,    13,\n",
            "            66,  3950,    16,     8,   690,     6,    70,  1080,   179,   701,\n",
            "             6,     8,  3056,    13,  7609,     3,  5325,     3,  8860,    21,\n",
            "          1942,    13,     8,   785,  1104,    30,   224,  3950,    11,    13,\n",
            "             8,   866,    21,    84,   284,   740,    65,   118, 14841,     5,\n",
            "          5568,     3, 27650,     3, 20244,   323,    24,     8,  6570,     3,\n",
            "           297,   484,   174,    59,    36,  2657,   334,  2314,   215,    68,\n",
            "           452,  2103,     7,  1522,    36,   787,    16,  4408,   663,    28,\n",
            "          6795, 11321,    12,   898,   357,   334,   215,    11,     8,  9848,\n",
            "             3,    32,  1220,     8,   243,  4220,     3, 10872,    11,    13,\n",
            "          6795,   898,   519,    11,     3, 27650,  1522,    36,  5383,   284,\n",
            "           215,     5,   506,  6795,  8260,   323,     3,     9,  3979,    21,\n",
            "          3507, 20832,     7,    11, 11244,   581, 10066,    16,     8,  4193,\n",
            "           484,     5,  1029,   175,  9848,    34,    19,   964,     3,    31,\n",
            "            24,     8,     3,    40,    23,  3587,     3,   485,    21,     8,\n",
            "          1104,    19,  4187,    44,     8,  1849,    13,   284,  2314,   215,\n",
            "            11,     8,  1104,    19,    46,  2041,    80,     5,    94,     3,\n",
            "            60, 15983,    45,   215,    12,   215,     5,  5568,     7,     3,\n",
            "         25133,   235,     3, 24274,  2410,  1452,    28,     8,   256,  4718,\n",
            "             6,  6283,    11,  4193,    13,     8,  1104,    21,     8,   215,\n",
            "             5,    37,   866,    13,     8,  1104,    21,     8,   215,    11,\n",
            "             8,  6283,    21,   165,  1942,   578,   118,  4187,     6,     8,\n",
            "          1983,   258,   554,     3, 19308,     7,    21,   165,  1232,    16,\n",
            "             8,  5800,    96,   634,  1232,    13,  5161,     5,    96,  5568,\n",
            "             3, 27181,   795,    24,   284,    13,     8,   785,  5161,  1522,\n",
            "            36, 19608,    16,   305,  3390,  3245,    16,   985,     3, 22286,\n",
            "            16,  8407,  4128,    30,   284,   166,   239,    13,  1186,    11,\n",
            "           284,   166,   239,    13,  1797,     5,    37,  6537,    38,    12,\n",
            "           985,     3, 22286,    16,  8407,   297,  6539,   975,  7977,     7,\n",
            "            46,  2041,     3,    40,    23,  1418,     5,    86,   119,  1234,\n",
            "             6,    34,   598,    24,     8,  2041,  6283,    54,    36, 12445,\n",
            "            26,    57,   985,     3, 22286,  4364,     5, 25266,    65,    92,\n",
            "           118, 14327,    21,  3938,    13,     8,    16,  8407,  4128,    57,\n",
            "           915,   297,    13,     3,     9,  2876,     6,     3,     9,  2103,\n",
            "            13,  2173,    11,   258, 19285,     6,    11,  1048,     5,  4213,\n",
            "          1375,     3, 24837,   795,    38,  6963,     3,    10,    96,  3174,\n",
            "           883,    17,    63,  5161,   788,   365,    48,  1983,    16,  1445,\n",
            "            13,   136,   740,    42,  1322,  1522,     6,  1426,    12,     8,\n",
            "          1884,  1942,    13,     8,  1322,  3751,     6,     3,    99,   136,\n",
            "             6,   788,    12,     8, 19429,     3,     6, 27304,   297,   132,\n",
            "           413,   106,     6,    36,     3,     9,   166,  1567,     3,     5,\n",
            "             3,     1]])\n",
            "summary_ids\n",
            "tensor([[    0, 32099,     8,  2041,  1080,   179,   701,    13,     8,   740,\n",
            "            16,  1375,     3, 27308,     5,  5568,     3, 25463,   795,    21,\n",
            "             8,  2453,    13,    46,  4193,   484,     3,     5]])\n",
            "Output\n",
            "the annual rateable value of the building in section 154. Section 156 provides for the maintenance of an assessment book .\n",
            "Value of l is: 23\n",
            "input_tokenized\n",
            "tensor([[  242,     8,  3659,    13,  1375,   668,    13,     8,  2557, 20110,\n",
            "          1104,  1983,   321,   175,  5161,     6,     3, 17332,     6,     8,\n",
            "         13844,  1294,  7692,   785,  1104,    38,   168,    38,     8,  4150,\n",
            "           256,  7168,    15,   179,   785,  1104,    33,    13,     8,   337,\n",
            "          1848,    11,  1518,    30,     8,   337,  2418,     3,    53,     5,\n",
            "          1363,     5,  9810,  5605,     6,     8,  2525, 11189,    21,     8,\n",
            "          8319,  6761,   975,     3, 15443,    24,   321,     8,  5161,    33,\n",
            "         14841,    30,     8,  2041,   701,    13,     8,  1322,    42,     8,\n",
            "           740,    11,    33,  2041,  5161,     6,  2199,    34,   164,    36,\n",
            "            24,    79,    33,  4759,    44,  8572,     7,    13,  1296,   767,\n",
            "            21,     8, 14246,    13,  6440,     6,    24,     8,  2055,  1104,\n",
            "          1402,    19, 14841,    30,    46,  2041,  1873,     6,    24,    16,\n",
            "             3,  3232, 20061,     7,    66,  4364,   263,    42,    66, 25468,\n",
            "             3, 20890,   383,     8,   554,  2099,     3,  1162,   215,    13,\n",
            "          4193,   225,    36,  2225,    11,    24,     8,  5161,    16,   822,\n",
            "          4728,  3133,   441,     8,  1612,    13,  1375,   668,  5637,    41,\n",
            "            23,   208,   137,    37,  2525, 10154,  2146,     6,    30,     8,\n",
            "           119,   609,     6,     3, 15585,    24,  2199,     8,  5161,    33,\n",
            "         14841,    21,     8,   215,     8,  6283,    12,   726,   135,  7931,\n",
            "             7,    44,     8,  1849,   305,  3328,    13,   284,   985,   215,\n",
            "            11,     3,  3227,     3,     9,  2103,    13,  2173,    19,  4683,\n",
            "            11,     3,     9,  2876,  2569,   132,    19,   150,  6283,    12,\n",
            "           726,   135,    11,    24,  6501,   258,   150,  1567,   365,  1375,\n",
            "             3, 24837,    13,     8,  1983,   228,  3673,  7931,    11,    24,\n",
            "             8,  6283,    12,   726,   271,   985,     3, 22286,    16,  3245,\n",
            "             6,     8,  1567,    19,    59,    46,  2041,  1567,     5,    94,\n",
            "            47,    92,  5259,    24,     8,  5161,   130,     3,     9,  1784,\n",
            "          1567,    16,     8,  1254,    13,     8,   785,   271,  1034,    21,\n",
            "             8,  1942,     5,   101,    33,  7035,    24,     8, 29205,     7,\n",
            "          3279,    57,     8,  2525, 10154,  2146,    33,    59,  1345,     5,\n",
            "            94,    19, 10320,    45,     8,   829,     3,   324,   127,    13,\n",
            "             8,   192, 16327,     9,    63,  1983,     7,    24,     8,  5161,\n",
            "            33,    16,     8,  1405,    13,    46,  2041,     3, 10912,    63,\n",
            "            30,     8,   785,     3,    31,    11,    33, 14841,    30,     8,\n",
            "          2041,   701,    13,     8,   785,   284,   215,     5,    37,  2041,\n",
            "          6283,    54,    36, 12445,    26,    57,   985,     3, 22286,    16,\n",
            "          8407,  4128,     5,    37,  6283,   271,    46,  2041,    80,    11,\n",
            "             8,   785,   578,   118,  1426,    15,    26,    12,    34,     6,\n",
            "             8,  9848,    13, 14442,    41,    23,   208,    61,    13,   769,\n",
            "          4220,     3,  1575,  5637,    13,  1375,   668,    33,  2017,    44,\n",
            "         11674,     5,  1651,  8053,    47,  7245,    30,     8,  1448,   121,\n",
            "          1259,    15,   121,   261,    16,  1375,     3, 24837,    13,     8,\n",
            "         16492,  1983,    11,    34,    47,   243,    24,    38,     8,  5161,\n",
            "           103,    59,   582,   788,   365,     8,  1983,     3,  3227,     8,\n",
            "            97,    21,     8,  1942, 16732,     6,   150,  1567,   639,   139,\n",
            "          6831,  6501,   258,    11,    24,     8,  1567,    19,    59,    46,\n",
            "          2041,  1567,     5,   101,   103,    59,   317,    24,    48,    19,\n",
            "             3,     9,  2024,  1449,    13,  1375,     3, 24837,     5,    37,\n",
            "          1234,    96, 10401,    49,    17,    63,  5161,   788,   365,    48,\n",
            "          1983,   121,  1243,   785,  5161,    21,    84,     3,     9,   568,\n",
            "            19,     3,  8860,   365,     8,  1983,     5,  5287,    15,     7,\n",
            "         19608,     1]])\n",
            "summary_ids\n",
            "tensor([[    0, 32099,    19,    46,  2041,     3, 10912,    63,    30,     8,\n",
            "           785,     3,    31,    11,    33, 14841,    30,     8,  2041,   701,\n",
            "            13,     8,   785,   284,   215,     3,     5,     8]])\n",
            "Output\n",
            "is an annual levy on the property ' and are assessed on the annual value of the property each year . the\n",
            "Value of l is: 23\n",
            "input_tokenized\n",
            "tensor([[   37,  1525,    12,    48, 11417,    54,   163,    36,    16,     8,\n",
            "         11153,  1528,     6,     3,    23,     5,    15,     5,     6,    24,\n",
            "             8,  2757,     3,    17,    63,    19,     3,  8860,    12,  1048,\n",
            "             5,    86, 14595,    13, 20110,  1104,     6, 16327,     9,    63,\n",
            "             3,   208,     7,  1534,  5515,    26,   115,   107,    32,    63,\n",
            "         11768,   354,    23, 14296, 12433,  4662,   205,     5,   683,     5,\n",
            "             6,   298, 15092,    53,     8,  1988,    21,     8, 20061,    13,\n",
            "             8,  5161,     6,  2681,     3, 24638,    30,  5637,    27,     5,\n",
            "           434,     5,   448,     5,   305,  4241,  1375,   668,  5637,    41,\n",
            "           208,    61,    84,  1250,     3,     9, 20061,    16,  1445,    13,\n",
            "           136,  4505,     7,  1866,    30,   905,    13,  1322,  3751,     5,\n",
            "            94,    47,  6970,    24,  1322,  3751,  5024,    30,     8,   337,\n",
            "          2418,    53,    38, 10516,  5161,    11,    24,    38,     8, 25606,\n",
            "           263,     3,     9,   534,  6537,    21, 20061,    13,  4505,     7,\n",
            "         19608,    16,  3553,    12,  1322,  3751,    68,    59,    16,  1445,\n",
            "            13,  4505,     7,  1866,    30,   905,    13, 10516,  5161,    24,\n",
            "         24062,  7972,    24,     8, 20061,    47,    59,   995,   179,     5,\n",
            "           242,     8,   337,  1730,  2848,    47,    92,   263,    12,     8,\n",
            "           813,  2099,     3,  1938,     7,    13,  1375,   335,    84,  1154,\n",
            "            28,   268, 18651,     7,    11,   213,    77, 20061,    13,   136,\n",
            "          4505,  1866,    30,   905,    13,  1322,  5109,    15,   206,    15,\n",
            "             6,   415,  1917,    42, 10516,  5161,    65,   118,  2225,     5,\n",
            "            86,     8, 16129,    26,    53,   294,    13,   112,  7661,     8,\n",
            "          2525,  5116,  3736,     7,     3,  1225,    15,   243,    24,    34,\n",
            "            47,    59,  1316,    21,   376,    12,  1099,   125,     8,  2883,\n",
            "          2530,    13,     8,  1234,    47,    11,    24,    34,    47, 10286,\n",
            "             3,    75,  4741,    21,   376,    12,   497,    24,    34,   410,\n",
            "            59,  1189, 10516,  5161,    84,    33,   263,     3,     9,  1567,\n",
            "            30,     8,   785,   365,  1375,     3, 24837,    13,     8, 16327,\n",
            "             9,    63, 16492,  1983,     5,  6404,     3, 11682,     8,  2883,\n",
            "          2530,    13,     8,  1234,   261,    57,     8, 18692,    34,  1330,\n",
            "            12,   178,    34,    47,    59,   487,    12,  3658,    44,     8,\n",
            "          7489,    24,     8,  5161,   130,    59,   441,     8,   183,  2360,\n",
            "            13,     8, 14442,     5,    94,    19, 15468,    24,     8,  2329,\n",
            "          5461,    13,     3,     9,  2243,    19,    12,   428,  1504,    12,\n",
            "             8,  8762,    13,     8, 25606,    38,  7103,    16,     8,  1234,\n",
            "           261,    57,    34,    11,   150,  1067,  4587,    54,    36,   718,\n",
            "            16,  3052,     3,    17,   667,   253,    24,  8762,     5,  7204,\n",
            "          2848,    12, 14442,    41,   208,    61,    13,     8,  1375,    19,\n",
            "            59,   182,  2690,   250,  1322,  3751,    19,     3,     9,  1567,\n",
            "            13,     3,     9, 26979,  1405,    30,    66,  3950,    11,     3,\n",
            "          6347,    11,    24,   271,    78,     6,     3,     9, 20061,    16,\n",
            "          1445,    13,     8,   866,    47,  2799,    16,  3980,  1353,     5,\n",
            "         16492,  5161,     6,    30,     8,   119,   609,     6,   103,    59,\n",
            "          1518,    30,     8,   337,  2418,    53,    38,  1322,  3751,     5,\n",
            "            37,   973,    38,    12,   135,     3, 15550,    45,  7985,    12,\n",
            "          7985,    11,    79,   164,    59,    36,  6539,     3,     9,  1567,\n",
            "            30,   785,    16,    66,  1488,     5,    37, 12409,     7,    50,\n",
            "          2693,  1330,    12,    43,   816,    24,    78,   623,    38, 10516,\n",
            "          5161,    30,   785,    33,  4376,     6,     3,    99,    79,  1590,\n",
            "           441,     8,   183,  2360,    13, 14442,    41,    23,   208,   201,\n",
            "         20061,     1]])\n",
            "summary_ids\n",
            "tensor([[    0, 32099,    13,     8,  1104,     6, 32098,     8, 32097,    13,\n",
            "             8, 18692,     6, 32096,     8,  1353,    13,     8,  1375,     5,\n",
            "            94,    19, 15468,    24,     8,  2329,  5461,    13]])\n",
            "Output\n",
            "of the tax, the of the statute, the terms of the section. It is elementary that the primary duty of\n",
            "Value of l is: 16\n",
            "input_tokenized\n",
            "tensor([[  438,   248,  1445,     6,    34,   164,    36,  8744,    91,    24,\n",
            "            66,  3991,    16,     3,     9,   194,   164,    36,    42,    33,\n",
            "            13,     3,     9,  7660,    11, 27030,     3,    29,     9,     3,\n",
            "          2693,     5,   156,   150,  4647,    19,   263,     6,   150,  1567,\n",
            "            19,   664,     3, 31814,    11,  5604,   132,    19,     3,     9,\n",
            "          1567,     6,    34,    54,    36,  1936,    42,  3915,   383,     8,\n",
            "           215,   893,    57,  1942,    42,    57,  1151, 24564,     5,    86,\n",
            "          6698,     7, 12187,     7,  3937,     5,     3,   208,     7,    86,\n",
            "            40,   232, 19764, 14595,     7,  5637,    34,    47,  1213,    57,\n",
            "             8,  1384,    13,  2809,     7,    24,     8,   685,    24,   824,\n",
            "          4364,   130, 27030,    11,  7660,    16,   866,   410,    59,  2603,\n",
            "            70,  1848,    13,   271,  2041,  4364,    11,    24,     8,  1448,\n",
            "             6,    96, 30627,   121,   398,    36,  1026,    12,    43,     8,\n",
            "           463,    13,   271,     3,    60, 14907,    42,   271,  3919,    13,\n",
            "             3,    60,  3663,    52,  1433,     5,    86,  1839,    29,   986,\n",
            "             3,    31,     7,     3, 29972,     3,   208,     7,    86,    40,\n",
            "           232, 19764, 14595,     7,  6499,    34,    47,  1213,    24,     8,\n",
            "          4364,   130,  3919,    13,   271,     3,    60,  3663,  3170,    11,\n",
            "           130,  2459,  2041,  4364,   441,     8,  2530,    13,  2023,   309,\n",
            "             6,   495,  6289,     6,  3356,   209,  5637,     6,   237,   713,\n",
            "            79,   130,    59,  6539,     3,    60, 14907,   215,    57,   215,\n",
            "            11,     8,   685,    24,    79, 10535,    16,   866,    47,   256,\n",
            "         11303,     5,    37,  2525, 10154,  2146,    16,   903,    13,   175,\n",
            "          3055,   410,    59,   380,     8,   903,  7103,    57,  4540,    23,\n",
            "             9,   446,     5,   419,  9928,   565,    47,  2681,    30,     3,\n",
            "             9,  1357,    13,     8,  1592,  2243,    13,  1534,  3515,     7,\n",
            "            16, 14200,    26,  4420,    23,     3,   208,     7, 14595,    13,\n",
            "         20110,  1104,     6,  1534,  3515,     7, 17867,     6,    16,    84,\n",
            "           540,     7,  1866,    38,  4150,   256,  7168,    15,   179,   785,\n",
            "          1104,   365,     8, 16327,     9,    63,  7679,  1983,   130,  1028,\n",
            "           138, 22411,    38,    16, 20466,     7,     3,     7,  2317,   365,\n",
            "          1375,   668,  5637,    41,    23,   208,    61,    42,   668,  5637,\n",
            "            41,   208,    61,    13,     8,  2557, 20110,  1104,  1983,     5,\n",
            "             3,    31,  3713,  1357,     3,  8199,  2348,     8,   903,  7103,\n",
            "            16, 14595,    13,  2055,  1104,     6, 16327,     9,    63,     3,\n",
            "           208,     7,  1534,  5515,    26,   115,  3534,    63, 11768,   354,\n",
            "            23,     3, 10820,   232,    47,    59,  4363,    44,    30,   136,\n",
            "          2547,    42,  1434, 20893,    11,    19,    59,    13,   231,  2927,\n",
            "            16,     8,  7908,     3,  1938,    13,     8,   495,     5,    37,\n",
            "         21329,     9,  5514,  1592,  2243,  5637,  6499,   784,  2294,  3707,\n",
            "           908,   209,    71,     5,   427,     5,   448,     5,  4261,     5,\n",
            "         10153,    27,     5,   434,     5,   448,     5,     3, 10820,    27,\n",
            "             5,   434,     5,   448,     5,   305,  3891,    16,   350,  3096,\n",
            "           440,   138,  4540,  1024,    23,    63,     9,   325,    40,     3,\n",
            "           208,     7, 14595,    13, 20110, 14727,  5637,    41,   532,  2895,\n",
            "          3958,    61,   808,     3,     9,  2024,   903,    13,    48,  1052,\n",
            "            11,     8, 20893,   787,   132,    77,    65,    69,  5142,     5,\n",
            "            37,   741,    19,    24,    48,  3958,    19,  2225,    11,     8,\n",
            "           192,   746,    84,   130,     3,  4822,    12,     8,  1592,  2243,\n",
            "            57,     8, 20110,  1104, 24910,    11,     3, 11675,   756,    33,\n",
            "          9986,    16,     8, 11153,  1528,     5,    37,  8319,  6761,     7,\n",
            "            56,     1]])\n",
            "summary_ids\n",
            "tensor([[    0, 32099,     3,     9,  1357,    13,     8,  1592,  2243,    13,\n",
            "          1534,  3515,     7,    16, 14200,    26,  4420,    23,     3,   208,\n",
            "             7]])\n",
            "Output\n",
            "a decision of the High Court of Madras in Mamad Keyi vs\n",
            "Summaries: ['of the High Court of Judicature at Bombay in a reference under section 66 of the Indian Income tax', ',, a charge on the property, i.e., the amount of any interest payable on such', ', the words \"annual charge\" mean a charge to secure an annual liability . it is clear that there is no conflict', 'the annual rateable value of the building in section 154. Section 156 provides for the maintenance of an assessment book .', \"is an annual levy on the property ' and are assessed on the annual value of the property each year . the\", 'of the tax, the of the statute, the terms of the section. It is elementary that the primary duty of', 'a decision of the High Court of Madras in Mamad Keyi vs']\n",
            "131\n",
            "The charge created in respect of municipal property tax by section 212 of the City of Bombay Municipal Act, 1888, is an \"annual charge not being a capital charge\" within the mean ing of section 9 (1) (iv) of the Indian Income tax Act, 199.2, and the amount of such charge should therefore be deducted in computing the income from such property for the purposes of section 9 of the Indian Income tax Act.\n",
            "The charge in respect of urban immoveable property tax created by the Bombay Finance Act, 1939 is similar in character and the amount of such charge should also be deducted.\n",
            "The expression \"capital charge\" in s.9(1) (iv) means a charge created for a capital sum,that is to say, a charge created to. ' secure the discharge of a liability of a capi tal nature; and an \"annual charge\" means a charge to secure an annual liabili ty. 554\n",
            "\n",
            "------------------------------------------------------------------\n",
            "of the High Court of Judicature at Bombay in a reference under section 66 of the Indian Income tax ,, a charge on the property, i.e., the amount of any interest payable on such , the words \"annual charge\" mean a charge to secure an annual liability . it is clear that there is no conflict the annual rateable value of the building in section 154. Section 156 provides for the maintenance of an assessment book . is an annual levy on the property ' and are assessed on the annual value of the property each year . the of the tax, the of the statute, the terms of the section. It is elementary that the primary duty of a decision of the High Court of Madras in Mamad Keyi vs\n"
          ]
        },
        {
          "output_type": "display_data",
          "data": {
            "text/plain": [
              "Downloading builder script:   0%|          | 0.00/7.95k [00:00<?, ?B/s]"
            ],
            "application/vnd.jupyter.widget-view+json": {
              "version_major": 2,
              "version_minor": 0,
              "model_id": "479475b7ef404f0abb30149ecb2d5f1a"
            }
          },
          "metadata": {}
        },
        {
          "output_type": "display_data",
          "data": {
            "text/plain": [
              "Downloading (…)okenizer_config.json:   0%|          | 0.00/28.0 [00:00<?, ?B/s]"
            ],
            "application/vnd.jupyter.widget-view+json": {
              "version_major": 2,
              "version_minor": 0,
              "model_id": "17412772d26e4da98fadf34c5d11c4d3"
            }
          },
          "metadata": {}
        },
        {
          "output_type": "display_data",
          "data": {
            "text/plain": [
              "Downloading (…)lve/main/config.json:   0%|          | 0.00/483 [00:00<?, ?B/s]"
            ],
            "application/vnd.jupyter.widget-view+json": {
              "version_major": 2,
              "version_minor": 0,
              "model_id": "69b8b76ddb6a4b2ba177ac0c4b51b9ba"
            }
          },
          "metadata": {}
        },
        {
          "output_type": "display_data",
          "data": {
            "text/plain": [
              "Downloading (…)solve/main/vocab.txt:   0%|          | 0.00/232k [00:00<?, ?B/s]"
            ],
            "application/vnd.jupyter.widget-view+json": {
              "version_major": 2,
              "version_minor": 0,
              "model_id": "f0a3b535a2aa41e88a89978a47ce2616"
            }
          },
          "metadata": {}
        },
        {
          "output_type": "display_data",
          "data": {
            "text/plain": [
              "Downloading model.safetensors:   0%|          | 0.00/268M [00:00<?, ?B/s]"
            ],
            "application/vnd.jupyter.widget-view+json": {
              "version_major": 2,
              "version_minor": 0,
              "model_id": "fb2510e86b9f4329a13c57df657d07b5"
            }
          },
          "metadata": {}
        },
        {
          "output_type": "stream",
          "name": "stderr",
          "text": [
            "100%|██████████| 1/1 [00:33<00:00, 33.16s/it]\n"
          ]
        }
      ]
    },
    {
      "cell_type": "code",
      "source": [
        "agg_rouge_score = {'rouge-1':{'r':0,'p':0,'f':0},'rouge-2':{'r':0,'p':0,'f':0},\n",
        "                   'rouge-l':{'r':0,'p':0,'f':0}}\n",
        "\n",
        "for i in range(len(result_rouge_list)):\n",
        "  for rouge_type in ['rouge-1','rouge-2','rouge-l']:\n",
        "    for j in ['r','p','f']:\n",
        "      agg_rouge_score[rouge_type][j]+=(result_rouge_list[i][rouge_type][j]/len(result_rouge_list))\n",
        "\n",
        "print(agg_rouge_score)"
      ],
      "metadata": {
        "colab": {
          "base_uri": "https://localhost:8080/"
        },
        "id": "03chOB5ObYy1",
        "outputId": "c6104419-0db6-403c-d740-11d790465806"
      },
      "execution_count": null,
      "outputs": [
        {
          "output_type": "stream",
          "name": "stdout",
          "text": [
            "{'rouge-1': {'r': 0.3333333333333333, 'p': 0.3333333333333333, 'f': 0.3333333283333334}, 'rouge-2': {'r': 0.13636363636363635, 'p': 0.11811023622047244, 'f': 0.12658227350673878}, 'rouge-l': {'r': 0.32, 'p': 0.32, 'f': 0.31999999500000004}}\n"
          ]
        }
      ]
    },
    {
      "cell_type": "code",
      "source": [
        "result_bertscore_list"
      ],
      "metadata": {
        "colab": {
          "base_uri": "https://localhost:8080/"
        },
        "id": "oylwp-4re5w5",
        "outputId": "ba2c0a06-d1f3-442a-f86a-6ecf4230629a"
      },
      "execution_count": null,
      "outputs": [
        {
          "output_type": "execute_result",
          "data": {
            "text/plain": [
              "[{'precision': [0.8016878366470337],\n",
              "  'recall': [0.7912459969520569],\n",
              "  'f1': [0.7964326739311218],\n",
              "  'hashcode': 'distilbert-base-uncased_L5_no-idf_version=0.3.12(hug_trans=4.30.2)'}]"
            ]
          },
          "metadata": {},
          "execution_count": 40
        }
      ]
    },
    {
      "cell_type": "code",
      "source": [
        "agg_bertscore = {'precision':0, 'recall':0, 'f1':0}\n",
        "\n",
        "for i in range(len(result_bertscore_list)):\n",
        "  for metric_type in ['precision','recall','f1']:\n",
        "    agg_bertscore[metric_type]+=((result_bertscore_list[i][metric_type][0])/len(result_bertscore_list))"
      ],
      "metadata": {
        "id": "JnqjNh8FfjXB"
      },
      "execution_count": null,
      "outputs": []
    },
    {
      "cell_type": "code",
      "source": [
        "agg_bertscore"
      ],
      "metadata": {
        "colab": {
          "base_uri": "https://localhost:8080/"
        },
        "id": "mtxij3j8g6d5",
        "outputId": "dd530780-10ff-4cfd-9979-d200e3618de8"
      },
      "execution_count": null,
      "outputs": [
        {
          "output_type": "execute_result",
          "data": {
            "text/plain": [
              "{'precision': 0.8016878366470337,\n",
              " 'recall': 0.7912459969520569,\n",
              " 'f1': 0.7964326739311218}"
            ]
          },
          "metadata": {},
          "execution_count": 43
        }
      ]
    },
    {
      "cell_type": "markdown",
      "source": [
        "# CODE 3B: Evaluation of Pre-Trained t5 (Extractive)"
      ],
      "metadata": {
        "id": "HYXVVTM6hVUX"
      }
    },
    {
      "cell_type": "code",
      "source": [
        "!pip install evaluate\n",
        "!pip install bert_score"
      ],
      "metadata": {
        "id": "hFAXQLmfhVUX"
      },
      "execution_count": null,
      "outputs": []
    },
    {
      "cell_type": "code",
      "source": [
        "import sys\n",
        "sys.path.insert(0, '../')\n",
        "import glob\n",
        "import os\n",
        "import json\n",
        "import pandas as pd\n",
        "import nltk\n",
        "nltk.download('punkt')\n",
        "from rouge_score import rouge_scorer\n",
        "from rouge import Rouge\n",
        "import math\n",
        "import numpy as np\n",
        "from tqdm import tqdm\n",
        "from evaluate import load"
      ],
      "metadata": {
        "colab": {
          "base_uri": "https://localhost:8080/"
        },
        "outputId": "82b2bf92-43c9-4a54-e98a-70e54386ae36",
        "id": "tBWLjS3hhVUY"
      },
      "execution_count": null,
      "outputs": [
        {
          "output_type": "stream",
          "name": "stderr",
          "text": [
            "[nltk_data] Downloading package punkt to /root/nltk_data...\n",
            "[nltk_data]   Package punkt is already up-to-date!\n"
          ]
        }
      ]
    },
    {
      "cell_type": "code",
      "source": [
        "ext_analysis = pd.read_csv('Extractive Test Dataset Analysis.csv')"
      ],
      "metadata": {
        "id": "wNyW_7G6hVUa"
      },
      "execution_count": null,
      "outputs": []
    },
    {
      "cell_type": "code",
      "source": [
        "names, summ_word_count = list(ext_analysis['File']), list(ext_analysis['L = Average Summary Word Count'])\n",
        "\n",
        "get_req_len = {}\n",
        "for i in range(len(names)):\n",
        "  get_req_len[names[i]] = summ_word_count[i]"
      ],
      "metadata": {
        "id": "IgQanB1ohVUa"
      },
      "execution_count": null,
      "outputs": []
    },
    {
      "cell_type": "code",
      "source": [
        "get_req_len"
      ],
      "metadata": {
        "colab": {
          "base_uri": "https://localhost:8080/"
        },
        "id": "rxFv5w0ginV7",
        "outputId": "e80bfe5f-dd47-4aa9-f527-85168630e8af"
      },
      "execution_count": null,
      "outputs": [
        {
          "output_type": "execute_result",
          "data": {
            "text/plain": [
              "{'2012_S_270.txt': 1362,\n",
              " '2014_J_33.txt': 1007,\n",
              " '2014_R_41.txt': 1078,\n",
              " '2015_J_10.txt': 1126,\n",
              " '2015_S_368.txt': 1400}"
            ]
          },
          "metadata": {},
          "execution_count": 52
        }
      ]
    },
    {
      "cell_type": "code",
      "source": [
        "# Loading Model and tokenizer\n",
        "from transformers import AutoTokenizer, AutoModelForSeq2SeqLM\n",
        "\n",
        "tokenizer = AutoTokenizer.from_pretrained(\"t5-small\")\n",
        "model = AutoModelForSeq2SeqLM.from_pretrained(\"t5-small\")"
      ],
      "metadata": {
        "id": "98FW1go7hVUb",
        "colab": {
          "base_uri": "https://localhost:8080/",
          "height": 301,
          "referenced_widgets": [
            "fec1f02245ed4b2cbe0795988a8801c6",
            "cc97b382c1f34967bb8dc506b7659ae8",
            "9862af43bb514e7093b96d4bbb0ca182",
            "c5e57175f6224487b0ab3f924c61422e",
            "cf1347e244a64a50bf9c42a81aea0c2d",
            "fe7f0ff414d04ba4943c19ac1bb3f612",
            "7e3112b285a74d2e99d58e8460d7916d",
            "f48f4314a56a42ed99c0bbb52fdd786a",
            "9821f446a52b4422b8bccd122bdb1754",
            "21afbfa37a444c80940ab75199400e4e",
            "e9e1a3318397479bb66c335699eecd5f",
            "e56c974916144ffbb5d321d405ffa00d",
            "daaa65325760474c93c174540a0be961",
            "933e14ba3b2a40fe928e520df1623707",
            "1575f0605bb84e8cb08a00296ba42363",
            "4fd444ab28284c40ba321c55dbace6d8",
            "495ffb7ae4e64a8ab893b232361d15a1",
            "be4944578af946568ae795cb783f21f4",
            "b2c439df892d441e885f0e7b17156975",
            "38a99eef45f94223aa68e02022ca210f",
            "4048508f79354c96abc0905f85ac1612",
            "b132e660e7a442ba96efc41990259a27",
            "147fed0eb70c475a9b6b160ecc6e30e0",
            "196f8c3623c94f8b93752c1b974ad0c6",
            "a645bb14f84e45dfa491a49b07e674dc",
            "d2ae4578d835464aa014e3aa5dca9f92",
            "6e7c0f9d326d4e54aa7e0d133ee3a366",
            "bf578f680b384781a7fe0043ea79c2db",
            "0570ec625b6e483eb45be1eaaf74a0c9",
            "1596ded49a7f4d41b5ebd32b2a7f5223",
            "e7dacf4b65744fc4a99e6904c14cdba7",
            "a9389c6d33a840d8843379d5e011ca1b",
            "f0b1d7c3410a4effa84f0dc3906efb09",
            "634e12a2db184c00adb4ac3830848067",
            "08e19db858af4c57a3eff820d506cc8e",
            "38068c685de74dc58199517b2febf2c9",
            "c6592bcc5de045f58e5ac439aa1d0e83",
            "ada9772e839240f5aedbc8c29abd8274",
            "f7d7ff9f39bd48eebbfd03f700ae945b",
            "be83e53f86ee4bee9a1ea77ed47f88b2",
            "005dfd3f50634c629f271acce264b53d",
            "d934ae40adaf4bf7a075a3dc225e023e",
            "dd82fcb2d6ad4693b8fd365532a9c44a",
            "8b6b363d176f438b9c4fc1bbf7a2d0e8",
            "1764bc1a214b4a7e875f1e8408393663",
            "e1f0a6905e2f4591b3975457dc3b2531",
            "f509cf50fe00416c94e01ec4fe4fa348",
            "8f611a9360a14b9990466cc30393dc63",
            "93922d61ea3d4754a9adcb36796f2893",
            "2e307b1537fa4f8c92672c58e6d7235a",
            "9c34ac25c0bc447ea0670344338e4324",
            "59f80c3d448342d4b8fad4b6cce3a484",
            "5a9b67d349054491a39d34ae84ffcbd8",
            "767134633590437da9c2aa33a5638990",
            "4a058c62054645569850f8554d78520a"
          ]
        },
        "outputId": "cdc0ba07-be8d-4276-b55a-577be322ed17"
      },
      "execution_count": null,
      "outputs": [
        {
          "output_type": "display_data",
          "data": {
            "text/plain": [
              "Downloading (…)lve/main/config.json:   0%|          | 0.00/1.21k [00:00<?, ?B/s]"
            ],
            "application/vnd.jupyter.widget-view+json": {
              "version_major": 2,
              "version_minor": 0,
              "model_id": "fec1f02245ed4b2cbe0795988a8801c6"
            }
          },
          "metadata": {}
        },
        {
          "output_type": "display_data",
          "data": {
            "text/plain": [
              "Downloading (…)ve/main/spiece.model:   0%|          | 0.00/792k [00:00<?, ?B/s]"
            ],
            "application/vnd.jupyter.widget-view+json": {
              "version_major": 2,
              "version_minor": 0,
              "model_id": "e56c974916144ffbb5d321d405ffa00d"
            }
          },
          "metadata": {}
        },
        {
          "output_type": "display_data",
          "data": {
            "text/plain": [
              "Downloading (…)/main/tokenizer.json:   0%|          | 0.00/1.39M [00:00<?, ?B/s]"
            ],
            "application/vnd.jupyter.widget-view+json": {
              "version_major": 2,
              "version_minor": 0,
              "model_id": "147fed0eb70c475a9b6b160ecc6e30e0"
            }
          },
          "metadata": {}
        },
        {
          "output_type": "stream",
          "name": "stderr",
          "text": [
            "/usr/local/lib/python3.10/dist-packages/transformers/models/t5/tokenization_t5_fast.py:155: FutureWarning: This tokenizer was incorrectly instantiated with a model max length of 512 which will be corrected in Transformers v5.\n",
            "For now, this behavior is kept to avoid breaking backwards compatibility when padding/encoding with `truncation is True`.\n",
            "- Be aware that you SHOULD NOT rely on t5-large automatically truncating your input to 512 when padding/encoding.\n",
            "- If you want to encode/pad to sequences longer than 512 you can either instantiate this tokenizer with `model_max_length` or pass `max_length` when encoding/padding.\n",
            "- To avoid this warning, please instantiate this tokenizer with `model_max_length` set to your preferred value.\n",
            "  warnings.warn(\n"
          ]
        },
        {
          "output_type": "display_data",
          "data": {
            "text/plain": [
              "Downloading model.safetensors:   0%|          | 0.00/2.95G [00:00<?, ?B/s]"
            ],
            "application/vnd.jupyter.widget-view+json": {
              "version_major": 2,
              "version_minor": 0,
              "model_id": "634e12a2db184c00adb4ac3830848067"
            }
          },
          "metadata": {}
        },
        {
          "output_type": "display_data",
          "data": {
            "text/plain": [
              "Downloading (…)neration_config.json:   0%|          | 0.00/147 [00:00<?, ?B/s]"
            ],
            "application/vnd.jupyter.widget-view+json": {
              "version_major": 2,
              "version_minor": 0,
              "model_id": "1764bc1a214b4a7e875f1e8408393663"
            }
          },
          "metadata": {}
        }
      ]
    },
    {
      "cell_type": "code",
      "source": [
        "def nest_sentences(document,chunk_length):\n",
        "    '''\n",
        "    function to chunk a document\n",
        "    input:  document           - Input document\n",
        "            chunk_length        - chunk length\n",
        "    output: list of chunks. Each chunk is a string.\n",
        "    '''\n",
        "    nested = []  # to store list of chunks of a doc\n",
        "    sent = []    # to store sentences per chunk in loop\n",
        "    length = 0\n",
        "    for sentence in nltk.sent_tokenize(document):\n",
        "        length += len(sentence.split(\" \"))       # adding no of words per sentence\n",
        "        if length < chunk_length:\n",
        "            sent.append(sentence)\n",
        "        else:\n",
        "            nested.append(\" \".join(sent))        # when word limit exceed chunk length (512 for t5) add the list of sentences (a chunk) after joining to the nested list\n",
        "            sent = []                            # create a new list to store next batch fof sentences for subsequent chunk\n",
        "            sent.append(sentence)\n",
        "            length = 0\n",
        "            length += len(sentence.split(\" \"))   # added to include length i=of sentence in else loop. Initially not added\n",
        "    if len(sent)>0:\n",
        "        nested.append(\" \".join(sent))            # including the final list of sentences to nested\n",
        "    return nested                                # return the list of chunks of that doc"
      ],
      "metadata": {
        "id": "kxhe4AlohVUb"
      },
      "execution_count": null,
      "outputs": []
    },
    {
      "cell_type": "code",
      "source": [
        "def generate_summary_gpu(nested_sentences,p=0.2):\n",
        "  '''\n",
        "    Function to generate summaries from the list containing chunks of the document\n",
        "    input:  nested_sentences - chunks\n",
        "            p - Number of words in summaries per word in the document\n",
        "    output: document summary\n",
        "    '''\n",
        "  summaries = []\n",
        "  for nested in nested_sentences:         # looping through each of the chunks\n",
        "    l = int(p * len(nested.split(\" \")))   # multiplying p with length of chunk to distribute summary length to that particular chunk\n",
        "    input_tokenized = tokenizer.encode(nested, truncation=True, return_tensors='pt')\n",
        "    summary_ids = model.generate(input_tokenized,\n",
        "                                      length_penalty=0.01,\n",
        "                                      min_length=l-5,\n",
        "                                      max_length=l+5)\n",
        "    output = tokenizer.decode(summary_ids[0], skip_special_tokens=True, clean_up_tokenization_spaces=False)\n",
        "    summaries.append(output)\n",
        "  return summaries"
      ],
      "metadata": {
        "id": "wsOty1HZhVUb"
      },
      "execution_count": null,
      "outputs": []
    },
    {
      "cell_type": "markdown",
      "source": [
        "### Testing A1"
      ],
      "metadata": {
        "id": "TbjiYDnyhuuP"
      }
    },
    {
      "cell_type": "code",
      "execution_count": null,
      "metadata": {
        "id": "zMatqac7hVUZ"
      },
      "outputs": [],
      "source": [
        "def get_root_path():\n",
        "    '''\n",
        "    function to get root path of dataset\n",
        "    change the path variable to the path of the dataset\n",
        "    '''\n",
        "    path = \"/content/drive/MyDrive/ExtractiveDataset/test-data\"  # use all 50 docs for testing if using abstractive dataset for training\n",
        "    return path\n",
        "\n",
        "def get_summary_data():\n",
        "    '''\n",
        "    function to get names, documents, and summaries\n",
        "    change the path variable to the path of the dataset\n",
        "    '''\n",
        "\n",
        "    path = get_root_path() + '/judgement'\n",
        "    all_files = glob.glob(path + \"/*.txt\")\n",
        "    data_source = []\n",
        "    names = []\n",
        "    for filename in all_files:\n",
        "        with open(filename, 'r') as f:\n",
        "            p = filename.rfind(\"/\")\n",
        "            names.append(filename[p+1:])\n",
        "            a = f.read()\n",
        "            data_source.append(a)\n",
        "    path = get_root_path() + '/summary/A1'\n",
        "    all_files = glob.glob(path + \"/*.txt\")\n",
        "    data_summary = []\n",
        "    for filename in all_files:\n",
        "        with open(filename, 'r') as f:\n",
        "            a = f.read()\n",
        "            l = len(a)\n",
        "            data_summary.append(a)\n",
        "\n",
        "    return names, data_source, data_summary\n",
        "\n",
        "def split_to_sentences(para):\n",
        "    sents = nltk.sent_tokenize(para)   # returns list of sentences from para\n",
        "    return sents"
      ]
    },
    {
      "cell_type": "code",
      "source": [
        "names, data_source, data_summary = get_summary_data()\n",
        "print(len(names))\n",
        "print(len(data_source))\n",
        "print(len(data_summary))\n"
      ],
      "metadata": {
        "colab": {
          "base_uri": "https://localhost:8080/"
        },
        "outputId": "d87bf171-3427-440a-b0de-5d74d58377e4",
        "id": "ktCH3faohVUZ"
      },
      "execution_count": null,
      "outputs": [
        {
          "output_type": "stream",
          "name": "stdout",
          "text": [
            "5\n",
            "5\n",
            "5\n"
          ]
        }
      ]
    },
    {
      "cell_type": "code",
      "source": [
        "# main loop to generate and save summaries of each document in the test dataset\n",
        "\n",
        "result_rouge_list = []\n",
        "result_bertscore_list = []\n",
        "\n",
        "for i in tqdm(range(len(data_source))):\n",
        "    name = names[i]\n",
        "    doc = data_source[i]\n",
        "    input_len = len(doc.split(\" \"))\n",
        "    req_len = get_req_len[name]\n",
        "    print(str(i) + \": \" + name +  \" - \" + str(input_len) + \" : \" + str(req_len), end = \" ,\")\n",
        "\n",
        "    nested = nest_sentences(doc,512)  # returns a list of chunks with word count < 512\n",
        "    p = float(req_len/input_len)  # p is the ratio of summary length to doc length\n",
        "    print('Value of p for doc {} is {}'.format(i,p))\n",
        "\n",
        "    extr_summ = generate_summary_gpu(nested,p)  # returns list of chunks summaries\n",
        "\n",
        "    extr_summ = \" \".join(extr_summ)\n",
        "\n",
        "    if len(extr_summ.split(\" \")) > req_len:\n",
        "        extr_summ = extr_summ.split(\" \")\n",
        "        extr_summ = extr_summ[:req_len]\n",
        "        extr_summ = \" \".join(extr_summ)\n",
        "\n",
        "    print(len(data_summary[i].split(' ')),len(extr_summ.split(' ')))\n",
        "\n",
        "    rouge = Rouge()\n",
        "    result_rouge_list.append(rouge.get_scores(extr_summ, data_summary[i], avg=True))\n",
        "    bertscore = load(\"bertscore\")\n",
        "    result_bertscore_list.append(bertscore.compute(predictions=[extr_summ], references=[data_summary[i]], model_type=\"distilbert-base-uncased\"))\n",
        "    print('---------------------------------------------------------------------------------------------------------------')"
      ],
      "metadata": {
        "colab": {
          "base_uri": "https://localhost:8080/"
        },
        "outputId": "ad59246c-625c-4da9-9ddb-7c6e88872c17",
        "id": "Qs0M8BpThVUc"
      },
      "execution_count": null,
      "outputs": [
        {
          "output_type": "stream",
          "name": "stderr",
          "text": [
            "\r  0%|          | 0/5 [00:00<?, ?it/s]"
          ]
        },
        {
          "output_type": "stream",
          "name": "stdout",
          "text": [
            "0: 2012_S_270.txt - 4248 : 1362 ,Value of p for doc 0 is 0.3206214689265537\n",
            "1271 892\n"
          ]
        },
        {
          "output_type": "stream",
          "name": "stderr",
          "text": [
            "\r 20%|██        | 1/5 [07:00<28:03, 420.77s/it]"
          ]
        },
        {
          "output_type": "stream",
          "name": "stdout",
          "text": [
            "---------------------------------------------------------------------------------------------------------------\n",
            "1: 2014_J_33.txt - 3732 : 1007 ,Value of p for doc 1 is 0.26982851018220794\n",
            "1395 652\n"
          ]
        },
        {
          "output_type": "stream",
          "name": "stderr",
          "text": [
            "\r 40%|████      | 2/5 [12:20<18:03, 361.29s/it]"
          ]
        },
        {
          "output_type": "stream",
          "name": "stdout",
          "text": [
            "---------------------------------------------------------------------------------------------------------------\n",
            "2: 2014_R_41.txt - 3293 : 1078 ,Value of p for doc 2 is 0.32736106893410266\n",
            "1042 671\n"
          ]
        },
        {
          "output_type": "stream",
          "name": "stderr",
          "text": [
            "\r 60%|██████    | 3/5 [17:46<11:30, 345.08s/it]"
          ]
        },
        {
          "output_type": "stream",
          "name": "stdout",
          "text": [
            "---------------------------------------------------------------------------------------------------------------\n",
            "3: 2015_J_10.txt - 2816 : 1126 ,Value of p for doc 3 is 0.39985795454545453\n",
            "1123 700\n"
          ]
        },
        {
          "output_type": "stream",
          "name": "stderr",
          "text": [
            "\r 80%|████████  | 4/5 [23:23<05:42, 342.03s/it]"
          ]
        },
        {
          "output_type": "stream",
          "name": "stdout",
          "text": [
            "---------------------------------------------------------------------------------------------------------------\n",
            "4: 2015_S_368.txt - 4944 : 1400 ,Value of p for doc 4 is 0.28317152103559873\n",
            "1000 970\n"
          ]
        },
        {
          "output_type": "stream",
          "name": "stderr",
          "text": [
            "100%|██████████| 5/5 [30:42<00:00, 368.47s/it]"
          ]
        },
        {
          "output_type": "stream",
          "name": "stdout",
          "text": [
            "---------------------------------------------------------------------------------------------------------------\n"
          ]
        },
        {
          "output_type": "stream",
          "name": "stderr",
          "text": [
            "\n"
          ]
        }
      ]
    },
    {
      "cell_type": "code",
      "source": [
        "agg_rouge_score_1 = {'rouge-1':{'r':0,'p':0,'f':0},'rouge-2':{'r':0,'p':0,'f':0},\n",
        "                   'rouge-l':{'r':0,'p':0,'f':0}}\n",
        "\n",
        "for i in range(len(result_rouge_list)):\n",
        "  for rouge_type in ['rouge-1','rouge-2','rouge-l']:\n",
        "    for j in ['r','p','f']:\n",
        "      agg_rouge_score_1[rouge_type][j]+=(result_rouge_list[i][rouge_type][j]/len(result_rouge_list))\n",
        "\n",
        "print(agg_rouge_score_1)"
      ],
      "metadata": {
        "colab": {
          "base_uri": "https://localhost:8080/"
        },
        "outputId": "7e73bf4b-0a75-4f55-e81f-94c4c543f75e",
        "id": "dBIBc4TBhVUc"
      },
      "execution_count": null,
      "outputs": [
        {
          "output_type": "stream",
          "name": "stdout",
          "text": [
            "{'rouge-1': {'r': 0.21187794059777082, 'p': 0.49926828337230633, 'f': 0.2935809851176972}, 'rouge-2': {'r': 0.07604486106863347, 'p': 0.20917546307120924, 'f': 0.1102924148470025}, 'rouge-l': {'r': 0.20117182810722975, 'p': 0.47589578811019456, 'f': 0.2791278810436789}}\n"
          ]
        }
      ]
    },
    {
      "cell_type": "code",
      "source": [
        "agg_rouge_score = {'rouge-1':{'r':0,'p':0,'f':0},'rouge-2':{'r':0,'p':0,'f':0},\n",
        "                   'rouge-l':{'r':0,'p':0,'f':0}}\n",
        "\n",
        "for i in range(len(result_rouge_list)):\n",
        "  for rouge_type in ['rouge-1','rouge-2','rouge-l']:\n",
        "    for j in ['r','p','f']:\n",
        "      agg_rouge_score[rouge_type][j]+=(result_rouge_list[i][rouge_type][j]/len(result_rouge_list))\n",
        "\n",
        "print(agg_rouge_score)"
      ],
      "metadata": {
        "colab": {
          "base_uri": "https://localhost:8080/"
        },
        "id": "7sLGyhZFnYTC",
        "outputId": "dbe570f5-a429-4e80-9e76-1bc92b092657"
      },
      "execution_count": null,
      "outputs": [
        {
          "output_type": "stream",
          "name": "stdout",
          "text": [
            "{'rouge-1': {'r': 0.2646836811315612, 'p': 0.5158311807111967, 'f': 0.34773877790753815}, 'rouge-2': {'r': 0.11745500092110366, 'p': 0.2607631796877523, 'f': 0.16099472888649172}, 'rouge-l': {'r': 0.24842318831011073, 'p': 0.48322042057349646, 'f': 0.3261762596351606}}\n"
          ]
        }
      ]
    },
    {
      "cell_type": "code",
      "source": [
        "agg_rouge_score = {'rouge-1':{'r':0,'p':0,'f':0},'rouge-2':{'r':0,'p':0,'f':0},\n",
        "                   'rouge-l':{'r':0,'p':0,'f':0}}\n",
        "\n",
        "for i in range(len(result_rouge_list)):\n",
        "  for rouge_type in ['rouge-1','rouge-2','rouge-l']:\n",
        "    for j in ['r','p','f']:\n",
        "      agg_rouge_score[rouge_type][j]+=(result_rouge_list[i][rouge_type][j]/len(result_rouge_list))\n",
        "\n",
        "print(agg_rouge_score)"
      ],
      "metadata": {
        "colab": {
          "base_uri": "https://localhost:8080/"
        },
        "id": "czVnYTPOrvMl",
        "outputId": "ae9f35cd-f65a-4811-aa5d-aa4f188ef5cd"
      },
      "execution_count": null,
      "outputs": [
        {
          "output_type": "stream",
          "name": "stdout",
          "text": [
            "{'rouge-1': {'r': 0.22749430242212043, 'p': 0.5276166110191193, 'f': 0.31408489841639076}, 'rouge-2': {'r': 0.09151762551988118, 'p': 0.24330187430726596, 'f': 0.1316377500550266}, 'rouge-l': {'r': 0.2143858667701275, 'p': 0.496693264158179, 'f': 0.2958568731092143}}\n"
          ]
        }
      ]
    },
    {
      "cell_type": "code",
      "source": [
        "result_bertscore_list"
      ],
      "metadata": {
        "colab": {
          "base_uri": "https://localhost:8080/"
        },
        "outputId": "c68d0ea9-cacb-4b58-ee64-4bc3fdcbf97a",
        "id": "6FfXirdfhVUd"
      },
      "execution_count": null,
      "outputs": [
        {
          "output_type": "execute_result",
          "data": {
            "text/plain": [
              "[{'precision': [0.7382447123527527],\n",
              "  'recall': [0.7969600558280945],\n",
              "  'f1': [0.7664795517921448],\n",
              "  'hashcode': 'distilbert-base-uncased_L5_no-idf_version=0.3.12(hug_trans=4.30.2)'},\n",
              " {'precision': [0.7112758159637451],\n",
              "  'recall': [0.7061325311660767],\n",
              "  'f1': [0.7086948156356812],\n",
              "  'hashcode': 'distilbert-base-uncased_L5_no-idf_version=0.3.12(hug_trans=4.30.2)'},\n",
              " {'precision': [0.7737094163894653],\n",
              "  'recall': [0.7980799674987793],\n",
              "  'f1': [0.7857058048248291],\n",
              "  'hashcode': 'distilbert-base-uncased_L5_no-idf_version=0.3.12(hug_trans=4.30.2)'},\n",
              " {'precision': [0.7711803317070007],\n",
              "  'recall': [0.7235320806503296],\n",
              "  'f1': [0.7465967535972595],\n",
              "  'hashcode': 'distilbert-base-uncased_L5_no-idf_version=0.3.12(hug_trans=4.30.2)'},\n",
              " {'precision': [0.727262556552887],\n",
              "  'recall': [0.7312371730804443],\n",
              "  'f1': [0.7292444705963135],\n",
              "  'hashcode': 'distilbert-base-uncased_L5_no-idf_version=0.3.12(hug_trans=4.30.2)'}]"
            ]
          },
          "metadata": {},
          "execution_count": 59
        }
      ]
    },
    {
      "cell_type": "code",
      "source": [
        "agg_bertscore_1 = {'precision':0, 'recall':0, 'f1':0}\n",
        "\n",
        "for i in range(len(result_bertscore_list)):\n",
        "  for metric_type in ['precision','recall','f1']:\n",
        "    agg_bertscore_1[metric_type]+=((result_bertscore_list[i][metric_type][0])/len(result_bertscore_list))\n",
        "\n",
        "print(agg_bertscore_1)"
      ],
      "metadata": {
        "colab": {
          "base_uri": "https://localhost:8080/"
        },
        "id": "B1yfOrnBhVUd",
        "outputId": "fc8c428b-4513-4f64-af77-8bb05f98c977"
      },
      "execution_count": null,
      "outputs": [
        {
          "output_type": "stream",
          "name": "stdout",
          "text": [
            "{'precision': 0.7443345665931702, 'recall': 0.751188361644745, 'f1': 0.7473442792892456}\n"
          ]
        }
      ]
    },
    {
      "cell_type": "code",
      "source": [
        "agg_bertscore = {'precision':0, 'recall':0, 'f1':0}\n",
        "\n",
        "for i in range(len(result_bertscore_list)):\n",
        "  for metric_type in ['precision','recall','f1']:\n",
        "    agg_bertscore[metric_type]+=((result_bertscore_list[i][metric_type][0])/len(result_bertscore_list))\n",
        "\n",
        "print(agg_bertscore)"
      ],
      "metadata": {
        "colab": {
          "base_uri": "https://localhost:8080/"
        },
        "id": "3GF2oJLunZZx",
        "outputId": "837a276b-f86b-450e-a68c-30967a56131c"
      },
      "execution_count": null,
      "outputs": [
        {
          "output_type": "stream",
          "name": "stdout",
          "text": [
            "{'precision': 0.7701972365379335, 'recall': 0.7641741275787354, 'f1': 0.7671015024185182}\n"
          ]
        }
      ]
    },
    {
      "cell_type": "code",
      "source": [
        "agg_bertscore = {'precision':0, 'recall':0, 'f1':0}\n",
        "\n",
        "for i in range(len(result_bertscore_list)):\n",
        "  for metric_type in ['precision','recall','f1']:\n",
        "    agg_bertscore[metric_type]+=((result_bertscore_list[i][metric_type][0])/len(result_bertscore_list))\n",
        "\n",
        "print(agg_bertscore)"
      ],
      "metadata": {
        "colab": {
          "base_uri": "https://localhost:8080/"
        },
        "id": "cHrZXXsgrxFU",
        "outputId": "ae7fc000-9fb9-4cda-899b-2b36b1530417"
      },
      "execution_count": null,
      "outputs": [
        {
          "output_type": "stream",
          "name": "stdout",
          "text": [
            "{'precision': 0.7455814599990844, 'recall': 0.7416939735412597, 'f1': 0.7434224963188172}\n"
          ]
        }
      ]
    },
    {
      "cell_type": "markdown",
      "source": [
        "### Testing A2"
      ],
      "metadata": {
        "id": "ZVszpt4-nqrB"
      }
    },
    {
      "cell_type": "code",
      "execution_count": null,
      "metadata": {
        "id": "Tf6tWRR9nqrK"
      },
      "outputs": [],
      "source": [
        "def get_root_path():\n",
        "    '''\n",
        "    function to get root path of dataset\n",
        "    change the path variable to the path of the dataset\n",
        "    '''\n",
        "    path = \"/content/drive/MyDrive/ExtractiveDataset/test-data\"  # use all 50 docs for testing if using abstractive dataset for training\n",
        "    return path\n",
        "\n",
        "def get_summary_data():\n",
        "    '''\n",
        "    function to get names, documents, and summaries\n",
        "    change the path variable to the path of the dataset\n",
        "    '''\n",
        "\n",
        "    path = get_root_path() + '/judgement'\n",
        "    all_files = glob.glob(path + \"/*.txt\")\n",
        "    data_source = []\n",
        "    names = []\n",
        "    for filename in all_files:\n",
        "        with open(filename, 'r') as f:\n",
        "            p = filename.rfind(\"/\")\n",
        "            names.append(filename[p+1:])\n",
        "            a = f.read()\n",
        "            data_source.append(a)\n",
        "    path = get_root_path() + '/summary/A2'\n",
        "    all_files = glob.glob(path + \"/*.txt\")\n",
        "    data_summary = []\n",
        "    for filename in all_files:\n",
        "        with open(filename, 'r') as f:\n",
        "            a = f.read()\n",
        "            l = len(a)\n",
        "            data_summary.append(a)\n",
        "\n",
        "    return names, data_source, data_summary\n",
        "\n",
        "def split_to_sentences(para):\n",
        "    sents = nltk.sent_tokenize(para)   # returns list of sentences from para\n",
        "    return sents"
      ]
    },
    {
      "cell_type": "code",
      "source": [
        "names, data_source, data_summary = get_summary_data()\n",
        "print(len(names))\n",
        "print(len(data_source))\n",
        "print(len(data_summary))\n"
      ],
      "metadata": {
        "colab": {
          "base_uri": "https://localhost:8080/"
        },
        "outputId": "2d36441c-d24d-4dd0-a84b-a87489f8f528",
        "id": "1uLe1vX-nqrL"
      },
      "execution_count": null,
      "outputs": [
        {
          "output_type": "stream",
          "name": "stdout",
          "text": [
            "5\n",
            "5\n",
            "5\n"
          ]
        }
      ]
    },
    {
      "cell_type": "code",
      "source": [
        "# main loop to generate and save summaries of each document in the test dataset\n",
        "\n",
        "result_rouge_list = []\n",
        "result_bertscore_list = []\n",
        "\n",
        "for i in tqdm(range(len(data_source))):\n",
        "    name = names[i]\n",
        "    doc = data_source[i]\n",
        "    input_len = len(doc.split(\" \"))\n",
        "    req_len = get_req_len[name]\n",
        "    print(str(i) + \": \" + name +  \" - \" + str(input_len) + \" : \" + str(req_len), end = \" ,\")\n",
        "\n",
        "    nested = nest_sentences(doc,512)  # returns a list of chunks with word count < 512\n",
        "    p = float(req_len/input_len)  # p is the ratio of summary length to doc length\n",
        "    print('Value of p for doc {} is {}'.format(i,p))\n",
        "\n",
        "    extr_summ = generate_summary_gpu(nested,p)  # returns list of chunks summaries\n",
        "\n",
        "    extr_summ = \" \".join(extr_summ)\n",
        "\n",
        "    if len(extr_summ.split(\" \")) > req_len:\n",
        "        extr_summ = extr_summ.split(\" \")\n",
        "        extr_summ = extr_summ[:req_len]\n",
        "        extr_summ = \" \".join(extr_summ)\n",
        "\n",
        "    print(len(data_summary[i].split(' ')),len(extr_summ.split(' ')))\n",
        "\n",
        "    rouge = Rouge()\n",
        "    result_rouge_list.append(rouge.get_scores(extr_summ, data_summary[i], avg=True))\n",
        "    bertscore = load(\"bertscore\")\n",
        "    result_bertscore_list.append(bertscore.compute(predictions=[extr_summ], references=[data_summary[i]], model_type=\"distilbert-base-uncased\"))\n",
        "    print('---------------------------------------------------------------------------------------------------------------')"
      ],
      "metadata": {
        "colab": {
          "base_uri": "https://localhost:8080/"
        },
        "outputId": "43795dae-262a-4c9a-b6c5-cd6422b482c2",
        "id": "N8cR2f16nqrL"
      },
      "execution_count": null,
      "outputs": [
        {
          "output_type": "stream",
          "name": "stderr",
          "text": [
            "\r  0%|          | 0/5 [00:00<?, ?it/s]"
          ]
        },
        {
          "output_type": "stream",
          "name": "stdout",
          "text": [
            "0: 2012_S_270.txt - 4248 : 1362 ,Value of p for doc 0 is 0.3206214689265537\n"
          ]
        }
      ]
    },
    {
      "cell_type": "code",
      "source": [
        "agg_rouge_score_2 = {'rouge-1':{'r':0,'p':0,'f':0},'rouge-2':{'r':0,'p':0,'f':0},\n",
        "                   'rouge-l':{'r':0,'p':0,'f':0}}\n",
        "\n",
        "for i in range(len(result_rouge_list)):\n",
        "  for rouge_type in ['rouge-1','rouge-2','rouge-l']:\n",
        "    for j in ['r','p','f']:\n",
        "      agg_rouge_score_2[rouge_type][j]+=(result_rouge_list[i][rouge_type][j]/len(result_rouge_list))\n",
        "\n",
        "print(agg_rouge_score_2)"
      ],
      "metadata": {
        "colab": {
          "base_uri": "https://localhost:8080/"
        },
        "outputId": "7e73bf4b-0a75-4f55-e81f-94c4c543f75e",
        "id": "rFp_pFhbnqrL"
      },
      "execution_count": null,
      "outputs": [
        {
          "output_type": "stream",
          "name": "stdout",
          "text": [
            "{'rouge-1': {'r': 0.21187794059777082, 'p': 0.49926828337230633, 'f': 0.2935809851176972}, 'rouge-2': {'r': 0.07604486106863347, 'p': 0.20917546307120924, 'f': 0.1102924148470025}, 'rouge-l': {'r': 0.20117182810722975, 'p': 0.47589578811019456, 'f': 0.2791278810436789}}\n"
          ]
        }
      ]
    },
    {
      "cell_type": "code",
      "source": [
        "agg_bertscore_2 = {'precision':0, 'recall':0, 'f1':0}\n",
        "\n",
        "for i in range(len(result_bertscore_list)):\n",
        "  for metric_type in ['precision','recall','f1']:\n",
        "    agg_bertscore_2[metric_type]+=((result_bertscore_list[i][metric_type][0])/len(result_bertscore_list))\n",
        "\n",
        "print(agg_bertscore_2)"
      ],
      "metadata": {
        "colab": {
          "base_uri": "https://localhost:8080/"
        },
        "outputId": "fc8c428b-4513-4f64-af77-8bb05f98c977",
        "id": "TcW2GOVtnqrM"
      },
      "execution_count": null,
      "outputs": [
        {
          "output_type": "stream",
          "name": "stdout",
          "text": [
            "{'precision': 0.7443345665931702, 'recall': 0.751188361644745, 'f1': 0.7473442792892456}\n"
          ]
        }
      ]
    },
    {
      "cell_type": "markdown",
      "source": [
        "###Average ROUGE score and BERTScores"
      ],
      "metadata": {
        "id": "jq3OehB2lG2p"
      }
    },
    {
      "cell_type": "code",
      "source": [
        "agg_rouge_score = {'rouge-1':{'r':0,'p':0,'f':0},'rouge-2':{'r':0,'p':0,'f':0},\n",
        "                   'rouge-l':{'r':0,'p':0,'f':0}}\n",
        "\n",
        "for rouge_type in ['rouge-1','rouge-2','rouge-l']:\n",
        "  for j in ['r','p','f']:\n",
        "    agg_rouge_score[rouge_type][j]=(agg_rouge_score_1[rouge_type][j]+agg_rouge_score_2[rouge_type][j])*0.5\n",
        "\n",
        "print(agg_rouge_score)"
      ],
      "metadata": {
        "id": "KNGu5vDBlG2p"
      },
      "execution_count": null,
      "outputs": []
    },
    {
      "cell_type": "code",
      "source": [
        "print('ROUGE Scores of A1 Golden summary:')\n",
        "print(agg_rouge_score_1)\n",
        "print()\n",
        "print('ROUGE Scores of A2 Golden summary:')\n",
        "print(agg_rouge_score_2)\n",
        "print()\n",
        "print('ROUGE Average ROUGE scores of both summaries:')\n",
        "print(agg_rouge_score)"
      ],
      "metadata": {
        "id": "z4xU56lElG2p"
      },
      "execution_count": null,
      "outputs": []
    },
    {
      "cell_type": "code",
      "source": [
        "agg_bertscore = {'precision':0, 'recall':0, 'f1':0}\n",
        "\n",
        "for metric_type in ['precision','recall','f1']:\n",
        "  agg_bertscore[metric_type]+=(agg_bertscore_1[metric_type]+agg_bertscore_2[metric_type])*0.5\n",
        "\n",
        "print(agg_bertscore)"
      ],
      "metadata": {
        "id": "wavoHLkQlSqj"
      },
      "execution_count": null,
      "outputs": []
    },
    {
      "cell_type": "code",
      "source": [
        "print('BERTScores of A1 Golden summary:')\n",
        "print(agg_bertscore_1)\n",
        "print()\n",
        "print('BERTScores of A2 Golden summary:')\n",
        "print(agg_bertscore_2)\n",
        "print()\n",
        "print('Average BERTScores scores of both summaries:')\n",
        "print(agg_bertscore)"
      ],
      "metadata": {
        "id": "JMT0j2GrlnQB"
      },
      "execution_count": null,
      "outputs": []
    },
    {
      "cell_type": "markdown",
      "source": [
        "# CODE 6: Extractive Methods Evaluation"
      ],
      "metadata": {
        "id": "zD6jCNt1xSun"
      }
    },
    {
      "cell_type": "markdown",
      "source": [
        "## Modules Required"
      ],
      "metadata": {
        "id": "lfAGxWY9KTlL"
      }
    },
    {
      "cell_type": "code",
      "source": [
        "!pip install transformers\n",
        "!pip install rouge-score\n",
        "!pip install datasets\n",
        "!pip install rouge\n",
        "!pip install pyyaml h5py\n",
        "!pip install pip install rouge-score\n",
        "!pip install evaluate\n",
        "!pip install bert_score"
      ],
      "metadata": {
        "id": "yXWY0DnBw16t",
        "colab": {
          "base_uri": "https://localhost:8080/"
        },
        "outputId": "92dc6d2a-b6ee-4301-9f1b-7aa1835043c2"
      },
      "execution_count": null,
      "outputs": [
        {
          "output_type": "stream",
          "name": "stdout",
          "text": [
            "Collecting transformers\n",
            "  Downloading transformers-4.30.2-py3-none-any.whl (7.2 MB)\n",
            "\u001b[2K     \u001b[90m━━━━━━━━━━━━━━━━━━━━━━━━━━━━━━━━━━━━━━━━\u001b[0m \u001b[32m7.2/7.2 MB\u001b[0m \u001b[31m49.1 MB/s\u001b[0m eta \u001b[36m0:00:00\u001b[0m\n",
            "\u001b[?25hRequirement already satisfied: filelock in /usr/local/lib/python3.10/dist-packages (from transformers) (3.12.2)\n",
            "Collecting huggingface-hub<1.0,>=0.14.1 (from transformers)\n",
            "  Downloading huggingface_hub-0.16.4-py3-none-any.whl (268 kB)\n",
            "\u001b[2K     \u001b[90m━━━━━━━━━━━━━━━━━━━━━━━━━━━━━━━━━━━━━━\u001b[0m \u001b[32m268.8/268.8 kB\u001b[0m \u001b[31m27.5 MB/s\u001b[0m eta \u001b[36m0:00:00\u001b[0m\n",
            "\u001b[?25hRequirement already satisfied: numpy>=1.17 in /usr/local/lib/python3.10/dist-packages (from transformers) (1.22.4)\n",
            "Requirement already satisfied: packaging>=20.0 in /usr/local/lib/python3.10/dist-packages (from transformers) (23.1)\n",
            "Requirement already satisfied: pyyaml>=5.1 in /usr/local/lib/python3.10/dist-packages (from transformers) (6.0)\n",
            "Requirement already satisfied: regex!=2019.12.17 in /usr/local/lib/python3.10/dist-packages (from transformers) (2022.10.31)\n",
            "Requirement already satisfied: requests in /usr/local/lib/python3.10/dist-packages (from transformers) (2.27.1)\n",
            "Collecting tokenizers!=0.11.3,<0.14,>=0.11.1 (from transformers)\n",
            "  Downloading tokenizers-0.13.3-cp310-cp310-manylinux_2_17_x86_64.manylinux2014_x86_64.whl (7.8 MB)\n",
            "\u001b[2K     \u001b[90m━━━━━━━━━━━━━━━━━━━━━━━━━━━━━━━━━━━━━━━━\u001b[0m \u001b[32m7.8/7.8 MB\u001b[0m \u001b[31m97.7 MB/s\u001b[0m eta \u001b[36m0:00:00\u001b[0m\n",
            "\u001b[?25hCollecting safetensors>=0.3.1 (from transformers)\n",
            "  Downloading safetensors-0.3.1-cp310-cp310-manylinux_2_17_x86_64.manylinux2014_x86_64.whl (1.3 MB)\n",
            "\u001b[2K     \u001b[90m━━━━━━━━━━━━━━━━━━━━━━━━━━━━━━━━━━━━━━━━\u001b[0m \u001b[32m1.3/1.3 MB\u001b[0m \u001b[31m67.1 MB/s\u001b[0m eta \u001b[36m0:00:00\u001b[0m\n",
            "\u001b[?25hRequirement already satisfied: tqdm>=4.27 in /usr/local/lib/python3.10/dist-packages (from transformers) (4.65.0)\n",
            "Requirement already satisfied: fsspec in /usr/local/lib/python3.10/dist-packages (from huggingface-hub<1.0,>=0.14.1->transformers) (2023.6.0)\n",
            "Requirement already satisfied: typing-extensions>=3.7.4.3 in /usr/local/lib/python3.10/dist-packages (from huggingface-hub<1.0,>=0.14.1->transformers) (4.6.3)\n",
            "Requirement already satisfied: urllib3<1.27,>=1.21.1 in /usr/local/lib/python3.10/dist-packages (from requests->transformers) (1.26.16)\n",
            "Requirement already satisfied: certifi>=2017.4.17 in /usr/local/lib/python3.10/dist-packages (from requests->transformers) (2023.5.7)\n",
            "Requirement already satisfied: charset-normalizer~=2.0.0 in /usr/local/lib/python3.10/dist-packages (from requests->transformers) (2.0.12)\n",
            "Requirement already satisfied: idna<4,>=2.5 in /usr/local/lib/python3.10/dist-packages (from requests->transformers) (3.4)\n",
            "Installing collected packages: tokenizers, safetensors, huggingface-hub, transformers\n",
            "Successfully installed huggingface-hub-0.16.4 safetensors-0.3.1 tokenizers-0.13.3 transformers-4.30.2\n",
            "Collecting rouge-score\n",
            "  Downloading rouge_score-0.1.2.tar.gz (17 kB)\n",
            "  Preparing metadata (setup.py) ... \u001b[?25l\u001b[?25hdone\n",
            "Requirement already satisfied: absl-py in /usr/local/lib/python3.10/dist-packages (from rouge-score) (1.4.0)\n",
            "Requirement already satisfied: nltk in /usr/local/lib/python3.10/dist-packages (from rouge-score) (3.8.1)\n",
            "Requirement already satisfied: numpy in /usr/local/lib/python3.10/dist-packages (from rouge-score) (1.22.4)\n",
            "Requirement already satisfied: six>=1.14.0 in /usr/local/lib/python3.10/dist-packages (from rouge-score) (1.16.0)\n",
            "Requirement already satisfied: click in /usr/local/lib/python3.10/dist-packages (from nltk->rouge-score) (8.1.3)\n",
            "Requirement already satisfied: joblib in /usr/local/lib/python3.10/dist-packages (from nltk->rouge-score) (1.2.0)\n",
            "Requirement already satisfied: regex>=2021.8.3 in /usr/local/lib/python3.10/dist-packages (from nltk->rouge-score) (2022.10.31)\n",
            "Requirement already satisfied: tqdm in /usr/local/lib/python3.10/dist-packages (from nltk->rouge-score) (4.65.0)\n",
            "Building wheels for collected packages: rouge-score\n",
            "  Building wheel for rouge-score (setup.py) ... \u001b[?25l\u001b[?25hdone\n",
            "  Created wheel for rouge-score: filename=rouge_score-0.1.2-py3-none-any.whl size=24934 sha256=a41df0e6f70c58013071d7c0ebe7affdfdeb08348f4810e1f35d4f7f30a088ac\n",
            "  Stored in directory: /root/.cache/pip/wheels/5f/dd/89/461065a73be61a532ff8599a28e9beef17985c9e9c31e541b4\n",
            "Successfully built rouge-score\n",
            "Installing collected packages: rouge-score\n",
            "Successfully installed rouge-score-0.1.2\n",
            "Collecting datasets\n",
            "  Downloading datasets-2.13.1-py3-none-any.whl (486 kB)\n",
            "\u001b[2K     \u001b[90m━━━━━━━━━━━━━━━━━━━━━━━━━━━━━━━━━━━━━━━\u001b[0m \u001b[32m486.2/486.2 kB\u001b[0m \u001b[31m8.7 MB/s\u001b[0m eta \u001b[36m0:00:00\u001b[0m\n",
            "\u001b[?25hRequirement already satisfied: numpy>=1.17 in /usr/local/lib/python3.10/dist-packages (from datasets) (1.22.4)\n",
            "Requirement already satisfied: pyarrow>=8.0.0 in /usr/local/lib/python3.10/dist-packages (from datasets) (9.0.0)\n",
            "Collecting dill<0.3.7,>=0.3.0 (from datasets)\n",
            "  Downloading dill-0.3.6-py3-none-any.whl (110 kB)\n",
            "\u001b[2K     \u001b[90m━━━━━━━━━━━━━━━━━━━━━━━━━━━━━━━━━━━━━━\u001b[0m \u001b[32m110.5/110.5 kB\u001b[0m \u001b[31m11.1 MB/s\u001b[0m eta \u001b[36m0:00:00\u001b[0m\n",
            "\u001b[?25hRequirement already satisfied: pandas in /usr/local/lib/python3.10/dist-packages (from datasets) (1.5.3)\n",
            "Requirement already satisfied: requests>=2.19.0 in /usr/local/lib/python3.10/dist-packages (from datasets) (2.27.1)\n",
            "Requirement already satisfied: tqdm>=4.62.1 in /usr/local/lib/python3.10/dist-packages (from datasets) (4.65.0)\n",
            "Collecting xxhash (from datasets)\n",
            "  Downloading xxhash-3.2.0-cp310-cp310-manylinux_2_17_x86_64.manylinux2014_x86_64.whl (212 kB)\n",
            "\u001b[2K     \u001b[90m━━━━━━━━━━━━━━━━━━━━━━━━━━━━━━━━━━━━━━\u001b[0m \u001b[32m212.5/212.5 kB\u001b[0m \u001b[31m19.1 MB/s\u001b[0m eta \u001b[36m0:00:00\u001b[0m\n",
            "\u001b[?25hCollecting multiprocess (from datasets)\n",
            "  Downloading multiprocess-0.70.14-py310-none-any.whl (134 kB)\n",
            "\u001b[2K     \u001b[90m━━━━━━━━━━━━━━━━━━━━━━━━━━━━━━━━━━━━━━\u001b[0m \u001b[32m134.3/134.3 kB\u001b[0m \u001b[31m13.4 MB/s\u001b[0m eta \u001b[36m0:00:00\u001b[0m\n",
            "\u001b[?25hRequirement already satisfied: fsspec[http]>=2021.11.1 in /usr/local/lib/python3.10/dist-packages (from datasets) (2023.6.0)\n",
            "Requirement already satisfied: aiohttp in /usr/local/lib/python3.10/dist-packages (from datasets) (3.8.4)\n",
            "Requirement already satisfied: huggingface-hub<1.0.0,>=0.11.0 in /usr/local/lib/python3.10/dist-packages (from datasets) (0.16.4)\n",
            "Requirement already satisfied: packaging in /usr/local/lib/python3.10/dist-packages (from datasets) (23.1)\n",
            "Requirement already satisfied: pyyaml>=5.1 in /usr/local/lib/python3.10/dist-packages (from datasets) (6.0)\n",
            "Requirement already satisfied: attrs>=17.3.0 in /usr/local/lib/python3.10/dist-packages (from aiohttp->datasets) (23.1.0)\n",
            "Requirement already satisfied: charset-normalizer<4.0,>=2.0 in /usr/local/lib/python3.10/dist-packages (from aiohttp->datasets) (2.0.12)\n",
            "Requirement already satisfied: multidict<7.0,>=4.5 in /usr/local/lib/python3.10/dist-packages (from aiohttp->datasets) (6.0.4)\n",
            "Requirement already satisfied: async-timeout<5.0,>=4.0.0a3 in /usr/local/lib/python3.10/dist-packages (from aiohttp->datasets) (4.0.2)\n",
            "Requirement already satisfied: yarl<2.0,>=1.0 in /usr/local/lib/python3.10/dist-packages (from aiohttp->datasets) (1.9.2)\n",
            "Requirement already satisfied: frozenlist>=1.1.1 in /usr/local/lib/python3.10/dist-packages (from aiohttp->datasets) (1.3.3)\n",
            "Requirement already satisfied: aiosignal>=1.1.2 in /usr/local/lib/python3.10/dist-packages (from aiohttp->datasets) (1.3.1)\n",
            "Requirement already satisfied: filelock in /usr/local/lib/python3.10/dist-packages (from huggingface-hub<1.0.0,>=0.11.0->datasets) (3.12.2)\n",
            "Requirement already satisfied: typing-extensions>=3.7.4.3 in /usr/local/lib/python3.10/dist-packages (from huggingface-hub<1.0.0,>=0.11.0->datasets) (4.6.3)\n",
            "Requirement already satisfied: urllib3<1.27,>=1.21.1 in /usr/local/lib/python3.10/dist-packages (from requests>=2.19.0->datasets) (1.26.16)\n",
            "Requirement already satisfied: certifi>=2017.4.17 in /usr/local/lib/python3.10/dist-packages (from requests>=2.19.0->datasets) (2023.5.7)\n",
            "Requirement already satisfied: idna<4,>=2.5 in /usr/local/lib/python3.10/dist-packages (from requests>=2.19.0->datasets) (3.4)\n",
            "Requirement already satisfied: python-dateutil>=2.8.1 in /usr/local/lib/python3.10/dist-packages (from pandas->datasets) (2.8.2)\n",
            "Requirement already satisfied: pytz>=2020.1 in /usr/local/lib/python3.10/dist-packages (from pandas->datasets) (2022.7.1)\n",
            "Requirement already satisfied: six>=1.5 in /usr/local/lib/python3.10/dist-packages (from python-dateutil>=2.8.1->pandas->datasets) (1.16.0)\n",
            "Installing collected packages: xxhash, dill, multiprocess, datasets\n",
            "Successfully installed datasets-2.13.1 dill-0.3.6 multiprocess-0.70.14 xxhash-3.2.0\n",
            "Collecting rouge\n",
            "  Downloading rouge-1.0.1-py3-none-any.whl (13 kB)\n",
            "Requirement already satisfied: six in /usr/local/lib/python3.10/dist-packages (from rouge) (1.16.0)\n",
            "Installing collected packages: rouge\n",
            "Successfully installed rouge-1.0.1\n",
            "Requirement already satisfied: pyyaml in /usr/local/lib/python3.10/dist-packages (6.0)\n",
            "Requirement already satisfied: h5py in /usr/local/lib/python3.10/dist-packages (3.8.0)\n",
            "Requirement already satisfied: numpy>=1.14.5 in /usr/local/lib/python3.10/dist-packages (from h5py) (1.22.4)\n",
            "Requirement already satisfied: pip in /usr/local/lib/python3.10/dist-packages (23.1.2)\n",
            "Collecting install\n",
            "  Downloading install-1.3.5-py3-none-any.whl (3.2 kB)\n",
            "Requirement already satisfied: rouge-score in /usr/local/lib/python3.10/dist-packages (0.1.2)\n",
            "Requirement already satisfied: absl-py in /usr/local/lib/python3.10/dist-packages (from rouge-score) (1.4.0)\n",
            "Requirement already satisfied: nltk in /usr/local/lib/python3.10/dist-packages (from rouge-score) (3.8.1)\n",
            "Requirement already satisfied: numpy in /usr/local/lib/python3.10/dist-packages (from rouge-score) (1.22.4)\n",
            "Requirement already satisfied: six>=1.14.0 in /usr/local/lib/python3.10/dist-packages (from rouge-score) (1.16.0)\n",
            "Requirement already satisfied: click in /usr/local/lib/python3.10/dist-packages (from nltk->rouge-score) (8.1.3)\n",
            "Requirement already satisfied: joblib in /usr/local/lib/python3.10/dist-packages (from nltk->rouge-score) (1.2.0)\n",
            "Requirement already satisfied: regex>=2021.8.3 in /usr/local/lib/python3.10/dist-packages (from nltk->rouge-score) (2022.10.31)\n",
            "Requirement already satisfied: tqdm in /usr/local/lib/python3.10/dist-packages (from nltk->rouge-score) (4.65.0)\n",
            "Installing collected packages: install\n",
            "Successfully installed install-1.3.5\n"
          ]
        }
      ]
    },
    {
      "cell_type": "code",
      "source": [
        "!pip install keras==2.4.0\n",
        "!pip install tensorflow==2.4.0"
      ],
      "metadata": {
        "id": "vCR_oiIPw4r0"
      },
      "execution_count": null,
      "outputs": []
    },
    {
      "cell_type": "code",
      "source": [
        "!pip install numpy==1.22.4\n",
        "!pip install pandas==1.5.3"
      ],
      "metadata": {
        "id": "xNN3glX3w8Sz"
      },
      "execution_count": null,
      "outputs": []
    },
    {
      "cell_type": "code",
      "source": [
        "import sys\n",
        "sys.path.insert(0, '../')\n",
        "import glob\n",
        "import os\n",
        "import json\n",
        "import nltk\n",
        "nltk.download('punkt')\n",
        "from rouge_score import rouge_scorer\n",
        "from rouge import Rouge\n",
        "import math\n",
        "import numpy as np\n",
        "from tqdm import tqdm\n",
        "from evaluate import load\n",
        "\n",
        "from transformers import BertTokenizer, TFBertModel\n",
        "from tensorflow import keras\n",
        "from tensorflow.keras.preprocessing.text import Tokenizer\n",
        "from tensorflow.keras.preprocessing.sequence import pad_sequences\n",
        "\n",
        "import tensorflow as tf\n",
        "from keras.layers import Layer, Input, Dense, MaxPooling2D,concatenate,Lambda, AveragePooling2D\n",
        "from keras.models import Model\n",
        "from keras.layers.core import Dense, Dropout, Activation, Flatten\n",
        "from keras.layers.convolutional import Conv2D\n",
        "from keras import regularizers\n",
        "from keras.optimizers import Adadelta"
      ],
      "metadata": {
        "id": "DAXMt1NDJRYJ"
      },
      "execution_count": null,
      "outputs": []
    },
    {
      "cell_type": "markdown",
      "source": [
        "## Testing"
      ],
      "metadata": {
        "id": "YkZu_nFuBe06"
      }
    },
    {
      "cell_type": "markdown",
      "source": [
        "### Loading model weights into architecture"
      ],
      "metadata": {
        "id": "jb4XeVKZknuo"
      }
    },
    {
      "cell_type": "code",
      "source": [
        "# Open a strategy scope.\n",
        "\n",
        "with strategy.scope():\n",
        "    # Everything that creates variables should be under the strategy scope.\n",
        "    # In general this is only model construction & `compile()`.\n",
        "    # Define input tensors\n",
        "    input_ids = Input(shape=(76,), dtype=tf.int64, name='input_ids')\n",
        "    attention_mask = Input(shape=(76,), dtype=tf.int64, name='attention_mask')\n",
        "\n",
        "    # Apply BERTEmbedding layer\n",
        "    bert_embedding = BERTEmbedding()({'input_ids': input_ids, 'attention_mask': attention_mask})\n",
        "\n",
        "    conv2d_layer_1 = Conv2D(400, (3,257), padding='valid', activation='relu', strides=1)(bert_embedding)\n",
        "\n",
        "    avgpool = AveragePooling2D((2,2))(conv2d_layer_1)\n",
        "    # maxpool = MaxPooling2D(pool_size=(2, 1))(conv2d_layer_1)\n",
        "\n",
        "    flat = Flatten()(avgpool)\n",
        "\n",
        "    #drop = Dropout(0.1)(flat)\n",
        "    output = Dense(1, activation='sigmoid')(flat)\n",
        "\n",
        "    # Create the model\n",
        "    model = Model(inputs=[input_ids, attention_mask], outputs=output)\n",
        "\n",
        "\n",
        "    model.compile(loss='binary_crossentropy',\n",
        "                      optimizer=Adadelta(),\n",
        "                      metrics=['mean_absolute_error','accuracy'])"
      ],
      "metadata": {
        "id": "RGibSL_1QWRs"
      },
      "execution_count": null,
      "outputs": []
    },
    {
      "cell_type": "code",
      "source": [
        "model.summary()"
      ],
      "metadata": {
        "colab": {
          "base_uri": "https://localhost:8080/"
        },
        "id": "Dr-v111JQa79",
        "outputId": "e08ecced-01a6-443c-b5ed-c4b79165ee06"
      },
      "execution_count": null,
      "outputs": [
        {
          "output_type": "stream",
          "name": "stdout",
          "text": [
            "Model: \"model_1\"\n",
            "__________________________________________________________________________________________________\n",
            " Layer (type)                   Output Shape         Param #     Connected to                     \n",
            "==================================================================================================\n",
            " attention_mask (InputLayer)    [(None, 76)]         0           []                               \n",
            "                                                                                                  \n",
            " input_ids (InputLayer)         [(None, 76)]         0           []                               \n",
            "                                                                                                  \n",
            " bert_embedding_1 (BERTEmbeddin  (None, 76, 768, 1)  0           ['attention_mask[0][0]',         \n",
            " g)                                                               'input_ids[0][0]']              \n",
            "                                                                                                  \n",
            " conv2d_1 (Conv2D)              (None, 74, 512, 400  308800      ['bert_embedding_1[0][0]']       \n",
            "                                )                                                                 \n",
            "                                                                                                  \n",
            " average_pooling2d_1 (AveragePo  (None, 37, 256, 400  0          ['conv2d_1[0][0]']               \n",
            " oling2D)                       )                                                                 \n",
            "                                                                                                  \n",
            " flatten_1 (Flatten)            (None, 3788800)      0           ['average_pooling2d_1[0][0]']    \n",
            "                                                                                                  \n",
            " dense_1 (Dense)                (None, 1)            3788801     ['flatten_1[0][0]']              \n",
            "                                                                                                  \n",
            "==================================================================================================\n",
            "Total params: 4,097,601\n",
            "Trainable params: 4,097,601\n",
            "Non-trainable params: 0\n",
            "__________________________________________________________________________________________________\n"
          ]
        }
      ]
    },
    {
      "cell_type": "code",
      "source": [
        "model.load_weights('/content/my_model.h5')"
      ],
      "metadata": {
        "id": "F7XSNDt8QWVT"
      },
      "execution_count": null,
      "outputs": []
    },
    {
      "cell_type": "markdown",
      "source": [
        "### Creating `get_req_len` for value of `L` and `k`"
      ],
      "metadata": {
        "id": "oYzxEGGIw2sj"
      }
    },
    {
      "cell_type": "code",
      "source": [
        "\"\"\"\n",
        "Call df and load the columns of title, number of sentences in summary (avg of A1 & A2), and value of L (word count)\n",
        "create a dictionary with key = title and values = [sent_count, word_count(L)]\n",
        "Find the maximum value of sentences per doc and fix it as value of k\n",
        "title = test_names[i]\n",
        "sent_count = (dict[title])[0]\n",
        "L = (dict[title])[1]\n",
        "Continue as same till final_pred_summary is generated. Then with final_pred_summary.split(' ')[:L] reduce to required length of summary as specified in paper\n",
        "\"\"\""
      ],
      "metadata": {
        "id": "7o8uHrSWtHlq"
      },
      "execution_count": null,
      "outputs": []
    },
    {
      "cell_type": "code",
      "source": [
        "ext_analysis = pd.read_csv('Extractive Test Dataset Analysis.csv')"
      ],
      "metadata": {
        "id": "wnwNMD23tIMp"
      },
      "execution_count": null,
      "outputs": []
    },
    {
      "cell_type": "code",
      "source": [
        "names, summ_sent_count, summ_word_count = list(ext_analysis['File']), list(ext_analysis['Average Summary Sentence Count']), list(ext_analysis['L = Average Summary Word Count'])\n",
        "\n",
        "get_req_len = {}\n",
        "for i in range(len(names)):\n",
        "  get_req_len[names[i]] = summ_word_count[i]\n",
        "\n",
        "print('Maximum number of sentences in a summary out of all 50 test docs:', max(summ_sent_count))"
      ],
      "metadata": {
        "id": "W8wycCfKtSat"
      },
      "execution_count": null,
      "outputs": []
    },
    {
      "cell_type": "code",
      "source": [
        "k = max(summ_sent_count)"
      ],
      "metadata": {
        "id": "V3HS18vHufaL"
      },
      "execution_count": null,
      "outputs": []
    },
    {
      "cell_type": "markdown",
      "source": [
        "### Testing A1"
      ],
      "metadata": {
        "id": "etxTU1XvgQmf"
      }
    },
    {
      "cell_type": "code",
      "source": [
        "def get_root_path():\n",
        "    '''\n",
        "    function to get root path of dataset\n",
        "    change the path variable to the path of the dataset\n",
        "    '''\n",
        "    path = \"/content/drive/MyDrive/ExtractiveDataset/test-data\"  # use all 50 docs for testing if using abstractive dataset for training\n",
        "    return path\n",
        "\n",
        "def get_summary_data():\n",
        "    '''\n",
        "    function to get names, documents, and summaries\n",
        "    change the path variable to the path of the dataset\n",
        "    '''\n",
        "\n",
        "    path = get_root_path() + '/judgement'\n",
        "    all_files = glob.glob(path + \"/*.txt\")\n",
        "    data_source = []\n",
        "    names = []\n",
        "    for filename in all_files:\n",
        "        with open(filename, 'r') as f:\n",
        "            p = filename.rfind(\"/\")\n",
        "            names.append(filename[p+1:])\n",
        "            a = f.read()\n",
        "            data_source.append(a)\n",
        "    path = get_root_path() + '/summary/A1'\n",
        "    all_files = glob.glob(path + \"/*.txt\")\n",
        "    data_summary = []\n",
        "    for filename in all_files:\n",
        "        with open(filename, 'r') as f:\n",
        "            a = f.read()\n",
        "            l = len(a)\n",
        "            data_summary.append(a)\n",
        "\n",
        "    return names, data_source, data_summary\n",
        "\n",
        "def split_to_sentences(para):\n",
        "    sents = nltk.sent_tokenize(para)   # returns list of sentences from para\n",
        "    return sents"
      ],
      "metadata": {
        "id": "KmUWi908UJWe"
      },
      "execution_count": null,
      "outputs": []
    },
    {
      "cell_type": "code",
      "source": [
        "test_names, test_data_source, test_data_summary = get_summary_data()\n",
        "print(len(test_names))\n",
        "print(len(test_data_source))\n",
        "print(len(test_data_summary))"
      ],
      "metadata": {
        "id": "SPZ9DHSsUJWf"
      },
      "execution_count": null,
      "outputs": []
    },
    {
      "cell_type": "code",
      "source": [
        "#k = math.ceil(avg_sent_per_sum)\n",
        "#k = 25\n",
        "print('Value of k:',k)"
      ],
      "metadata": {
        "id": "yerP93LDBe07"
      },
      "execution_count": null,
      "outputs": []
    },
    {
      "cell_type": "code",
      "source": [
        "result_rouge_list = []\n",
        "result_bertscore_list = []\n",
        "\n",
        "for i in range(len(test_data_source)):\n",
        "  doc = test_data_source[i]\n",
        "  summary = test_data_summary[i]\n",
        "  sentences = split_to_sentences(doc)\n",
        "\n",
        "  # sentences are encoded (padded and truncated to input size of model) and embedded using BERT\n",
        "  encoded_sentences = tokenizer(sentences, return_tensors='tf', padding='max_length', truncation=True, max_length=100)\n",
        "  test_input_ids = encoded_sentences['input_ids']\n",
        "  test_attention_mask = encoded_sentences['attention_mask']\n",
        "\n",
        "  y_pred = model.predict([test_input_ids,test_attention_mask])\n",
        "  y_pred=y_pred.reshape(y_pred.shape[0],)\n",
        "\n",
        "  # choosing the top k (k- average of number of sentences per summary during training)\n",
        "  temp = sorted(y_pred)[-k:]\n",
        "  sal_index = []\n",
        "  for ele in temp:\n",
        "    sal_index.append(list(y_pred).index(ele))\n",
        "  sal_index_sorted = sorted(sal_index)\n",
        "\n",
        "  # pred_summary - list of sentences having the top k saliency scores as predicted by the model\n",
        "  pred_summary = []\n",
        "  for ind in sal_index_sorted:\n",
        "    pred_summary.append(sentences[ind])\n",
        "\n",
        "  # the sentences in pred_summary are joined\n",
        "  final_pred_summary = ' '.join(pred_summary)\n",
        "\n",
        "  #reduce length to first L words\n",
        "  title = test_names[i]\n",
        "  L = get_req_len[title]\n",
        "  temp_list = final_pred_summary.split(' ')\n",
        "  pred_summary_l = temp_list[:L]\n",
        "  final_pred_summary = ' '.join(pred_summary_l)\n",
        "\n",
        "  # Rouge score is calculates between the predicted summary (final_pred_summary) and the reference summary\n",
        "  rouge = Rouge()\n",
        "  result_rouge_list.append(rouge.get_scores(summary, final_pred_summary, avg=True))\n",
        "\n",
        "  bertscore = load(\"bertscore\")\n",
        "  result_bertscore_list.append(bertscore.compute(predictions=[final_pred_summary], references=[summary], model_type=\"distilbert-base-uncased\"))"
      ],
      "metadata": {
        "id": "KgSQ4-P5Be07"
      },
      "execution_count": null,
      "outputs": []
    },
    {
      "cell_type": "code",
      "source": [
        "agg_rouge_score_1 = {'rouge-1':{'r':0,'p':0,'f':0},'rouge-2':{'r':0,'p':0,'f':0},\n",
        "                   'rouge-l':{'r':0,'p':0,'f':0}}\n",
        "\n",
        "for i in range(len(result_rouge_list)):\n",
        "  for rouge_type in ['rouge-1','rouge-2','rouge-l']:\n",
        "    for j in ['r','p','f']:\n",
        "      agg_rouge_score_1[rouge_type][j]+=(result_rouge_list[i][rouge_type][j]/len(result_rouge_list))\n",
        "\n",
        "print(agg_rouge_score_1)"
      ],
      "metadata": {
        "id": "KaG9_QwbBe08"
      },
      "execution_count": null,
      "outputs": []
    },
    {
      "cell_type": "code",
      "source": [
        "agg_bertscore_1 = {'precision':0, 'recall':0, 'f1':0}\n",
        "\n",
        "for i in range(len(result_bertscore_list)):\n",
        "  for metric_type in ['precision','recall','f1']:\n",
        "    agg_bertscore_1[metric_type]+=((result_bertscore_list[i][metric_type][0])/len(result_bertscore_list))\n",
        "\n",
        "print(agg_bertscore_1)"
      ],
      "metadata": {
        "id": "t6bFgslv2yTU"
      },
      "execution_count": null,
      "outputs": []
    },
    {
      "cell_type": "markdown",
      "source": [
        "### Testing A2"
      ],
      "metadata": {
        "id": "7T-E6KJ0giQR"
      }
    },
    {
      "cell_type": "code",
      "source": [
        "def get_root_path():\n",
        "    '''\n",
        "    function to get root path of dataset\n",
        "    change the path variable to the path of the dataset\n",
        "    '''\n",
        "    path = \"/content/drive/MyDrive/ExtractiveDataset/test-data\"  # use all 50 docs for testing if using abstractive dataset for training\n",
        "    return path\n",
        "\n",
        "def get_summary_data():\n",
        "    '''\n",
        "    function to get names, documents, and summaries\n",
        "    change the path variable to the path of the dataset\n",
        "    '''\n",
        "\n",
        "    path = get_root_path() + '/judgement'\n",
        "    all_files = glob.glob(path + \"/*.txt\")\n",
        "    data_source = []\n",
        "    names = []\n",
        "    for filename in all_files:\n",
        "        with open(filename, 'r') as f:\n",
        "            p = filename.rfind(\"/\")\n",
        "            names.append(filename[p+1:])\n",
        "            a = f.read()\n",
        "            data_source.append(a)\n",
        "    path = get_root_path() + '/summary/A2'\n",
        "    all_files = glob.glob(path + \"/*.txt\")\n",
        "    data_summary = []\n",
        "    for filename in all_files:\n",
        "        with open(filename, 'r') as f:\n",
        "            a = f.read()\n",
        "            l = len(a)\n",
        "            data_summary.append(a)\n",
        "\n",
        "    return names, data_source, data_summary\n",
        "\n",
        "def split_to_sentences(para):\n",
        "    sents = nltk.sent_tokenize(para)   # returns list of sentences from para\n",
        "    return sents"
      ],
      "metadata": {
        "id": "Zd8emLH_giQS"
      },
      "execution_count": null,
      "outputs": []
    },
    {
      "cell_type": "code",
      "source": [
        "test_names, test_data_source, test_data_summary = get_summary_data()\n",
        "print(len(test_names))\n",
        "print(len(test_data_source))\n",
        "print(len(test_data_summary))"
      ],
      "metadata": {
        "id": "-bj3aopKgiQT"
      },
      "execution_count": null,
      "outputs": []
    },
    {
      "cell_type": "code",
      "source": [
        "print('Value of k:',k)"
      ],
      "metadata": {
        "id": "jyRbMYqDxpkR"
      },
      "execution_count": null,
      "outputs": []
    },
    {
      "cell_type": "code",
      "source": [
        "result_rouge_list = []\n",
        "result_bertscore_list = []\n",
        "\n",
        "for i in range(len(test_data_source)):\n",
        "  doc = test_data_source[i]\n",
        "  summary = test_data_summary[i]\n",
        "  sentences = split_to_sentences(doc)\n",
        "\n",
        "  # sentences are encoded (padded and truncated to input size of model) and embedded using BERT\n",
        "  encoded_sentences = tokenizer(sentences, return_tensors='tf', padding='max_length', truncation=True, max_length=100)\n",
        "  test_input_ids = encoded_sentences['input_ids']\n",
        "  test_attention_mask = encoded_sentences['attention_mask']\n",
        "\n",
        "  y_pred = model.predict([test_input_ids,test_attention_mask])\n",
        "  y_pred=y_pred.reshape(y_pred.shape[0],)\n",
        "\n",
        "  # choosing the top k (k- average of number of sentences per summary during training)\n",
        "  temp = sorted(y_pred)[-k:]\n",
        "  sal_index = []\n",
        "  for ele in temp:\n",
        "    sal_index.append(list(y_pred).index(ele))\n",
        "  sal_index_sorted = sorted(sal_index)\n",
        "\n",
        "  # pred_summary - list of sentences having the top k saliency scores as predicted by the model\n",
        "  pred_summary = []\n",
        "  for ind in sal_index_sorted:\n",
        "    pred_summary.append(sentences[ind])\n",
        "\n",
        "  # the sentences in pred_summary are joined\n",
        "  final_pred_summary = ' '.join(pred_summary)\n",
        "\n",
        "  #reduce length to first L words\n",
        "  title = test_names[i]\n",
        "  L = get_req_len[title]\n",
        "  temp_list = final_pred_summary.split(' ')\n",
        "  pred_summary_l = temp_list[:L]\n",
        "  final_pred_summary = ' '.join(pred_summary_l)\n",
        "\n",
        "  # Rouge score is calculates between the predicted summary (final_pred_summary) and the reference summary\n",
        "  rouge = Rouge()\n",
        "  result_rouge_list.append(rouge.get_scores(summary, final_pred_summary, avg=True))\n",
        "\n",
        "  bertscore = load(\"bertscore\")\n",
        "  result_bertscore_list.append(bertscore.compute(predictions=[final_pred_summary], references=[summary], model_type=\"distilbert-base-uncased\"))"
      ],
      "metadata": {
        "id": "cBQVCNOpgiQX"
      },
      "execution_count": null,
      "outputs": []
    },
    {
      "cell_type": "code",
      "source": [
        "agg_rouge_score_2 = {'rouge-1':{'r':0,'p':0,'f':0},'rouge-2':{'r':0,'p':0,'f':0},\n",
        "                   'rouge-l':{'r':0,'p':0,'f':0}}\n",
        "\n",
        "for i in range(len(result_rouge_list)):\n",
        "  for rouge_type in ['rouge-1','rouge-2','rouge-l']:\n",
        "    for j in ['r','p','f']:\n",
        "      agg_rouge_score_2[rouge_type][j]+=(result_rouge_list[i][rouge_type][j]/len(result_rouge_list))\n",
        "\n",
        "print(agg_rouge_score_2)"
      ],
      "metadata": {
        "id": "TJoxtPY4giQY"
      },
      "execution_count": null,
      "outputs": []
    },
    {
      "cell_type": "code",
      "source": [
        "agg_bertscore_2 = {'precision':0, 'recall':0, 'f1':0}\n",
        "\n",
        "for i in range(len(result_bertscore_list)):\n",
        "  for metric_type in ['precision','recall','f1']:\n",
        "    agg_bertscore_2[metric_type]+=((result_bertscore_list[i][metric_type][0])/len(result_bertscore_list))\n",
        "\n",
        "print(agg_bertscore_2)"
      ],
      "metadata": {
        "id": "W83JUHvC21fC"
      },
      "execution_count": null,
      "outputs": []
    },
    {
      "cell_type": "markdown",
      "source": [
        "###Average ROUGE score and BERTScores"
      ],
      "metadata": {
        "id": "0nxgCnlN3Fbu"
      }
    },
    {
      "cell_type": "code",
      "source": [
        "agg_rouge_score = {'rouge-1':{'r':0,'p':0,'f':0},'rouge-2':{'r':0,'p':0,'f':0},\n",
        "                   'rouge-l':{'r':0,'p':0,'f':0}}\n",
        "\n",
        "for rouge_type in ['rouge-1','rouge-2','rouge-l']:\n",
        "  for j in ['r','p','f']:\n",
        "    agg_rouge_score[rouge_type][j]=(agg_rouge_score_1[rouge_type][j]+agg_rouge_score_2[rouge_type][j])*0.5\n",
        "\n",
        "print(agg_rouge_score)"
      ],
      "metadata": {
        "id": "mDPouAqB3FcD"
      },
      "execution_count": null,
      "outputs": []
    },
    {
      "cell_type": "code",
      "source": [
        "print('ROUGE Scores of A1 Golden summary:')\n",
        "print(agg_rouge_score_1)\n",
        "print()\n",
        "print('ROUGE Scores of A2 Golden summary:')\n",
        "print(agg_rouge_score_2)\n",
        "print()\n",
        "print('ROUGE Average ROUGE scores of both summaries:')\n",
        "print(agg_rouge_score)"
      ],
      "metadata": {
        "id": "jLZR8liF3FcE"
      },
      "execution_count": null,
      "outputs": []
    },
    {
      "cell_type": "code",
      "source": [
        "agg_bertscore = {'precision':0, 'recall':0, 'f1':0}\n",
        "\n",
        "for metric_type in ['precision','recall','f1']:\n",
        "  agg_bertscore[metric_type]+=(agg_bertscore_1[metric_type]+agg_bertscore_2[metric_type])*0.5\n",
        "\n",
        "print(agg_bertscore)"
      ],
      "metadata": {
        "id": "eXd2WWpl3FcE"
      },
      "execution_count": null,
      "outputs": []
    },
    {
      "cell_type": "code",
      "source": [
        "print('BERTScores of A1 Golden summary:')\n",
        "print(agg_bertscore_1)\n",
        "print()\n",
        "print('BERTScores of A2 Golden summary:')\n",
        "print(agg_bertscore_2)\n",
        "print()\n",
        "print('Average BERTScores scores of both summaries:')\n",
        "print(agg_bertscore)"
      ],
      "metadata": {
        "id": "LecjmVpO3FcE"
      },
      "execution_count": null,
      "outputs": []
    }
  ]
}