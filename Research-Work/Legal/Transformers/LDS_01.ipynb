{
  "cells": [
    {
      "cell_type": "markdown",
      "metadata": {
        "id": "view-in-github",
        "colab_type": "text"
      },
      "source": [
        "<a href=\"https://colab.research.google.com/github/kabilan942/Natural-Language-Processing/blob/main/Research-Work/Legal/Transformers/LDS_01.ipynb\" target=\"_parent\"><img src=\"https://colab.research.google.com/assets/colab-badge.svg\" alt=\"Open In Colab\"/></a>"
      ]
    },
    {
      "cell_type": "code",
      "execution_count": null,
      "metadata": {
        "id": "OhDKu4N65Nbx",
        "colab": {
          "base_uri": "https://localhost:8080/"
        },
        "outputId": "61a00047-6b14-4f76-e618-683773155e1b"
      },
      "outputs": [
        {
          "output_type": "stream",
          "name": "stdout",
          "text": [
            "Drive already mounted at /content/drive; to attempt to forcibly remount, call drive.mount(\"/content/drive\", force_remount=True).\n"
          ]
        }
      ],
      "source": [
        "from google.colab import drive\n",
        "drive.mount('/content/drive')"
      ]
    },
    {
      "cell_type": "code",
      "execution_count": null,
      "metadata": {
        "id": "4cy0L5bl-CEa",
        "colab": {
          "base_uri": "https://localhost:8080/",
          "height": 887
        },
        "outputId": "1899de7c-6625-49fb-f132-ec58c812fbcd"
      },
      "outputs": [
        {
          "output_type": "stream",
          "name": "stdout",
          "text": [
            "Looking in indexes: https://pypi.org/simple, https://us-python.pkg.dev/colab-wheels/public/simple/\n",
            "Collecting transformers==4.21.0\n",
            "  Downloading transformers-4.21.0-py3-none-any.whl (4.7 MB)\n",
            "\u001b[2K     \u001b[90m━━━━━━━━━━━━━━━━━━━━━━━━━━━━━━━━━━━━━━━━\u001b[0m \u001b[32m4.7/4.7 MB\u001b[0m \u001b[31m38.7 MB/s\u001b[0m eta \u001b[36m0:00:00\u001b[0m\n",
            "\u001b[?25hRequirement already satisfied: regex!=2019.12.17 in /usr/local/lib/python3.8/dist-packages (from transformers==4.21.0) (2022.6.2)\n",
            "Collecting tokenizers!=0.11.3,<0.13,>=0.11.1\n",
            "  Downloading tokenizers-0.12.1-cp38-cp38-manylinux_2_12_x86_64.manylinux2010_x86_64.whl (6.6 MB)\n",
            "\u001b[2K     \u001b[90m━━━━━━━━━━━━━━━━━━━━━━━━━━━━━━━━━━━━━━━━\u001b[0m \u001b[32m6.6/6.6 MB\u001b[0m \u001b[31m85.7 MB/s\u001b[0m eta \u001b[36m0:00:00\u001b[0m\n",
            "\u001b[?25hRequirement already satisfied: requests in /usr/local/lib/python3.8/dist-packages (from transformers==4.21.0) (2.25.1)\n",
            "Requirement already satisfied: filelock in /usr/local/lib/python3.8/dist-packages (from transformers==4.21.0) (3.9.0)\n",
            "Requirement already satisfied: packaging>=20.0 in /usr/local/lib/python3.8/dist-packages (from transformers==4.21.0) (23.0)\n",
            "Requirement already satisfied: tqdm>=4.27 in /usr/local/lib/python3.8/dist-packages (from transformers==4.21.0) (4.64.1)\n",
            "Requirement already satisfied: numpy>=1.17 in /usr/local/lib/python3.8/dist-packages (from transformers==4.21.0) (1.21.6)\n",
            "Requirement already satisfied: pyyaml>=5.1 in /usr/local/lib/python3.8/dist-packages (from transformers==4.21.0) (6.0)\n",
            "Requirement already satisfied: huggingface-hub<1.0,>=0.1.0 in /usr/local/lib/python3.8/dist-packages (from transformers==4.21.0) (0.12.0)\n",
            "Requirement already satisfied: typing-extensions>=3.7.4.3 in /usr/local/lib/python3.8/dist-packages (from huggingface-hub<1.0,>=0.1.0->transformers==4.21.0) (4.4.0)\n",
            "Requirement already satisfied: certifi>=2017.4.17 in /usr/local/lib/python3.8/dist-packages (from requests->transformers==4.21.0) (2022.12.7)\n",
            "Requirement already satisfied: chardet<5,>=3.0.2 in /usr/local/lib/python3.8/dist-packages (from requests->transformers==4.21.0) (4.0.0)\n",
            "Requirement already satisfied: urllib3<1.27,>=1.21.1 in /usr/local/lib/python3.8/dist-packages (from requests->transformers==4.21.0) (1.24.3)\n",
            "Requirement already satisfied: idna<3,>=2.5 in /usr/local/lib/python3.8/dist-packages (from requests->transformers==4.21.0) (2.10)\n",
            "Installing collected packages: tokenizers, transformers\n",
            "  Attempting uninstall: tokenizers\n",
            "    Found existing installation: tokenizers 0.13.2\n",
            "    Uninstalling tokenizers-0.13.2:\n",
            "      Successfully uninstalled tokenizers-0.13.2\n",
            "  Attempting uninstall: transformers\n",
            "    Found existing installation: transformers 4.26.0\n",
            "    Uninstalling transformers-4.26.0:\n",
            "      Successfully uninstalled transformers-4.26.0\n",
            "Successfully installed tokenizers-0.12.1 transformers-4.21.0\n"
          ]
        },
        {
          "output_type": "display_data",
          "data": {
            "application/vnd.colab-display-data+json": {
              "pip_warning": {
                "packages": [
                  "tokenizers",
                  "transformers"
                ]
              }
            }
          },
          "metadata": {}
        },
        {
          "output_type": "stream",
          "name": "stdout",
          "text": [
            "Looking in indexes: https://pypi.org/simple, https://us-python.pkg.dev/colab-wheels/public/simple/\n",
            "Collecting sentencepiece\n",
            "  Downloading sentencepiece-0.1.97-cp38-cp38-manylinux_2_17_x86_64.manylinux2014_x86_64.whl (1.3 MB)\n",
            "\u001b[2K     \u001b[90m━━━━━━━━━━━━━━━━━━━━━━━━━━━━━━━━━━━━━━━━\u001b[0m \u001b[32m1.3/1.3 MB\u001b[0m \u001b[31m28.9 MB/s\u001b[0m eta \u001b[36m0:00:00\u001b[0m\n",
            "\u001b[?25hInstalling collected packages: sentencepiece\n",
            "Successfully installed sentencepiece-0.1.97\n",
            "Looking in indexes: https://pypi.org/simple, https://us-python.pkg.dev/colab-wheels/public/simple/\n",
            "Collecting rouge\n",
            "  Downloading rouge-1.0.1-py3-none-any.whl (13 kB)\n",
            "Requirement already satisfied: six in /usr/local/lib/python3.8/dist-packages (from rouge) (1.15.0)\n",
            "Installing collected packages: rouge\n",
            "Successfully installed rouge-1.0.1\n"
          ]
        },
        {
          "output_type": "stream",
          "name": "stderr",
          "text": [
            "[nltk_data] Downloading package punkt to /root/nltk_data...\n",
            "[nltk_data]   Unzipping tokenizers/punkt.zip.\n"
          ]
        }
      ],
      "source": [
        "!pip install transformers==4.21.0\n",
        "!pip install sentencepiece\n",
        "from transformers import AutoTokenizer, AutoModelForSeq2SeqLM\n",
        "import nltk\n",
        "!pip install rouge\n",
        "nltk.download('punkt')\n",
        "from rouge import Rouge"
      ]
    },
    {
      "cell_type": "code",
      "execution_count": null,
      "metadata": {
        "id": "1TdG8dXJ8HIR"
      },
      "outputs": [],
      "source": [
        "import os\n",
        "\n",
        "documentPath = f'/content/drive/MyDrive/Legal Data/Indian Legal Abs Ext/dataset/IN-Abs/test-data/judgement/'\n",
        "dir = os.listdir(documentPath)\n",
        "\n",
        "dir_list = []\n",
        "for i in range(len(dir)):\n",
        "  dir_list.append(int(dir[i][:-4]))"
      ]
    },
    {
      "cell_type": "code",
      "execution_count": null,
      "metadata": {
        "id": "tCrk_kQf1_SO"
      },
      "outputs": [],
      "source": [
        "\"\"\"\n",
        "def read_input():\n",
        "    file = open(\"D:/Phd_work/Dataset/Legal dataset/dataset/IN-Abs/train-data/judgement/6.txt\", \"r\")\n",
        "    FileContent = file.read().strip() # Stripping the white spaces in the file\n",
        "    file = open(\"D:/Phd_work/Dataset/Legal dataset/dataset/IN-Abs/train-data/summary/6.txt\", \"r\")\n",
        "    summaryContent = file.read().strip()\n",
        "    return(FileContent,summaryContent)\n",
        "\"\"\""
      ]
    },
    {
      "cell_type": "markdown",
      "metadata": {
        "id": "-5ZmG8hE8lbf"
      },
      "source": [
        "# BART - Chunking (Single Document)"
      ]
    },
    {
      "cell_type": "code",
      "execution_count": null,
      "metadata": {
        "id": "TU44dgxX2gIe"
      },
      "outputs": [],
      "source": [
        "def read_input():\n",
        "  doc_name = '/content/drive/MyDrive/Legal Data/Indian Legal Abs Ext/dataset/IN-Abs/test-data/judgement/78.txt'\n",
        "  doc = open(doc_name,'r')\n",
        "  FileContent = doc.read().strip()\n",
        "  sum_name ='/content/drive/MyDrive/Legal Data/Indian Legal Abs Ext/dataset/IN-Abs/test-data/summary/78.txt'\n",
        "  sum = open(sum_name,'r')\n",
        "  summaryContent = sum.read().strip()\n",
        "  return(FileContent,summaryContent)\n"
      ]
    },
    {
      "cell_type": "code",
      "source": [
        "FileContent,summaryContent=read_input()"
      ],
      "metadata": {
        "id": "GABmc6dSwcYh"
      },
      "execution_count": null,
      "outputs": []
    },
    {
      "cell_type": "code",
      "execution_count": null,
      "metadata": {
        "colab": {
          "base_uri": "https://localhost:8080/"
        },
        "id": "7eizX57l1_SW",
        "outputId": "d363a8a0-39f9-40ce-94b9-dd3cd0e9d09a"
      },
      "outputs": [
        {
          "name": "stdout",
          "output_type": "stream",
          "text": [
            "Looking in indexes: https://pypi.org/simple, https://us-python.pkg.dev/colab-wheels/public/simple/\n",
            "Collecting transformers\n",
            "  Downloading transformers-4.26.0-py3-none-any.whl (6.3 MB)\n",
            "\u001b[2K     \u001b[90m━━━━━━━━━━━━━━━━━━━━━━━━━━━━━━━━━━━━━━━━\u001b[0m \u001b[32m6.3/6.3 MB\u001b[0m \u001b[31m73.9 MB/s\u001b[0m eta \u001b[36m0:00:00\u001b[0m\n",
            "\u001b[?25hRequirement already satisfied: regex!=2019.12.17 in /usr/local/lib/python3.8/dist-packages (from transformers) (2022.6.2)\n",
            "Requirement already satisfied: packaging>=20.0 in /usr/local/lib/python3.8/dist-packages (from transformers) (23.0)\n",
            "Requirement already satisfied: tqdm>=4.27 in /usr/local/lib/python3.8/dist-packages (from transformers) (4.64.1)\n",
            "Requirement already satisfied: filelock in /usr/local/lib/python3.8/dist-packages (from transformers) (3.9.0)\n",
            "Requirement already satisfied: numpy>=1.17 in /usr/local/lib/python3.8/dist-packages (from transformers) (1.21.6)\n",
            "Requirement already satisfied: pyyaml>=5.1 in /usr/local/lib/python3.8/dist-packages (from transformers) (6.0)\n",
            "Requirement already satisfied: requests in /usr/local/lib/python3.8/dist-packages (from transformers) (2.25.1)\n",
            "Collecting huggingface-hub<1.0,>=0.11.0\n",
            "  Downloading huggingface_hub-0.12.0-py3-none-any.whl (190 kB)\n",
            "\u001b[2K     \u001b[90m━━━━━━━━━━━━━━━━━━━━━━━━━━━━━━━━━━━━━━\u001b[0m \u001b[32m190.3/190.3 KB\u001b[0m \u001b[31m23.7 MB/s\u001b[0m eta \u001b[36m0:00:00\u001b[0m\n",
            "\u001b[?25hCollecting tokenizers!=0.11.3,<0.14,>=0.11.1\n",
            "  Downloading tokenizers-0.13.2-cp38-cp38-manylinux_2_17_x86_64.manylinux2014_x86_64.whl (7.6 MB)\n",
            "\u001b[2K     \u001b[90m━━━━━━━━━━━━━━━━━━━━━━━━━━━━━━━━━━━━━━━━\u001b[0m \u001b[32m7.6/7.6 MB\u001b[0m \u001b[31m125.9 MB/s\u001b[0m eta \u001b[36m0:00:00\u001b[0m\n",
            "\u001b[?25hRequirement already satisfied: typing-extensions>=3.7.4.3 in /usr/local/lib/python3.8/dist-packages (from huggingface-hub<1.0,>=0.11.0->transformers) (4.4.0)\n",
            "Requirement already satisfied: urllib3<1.27,>=1.21.1 in /usr/local/lib/python3.8/dist-packages (from requests->transformers) (1.24.3)\n",
            "Requirement already satisfied: idna<3,>=2.5 in /usr/local/lib/python3.8/dist-packages (from requests->transformers) (2.10)\n",
            "Requirement already satisfied: certifi>=2017.4.17 in /usr/local/lib/python3.8/dist-packages (from requests->transformers) (2022.12.7)\n",
            "Requirement already satisfied: chardet<5,>=3.0.2 in /usr/local/lib/python3.8/dist-packages (from requests->transformers) (4.0.0)\n",
            "Installing collected packages: tokenizers, huggingface-hub, transformers\n",
            "Successfully installed huggingface-hub-0.12.0 tokenizers-0.13.2 transformers-4.26.0\n"
          ]
        }
      ],
      "source": [
        "def model_load():\n",
        "    checkpoint = \"sshleifer/distilbart-cnn-12-6\" #model loaded from Huggingface\n",
        "    tokenizer = AutoTokenizer.from_pretrained(checkpoint)\n",
        "    model = AutoModelForSeq2SeqLM.from_pretrained(checkpoint)\n",
        "#Model Details\n",
        "    print(\"tokenizer.model_max_length :\",tokenizer.model_max_length )# max token inputted in model 1024\n",
        "    print(\" max tokens excluding the special tokens\",tokenizer.max_len_single_sentence )# max tokens for input in model 1022\n",
        "    print(\"num_special_tokens_to_add \",tokenizer.num_special_tokens_to_add() ) # special token needed by model 2\n",
        "    return(tokenizer,model)\n"
      ]
    },
    {
      "cell_type": "code",
      "execution_count": null,
      "metadata": {
        "id": "skesMw5K1_SY"
      },
      "outputs": [],
      "source": [
        "def chunking(FileContent,tokenizer):\n",
        "    # extract the sentences from the document\n",
        "    sentences = nltk.tokenize.sent_tokenize(FileContent) #split the data(paragraph) into individual sentences\n",
        "    print(len(sentences)) #print total no of sentences\n",
        "    # find the max tokens in the longest sentence\n",
        "    maxtokencount=max([len(tokenizer.tokenize(sentence)) for sentence in sentences])\n",
        "    print(\"maximum tokens in longest sentence:\",maxtokencount)\n",
        "\n",
        "    # initialize\n",
        "    length = 0\n",
        "    chunk = \"\"\n",
        "    chunks = []\n",
        "    count = -1\n",
        "    for sentence in sentences:\n",
        "        count += 1\n",
        "        combined_length = len(tokenizer.tokenize(sentence)) + length # add the no. of sentence tokens to the length counter\n",
        "        #print(combined_length)  #combined length of all the tokens in all sentences\n",
        "\n",
        "        if combined_length  <= tokenizer.max_len_single_sentence: # if it doesn't exceed than max_len(1022)\n",
        "            chunk += sentence + \" \" # add the sentence to the chunk with white space\n",
        "            length = combined_length # update the length counter\n",
        "\n",
        "            # if it is the last sentence\n",
        "            if count == len(sentences) - 1:\n",
        "                chunks.append(chunk.strip()) # save the chunk\n",
        "\n",
        "        else:   # if max token limit reaches then save the chunk\n",
        "            chunks.append(chunk.strip()) # save the chunk\n",
        "\n",
        "        # reset the parameter to add next tokens to next chunk\n",
        "            length = 0\n",
        "            chunk = \"\"\n",
        "\n",
        "        # take care of the overflow sentence\n",
        "            chunk += sentence + \" \"\n",
        "            length = len(tokenizer.tokenize(sentence))\n",
        "\n",
        "\n",
        "    print(\"Total no of chunks created\",len(chunks))\n",
        "    print(\"Total no of tokens generated by chunks\",sum([len(tokenizer(c).input_ids) for c in chunks]))\n",
        "    print(\"Total no of token in original text\",len(tokenizer(FileContent).input_ids))\n",
        "    print(\"No of tokens in each  chunk excluding the special token\",[len(tokenizer.tokenize(c)) for c in chunks])\n",
        "    return (chunks)"
      ]
    },
    {
      "cell_type": "code",
      "execution_count": null,
      "metadata": {
        "id": "Nq0prlX41_Sa"
      },
      "outputs": [],
      "source": [
        "def sum_generate(chunks,tokenizer,model):\n",
        "    final_summ_gen=\"\"\n",
        "    inputs = [tokenizer(chunk, return_tensors=\"pt\") for chunk in chunks] #genrating inputs with chunks pt stands for pytorch\n",
        "    for input in inputs:\n",
        "        output = model.generate(**input)    #output generated for each chunk\n",
        "        summ_generated=tokenizer.decode(*output, skip_special_tokens=True)# decoding the output\n",
        "        final_summ_gen= final_summ_gen+summ_generated\n",
        "    print(final_summ_gen)\n",
        "    return(final_summ_gen)"
      ]
    },
    {
      "cell_type": "code",
      "execution_count": null,
      "metadata": {
        "colab": {
          "base_uri": "https://localhost:8080/"
        },
        "id": "NTaV1uNc1_Sb",
        "outputId": "c6103a1b-02c0-4f16-82d0-71dba868acc6"
      },
      "outputs": [
        {
          "name": "stdout",
          "output_type": "stream",
          "text": [
            "Looking in indexes: https://pypi.org/simple, https://us-python.pkg.dev/colab-wheels/public/simple/\n",
            "Requirement already satisfied: rouge in /usr/local/lib/python3.8/dist-packages (1.0.1)\n",
            "Requirement already satisfied: six in /usr/local/lib/python3.8/dist-packages (from rouge) (1.15.0)\n"
          ]
        },
        {
          "name": "stderr",
          "output_type": "stream",
          "text": [
            "[nltk_data] Downloading package punkt to /root/nltk_data...\n",
            "[nltk_data]   Unzipping tokenizers/punkt.zip.\n"
          ]
        }
      ],
      "source": [
        "def rouge_score(summaryContent,final_summ_gen):\n",
        "    rouge = Rouge()\n",
        "    result_rouge=rouge.get_scores(summaryContent, final_summ_gen, avg=True)\n",
        "# Printing the final list\n",
        "    print(result_rouge)"
      ]
    },
    {
      "cell_type": "code",
      "execution_count": null,
      "metadata": {
        "colab": {
          "base_uri": "https://localhost:8080/"
        },
        "id": "MH4V_dFI1_Sc",
        "outputId": "5086185c-6a36-44d6-bf43-2aa59686b5f3"
      },
      "outputs": [
        {
          "name": "stderr",
          "output_type": "stream",
          "text": [
            "Token indices sequence length is longer than the specified maximum sequence length for this model (2634 > 1024). Running this sequence through the model will result in indexing errors\n"
          ]
        },
        {
          "name": "stdout",
          "output_type": "stream",
          "text": [
            "tokenizer.model_max_length : 1024\n",
            " max tokens excluding the special tokens 1022\n",
            "num_special_tokens_to_add  2\n",
            "98\n",
            "maximum tokens in longest sentence: 137\n",
            "Total no of chunks created 3\n",
            "Total no of tokens generated by chunks 2572\n",
            "Total no of token in original text 2634\n",
            "No of tokens in each  chunk excluding the special token [999, 1019, 548]\n"
          ]
        },
        {
          "name": "stderr",
          "output_type": "stream",
          "text": [
            "/usr/local/lib/python3.8/dist-packages/transformers/generation/utils.py:1273: UserWarning: Neither `max_length` nor `max_new_tokens` has been set, `max_length` will default to 142 (`generation_config.max_length`). Controlling `max_length` via the config is deprecated and `max_length` will be removed from the config in v5 of Transformers -- we recommend using `max_new_tokens` to control the maximum length of the generation.\n",
            "  warnings.warn(\n"
          ]
        },
        {
          "name": "stdout",
          "output_type": "stream",
          "text": [
            " Appeal from an Order of the High Court of Bombay (Bavdekar and Chainani JJ.) dated 20th February, 1950, in Criminal Appeal No. 106 of 1950. W.H. King was tenant of a flat on the second floor of a building called \"Ganga Vihar\", Marine Drive, Bombay, which belongs to a lady named Durgeshwari Devi. The wife of the appellant denied any aiding and abetting. The wife was acquitted, the evidence being insufficient to prove any abetment. The appellant preferred an appeal to the High Court of Bombay but it was summarily dismissed. He asked for a certificate under article 134(1)(c) of the Constitution but this was rejected on 10 4 1950. He applied for special leave to appeal to this Court and it was granted on 3 10 1950. The word \"relinquishment\" does not occur in the Transfer of Property Act but it is found in many of the Tenancy Acts in various provinces where there are Sec tions which deal with the relinquishment of their holdings by tenants in favour of the landlord by notice given to him in writing. The conviction under sub clause (2) cannot be sustained, the conviction is set aside and the fine of Rs. 30,000 will be refunded if it has been paid.\n",
            "{'rouge-1': {'r': 0.291044776119403, 'p': 0.20855614973262032, 'f': 0.24299064934191253}, 'rouge-2': {'r': 0.08673469387755102, 'p': 0.049132947976878616, 'f': 0.06273062268923388}, 'rouge-l': {'r': 0.26119402985074625, 'p': 0.18716577540106952, 'f': 0.21806853096185025}}\n"
          ]
        }
      ],
      "source": [
        "# inputs to the model\n",
        "if __name__ == \"__main__\":\n",
        "  FileContent,summaryContent=read_input()\n",
        "  tokenizer,model=model_load()\n",
        "  chunks=chunking(FileContent,tokenizer)\n",
        "  final_summ_gen=sum_generate(chunks,tokenizer,model)\n",
        "  result_rouge=rouge_score(summaryContent,final_summ_gen)"
      ]
    },
    {
      "cell_type": "code",
      "execution_count": null,
      "metadata": {
        "colab": {
          "base_uri": "https://localhost:8080/"
        },
        "id": "ZwjgZiLn1_Se",
        "outputId": "4c95df09-8217-4556-e316-bda8538cdae9"
      },
      "outputs": [
        {
          "name": "stdout",
          "output_type": "stream",
          "text": [
            " Appeal from an Order of the High Court of Bombay (Bavdekar and Chainani JJ.) dated 20th February, 1950, in Criminal Appeal No. 106 of 1950. W.H. King was tenant of a flat on the second floor of a building called \"Ganga Vihar\", Marine Drive, Bombay, which belongs to a lady named Durgeshwari Devi. The wife of the appellant denied any aiding and abetting. The wife was acquitted, the evidence being insufficient to prove any abetment. The appellant preferred an appeal to the High Court of Bombay but it was summarily dismissed. He asked for a certificate under article 134(1)(c) of the Constitution but this was rejected on 10 4 1950. He applied for special leave to appeal to this Court and it was granted on 3 10 1950. The word \"relinquishment\" does not occur in the Transfer of Property Act but it is found in many of the Tenancy Acts in various provinces where there are Sec tions which deal with the relinquishment of their holdings by tenants in favour of the landlord by notice given to him in writing. The conviction under sub clause (2) cannot be sustained, the conviction is set aside and the fine of Rs. 30,000 will be refunded if it has been paid.\n"
          ]
        }
      ],
      "source": [
        "print(final_summ_gen)"
      ]
    },
    {
      "cell_type": "code",
      "execution_count": null,
      "metadata": {
        "colab": {
          "base_uri": "https://localhost:8080/"
        },
        "id": "7qx-dm1A1_Se",
        "outputId": "32c25221-1f30-4fce-82a9-f6ff8c8961a7"
      },
      "outputs": [
        {
          "name": "stdout",
          "output_type": "stream",
          "text": [
            "Given Summary: Sub section (1) of sec.\n",
            "19 of the Bombay Rents, Hotel and Lodging House Rates Control Act, LVI I of 1947, provided that \"it shall not be lawful for the tenant or any person acting or purporting to act on behalf of the tenant to claim or receive any sum or any consideration as a condition for the relinquishment of his tenancy of any premises\"; and sub sec.\n",
            "(2) provided that any tenant or person who in contravention of the provisions of sub sec.\n",
            "(1) receives any sum or consideration shall on conviction be punished with imprisonment and also with fine.\n",
            "A. who was a tenant of a flat, handed over vacant posses sion the flat to B on receiving \"pugree\", under a document which recited that A shall have no claim whatever over the flat and that B shall pay the rent directly to the landlord.\n",
            "A was convicted of an offence under sec.\n",
            "19 (2).\n",
            "Held, that there was no \"relinquishment\" of his tenancy by A, within the meaning of sec.\n",
            "19 (1) and the conviction could not be sustained.\n",
            "There is a clear distinction between an assignment of a tenancy on the one hand and a relinquishment or surrender on the other.\n",
            "In the case of an assignment, the assignor con tinues to be liable to the landlord for the performance of his obligations under the tenancy and this liability is contractual, while the assignee becomes liable by reason of privity of estate.\n",
            "The consent of the landlord to an as signment is not necessary, in the absence of a contract or local usage to the contrary.\n",
            "But in the case of relinquish ment it cannot be a unilateral transaction; it can only be in favour of the lessor by mutual agreement between them.\n",
            "Relinquishment of possession must be to the lessor or one who holds his interest; and surrender or relinquishment terminates the lessee 's rights and lets in the lessor.\n",
            "As sec.\n",
            "19 of Bombay Act LVII of 1947 creates an offence and imposes a penalty of fine and imprisonment, the words of the section must be strictly construed in favour of the subject.\n",
            "The Court is not concerned so much with what might possibly have been intended as with what has been actually said in and by the language employed in the statute.\n",
            "Judgment of the Bombay High Court reversed.\n"
          ]
        }
      ],
      "source": [
        "print(\"Given Summary:\",summaryContent)"
      ]
    },
    {
      "cell_type": "markdown",
      "metadata": {
        "id": "EiMmWKZE9Mdl"
      },
      "source": [
        "tokenizer.model_max_length : 1024\n",
        "\n",
        "max tokens excluding the special tokens 1022\n",
        "\n",
        "num_special_tokens_to_add  2  98\n",
        "\n",
        "maximum tokens in longest sentence: 137\n",
        "\n",
        "Total no of chunks created 3\n",
        "\n",
        "Total no of tokens generated by chunks 2572\n",
        "\n",
        "Total no of token in original text 2634\n",
        "\n",
        "No of tokens in each  chunk excluding the special token [999, 1019, 548]\n",
        "\n",
        "\n",
        "\n",
        "{'rouge-1': {'r': 0.291044776119403, 'p': 0.20855614973262032, 'f': 0.24299064934191253},\n",
        "\n",
        "'rouge-2': {'r': 0.08673469387755102, 'p': 0.049132947976878616, 'f': 0.06273062268923388},\n",
        "\n",
        "'rouge-l': {'r': 0.26119402985074625, 'p': 0.18716577540106952, 'f': 0.21806853096185025}}"
      ]
    },
    {
      "cell_type": "markdown",
      "metadata": {
        "id": "RaU1ICk291LL"
      },
      "source": [
        "# BART - Chunking (Multiple Documents)"
      ]
    },
    {
      "cell_type": "code",
      "execution_count": null,
      "metadata": {
        "id": "Vzfipz9M91LN"
      },
      "outputs": [],
      "source": [
        "def read_input(i):\n",
        "  doc_name = f'/content/drive/MyDrive/Legal Data/Indian Legal Abs Ext/dataset/IN-Abs/test-data/judgement/{i}.txt'\n",
        "  doc = open(doc_name,'r')\n",
        "  FileContent = doc.read().strip()\n",
        "  sum_name =f'/content/drive/MyDrive/Legal Data/Indian Legal Abs Ext/dataset/IN-Abs/test-data/summary/{i}.txt'\n",
        "  sum = open(sum_name,'r')\n",
        "  summaryContent = sum.read().strip()\n",
        "  return(FileContent,summaryContent)\n"
      ]
    },
    {
      "cell_type": "code",
      "execution_count": null,
      "metadata": {
        "id": "5LD-e1-X91LO"
      },
      "outputs": [],
      "source": [
        "def model_load():\n",
        "    checkpoint = \"sshleifer/distilbart-cnn-12-6\" #model loaded from Huggingface\n",
        "    tokenizer = AutoTokenizer.from_pretrained(checkpoint)\n",
        "    model = AutoModelForSeq2SeqLM.from_pretrained(checkpoint)\n",
        "#Model Details\n",
        "    #print(\"tokenizer.model_max_length :\",tokenizer.model_max_length )# max token inputted in model 1024\n",
        "    #print(\" max tokens excluding the special tokens\",tokenizer.max_len_single_sentence )# max tokens for input in model 1022\n",
        "    #print(\"num_special_tokens_to_add \",tokenizer.num_special_tokens_to_add() ) # special token needed by model 2\n",
        "    return(tokenizer,model)\n"
      ]
    },
    {
      "cell_type": "code",
      "execution_count": null,
      "metadata": {
        "id": "0zcJVGhP91LS"
      },
      "outputs": [],
      "source": [
        "def chunking(FileContent,tokenizer):\n",
        "    # extract the sentences from the document\n",
        "    sentences = nltk.tokenize.sent_tokenize(FileContent) #split the data(paragraph) into individual sentences\n",
        "    #print(len(sentences)) #print total no of sentences\n",
        "    # find the max tokens in the longest sentence\n",
        "    maxtokencount=max([len(tokenizer.tokenize(sentence)) for sentence in sentences])\n",
        "    #print(\"maximum tokens in longest sentence:\",maxtokencount)\n",
        "\n",
        "    # initialize\n",
        "    length = 0\n",
        "    chunk = \"\"\n",
        "    chunks = []\n",
        "    count = -1\n",
        "    for sentence in sentences:\n",
        "        count += 1\n",
        "        combined_length = len(tokenizer.tokenize(sentence)) + length # add the no. of sentence tokens to the length counter\n",
        "        #print(combined_length)  #combined length of all the tokens in all sentences\n",
        "\n",
        "        if combined_length  <= tokenizer.max_len_single_sentence: # if it doesn't exceed than max_len(1022)\n",
        "            chunk += sentence + \" \" # add the sentence to the chunk with white space\n",
        "            length = combined_length # update the length counter\n",
        "\n",
        "            # if it is the last sentence\n",
        "            if count == len(sentences) - 1:\n",
        "                chunks.append(chunk.strip()) # save the chunk\n",
        "\n",
        "        else:   # if max token limit reaches then save the chunk\n",
        "            chunks.append(chunk.strip()) # save the chunk\n",
        "\n",
        "        # reset the parameter to add next tokens to next chunk\n",
        "            length = 0\n",
        "            chunk = \"\"\n",
        "\n",
        "        # take care of the overflow sentence\n",
        "            chunk += sentence + \" \"\n",
        "            length = len(tokenizer.tokenize(sentence))\n",
        "\n",
        "\n",
        "    #print(\"Total no of chunks created\",len(chunks))\n",
        "    #print(\"Total no of tokens generated by chunks\",sum([len(tokenizer(c).input_ids) for c in chunks]))\n",
        "    #print(\"Total no of token in original text\",len(tokenizer(FileContent).input_ids))\n",
        "    #print(\"No of tokens in each  chunk excluding the special token\",[len(tokenizer.tokenize(c)) for c in chunks])\n",
        "    return (chunks)"
      ]
    },
    {
      "cell_type": "code",
      "execution_count": null,
      "metadata": {
        "id": "J7y0su9x91LT"
      },
      "outputs": [],
      "source": [
        "def sum_generate(chunks,tokenizer,model):\n",
        "    final_summ_gen=\"\"\n",
        "    inputs = [tokenizer(chunk, return_tensors=\"pt\") for chunk in chunks] #genrating inputs with chunks pt stands for pytorch\n",
        "    for input in inputs:\n",
        "        output = model.generate(**input)    #output generated for each chunk\n",
        "        summ_generated=tokenizer.decode(*output, skip_special_tokens=True)# decoding the output\n",
        "        final_summ_gen= final_summ_gen+summ_generated\n",
        "    #print(final_summ_gen)\n",
        "    return(final_summ_gen)"
      ]
    },
    {
      "cell_type": "code",
      "execution_count": null,
      "metadata": {
        "id": "VocDj_e791LT"
      },
      "outputs": [],
      "source": [
        "def rouge_score(summaryContent,final_summ_gen):\n",
        "    rouge = Rouge()\n",
        "    result_rouge=rouge.get_scores(summaryContent, final_summ_gen, avg=True)\n",
        "# Printing the final list\n",
        "    return result_rouge"
      ]
    },
    {
      "cell_type": "code",
      "execution_count": null,
      "metadata": {
        "id": "Szq5gN3491LU",
        "colab": {
          "base_uri": "https://localhost:8080/",
          "height": 232,
          "referenced_widgets": [
            "c0bd2c4888334bc294380b70a6b4a189",
            "2e4b6c8a20004929a3d3dbbaf5a7c193",
            "31c801ce79c346c19571cdbfcc443a96",
            "c9976277e34a48b99e2fff7da7898291",
            "85c017b13d3a406aaf718ca281b9bc64",
            "684fd9dbc31f463d8c730e43d15c875a",
            "549bca2cdd024b91a1de2e845d0d6ce5",
            "e3412c62c7d5426a85d627c8bba02585",
            "4f2ca72b95ee4c01a0f062355ce30536",
            "81cf26079a464140ae61e542a228ea59",
            "d14bbbda1e7f42f38e371f577e0fc34e",
            "d6629a6f5b424371a24856e22994babf",
            "6df19af955894d6f87d90ddefd54fc86",
            "8fd7f0fa961f47e7b064de42c0328d7f",
            "86cd541e2e7d41f2b0ebd5672ff8bbf8",
            "1879049519a04da9b8c3634956acccd4",
            "0cb3d6700b044cd28a1fb5938abc545d",
            "8a3c1e4b0b39406f914e0548d340a20a",
            "bd552abf25d7490b837726aee009156c",
            "3db4aae5b6434b1ead1b1bb5e25beb19",
            "ca7b00db25fb41589b40892f1cd13488",
            "6a053ed0072448efbc334a7ff3b3dbba",
            "379b869ed23c494fabdc5e4e0f4e5215",
            "2b6e0addcb1448d986abb3dc6f4a57fe",
            "3b69edec7f4846a0ab7e8a130d4af7f7",
            "ff4e5e17e5a948428e92074eeb7fe45d",
            "72b8890f0557437687b67f523f8e9bbb",
            "90eaf82fb4a543a09cf484d09777d38a",
            "804cd75ce8b444a3b6e1599e7883bf9b",
            "7b5cbe48035e4de3be35d0fda07814e4",
            "b3f5466188144c4abb5632aec87b21b3",
            "4de67449b96b4d779c8fc6021fe4192f",
            "e0dc887f757545b2acd7a902dcbac3ea",
            "370b5b0478a544eca7fe41206bc50371",
            "e392593e0c304cd0b7734eed5d0bb5a9",
            "ac5d544fe2194a6099129da7dce25c6d",
            "8679eaf7e10a4267816f3b362734cea0",
            "eda4ec307d694bdd9a09e33e4fee944d",
            "75f24e49769b454c9437b4b30357121d",
            "5580d400e2384f1c86d12bd662fab7ad",
            "7c45746f5c144474b8f5694d1dc8f4f2",
            "1ab250e25b8841d8a3a8f3d98c808be9",
            "611ddba88632420d979fbec974571901",
            "37994059972d42d8bfd305f87885af19",
            "0f1c8c585679453b924ff012925c29f8",
            "eabaddf91c3749138c5957d3585c6d5c",
            "d2caad2b641e42748527d09a1ce676e6",
            "e0f6e558bd744b68bf8860b1c85339f3",
            "0857a775cde34a129a226373ee6182b8",
            "ba010b3724f5463ea4ac2fc899ca00e0",
            "ea56103285e24ba7bb96324d191bbad4",
            "b2a00ff23a484971a9b2a94272f561cb",
            "e825c535d25949b98e25f21aeb644d8a",
            "f895f67e31e44f01a42d39b97c54266f",
            "c6cce4906a43411c865d08bcf09dd5bb"
          ]
        },
        "outputId": "d4c7cec7-4c00-47dc-f2bb-c5ee1f7b0bf2"
      },
      "outputs": [
        {
          "output_type": "display_data",
          "data": {
            "text/plain": [
              "Downloading (…)okenizer_config.json:   0%|          | 0.00/26.0 [00:00<?, ?B/s]"
            ],
            "application/vnd.jupyter.widget-view+json": {
              "version_major": 2,
              "version_minor": 0,
              "model_id": "c0bd2c4888334bc294380b70a6b4a189"
            }
          },
          "metadata": {}
        },
        {
          "output_type": "display_data",
          "data": {
            "text/plain": [
              "Downloading (…)lve/main/config.json:   0%|          | 0.00/1.80k [00:00<?, ?B/s]"
            ],
            "application/vnd.jupyter.widget-view+json": {
              "version_major": 2,
              "version_minor": 0,
              "model_id": "d6629a6f5b424371a24856e22994babf"
            }
          },
          "metadata": {}
        },
        {
          "output_type": "display_data",
          "data": {
            "text/plain": [
              "Downloading (…)olve/main/vocab.json:   0%|          | 0.00/899k [00:00<?, ?B/s]"
            ],
            "application/vnd.jupyter.widget-view+json": {
              "version_major": 2,
              "version_minor": 0,
              "model_id": "379b869ed23c494fabdc5e4e0f4e5215"
            }
          },
          "metadata": {}
        },
        {
          "output_type": "display_data",
          "data": {
            "text/plain": [
              "Downloading (…)olve/main/merges.txt:   0%|          | 0.00/456k [00:00<?, ?B/s]"
            ],
            "application/vnd.jupyter.widget-view+json": {
              "version_major": 2,
              "version_minor": 0,
              "model_id": "370b5b0478a544eca7fe41206bc50371"
            }
          },
          "metadata": {}
        },
        {
          "output_type": "display_data",
          "data": {
            "text/plain": [
              "Downloading (…)\"pytorch_model.bin\";:   0%|          | 0.00/1.22G [00:00<?, ?B/s]"
            ],
            "application/vnd.jupyter.widget-view+json": {
              "version_major": 2,
              "version_minor": 0,
              "model_id": "0f1c8c585679453b924ff012925c29f8"
            }
          },
          "metadata": {}
        },
        {
          "output_type": "stream",
          "name": "stderr",
          "text": [
            "/usr/local/lib/python3.8/dist-packages/transformers/generation/utils.py:1273: UserWarning: Neither `max_length` nor `max_new_tokens` has been set, `max_length` will default to 142 (`generation_config.max_length`). Controlling `max_length` via the config is deprecated and `max_length` will be removed from the config in v5 of Transformers -- we recommend using `max_new_tokens` to control the maximum length of the generation.\n",
            "  warnings.warn(\n"
          ]
        }
      ],
      "source": [
        "# inputs to the model\n",
        "if __name__ == \"__main__\":\n",
        "  result_rouge_list = []\n",
        "  for i in dir_list[:30]:\n",
        "    FileContent,summaryContent=read_input(i)\n",
        "    tokenizer,model=model_load()\n",
        "    chunks=chunking(FileContent,tokenizer)\n",
        "    final_summ_gen=sum_generate(chunks,tokenizer,model)\n",
        "    result_rouge_list.append(rouge_score(summaryContent,final_summ_gen))"
      ]
    },
    {
      "cell_type": "code",
      "execution_count": null,
      "metadata": {
        "colab": {
          "base_uri": "https://localhost:8080/"
        },
        "id": "NlPIiyKMpKpD",
        "outputId": "83c375d5-b725-4477-85f1-168b3e392c8e"
      },
      "outputs": [
        {
          "output_type": "execute_result",
          "data": {
            "text/plain": [
              "30"
            ]
          },
          "metadata": {},
          "execution_count": 10
        }
      ],
      "source": [
        "len(result_rouge_list)"
      ]
    },
    {
      "cell_type": "code",
      "execution_count": null,
      "metadata": {
        "colab": {
          "base_uri": "https://localhost:8080/"
        },
        "id": "McnQ6UEymThO",
        "outputId": "b62949a6-0d1d-4c3b-faa2-e317d3e7ede6"
      },
      "outputs": [
        {
          "output_type": "stream",
          "name": "stdout",
          "text": [
            "{'rouge-1': {'r': 0.5146350977636011, 'p': 0.2939724380970604, 'f': 0.3647993139364114}, 'rouge-2': {'r': 0.293680200989159, 'p': 0.1405336410499587, 'f': 0.18339711797892372}, 'rouge-l': {'r': 0.4749069546202089, 'p': 0.26922998613889076, 'f': 0.3350146321923683}}\n"
          ]
        }
      ],
      "source": [
        "agg_rouge_score = {'rouge-1':{'r':0,'p':0,'f':0},'rouge-2':{'r':0,'p':0,'f':0},\n",
        "                   'rouge-l':{'r':0,'p':0,'f':0}}\n",
        "\n",
        "for i in range(len(result_rouge_list)):\n",
        "  for rouge_type in ['rouge-1','rouge-2','rouge-l']:\n",
        "    for j in ['r','p','f']:\n",
        "      agg_rouge_score[rouge_type][j]+=(result_rouge_list[i][rouge_type][j]/len(result_rouge_list))\n",
        "\n",
        "print(agg_rouge_score)"
      ]
    },
    {
      "cell_type": "markdown",
      "metadata": {
        "id": "tnQjcfx2Cv78"
      },
      "source": [
        "# BigBird - Chunking (Single Document)"
      ]
    },
    {
      "cell_type": "code",
      "execution_count": null,
      "metadata": {
        "id": "r2DiO8ooCv8b"
      },
      "outputs": [],
      "source": [
        "def read_input():\n",
        "  doc_name = '/content/drive/MyDrive/Legal Data/Indian Legal Abs Ext/dataset/IN-Abs/test-data/judgement/78.txt'\n",
        "  doc = open(doc_name,'r')\n",
        "  FileContent = doc.read().strip()\n",
        "  sum_name ='/content/drive/MyDrive/Legal Data/Indian Legal Abs Ext/dataset/IN-Abs/test-data/summary/78.txt'\n",
        "  sum = open(sum_name,'r')\n",
        "  summaryContent = sum.read().strip()\n",
        "  return(FileContent,summaryContent)\n"
      ]
    },
    {
      "cell_type": "code",
      "execution_count": null,
      "metadata": {
        "id": "5RA_0DxOCv8d"
      },
      "outputs": [],
      "source": [
        "from transformers import BigBirdForCausalLM\n",
        "\n",
        "def model_load():\n",
        "    checkpoint = \"google/bigbird-roberta-base\" #model loaded from Huggingface\n",
        "    tokenizer = AutoTokenizer.from_pretrained(checkpoint)\n",
        "    model = BigBirdForCausalLM.from_pretrained(checkpoint,is_decoder=True)\n",
        "#Model Details\n",
        "    print(\"tokenizer.model_max_length :\",tokenizer.model_max_length )# max token inputted in model 1024\n",
        "    print(\" max tokens excluding the special tokens\",tokenizer.max_len_single_sentence )# max tokens for input in model 1022\n",
        "    print(\"num_special_tokens_to_add \",tokenizer.num_special_tokens_to_add() ) # special token needed by model 2\n",
        "    return(tokenizer,model)\n"
      ]
    },
    {
      "cell_type": "code",
      "execution_count": null,
      "metadata": {
        "id": "Dr7XoHv9Cv8e"
      },
      "outputs": [],
      "source": [
        "def chunking(FileContent,tokenizer):\n",
        "    # extract the sentences from the document\n",
        "    sentences = nltk.tokenize.sent_tokenize(FileContent) #split the data(paragraph) into individual sentences\n",
        "    print(len(sentences)) #print total no of sentences\n",
        "    # find the max tokens in the longest sentence\n",
        "    maxtokencount=max([len(tokenizer.tokenize(sentence)) for sentence in sentences])\n",
        "    print(\"maximum tokens in longest sentence:\",maxtokencount)\n",
        "\n",
        "    # initialize\n",
        "    length = 0\n",
        "    chunk = \"\"\n",
        "    chunks = []\n",
        "    count = -1\n",
        "    for sentence in sentences:\n",
        "        count += 1\n",
        "        combined_length = len(tokenizer.tokenize(sentence)) + length # add the no. of sentence tokens to the length counter\n",
        "        #print(combined_length)  #combined length of all the tokens in all sentences\n",
        "\n",
        "        if combined_length  <= tokenizer.max_len_single_sentence: # if it doesn't exceed than max_len(1022)\n",
        "            chunk += sentence + \" \" # add the sentence to the chunk with white space\n",
        "            length = combined_length # update the length counter\n",
        "\n",
        "            # if it is the last sentence\n",
        "            if count == len(sentences) - 1:\n",
        "                chunks.append(chunk.strip()) # save the chunk\n",
        "\n",
        "        else:   # if max token limit reaches then save the chunk\n",
        "            chunks.append(chunk.strip()) # save the chunk\n",
        "\n",
        "        # reset the parameter to add next tokens to next chunk\n",
        "            length = 0\n",
        "            chunk = \"\"\n",
        "\n",
        "        # take care of the overflow sentence\n",
        "            chunk += sentence + \" \"\n",
        "            length = len(tokenizer.tokenize(sentence))\n",
        "\n",
        "\n",
        "    print(\"Total no of chunks created\",len(chunks))\n",
        "    print(\"Total no of tokens generated by chunks\",sum([len(tokenizer(c).input_ids) for c in chunks]))\n",
        "    print(\"Total no of token in original text\",len(tokenizer(FileContent).input_ids))\n",
        "    print(\"No of tokens in each  chunk excluding the special token\",[len(tokenizer.tokenize(c)) for c in chunks])\n",
        "    return (chunks)"
      ]
    },
    {
      "cell_type": "code",
      "execution_count": null,
      "metadata": {
        "id": "qiDoG50_Cv8g"
      },
      "outputs": [],
      "source": [
        "def sum_generate(chunks,tokenizer,model):\n",
        "    final_summ_gen=\"\"\n",
        "    inputs = [tokenizer(chunk, return_tensors=\"pt\") for chunk in chunks] #genrating inputs with chunks pt stands for pytorch\n",
        "    for input in inputs:\n",
        "        output = model.generate(**input)    #output generated for each chunk\n",
        "        summ_generated=tokenizer.decode(*output, skip_special_tokens=True)# decoding the output\n",
        "        final_summ_gen= final_summ_gen+summ_generated\n",
        "    print(final_summ_gen)\n",
        "    return(final_summ_gen)"
      ]
    },
    {
      "cell_type": "code",
      "execution_count": null,
      "metadata": {
        "id": "PyIXWGHSCv8q"
      },
      "outputs": [],
      "source": [
        "from rouge import Rouge\n",
        "def rouge_score(summaryContent,final_summ_gen):\n",
        "    rouge = Rouge()\n",
        "    result_rouge=rouge.get_scores(summaryContent, final_summ_gen, avg=True)\n",
        "# Printing the final list\n",
        "    print(result_rouge)"
      ]
    },
    {
      "cell_type": "code",
      "execution_count": null,
      "metadata": {
        "colab": {
          "base_uri": "https://localhost:8080/"
        },
        "id": "8wYZADwMCv8r",
        "outputId": "40d03337-3d03-4441-e842-a6a53f553b6b"
      },
      "outputs": [
        {
          "name": "stderr",
          "output_type": "stream",
          "text": [
            "Some weights of the model checkpoint at google/bigbird-roberta-base were not used when initializing BigBirdForCausalLM: ['cls.seq_relationship.bias', 'cls.seq_relationship.weight']\n",
            "- This IS expected if you are initializing BigBirdForCausalLM from the checkpoint of a model trained on another task or with another architecture (e.g. initializing a BertForSequenceClassification model from a BertForPreTraining model).\n",
            "- This IS NOT expected if you are initializing BigBirdForCausalLM from the checkpoint of a model that you expect to be exactly identical (initializing a BertForSequenceClassification model from a BertForSequenceClassification model).\n",
            "/usr/local/lib/python3.8/dist-packages/transformers/generation/utils.py:1273: UserWarning: Neither `max_length` nor `max_new_tokens` has been set, `max_length` will default to 20 (`generation_config.max_length`). Controlling `max_length` via the config is deprecated and `max_length` will be removed from the config in v5 of Transformers -- we recommend using `max_new_tokens` to control the maximum length of the generation.\n",
            "  warnings.warn(\n",
            "Input length of input_ids is 2571, but `max_length` is set to 20. This can lead to unexpected behavior. You should consider increasing `max_new_tokens`.\n"
          ]
        },
        {
          "name": "stdout",
          "output_type": "stream",
          "text": [
            "tokenizer.model_max_length : 4096\n",
            " max tokens excluding the special tokens 4094\n",
            "num_special_tokens_to_add  2\n",
            "98\n",
            "maximum tokens in longest sentence: 138\n",
            "Total no of chunks created 1\n",
            "Total no of tokens generated by chunks 2571\n",
            "Total no of token in original text 2636\n",
            "No of tokens in each  chunk excluding the special token [2569]\n",
            "N: Criminal Appeal No. 8 of 1951. Appeal from an Order of the High Court of Bombay (Bavdekar and Chainani JJ.) dated 20th February, 1950, in Criminal Appeal No. 106 of 1950 arising out of an order dated 9th January, 1950, of the Presidency Magistrate, 19th Court, Esplanade, Bombay, in Case No. 10879/P of 1949. The facts are stated in the judgment. Iswarlal C. Dalai and R.B. Dalai, for the appellant. C.K. Daphtary, Solicitor General for India (G. N. Joshi, with him) for the Republic of India (respondent No. 1).Jindra Lal for the respondent No. 2. 1952. February 1. The Judgment of the Court was deliv ered by CHANDRASEKHARA AIYAR J. The facts out of which this Crimi nal Appeal has arisen are not long. The appellant, W.H. King, who is carrying on a business in Bombay under the name and style of Associated Commercial Enterprises, was the tenant of a flat on the second floor of a building called \"Ganga Vihar\", Marine Drive, Bombay, which belongs to a lady named Durgeshwari Devi. The tenancy was a monthly one, the rent being Rs. 215. It is said that the appellant wanted to go to the United Kingdom for treatment of his failing eye sight and he got into touch with the complainant Mulchand Kodumal Bhatia, who is the second respondent in this appeal, through one Sayed for the purpose of making necessary ar rangements about the flat occupied by him in view of his intended departure. The prosecution case is that the accused demanded a sum of Rs. 30,000 which was later on reduced to Rs. 29,500 as consideration for putting the complainant in vacant possession of the flat and an additional amount of Rs. 2,000 for the furniture, and that the complainant agreed to pay these sums. The complainant actually paid the accused two sums of 420 Rs. 500 each on 7th November, 1948, and 17th November, 1948. He, however, got into touch with the police on 1 12 1948, and in conjunction with the latter, a trap was laid for the appellant. It was arranged that the complainant should bring with him Rs. 1,000, being the balance due in respect of the furniture and that the police would give him Rs. 29,500 to be paid to the appellant. The complainant and a Sub Inspec tor, posing as the complainant's brother, went to the appel lant on 4 12 1948, and paid him the two sums of money; and the keys of the flat and the motor garage were handed over to the complainant. As the appellant and his wife were leaving the flat, the man, who masqueraded as the complain ant's brother, threw off his disguise and disclosed his identity. The police party, who were down below ready for the raid, held up the car of the appellant and recovered the sum of Rs. 30,500 from the rear seat of the car and also some papers, a typed draft of a partnership agreement be tween the complainant and the appellant and an application form for permission to occupy the building as caretaker. From the complainant were recovered the bunch of keys and the documents that were handed over to him by the appellant, namely, the letter handing vacant possession (Exhibit D). the receipt for Rs. 2,000 for the articles of furniture (Exhibit E), a letter to the Bombay Gas Company for transfer of the gas connection to the name of the complainant (Exhib it F), and the letter to the Bombay Electric Supply and Transport Committee for transfer of the telephone connec tions and the deposit of Rs. 27 (Exhibit G). The appellant was charged under section 18(1) of the Bombay Rents, Hotel and Lodging House Rates Control Act, LVII of 1947, for receiving a pugree of Rs. 29,500 and he was further charged under section 19(2) of the said Act for receiving the said sum as a condition for the relin quishment of his tenancy. His wife, who was the second accused in the case, was charged with aiding and abetting her husband in the commission of the two offences. 421 The defence of the appellant was that he was in search of a partner to carry on his business during his intended absence, who was also to act as caretaker of his flat anal that it was in this connection and with this object in view that he entered into negotiations with the complain ant. The sum of Rs. 29 500 was not pugree but represented capital for 0 12 0 share in the business and as the com plainant was also to be a caretaker of the flat, the sum of Rs. 2,000 was paid and received as a guarantee against disposal and damage of the furniture and it was agreed to be paid back on the appellant's return to India. The wife of the appellant denied any aiding and abetting. The Presidency Magistrate, who tried the case, disbe lieved the defence on the facts, holding that what was received by the accused was by way of pugree. As section 18 (1) of the Act was not applicable he convicted him under section 19(2) of the Act and sentenced him, in view of his old age and blindness, to one day's simple imprisonment and a fine of Rs. 30,000. The wife was acquitted, the evidence being insufficient to prove any abetment. The appellant preferred an appeal to the High Court of Bombay but it was summarily dismissed on 20 2 1950. He asked for a certificate under article 134(1)(c) of the Constitution but this was rejected on 10 4 1950. Thereaf ter he applied for special leave to appeal to this Court and it was granted on 3 10 1950. A short legal argument was advanced on behalf of the appellant based on the language of section 19 (1) of the Act and this is the only point which requires our consideration. The section which consists of two parts is in these terms:\" \"(1) It shall not be lawful for the tenant or any person acting or purporting to act on behalf of the tenant to claim or receive any sum or any consideration as a condi tion for the relinquishment of his tenancy of any premises; 422 (2) Any tenant or person who in contravention of the provisions of sub section (1) receives any sum or considera tion shall, on conviction, be punished with imprisonment for a term which may extend to 6 months and shall also be pun ished with fine which shall not be less than the sum or the value of the consideration received by him.\" It was urged that the offence arises only on receipt of any sum or any consideration as a condition of the relin quishment by a tenant of his tenancy and that in the present case there was no such relinquishment. Exhibit D, which is the most material document, under which the appellant handed over vacant possession of the flat to the complainant, constitutes or evidences an assignment of the tenancy and not a relinquishment. It says : \"I, W.H. King, hereby hand over vacant possession of my flat No. 3 situated on 2nd floor and garage No. 4 on the ground floor of Ganga Vihar Building on Plot No. 55 situated on Marine Drive Road to Mr. Mulchand Kodumal Bhatia from this day onward and that I have no claim whatsoever over this flat and Mr. Mulchand Kodumal Bhatia will pay the rent directly to the landlord.\" The argument raised on behalf of the appellant appears to us to be sound and has to be accepted. The learned Solic itor General urged that 'the word \"relinquishment\" was not a term of art and was used in the section not in any strict technical sense but in its comprehensive meaning as giving up of possession of the premises; and he pointed out that if it was intended by the legislature that \"relinquish ment\" should have the limited meaning sought to be placed upon it on behalf of the appellant, the word \"surrender\" used in the Transfer of Property Act would have been more appropriate. Sections 15 and 18 of the Act were referred to in this connection but in our opinion they lend no assist ance to the argument of the learned counsel. Any sublet ting, assignment or transfer in any other manner of his interest by the tenant is made unlawful under 423 section 15. Section 18 deals with the grant, renewal or continuance of a lease of any premises or the giving of his consent by the landlord to the transfer of a lease by sub lease or otherwise, and it provides that the landlord, who receives any fine, premium, or other like sum or deposit, or any consideration for the grant, renewal or continuance or the accord of consent oh would be guilty of an offence and liable to the punishment therein specified. It would thus be seen that an assignment of the lease or transfer in any other manner by a tenant is not made an offence; the statute merely says that it is not a lawful transaction. It is the landlord's consent to the transfer of a lease by sub lease or otherwise on receipt of consideration that has been made an offence. Then follows section 19 which speaks of the relinquishment of his tenancy of any premises by a tenant. If, by the expression, an assignment such as we have in the present case was meant, appropriate words could have been used, such as the transfer by a tenant of his interest, which we find in section 108, sub clause (i), of the Trans fer of Property Act. The distinction between an assignment on the one hand and relinquishment or surrender on the other is too plain to be ignored. In the case of an assignment, the assignor contin ues to be liable to the landlord for the performance of his obligations under the tenancy and this liability is contrac tual, while the assignee becomes liable by reason of privity of estate. The consent of the landlord to an assignment is not necessary, in the absence of a contract or local usage to the contrary. But in the case of relinquishment, it cannot be a unilateral transaction; it can only be in favour of the lessor by mutual agreement between them. The relin quishment of possession must be to the lessor or one who holds his interest. In fact, a surrender or relinquishment terminates the lessee's rights and lets in the lessor. It is no doubt true that the word \"relinquishment\" does not occur in the Transfer of Property Act but it is found in many of the Tenancy Acts in various provinces where there are Sec tions which deal with the 55 424 relinquishment of their holdings by tenants in favour of the landlord by notice given to him in writing. The section in question, it should be further noted, does not speak of relinquishment or giving up of possession,in general terms. The words are \"the relinquishment of his tenancy of any premises\". The relinquishment of a tenancy is equivalent to surrender by the lessee or tenant of his rights as such. Whether abandonment of a tenancy would come within the meaning of relinquishment is a question that does not arise in this appeal, because in the face of Exhibit D, there is no abandonment in the sense that the tenant disappeared from the scene altogether saying nothing and making no arrange ments about his interest and possession under the lease. As the statute creates an offence and imposes a penalty of fine and imprisonment, the words of the section must be strictly construed in favour of the subject. We are not concerned so much with what might possibly have been intend ed as with what has been actually said in and by the language employed. As in our view, there has been no \"relinquishment\" within the meaning of section 19, sub clause (1), the conviction under sub clause (2) cannot be sustained. It is set aside and the fine of Rs. 30,000 will be refunded if it has al ready been paid. The other parts of the order of the learned Presidency Magistrate, as regards the disposal of Rs. 1,000 paid by the complainant to the appellant and the sum of Rs. 29,500 brought in by the police, will, however, stand. Conviction sit aside. Agent for respondent No. 1: P.A. Mehta. Agent for respondent No. 2: Ganpat Rai..\n",
            "{'rouge-1': {'r': 0.22176308539944903, 'p': 0.8609625668449198, 'f': 0.35268345785982924}, 'rouge-2': {'r': 0.15072830905636478, 'p': 0.6878612716763006, 'f': 0.2472727243240533}, 'rouge-l': {'r': 0.22038567493112948, 'p': 0.8556149732620321, 'f': 0.35049287735599577}}\n"
          ]
        }
      ],
      "source": [
        "# inputs to the model\n",
        "if __name__ == \"__main__\":\n",
        "  FileContent,summaryContent=read_input()\n",
        "  tokenizer,model=model_load()\n",
        "  chunks=chunking(FileContent,tokenizer)\n",
        "  final_summ_gen=sum_generate(chunks,tokenizer,model)\n",
        "  result_rouge=rouge_score(summaryContent,final_summ_gen)"
      ]
    },
    {
      "cell_type": "markdown",
      "metadata": {
        "id": "FOei4BSRCv8s"
      },
      "source": [
        "If you want to use `BigBirdForCausalLM` as a standalone, add `is_decoder=True.`\n",
        "\n",
        "tokenizer.model_max_length : 4096\n",
        "\n",
        "max tokens excluding the special tokens 4094\n",
        "\n",
        "num_special_tokens_to_add  2  98\n",
        "\n",
        "maximum tokens in longest sentence: 138\n",
        "\n",
        "Total no of chunks created 1\n",
        "\n",
        "Total no of tokens generated by chunks 2571\n",
        "\n",
        "Total no of token in original text 2636\n",
        "\n",
        "No of tokens in each  chunk excluding the special token [2569]\n",
        "\n",
        "/usr/local/lib/python3.8/dist-packages/transformers/generation/utils.py:1273: UserWarning: Neither `max_length` nor `max_new_tokens` has been set, `max_length` will default to 20 (`generation_config.max_length`). Controlling `max_length` via the config is deprecated and `max_length` will be removed from the config in v5 of Transformers -- we recommend using `max_new_tokens` to control the maximum length of the generation.\n",
        "  warnings.warn(\n",
        "**Input length of input_ids is 2571, but `max_length` is set to 20. This can lead to unexpected behavior. You should consider increasing `max_new_tokens`.**\n",
        "\n",
        "{'rouge-1': {'r': 0.22176308539944903, 'p': 0.8609625668449198, 'f': 0.35268345785982924},\n",
        "\n",
        "'rouge-2': {'r': 0.15072830905636478, 'p': 0.6878612716763006, 'f': 0.2472727243240533},\n",
        "\n",
        "'rouge-l': {'r': 0.22038567493112948, 'p': 0.8556149732620321, 'f': 0.35049287735599577}}"
      ]
    },
    {
      "cell_type": "markdown",
      "metadata": {
        "id": "487RwkAeZBue"
      },
      "source": [
        "# BigBird - Chunking (Multiple Documents)"
      ]
    },
    {
      "cell_type": "code",
      "execution_count": null,
      "metadata": {
        "id": "uUHr5eYLZBuf"
      },
      "outputs": [],
      "source": [
        "def read_input(i):\n",
        "  doc_name = f'/content/drive/MyDrive/Legal Data/Indian Legal Abs Ext/dataset/IN-Abs/test-data/judgement/{i}.txt'\n",
        "  doc = open(doc_name,'r')\n",
        "  FileContent = doc.read().strip()\n",
        "  sum_name =f'/content/drive/MyDrive/Legal Data/Indian Legal Abs Ext/dataset/IN-Abs/test-data/summary/{i}.txt'\n",
        "  sum = open(sum_name,'r')\n",
        "  summaryContent = sum.read().strip()\n",
        "  return(FileContent,summaryContent)\n"
      ]
    },
    {
      "cell_type": "code",
      "execution_count": null,
      "metadata": {
        "id": "2tSY-YYoZBuf"
      },
      "outputs": [],
      "source": [
        "from transformers import BigBirdForCausalLM\n",
        "\n",
        "def model_load():\n",
        "    checkpoint = \"google/bigbird-roberta-base\" #model loaded from Huggingface\n",
        "    tokenizer = AutoTokenizer.from_pretrained(checkpoint)\n",
        "    model = BigBirdForCausalLM.from_pretrained(checkpoint,is_decoder=True)\n",
        "#Model Details\n",
        "    #print(\"tokenizer.model_max_length :\",tokenizer.model_max_length )# max token inputted in model 1024\n",
        "    #print(\" max tokens excluding the special tokens\",tokenizer.max_len_single_sentence )# max tokens for input in model 1022\n",
        "    #print(\"num_special_tokens_to_add \",tokenizer.num_special_tokens_to_add() ) # special token needed by model 2\n",
        "    return(tokenizer,model)\n"
      ]
    },
    {
      "cell_type": "code",
      "execution_count": null,
      "metadata": {
        "id": "JpBOqVvVZBug"
      },
      "outputs": [],
      "source": [
        "def chunking(FileContent,tokenizer):\n",
        "    # extract the sentences from the document\n",
        "    sentences = nltk.tokenize.sent_tokenize(FileContent) #split the data(paragraph) into individual sentences\n",
        "    #print(len(sentences)) #print total no of sentences\n",
        "    # find the max tokens in the longest sentence\n",
        "    maxtokencount=max([len(tokenizer.tokenize(sentence)) for sentence in sentences])\n",
        "    #print(\"maximum tokens in longest sentence:\",maxtokencount)\n",
        "\n",
        "    # initialize\n",
        "    length = 0\n",
        "    chunk = \"\"\n",
        "    chunks = []\n",
        "    count = -1\n",
        "    for sentence in sentences:\n",
        "        count += 1\n",
        "        combined_length = len(tokenizer.tokenize(sentence)) + length # add the no. of sentence tokens to the length counter\n",
        "        #print(combined_length)  #combined length of all the tokens in all sentences\n",
        "\n",
        "        if combined_length  <= tokenizer.max_len_single_sentence: # if it doesn't exceed than max_len(1022)\n",
        "            chunk += sentence + \" \" # add the sentence to the chunk with white space\n",
        "            length = combined_length # update the length counter\n",
        "\n",
        "            # if it is the last sentence\n",
        "            if count == len(sentences) - 1:\n",
        "                chunks.append(chunk.strip()) # save the chunk\n",
        "\n",
        "        else:   # if max token limit reaches then save the chunk\n",
        "            chunks.append(chunk.strip()) # save the chunk\n",
        "\n",
        "        # reset the parameter to add next tokens to next chunk\n",
        "            length = 0\n",
        "            chunk = \"\"\n",
        "\n",
        "        # take care of the overflow sentence\n",
        "            chunk += sentence + \" \"\n",
        "            length = len(tokenizer.tokenize(sentence))\n",
        "\n",
        "\n",
        "    #print(\"Total no of chunks created\",len(chunks))\n",
        "    #print(\"Total no of tokens generated by chunks\",sum([len(tokenizer(c).input_ids) for c in chunks]))\n",
        "    #print(\"Total no of token in original text\",len(tokenizer(FileContent).input_ids))\n",
        "    #print(\"No of tokens in each  chunk excluding the special token\",[len(tokenizer.tokenize(c)) for c in chunks])\n",
        "    return (chunks)"
      ]
    },
    {
      "cell_type": "code",
      "execution_count": null,
      "metadata": {
        "id": "ktGd9xbJZBuh"
      },
      "outputs": [],
      "source": [
        "def sum_generate(chunks,tokenizer,model):\n",
        "    final_summ_gen=\"\"\n",
        "    inputs = [tokenizer(chunk, return_tensors=\"pt\") for chunk in chunks] #genrating inputs with chunks pt stands for pytorch\n",
        "    for input in inputs:\n",
        "        output = model.generate(**input)    #output generated for each chunk\n",
        "        summ_generated=tokenizer.decode(*output, skip_special_tokens=True)# decoding the output\n",
        "        final_summ_gen= final_summ_gen+summ_generated\n",
        "    #print(final_summ_gen)\n",
        "    return(final_summ_gen)"
      ]
    },
    {
      "cell_type": "code",
      "execution_count": null,
      "metadata": {
        "id": "KI1ra1RdZBuh"
      },
      "outputs": [],
      "source": [
        "def rouge_score(summaryContent,final_summ_gen):\n",
        "    rouge = Rouge()\n",
        "    result_rouge=rouge.get_scores(summaryContent, final_summ_gen, avg=True)\n",
        "# Printing the final list\n",
        "    return result_rouge"
      ]
    },
    {
      "cell_type": "code",
      "execution_count": null,
      "metadata": {
        "colab": {
          "base_uri": "https://localhost:8080/",
          "height": 1000,
          "referenced_widgets": [
            "7010775c6e464460a52b80290f84db88",
            "a9155f311d38422e86053dbcff2447a0",
            "b1c1f32a2292453384ca299053e55aeb",
            "8e5199f7e7b9483fa87d78530157e7c8",
            "ff03fe04fccd4aefa5afa23099cce2f8",
            "e3d200e47dbb4f7595dae0cdab74a8ec",
            "99d40d0efcf5480d866c76297626fb60",
            "c7ca75f1f2f745bcac3be306c8828072",
            "60da870bb2514a29a7e5759c4fdcee9d",
            "77669810f0424671b5e1f8466f7e55d6",
            "04b37887e7144b1888fc81bf8f41e2fb"
          ]
        },
        "outputId": "f693926f-8716-4eeb-f461-b42cbe2901c3",
        "id": "OlPadthCZBuh"
      },
      "outputs": [
        {
          "data": {
            "application/vnd.jupyter.widget-view+json": {
              "model_id": "7010775c6e464460a52b80290f84db88",
              "version_major": 2,
              "version_minor": 0
            },
            "text/plain": [
              "Downloading (…)\"pytorch_model.bin\";:   0%|          | 0.00/513M [00:00<?, ?B/s]"
            ]
          },
          "metadata": {},
          "output_type": "display_data"
        },
        {
          "output_type": "stream",
          "name": "stderr",
          "text": [
            "Some weights of the model checkpoint at google/bigbird-roberta-base were not used when initializing BigBirdForCausalLM: ['cls.seq_relationship.bias', 'cls.seq_relationship.weight']\n",
            "- This IS expected if you are initializing BigBirdForCausalLM from the checkpoint of a model trained on another task or with another architecture (e.g. initializing a BertForSequenceClassification model from a BertForPreTraining model).\n",
            "- This IS NOT expected if you are initializing BigBirdForCausalLM from the checkpoint of a model that you expect to be exactly identical (initializing a BertForSequenceClassification model from a BertForSequenceClassification model).\n",
            "/usr/local/lib/python3.8/dist-packages/transformers/generation/utils.py:1273: UserWarning: Neither `max_length` nor `max_new_tokens` has been set, `max_length` will default to 20 (`generation_config.max_length`). Controlling `max_length` via the config is deprecated and `max_length` will be removed from the config in v5 of Transformers -- we recommend using `max_new_tokens` to control the maximum length of the generation.\n",
            "  warnings.warn(\n",
            "Input length of input_ids is 4062, but `max_length` is set to 20. This can lead to unexpected behavior. You should consider increasing `max_new_tokens`.\n",
            "Input length of input_ids is 629, but `max_length` is set to 20. This can lead to unexpected behavior. You should consider increasing `max_new_tokens`.\n",
            "Attention type 'block_sparse' is not possible if sequence_length: 629 <= num global tokens: 2 * config.block_size + min. num sliding tokens: 3 * config.block_size + config.num_random_blocks * config.block_size + additional buffer: config.num_random_blocks * config.block_size = 704 with config.block_size = 64, config.num_random_blocks = 3. Changing attention type to 'original_full'...\n",
            "Some weights of the model checkpoint at google/bigbird-roberta-base were not used when initializing BigBirdForCausalLM: ['cls.seq_relationship.bias', 'cls.seq_relationship.weight']\n",
            "- This IS expected if you are initializing BigBirdForCausalLM from the checkpoint of a model trained on another task or with another architecture (e.g. initializing a BertForSequenceClassification model from a BertForPreTraining model).\n",
            "- This IS NOT expected if you are initializing BigBirdForCausalLM from the checkpoint of a model that you expect to be exactly identical (initializing a BertForSequenceClassification model from a BertForSequenceClassification model).\n",
            "Input length of input_ids is 2501, but `max_length` is set to 20. This can lead to unexpected behavior. You should consider increasing `max_new_tokens`.\n",
            "Some weights of the model checkpoint at google/bigbird-roberta-base were not used when initializing BigBirdForCausalLM: ['cls.seq_relationship.bias', 'cls.seq_relationship.weight']\n",
            "- This IS expected if you are initializing BigBirdForCausalLM from the checkpoint of a model trained on another task or with another architecture (e.g. initializing a BertForSequenceClassification model from a BertForPreTraining model).\n",
            "- This IS NOT expected if you are initializing BigBirdForCausalLM from the checkpoint of a model that you expect to be exactly identical (initializing a BertForSequenceClassification model from a BertForSequenceClassification model).\n",
            "Input length of input_ids is 4079, but `max_length` is set to 20. This can lead to unexpected behavior. You should consider increasing `max_new_tokens`.\n",
            "Input length of input_ids is 3537, but `max_length` is set to 20. This can lead to unexpected behavior. You should consider increasing `max_new_tokens`.\n",
            "Some weights of the model checkpoint at google/bigbird-roberta-base were not used when initializing BigBirdForCausalLM: ['cls.seq_relationship.bias', 'cls.seq_relationship.weight']\n",
            "- This IS expected if you are initializing BigBirdForCausalLM from the checkpoint of a model trained on another task or with another architecture (e.g. initializing a BertForSequenceClassification model from a BertForPreTraining model).\n",
            "- This IS NOT expected if you are initializing BigBirdForCausalLM from the checkpoint of a model that you expect to be exactly identical (initializing a BertForSequenceClassification model from a BertForSequenceClassification model).\n",
            "Input length of input_ids is 2007, but `max_length` is set to 20. This can lead to unexpected behavior. You should consider increasing `max_new_tokens`.\n",
            "Some weights of the model checkpoint at google/bigbird-roberta-base were not used when initializing BigBirdForCausalLM: ['cls.seq_relationship.bias', 'cls.seq_relationship.weight']\n",
            "- This IS expected if you are initializing BigBirdForCausalLM from the checkpoint of a model trained on another task or with another architecture (e.g. initializing a BertForSequenceClassification model from a BertForPreTraining model).\n",
            "- This IS NOT expected if you are initializing BigBirdForCausalLM from the checkpoint of a model that you expect to be exactly identical (initializing a BertForSequenceClassification model from a BertForSequenceClassification model).\n",
            "Input length of input_ids is 4079, but `max_length` is set to 20. This can lead to unexpected behavior. You should consider increasing `max_new_tokens`.\n",
            "Input length of input_ids is 4085, but `max_length` is set to 20. This can lead to unexpected behavior. You should consider increasing `max_new_tokens`.\n",
            "Input length of input_ids is 4064, but `max_length` is set to 20. This can lead to unexpected behavior. You should consider increasing `max_new_tokens`.\n",
            "Input length of input_ids is 4068, but `max_length` is set to 20. This can lead to unexpected behavior. You should consider increasing `max_new_tokens`.\n",
            "Input length of input_ids is 4040, but `max_length` is set to 20. This can lead to unexpected behavior. You should consider increasing `max_new_tokens`.\n",
            "Input length of input_ids is 1954, but `max_length` is set to 20. This can lead to unexpected behavior. You should consider increasing `max_new_tokens`.\n",
            "Some weights of the model checkpoint at google/bigbird-roberta-base were not used when initializing BigBirdForCausalLM: ['cls.seq_relationship.bias', 'cls.seq_relationship.weight']\n",
            "- This IS expected if you are initializing BigBirdForCausalLM from the checkpoint of a model trained on another task or with another architecture (e.g. initializing a BertForSequenceClassification model from a BertForPreTraining model).\n",
            "- This IS NOT expected if you are initializing BigBirdForCausalLM from the checkpoint of a model that you expect to be exactly identical (initializing a BertForSequenceClassification model from a BertForSequenceClassification model).\n",
            "Input length of input_ids is 2429, but `max_length` is set to 20. This can lead to unexpected behavior. You should consider increasing `max_new_tokens`.\n",
            "Some weights of the model checkpoint at google/bigbird-roberta-base were not used when initializing BigBirdForCausalLM: ['cls.seq_relationship.bias', 'cls.seq_relationship.weight']\n",
            "- This IS expected if you are initializing BigBirdForCausalLM from the checkpoint of a model trained on another task or with another architecture (e.g. initializing a BertForSequenceClassification model from a BertForPreTraining model).\n",
            "- This IS NOT expected if you are initializing BigBirdForCausalLM from the checkpoint of a model that you expect to be exactly identical (initializing a BertForSequenceClassification model from a BertForSequenceClassification model).\n",
            "Input length of input_ids is 2565, but `max_length` is set to 20. This can lead to unexpected behavior. You should consider increasing `max_new_tokens`.\n",
            "Some weights of the model checkpoint at google/bigbird-roberta-base were not used when initializing BigBirdForCausalLM: ['cls.seq_relationship.bias', 'cls.seq_relationship.weight']\n",
            "- This IS expected if you are initializing BigBirdForCausalLM from the checkpoint of a model trained on another task or with another architecture (e.g. initializing a BertForSequenceClassification model from a BertForPreTraining model).\n",
            "- This IS NOT expected if you are initializing BigBirdForCausalLM from the checkpoint of a model that you expect to be exactly identical (initializing a BertForSequenceClassification model from a BertForSequenceClassification model).\n",
            "Input length of input_ids is 4094, but `max_length` is set to 20. This can lead to unexpected behavior. You should consider increasing `max_new_tokens`.\n",
            "Input length of input_ids is 184, but `max_length` is set to 20. This can lead to unexpected behavior. You should consider increasing `max_new_tokens`.\n",
            "Attention type 'block_sparse' is not possible if sequence_length: 184 <= num global tokens: 2 * config.block_size + min. num sliding tokens: 3 * config.block_size + config.num_random_blocks * config.block_size + additional buffer: config.num_random_blocks * config.block_size = 704 with config.block_size = 64, config.num_random_blocks = 3. Changing attention type to 'original_full'...\n",
            "Some weights of the model checkpoint at google/bigbird-roberta-base were not used when initializing BigBirdForCausalLM: ['cls.seq_relationship.bias', 'cls.seq_relationship.weight']\n",
            "- This IS expected if you are initializing BigBirdForCausalLM from the checkpoint of a model trained on another task or with another architecture (e.g. initializing a BertForSequenceClassification model from a BertForPreTraining model).\n",
            "- This IS NOT expected if you are initializing BigBirdForCausalLM from the checkpoint of a model that you expect to be exactly identical (initializing a BertForSequenceClassification model from a BertForSequenceClassification model).\n",
            "Input length of input_ids is 3109, but `max_length` is set to 20. This can lead to unexpected behavior. You should consider increasing `max_new_tokens`.\n",
            "Some weights of the model checkpoint at google/bigbird-roberta-base were not used when initializing BigBirdForCausalLM: ['cls.seq_relationship.bias', 'cls.seq_relationship.weight']\n",
            "- This IS expected if you are initializing BigBirdForCausalLM from the checkpoint of a model trained on another task or with another architecture (e.g. initializing a BertForSequenceClassification model from a BertForPreTraining model).\n",
            "- This IS NOT expected if you are initializing BigBirdForCausalLM from the checkpoint of a model that you expect to be exactly identical (initializing a BertForSequenceClassification model from a BertForSequenceClassification model).\n",
            "Input length of input_ids is 1730, but `max_length` is set to 20. This can lead to unexpected behavior. You should consider increasing `max_new_tokens`.\n",
            "Some weights of the model checkpoint at google/bigbird-roberta-base were not used when initializing BigBirdForCausalLM: ['cls.seq_relationship.bias', 'cls.seq_relationship.weight']\n",
            "- This IS expected if you are initializing BigBirdForCausalLM from the checkpoint of a model trained on another task or with another architecture (e.g. initializing a BertForSequenceClassification model from a BertForPreTraining model).\n",
            "- This IS NOT expected if you are initializing BigBirdForCausalLM from the checkpoint of a model that you expect to be exactly identical (initializing a BertForSequenceClassification model from a BertForSequenceClassification model).\n",
            "Input length of input_ids is 4095, but `max_length` is set to 20. This can lead to unexpected behavior. You should consider increasing `max_new_tokens`.\n",
            "Input length of input_ids is 2501, but `max_length` is set to 20. This can lead to unexpected behavior. You should consider increasing `max_new_tokens`.\n",
            "Some weights of the model checkpoint at google/bigbird-roberta-base were not used when initializing BigBirdForCausalLM: ['cls.seq_relationship.bias', 'cls.seq_relationship.weight']\n",
            "- This IS expected if you are initializing BigBirdForCausalLM from the checkpoint of a model trained on another task or with another architecture (e.g. initializing a BertForSequenceClassification model from a BertForPreTraining model).\n",
            "- This IS NOT expected if you are initializing BigBirdForCausalLM from the checkpoint of a model that you expect to be exactly identical (initializing a BertForSequenceClassification model from a BertForSequenceClassification model).\n",
            "Input length of input_ids is 4034, but `max_length` is set to 20. This can lead to unexpected behavior. You should consider increasing `max_new_tokens`.\n",
            "Input length of input_ids is 284, but `max_length` is set to 20. This can lead to unexpected behavior. You should consider increasing `max_new_tokens`.\n",
            "Attention type 'block_sparse' is not possible if sequence_length: 284 <= num global tokens: 2 * config.block_size + min. num sliding tokens: 3 * config.block_size + config.num_random_blocks * config.block_size + additional buffer: config.num_random_blocks * config.block_size = 704 with config.block_size = 64, config.num_random_blocks = 3. Changing attention type to 'original_full'...\n",
            "Some weights of the model checkpoint at google/bigbird-roberta-base were not used when initializing BigBirdForCausalLM: ['cls.seq_relationship.bias', 'cls.seq_relationship.weight']\n",
            "- This IS expected if you are initializing BigBirdForCausalLM from the checkpoint of a model trained on another task or with another architecture (e.g. initializing a BertForSequenceClassification model from a BertForPreTraining model).\n",
            "- This IS NOT expected if you are initializing BigBirdForCausalLM from the checkpoint of a model that you expect to be exactly identical (initializing a BertForSequenceClassification model from a BertForSequenceClassification model).\n",
            "Input length of input_ids is 2758, but `max_length` is set to 20. This can lead to unexpected behavior. You should consider increasing `max_new_tokens`.\n",
            "Some weights of the model checkpoint at google/bigbird-roberta-base were not used when initializing BigBirdForCausalLM: ['cls.seq_relationship.bias', 'cls.seq_relationship.weight']\n",
            "- This IS expected if you are initializing BigBirdForCausalLM from the checkpoint of a model trained on another task or with another architecture (e.g. initializing a BertForSequenceClassification model from a BertForPreTraining model).\n",
            "- This IS NOT expected if you are initializing BigBirdForCausalLM from the checkpoint of a model that you expect to be exactly identical (initializing a BertForSequenceClassification model from a BertForSequenceClassification model).\n",
            "Input length of input_ids is 2557, but `max_length` is set to 20. This can lead to unexpected behavior. You should consider increasing `max_new_tokens`.\n",
            "Some weights of the model checkpoint at google/bigbird-roberta-base were not used when initializing BigBirdForCausalLM: ['cls.seq_relationship.bias', 'cls.seq_relationship.weight']\n",
            "- This IS expected if you are initializing BigBirdForCausalLM from the checkpoint of a model trained on another task or with another architecture (e.g. initializing a BertForSequenceClassification model from a BertForPreTraining model).\n",
            "- This IS NOT expected if you are initializing BigBirdForCausalLM from the checkpoint of a model that you expect to be exactly identical (initializing a BertForSequenceClassification model from a BertForSequenceClassification model).\n",
            "Input length of input_ids is 4085, but `max_length` is set to 20. This can lead to unexpected behavior. You should consider increasing `max_new_tokens`.\n",
            "Input length of input_ids is 1203, but `max_length` is set to 20. This can lead to unexpected behavior. You should consider increasing `max_new_tokens`.\n",
            "Some weights of the model checkpoint at google/bigbird-roberta-base were not used when initializing BigBirdForCausalLM: ['cls.seq_relationship.bias', 'cls.seq_relationship.weight']\n",
            "- This IS expected if you are initializing BigBirdForCausalLM from the checkpoint of a model trained on another task or with another architecture (e.g. initializing a BertForSequenceClassification model from a BertForPreTraining model).\n",
            "- This IS NOT expected if you are initializing BigBirdForCausalLM from the checkpoint of a model that you expect to be exactly identical (initializing a BertForSequenceClassification model from a BertForSequenceClassification model).\n",
            "Input length of input_ids is 1535, but `max_length` is set to 20. This can lead to unexpected behavior. You should consider increasing `max_new_tokens`.\n",
            "Some weights of the model checkpoint at google/bigbird-roberta-base were not used when initializing BigBirdForCausalLM: ['cls.seq_relationship.bias', 'cls.seq_relationship.weight']\n",
            "- This IS expected if you are initializing BigBirdForCausalLM from the checkpoint of a model trained on another task or with another architecture (e.g. initializing a BertForSequenceClassification model from a BertForPreTraining model).\n",
            "- This IS NOT expected if you are initializing BigBirdForCausalLM from the checkpoint of a model that you expect to be exactly identical (initializing a BertForSequenceClassification model from a BertForSequenceClassification model).\n",
            "Input length of input_ids is 1679, but `max_length` is set to 20. This can lead to unexpected behavior. You should consider increasing `max_new_tokens`.\n",
            "Some weights of the model checkpoint at google/bigbird-roberta-base were not used when initializing BigBirdForCausalLM: ['cls.seq_relationship.bias', 'cls.seq_relationship.weight']\n",
            "- This IS expected if you are initializing BigBirdForCausalLM from the checkpoint of a model trained on another task or with another architecture (e.g. initializing a BertForSequenceClassification model from a BertForPreTraining model).\n",
            "- This IS NOT expected if you are initializing BigBirdForCausalLM from the checkpoint of a model that you expect to be exactly identical (initializing a BertForSequenceClassification model from a BertForSequenceClassification model).\n",
            "Input length of input_ids is 4051, but `max_length` is set to 20. This can lead to unexpected behavior. You should consider increasing `max_new_tokens`.\n",
            "Input length of input_ids is 4090, but `max_length` is set to 20. This can lead to unexpected behavior. You should consider increasing `max_new_tokens`.\n",
            "Input length of input_ids is 231, but `max_length` is set to 20. This can lead to unexpected behavior. You should consider increasing `max_new_tokens`.\n",
            "Attention type 'block_sparse' is not possible if sequence_length: 231 <= num global tokens: 2 * config.block_size + min. num sliding tokens: 3 * config.block_size + config.num_random_blocks * config.block_size + additional buffer: config.num_random_blocks * config.block_size = 704 with config.block_size = 64, config.num_random_blocks = 3. Changing attention type to 'original_full'...\n",
            "Some weights of the model checkpoint at google/bigbird-roberta-base were not used when initializing BigBirdForCausalLM: ['cls.seq_relationship.bias', 'cls.seq_relationship.weight']\n",
            "- This IS expected if you are initializing BigBirdForCausalLM from the checkpoint of a model trained on another task or with another architecture (e.g. initializing a BertForSequenceClassification model from a BertForPreTraining model).\n",
            "- This IS NOT expected if you are initializing BigBirdForCausalLM from the checkpoint of a model that you expect to be exactly identical (initializing a BertForSequenceClassification model from a BertForSequenceClassification model).\n",
            "Input length of input_ids is 3566, but `max_length` is set to 20. This can lead to unexpected behavior. You should consider increasing `max_new_tokens`.\n",
            "Some weights of the model checkpoint at google/bigbird-roberta-base were not used when initializing BigBirdForCausalLM: ['cls.seq_relationship.bias', 'cls.seq_relationship.weight']\n",
            "- This IS expected if you are initializing BigBirdForCausalLM from the checkpoint of a model trained on another task or with another architecture (e.g. initializing a BertForSequenceClassification model from a BertForPreTraining model).\n",
            "- This IS NOT expected if you are initializing BigBirdForCausalLM from the checkpoint of a model that you expect to be exactly identical (initializing a BertForSequenceClassification model from a BertForSequenceClassification model).\n",
            "Input length of input_ids is 4087, but `max_length` is set to 20. This can lead to unexpected behavior. You should consider increasing `max_new_tokens`.\n",
            "Input length of input_ids is 264, but `max_length` is set to 20. This can lead to unexpected behavior. You should consider increasing `max_new_tokens`.\n",
            "Attention type 'block_sparse' is not possible if sequence_length: 264 <= num global tokens: 2 * config.block_size + min. num sliding tokens: 3 * config.block_size + config.num_random_blocks * config.block_size + additional buffer: config.num_random_blocks * config.block_size = 704 with config.block_size = 64, config.num_random_blocks = 3. Changing attention type to 'original_full'...\n",
            "Some weights of the model checkpoint at google/bigbird-roberta-base were not used when initializing BigBirdForCausalLM: ['cls.seq_relationship.bias', 'cls.seq_relationship.weight']\n",
            "- This IS expected if you are initializing BigBirdForCausalLM from the checkpoint of a model trained on another task or with another architecture (e.g. initializing a BertForSequenceClassification model from a BertForPreTraining model).\n",
            "- This IS NOT expected if you are initializing BigBirdForCausalLM from the checkpoint of a model that you expect to be exactly identical (initializing a BertForSequenceClassification model from a BertForSequenceClassification model).\n",
            "Input length of input_ids is 1845, but `max_length` is set to 20. This can lead to unexpected behavior. You should consider increasing `max_new_tokens`.\n",
            "Some weights of the model checkpoint at google/bigbird-roberta-base were not used when initializing BigBirdForCausalLM: ['cls.seq_relationship.bias', 'cls.seq_relationship.weight']\n",
            "- This IS expected if you are initializing BigBirdForCausalLM from the checkpoint of a model trained on another task or with another architecture (e.g. initializing a BertForSequenceClassification model from a BertForPreTraining model).\n",
            "- This IS NOT expected if you are initializing BigBirdForCausalLM from the checkpoint of a model that you expect to be exactly identical (initializing a BertForSequenceClassification model from a BertForSequenceClassification model).\n",
            "Input length of input_ids is 4093, but `max_length` is set to 20. This can lead to unexpected behavior. You should consider increasing `max_new_tokens`.\n",
            "Attention type 'block_sparse' is not possible if sequence_length: 9 <= num global tokens: 2 * config.block_size + min. num sliding tokens: 3 * config.block_size + config.num_random_blocks * config.block_size + additional buffer: config.num_random_blocks * config.block_size = 704 with config.block_size = 64, config.num_random_blocks = 3. Changing attention type to 'original_full'...\n",
            "Some weights of the model checkpoint at google/bigbird-roberta-base were not used when initializing BigBirdForCausalLM: ['cls.seq_relationship.bias', 'cls.seq_relationship.weight']\n",
            "- This IS expected if you are initializing BigBirdForCausalLM from the checkpoint of a model trained on another task or with another architecture (e.g. initializing a BertForSequenceClassification model from a BertForPreTraining model).\n",
            "- This IS NOT expected if you are initializing BigBirdForCausalLM from the checkpoint of a model that you expect to be exactly identical (initializing a BertForSequenceClassification model from a BertForSequenceClassification model).\n",
            "Input length of input_ids is 4068, but `max_length` is set to 20. This can lead to unexpected behavior. You should consider increasing `max_new_tokens`.\n",
            "Input length of input_ids is 3365, but `max_length` is set to 20. This can lead to unexpected behavior. You should consider increasing `max_new_tokens`.\n",
            "Some weights of the model checkpoint at google/bigbird-roberta-base were not used when initializing BigBirdForCausalLM: ['cls.seq_relationship.bias', 'cls.seq_relationship.weight']\n",
            "- This IS expected if you are initializing BigBirdForCausalLM from the checkpoint of a model trained on another task or with another architecture (e.g. initializing a BertForSequenceClassification model from a BertForPreTraining model).\n",
            "- This IS NOT expected if you are initializing BigBirdForCausalLM from the checkpoint of a model that you expect to be exactly identical (initializing a BertForSequenceClassification model from a BertForSequenceClassification model).\n",
            "Input length of input_ids is 4071, but `max_length` is set to 20. This can lead to unexpected behavior. You should consider increasing `max_new_tokens`.\n",
            "Input length of input_ids is 3961, but `max_length` is set to 20. This can lead to unexpected behavior. You should consider increasing `max_new_tokens`.\n",
            "Input length of input_ids is 4088, but `max_length` is set to 20. This can lead to unexpected behavior. You should consider increasing `max_new_tokens`.\n",
            "Input length of input_ids is 689, but `max_length` is set to 20. This can lead to unexpected behavior. You should consider increasing `max_new_tokens`.\n",
            "Attention type 'block_sparse' is not possible if sequence_length: 689 <= num global tokens: 2 * config.block_size + min. num sliding tokens: 3 * config.block_size + config.num_random_blocks * config.block_size + additional buffer: config.num_random_blocks * config.block_size = 704 with config.block_size = 64, config.num_random_blocks = 3. Changing attention type to 'original_full'...\n",
            "Some weights of the model checkpoint at google/bigbird-roberta-base were not used when initializing BigBirdForCausalLM: ['cls.seq_relationship.bias', 'cls.seq_relationship.weight']\n",
            "- This IS expected if you are initializing BigBirdForCausalLM from the checkpoint of a model trained on another task or with another architecture (e.g. initializing a BertForSequenceClassification model from a BertForPreTraining model).\n",
            "- This IS NOT expected if you are initializing BigBirdForCausalLM from the checkpoint of a model that you expect to be exactly identical (initializing a BertForSequenceClassification model from a BertForSequenceClassification model).\n",
            "Input length of input_ids is 4053, but `max_length` is set to 20. This can lead to unexpected behavior. You should consider increasing `max_new_tokens`.\n",
            "Input length of input_ids is 329, but `max_length` is set to 20. This can lead to unexpected behavior. You should consider increasing `max_new_tokens`.\n",
            "Attention type 'block_sparse' is not possible if sequence_length: 329 <= num global tokens: 2 * config.block_size + min. num sliding tokens: 3 * config.block_size + config.num_random_blocks * config.block_size + additional buffer: config.num_random_blocks * config.block_size = 704 with config.block_size = 64, config.num_random_blocks = 3. Changing attention type to 'original_full'...\n",
            "Some weights of the model checkpoint at google/bigbird-roberta-base were not used when initializing BigBirdForCausalLM: ['cls.seq_relationship.bias', 'cls.seq_relationship.weight']\n",
            "- This IS expected if you are initializing BigBirdForCausalLM from the checkpoint of a model trained on another task or with another architecture (e.g. initializing a BertForSequenceClassification model from a BertForPreTraining model).\n",
            "- This IS NOT expected if you are initializing BigBirdForCausalLM from the checkpoint of a model that you expect to be exactly identical (initializing a BertForSequenceClassification model from a BertForSequenceClassification model).\n",
            "Input length of input_ids is 4054, but `max_length` is set to 20. This can lead to unexpected behavior. You should consider increasing `max_new_tokens`.\n",
            "Input length of input_ids is 4066, but `max_length` is set to 20. This can lead to unexpected behavior. You should consider increasing `max_new_tokens`.\n",
            "Input length of input_ids is 276, but `max_length` is set to 20. This can lead to unexpected behavior. You should consider increasing `max_new_tokens`.\n",
            "Attention type 'block_sparse' is not possible if sequence_length: 276 <= num global tokens: 2 * config.block_size + min. num sliding tokens: 3 * config.block_size + config.num_random_blocks * config.block_size + additional buffer: config.num_random_blocks * config.block_size = 704 with config.block_size = 64, config.num_random_blocks = 3. Changing attention type to 'original_full'...\n",
            "Some weights of the model checkpoint at google/bigbird-roberta-base were not used when initializing BigBirdForCausalLM: ['cls.seq_relationship.bias', 'cls.seq_relationship.weight']\n",
            "- This IS expected if you are initializing BigBirdForCausalLM from the checkpoint of a model trained on another task or with another architecture (e.g. initializing a BertForSequenceClassification model from a BertForPreTraining model).\n",
            "- This IS NOT expected if you are initializing BigBirdForCausalLM from the checkpoint of a model that you expect to be exactly identical (initializing a BertForSequenceClassification model from a BertForSequenceClassification model).\n",
            "Input length of input_ids is 3532, but `max_length` is set to 20. This can lead to unexpected behavior. You should consider increasing `max_new_tokens`.\n",
            "Some weights of the model checkpoint at google/bigbird-roberta-base were not used when initializing BigBirdForCausalLM: ['cls.seq_relationship.bias', 'cls.seq_relationship.weight']\n",
            "- This IS expected if you are initializing BigBirdForCausalLM from the checkpoint of a model trained on another task or with another architecture (e.g. initializing a BertForSequenceClassification model from a BertForPreTraining model).\n",
            "- This IS NOT expected if you are initializing BigBirdForCausalLM from the checkpoint of a model that you expect to be exactly identical (initializing a BertForSequenceClassification model from a BertForSequenceClassification model).\n",
            "Input length of input_ids is 4059, but `max_length` is set to 20. This can lead to unexpected behavior. You should consider increasing `max_new_tokens`.\n",
            "Input length of input_ids is 4084, but `max_length` is set to 20. This can lead to unexpected behavior. You should consider increasing `max_new_tokens`.\n",
            "Input length of input_ids is 4094, but `max_length` is set to 20. This can lead to unexpected behavior. You should consider increasing `max_new_tokens`.\n",
            "Input length of input_ids is 4032, but `max_length` is set to 20. This can lead to unexpected behavior. You should consider increasing `max_new_tokens`.\n",
            "Input length of input_ids is 1834, but `max_length` is set to 20. This can lead to unexpected behavior. You should consider increasing `max_new_tokens`.\n",
            "Some weights of the model checkpoint at google/bigbird-roberta-base were not used when initializing BigBirdForCausalLM: ['cls.seq_relationship.bias', 'cls.seq_relationship.weight']\n",
            "- This IS expected if you are initializing BigBirdForCausalLM from the checkpoint of a model trained on another task or with another architecture (e.g. initializing a BertForSequenceClassification model from a BertForPreTraining model).\n",
            "- This IS NOT expected if you are initializing BigBirdForCausalLM from the checkpoint of a model that you expect to be exactly identical (initializing a BertForSequenceClassification model from a BertForSequenceClassification model).\n",
            "Input length of input_ids is 1060, but `max_length` is set to 20. This can lead to unexpected behavior. You should consider increasing `max_new_tokens`.\n",
            "Some weights of the model checkpoint at google/bigbird-roberta-base were not used when initializing BigBirdForCausalLM: ['cls.seq_relationship.bias', 'cls.seq_relationship.weight']\n",
            "- This IS expected if you are initializing BigBirdForCausalLM from the checkpoint of a model trained on another task or with another architecture (e.g. initializing a BertForSequenceClassification model from a BertForPreTraining model).\n",
            "- This IS NOT expected if you are initializing BigBirdForCausalLM from the checkpoint of a model that you expect to be exactly identical (initializing a BertForSequenceClassification model from a BertForSequenceClassification model).\n",
            "Input length of input_ids is 4090, but `max_length` is set to 20. This can lead to unexpected behavior. You should consider increasing `max_new_tokens`.\n",
            "Input length of input_ids is 3248, but `max_length` is set to 20. This can lead to unexpected behavior. You should consider increasing `max_new_tokens`.\n"
          ]
        }
      ],
      "source": [
        "# inputs to the model\n",
        "if __name__ == \"__main__\":\n",
        "  result_rouge_list = []\n",
        "  for i in dir_list[:30]:\n",
        "    FileContent,summaryContent=read_input(i)\n",
        "    tokenizer,model=model_load()\n",
        "    chunks=chunking(FileContent,tokenizer)\n",
        "    final_summ_gen=sum_generate(chunks,tokenizer,model)\n",
        "    result_rouge_list.append(rouge_score(summaryContent,final_summ_gen))"
      ]
    },
    {
      "cell_type": "code",
      "execution_count": null,
      "metadata": {
        "colab": {
          "base_uri": "https://localhost:8080/"
        },
        "outputId": "37e5471a-b5e7-4350-8524-0c20e352744b",
        "id": "ynI-ah96ZBui"
      },
      "outputs": [
        {
          "output_type": "execute_result",
          "data": {
            "text/plain": [
              "30"
            ]
          },
          "metadata": {},
          "execution_count": 22
        }
      ],
      "source": [
        "len(result_rouge_list)"
      ]
    },
    {
      "cell_type": "code",
      "execution_count": null,
      "metadata": {
        "colab": {
          "base_uri": "https://localhost:8080/"
        },
        "outputId": "0d41ff4f-52b2-418e-f5fe-4bdfe545f595",
        "id": "-vdD9XFCZBui"
      },
      "outputs": [
        {
          "output_type": "stream",
          "name": "stdout",
          "text": [
            "{'rouge-1': {'r': 0.29704686623815646, 'p': 0.8199397745193063, 'f': 0.4288183742015664}, 'rouge-2': {'r': 0.18563868603051248, 'p': 0.651633184874414, 'f': 0.28231233567068204}, 'rouge-l': {'r': 0.28884331556801657, 'p': 0.7956824084144307, 'f': 0.41679113893456854}}\n"
          ]
        }
      ],
      "source": [
        "agg_rouge_score = {'rouge-1':{'r':0,'p':0,'f':0},'rouge-2':{'r':0,'p':0,'f':0},\n",
        "                   'rouge-l':{'r':0,'p':0,'f':0}}\n",
        "\n",
        "for i in range(len(result_rouge_list)):\n",
        "  for rouge_type in ['rouge-1','rouge-2','rouge-l']:\n",
        "    for j in ['r','p','f']:\n",
        "      agg_rouge_score[rouge_type][j]+=(result_rouge_list[i][rouge_type][j]/len(result_rouge_list))\n",
        "\n",
        "print(agg_rouge_score)"
      ]
    },
    {
      "cell_type": "markdown",
      "metadata": {
        "id": "Ye22-Qw96uPO"
      },
      "source": [
        "# BERT - Chunking (Single Document)"
      ]
    },
    {
      "cell_type": "code",
      "execution_count": null,
      "metadata": {
        "id": "jOrnifDM6uPP"
      },
      "outputs": [],
      "source": [
        "def read_input():\n",
        "  doc_name = '/content/drive/MyDrive/Legal Data/Indian Legal Abs Ext/dataset/IN-Abs/test-data/judgement/78.txt'\n",
        "  doc = open(doc_name,'r')\n",
        "  FileContent = doc.read().strip()\n",
        "  sum_name ='/content/drive/MyDrive/Legal Data/Indian Legal Abs Ext/dataset/IN-Abs/test-data/summary/78.txt'\n",
        "  sum = open(sum_name,'r')\n",
        "  summaryContent = sum.read().strip()\n",
        "  return(FileContent,summaryContent)\n"
      ]
    },
    {
      "cell_type": "code",
      "execution_count": null,
      "metadata": {
        "id": "zN19ehmX8F7d"
      },
      "outputs": [],
      "source": [
        "from transformers import BertTokenizerFast\n",
        "from transformers import EncoderDecoderModel\n",
        "\n",
        "def model_load():\n",
        "    checkpoint = \"bert-base-uncased\" #model loaded from Huggingface\n",
        "    tokenizer = BertTokenizerFast.from_pretrained(\"bert-base-uncased\")\n",
        "    tokenizer.bos_token = tokenizer.cls_token\n",
        "    tokenizer.eos_token = tokenizer.sep_token\n",
        "    model = EncoderDecoderModel.from_encoder_decoder_pretrained(\"bert-base-uncased\", \"bert-base-uncased\")\n",
        "    model.config.vocab_size = model.config.decoder.vocab_size\n",
        "    model.config.max_length = 142\n",
        "    model.config.min_length = 56\n",
        "    model.config.no_repeat_ngram_size = 3\n",
        "    model.config.early_stopping = True\n",
        "    model.config.length_penalty = 2.0\n",
        "    model.config.num_beams = 4\n",
        "\n",
        "#Model Details\n",
        "    print(\"tokenizer.model_max_length :\",tokenizer.model_max_length )# max token inputted in model 1024\n",
        "    print(\" max tokens excluding the special tokens\",tokenizer.max_len_single_sentence )# max tokens for input in model 1022\n",
        "    print(\"num_special_tokens_to_add \",tokenizer.num_special_tokens_to_add() ) # special token needed by model 2\n",
        "    return(tokenizer,model)\n"
      ]
    },
    {
      "cell_type": "code",
      "execution_count": null,
      "metadata": {
        "id": "lYlv_TU-6uPQ"
      },
      "outputs": [],
      "source": [
        "import nltk\n",
        "#nltk.download('punkt')\n",
        "def chunking(FileContent,tokenizer):\n",
        "    # extract the sentences from the document\n",
        "    sentences = nltk.tokenize.sent_tokenize(FileContent) #split the data(paragraph) into individual sentences\n",
        "    print(len(sentences)) #print total no of sentences\n",
        "    # find the max tokens in the longest sentence\n",
        "    maxtokencount=max([len(tokenizer.tokenize(sentence)) for sentence in sentences])\n",
        "    print(\"maximum tokens in longest sentence:\",maxtokencount)\n",
        "\n",
        "    # initialize\n",
        "    length = 0\n",
        "    chunk = \"\"\n",
        "    chunks = []\n",
        "    count = -1\n",
        "    for sentence in sentences:\n",
        "        count += 1\n",
        "        combined_length = len(tokenizer.tokenize(sentence)) + length # add the no. of sentence tokens to the length counter\n",
        "        #print(combined_length)  #combined length of all the tokens in all sentences\n",
        "\n",
        "        if combined_length  <= tokenizer.max_len_single_sentence: # if it doesn't exceed than max_len(1022)\n",
        "            chunk += sentence + \" \" # add the sentence to the chunk with white space\n",
        "            length = combined_length # update the length counter\n",
        "\n",
        "            # if it is the last sentence\n",
        "            if count == len(sentences) - 1:\n",
        "                chunks.append(chunk.strip()) # save the chunk\n",
        "\n",
        "        else:   # if max token limit reaches then save the chunk\n",
        "            chunks.append(chunk.strip()) # save the chunk\n",
        "\n",
        "        # reset the parameter to add next tokens to next chunk\n",
        "            length = 0\n",
        "            chunk = \"\"\n",
        "\n",
        "        # take care of the overflow sentence\n",
        "            chunk += sentence + \" \"\n",
        "            length = len(tokenizer.tokenize(sentence))\n",
        "\n",
        "\n",
        "    print(\"Total no of chunks created\",len(chunks))\n",
        "    print(\"Total no of tokens generated by chunks\",sum([len(tokenizer(c).input_ids) for c in chunks]))\n",
        "    print(\"Total no of token in original text\",len(tokenizer(FileContent).input_ids))\n",
        "    print(\"No of tokens in each  chunk excluding the special token\",[len(tokenizer.tokenize(c)) for c in chunks])\n",
        "    return (chunks)"
      ]
    },
    {
      "cell_type": "code",
      "execution_count": null,
      "metadata": {
        "id": "UteqkIHO6uPR"
      },
      "outputs": [],
      "source": [
        "def sum_generate(chunks,tokenizer,model):\n",
        "    final_summ_gen=\"\"\n",
        "    inputs = [tokenizer(chunk, return_tensors=\"pt\") for chunk in chunks] #genrating inputs with chunks pt stands for pytorch\n",
        "    for input in inputs:\n",
        "        output = model.generate(**input)    #output generated for each chunk\n",
        "        summ_generated=tokenizer.decode(*output, skip_special_tokens=True)# decoding the output\n",
        "        final_summ_gen= final_summ_gen+summ_generated\n",
        "    return(final_summ_gen)"
      ]
    },
    {
      "cell_type": "code",
      "execution_count": null,
      "metadata": {
        "id": "EDHxcY4o6uPR"
      },
      "outputs": [],
      "source": [
        "def rouge_score(summaryContent,final_summ_gen):\n",
        "    rouge = Rouge()\n",
        "    result_rouge=rouge.get_scores(summaryContent, final_summ_gen, avg=True)\n",
        "# Printing the final list\n",
        "    print(result_rouge)"
      ]
    },
    {
      "cell_type": "code",
      "execution_count": null,
      "metadata": {
        "colab": {
          "base_uri": "https://localhost:8080/",
          "height": 592
        },
        "id": "nzEeGVWY6uPR",
        "outputId": "1f83cb20-7788-4f76-fad5-4043b04daac7"
      },
      "outputs": [
        {
          "output_type": "stream",
          "name": "stderr",
          "text": [
            "Token indices sequence length is longer than the specified maximum sequence length for this model (2665 > 512). Running this sequence through the model will result in indexing errors\n"
          ]
        },
        {
          "output_type": "stream",
          "name": "stdout",
          "text": [
            "tokenizer.model_max_length : 512\n",
            " max tokens excluding the special tokens 510\n",
            "num_special_tokens_to_add  2\n",
            "98\n",
            "maximum tokens in longest sentence: 147\n",
            "Total no of chunks created 6\n",
            "Total no of tokens generated by chunks 2675\n",
            "Total no of token in original text 2665\n",
            "No of tokens in each  chunk excluding the special token [489, 487, 494, 493, 488, 212]\n"
          ]
        },
        {
          "output_type": "error",
          "ename": "ValueError",
          "evalue": "ignored",
          "traceback": [
            "\u001b[0;31m---------------------------------------------------------------------------\u001b[0m",
            "\u001b[0;31mValueError\u001b[0m                                Traceback (most recent call last)",
            "\u001b[0;32m<ipython-input-12-62b8cf56df5e>\u001b[0m in \u001b[0;36m<module>\u001b[0;34m\u001b[0m\n\u001b[1;32m      4\u001b[0m   \u001b[0mtokenizer\u001b[0m\u001b[0;34m,\u001b[0m\u001b[0mmodel\u001b[0m\u001b[0;34m=\u001b[0m\u001b[0mmodel_load\u001b[0m\u001b[0;34m(\u001b[0m\u001b[0;34m)\u001b[0m\u001b[0;34m\u001b[0m\u001b[0;34m\u001b[0m\u001b[0m\n\u001b[1;32m      5\u001b[0m   \u001b[0mchunks\u001b[0m\u001b[0;34m=\u001b[0m\u001b[0mchunking\u001b[0m\u001b[0;34m(\u001b[0m\u001b[0mFileContent\u001b[0m\u001b[0;34m,\u001b[0m\u001b[0mtokenizer\u001b[0m\u001b[0;34m)\u001b[0m\u001b[0;34m\u001b[0m\u001b[0;34m\u001b[0m\u001b[0m\n\u001b[0;32m----> 6\u001b[0;31m   \u001b[0mfinal_summ_gen\u001b[0m\u001b[0;34m=\u001b[0m\u001b[0msum_generate\u001b[0m\u001b[0;34m(\u001b[0m\u001b[0mchunks\u001b[0m\u001b[0;34m,\u001b[0m\u001b[0mtokenizer\u001b[0m\u001b[0;34m,\u001b[0m\u001b[0mmodel\u001b[0m\u001b[0;34m)\u001b[0m\u001b[0;34m\u001b[0m\u001b[0;34m\u001b[0m\u001b[0m\n\u001b[0m\u001b[1;32m      7\u001b[0m   \u001b[0mresult_rouge\u001b[0m\u001b[0;34m=\u001b[0m\u001b[0mrouge_score\u001b[0m\u001b[0;34m(\u001b[0m\u001b[0msummaryContent\u001b[0m\u001b[0;34m,\u001b[0m\u001b[0mfinal_summ_gen\u001b[0m\u001b[0;34m)\u001b[0m\u001b[0;34m\u001b[0m\u001b[0;34m\u001b[0m\u001b[0m\n",
            "\u001b[0;32m<ipython-input-8-ae37fe9d7cc0>\u001b[0m in \u001b[0;36msum_generate\u001b[0;34m(chunks, tokenizer, model)\u001b[0m\n\u001b[1;32m      3\u001b[0m     \u001b[0minputs\u001b[0m \u001b[0;34m=\u001b[0m \u001b[0;34m[\u001b[0m\u001b[0mtokenizer\u001b[0m\u001b[0;34m(\u001b[0m\u001b[0mchunk\u001b[0m\u001b[0;34m,\u001b[0m \u001b[0mreturn_tensors\u001b[0m\u001b[0;34m=\u001b[0m\u001b[0;34m\"pt\"\u001b[0m\u001b[0;34m)\u001b[0m \u001b[0;32mfor\u001b[0m \u001b[0mchunk\u001b[0m \u001b[0;32min\u001b[0m \u001b[0mchunks\u001b[0m\u001b[0;34m]\u001b[0m \u001b[0;31m#genrating inputs with chunks pt stands for pytorch\u001b[0m\u001b[0;34m\u001b[0m\u001b[0;34m\u001b[0m\u001b[0m\n\u001b[1;32m      4\u001b[0m     \u001b[0;32mfor\u001b[0m \u001b[0minput\u001b[0m \u001b[0;32min\u001b[0m \u001b[0minputs\u001b[0m\u001b[0;34m:\u001b[0m\u001b[0;34m\u001b[0m\u001b[0;34m\u001b[0m\u001b[0m\n\u001b[0;32m----> 5\u001b[0;31m         \u001b[0moutput\u001b[0m \u001b[0;34m=\u001b[0m \u001b[0mmodel\u001b[0m\u001b[0;34m.\u001b[0m\u001b[0mgenerate\u001b[0m\u001b[0;34m(\u001b[0m\u001b[0;34m**\u001b[0m\u001b[0minput\u001b[0m\u001b[0;34m)\u001b[0m    \u001b[0;31m#output generated for each chunk\u001b[0m\u001b[0;34m\u001b[0m\u001b[0;34m\u001b[0m\u001b[0m\n\u001b[0m\u001b[1;32m      6\u001b[0m         \u001b[0msumm_generated\u001b[0m\u001b[0;34m=\u001b[0m\u001b[0mtokenizer\u001b[0m\u001b[0;34m.\u001b[0m\u001b[0mdecode\u001b[0m\u001b[0;34m(\u001b[0m\u001b[0;34m*\u001b[0m\u001b[0moutput\u001b[0m\u001b[0;34m,\u001b[0m \u001b[0mskip_special_tokens\u001b[0m\u001b[0;34m=\u001b[0m\u001b[0;32mTrue\u001b[0m\u001b[0;34m)\u001b[0m\u001b[0;31m# decoding the output\u001b[0m\u001b[0;34m\u001b[0m\u001b[0;34m\u001b[0m\u001b[0m\n\u001b[1;32m      7\u001b[0m         \u001b[0mfinal_summ_gen\u001b[0m\u001b[0;34m=\u001b[0m \u001b[0mfinal_summ_gen\u001b[0m\u001b[0;34m+\u001b[0m\u001b[0msumm_generated\u001b[0m\u001b[0;34m\u001b[0m\u001b[0;34m\u001b[0m\u001b[0m\n",
            "\u001b[0;32m/usr/local/lib/python3.8/dist-packages/torch/autograd/grad_mode.py\u001b[0m in \u001b[0;36mdecorate_context\u001b[0;34m(*args, **kwargs)\u001b[0m\n\u001b[1;32m     25\u001b[0m         \u001b[0;32mdef\u001b[0m \u001b[0mdecorate_context\u001b[0m\u001b[0;34m(\u001b[0m\u001b[0;34m*\u001b[0m\u001b[0margs\u001b[0m\u001b[0;34m,\u001b[0m \u001b[0;34m**\u001b[0m\u001b[0mkwargs\u001b[0m\u001b[0;34m)\u001b[0m\u001b[0;34m:\u001b[0m\u001b[0;34m\u001b[0m\u001b[0;34m\u001b[0m\u001b[0m\n\u001b[1;32m     26\u001b[0m             \u001b[0;32mwith\u001b[0m \u001b[0mself\u001b[0m\u001b[0;34m.\u001b[0m\u001b[0mclone\u001b[0m\u001b[0;34m(\u001b[0m\u001b[0;34m)\u001b[0m\u001b[0;34m:\u001b[0m\u001b[0;34m\u001b[0m\u001b[0;34m\u001b[0m\u001b[0m\n\u001b[0;32m---> 27\u001b[0;31m                 \u001b[0;32mreturn\u001b[0m \u001b[0mfunc\u001b[0m\u001b[0;34m(\u001b[0m\u001b[0;34m*\u001b[0m\u001b[0margs\u001b[0m\u001b[0;34m,\u001b[0m \u001b[0;34m**\u001b[0m\u001b[0mkwargs\u001b[0m\u001b[0;34m)\u001b[0m\u001b[0;34m\u001b[0m\u001b[0;34m\u001b[0m\u001b[0m\n\u001b[0m\u001b[1;32m     28\u001b[0m         \u001b[0;32mreturn\u001b[0m \u001b[0mcast\u001b[0m\u001b[0;34m(\u001b[0m\u001b[0mF\u001b[0m\u001b[0;34m,\u001b[0m \u001b[0mdecorate_context\u001b[0m\u001b[0;34m)\u001b[0m\u001b[0;34m\u001b[0m\u001b[0;34m\u001b[0m\u001b[0m\n\u001b[1;32m     29\u001b[0m \u001b[0;34m\u001b[0m\u001b[0m\n",
            "\u001b[0;32m/usr/local/lib/python3.8/dist-packages/transformers/generation_utils.py\u001b[0m in \u001b[0;36mgenerate\u001b[0;34m(self, inputs, max_length, min_length, do_sample, early_stopping, num_beams, temperature, top_k, top_p, typical_p, repetition_penalty, bad_words_ids, force_words_ids, bos_token_id, pad_token_id, eos_token_id, length_penalty, no_repeat_ngram_size, encoder_no_repeat_ngram_size, num_return_sequences, max_time, max_new_tokens, decoder_start_token_id, use_cache, num_beam_groups, diversity_penalty, prefix_allowed_tokens_fn, logits_processor, renormalize_logits, stopping_criteria, constraints, output_attentions, output_hidden_states, output_scores, return_dict_in_generate, forced_bos_token_id, forced_eos_token_id, remove_invalid_values, synced_gpus, exponential_decay_length_penalty, **model_kwargs)\u001b[0m\n\u001b[1;32m   1186\u001b[0m         \u001b[0;31m# 4. Prepare `input_ids` which will be used for auto-regressive generation\u001b[0m\u001b[0;34m\u001b[0m\u001b[0;34m\u001b[0m\u001b[0;34m\u001b[0m\u001b[0m\n\u001b[1;32m   1187\u001b[0m         \u001b[0;32mif\u001b[0m \u001b[0mself\u001b[0m\u001b[0;34m.\u001b[0m\u001b[0mconfig\u001b[0m\u001b[0;34m.\u001b[0m\u001b[0mis_encoder_decoder\u001b[0m\u001b[0;34m:\u001b[0m\u001b[0;34m\u001b[0m\u001b[0;34m\u001b[0m\u001b[0m\n\u001b[0;32m-> 1188\u001b[0;31m             input_ids = self._prepare_decoder_input_ids_for_generation(\n\u001b[0m\u001b[1;32m   1189\u001b[0m                 \u001b[0mbatch_size\u001b[0m\u001b[0;34m,\u001b[0m\u001b[0;34m\u001b[0m\u001b[0;34m\u001b[0m\u001b[0m\n\u001b[1;32m   1190\u001b[0m                 \u001b[0mdecoder_start_token_id\u001b[0m\u001b[0;34m=\u001b[0m\u001b[0mdecoder_start_token_id\u001b[0m\u001b[0;34m,\u001b[0m\u001b[0;34m\u001b[0m\u001b[0;34m\u001b[0m\u001b[0m\n",
            "\u001b[0;32m/usr/local/lib/python3.8/dist-packages/transformers/generation_utils.py\u001b[0m in \u001b[0;36m_prepare_decoder_input_ids_for_generation\u001b[0;34m(self, batch_size, decoder_start_token_id, bos_token_id, model_kwargs, device)\u001b[0m\n\u001b[1;32m    539\u001b[0m             \u001b[0;32mreturn\u001b[0m \u001b[0mmodel_kwargs\u001b[0m\u001b[0;34m.\u001b[0m\u001b[0mpop\u001b[0m\u001b[0;34m(\u001b[0m\u001b[0;34m\"decoder_input_ids\"\u001b[0m\u001b[0;34m)\u001b[0m\u001b[0;34m\u001b[0m\u001b[0;34m\u001b[0m\u001b[0m\n\u001b[1;32m    540\u001b[0m         \u001b[0;32melse\u001b[0m\u001b[0;34m:\u001b[0m\u001b[0;34m\u001b[0m\u001b[0;34m\u001b[0m\u001b[0m\n\u001b[0;32m--> 541\u001b[0;31m             \u001b[0mdecoder_start_token_id\u001b[0m \u001b[0;34m=\u001b[0m \u001b[0mself\u001b[0m\u001b[0;34m.\u001b[0m\u001b[0m_get_decoder_start_token_id\u001b[0m\u001b[0;34m(\u001b[0m\u001b[0mdecoder_start_token_id\u001b[0m\u001b[0;34m,\u001b[0m \u001b[0mbos_token_id\u001b[0m\u001b[0;34m)\u001b[0m\u001b[0;34m\u001b[0m\u001b[0;34m\u001b[0m\u001b[0m\n\u001b[0m\u001b[1;32m    542\u001b[0m             \u001b[0;32mif\u001b[0m \u001b[0mdevice\u001b[0m \u001b[0;32mis\u001b[0m \u001b[0;32mNone\u001b[0m\u001b[0;34m:\u001b[0m\u001b[0;34m\u001b[0m\u001b[0;34m\u001b[0m\u001b[0m\n\u001b[1;32m    543\u001b[0m                 \u001b[0mdevice\u001b[0m \u001b[0;34m=\u001b[0m \u001b[0mself\u001b[0m\u001b[0;34m.\u001b[0m\u001b[0mdevice\u001b[0m\u001b[0;34m\u001b[0m\u001b[0;34m\u001b[0m\u001b[0m\n",
            "\u001b[0;32m/usr/local/lib/python3.8/dist-packages/transformers/generation_utils.py\u001b[0m in \u001b[0;36m_get_decoder_start_token_id\u001b[0;34m(self, decoder_start_token_id, bos_token_id)\u001b[0m\n\u001b[1;32m    566\u001b[0m         ):\n\u001b[1;32m    567\u001b[0m             \u001b[0;32mreturn\u001b[0m \u001b[0mself\u001b[0m\u001b[0;34m.\u001b[0m\u001b[0mconfig\u001b[0m\u001b[0;34m.\u001b[0m\u001b[0mdecoder\u001b[0m\u001b[0;34m.\u001b[0m\u001b[0mbos_token_id\u001b[0m\u001b[0;34m\u001b[0m\u001b[0;34m\u001b[0m\u001b[0m\n\u001b[0;32m--> 568\u001b[0;31m         raise ValueError(\n\u001b[0m\u001b[1;32m    569\u001b[0m             \u001b[0;34m\"`decoder_start_token_id` or `bos_token_id` has to be defined for encoder-decoder generation.\"\u001b[0m\u001b[0;34m\u001b[0m\u001b[0;34m\u001b[0m\u001b[0m\n\u001b[1;32m    570\u001b[0m         )\n",
            "\u001b[0;31mValueError\u001b[0m: `decoder_start_token_id` or `bos_token_id` has to be defined for encoder-decoder generation."
          ]
        }
      ],
      "source": [
        "# inputs to the model\n",
        "if __name__ == \"__main__\":\n",
        "  FileContent,summaryContent=read_input()\n",
        "  tokenizer,model=model_load()\n",
        "  chunks=chunking(FileContent,tokenizer)\n",
        "  final_summ_gen=sum_generate(chunks,tokenizer,model)\n",
        "  result_rouge=rouge_score(summaryContent,final_summ_gen)"
      ]
    },
    {
      "cell_type": "code",
      "execution_count": null,
      "metadata": {
        "colab": {
          "base_uri": "https://localhost:8080/"
        },
        "id": "jl5zoy-V6uPS",
        "outputId": "4c95df09-8217-4556-e316-bda8538cdae9"
      },
      "outputs": [
        {
          "name": "stdout",
          "output_type": "stream",
          "text": [
            " Appeal from an Order of the High Court of Bombay (Bavdekar and Chainani JJ.) dated 20th February, 1950, in Criminal Appeal No. 106 of 1950. W.H. King was tenant of a flat on the second floor of a building called \"Ganga Vihar\", Marine Drive, Bombay, which belongs to a lady named Durgeshwari Devi. The wife of the appellant denied any aiding and abetting. The wife was acquitted, the evidence being insufficient to prove any abetment. The appellant preferred an appeal to the High Court of Bombay but it was summarily dismissed. He asked for a certificate under article 134(1)(c) of the Constitution but this was rejected on 10 4 1950. He applied for special leave to appeal to this Court and it was granted on 3 10 1950. The word \"relinquishment\" does not occur in the Transfer of Property Act but it is found in many of the Tenancy Acts in various provinces where there are Sec tions which deal with the relinquishment of their holdings by tenants in favour of the landlord by notice given to him in writing. The conviction under sub clause (2) cannot be sustained, the conviction is set aside and the fine of Rs. 30,000 will be refunded if it has been paid.\n"
          ]
        }
      ],
      "source": [
        "print(final_summ_gen)"
      ]
    },
    {
      "cell_type": "code",
      "execution_count": null,
      "metadata": {
        "colab": {
          "base_uri": "https://localhost:8080/"
        },
        "id": "HjTZ5Bi06uPS",
        "outputId": "32c25221-1f30-4fce-82a9-f6ff8c8961a7"
      },
      "outputs": [
        {
          "name": "stdout",
          "output_type": "stream",
          "text": [
            "Given Summary: Sub section (1) of sec.\n",
            "19 of the Bombay Rents, Hotel and Lodging House Rates Control Act, LVI I of 1947, provided that \"it shall not be lawful for the tenant or any person acting or purporting to act on behalf of the tenant to claim or receive any sum or any consideration as a condition for the relinquishment of his tenancy of any premises\"; and sub sec.\n",
            "(2) provided that any tenant or person who in contravention of the provisions of sub sec.\n",
            "(1) receives any sum or consideration shall on conviction be punished with imprisonment and also with fine.\n",
            "A. who was a tenant of a flat, handed over vacant posses sion the flat to B on receiving \"pugree\", under a document which recited that A shall have no claim whatever over the flat and that B shall pay the rent directly to the landlord.\n",
            "A was convicted of an offence under sec.\n",
            "19 (2).\n",
            "Held, that there was no \"relinquishment\" of his tenancy by A, within the meaning of sec.\n",
            "19 (1) and the conviction could not be sustained.\n",
            "There is a clear distinction between an assignment of a tenancy on the one hand and a relinquishment or surrender on the other.\n",
            "In the case of an assignment, the assignor con tinues to be liable to the landlord for the performance of his obligations under the tenancy and this liability is contractual, while the assignee becomes liable by reason of privity of estate.\n",
            "The consent of the landlord to an as signment is not necessary, in the absence of a contract or local usage to the contrary.\n",
            "But in the case of relinquish ment it cannot be a unilateral transaction; it can only be in favour of the lessor by mutual agreement between them.\n",
            "Relinquishment of possession must be to the lessor or one who holds his interest; and surrender or relinquishment terminates the lessee 's rights and lets in the lessor.\n",
            "As sec.\n",
            "19 of Bombay Act LVII of 1947 creates an offence and imposes a penalty of fine and imprisonment, the words of the section must be strictly construed in favour of the subject.\n",
            "The Court is not concerned so much with what might possibly have been intended as with what has been actually said in and by the language employed in the statute.\n",
            "Judgment of the Bombay High Court reversed.\n"
          ]
        }
      ],
      "source": [
        "print(\"Given Summary:\",summaryContent)"
      ]
    },
    {
      "cell_type": "markdown",
      "metadata": {
        "id": "qJIk7vLi6uPS"
      },
      "source": [
        "tokenizer.model_max_length : 1024\n",
        "\n",
        "max tokens excluding the special tokens 1022\n",
        "\n",
        "num_special_tokens_to_add  2  98\n",
        "\n",
        "maximum tokens in longest sentence: 137\n",
        "\n",
        "Total no of chunks created 3\n",
        "\n",
        "Total no of tokens generated by chunks 2572\n",
        "\n",
        "Total no of token in original text 2634\n",
        "\n",
        "No of tokens in each  chunk excluding the special token [999, 1019, 548]\n",
        "\n",
        "\n",
        "\n",
        "{'rouge-1': {'r': 0.291044776119403, 'p': 0.20855614973262032, 'f': 0.24299064934191253},\n",
        "\n",
        "'rouge-2': {'r': 0.08673469387755102, 'p': 0.049132947976878616, 'f': 0.06273062268923388},\n",
        "\n",
        "'rouge-l': {'r': 0.26119402985074625, 'p': 0.18716577540106952, 'f': 0.21806853096185025}}"
      ]
    },
    {
      "cell_type": "markdown",
      "metadata": {
        "id": "ntyr2-CvAAUX"
      },
      "source": [
        "# T5 Small - Chunking (Single Document)\n",
        "T5 Small"
      ]
    },
    {
      "cell_type": "code",
      "execution_count": null,
      "metadata": {
        "id": "S0bQVWRTAAUt"
      },
      "outputs": [],
      "source": [
        "def read_input():\n",
        "  doc_name = '/content/drive/MyDrive/Legal Data/Indian Legal Abs Ext/dataset/IN-Abs/test-data/judgement/232.txt'\n",
        "  doc = open(doc_name,'r')\n",
        "  FileContent = doc.read().strip()\n",
        "  sum_name ='/content/drive/MyDrive/Legal Data/Indian Legal Abs Ext/dataset/IN-Abs/test-data/summary/232.txt'\n",
        "  sum = open(sum_name,'r')\n",
        "  summaryContent = sum.read().strip()\n",
        "  return(FileContent,summaryContent)\n"
      ]
    },
    {
      "cell_type": "code",
      "execution_count": null,
      "metadata": {
        "id": "JZQMJaOyAAUu"
      },
      "outputs": [],
      "source": [
        "def model_load():\n",
        "    checkpoint = \"t5-small\" #model loaded from Huggingface\n",
        "    tokenizer = AutoTokenizer.from_pretrained(checkpoint)\n",
        "    model = AutoModelForSeq2SeqLM.from_pretrained(checkpoint)\n",
        "#Model Details\n",
        "    print(\"tokenizer.model_max_length :\",tokenizer.model_max_length )# max token inputted in model 1024\n",
        "    print(\" max tokens excluding the special tokens\",tokenizer.max_len_single_sentence )# max tokens for input in model 1022\n",
        "    print(\"num_special_tokens_to_add \",tokenizer.num_special_tokens_to_add() ) # special token needed by model 2\n",
        "    return(tokenizer,model)\n"
      ]
    },
    {
      "cell_type": "code",
      "execution_count": null,
      "metadata": {
        "id": "60qxtacnAAUv"
      },
      "outputs": [],
      "source": [
        "def chunking(FileContent,tokenizer):\n",
        "    # extract the sentences from the document\n",
        "    sentences = nltk.tokenize.sent_tokenize(FileContent) #split the data(paragraph) into individual sentences\n",
        "    print(len(sentences)) #print total no of sentences\n",
        "    # find the max tokens in the longest sentence\n",
        "    maxtokencount=max([len(tokenizer.tokenize(sentence)) for sentence in sentences])\n",
        "    print(\"maximum tokens in longest sentence:\",maxtokencount)\n",
        "\n",
        "    # initialize\n",
        "    length = 0\n",
        "    chunk = \"\"\n",
        "    chunks = []\n",
        "    count = -1\n",
        "    for sentence in sentences:\n",
        "        count += 1\n",
        "        combined_length = len(tokenizer.tokenize(sentence)) + length # add the no. of sentence tokens to the length counter\n",
        "        #print(combined_length)  #combined length of all the tokens in all sentences\n",
        "\n",
        "        if combined_length  <= tokenizer.max_len_single_sentence: # if it doesn't exceed than max_len(1022)\n",
        "            chunk += sentence + \" \" # add the sentence to the chunk with white space\n",
        "            length = combined_length # update the length counter\n",
        "\n",
        "            # if it is the last sentence\n",
        "            if count == len(sentences) - 1:\n",
        "                chunks.append(chunk.strip()) # save the chunk\n",
        "\n",
        "        else:   # if max token limit reaches then save the chunk\n",
        "            chunks.append(chunk.strip()) # save the chunk\n",
        "\n",
        "        # reset the parameter to add next tokens to next chunk\n",
        "            length = 0\n",
        "            chunk = \"\"\n",
        "\n",
        "        # take care of the overflow sentence\n",
        "            chunk += sentence + \" \"\n",
        "            length = len(tokenizer.tokenize(sentence))\n",
        "\n",
        "\n",
        "    print(\"Total no of chunks created\",len(chunks))\n",
        "    print(\"Total no of tokens generated by chunks\",sum([len(tokenizer(c).input_ids) for c in chunks]))\n",
        "    print(\"Total no of token in original text\",len(tokenizer(FileContent).input_ids))\n",
        "    print(\"No of tokens in each  chunk excluding the special token\",[len(tokenizer.tokenize(c)) for c in chunks])\n",
        "    return (chunks)"
      ]
    },
    {
      "cell_type": "code",
      "execution_count": null,
      "metadata": {
        "id": "HdfrbgJJAAUw"
      },
      "outputs": [],
      "source": [
        "def sum_generate(chunks,tokenizer,model):\n",
        "    final_summ_gen=\"\"\n",
        "    inputs = [tokenizer(chunk, return_tensors=\"pt\") for chunk in chunks] #genrating inputs with chunks pt stands for pytorch\n",
        "    for input in inputs:\n",
        "        output = model.generate(**input)    #output generated for each chunk\n",
        "        summ_generated=tokenizer.decode(*output, skip_special_tokens=True)# decoding the output\n",
        "        final_summ_gen= final_summ_gen+summ_generated\n",
        "    return(final_summ_gen)"
      ]
    },
    {
      "cell_type": "code",
      "execution_count": null,
      "metadata": {
        "id": "w69B6UEPAAUx"
      },
      "outputs": [],
      "source": [
        "def rouge_score(summaryContent,final_summ_gen):\n",
        "    rouge = Rouge()\n",
        "    result_rouge=rouge.get_scores(summaryContent, final_summ_gen, avg=True)\n",
        "# Printing the final list\n",
        "    print(result_rouge)"
      ]
    },
    {
      "cell_type": "code",
      "execution_count": null,
      "metadata": {
        "colab": {
          "base_uri": "https://localhost:8080/",
          "height": 492,
          "referenced_widgets": [
            "2c6b40a90e7a4711adf599b46d773635",
            "d62b57bfec074e9a8a072599a327293e",
            "709a450908c84c0081a6f6ba6e136666",
            "2e82a44966564a10be502396b354d2e2",
            "15651b1a2c5c4b41ad458b58e3f4e6ee",
            "f55476c81e17435d9ff1c2267d07c14c",
            "800d1a1d62f044a3b14fbb935758af6b",
            "6c83647866a2429da0bfc1e7c480b2fc",
            "6e3f1a7ad7ef46b38d0742b27dc61fab",
            "48ed33128c274878a958d3ccfb66accd",
            "3c7448998c794a448295b0bafbac05e7",
            "cfb5ca21d3a34d7fa6da28ba8411ef2a",
            "98858911ab784c028d7d261116d384a9",
            "ac2d20f9694a4079a1d2ee0edfbad543",
            "e444f793a5ea47559bfa053a84e1eaec",
            "a4a074620d6e443abe9bc9b38a303a5c",
            "27460488413f45328aa496efd949c0ba",
            "a8e0803eac484d998a15a5a5a2a36197",
            "2316f12a61074bd68253d66798ad5893",
            "7b18347ae13f451fa75fc6c3018b6ac2",
            "27ed98c3550048a9803439920134bd63",
            "ac56aaa8dbdb400193f6f3dfb833572f",
            "2ab0bd75b12143558f8da9a5ff4f8478",
            "03f0bb47bc874f15b2c1e4b708e7e03f",
            "7faab6520b2945c9b4a1077783fd3096",
            "c3844dfa31f446d0b2e51e0eee454612",
            "10fdf589e2d94f98bcb338ff4d059a85",
            "f8d78cc483ab4849aacd5db010d44d43",
            "da6a976fdeb64d578f9cc870c3117b8d",
            "9f909b30ad9b4fa498737619f767e7ee",
            "cec011865f0042cfaf898222d29fb359",
            "d69504e6293c4512b942593c2c495111",
            "5e40905d5a594ca3b042cd63150f1a18",
            "ceab81b29ac54155b94ae0f8dec96e73",
            "cbc2202c5bb6415da0a86e3a275983ef",
            "182a0427955b4ac686018722bd5609e6",
            "b425e1c736ad416b949bbbde5ba61c25",
            "ba7407f3dafd4d30b32b6ff29b8de188",
            "8b8d6511530846cfb289df4374affa06",
            "2941bba83cd24424ab920986f752ace4",
            "891ea26c59e84bd49734ed8aa4b324d0",
            "ddca2744693b48b382bbfa8b3d022713",
            "7488502eb2d743e4ab7c11e9b4e38814",
            "5a15a5ff968e43d5a98eb758b11f2fb1",
            "544d3bcf1ca743d3ab2a4dd4d7b07e6c",
            "39849b525bbd42f783bf4f477a927b79",
            "f8cd81e8f43b4f36bc252e3041bef7f8",
            "6588bd84bdd2458d945137a16007f5e8",
            "63b19e775a044348a1d8d6269d9b9119",
            "f2c2a2d1898444f98110f81990a3d8ed",
            "25329a3d204643eabac4589bcb8243c9",
            "0259dce322bc4e879aab1a361d810348",
            "46f7f69ff2d64d1a87fcca0ac2926454",
            "4209339e5eb8438f9652460deae21c6b",
            "8b3efd4090154047827ca7ad703bf499"
          ]
        },
        "id": "NAapb8nlE3B6",
        "outputId": "4e37b3b7-4972-4992-faaa-3b5d7a81ff67"
      },
      "outputs": [
        {
          "data": {
            "application/vnd.jupyter.widget-view+json": {
              "model_id": "2c6b40a90e7a4711adf599b46d773635",
              "version_major": 2,
              "version_minor": 0
            },
            "text/plain": [
              "Downloading (…)lve/main/config.json:   0%|          | 0.00/1.21k [00:00<?, ?B/s]"
            ]
          },
          "metadata": {},
          "output_type": "display_data"
        },
        {
          "data": {
            "application/vnd.jupyter.widget-view+json": {
              "model_id": "cfb5ca21d3a34d7fa6da28ba8411ef2a",
              "version_major": 2,
              "version_minor": 0
            },
            "text/plain": [
              "Downloading (…)ve/main/spiece.model:   0%|          | 0.00/792k [00:00<?, ?B/s]"
            ]
          },
          "metadata": {},
          "output_type": "display_data"
        },
        {
          "data": {
            "application/vnd.jupyter.widget-view+json": {
              "model_id": "2ab0bd75b12143558f8da9a5ff4f8478",
              "version_major": 2,
              "version_minor": 0
            },
            "text/plain": [
              "Downloading (…)/main/tokenizer.json:   0%|          | 0.00/1.39M [00:00<?, ?B/s]"
            ]
          },
          "metadata": {},
          "output_type": "display_data"
        },
        {
          "name": "stderr",
          "output_type": "stream",
          "text": [
            "/usr/local/lib/python3.8/dist-packages/transformers/models/t5/tokenization_t5_fast.py:155: FutureWarning: This tokenizer was incorrectly instantiated with a model max length of 512 which will be corrected in Transformers v5.\n",
            "For now, this behavior is kept to avoid breaking backwards compatibility when padding/encoding with `truncation is True`.\n",
            "- Be aware that you SHOULD NOT rely on t5-large automatically truncating your input to 512 when padding/encoding.\n",
            "- If you want to encode/pad to sequences longer than 512 you can either instantiate this tokenizer with `model_max_length` or pass `max_length` when encoding/padding.\n",
            "- To avoid this warning, please instantiate this tokenizer with `model_max_length` set to your preferred value.\n",
            "  warnings.warn(\n"
          ]
        },
        {
          "data": {
            "application/vnd.jupyter.widget-view+json": {
              "model_id": "ceab81b29ac54155b94ae0f8dec96e73",
              "version_major": 2,
              "version_minor": 0
            },
            "text/plain": [
              "Downloading (…)\"pytorch_model.bin\";:   0%|          | 0.00/2.95G [00:00<?, ?B/s]"
            ]
          },
          "metadata": {},
          "output_type": "display_data"
        },
        {
          "data": {
            "application/vnd.jupyter.widget-view+json": {
              "model_id": "544d3bcf1ca743d3ab2a4dd4d7b07e6c",
              "version_major": 2,
              "version_minor": 0
            },
            "text/plain": [
              "Downloading (…)neration_config.json:   0%|          | 0.00/147 [00:00<?, ?B/s]"
            ]
          },
          "metadata": {},
          "output_type": "display_data"
        },
        {
          "name": "stdout",
          "output_type": "stream",
          "text": [
            "tokenizer.model_max_length : 512\n",
            " max tokens excluding the special tokens 511\n",
            "num_special_tokens_to_add  1\n",
            "860\n",
            "maximum tokens in longest sentence: 198\n",
            "Total no of chunks created 78\n"
          ]
        },
        {
          "name": "stderr",
          "output_type": "stream",
          "text": [
            "Token indices sequence length is longer than the specified maximum sequence length for this model (37431 > 512). Running this sequence through the model will result in indexing errors\n"
          ]
        },
        {
          "name": "stdout",
          "output_type": "stream",
          "text": [
            "Total no of tokens generated by chunks 37508\n",
            "Total no of token in original text 37431\n",
            "No of tokens in each  chunk excluding the special token [470, 502, 505, 511, 500, 500, 471, 494, 503, 472, 465, 483, 507, 511, 491, 492, 502, 475, 474, 410, 473, 473, 456, 478, 487, 456, 475, 447, 497, 472, 488, 502, 506, 509, 476, 492, 504, 435, 509, 484, 501, 463, 499, 506, 486, 511, 505, 492, 492, 505, 502, 421, 479, 488, 494, 468, 480, 498, 494, 480, 452, 490, 494, 499, 445, 482, 423, 506, 498, 449, 496, 371, 499, 502, 509, 503, 445, 246]\n",
            "{'rouge-1': {'r': 0.42317380352644834, 'p': 0.27495908346972175, 'f': 0.3333333285586932}, 'rouge-2': {'r': 0.16604708798017348, 'p': 0.09824046920821114, 'f': 0.1234454121877156}, 'rouge-l': {'r': 0.380352644836272, 'p': 0.24713584288052373, 'f': 0.29960316982853447}}\n"
          ]
        }
      ],
      "source": [
        "# inputs to the model\n",
        "if __name__ == \"__main__\":\n",
        "  FileContent,summaryContent=read_input()\n",
        "  tokenizer,model=model_load()\n",
        "  chunks=chunking(FileContent,tokenizer)\n",
        "  final_summ_gen=sum_generate(chunks,tokenizer,model)\n",
        "  result_rouge=rouge_score(summaryContent,final_summ_gen)"
      ]
    },
    {
      "cell_type": "code",
      "execution_count": null,
      "metadata": {
        "colab": {
          "base_uri": "https://localhost:8080/"
        },
        "id": "z_C7u1l3AAUy",
        "outputId": "688fc4d3-113f-4782-a73e-3788f334eafc"
      },
      "outputs": [
        {
          "name": "stdout",
          "output_type": "stream",
          "text": [
            "of the Court of Appeal, arising out of an order dated 20th February,,,, and the keys of the flat and the motor garage were handed overthe appellant was in search of a partner to carry on his business. thea tion for the relinquishment of his tenancy of anyis not a lawful transaction; it cannot be a unilateral transaction. of a tenancy is equivalent to surrender by the lessee or tenant of his\n"
          ]
        }
      ],
      "source": [
        "print(final_summ_gen)"
      ]
    },
    {
      "cell_type": "code",
      "execution_count": null,
      "metadata": {
        "colab": {
          "base_uri": "https://localhost:8080/"
        },
        "id": "MtyGKsp7AAUy",
        "outputId": "e5703856-1062-42e8-cbef-909e16dec7dd"
      },
      "outputs": [
        {
          "name": "stdout",
          "output_type": "stream",
          "text": [
            "Given Summary: Sub section (1) of sec.\n",
            "19 of the Bombay Rents, Hotel and Lodging House Rates Control Act, LVI I of 1947, provided that \"it shall not be lawful for the tenant or any person acting or purporting to act on behalf of the tenant to claim or receive any sum or any consideration as a condition for the relinquishment of his tenancy of any premises\"; and sub sec.\n",
            "(2) provided that any tenant or person who in contravention of the provisions of sub sec.\n",
            "(1) receives any sum or consideration shall on conviction be punished with imprisonment and also with fine.\n",
            "A. who was a tenant of a flat, handed over vacant posses sion the flat to B on receiving \"pugree\", under a document which recited that A shall have no claim whatever over the flat and that B shall pay the rent directly to the landlord.\n",
            "A was convicted of an offence under sec.\n",
            "19 (2).\n",
            "Held, that there was no \"relinquishment\" of his tenancy by A, within the meaning of sec.\n",
            "19 (1) and the conviction could not be sustained.\n",
            "There is a clear distinction between an assignment of a tenancy on the one hand and a relinquishment or surrender on the other.\n",
            "In the case of an assignment, the assignor con tinues to be liable to the landlord for the performance of his obligations under the tenancy and this liability is contractual, while the assignee becomes liable by reason of privity of estate.\n",
            "The consent of the landlord to an as signment is not necessary, in the absence of a contract or local usage to the contrary.\n",
            "But in the case of relinquish ment it cannot be a unilateral transaction; it can only be in favour of the lessor by mutual agreement between them.\n",
            "Relinquishment of possession must be to the lessor or one who holds his interest; and surrender or relinquishment terminates the lessee 's rights and lets in the lessor.\n",
            "As sec.\n",
            "19 of Bombay Act LVII of 1947 creates an offence and imposes a penalty of fine and imprisonment, the words of the section must be strictly construed in favour of the subject.\n",
            "The Court is not concerned so much with what might possibly have been intended as with what has been actually said in and by the language employed in the statute.\n",
            "Judgment of the Bombay High Court reversed.\n"
          ]
        }
      ],
      "source": [
        "print(\"Given Summary:\",summaryContent)"
      ]
    },
    {
      "cell_type": "markdown",
      "metadata": {
        "id": "NmDhUW85AxY1"
      },
      "source": [
        "/usr/local/lib/python3.8/dist-packages/transformers/models/t5/tokenization_t5_fast.py:155: FutureWarning: This tokenizer was incorrectly instantiated with a model max length of 512 which will be corrected in Transformers v5.\n",
        "\n",
        "For now, this behavior is kept to avoid breaking backwards compatibility when padding/encoding with `truncation is True`.\n",
        "\n",
        "- Be aware that you SHOULD NOT rely on t5-small automatically truncating your input to 512 when padding/encoding.\n",
        "\n",
        "- If you want to encode/pad to sequences longer than 512 you can either instantiate this tokenizer with `model_max_length` or pass `max_length` when encoding/padding.\n",
        "\n",
        "- To avoid this warning, please instantiate this tokenizer with `model_max_length` set to your preferred value.\n",
        "  warnings.warn("
      ]
    },
    {
      "cell_type": "markdown",
      "metadata": {
        "id": "sDglWLPEA0QR"
      },
      "source": [
        "Token indices sequence length is longer than the specified maximum sequence length for this model (2859 > 512). Running this sequence through the model will result in indexing errors\n",
        "\n",
        "tokenizer.model_max_length : 512\n",
        "\n",
        "max tokens excluding the special tokens 511\n",
        "\n",
        "num_special_tokens_to_add  1  98\n",
        "\n",
        "maximum tokens in longest sentence: 147\n",
        "\n",
        "Total no of chunks created 6\n",
        "\n",
        "Total no of tokens generated by chunks 2864\n",
        "\n",
        "Total no of token in original text 2859\n",
        "\n",
        "No of tokens in each  chunk excluding the special token [502, 498, 398, 496, 489, 475]\n",
        "\n",
        "/usr/local/lib/python3.8/dist-packages/transformers/generation/utils.py:1273: UserWarning: Neither `max_length` nor `max_new_tokens` has been set, `max_length` will default to 20 (`generation_config.max_length`). Controlling `max_length` via the config is deprecated and `max_length` will be removed from the config in v5 of Transformers -- we recommend using `max_new_tokens` to control the maximum length of the generation.\n",
        "\n",
        "{'rouge-1': {'r': 0.5686274509803921, 'p': 0.15508021390374332, 'f': 0.24369747562424976},\n",
        "\n",
        "'rouge-2': {'r': 0.31343283582089554, 'p': 0.06069364161849711, 'f': 0.10169491253604121},\n",
        "\n",
        "'rouge-l': {'r': 0.47058823529411764, 'p': 0.12834224598930483, 'f': 0.2016806689015607}}"
      ]
    },
    {
      "cell_type": "markdown",
      "metadata": {
        "id": "IAQaa3UL1gKb"
      },
      "source": [
        "# T5 Small - Chunking (Multiple Documents)"
      ]
    },
    {
      "cell_type": "code",
      "execution_count": null,
      "metadata": {
        "id": "QS9Hbm8s1gKc"
      },
      "outputs": [],
      "source": [
        "def read_input(i):\n",
        "  doc_name = f'/content/drive/MyDrive/Legal Data/Indian Legal Abs Ext/dataset/IN-Abs/test-data/judgement/{i}.txt'\n",
        "  doc = open(doc_name,'r')\n",
        "  FileContent = doc.read().strip()\n",
        "  sum_name =f'/content/drive/MyDrive/Legal Data/Indian Legal Abs Ext/dataset/IN-Abs/test-data/summary/{i}.txt'\n",
        "  sum = open(sum_name,'r')\n",
        "  summaryContent = sum.read().strip()\n",
        "  return(FileContent,summaryContent)\n"
      ]
    },
    {
      "cell_type": "code",
      "execution_count": null,
      "metadata": {
        "id": "dtc7eGsi1gKc"
      },
      "outputs": [],
      "source": [
        "def model_load():\n",
        "    checkpoint = \"t5-small\" #model loaded from Huggingface\n",
        "    tokenizer = AutoTokenizer.from_pretrained(checkpoint)\n",
        "    model = AutoModelForSeq2SeqLM.from_pretrained(checkpoint)\n",
        "#Model Details\n",
        "    #print(\"tokenizer.model_max_length :\",tokenizer.model_max_length )# max token inputted in model 1024\n",
        "    #print(\" max tokens excluding the special tokens\",tokenizer.max_len_single_sentence )# max tokens for input in model 1022\n",
        "    #print(\"num_special_tokens_to_add \",tokenizer.num_special_tokens_to_add() ) # special token needed by model 2\n",
        "    return(tokenizer,model)\n"
      ]
    },
    {
      "cell_type": "code",
      "execution_count": null,
      "metadata": {
        "id": "bOKGtq0x1gKd"
      },
      "outputs": [],
      "source": [
        "def chunking(FileContent,tokenizer):\n",
        "    # extract the sentences from the document\n",
        "    sentences = nltk.tokenize.sent_tokenize(FileContent) #split the data(paragraph) into individual sentences\n",
        "    #print(len(sentences)) #print total no of sentences\n",
        "    # find the max tokens in the longest sentence\n",
        "    maxtokencount=max([len(tokenizer.tokenize(sentence)) for sentence in sentences])\n",
        "    #print(\"maximum tokens in longest sentence:\",maxtokencount)\n",
        "\n",
        "    # initialize\n",
        "    length = 0\n",
        "    chunk = \"\"\n",
        "    chunks = []\n",
        "    count = -1\n",
        "    for sentence in sentences:\n",
        "        count += 1\n",
        "        combined_length = len(tokenizer.tokenize(sentence)) + length # add the no. of sentence tokens to the length counter\n",
        "        #print(combined_length)  #combined length of all the tokens in all sentences\n",
        "\n",
        "        if combined_length  <= tokenizer.max_len_single_sentence: # if it doesn't exceed than max_len(1022)\n",
        "            chunk += sentence + \" \" # add the sentence to the chunk with white space\n",
        "            length = combined_length # update the length counter\n",
        "\n",
        "            # if it is the last sentence\n",
        "            if count == len(sentences) - 1:\n",
        "                chunks.append(chunk.strip()) # save the chunk\n",
        "\n",
        "        else:   # if max token limit reaches then save the chunk\n",
        "            chunks.append(chunk.strip()) # save the chunk\n",
        "\n",
        "        # reset the parameter to add next tokens to next chunk\n",
        "            length = 0\n",
        "            chunk = \"\"\n",
        "\n",
        "        # take care of the overflow sentence\n",
        "            chunk += sentence + \" \"\n",
        "            length = len(tokenizer.tokenize(sentence))\n",
        "\n",
        "\n",
        "    #print(\"Total no of chunks created\",len(chunks))\n",
        "    #print(\"Total no of tokens generated by chunks\",sum([len(tokenizer(c).input_ids) for c in chunks]))\n",
        "    #print(\"Total no of token in original text\",len(tokenizer(FileContent).input_ids))\n",
        "    #print(\"No of tokens in each  chunk excluding the special token\",[len(tokenizer.tokenize(c)) for c in chunks])\n",
        "    return (chunks)"
      ]
    },
    {
      "cell_type": "code",
      "execution_count": null,
      "metadata": {
        "id": "YCtSpBF71gKe"
      },
      "outputs": [],
      "source": [
        "def sum_generate(chunks,tokenizer,model):\n",
        "    final_summ_gen=\"\"\n",
        "    inputs = [tokenizer(chunk, return_tensors=\"pt\") for chunk in chunks] #genrating inputs with chunks pt stands for pytorch\n",
        "    for input in inputs:\n",
        "        output = model.generate(**input)    #output generated for each chunk\n",
        "        summ_generated=tokenizer.decode(*output, skip_special_tokens=True)# decoding the output\n",
        "        final_summ_gen= final_summ_gen+summ_generated\n",
        "    #print(final_summ_gen)\n",
        "    return(final_summ_gen)"
      ]
    },
    {
      "cell_type": "code",
      "execution_count": null,
      "metadata": {
        "id": "B1fyGWTb1gKe"
      },
      "outputs": [],
      "source": [
        "def rouge_score(summaryContent,final_summ_gen):\n",
        "    rouge = Rouge()\n",
        "    result_rouge=rouge.get_scores(summaryContent, final_summ_gen, avg=True)\n",
        "# Printing the final list\n",
        "    return result_rouge"
      ]
    },
    {
      "cell_type": "code",
      "execution_count": null,
      "metadata": {
        "id": "h5iojC481gKe"
      },
      "outputs": [],
      "source": [
        "# inputs to the model\n",
        "if __name__ == \"__main__\":\n",
        "  result_rouge_list = []\n",
        "  for i in dir_list:\n",
        "    FileContent,summaryContent=read_input(i)\n",
        "    tokenizer,model=model_load()\n",
        "    chunks=chunking(FileContent,tokenizer)\n",
        "    final_summ_gen=sum_generate(chunks,tokenizer,model)\n",
        "    result_rouge_list.append(rouge_score(summaryContent,final_summ_gen))"
      ]
    },
    {
      "cell_type": "code",
      "execution_count": null,
      "metadata": {
        "colab": {
          "base_uri": "https://localhost:8080/"
        },
        "id": "uR9AnrvwEU3o",
        "outputId": "7b63e1c5-fa06-4346-f811-2ef154d3add2"
      },
      "outputs": [
        {
          "data": {
            "text/plain": [
              "100"
            ]
          },
          "execution_count": 39,
          "metadata": {},
          "output_type": "execute_result"
        }
      ],
      "source": [
        "len(result_rouge_list)"
      ]
    },
    {
      "cell_type": "code",
      "execution_count": null,
      "metadata": {
        "colab": {
          "base_uri": "https://localhost:8080/"
        },
        "id": "wzooBI5y1gKf",
        "outputId": "a1df7862-fede-4061-806c-f16b5bbc5fe3"
      },
      "outputs": [
        {
          "name": "stdout",
          "output_type": "stream",
          "text": [
            "{'rouge-1': {'r': 0.5340070793670784, 'p': 0.15040051883404526, 'f': 0.2259315977833998}, 'rouge-2': {'r': 0.2703121170814129, 'p': 0.052595345376596325, 'f': 0.08455800139639953}, 'rouge-l': {'r': 0.4836286813566721, 'p': 0.13425102682810058, 'f': 0.20248698625877598}}\n"
          ]
        }
      ],
      "source": [
        "agg_rouge_score = {'rouge-1':{'r':0,'p':0,'f':0},'rouge-2':{'r':0,'p':0,'f':0},\n",
        "                   'rouge-l':{'r':0,'p':0,'f':0}}\n",
        "\n",
        "for i in range(len(result_rouge_list)):\n",
        "  for rouge_type in ['rouge-1','rouge-2','rouge-l']:\n",
        "    for j in ['r','p','f']:\n",
        "      agg_rouge_score[rouge_type][j]+=(result_rouge_list[i][rouge_type][j]/len(result_rouge_list))\n",
        "\n",
        "print(agg_rouge_score)"
      ]
    },
    {
      "cell_type": "markdown",
      "source": [
        "# CLS"
      ],
      "metadata": {
        "id": "Cta9hikKSSCi"
      }
    },
    {
      "cell_type": "markdown",
      "source": [
        "## Testing on Multiple Docs"
      ],
      "metadata": {
        "id": "keeZ6raYEaXX"
      }
    },
    {
      "cell_type": "code",
      "source": [
        "import pandas as pd\n",
        "import numpy as np\n",
        "import glob\n",
        "import json\n",
        "import os\n",
        "import sys\n",
        "from tqdm import tqdm\n",
        "sys.path.insert(0, '../')\n",
        "from sklearn.metrics.pairwise import cosine_similarity\n",
        "import torch"
      ],
      "metadata": {
        "id": "ia_Lm_jsST6E"
      },
      "execution_count": null,
      "outputs": []
    },
    {
      "cell_type": "code",
      "source": [
        "# Loading Model and tokenizer\n",
        "!pip install transformers\n",
        "from transformers import AutoTokenizer\n",
        "from transformers import  BertModel\n",
        "tokenizer = AutoTokenizer.from_pretrained(\"bert-base-cased\")\n",
        "bert_model = BertModel.from_pretrained('bert-base-uncased',output_hidden_states = False)\n",
        "bert_model.eval()"
      ],
      "metadata": {
        "id": "E2bnEZgyXr8u"
      },
      "execution_count": null,
      "outputs": []
    },
    {
      "cell_type": "code",
      "source": [
        "def get_root_path():\n",
        "    '''\n",
        "    function to get root path of dataset\n",
        "    change the path variable to the path of the dataset\n",
        "    '''\n",
        "    # path = \"/home/pahelibhattacharya/Abhayv2/camera_ready/summarization/dataset\"\n",
        "    path = \"/content/drive/MyDrive/Legal Data/Indian Legal Abs Ext/dataset/IN-Abs/Single\"\n",
        "    return path\n",
        "\n",
        "def get_summary_data():\n",
        "    '''\n",
        "    function to get names, documents, and summaries\n",
        "    change the path variable to the path of the dataset\n",
        "    '''\n",
        "\n",
        "    path = get_root_path() + '/judgement'\n",
        "    all_files = glob.glob(path + \"/*.txt\")\n",
        "    data_source = []\n",
        "    names = []\n",
        "    for filename in all_files:\n",
        "        with open(filename, 'r') as f:\n",
        "            p = filename.rfind(\"/\")\n",
        "            names.append(filename[p+1:])\n",
        "            a = f.read()\n",
        "            data_source.append(a)\n",
        "    path = get_root_path() + '/summary'\n",
        "    all_files = glob.glob(path + \"/*.txt\")\n",
        "    data_summary = []\n",
        "    for filename in all_files:\n",
        "        with open(filename, 'r') as f:\n",
        "            a = f.read()\n",
        "            l = len(a)\n",
        "            data_summary.append(a)\n",
        "\n",
        "    return names, data_source, data_summary\n",
        "\n",
        "def split_to_sentences(para):\n",
        "    sents = nltk.sent_tokenize(para)   # returns list of sentences from para\n",
        "    return sents\n"
      ],
      "metadata": {
        "id": "XDEkmnHcSe4i"
      },
      "execution_count": null,
      "outputs": []
    },
    {
      "cell_type": "code",
      "source": [
        "names, data_source, data_summary = get_summary_data()\n",
        "print(len(names))\n",
        "print(len(data_source))\n",
        "print(len(data_summary))\n"
      ],
      "metadata": {
        "colab": {
          "base_uri": "https://localhost:8080/"
        },
        "id": "pEY1IGUuSpix",
        "outputId": "628c045e-c6fc-4ece-de19-5c521a1bac8e"
      },
      "execution_count": null,
      "outputs": [
        {
          "output_type": "stream",
          "name": "stdout",
          "text": [
            "2\n",
            "2\n",
            "2\n"
          ]
        }
      ]
    },
    {
      "cell_type": "code",
      "source": [
        "def get_sen_encoding(sents):\n",
        "    '''\n",
        "    Function to generate encoding for each word in the input list\n",
        "    input: sents - List of sentences\n",
        "    returns the list of the sentence encoding\n",
        "    '''\n",
        "    a = 0.001\n",
        "    answer = None\n",
        "    for sent in sents:\n",
        "        ip =tokenizer(sent, return_tensors='pt', max_length=150, truncation=True, padding='max_length')  # to convert input text into integer ids\n",
        "        tokens = tokenizer.convert_ids_to_tokens(ip['input_ids'][0])  # converts id into tokens with inclusion of special tokens added during tokenization such as [CLS]\n",
        "        bert_output = bert_model(**ip)  # BertModel;\n",
        "        embedding = bert_output['pooler_output'].clone().detach()\n",
        "        if answer == None:\n",
        "            answer = embedding\n",
        "            answer.resize_(1, 768)\n",
        "        else:\n",
        "            embedding.resize_(1, 768)\n",
        "            answer = torch.cat((answer, embedding),0)\n",
        "    return answer"
      ],
      "metadata": {
        "id": "chS1P9zLXoXd"
      },
      "execution_count": null,
      "outputs": []
    },
    {
      "cell_type": "code",
      "source": [
        "def similarity_l_l(l1, l2):\n",
        "    '''\n",
        "    Function to find the most similar sentence in the document for each sentence in the summary\n",
        "    input:  l1 - Summary sentences\n",
        "            l2 - Document sentences\n",
        "    returns a list of document sentence indexes for each sentence in the summary\n",
        "    '''\n",
        "    l = l1+l2  # list of sentences in both summary and document\n",
        "    sents_encodings = get_sen_encoding(l)   # return a list of tensors of length 768 each, for each element of the list\n",
        "    similarities=cosine_similarity(sents_encodings)   # calculates pairwise similiarities with elements in list if 2 arguments are not passed in; notice along diagonal its almost always equal to 1; https://scikit-learn.org/stable/modules/generated/sklearn.metrics.pairwise.cosine_similarity.html#sklearn.metrics.pairwise.cosine_similarity\n",
        "\n",
        "    result = []\n",
        "    for i in range(len(l1)):\n",
        "        vals = similarities[i]\n",
        "        vals = vals[len(l1):]\n",
        "        idx = np.argmax(vals)\n",
        "        result.append(idx)\n",
        "    return result"
      ],
      "metadata": {
        "id": "kSFdv_fAXZqj"
      },
      "execution_count": null,
      "outputs": []
    },
    {
      "cell_type": "code",
      "source": [
        "def nest_sentencesV2(document,chunk_length):\n",
        "    '''\n",
        "    function to chunk a document\n",
        "    input:  document           - Input document\n",
        "            chunk_length        - chunk length\n",
        "    output: list of chunks. Each chunk is a list of sentences.\n",
        "    '''\n",
        "    nested = []\n",
        "    sent = []\n",
        "    length = 0\n",
        "    for sentence in nltk.sent_tokenize(document):\n",
        "        length += len(sentence.split(\" \"))\n",
        "        if length < chunk_length:\n",
        "            sent.append(sentence)\n",
        "        else:\n",
        "            nested.append(sent)\n",
        "            sent = []\n",
        "            sent.append(sentence)\n",
        "            length = 0\n",
        "    if len(sent)>0:\n",
        "        nested.append(sent)\n",
        "    return nested"
      ],
      "metadata": {
        "id": "nGqFjZb6jnbU"
      },
      "execution_count": null,
      "outputs": []
    },
    {
      "cell_type": "code",
      "source": [
        "def get_chunks_data_from_docV2(doc, summ):\n",
        "    '''\n",
        "    Function to generate chunks along with their summaries\n",
        "    input:  doc - legal Document\n",
        "            summ - Gold standard summary\n",
        "    returns a list of chunks and their summaries\n",
        "    '''\n",
        "    chunk_summ_word_threshold = 150\n",
        "    sentence_mapping = {}\n",
        "    doc_sents = split_to_sentences(doc)\n",
        "    summ_sents = split_to_sentences(summ)\n",
        "\n",
        "    result = (similarity_l_l(summ_sents,doc_sents))\n",
        "\n",
        "    for i in range(len(summ_sents)):\n",
        "        sentence_mapping[doc_sents[result[i]]] = summ_sents[i]\n",
        "\n",
        "    final_chunks = []\n",
        "    final_summ = []\n",
        "    for chunk in nest_sentencesV2(doc, 1024):\n",
        "        summ = \"\"\n",
        "        for chunk_sent in chunk:\n",
        "            if chunk_sent in sentence_mapping:\n",
        "                summ = summ + sentence_mapping[chunk_sent]\n",
        "        if len(tokenizer.tokenize(summ)) >= chunk_summ_word_threshold:\n",
        "            final_chunks.append(\" \".join(chunk))\n",
        "            final_summ.append(summ)\n",
        "    return final_chunks, final_summ"
      ],
      "metadata": {
        "id": "5uKZbnmmZJOV"
      },
      "execution_count": null,
      "outputs": []
    },
    {
      "cell_type": "code",
      "source": [
        "import pandas as pd\n",
        "training_chunks = []\n",
        "training_summs = []\n",
        "for i in tqdm(range(2)):\n",
        "    cks, summs = get_chunks_data_from_docV2(data_source[i],data_summary[i])\n",
        "    training_chunks = training_chunks + cks\n",
        "    training_summs = training_summs + summs\n",
        "#     print(i, len(training_summs), end = \", \", sep = \" : \")\n",
        "    if i%100 == 0:\n",
        "        full = list(zip(training_chunks,training_summs))\n",
        "        df = pd.DataFrame(full,columns=['data', 'summary'])\n",
        "        df.to_excel(\"FD_CLS_BK.xlsx\")\n",
        "#         break\n",
        "full = list(zip(training_chunks,training_summs))\n",
        "df = pd.DataFrame(full,columns=['data', 'summary'])\n",
        "df.to_excel(\"FD_CLS.xlsx\")"
      ],
      "metadata": {
        "colab": {
          "base_uri": "https://localhost:8080/"
        },
        "id": "sH7holaAAgrW",
        "outputId": "7585c7e4-f49a-43f8-d50a-5ac84bea08ae"
      },
      "execution_count": null,
      "outputs": [
        {
          "output_type": "stream",
          "name": "stderr",
          "text": [
            "100%|██████████| 2/2 [24:39<00:00, 739.53s/it]\n"
          ]
        }
      ]
    },
    {
      "cell_type": "code",
      "source": [
        "df.head()"
      ],
      "metadata": {
        "colab": {
          "base_uri": "https://localhost:8080/",
          "height": 206
        },
        "id": "sWuK3CELpXId",
        "outputId": "f764d44e-2aee-4369-dcf2-45880d1c3428"
      },
      "execution_count": null,
      "outputs": [
        {
          "output_type": "execute_result",
          "data": {
            "text/plain": [
              "                                                data  \\\n",
              "0  The learned Chief Justice rejected the argumen...   \n",
              "1  This passage, which was relied on by the learn...   \n",
              "2  It was held that the equal protection clause c...   \n",
              "3  The meaning, scope and effect of 334 article 1...   \n",
              "4  N: Criminal Appeal No. 8 of 1951. Appeal from ...   \n",
              "\n",
              "                                             summary  \n",
              "0  (vi) The notification issued under the Act in ...  \n",
              "1  Per FAZL ALl, MAHAJAN, MUKHERJEA and CHANDRASE...  \n",
              "2  5 (1) clearly and unambigu ously vests the Sta...  \n",
              "3  5(1) which empowers the State Government to di...  \n",
              "4  Sub section (1) of sec.(2) provided that any t...  "
            ],
            "text/html": [
              "\n",
              "  <div id=\"df-5f97ebd0-b630-4209-aae7-b3340b2e4e57\">\n",
              "    <div class=\"colab-df-container\">\n",
              "      <div>\n",
              "<style scoped>\n",
              "    .dataframe tbody tr th:only-of-type {\n",
              "        vertical-align: middle;\n",
              "    }\n",
              "\n",
              "    .dataframe tbody tr th {\n",
              "        vertical-align: top;\n",
              "    }\n",
              "\n",
              "    .dataframe thead th {\n",
              "        text-align: right;\n",
              "    }\n",
              "</style>\n",
              "<table border=\"1\" class=\"dataframe\">\n",
              "  <thead>\n",
              "    <tr style=\"text-align: right;\">\n",
              "      <th></th>\n",
              "      <th>data</th>\n",
              "      <th>summary</th>\n",
              "    </tr>\n",
              "  </thead>\n",
              "  <tbody>\n",
              "    <tr>\n",
              "      <th>0</th>\n",
              "      <td>The learned Chief Justice rejected the argumen...</td>\n",
              "      <td>(vi) The notification issued under the Act in ...</td>\n",
              "    </tr>\n",
              "    <tr>\n",
              "      <th>1</th>\n",
              "      <td>This passage, which was relied on by the learn...</td>\n",
              "      <td>Per FAZL ALl, MAHAJAN, MUKHERJEA and CHANDRASE...</td>\n",
              "    </tr>\n",
              "    <tr>\n",
              "      <th>2</th>\n",
              "      <td>It was held that the equal protection clause c...</td>\n",
              "      <td>5 (1) clearly and unambigu ously vests the Sta...</td>\n",
              "    </tr>\n",
              "    <tr>\n",
              "      <th>3</th>\n",
              "      <td>The meaning, scope and effect of 334 article 1...</td>\n",
              "      <td>5(1) which empowers the State Government to di...</td>\n",
              "    </tr>\n",
              "    <tr>\n",
              "      <th>4</th>\n",
              "      <td>N: Criminal Appeal No. 8 of 1951. Appeal from ...</td>\n",
              "      <td>Sub section (1) of sec.(2) provided that any t...</td>\n",
              "    </tr>\n",
              "  </tbody>\n",
              "</table>\n",
              "</div>\n",
              "      <button class=\"colab-df-convert\" onclick=\"convertToInteractive('df-5f97ebd0-b630-4209-aae7-b3340b2e4e57')\"\n",
              "              title=\"Convert this dataframe to an interactive table.\"\n",
              "              style=\"display:none;\">\n",
              "        \n",
              "  <svg xmlns=\"http://www.w3.org/2000/svg\" height=\"24px\"viewBox=\"0 0 24 24\"\n",
              "       width=\"24px\">\n",
              "    <path d=\"M0 0h24v24H0V0z\" fill=\"none\"/>\n",
              "    <path d=\"M18.56 5.44l.94 2.06.94-2.06 2.06-.94-2.06-.94-.94-2.06-.94 2.06-2.06.94zm-11 1L8.5 8.5l.94-2.06 2.06-.94-2.06-.94L8.5 2.5l-.94 2.06-2.06.94zm10 10l.94 2.06.94-2.06 2.06-.94-2.06-.94-.94-2.06-.94 2.06-2.06.94z\"/><path d=\"M17.41 7.96l-1.37-1.37c-.4-.4-.92-.59-1.43-.59-.52 0-1.04.2-1.43.59L10.3 9.45l-7.72 7.72c-.78.78-.78 2.05 0 2.83L4 21.41c.39.39.9.59 1.41.59.51 0 1.02-.2 1.41-.59l7.78-7.78 2.81-2.81c.8-.78.8-2.07 0-2.86zM5.41 20L4 18.59l7.72-7.72 1.47 1.35L5.41 20z\"/>\n",
              "  </svg>\n",
              "      </button>\n",
              "      \n",
              "  <style>\n",
              "    .colab-df-container {\n",
              "      display:flex;\n",
              "      flex-wrap:wrap;\n",
              "      gap: 12px;\n",
              "    }\n",
              "\n",
              "    .colab-df-convert {\n",
              "      background-color: #E8F0FE;\n",
              "      border: none;\n",
              "      border-radius: 50%;\n",
              "      cursor: pointer;\n",
              "      display: none;\n",
              "      fill: #1967D2;\n",
              "      height: 32px;\n",
              "      padding: 0 0 0 0;\n",
              "      width: 32px;\n",
              "    }\n",
              "\n",
              "    .colab-df-convert:hover {\n",
              "      background-color: #E2EBFA;\n",
              "      box-shadow: 0px 1px 2px rgba(60, 64, 67, 0.3), 0px 1px 3px 1px rgba(60, 64, 67, 0.15);\n",
              "      fill: #174EA6;\n",
              "    }\n",
              "\n",
              "    [theme=dark] .colab-df-convert {\n",
              "      background-color: #3B4455;\n",
              "      fill: #D2E3FC;\n",
              "    }\n",
              "\n",
              "    [theme=dark] .colab-df-convert:hover {\n",
              "      background-color: #434B5C;\n",
              "      box-shadow: 0px 1px 3px 1px rgba(0, 0, 0, 0.15);\n",
              "      filter: drop-shadow(0px 1px 2px rgba(0, 0, 0, 0.3));\n",
              "      fill: #FFFFFF;\n",
              "    }\n",
              "  </style>\n",
              "\n",
              "      <script>\n",
              "        const buttonEl =\n",
              "          document.querySelector('#df-5f97ebd0-b630-4209-aae7-b3340b2e4e57 button.colab-df-convert');\n",
              "        buttonEl.style.display =\n",
              "          google.colab.kernel.accessAllowed ? 'block' : 'none';\n",
              "\n",
              "        async function convertToInteractive(key) {\n",
              "          const element = document.querySelector('#df-5f97ebd0-b630-4209-aae7-b3340b2e4e57');\n",
              "          const dataTable =\n",
              "            await google.colab.kernel.invokeFunction('convertToInteractive',\n",
              "                                                     [key], {});\n",
              "          if (!dataTable) return;\n",
              "\n",
              "          const docLinkHtml = 'Like what you see? Visit the ' +\n",
              "            '<a target=\"_blank\" href=https://colab.research.google.com/notebooks/data_table.ipynb>data table notebook</a>'\n",
              "            + ' to learn more about interactive tables.';\n",
              "          element.innerHTML = '';\n",
              "          dataTable['output_type'] = 'display_data';\n",
              "          await google.colab.output.renderOutput(dataTable, element);\n",
              "          const docLink = document.createElement('div');\n",
              "          docLink.innerHTML = docLinkHtml;\n",
              "          element.appendChild(docLink);\n",
              "        }\n",
              "      </script>\n",
              "    </div>\n",
              "  </div>\n",
              "  "
            ]
          },
          "metadata": {},
          "execution_count": 28
        }
      ]
    },
    {
      "cell_type": "code",
      "source": [
        "df.shape[0]"
      ],
      "metadata": {
        "colab": {
          "base_uri": "https://localhost:8080/"
        },
        "id": "iMKf_ouNteQy",
        "outputId": "771864f5-3b47-49b8-f37d-6e76a9a035b5"
      },
      "execution_count": null,
      "outputs": [
        {
          "output_type": "execute_result",
          "data": {
            "text/plain": [
              "6"
            ]
          },
          "metadata": {},
          "execution_count": 29
        }
      ]
    },
    {
      "cell_type": "markdown",
      "source": [
        "### BART"
      ],
      "metadata": {
        "id": "PCTErgNCaRc-"
      }
    },
    {
      "cell_type": "code",
      "execution_count": null,
      "metadata": {
        "id": "WAAX8xZEw8Ji"
      },
      "outputs": [],
      "source": [
        "def model_load():\n",
        "    checkpoint = \"sshleifer/distilbart-cnn-12-6\" #model loaded from Huggingface\n",
        "    tokenizer = AutoTokenizer.from_pretrained(checkpoint)\n",
        "    model = AutoModelForSeq2SeqLM.from_pretrained(checkpoint)\n",
        "#Model Details\n",
        "    #print(\"tokenizer.model_max_length :\",tokenizer.model_max_length )# max token inputted in model 1024\n",
        "    #print(\" max tokens excluding the special tokens\",tokenizer.max_len_single_sentence )# max tokens for input in model 1022\n",
        "    #print(\"num_special_tokens_to_add \",tokenizer.num_special_tokens_to_add() ) # special token needed by model 2\n",
        "    return(tokenizer,model)\n"
      ]
    },
    {
      "cell_type": "code",
      "execution_count": null,
      "metadata": {
        "id": "yA2OVRmNw8Ji"
      },
      "outputs": [],
      "source": [
        "def sum_generate(sent,tokenizer,model):\n",
        "    inputs = tokenizer(sent, return_tensors=\"pt\", max_length=1024, truncation=True) # max_length = 1024 since length exceed otherwise and goes out of index range; genrating inputs with chunks pt stands for pytorch\n",
        "    output = model.generate(inputs['input_ids'])  # inputs generated many list of tensors, from which 'input_ids' is used for generate\n",
        "    summ_generated=tokenizer.decode(output[0], skip_special_tokens=True)# decoding the output  # output[0] used sinced tensor is find in [[]]\n",
        "    return(summ_generated)"
      ]
    },
    {
      "cell_type": "code",
      "execution_count": null,
      "metadata": {
        "id": "3BRQoOvFw8Ji"
      },
      "outputs": [],
      "source": [
        "def rouge_score(summaryContent,final_summ_gen):\n",
        "    rouge = Rouge()\n",
        "    result_rouge=rouge.get_scores(summaryContent, final_summ_gen, avg=True)\n",
        "# Printing the final list\n",
        "    return result_rouge"
      ]
    },
    {
      "cell_type": "code",
      "source": [
        "# inputs to the model\n",
        "if __name__ == \"__main__\":\n",
        "  result_rouge_list = []\n",
        "  for i in range(df.shape[0]):\n",
        "    FileContent,summaryContent=df['data'][i],df['summary'][i]\n",
        "    tokenizer,model=model_load()\n",
        "    final_summ_gen=sum_generate(FileContent,tokenizer,model)\n",
        "    result_rouge_list.append(rouge_score(summaryContent,final_summ_gen))"
      ],
      "metadata": {
        "colab": {
          "base_uri": "https://localhost:8080/"
        },
        "id": "Ba5b2CoM5BG4",
        "outputId": "ed41b0ce-5932-4d72-ec94-ebb4041e6fc1"
      },
      "execution_count": null,
      "outputs": [
        {
          "output_type": "stream",
          "name": "stderr",
          "text": [
            "/usr/local/lib/python3.8/dist-packages/transformers/generation_utils.py:1202: UserWarning: Neither `max_length` nor `max_new_tokens` have been set, `max_length` will default to 142 (`self.config.max_length`). Controlling `max_length` via the config is deprecated and `max_length` will be removed from the config in v5 of Transformers -- we recommend using `max_new_tokens` to control the maximum length of the generation.\n",
            "  warnings.warn(\n"
          ]
        }
      ]
    },
    {
      "cell_type": "code",
      "source": [
        "result_rouge_list"
      ],
      "metadata": {
        "colab": {
          "base_uri": "https://localhost:8080/"
        },
        "id": "UrJ1FdpY__P2",
        "outputId": "1317b5e4-cafb-41f5-db49-02590be2aedc"
      },
      "execution_count": null,
      "outputs": [
        {
          "output_type": "execute_result",
          "data": {
            "text/plain": [
              "[{'rouge-1': {'r': 0.1956521739130435,\n",
              "   'p': 0.10227272727272728,\n",
              "   'f': 0.1343283537001561},\n",
              "  'rouge-2': {'r': 0.10344827586206896,\n",
              "   'p': 0.05172413793103448,\n",
              "   'f': 0.06896551279693515},\n",
              "  'rouge-l': {'r': 0.1956521739130435,\n",
              "   'p': 0.10227272727272728,\n",
              "   'f': 0.1343283537001561}},\n",
              " {'rouge-1': {'r': 0.525, 'p': 0.21, 'f': 0.2999999959183674},\n",
              "  'rouge-2': {'r': 0.3269230769230769,\n",
              "   'p': 0.11724137931034483,\n",
              "   'f': 0.17258882860161312},\n",
              "  'rouge-l': {'r': 0.45, 'p': 0.18, 'f': 0.25714285306122453}},\n",
              " {'rouge-1': {'r': 0.45454545454545453,\n",
              "   'p': 0.2702702702702703,\n",
              "   'f': 0.3389830461706407},\n",
              "  'rouge-2': {'r': 0.34615384615384615,\n",
              "   'p': 0.1565217391304348,\n",
              "   'f': 0.21556885798702005},\n",
              "  'rouge-l': {'r': 0.45454545454545453,\n",
              "   'p': 0.2702702702702703,\n",
              "   'f': 0.3389830461706407}},\n",
              " {'rouge-1': {'r': 0.30120481927710846,\n",
              "   'p': 0.32894736842105265,\n",
              "   'f': 0.31446540381472265},\n",
              "  'rouge-2': {'r': 0.10810810810810811,\n",
              "   'p': 0.11538461538461539,\n",
              "   'f': 0.11162790198204457},\n",
              "  'rouge-l': {'r': 0.2891566265060241,\n",
              "   'p': 0.3157894736842105,\n",
              "   'f': 0.30188678746252134}},\n",
              " {'rouge-1': {'r': 0.5892857142857143,\n",
              "   'p': 0.27049180327868855,\n",
              "   'f': 0.3707865125413458},\n",
              "  'rouge-2': {'r': 0.275, 'p': 0.10138248847926268, 'f': 0.14814814421204198},\n",
              "  'rouge-l': {'r': 0.44642857142857145,\n",
              "   'p': 0.20491803278688525,\n",
              "   'f': 0.2808988720919076}},\n",
              " {'rouge-1': {'r': 0.45098039215686275, 'p': 0.23, 'f': 0.304635757115916},\n",
              "  'rouge-2': {'r': 0.208955223880597,\n",
              "   'p': 0.08433734939759036,\n",
              "   'f': 0.12017166972241168},\n",
              "  'rouge-l': {'r': 0.39215686274509803, 'p': 0.2, 'f': 0.2649006577781677}},\n",
              " {'rouge-1': {'r': 0.39655172413793105,\n",
              "   'p': 0.14743589743589744,\n",
              "   'f': 0.21495326707660062},\n",
              "  'rouge-2': {'r': 0.0963855421686747,\n",
              "   'p': 0.03587443946188341,\n",
              "   'f': 0.05228757774595271},\n",
              "  'rouge-l': {'r': 0.29310344827586204,\n",
              "   'p': 0.10897435897435898,\n",
              "   'f': 0.15887850072146048}},\n",
              " {'rouge-1': {'r': 0.6666666666666666,\n",
              "   'p': 0.18478260869565216,\n",
              "   'f': 0.28936169872919876},\n",
              "  'rouge-2': {'r': 0.4, 'p': 0.1038961038961039, 'f': 0.1649484503347859},\n",
              "  'rouge-l': {'r': 0.5686274509803921,\n",
              "   'p': 0.15760869565217392,\n",
              "   'f': 0.24680850723983705}},\n",
              " {'rouge-1': {'r': 0.27450980392156865,\n",
              "   'p': 0.12844036697247707,\n",
              "   'f': 0.17499999565703137},\n",
              "  'rouge-2': {'r': 0.09090909090909091,\n",
              "   'p': 0.03614457831325301,\n",
              "   'f': 0.051724133859988426},\n",
              "  'rouge-l': {'r': 0.23529411764705882,\n",
              "   'p': 0.11009174311926606,\n",
              "   'f': 0.14999999565703137}},\n",
              " {'rouge-1': {'r': 0.16, 'p': 0.10126582278481013, 'f': 0.12403100300462731},\n",
              "  'rouge-2': {'r': 0.028985507246376812,\n",
              "   'p': 0.016666666666666666,\n",
              "   'f': 0.021164016528093733},\n",
              "  'rouge-l': {'r': 0.14, 'p': 0.08860759493670886, 'f': 0.1085271270356351}},\n",
              " {'rouge-1': {'r': 0.125, 'p': 0.07692307692307693, 'f': 0.0952380905215422},\n",
              "  'rouge-2': {'r': 0.017241379310344827,\n",
              "   'p': 0.008547008547008548,\n",
              "   'f': 0.011428566996899679},\n",
              "  'rouge-l': {'r': 0.125, 'p': 0.07692307692307693, 'f': 0.0952380905215422}},\n",
              " {'rouge-1': {'r': 0.2222222222222222,\n",
              "   'p': 0.05755395683453238,\n",
              "   'f': 0.09142856816065319},\n",
              "  'rouge-2': {'r': 0.07317073170731707,\n",
              "   'p': 0.0136986301369863,\n",
              "   'f': 0.02307692042041451},\n",
              "  'rouge-l': {'r': 0.19444444444444445,\n",
              "   'p': 0.050359712230215826,\n",
              "   'f': 0.07999999673208176}}]"
            ]
          },
          "metadata": {},
          "execution_count": 19
        }
      ]
    },
    {
      "cell_type": "code",
      "source": [
        "len(result_rouge_list)"
      ],
      "metadata": {
        "colab": {
          "base_uri": "https://localhost:8080/"
        },
        "id": "64FSYqHUDvHf",
        "outputId": "490e0880-0afc-47c9-87a1-7328b10d3970"
      },
      "execution_count": null,
      "outputs": [
        {
          "output_type": "execute_result",
          "data": {
            "text/plain": [
              "12"
            ]
          },
          "metadata": {},
          "execution_count": 20
        }
      ]
    },
    {
      "cell_type": "code",
      "source": [
        "agg_rouge_score = {'rouge-1':{'r':0,'p':0,'f':0},'rouge-2':{'r':0,'p':0,'f':0},\n",
        "                   'rouge-l':{'r':0,'p':0,'f':0}}\n",
        "\n",
        "for i in range(len(result_rouge_list)):\n",
        "  for rouge_type in ['rouge-1','rouge-2','rouge-l']:\n",
        "    for j in ['r','p','f']:\n",
        "      agg_rouge_score[rouge_type][j]+=(result_rouge_list[i][rouge_type][j]/len(result_rouge_list))\n",
        "\n",
        "print(agg_rouge_score)"
      ],
      "metadata": {
        "colab": {
          "base_uri": "https://localhost:8080/"
        },
        "id": "9jHjH5MS__ZW",
        "outputId": "1002241d-b626-4a56-bb48-cb6069d292f3"
      },
      "execution_count": null,
      "outputs": [
        {
          "output_type": "stream",
          "name": "stdout",
          "text": [
            "{'rouge-1': {'r': 0.3634682475938811, 'p': 0.17569865824076542, 'f': 0.22943430770090015}, 'rouge-2': {'r': 0.17294006518912516, 'p': 0.07011826138793202, 'f': 0.09680838176568345}, 'rouge-l': {'r': 0.31536742920716243, 'p': 0.15548464048749114, 'f': 0.20146606568101716}}\n"
          ]
        }
      ]
    },
    {
      "cell_type": "markdown",
      "source": [
        "### T5 Small"
      ],
      "metadata": {
        "id": "U8tQg9dEae5p"
      }
    },
    {
      "cell_type": "code",
      "execution_count": null,
      "metadata": {
        "id": "TEQBoc1BajM7"
      },
      "outputs": [],
      "source": [
        "def model_load():\n",
        "    checkpoint = \"t5-small\" #model loaded from Huggingface\n",
        "    tokenizer = AutoTokenizer.from_pretrained(checkpoint)\n",
        "    model = AutoModelForSeq2SeqLM.from_pretrained(checkpoint)\n",
        "#Model Details\n",
        "    #print(\"tokenizer.model_max_length :\",tokenizer.model_max_length )# max token inputted in model 1024\n",
        "    #print(\" max tokens excluding the special tokens\",tokenizer.max_len_single_sentence )# max tokens for input in model 1022\n",
        "    #print(\"num_special_tokens_to_add \",tokenizer.num_special_tokens_to_add() ) # special token needed by model 2\n",
        "    return(tokenizer,model)\n"
      ]
    },
    {
      "cell_type": "code",
      "execution_count": null,
      "metadata": {
        "id": "0bXMhxhKajM8"
      },
      "outputs": [],
      "source": [
        "def sum_generate(sent,tokenizer,model):\n",
        "    inputs = tokenizer(sent, return_tensors=\"pt\", max_length=1024, truncation=True) # max_length = 1024 since length exceed otherwise and goes out of index range; genrating inputs with chunks pt stands for pytorch\n",
        "    output = model.generate(inputs['input_ids'])  # inputs generated many list of tensors, from which 'input_ids' is used for generate\n",
        "    summ_generated=tokenizer.decode(output[0], skip_special_tokens=True)# decoding the output  # output[0] used sinced tensor is find in [[]]\n",
        "    return(summ_generated)"
      ]
    },
    {
      "cell_type": "code",
      "execution_count": null,
      "metadata": {
        "id": "FoRzlmvXajM8"
      },
      "outputs": [],
      "source": [
        "def rouge_score(summaryContent,final_summ_gen):\n",
        "    rouge = Rouge()\n",
        "    result_rouge=rouge.get_scores(summaryContent, final_summ_gen, avg=True)\n",
        "# Printing the final list\n",
        "    return result_rouge"
      ]
    },
    {
      "cell_type": "code",
      "source": [
        "# inputs to the model\n",
        "if __name__ == \"__main__\":\n",
        "  result_rouge_list = []\n",
        "  for i in range(df.shape[0]):\n",
        "    FileContent,summaryContent=df['data'][i],df['summary'][i]\n",
        "    tokenizer,model=model_load()\n",
        "    final_summ_gen=sum_generate(FileContent,tokenizer,model)\n",
        "    result_rouge_list.append(rouge_score(summaryContent,final_summ_gen))"
      ],
      "metadata": {
        "colab": {
          "base_uri": "https://localhost:8080/",
          "height": 304,
          "referenced_widgets": [
            "8b94c185e24a4e8da6178c5e77a68ea9",
            "ead9502c3bcd4b0bac8fdce208af17ac",
            "d2836f1454f24cbd933f6ba73b66e6c4",
            "34eff0a76c694d589a5f3eb7e760128c",
            "bf1eb23a969a4f02b1754ada5180e1b2",
            "83a57e6df2e34cf5a91ea9dee2b643db",
            "61b853cff0f24b48a3ebb101fadbbab7",
            "f68806ad2e9544ddb6dc835fb1635495",
            "ed38eafa106a4fa7a8def5dd605fbdac",
            "0e351c913cad429789d2eee3abb7236d",
            "8be3eeefa5ea4682a91578271129c01a",
            "3584214868004e9b8d4e9d605e0e127c",
            "4f72c41a51c047829b0abc1c17676b4a",
            "b64ae4f611084574a11f52d01e1803ff",
            "c129c54b87d64d3a867cb45481cd8927",
            "a0633798d0af4768a200c1b2ce4d3a28",
            "c6f591d74a7b452c8831c50e8b461c7f",
            "71291b01638a4b02a26fc1891a0833ab",
            "61041fbe36ea475c820418bca8b4848c",
            "170fce42d1554cf58107626f303b749a",
            "720bed3a76cb4867b37af13c1eac1094",
            "f13fee8f830e4aa4b11df605731bd361",
            "5deecf357239440d91d6ade1dfa027b7",
            "154ae4d803b84defb6a280cbd2931eca",
            "8a5421ab6f0f44cfa65c78e78ad1bb01",
            "dff4a391e96b4144813f4728ea5618f1",
            "b045e1edc7394902bdb607663752700d",
            "b7b9a8cdc528419a8d66c46aac209f17",
            "35e02f4e32bd43609d8dd237dc50aac8",
            "ed478b7d86b04884808b46f43f217cd3",
            "27d52f3c93924fe6a48e0992ef8e7f82",
            "1c9d4eeab3e447b8b962fa774351f9bc",
            "e3adda74fc8945abbc17bf82b12b0098",
            "0e13c2cefe2646dcb6c3d6292032e9fa",
            "72a0cdc0ff184e4f9ce8fc5966d90277",
            "85a4c95e6a724ffd8c1167b22411fc79",
            "9fc82a78d6f7412280f686cf934318a6",
            "d735a4a15c3144d0abb566886a37052f",
            "d608f2f7adb14d5db3af822f7968c287",
            "6ed637733c0e4bd8a2574b03a11d040a",
            "f010c328a3de46f6ae7496623cb3718e",
            "b3d7b34d8358421999c1ee46d03b602b",
            "091eebd699c145c383d3eac1615fa26f",
            "d0eb8b0c68dd4d21b8eaae07aef06bf6"
          ]
        },
        "outputId": "67ae9cf0-ecbd-4b0a-e163-697b49aebc86",
        "id": "mp9wEIaLajM8"
      },
      "execution_count": null,
      "outputs": [
        {
          "output_type": "display_data",
          "data": {
            "text/plain": [
              "Downloading config.json:   0%|          | 0.00/1.18k [00:00<?, ?B/s]"
            ],
            "application/vnd.jupyter.widget-view+json": {
              "version_major": 2,
              "version_minor": 0,
              "model_id": "8b94c185e24a4e8da6178c5e77a68ea9"
            }
          },
          "metadata": {}
        },
        {
          "output_type": "display_data",
          "data": {
            "text/plain": [
              "Downloading spiece.model:   0%|          | 0.00/773k [00:00<?, ?B/s]"
            ],
            "application/vnd.jupyter.widget-view+json": {
              "version_major": 2,
              "version_minor": 0,
              "model_id": "3584214868004e9b8d4e9d605e0e127c"
            }
          },
          "metadata": {}
        },
        {
          "output_type": "display_data",
          "data": {
            "text/plain": [
              "Downloading tokenizer.json:   0%|          | 0.00/1.32M [00:00<?, ?B/s]"
            ],
            "application/vnd.jupyter.widget-view+json": {
              "version_major": 2,
              "version_minor": 0,
              "model_id": "5deecf357239440d91d6ade1dfa027b7"
            }
          },
          "metadata": {}
        },
        {
          "output_type": "stream",
          "name": "stderr",
          "text": [
            "/usr/local/lib/python3.8/dist-packages/transformers/models/t5/tokenization_t5_fast.py:156: FutureWarning: This tokenizer was incorrectly instantiated with a model max length of 512 which will be corrected in Transformers v5.\n",
            "For now, this behavior is kept to avoid breaking backwards compatibility when padding/encoding with `truncation is True`.\n",
            "- Be aware that you SHOULD NOT rely on t5-small automatically truncating your input to 512 when padding/encoding.\n",
            "- If you want to encode/pad to sequences longer than 512 you can either instantiate this tokenizer with `model_max_length` or pass `max_length` when encoding/padding.\n",
            "- To avoid this warning, please instantiate this tokenizer with `model_max_length` set to your preferred value.\n",
            "  warnings.warn(\n"
          ]
        },
        {
          "output_type": "display_data",
          "data": {
            "text/plain": [
              "Downloading pytorch_model.bin:   0%|          | 0.00/231M [00:00<?, ?B/s]"
            ],
            "application/vnd.jupyter.widget-view+json": {
              "version_major": 2,
              "version_minor": 0,
              "model_id": "0e13c2cefe2646dcb6c3d6292032e9fa"
            }
          },
          "metadata": {}
        },
        {
          "output_type": "stream",
          "name": "stderr",
          "text": [
            "/usr/local/lib/python3.8/dist-packages/transformers/generation_utils.py:1202: UserWarning: Neither `max_length` nor `max_new_tokens` have been set, `max_length` will default to 20 (`self.config.max_length`). Controlling `max_length` via the config is deprecated and `max_length` will be removed from the config in v5 of Transformers -- we recommend using `max_new_tokens` to control the maximum length of the generation.\n",
            "  warnings.warn(\n"
          ]
        }
      ]
    },
    {
      "cell_type": "code",
      "source": [
        "result_rouge_list"
      ],
      "metadata": {
        "colab": {
          "base_uri": "https://localhost:8080/"
        },
        "outputId": "05daa53b-ff77-4453-b5ab-0fe1a8a00381",
        "id": "OsECgPi5ajM9"
      },
      "execution_count": null,
      "outputs": [
        {
          "output_type": "execute_result",
          "data": {
            "text/plain": [
              "[{'rouge-1': {'r': 0.5, 'p': 0.022727272727272728, 'f': 0.0434782600378072},\n",
              "  'rouge-2': {'r': 0.25, 'p': 0.008620689655172414, 'f': 0.016666666022222245},\n",
              "  'rouge-l': {'r': 0.5, 'p': 0.022727272727272728, 'f': 0.0434782600378072}},\n",
              " {'rouge-1': {'r': 0.4, 'p': 0.02, 'f': 0.03809523718820863},\n",
              "  'rouge-2': {'r': 0.2, 'p': 0.006896551724137931, 'f': 0.01333333268888892},\n",
              "  'rouge-l': {'r': 0.4, 'p': 0.02, 'f': 0.03809523718820863}},\n",
              " {'rouge-1': {'r': 0.5, 'p': 0.0945945945945946, 'f': 0.15909090641528928},\n",
              "  'rouge-2': {'r': 0.0, 'p': 0.0, 'f': 0.0},\n",
              "  'rouge-l': {'r': 0.5, 'p': 0.0945945945945946, 'f': 0.15909090641528928}},\n",
              " {'rouge-1': {'r': 0.5, 'p': 0.07894736842105263, 'f': 0.13636363400826448},\n",
              "  'rouge-2': {'r': 0.07692307692307693,\n",
              "   'p': 0.009615384615384616,\n",
              "   'f': 0.017094015118708682},\n",
              "  'rouge-l': {'r': 0.5, 'p': 0.07894736842105263, 'f': 0.13636363400826448}},\n",
              " {'rouge-1': {'r': 0.8461538461538461,\n",
              "   'p': 0.09016393442622951,\n",
              "   'f': 0.1629629612224966},\n",
              "  'rouge-2': {'r': 0.5, 'p': 0.027649769585253458, 'f': 0.05240174573177477},\n",
              "  'rouge-l': {'r': 0.8461538461538461,\n",
              "   'p': 0.09016393442622951,\n",
              "   'f': 0.1629629612224966}},\n",
              " {'rouge-1': {'r': 0.6, 'p': 0.03, 'f': 0.05714285623582767},\n",
              "  'rouge-2': {'r': 0.2, 'p': 0.006024096385542169, 'f': 0.011695905865052524},\n",
              "  'rouge-l': {'r': 0.6, 'p': 0.03, 'f': 0.05714285623582767}},\n",
              " {'rouge-1': {'r': 0.46153846153846156,\n",
              "   'p': 0.038461538461538464,\n",
              "   'f': 0.07100591573964499},\n",
              "  'rouge-2': {'r': 0.0, 'p': 0.0, 'f': 0.0},\n",
              "  'rouge-l': {'r': 0.38461538461538464,\n",
              "   'p': 0.03205128205128205,\n",
              "   'f': 0.05917159621301778}},\n",
              " {'rouge-1': {'r': 0.6363636363636364,\n",
              "   'p': 0.03804347826086957,\n",
              "   'f': 0.07179487073030903},\n",
              "  'rouge-2': {'r': 0.4, 'p': 0.012987012987012988, 'f': 0.025157232095249414},\n",
              "  'rouge-l': {'r': 0.5454545454545454,\n",
              "   'p': 0.03260869565217391,\n",
              "   'f': 0.06153846047389876}},\n",
              " {'rouge-1': {'r': 0.16666666666666666,\n",
              "   'p': 0.009174311926605505,\n",
              "   'f': 0.017391303358790227},\n",
              "  'rouge-2': {'r': 0.0, 'p': 0.0, 'f': 0.0},\n",
              "  'rouge-l': {'r': 0.16666666666666666,\n",
              "   'p': 0.009174311926605505,\n",
              "   'f': 0.017391303358790227}},\n",
              " {'rouge-1': {'r': 0.2857142857142857,\n",
              "   'p': 0.05063291139240506,\n",
              "   'f': 0.08602150281882306},\n",
              "  'rouge-2': {'r': 0.07692307692307693,\n",
              "   'p': 0.008333333333333333,\n",
              "   'f': 0.015037592221154597},\n",
              "  'rouge-l': {'r': 0.21428571428571427,\n",
              "   'p': 0.0379746835443038,\n",
              "   'f': 0.06451612647473708}},\n",
              " {'rouge-1': {'r': 0.15384615384615385,\n",
              "   'p': 0.02564102564102564,\n",
              "   'f': 0.0439560415070645},\n",
              "  'rouge-2': {'r': 0.0, 'p': 0.0, 'f': 0.0},\n",
              "  'rouge-l': {'r': 0.15384615384615385,\n",
              "   'p': 0.02564102564102564,\n",
              "   'f': 0.0439560415070645}},\n",
              " {'rouge-1': {'r': 0.3076923076923077,\n",
              "   'p': 0.02877697841726619,\n",
              "   'f': 0.052631577383137174},\n",
              "  'rouge-2': {'r': 0.07692307692307693,\n",
              "   'p': 0.0045662100456621,\n",
              "   'f': 0.008620688597280154},\n",
              "  'rouge-l': {'r': 0.3076923076923077,\n",
              "   'p': 0.02877697841726619,\n",
              "   'f': 0.052631577383137174}}]"
            ]
          },
          "metadata": {},
          "execution_count": 26
        }
      ]
    },
    {
      "cell_type": "code",
      "source": [
        "len(result_rouge_list)"
      ],
      "metadata": {
        "colab": {
          "base_uri": "https://localhost:8080/"
        },
        "outputId": "77d0968a-c5c5-403b-b632-a211be086fc8",
        "id": "kr2eetjVajM9"
      },
      "execution_count": null,
      "outputs": [
        {
          "output_type": "execute_result",
          "data": {
            "text/plain": [
              "12"
            ]
          },
          "metadata": {},
          "execution_count": 27
        }
      ]
    },
    {
      "cell_type": "code",
      "source": [
        "agg_rouge_score = {'rouge-1':{'r':0,'p':0,'f':0},'rouge-2':{'r':0,'p':0,'f':0},\n",
        "                   'rouge-l':{'r':0,'p':0,'f':0}}\n",
        "\n",
        "for i in range(len(result_rouge_list)):\n",
        "  for rouge_type in ['rouge-1','rouge-2','rouge-l']:\n",
        "    for j in ['r','p','f']:\n",
        "      agg_rouge_score[rouge_type][j]+=(result_rouge_list[i][rouge_type][j]/len(result_rouge_list))\n",
        "\n",
        "print(agg_rouge_score)"
      ],
      "metadata": {
        "colab": {
          "base_uri": "https://localhost:8080/"
        },
        "outputId": "c0587f05-888b-4671-8ee6-e00221dde2bd",
        "id": "hbZZ0jcsajM-"
      },
      "execution_count": null,
      "outputs": [
        {
          "output_type": "stream",
          "name": "stdout",
          "text": [
            "{'rouge-1': {'r': 0.44649794649794655, 'p': 0.04393028452240499, 'f': 0.0783279222204719}, 'rouge-2': {'r': 0.1483974358974359, 'p': 0.007057754027624917, 'f': 0.013333931528360942}, 'rouge-l': {'r': 0.4265595515595516, 'p': 0.041888345616817216, 'f': 0.07469491337654495}}\n"
          ]
        }
      ]
    },
    {
      "cell_type": "markdown",
      "source": [
        "## Testing for Single Doc"
      ],
      "metadata": {
        "id": "yaVMl7Iv-oJ-"
      }
    },
    {
      "cell_type": "code",
      "source": [
        "FileContent,summaryContent=df['data'][0],df['summary'][0]\n",
        "tokenizer,model=model_load()"
      ],
      "metadata": {
        "colab": {
          "base_uri": "https://localhost:8080/",
          "height": 183
        },
        "id": "Yqz2yHme8hMN",
        "outputId": "4697fcfd-84e7-4551-b07e-4f0439bc0fc7"
      },
      "execution_count": null,
      "outputs": [
        {
          "output_type": "error",
          "ename": "NameError",
          "evalue": "ignored",
          "traceback": [
            "\u001b[0;31m---------------------------------------------------------------------------\u001b[0m",
            "\u001b[0;31mNameError\u001b[0m                                 Traceback (most recent call last)",
            "\u001b[0;32m<ipython-input-15-d433998316fc>\u001b[0m in \u001b[0;36m<module>\u001b[0;34m\u001b[0m\n\u001b[0;32m----> 1\u001b[0;31m \u001b[0mFileContent\u001b[0m\u001b[0;34m,\u001b[0m\u001b[0msummaryContent\u001b[0m\u001b[0;34m=\u001b[0m\u001b[0mdf\u001b[0m\u001b[0;34m[\u001b[0m\u001b[0;34m'data'\u001b[0m\u001b[0;34m]\u001b[0m\u001b[0;34m[\u001b[0m\u001b[0;36m0\u001b[0m\u001b[0;34m]\u001b[0m\u001b[0;34m,\u001b[0m\u001b[0mdf\u001b[0m\u001b[0;34m[\u001b[0m\u001b[0;34m'summary'\u001b[0m\u001b[0;34m]\u001b[0m\u001b[0;34m[\u001b[0m\u001b[0;36m0\u001b[0m\u001b[0;34m]\u001b[0m\u001b[0;34m\u001b[0m\u001b[0;34m\u001b[0m\u001b[0m\n\u001b[0m\u001b[1;32m      2\u001b[0m \u001b[0mtokenizer\u001b[0m\u001b[0;34m,\u001b[0m\u001b[0mmodel\u001b[0m\u001b[0;34m=\u001b[0m\u001b[0mmodel_load\u001b[0m\u001b[0;34m(\u001b[0m\u001b[0;34m)\u001b[0m\u001b[0;34m\u001b[0m\u001b[0;34m\u001b[0m\u001b[0m\n",
            "\u001b[0;31mNameError\u001b[0m: name 'df' is not defined"
          ]
        }
      ]
    },
    {
      "cell_type": "code",
      "source": [
        "inputs = tokenizer(FileContent, return_tensors=\"pt\",max_length=1024,truncation=True)\n",
        "inputs"
      ],
      "metadata": {
        "colab": {
          "base_uri": "https://localhost:8080/"
        },
        "id": "U05j_Xq28u_s",
        "outputId": "9868cd9c-8a55-460d-efaf-99226d6ce5d7"
      },
      "execution_count": null,
      "outputs": [
        {
          "output_type": "execute_result",
          "data": {
            "text/plain": [
              "{'input_ids': tensor([[   0,  133, 2435,  ...,   50, 1200,    2]]), 'attention_mask': tensor([[1, 1, 1,  ..., 1, 1, 1]])}"
            ]
          },
          "metadata": {},
          "execution_count": 120
        }
      ]
    },
    {
      "cell_type": "code",
      "source": [
        "len(inputs['input_ids'])"
      ],
      "metadata": {
        "colab": {
          "base_uri": "https://localhost:8080/"
        },
        "id": "Yojk9VLc93nH",
        "outputId": "e224aefa-109d-4f80-8112-95eec7cc1d68"
      },
      "execution_count": null,
      "outputs": [
        {
          "output_type": "execute_result",
          "data": {
            "text/plain": [
              "1"
            ]
          },
          "metadata": {},
          "execution_count": 122
        }
      ]
    },
    {
      "cell_type": "code",
      "source": [
        "output = model.generate(inputs['input_ids'])\n",
        "output"
      ],
      "metadata": {
        "colab": {
          "base_uri": "https://localhost:8080/"
        },
        "id": "YCnBmVVZ8_q1",
        "outputId": "34c1de13-1007-49d9-f713-96de20ec10f8"
      },
      "execution_count": null,
      "outputs": [
        {
          "output_type": "stream",
          "name": "stderr",
          "text": [
            "/usr/local/lib/python3.8/dist-packages/transformers/generation_utils.py:1202: UserWarning: Neither `max_length` nor `max_new_tokens` have been set, `max_length` will default to 142 (`self.config.max_length`). Controlling `max_length` via the config is deprecated and `max_length` will be removed from the config in v5 of Transformers -- we recommend using `max_new_tokens` to control the maximum length of the generation.\n",
            "  warnings.warn(\n"
          ]
        },
        {
          "output_type": "execute_result",
          "data": {
            "text/plain": [
              "tensor([[    2,     0,  1231,  1659,  3946,  4795,    14,     5,  2136,    22,\n",
              "         28162,   113,    11,     5,  2849,  2810,   197,     6,    11,  1217,\n",
              "             9,     5,  1270,     8,  1198,   424,  5225,     9,     5,  1783,\n",
              "             6,    28, 37139,    25,  3099,  1200,  7980,  2078,   906,  1500,\n",
              "           479,    91,   303,    24,   113,  4703,     7,   847,   159,     5,\n",
              "         10798,  3099,     9,     5,  2136,   128, 28162,   128,    25,   341,\n",
              "            11,     5,  2810,   108,     2]])"
            ]
          },
          "metadata": {},
          "execution_count": 121
        }
      ]
    },
    {
      "cell_type": "code",
      "source": [
        "summ_generated=tokenizer.decode(output[0], skip_special_tokens=True)# decoding the output\n",
        "summ_generated"
      ],
      "metadata": {
        "colab": {
          "base_uri": "https://localhost:8080/",
          "height": 70
        },
        "id": "g6s6F3Rr-H9R",
        "outputId": "44b43a8c-8bdb-4a56-977a-58d0f66cbf2e"
      },
      "execution_count": null,
      "outputs": [
        {
          "output_type": "execute_result",
          "data": {
            "text/plain": [
              "' Chief Justice rejected argument that the word \"cases\" in the sub section should, in view of the title and preamble of the Act, be construed as meaning cases requiring speedier trial. He found it\" impossible to cut down the plain meaning of the word \\'cases\\'as used in the section\\''"
            ],
            "application/vnd.google.colaboratory.intrinsic+json": {
              "type": "string"
            }
          },
          "metadata": {},
          "execution_count": 124
        }
      ]
    },
    {
      "cell_type": "code",
      "source": [
        "len(summ_generated)"
      ],
      "metadata": {
        "colab": {
          "base_uri": "https://localhost:8080/"
        },
        "id": "fVc8nHsO9Woc",
        "outputId": "ec8db464-30f3-4936-90e6-c7324c6df4d8"
      },
      "execution_count": null,
      "outputs": [
        {
          "output_type": "execute_result",
          "data": {
            "text/plain": [
              "280"
            ]
          },
          "metadata": {},
          "execution_count": 125
        }
      ]
    },
    {
      "cell_type": "code",
      "source": [
        "rouge_score(summaryContent,summ_generated)"
      ],
      "metadata": {
        "colab": {
          "base_uri": "https://localhost:8080/"
        },
        "id": "Ojc77Hb7-wFC",
        "outputId": "82cb9f44-6c11-434f-ec2d-51af8dc875b0"
      },
      "execution_count": null,
      "outputs": [
        {
          "output_type": "execute_result",
          "data": {
            "text/plain": [
              "{'rouge-1': {'r': 0.43243243243243246,\n",
              "  'p': 0.0893854748603352,\n",
              "  'f': 0.1481481453090707},\n",
              " 'rouge-2': {'r': 0.20454545454545456,\n",
              "  'p': 0.031578947368421054,\n",
              "  'f': 0.05471124388355624},\n",
              " 'rouge-l': {'r': 0.2972972972972973,\n",
              "  'p': 0.061452513966480445,\n",
              "  'f': 0.10185184901277443}}"
            ]
          },
          "metadata": {},
          "execution_count": 126
        }
      ]
    },
    {
      "cell_type": "code",
      "source": [
        "chunk_summ_word_threshold = 150\n",
        "sentence_mapping = {}\n",
        "doc_sents = split_to_sentences(data_source[0])"
      ],
      "metadata": {
        "id": "wKX5FSCEjDLO"
      },
      "execution_count": null,
      "outputs": []
    },
    {
      "cell_type": "code",
      "source": [
        "sum_sent = split_to_sentences(data_summary[0])"
      ],
      "metadata": {
        "id": "uteUniLyl-Z1"
      },
      "execution_count": null,
      "outputs": []
    },
    {
      "cell_type": "code",
      "source": [
        "len(sum_sent)"
      ],
      "metadata": {
        "colab": {
          "base_uri": "https://localhost:8080/"
        },
        "id": "94w9lmqUl9Fz",
        "outputId": "6cdab343-a2c4-4527-df98-949955a728e3"
      },
      "execution_count": null,
      "outputs": [
        {
          "output_type": "execute_result",
          "data": {
            "text/plain": [
              "18"
            ]
          },
          "metadata": {},
          "execution_count": 41
        }
      ]
    },
    {
      "cell_type": "code",
      "source": [
        "len(doc_sents)"
      ],
      "metadata": {
        "colab": {
          "base_uri": "https://localhost:8080/"
        },
        "id": "9ZdtuPzzjhJW",
        "outputId": "5b412d73-21d3-4bba-c525-aff8861b9569"
      },
      "execution_count": null,
      "outputs": [
        {
          "output_type": "execute_result",
          "data": {
            "text/plain": [
              "98"
            ]
          },
          "metadata": {},
          "execution_count": 23
        }
      ]
    },
    {
      "cell_type": "code",
      "source": [
        "doc_sents[:3]"
      ],
      "metadata": {
        "colab": {
          "base_uri": "https://localhost:8080/"
        },
        "id": "pn9RhNJWjHQx",
        "outputId": "feb99761-3636-4a8b-fdda-aea6de93f0f9"
      },
      "execution_count": null,
      "outputs": [
        {
          "output_type": "execute_result",
          "data": {
            "text/plain": [
              "['N: Criminal Appeal No.',\n",
              " '8 of 1951.',\n",
              " 'Appeal from an Order of the High Court of Bombay (Bavdekar and Chainani JJ.)']"
            ]
          },
          "metadata": {},
          "execution_count": 24
        }
      ]
    },
    {
      "cell_type": "code",
      "source": [
        "sent = 'Appeal from an Order of the High Court of Bombay Bavdekar and Chainani JJ.'\n",
        "ip =tokenizer(sent, return_tensors='pt', max_length=150, truncation=True, padding='max_length')  # to convert input text into integer ids\n",
        "ip"
      ],
      "metadata": {
        "colab": {
          "base_uri": "https://localhost:8080/"
        },
        "id": "H8oOJrwDjciO",
        "outputId": "82502c3b-7884-4d2a-8467-c4d0060300ae"
      },
      "execution_count": null,
      "outputs": [
        {
          "output_type": "execute_result",
          "data": {
            "text/plain": [
              "{'input_ids': tensor([[  101, 13969,  1121,  1126,  2864,  1104,  1103,  1693,  2031,  1104,\n",
              "         11888, 18757,  1964, 27170,  1813,  1105, 19589,  7192,   147,  4538,\n",
              "           119,   102,     0,     0,     0,     0,     0,     0,     0,     0,\n",
              "             0,     0,     0,     0,     0,     0,     0,     0,     0,     0,\n",
              "             0,     0,     0,     0,     0,     0,     0,     0,     0,     0,\n",
              "             0,     0,     0,     0,     0,     0,     0,     0,     0,     0,\n",
              "             0,     0,     0,     0,     0,     0,     0,     0,     0,     0,\n",
              "             0,     0,     0,     0,     0,     0,     0,     0,     0,     0,\n",
              "             0,     0,     0,     0,     0,     0,     0,     0,     0,     0,\n",
              "             0,     0,     0,     0,     0,     0,     0,     0,     0,     0,\n",
              "             0,     0,     0,     0,     0,     0,     0,     0,     0,     0,\n",
              "             0,     0,     0,     0,     0,     0,     0,     0,     0,     0,\n",
              "             0,     0,     0,     0,     0,     0,     0,     0,     0,     0,\n",
              "             0,     0,     0,     0,     0,     0,     0,     0,     0,     0,\n",
              "             0,     0,     0,     0,     0,     0,     0,     0,     0,     0]]), 'token_type_ids': tensor([[0, 0, 0, 0, 0, 0, 0, 0, 0, 0, 0, 0, 0, 0, 0, 0, 0, 0, 0, 0, 0, 0, 0, 0,\n",
              "         0, 0, 0, 0, 0, 0, 0, 0, 0, 0, 0, 0, 0, 0, 0, 0, 0, 0, 0, 0, 0, 0, 0, 0,\n",
              "         0, 0, 0, 0, 0, 0, 0, 0, 0, 0, 0, 0, 0, 0, 0, 0, 0, 0, 0, 0, 0, 0, 0, 0,\n",
              "         0, 0, 0, 0, 0, 0, 0, 0, 0, 0, 0, 0, 0, 0, 0, 0, 0, 0, 0, 0, 0, 0, 0, 0,\n",
              "         0, 0, 0, 0, 0, 0, 0, 0, 0, 0, 0, 0, 0, 0, 0, 0, 0, 0, 0, 0, 0, 0, 0, 0,\n",
              "         0, 0, 0, 0, 0, 0, 0, 0, 0, 0, 0, 0, 0, 0, 0, 0, 0, 0, 0, 0, 0, 0, 0, 0,\n",
              "         0, 0, 0, 0, 0, 0]]), 'attention_mask': tensor([[1, 1, 1, 1, 1, 1, 1, 1, 1, 1, 1, 1, 1, 1, 1, 1, 1, 1, 1, 1, 1, 1, 0, 0,\n",
              "         0, 0, 0, 0, 0, 0, 0, 0, 0, 0, 0, 0, 0, 0, 0, 0, 0, 0, 0, 0, 0, 0, 0, 0,\n",
              "         0, 0, 0, 0, 0, 0, 0, 0, 0, 0, 0, 0, 0, 0, 0, 0, 0, 0, 0, 0, 0, 0, 0, 0,\n",
              "         0, 0, 0, 0, 0, 0, 0, 0, 0, 0, 0, 0, 0, 0, 0, 0, 0, 0, 0, 0, 0, 0, 0, 0,\n",
              "         0, 0, 0, 0, 0, 0, 0, 0, 0, 0, 0, 0, 0, 0, 0, 0, 0, 0, 0, 0, 0, 0, 0, 0,\n",
              "         0, 0, 0, 0, 0, 0, 0, 0, 0, 0, 0, 0, 0, 0, 0, 0, 0, 0, 0, 0, 0, 0, 0, 0,\n",
              "         0, 0, 0, 0, 0, 0]])}"
            ]
          },
          "metadata": {},
          "execution_count": 25
        }
      ]
    },
    {
      "cell_type": "code",
      "source": [
        "tokens = tokenizer.convert_ids_to_tokens(ip['input_ids'][0])  # converts id into tokens with inclusion of special tokens added during tokenization such as [CLS]\n",
        "tokens"
      ],
      "metadata": {
        "colab": {
          "base_uri": "https://localhost:8080/"
        },
        "id": "D7CYg--OkJvY",
        "outputId": "7d879b12-8068-41f6-f44f-7c45c3bde0df"
      },
      "execution_count": null,
      "outputs": [
        {
          "output_type": "execute_result",
          "data": {
            "text/plain": [
              "['[CLS]',\n",
              " 'Appeal',\n",
              " 'from',\n",
              " 'an',\n",
              " 'Order',\n",
              " 'of',\n",
              " 'the',\n",
              " 'High',\n",
              " 'Court',\n",
              " 'of',\n",
              " 'Bombay',\n",
              " 'Ba',\n",
              " '##v',\n",
              " '##dek',\n",
              " '##ar',\n",
              " 'and',\n",
              " 'Chain',\n",
              " '##ani',\n",
              " 'J',\n",
              " '##J',\n",
              " '.',\n",
              " '[SEP]',\n",
              " '[PAD]',\n",
              " '[PAD]',\n",
              " '[PAD]',\n",
              " '[PAD]',\n",
              " '[PAD]',\n",
              " '[PAD]',\n",
              " '[PAD]',\n",
              " '[PAD]',\n",
              " '[PAD]',\n",
              " '[PAD]',\n",
              " '[PAD]',\n",
              " '[PAD]',\n",
              " '[PAD]',\n",
              " '[PAD]',\n",
              " '[PAD]',\n",
              " '[PAD]',\n",
              " '[PAD]',\n",
              " '[PAD]',\n",
              " '[PAD]',\n",
              " '[PAD]',\n",
              " '[PAD]',\n",
              " '[PAD]',\n",
              " '[PAD]',\n",
              " '[PAD]',\n",
              " '[PAD]',\n",
              " '[PAD]',\n",
              " '[PAD]',\n",
              " '[PAD]',\n",
              " '[PAD]',\n",
              " '[PAD]',\n",
              " '[PAD]',\n",
              " '[PAD]',\n",
              " '[PAD]',\n",
              " '[PAD]',\n",
              " '[PAD]',\n",
              " '[PAD]',\n",
              " '[PAD]',\n",
              " '[PAD]',\n",
              " '[PAD]',\n",
              " '[PAD]',\n",
              " '[PAD]',\n",
              " '[PAD]',\n",
              " '[PAD]',\n",
              " '[PAD]',\n",
              " '[PAD]',\n",
              " '[PAD]',\n",
              " '[PAD]',\n",
              " '[PAD]',\n",
              " '[PAD]',\n",
              " '[PAD]',\n",
              " '[PAD]',\n",
              " '[PAD]',\n",
              " '[PAD]',\n",
              " '[PAD]',\n",
              " '[PAD]',\n",
              " '[PAD]',\n",
              " '[PAD]',\n",
              " '[PAD]',\n",
              " '[PAD]',\n",
              " '[PAD]',\n",
              " '[PAD]',\n",
              " '[PAD]',\n",
              " '[PAD]',\n",
              " '[PAD]',\n",
              " '[PAD]',\n",
              " '[PAD]',\n",
              " '[PAD]',\n",
              " '[PAD]',\n",
              " '[PAD]',\n",
              " '[PAD]',\n",
              " '[PAD]',\n",
              " '[PAD]',\n",
              " '[PAD]',\n",
              " '[PAD]',\n",
              " '[PAD]',\n",
              " '[PAD]',\n",
              " '[PAD]',\n",
              " '[PAD]',\n",
              " '[PAD]',\n",
              " '[PAD]',\n",
              " '[PAD]',\n",
              " '[PAD]',\n",
              " '[PAD]',\n",
              " '[PAD]',\n",
              " '[PAD]',\n",
              " '[PAD]',\n",
              " '[PAD]',\n",
              " '[PAD]',\n",
              " '[PAD]',\n",
              " '[PAD]',\n",
              " '[PAD]',\n",
              " '[PAD]',\n",
              " '[PAD]',\n",
              " '[PAD]',\n",
              " '[PAD]',\n",
              " '[PAD]',\n",
              " '[PAD]',\n",
              " '[PAD]',\n",
              " '[PAD]',\n",
              " '[PAD]',\n",
              " '[PAD]',\n",
              " '[PAD]',\n",
              " '[PAD]',\n",
              " '[PAD]',\n",
              " '[PAD]',\n",
              " '[PAD]',\n",
              " '[PAD]',\n",
              " '[PAD]',\n",
              " '[PAD]',\n",
              " '[PAD]',\n",
              " '[PAD]',\n",
              " '[PAD]',\n",
              " '[PAD]',\n",
              " '[PAD]',\n",
              " '[PAD]',\n",
              " '[PAD]',\n",
              " '[PAD]',\n",
              " '[PAD]',\n",
              " '[PAD]',\n",
              " '[PAD]',\n",
              " '[PAD]',\n",
              " '[PAD]',\n",
              " '[PAD]',\n",
              " '[PAD]',\n",
              " '[PAD]',\n",
              " '[PAD]',\n",
              " '[PAD]',\n",
              " '[PAD]']"
            ]
          },
          "metadata": {},
          "execution_count": 26
        }
      ]
    },
    {
      "cell_type": "code",
      "source": [
        "bert_output = bert_model(**ip)  # BertModel;\n",
        "embedding = bert_output['pooler_output'].clone().detach()"
      ],
      "metadata": {
        "id": "FeEPUfANkJzQ"
      },
      "execution_count": null,
      "outputs": []
    },
    {
      "cell_type": "code",
      "source": [
        "bert_output"
      ],
      "metadata": {
        "colab": {
          "base_uri": "https://localhost:8080/"
        },
        "id": "reohxZlAkfjI",
        "outputId": "41161102-c252-433f-dbcc-f3b41d9c2a7d"
      },
      "execution_count": null,
      "outputs": [
        {
          "output_type": "execute_result",
          "data": {
            "text/plain": [
              "BaseModelOutputWithPoolingAndCrossAttentions(last_hidden_state=tensor([[[-0.3768,  0.1182,  0.1627,  ...,  0.1455,  0.0282,  0.5325],\n",
              "         [ 0.1971, -0.0953,  0.5898,  ..., -0.1703,  0.4177,  0.0018],\n",
              "         [ 0.5735,  0.0626,  0.6084,  ..., -0.2785,  0.5612,  0.2554],\n",
              "         ...,\n",
              "         [ 0.2255, -0.0391,  0.3593,  ..., -0.3351,  0.1854,  0.0733],\n",
              "         [ 0.2426, -0.1024,  0.2483,  ..., -0.3510,  0.2703,  0.1072],\n",
              "         [-0.0915,  0.0703,  0.2405,  ..., -0.0438, -0.0511,  0.1174]]],\n",
              "       grad_fn=<NativeLayerNormBackward0>), pooler_output=tensor([[-6.8858e-01, -2.3746e-01, -6.8391e-02,  4.9617e-01, -2.6217e-01,\n",
              "         -6.3700e-02,  7.4489e-01,  2.7868e-01,  2.7921e-01, -9.9988e-01,\n",
              "          5.3527e-01,  2.1707e-02,  9.4602e-01,  6.9972e-02,  7.0043e-01,\n",
              "         -4.6001e-01,  2.0929e-01, -4.3320e-01,  2.1176e-01, -3.7752e-01,\n",
              "          4.3815e-01,  9.9335e-01,  3.0895e-01,  1.6129e-01,  2.3410e-01,\n",
              "         -3.7454e-02, -3.0041e-01,  7.6712e-01,  8.9378e-01,  6.7108e-01,\n",
              "         -5.7889e-01,  2.0379e-01, -9.6417e-01, -1.8043e-01, -5.8530e-01,\n",
              "         -9.6328e-01,  1.9576e-01, -4.8963e-01, -9.0488e-02,  6.0243e-03,\n",
              "         -7.2304e-01,  2.6920e-01,  9.9856e-01, -1.3884e-01, -9.6088e-02,\n",
              "         -2.0296e-01, -9.9940e-01,  1.7848e-01, -7.0146e-01, -5.4707e-02,\n",
              "         -1.8947e-01, -3.4721e-01,  3.6112e-02,  2.9797e-01,  3.0387e-01,\n",
              "          2.3301e-01, -1.3490e-01,  1.7855e-01, -2.6691e-01, -4.1850e-01,\n",
              "         -4.9815e-01,  3.2025e-01, -2.3150e-01, -7.6433e-01, -4.6488e-01,\n",
              "         -9.8679e-02, -7.0457e-02, -3.4176e-01, -3.2667e-02, -9.0065e-02,\n",
              "          6.4509e-01,  1.2647e-01, -1.4044e-02, -7.2303e-01, -3.2110e-01,\n",
              "          1.5112e-01, -5.4234e-01,  1.0000e+00, -2.4677e-01, -9.2069e-01,\n",
              "          3.3338e-01,  2.9937e-02,  4.5161e-01,  3.1269e-01, -5.5338e-02,\n",
              "         -9.9998e-01,  3.2377e-01, -7.8861e-02, -9.6166e-01,  9.3152e-02,\n",
              "          1.6243e-01,  3.1410e-02,  1.4859e-01,  4.9287e-01, -3.2245e-01,\n",
              "         -1.3338e-01, -1.4834e-01,  1.1358e-01, -1.8957e-01, -3.5064e-02,\n",
              "          7.5217e-02, -1.1180e-01, -7.2805e-02, -2.5437e-01,  2.4723e-01,\n",
              "         -3.5418e-01, -2.6943e-01,  3.9236e-01, -1.5732e-01,  4.9401e-01,\n",
              "          4.1999e-01, -1.6889e-01,  1.8026e-01, -8.8144e-01,  4.4692e-01,\n",
              "         -2.9449e-01, -9.4086e-01, -5.0934e-01, -9.5886e-01,  6.0599e-01,\n",
              "          2.4626e-01, -1.2151e-01,  8.1074e-01,  3.6109e-01,  2.3249e-01,\n",
              "          6.3888e-02,  1.7975e-01, -1.0000e+00, -1.5892e-01, -3.5583e-01,\n",
              "          1.7927e-01,  4.0037e-03, -9.3698e-01, -8.7518e-01,  4.4951e-01,\n",
              "          8.5584e-01,  1.5249e-01,  9.9683e-01, -1.5251e-01,  8.6870e-01,\n",
              "          3.0884e-01, -2.0981e-01, -5.3613e-01, -2.9413e-01,  4.4864e-01,\n",
              "         -4.1330e-02, -5.5085e-01,  1.5314e-01,  1.2272e-01, -7.2815e-02,\n",
              "         -1.3283e-01, -1.0352e-01,  1.8641e-01, -7.8969e-01, -3.0812e-01,\n",
              "          8.5439e-01,  7.1191e-02, -6.6998e-02,  4.0669e-01, -1.6076e-01,\n",
              "         -2.3135e-01,  7.9477e-01,  2.9339e-01,  3.0713e-01, -1.0535e-01,\n",
              "          2.8142e-01,  1.2835e-01,  2.6379e-01, -7.4808e-01,  4.6300e-01,\n",
              "          2.3897e-01, -2.1568e-01, -2.6220e-01, -9.1560e-01, -1.3086e-01,\n",
              "          3.3367e-01,  9.5464e-01,  5.9061e-01,  1.1046e-01, -2.0731e-01,\n",
              "         -2.4117e-01, -6.5511e-02, -9.1837e-01,  9.3167e-01, -7.9010e-02,\n",
              "          1.1631e-01,  2.7559e-01,  2.0960e-01, -6.4998e-01, -2.1838e-02,\n",
              "          6.9471e-01,  1.6843e-01, -6.2659e-01,  4.5279e-02, -4.1563e-01,\n",
              "         -2.8725e-01,  6.5211e-02,  3.0378e-01, -2.1528e-01, -2.7872e-01,\n",
              "          8.0416e-02,  7.5526e-01,  8.9435e-01,  4.0824e-01, -2.9496e-01,\n",
              "          3.0893e-01, -7.6498e-01, -3.0271e-01,  7.7898e-02,  2.0441e-01,\n",
              "         -2.6601e-02,  9.6907e-01, -3.8292e-01, -3.7108e-02, -7.9894e-01,\n",
              "         -9.4960e-01, -7.5523e-02, -7.0318e-01, -3.4540e-02, -5.5452e-01,\n",
              "          2.2160e-01,  5.9145e-01, -2.9130e-01,  1.5959e-01, -8.6833e-01,\n",
              "         -6.1457e-01,  1.5673e-01, -2.2411e-01,  3.5184e-01, -1.9395e-01,\n",
              "          4.2724e-01,  4.9780e-01, -4.3666e-01,  2.9221e-01,  8.7601e-01,\n",
              "         -1.2689e-01, -5.2067e-01,  6.1514e-01, -1.4050e-01,  8.3028e-01,\n",
              "         -4.5093e-01,  9.7839e-01,  3.6778e-01,  5.9598e-02, -8.2011e-01,\n",
              "         -2.2395e-01, -7.4850e-01, -1.0068e-02,  3.3255e-02, -3.5664e-01,\n",
              "          4.1334e-02,  4.8597e-01,  1.2718e-01,  3.9733e-01, -2.7438e-01,\n",
              "          9.4109e-01, -2.5684e-01, -8.8614e-01, -9.4359e-02, -8.5749e-02,\n",
              "         -9.6489e-01, -3.8167e-02,  1.3479e-01, -2.3121e-01, -2.9837e-01,\n",
              "         -1.8166e-01, -8.3828e-01,  7.4887e-01,  1.1899e-02,  9.5939e-01,\n",
              "          1.6993e-01, -7.4924e-01, -1.2605e-01, -8.0343e-01, -1.3086e-01,\n",
              "         -4.8150e-02,  5.0286e-01, -1.2732e-01, -8.3933e-01,  3.8753e-01,\n",
              "          3.6198e-01,  1.7860e-01,  1.8311e-01,  9.4653e-01,  9.9963e-01,\n",
              "          8.9667e-01,  7.3060e-01,  5.5549e-01, -9.6042e-01,  6.8737e-02,\n",
              "          9.9991e-01, -3.1819e-01, -9.9995e-01, -7.7001e-01, -4.8967e-01,\n",
              "          3.1377e-01, -1.0000e+00, -2.6529e-02, -4.5706e-02, -7.8564e-01,\n",
              "          2.1325e-03,  9.2155e-01,  8.6998e-01, -1.0000e+00,  7.2982e-01,\n",
              "          7.7693e-01, -6.1829e-01, -2.1825e-01, -1.5222e-01,  9.0623e-01,\n",
              "          1.5372e-01,  3.2292e-01, -1.2270e-01,  3.0163e-01, -5.2432e-01,\n",
              "         -7.7280e-01,  2.9536e-01,  6.8667e-02,  8.1889e-01,  1.4205e-01,\n",
              "         -6.4334e-01, -7.8561e-01, -3.4026e-01, -2.2249e-02, -1.2870e-01,\n",
              "         -8.8326e-01, -2.4098e-01, -5.4460e-01,  5.4195e-01, -3.5094e-02,\n",
              "          2.3534e-01, -5.4544e-01,  1.7431e-01, -1.8514e-01,  2.6445e-02,\n",
              "          5.8530e-01, -8.7326e-01, -5.7895e-01, -4.3347e-01, -4.6604e-01,\n",
              "         -1.8402e-01, -9.0452e-01,  9.0007e-01, -1.7885e-01, -9.5003e-02,\n",
              "          1.0000e+00,  4.7583e-03, -6.5510e-01,  2.6943e-01,  1.1808e-01,\n",
              "         -5.4386e-01,  9.9999e-01,  6.0091e-01, -9.3450e-01, -5.2274e-01,\n",
              "          4.3870e-01, -2.5287e-01, -3.0498e-01,  9.9709e-01, -4.0611e-02,\n",
              "          2.4581e-01,  4.7828e-01,  9.4663e-01, -9.7247e-01,  8.1029e-01,\n",
              "         -7.9343e-01, -8.6404e-01,  8.8172e-01,  7.8698e-01,  1.0121e-01,\n",
              "         -5.9148e-01,  2.0466e-02, -4.9582e-01,  2.1999e-01, -8.2952e-01,\n",
              "          4.1616e-01,  2.2783e-01, -8.0178e-02,  7.4871e-01, -6.3431e-01,\n",
              "         -4.8226e-01,  2.8744e-01,  6.9211e-02,  3.8889e-01,  3.3128e-01,\n",
              "          3.0463e-01, -2.9300e-01, -1.7760e-02, -1.7751e-01,  4.9430e-02,\n",
              "         -8.8667e-01,  1.9885e-01,  9.9999e-01,  1.7452e-01, -9.7223e-02,\n",
              "         -1.7711e-01, -2.1599e-03, -3.0630e-01,  2.3207e-01,  1.8395e-01,\n",
              "         -2.7286e-01, -6.3672e-01, -3.4035e-01, -5.3916e-01, -9.6391e-01,\n",
              "          5.1648e-01,  9.7602e-02, -2.2917e-01,  9.9602e-01,  1.6552e-02,\n",
              "          2.6313e-01, -3.0037e-01, -3.3350e-01,  1.3632e-02,  1.9361e-01,\n",
              "         -3.2198e-01,  9.1163e-01, -2.2851e-01,  5.7022e-01,  5.9941e-01,\n",
              "          7.4994e-02, -2.0680e-01, -4.5809e-01,  6.3209e-02, -8.3790e-01,\n",
              "          7.1614e-02, -8.6818e-01,  8.7653e-01,  1.6385e-01,  1.8630e-01,\n",
              "          1.2124e-01, -1.0162e-01,  1.0000e+00, -2.7548e-01,  4.8201e-01,\n",
              "         -5.3952e-02,  5.7961e-01, -9.5400e-01, -4.3384e-01, -2.5883e-01,\n",
              "         -3.4314e-02,  1.2574e-01, -2.1266e-01,  1.7970e-01, -9.3020e-01,\n",
              "         -1.4715e-01, -2.4252e-01, -8.5095e-01, -9.5463e-01,  2.5337e-01,\n",
              "          4.3103e-01,  1.5375e-02, -5.5638e-01, -2.9885e-01, -3.4890e-01,\n",
              "         -2.6020e-01, -1.3950e-01, -7.9819e-01,  5.5260e-01, -2.1877e-02,\n",
              "          4.0459e-01, -1.7255e-01,  5.2131e-01,  8.5320e-02,  6.7295e-01,\n",
              "          7.4503e-02, -2.1058e-02, -9.1110e-02, -7.1536e-01,  5.2921e-01,\n",
              "         -5.8603e-01,  1.2070e-01, -7.1402e-02,  1.0000e+00, -1.8619e-01,\n",
              "          3.3066e-01,  6.5908e-01,  3.1815e-01, -9.0226e-02,  1.8827e-01,\n",
              "          5.3176e-01,  8.8123e-02,  4.4586e-02,  3.6335e-01, -1.1753e-01,\n",
              "         -2.9355e-01,  3.9449e-01, -3.3740e-01,  2.7148e-01,  5.3836e-01,\n",
              "          7.3558e-02,  6.2282e-02,  7.7605e-02,  3.1131e-03,  9.4468e-01,\n",
              "         -1.1951e-01,  1.9647e-01, -3.4394e-01, -1.4779e-01, -1.6063e-01,\n",
              "         -2.1307e-01,  9.9997e-01,  2.5568e-01,  8.3737e-02, -9.6913e-01,\n",
              "          2.8408e-01, -7.6988e-01,  9.9886e-01,  7.3810e-01, -6.8645e-01,\n",
              "          4.6575e-01,  2.6015e-01, -1.3124e-01,  3.7662e-01, -1.4328e-01,\n",
              "         -1.8536e-01,  1.0829e-01,  4.6146e-02,  8.6297e-01, -2.6136e-01,\n",
              "         -8.9905e-01, -4.8651e-01,  9.7678e-02, -8.2571e-01,  9.7468e-01,\n",
              "         -3.4111e-01, -1.1682e-01, -1.8668e-01,  1.6491e-01,  4.2646e-01,\n",
              "         -9.6803e-02, -9.1600e-01, -1.0791e-02, -6.2883e-02,  8.8953e-01,\n",
              "          1.5581e-01, -5.5449e-01, -8.2096e-01, -1.9312e-01, -3.1388e-02,\n",
              "          3.2342e-01, -8.0457e-01,  9.0408e-01, -9.0710e-01,  1.8740e-01,\n",
              "          9.9991e-01,  2.1751e-01, -5.6017e-01,  4.5413e-02, -4.0626e-01,\n",
              "          1.6015e-01, -4.4024e-04,  2.0719e-01, -7.9911e-01, -7.7472e-02,\n",
              "         -1.3844e-01,  1.1243e-01, -6.0730e-02, -1.5571e-02,  4.8273e-01,\n",
              "          1.8144e-01, -4.3821e-01, -4.7139e-01,  9.9199e-02,  2.9976e-01,\n",
              "          5.8876e-01, -1.6962e-01, -8.4234e-02,  9.9142e-02, -5.5495e-03,\n",
              "         -7.9178e-01, -1.1667e-01, -2.4409e-01, -9.9363e-01,  4.5219e-01,\n",
              "         -1.0000e+00, -1.0986e-01, -2.4162e-01, -8.8145e-02,  6.5391e-01,\n",
              "         -2.5619e-01, -7.0930e-02, -3.6477e-01,  3.4117e-01,  6.3075e-01,\n",
              "          5.4695e-01, -1.3298e-01,  2.9794e-01, -6.2323e-01,  1.1402e-01,\n",
              "          7.9014e-02,  1.2442e-02, -7.7945e-02,  6.5315e-01,  1.7840e-02,\n",
              "          1.0000e+00,  3.5107e-02, -2.1208e-01, -7.9998e-01,  3.1289e-01,\n",
              "         -1.8209e-01,  9.9975e-01, -6.8009e-01, -8.7348e-01,  2.7882e-01,\n",
              "         -2.7664e-01, -6.6322e-01,  1.2724e-01, -8.4532e-02, -4.6162e-01,\n",
              "         -1.0637e-01,  7.8092e-01,  6.3328e-01, -4.8361e-01,  1.8937e-01,\n",
              "         -1.9007e-01, -1.3642e-01,  1.0377e-01, -1.8017e-01,  9.5514e-01,\n",
              "          5.1802e-02,  6.8757e-01,  6.6875e-01,  1.3946e-01,  8.3009e-01,\n",
              "          1.6538e-01,  4.5820e-01,  1.3241e-01,  9.9995e-01,  2.0771e-01,\n",
              "         -8.7823e-01,  1.8205e-01, -9.2761e-01, -1.9267e-01, -8.7508e-01,\n",
              "          1.5930e-01,  1.3786e-01,  6.8480e-01, -1.5570e-01,  8.6455e-01,\n",
              "          5.3414e-01,  7.6369e-03,  3.2859e-01,  2.0838e-01,  2.4584e-01,\n",
              "         -7.4241e-01, -9.4786e-01, -9.5872e-01,  1.5753e-01, -2.7083e-01,\n",
              "         -8.2613e-02,  1.3499e-01,  2.1748e-02,  2.7088e-01,  2.4189e-01,\n",
              "         -9.9996e-01,  8.3586e-01,  2.5933e-01,  1.0678e-01,  8.9774e-01,\n",
              "          9.0567e-02,  9.0879e-02,  2.1838e-01, -9.5739e-01, -5.9308e-01,\n",
              "         -1.9460e-01, -1.7856e-01,  7.2972e-01,  5.1175e-01,  5.8878e-01,\n",
              "          1.1571e-01, -3.5040e-01, -2.7180e-02,  9.1828e-02, -6.7692e-02,\n",
              "         -9.6590e-01,  3.6369e-01,  2.6175e-01, -8.0551e-01,  9.0250e-01,\n",
              "         -2.5551e-01, -9.7082e-02,  4.3333e-01, -1.0694e-01,  8.0534e-01,\n",
              "          7.0436e-01,  3.3163e-01,  3.2039e-02,  5.3630e-01,  6.9163e-01,\n",
              "          8.6880e-01,  9.6349e-01, -2.1005e-01,  4.4833e-01,  1.6508e-01,\n",
              "          2.4538e-01,  5.2173e-01, -8.6142e-01,  1.0449e-01, -2.3858e-01,\n",
              "         -2.1679e-01,  2.1317e-01, -1.7173e-01, -8.1463e-01,  6.2196e-01,\n",
              "         -2.1058e-01,  3.9717e-01, -2.8856e-01,  1.4761e-01, -4.0514e-01,\n",
              "         -1.0816e-01, -6.2574e-01, -2.8566e-01,  5.4300e-01,  4.0778e-02,\n",
              "          8.0073e-01,  1.4170e-01, -1.0069e-02, -3.8135e-01, -1.1162e-01,\n",
              "         -8.6691e-02, -8.4575e-01,  6.7924e-01, -3.4376e-03,  1.1178e-02,\n",
              "          1.5539e-01, -1.2589e-01,  6.4040e-01,  1.0458e-02, -2.3142e-01,\n",
              "         -9.9318e-02, -6.7781e-01,  5.7293e-01,  5.5400e-02, -3.5847e-01,\n",
              "         -3.1737e-01,  4.1929e-01,  2.4599e-01,  9.8970e-01, -3.7417e-02,\n",
              "          1.3552e-01, -8.1168e-03, -1.1477e-01,  3.1767e-01, -2.4262e-01,\n",
              "         -9.9997e-01,  2.1651e-01,  1.3849e-01,  1.2890e-01,  2.7329e-01,\n",
              "          3.5981e-02,  1.7165e-02, -8.5936e-01, -1.1361e-01, -4.8879e-02,\n",
              "         -9.9840e-02, -4.1963e-01,  4.3586e-03,  5.1168e-01,  4.3560e-01,\n",
              "         -1.1484e-01,  7.4651e-01,  6.8226e-02,  3.2632e-01,  5.4791e-01,\n",
              "         -8.4746e-02, -4.5775e-01,  7.2282e-01]], grad_fn=<TanhBackward0>), hidden_states=None, past_key_values=None, attentions=None, cross_attentions=None)"
            ]
          },
          "metadata": {},
          "execution_count": 28
        }
      ]
    },
    {
      "cell_type": "code",
      "source": [
        "len(bert_output[0][0])"
      ],
      "metadata": {
        "colab": {
          "base_uri": "https://localhost:8080/"
        },
        "id": "qtZfff_vlfrq",
        "outputId": "89ae7d36-59ce-4fb2-e6a4-174bf6634ece"
      },
      "execution_count": null,
      "outputs": [
        {
          "output_type": "execute_result",
          "data": {
            "text/plain": [
              "150"
            ]
          },
          "metadata": {},
          "execution_count": 38
        }
      ]
    },
    {
      "cell_type": "code",
      "source": [
        "answer=None\n",
        "if answer == None:\n",
        "    answer = embedding\n",
        "    answer.resize_(1, 768)\n",
        "else:\n",
        "    embedding.resize_(1, 768)\n",
        "    answer = torch.cat((answer, embedding),0)"
      ],
      "metadata": {
        "id": "CmXpcneJk6WQ"
      },
      "execution_count": null,
      "outputs": []
    },
    {
      "cell_type": "code",
      "source": [
        "answer"
      ],
      "metadata": {
        "colab": {
          "base_uri": "https://localhost:8080/"
        },
        "id": "i7wtyt8slDJX",
        "outputId": "226d137d-f393-462e-a65f-6bea01f5d81c"
      },
      "execution_count": null,
      "outputs": [
        {
          "output_type": "execute_result",
          "data": {
            "text/plain": [
              "tensor([[-6.8858e-01, -2.3746e-01, -6.8391e-02,  4.9617e-01, -2.6217e-01,\n",
              "         -6.3700e-02,  7.4489e-01,  2.7868e-01,  2.7921e-01, -9.9988e-01,\n",
              "          5.3527e-01,  2.1707e-02,  9.4602e-01,  6.9972e-02,  7.0043e-01,\n",
              "         -4.6001e-01,  2.0929e-01, -4.3320e-01,  2.1176e-01, -3.7752e-01,\n",
              "          4.3815e-01,  9.9335e-01,  3.0895e-01,  1.6129e-01,  2.3410e-01,\n",
              "         -3.7454e-02, -3.0041e-01,  7.6712e-01,  8.9378e-01,  6.7108e-01,\n",
              "         -5.7889e-01,  2.0379e-01, -9.6417e-01, -1.8043e-01, -5.8530e-01,\n",
              "         -9.6328e-01,  1.9576e-01, -4.8963e-01, -9.0488e-02,  6.0243e-03,\n",
              "         -7.2304e-01,  2.6920e-01,  9.9856e-01, -1.3884e-01, -9.6088e-02,\n",
              "         -2.0296e-01, -9.9940e-01,  1.7848e-01, -7.0146e-01, -5.4707e-02,\n",
              "         -1.8947e-01, -3.4721e-01,  3.6112e-02,  2.9797e-01,  3.0387e-01,\n",
              "          2.3301e-01, -1.3490e-01,  1.7855e-01, -2.6691e-01, -4.1850e-01,\n",
              "         -4.9815e-01,  3.2025e-01, -2.3150e-01, -7.6433e-01, -4.6488e-01,\n",
              "         -9.8679e-02, -7.0457e-02, -3.4176e-01, -3.2667e-02, -9.0065e-02,\n",
              "          6.4509e-01,  1.2647e-01, -1.4044e-02, -7.2303e-01, -3.2110e-01,\n",
              "          1.5112e-01, -5.4234e-01,  1.0000e+00, -2.4677e-01, -9.2069e-01,\n",
              "          3.3338e-01,  2.9937e-02,  4.5161e-01,  3.1269e-01, -5.5338e-02,\n",
              "         -9.9998e-01,  3.2377e-01, -7.8861e-02, -9.6166e-01,  9.3152e-02,\n",
              "          1.6243e-01,  3.1410e-02,  1.4859e-01,  4.9287e-01, -3.2245e-01,\n",
              "         -1.3338e-01, -1.4834e-01,  1.1358e-01, -1.8957e-01, -3.5064e-02,\n",
              "          7.5217e-02, -1.1180e-01, -7.2805e-02, -2.5437e-01,  2.4723e-01,\n",
              "         -3.5418e-01, -2.6943e-01,  3.9236e-01, -1.5732e-01,  4.9401e-01,\n",
              "          4.1999e-01, -1.6889e-01,  1.8026e-01, -8.8144e-01,  4.4692e-01,\n",
              "         -2.9449e-01, -9.4086e-01, -5.0934e-01, -9.5886e-01,  6.0599e-01,\n",
              "          2.4626e-01, -1.2151e-01,  8.1074e-01,  3.6109e-01,  2.3249e-01,\n",
              "          6.3888e-02,  1.7975e-01, -1.0000e+00, -1.5892e-01, -3.5583e-01,\n",
              "          1.7927e-01,  4.0037e-03, -9.3698e-01, -8.7518e-01,  4.4951e-01,\n",
              "          8.5584e-01,  1.5249e-01,  9.9683e-01, -1.5251e-01,  8.6870e-01,\n",
              "          3.0884e-01, -2.0981e-01, -5.3613e-01, -2.9413e-01,  4.4864e-01,\n",
              "         -4.1330e-02, -5.5085e-01,  1.5314e-01,  1.2272e-01, -7.2815e-02,\n",
              "         -1.3283e-01, -1.0352e-01,  1.8641e-01, -7.8969e-01, -3.0812e-01,\n",
              "          8.5439e-01,  7.1191e-02, -6.6998e-02,  4.0669e-01, -1.6076e-01,\n",
              "         -2.3135e-01,  7.9477e-01,  2.9339e-01,  3.0713e-01, -1.0535e-01,\n",
              "          2.8142e-01,  1.2835e-01,  2.6379e-01, -7.4808e-01,  4.6300e-01,\n",
              "          2.3897e-01, -2.1568e-01, -2.6220e-01, -9.1560e-01, -1.3086e-01,\n",
              "          3.3367e-01,  9.5464e-01,  5.9061e-01,  1.1046e-01, -2.0731e-01,\n",
              "         -2.4117e-01, -6.5511e-02, -9.1837e-01,  9.3167e-01, -7.9010e-02,\n",
              "          1.1631e-01,  2.7559e-01,  2.0960e-01, -6.4998e-01, -2.1838e-02,\n",
              "          6.9471e-01,  1.6843e-01, -6.2659e-01,  4.5279e-02, -4.1563e-01,\n",
              "         -2.8725e-01,  6.5211e-02,  3.0378e-01, -2.1528e-01, -2.7872e-01,\n",
              "          8.0416e-02,  7.5526e-01,  8.9435e-01,  4.0824e-01, -2.9496e-01,\n",
              "          3.0893e-01, -7.6498e-01, -3.0271e-01,  7.7898e-02,  2.0441e-01,\n",
              "         -2.6601e-02,  9.6907e-01, -3.8292e-01, -3.7108e-02, -7.9894e-01,\n",
              "         -9.4960e-01, -7.5523e-02, -7.0318e-01, -3.4540e-02, -5.5452e-01,\n",
              "          2.2160e-01,  5.9145e-01, -2.9130e-01,  1.5959e-01, -8.6833e-01,\n",
              "         -6.1457e-01,  1.5673e-01, -2.2411e-01,  3.5184e-01, -1.9395e-01,\n",
              "          4.2724e-01,  4.9780e-01, -4.3666e-01,  2.9221e-01,  8.7601e-01,\n",
              "         -1.2689e-01, -5.2067e-01,  6.1514e-01, -1.4050e-01,  8.3028e-01,\n",
              "         -4.5093e-01,  9.7839e-01,  3.6778e-01,  5.9598e-02, -8.2011e-01,\n",
              "         -2.2395e-01, -7.4850e-01, -1.0068e-02,  3.3255e-02, -3.5664e-01,\n",
              "          4.1334e-02,  4.8597e-01,  1.2718e-01,  3.9733e-01, -2.7438e-01,\n",
              "          9.4109e-01, -2.5684e-01, -8.8614e-01, -9.4359e-02, -8.5749e-02,\n",
              "         -9.6489e-01, -3.8167e-02,  1.3479e-01, -2.3121e-01, -2.9837e-01,\n",
              "         -1.8166e-01, -8.3828e-01,  7.4887e-01,  1.1899e-02,  9.5939e-01,\n",
              "          1.6993e-01, -7.4924e-01, -1.2605e-01, -8.0343e-01, -1.3086e-01,\n",
              "         -4.8150e-02,  5.0286e-01, -1.2732e-01, -8.3933e-01,  3.8753e-01,\n",
              "          3.6198e-01,  1.7860e-01,  1.8311e-01,  9.4653e-01,  9.9963e-01,\n",
              "          8.9667e-01,  7.3060e-01,  5.5549e-01, -9.6042e-01,  6.8737e-02,\n",
              "          9.9991e-01, -3.1819e-01, -9.9995e-01, -7.7001e-01, -4.8967e-01,\n",
              "          3.1377e-01, -1.0000e+00, -2.6529e-02, -4.5706e-02, -7.8564e-01,\n",
              "          2.1325e-03,  9.2155e-01,  8.6998e-01, -1.0000e+00,  7.2982e-01,\n",
              "          7.7693e-01, -6.1829e-01, -2.1825e-01, -1.5222e-01,  9.0623e-01,\n",
              "          1.5372e-01,  3.2292e-01, -1.2270e-01,  3.0163e-01, -5.2432e-01,\n",
              "         -7.7280e-01,  2.9536e-01,  6.8667e-02,  8.1889e-01,  1.4205e-01,\n",
              "         -6.4334e-01, -7.8561e-01, -3.4026e-01, -2.2249e-02, -1.2870e-01,\n",
              "         -8.8326e-01, -2.4098e-01, -5.4460e-01,  5.4195e-01, -3.5094e-02,\n",
              "          2.3534e-01, -5.4544e-01,  1.7431e-01, -1.8514e-01,  2.6445e-02,\n",
              "          5.8530e-01, -8.7326e-01, -5.7895e-01, -4.3347e-01, -4.6604e-01,\n",
              "         -1.8402e-01, -9.0452e-01,  9.0007e-01, -1.7885e-01, -9.5003e-02,\n",
              "          1.0000e+00,  4.7583e-03, -6.5510e-01,  2.6943e-01,  1.1808e-01,\n",
              "         -5.4386e-01,  9.9999e-01,  6.0091e-01, -9.3450e-01, -5.2274e-01,\n",
              "          4.3870e-01, -2.5287e-01, -3.0498e-01,  9.9709e-01, -4.0611e-02,\n",
              "          2.4581e-01,  4.7828e-01,  9.4663e-01, -9.7247e-01,  8.1029e-01,\n",
              "         -7.9343e-01, -8.6404e-01,  8.8172e-01,  7.8698e-01,  1.0121e-01,\n",
              "         -5.9148e-01,  2.0466e-02, -4.9582e-01,  2.1999e-01, -8.2952e-01,\n",
              "          4.1616e-01,  2.2783e-01, -8.0178e-02,  7.4871e-01, -6.3431e-01,\n",
              "         -4.8226e-01,  2.8744e-01,  6.9211e-02,  3.8889e-01,  3.3128e-01,\n",
              "          3.0463e-01, -2.9300e-01, -1.7760e-02, -1.7751e-01,  4.9430e-02,\n",
              "         -8.8667e-01,  1.9885e-01,  9.9999e-01,  1.7452e-01, -9.7223e-02,\n",
              "         -1.7711e-01, -2.1599e-03, -3.0630e-01,  2.3207e-01,  1.8395e-01,\n",
              "         -2.7286e-01, -6.3672e-01, -3.4035e-01, -5.3916e-01, -9.6391e-01,\n",
              "          5.1648e-01,  9.7602e-02, -2.2917e-01,  9.9602e-01,  1.6552e-02,\n",
              "          2.6313e-01, -3.0037e-01, -3.3350e-01,  1.3632e-02,  1.9361e-01,\n",
              "         -3.2198e-01,  9.1163e-01, -2.2851e-01,  5.7022e-01,  5.9941e-01,\n",
              "          7.4994e-02, -2.0680e-01, -4.5809e-01,  6.3209e-02, -8.3790e-01,\n",
              "          7.1614e-02, -8.6818e-01,  8.7653e-01,  1.6385e-01,  1.8630e-01,\n",
              "          1.2124e-01, -1.0162e-01,  1.0000e+00, -2.7548e-01,  4.8201e-01,\n",
              "         -5.3952e-02,  5.7961e-01, -9.5400e-01, -4.3384e-01, -2.5883e-01,\n",
              "         -3.4314e-02,  1.2574e-01, -2.1266e-01,  1.7970e-01, -9.3020e-01,\n",
              "         -1.4715e-01, -2.4252e-01, -8.5095e-01, -9.5463e-01,  2.5337e-01,\n",
              "          4.3103e-01,  1.5375e-02, -5.5638e-01, -2.9885e-01, -3.4890e-01,\n",
              "         -2.6020e-01, -1.3950e-01, -7.9819e-01,  5.5260e-01, -2.1877e-02,\n",
              "          4.0459e-01, -1.7255e-01,  5.2131e-01,  8.5320e-02,  6.7295e-01,\n",
              "          7.4503e-02, -2.1058e-02, -9.1110e-02, -7.1536e-01,  5.2921e-01,\n",
              "         -5.8603e-01,  1.2070e-01, -7.1402e-02,  1.0000e+00, -1.8619e-01,\n",
              "          3.3066e-01,  6.5908e-01,  3.1815e-01, -9.0226e-02,  1.8827e-01,\n",
              "          5.3176e-01,  8.8123e-02,  4.4586e-02,  3.6335e-01, -1.1753e-01,\n",
              "         -2.9355e-01,  3.9449e-01, -3.3740e-01,  2.7148e-01,  5.3836e-01,\n",
              "          7.3558e-02,  6.2282e-02,  7.7605e-02,  3.1131e-03,  9.4468e-01,\n",
              "         -1.1951e-01,  1.9647e-01, -3.4394e-01, -1.4779e-01, -1.6063e-01,\n",
              "         -2.1307e-01,  9.9997e-01,  2.5568e-01,  8.3737e-02, -9.6913e-01,\n",
              "          2.8408e-01, -7.6988e-01,  9.9886e-01,  7.3810e-01, -6.8645e-01,\n",
              "          4.6575e-01,  2.6015e-01, -1.3124e-01,  3.7662e-01, -1.4328e-01,\n",
              "         -1.8536e-01,  1.0829e-01,  4.6146e-02,  8.6297e-01, -2.6136e-01,\n",
              "         -8.9905e-01, -4.8651e-01,  9.7678e-02, -8.2571e-01,  9.7468e-01,\n",
              "         -3.4111e-01, -1.1682e-01, -1.8668e-01,  1.6491e-01,  4.2646e-01,\n",
              "         -9.6803e-02, -9.1600e-01, -1.0791e-02, -6.2883e-02,  8.8953e-01,\n",
              "          1.5581e-01, -5.5449e-01, -8.2096e-01, -1.9312e-01, -3.1388e-02,\n",
              "          3.2342e-01, -8.0457e-01,  9.0408e-01, -9.0710e-01,  1.8740e-01,\n",
              "          9.9991e-01,  2.1751e-01, -5.6017e-01,  4.5413e-02, -4.0626e-01,\n",
              "          1.6015e-01, -4.4024e-04,  2.0719e-01, -7.9911e-01, -7.7472e-02,\n",
              "         -1.3844e-01,  1.1243e-01, -6.0730e-02, -1.5571e-02,  4.8273e-01,\n",
              "          1.8144e-01, -4.3821e-01, -4.7139e-01,  9.9199e-02,  2.9976e-01,\n",
              "          5.8876e-01, -1.6962e-01, -8.4234e-02,  9.9142e-02, -5.5495e-03,\n",
              "         -7.9178e-01, -1.1667e-01, -2.4409e-01, -9.9363e-01,  4.5219e-01,\n",
              "         -1.0000e+00, -1.0986e-01, -2.4162e-01, -8.8145e-02,  6.5391e-01,\n",
              "         -2.5619e-01, -7.0930e-02, -3.6477e-01,  3.4117e-01,  6.3075e-01,\n",
              "          5.4695e-01, -1.3298e-01,  2.9794e-01, -6.2323e-01,  1.1402e-01,\n",
              "          7.9014e-02,  1.2442e-02, -7.7945e-02,  6.5315e-01,  1.7840e-02,\n",
              "          1.0000e+00,  3.5107e-02, -2.1208e-01, -7.9998e-01,  3.1289e-01,\n",
              "         -1.8209e-01,  9.9975e-01, -6.8009e-01, -8.7348e-01,  2.7882e-01,\n",
              "         -2.7664e-01, -6.6322e-01,  1.2724e-01, -8.4532e-02, -4.6162e-01,\n",
              "         -1.0637e-01,  7.8092e-01,  6.3328e-01, -4.8361e-01,  1.8937e-01,\n",
              "         -1.9007e-01, -1.3642e-01,  1.0377e-01, -1.8017e-01,  9.5514e-01,\n",
              "          5.1802e-02,  6.8757e-01,  6.6875e-01,  1.3946e-01,  8.3009e-01,\n",
              "          1.6538e-01,  4.5820e-01,  1.3241e-01,  9.9995e-01,  2.0771e-01,\n",
              "         -8.7823e-01,  1.8205e-01, -9.2761e-01, -1.9267e-01, -8.7508e-01,\n",
              "          1.5930e-01,  1.3786e-01,  6.8480e-01, -1.5570e-01,  8.6455e-01,\n",
              "          5.3414e-01,  7.6369e-03,  3.2859e-01,  2.0838e-01,  2.4584e-01,\n",
              "         -7.4241e-01, -9.4786e-01, -9.5872e-01,  1.5753e-01, -2.7083e-01,\n",
              "         -8.2613e-02,  1.3499e-01,  2.1748e-02,  2.7088e-01,  2.4189e-01,\n",
              "         -9.9996e-01,  8.3586e-01,  2.5933e-01,  1.0678e-01,  8.9774e-01,\n",
              "          9.0567e-02,  9.0879e-02,  2.1838e-01, -9.5739e-01, -5.9308e-01,\n",
              "         -1.9460e-01, -1.7856e-01,  7.2972e-01,  5.1175e-01,  5.8878e-01,\n",
              "          1.1571e-01, -3.5040e-01, -2.7180e-02,  9.1828e-02, -6.7692e-02,\n",
              "         -9.6590e-01,  3.6369e-01,  2.6175e-01, -8.0551e-01,  9.0250e-01,\n",
              "         -2.5551e-01, -9.7082e-02,  4.3333e-01, -1.0694e-01,  8.0534e-01,\n",
              "          7.0436e-01,  3.3163e-01,  3.2039e-02,  5.3630e-01,  6.9163e-01,\n",
              "          8.6880e-01,  9.6349e-01, -2.1005e-01,  4.4833e-01,  1.6508e-01,\n",
              "          2.4538e-01,  5.2173e-01, -8.6142e-01,  1.0449e-01, -2.3858e-01,\n",
              "         -2.1679e-01,  2.1317e-01, -1.7173e-01, -8.1463e-01,  6.2196e-01,\n",
              "         -2.1058e-01,  3.9717e-01, -2.8856e-01,  1.4761e-01, -4.0514e-01,\n",
              "         -1.0816e-01, -6.2574e-01, -2.8566e-01,  5.4300e-01,  4.0778e-02,\n",
              "          8.0073e-01,  1.4170e-01, -1.0069e-02, -3.8135e-01, -1.1162e-01,\n",
              "         -8.6691e-02, -8.4575e-01,  6.7924e-01, -3.4376e-03,  1.1178e-02,\n",
              "          1.5539e-01, -1.2589e-01,  6.4040e-01,  1.0458e-02, -2.3142e-01,\n",
              "         -9.9318e-02, -6.7781e-01,  5.7293e-01,  5.5400e-02, -3.5847e-01,\n",
              "         -3.1737e-01,  4.1929e-01,  2.4599e-01,  9.8970e-01, -3.7417e-02,\n",
              "          1.3552e-01, -8.1168e-03, -1.1477e-01,  3.1767e-01, -2.4262e-01,\n",
              "         -9.9997e-01,  2.1651e-01,  1.3849e-01,  1.2890e-01,  2.7329e-01,\n",
              "          3.5981e-02,  1.7165e-02, -8.5936e-01, -1.1361e-01, -4.8879e-02,\n",
              "         -9.9840e-02, -4.1963e-01,  4.3586e-03,  5.1168e-01,  4.3560e-01,\n",
              "         -1.1484e-01,  7.4651e-01,  6.8226e-02,  3.2632e-01,  5.4791e-01,\n",
              "         -8.4746e-02, -4.5775e-01,  7.2282e-01]])"
            ]
          },
          "metadata": {},
          "execution_count": 32
        }
      ]
    },
    {
      "cell_type": "code",
      "source": [
        "similarities=cosine_similarity(answer)\n",
        "similarities"
      ],
      "metadata": {
        "colab": {
          "base_uri": "https://localhost:8080/"
        },
        "id": "7o7JuPEMkJ2x",
        "outputId": "4920d3bc-6023-4c7d-96f9-ed933c63cc24"
      },
      "execution_count": null,
      "outputs": [
        {
          "output_type": "execute_result",
          "data": {
            "text/plain": [
              "array([[1.]], dtype=float32)"
            ]
          },
          "metadata": {},
          "execution_count": 35
        }
      ]
    },
    {
      "cell_type": "code",
      "source": [],
      "metadata": {
        "id": "tJMiMpwKlKe0"
      },
      "execution_count": null,
      "outputs": []
    },
    {
      "cell_type": "markdown",
      "source": [
        "# Fine-tuning BART using CLS"
      ],
      "metadata": {
        "id": "e2a80RAAzxOz"
      }
    },
    {
      "cell_type": "code",
      "source": [
        "!pip install torchtext==0.8.0 torch==1.7.1 pytorch-lightning==1.2.2"
      ],
      "metadata": {
        "colab": {
          "base_uri": "https://localhost:8080/"
        },
        "id": "aQzdr2sPHp5r",
        "outputId": "9b9c5ae7-34dc-4c78-8979-7d403b8d8470"
      },
      "execution_count": null,
      "outputs": [
        {
          "output_type": "stream",
          "name": "stdout",
          "text": [
            "Looking in indexes: https://pypi.org/simple, https://us-python.pkg.dev/colab-wheels/public/simple/\n",
            "Collecting torchtext==0.8.0\n",
            "  Downloading torchtext-0.8.0-cp38-cp38-manylinux1_x86_64.whl (7.0 MB)\n",
            "\u001b[2K     \u001b[90m━━━━━━━━━━━━━━━━━━━━━━━━━━━━━━━━━━━━━━━━\u001b[0m \u001b[32m7.0/7.0 MB\u001b[0m \u001b[31m36.8 MB/s\u001b[0m eta \u001b[36m0:00:00\u001b[0m\n",
            "\u001b[?25hCollecting torch==1.7.1\n",
            "  Downloading torch-1.7.1-cp38-cp38-manylinux1_x86_64.whl (776.8 MB)\n",
            "\u001b[2K     \u001b[90m━━━━━━━━━━━━━━━━━━━━━━━━━━━━━━━━━━━━━━━\u001b[0m \u001b[32m776.8/776.8 MB\u001b[0m \u001b[31m1.8 MB/s\u001b[0m eta \u001b[36m0:00:00\u001b[0m\n",
            "\u001b[?25hCollecting pytorch-lightning==1.2.2\n",
            "  Downloading pytorch_lightning-1.2.2-py3-none-any.whl (816 kB)\n",
            "\u001b[2K     \u001b[90m━━━━━━━━━━━━━━━━━━━━━━━━━━━━━━━━━━━━━━\u001b[0m \u001b[32m816.5/816.5 KB\u001b[0m \u001b[31m23.0 MB/s\u001b[0m eta \u001b[36m0:00:00\u001b[0m\n",
            "\u001b[?25hRequirement already satisfied: numpy in /usr/local/lib/python3.8/dist-packages (from torchtext==0.8.0) (1.21.6)\n",
            "Requirement already satisfied: tqdm in /usr/local/lib/python3.8/dist-packages (from torchtext==0.8.0) (4.64.1)\n",
            "Requirement already satisfied: requests in /usr/local/lib/python3.8/dist-packages (from torchtext==0.8.0) (2.25.1)\n",
            "Requirement already satisfied: typing-extensions in /usr/local/lib/python3.8/dist-packages (from torch==1.7.1) (4.4.0)\n",
            "Requirement already satisfied: tensorboard>=2.2.0 in /usr/local/lib/python3.8/dist-packages (from pytorch-lightning==1.2.2) (2.9.1)\n",
            "Requirement already satisfied: fsspec[http]>=0.8.1 in /usr/local/lib/python3.8/dist-packages (from pytorch-lightning==1.2.2) (2023.1.0)\n",
            "Requirement already satisfied: PyYAML!=5.4.*,>=5.1 in /usr/local/lib/python3.8/dist-packages (from pytorch-lightning==1.2.2) (6.0)\n",
            "Collecting future>=0.17.1\n",
            "  Downloading future-0.18.3.tar.gz (840 kB)\n",
            "\u001b[2K     \u001b[90m━━━━━━━━━━━━━━━━━━━━━━━━━━━━━━━━━━━━━━\u001b[0m \u001b[32m840.9/840.9 KB\u001b[0m \u001b[31m31.2 MB/s\u001b[0m eta \u001b[36m0:00:00\u001b[0m\n",
            "\u001b[?25h  Preparing metadata (setup.py) ... \u001b[?25l\u001b[?25hdone\n",
            "Requirement already satisfied: aiohttp!=4.0.0a0,!=4.0.0a1 in /usr/local/lib/python3.8/dist-packages (from fsspec[http]>=0.8.1->pytorch-lightning==1.2.2) (3.8.3)\n",
            "Requirement already satisfied: google-auth-oauthlib<0.5,>=0.4.1 in /usr/local/lib/python3.8/dist-packages (from tensorboard>=2.2.0->pytorch-lightning==1.2.2) (0.4.6)\n",
            "Requirement already satisfied: tensorboard-data-server<0.7.0,>=0.6.0 in /usr/local/lib/python3.8/dist-packages (from tensorboard>=2.2.0->pytorch-lightning==1.2.2) (0.6.1)\n",
            "Requirement already satisfied: absl-py>=0.4 in /usr/local/lib/python3.8/dist-packages (from tensorboard>=2.2.0->pytorch-lightning==1.2.2) (1.4.0)\n",
            "Requirement already satisfied: grpcio>=1.24.3 in /usr/local/lib/python3.8/dist-packages (from tensorboard>=2.2.0->pytorch-lightning==1.2.2) (1.51.1)\n",
            "Requirement already satisfied: tensorboard-plugin-wit>=1.6.0 in /usr/local/lib/python3.8/dist-packages (from tensorboard>=2.2.0->pytorch-lightning==1.2.2) (1.8.1)\n",
            "Requirement already satisfied: markdown>=2.6.8 in /usr/local/lib/python3.8/dist-packages (from tensorboard>=2.2.0->pytorch-lightning==1.2.2) (3.4.1)\n",
            "Requirement already satisfied: werkzeug>=1.0.1 in /usr/local/lib/python3.8/dist-packages (from tensorboard>=2.2.0->pytorch-lightning==1.2.2) (1.0.1)\n",
            "Requirement already satisfied: google-auth<3,>=1.6.3 in /usr/local/lib/python3.8/dist-packages (from tensorboard>=2.2.0->pytorch-lightning==1.2.2) (2.16.0)\n",
            "Requirement already satisfied: protobuf<3.20,>=3.9.2 in /usr/local/lib/python3.8/dist-packages (from tensorboard>=2.2.0->pytorch-lightning==1.2.2) (3.19.6)\n",
            "Requirement already satisfied: setuptools>=41.0.0 in /usr/local/lib/python3.8/dist-packages (from tensorboard>=2.2.0->pytorch-lightning==1.2.2) (57.4.0)\n",
            "Requirement already satisfied: wheel>=0.26 in /usr/local/lib/python3.8/dist-packages (from tensorboard>=2.2.0->pytorch-lightning==1.2.2) (0.38.4)\n",
            "Requirement already satisfied: chardet<5,>=3.0.2 in /usr/local/lib/python3.8/dist-packages (from requests->torchtext==0.8.0) (4.0.0)\n",
            "Requirement already satisfied: idna<3,>=2.5 in /usr/local/lib/python3.8/dist-packages (from requests->torchtext==0.8.0) (2.10)\n",
            "Requirement already satisfied: urllib3<1.27,>=1.21.1 in /usr/local/lib/python3.8/dist-packages (from requests->torchtext==0.8.0) (1.24.3)\n",
            "Requirement already satisfied: certifi>=2017.4.17 in /usr/local/lib/python3.8/dist-packages (from requests->torchtext==0.8.0) (2022.12.7)\n",
            "Requirement already satisfied: multidict<7.0,>=4.5 in /usr/local/lib/python3.8/dist-packages (from aiohttp!=4.0.0a0,!=4.0.0a1->fsspec[http]>=0.8.1->pytorch-lightning==1.2.2) (6.0.4)\n",
            "Requirement already satisfied: async-timeout<5.0,>=4.0.0a3 in /usr/local/lib/python3.8/dist-packages (from aiohttp!=4.0.0a0,!=4.0.0a1->fsspec[http]>=0.8.1->pytorch-lightning==1.2.2) (4.0.2)\n",
            "Requirement already satisfied: aiosignal>=1.1.2 in /usr/local/lib/python3.8/dist-packages (from aiohttp!=4.0.0a0,!=4.0.0a1->fsspec[http]>=0.8.1->pytorch-lightning==1.2.2) (1.3.1)\n",
            "Requirement already satisfied: charset-normalizer<3.0,>=2.0 in /usr/local/lib/python3.8/dist-packages (from aiohttp!=4.0.0a0,!=4.0.0a1->fsspec[http]>=0.8.1->pytorch-lightning==1.2.2) (2.1.1)\n",
            "Requirement already satisfied: frozenlist>=1.1.1 in /usr/local/lib/python3.8/dist-packages (from aiohttp!=4.0.0a0,!=4.0.0a1->fsspec[http]>=0.8.1->pytorch-lightning==1.2.2) (1.3.3)\n",
            "Requirement already satisfied: yarl<2.0,>=1.0 in /usr/local/lib/python3.8/dist-packages (from aiohttp!=4.0.0a0,!=4.0.0a1->fsspec[http]>=0.8.1->pytorch-lightning==1.2.2) (1.8.2)\n",
            "Requirement already satisfied: attrs>=17.3.0 in /usr/local/lib/python3.8/dist-packages (from aiohttp!=4.0.0a0,!=4.0.0a1->fsspec[http]>=0.8.1->pytorch-lightning==1.2.2) (22.2.0)\n",
            "Requirement already satisfied: six>=1.9.0 in /usr/local/lib/python3.8/dist-packages (from google-auth<3,>=1.6.3->tensorboard>=2.2.0->pytorch-lightning==1.2.2) (1.15.0)\n",
            "Requirement already satisfied: pyasn1-modules>=0.2.1 in /usr/local/lib/python3.8/dist-packages (from google-auth<3,>=1.6.3->tensorboard>=2.2.0->pytorch-lightning==1.2.2) (0.2.8)\n",
            "Requirement already satisfied: rsa<5,>=3.1.4 in /usr/local/lib/python3.8/dist-packages (from google-auth<3,>=1.6.3->tensorboard>=2.2.0->pytorch-lightning==1.2.2) (4.9)\n",
            "Requirement already satisfied: cachetools<6.0,>=2.0.0 in /usr/local/lib/python3.8/dist-packages (from google-auth<3,>=1.6.3->tensorboard>=2.2.0->pytorch-lightning==1.2.2) (5.3.0)\n",
            "Requirement already satisfied: requests-oauthlib>=0.7.0 in /usr/local/lib/python3.8/dist-packages (from google-auth-oauthlib<0.5,>=0.4.1->tensorboard>=2.2.0->pytorch-lightning==1.2.2) (1.3.1)\n",
            "Requirement already satisfied: importlib-metadata>=4.4 in /usr/local/lib/python3.8/dist-packages (from markdown>=2.6.8->tensorboard>=2.2.0->pytorch-lightning==1.2.2) (6.0.0)\n",
            "Requirement already satisfied: zipp>=0.5 in /usr/local/lib/python3.8/dist-packages (from importlib-metadata>=4.4->markdown>=2.6.8->tensorboard>=2.2.0->pytorch-lightning==1.2.2) (3.12.0)\n",
            "Requirement already satisfied: pyasn1<0.5.0,>=0.4.6 in /usr/local/lib/python3.8/dist-packages (from pyasn1-modules>=0.2.1->google-auth<3,>=1.6.3->tensorboard>=2.2.0->pytorch-lightning==1.2.2) (0.4.8)\n",
            "Requirement already satisfied: oauthlib>=3.0.0 in /usr/local/lib/python3.8/dist-packages (from requests-oauthlib>=0.7.0->google-auth-oauthlib<0.5,>=0.4.1->tensorboard>=2.2.0->pytorch-lightning==1.2.2) (3.2.2)\n",
            "Building wheels for collected packages: future\n",
            "  Building wheel for future (setup.py) ... \u001b[?25l\u001b[?25hdone\n",
            "  Created wheel for future: filename=future-0.18.3-py3-none-any.whl size=492036 sha256=59fe809e4ccc4986c58f1863962870296892c221efd65801dfff68ee0d2a8f86\n",
            "  Stored in directory: /root/.cache/pip/wheels/a0/0b/ee/e6994fadb42c1354dcccb139b0bf2795271bddfe6253ccdf11\n",
            "Successfully built future\n",
            "Installing collected packages: torch, future, torchtext, pytorch-lightning\n",
            "  Attempting uninstall: torch\n",
            "    Found existing installation: torch 1.13.1+cu116\n",
            "    Uninstalling torch-1.13.1+cu116:\n",
            "      Successfully uninstalled torch-1.13.1+cu116\n",
            "  Attempting uninstall: future\n",
            "    Found existing installation: future 0.16.0\n",
            "    Uninstalling future-0.16.0:\n",
            "      Successfully uninstalled future-0.16.0\n",
            "  Attempting uninstall: torchtext\n",
            "    Found existing installation: torchtext 0.14.1\n",
            "    Uninstalling torchtext-0.14.1:\n",
            "      Successfully uninstalled torchtext-0.14.1\n",
            "\u001b[31mERROR: pip's dependency resolver does not currently take into account all the packages that are installed. This behaviour is the source of the following dependency conflicts.\n",
            "torchvision 0.14.1+cu116 requires torch==1.13.1, but you have torch 1.7.1 which is incompatible.\n",
            "torchaudio 0.13.1+cu116 requires torch==1.13.1, but you have torch 1.7.1 which is incompatible.\u001b[0m\u001b[31m\n",
            "\u001b[0mSuccessfully installed future-0.18.3 pytorch-lightning-1.2.2 torch-1.7.1 torchtext-0.8.0\n"
          ]
        }
      ]
    },
    {
      "cell_type": "code",
      "source": [
        "import pytorch_lightning as pl\n",
        "print(pl.__version__)"
      ],
      "metadata": {
        "colab": {
          "base_uri": "https://localhost:8080/"
        },
        "id": "4TWTofj_Hr2E",
        "outputId": "1f7a80b5-9704-4438-d387-dc0927b34a2c"
      },
      "execution_count": null,
      "outputs": [
        {
          "output_type": "stream",
          "name": "stdout",
          "text": [
            "1.2.2\n"
          ]
        }
      ]
    },
    {
      "cell_type": "code",
      "source": [
        "from torch.utils.data import DataLoader, TensorDataset, random_split, RandomSampler, Dataset\n",
        "import torch.nn.functional as F\n",
        "import pytorch_lightning as pl\n",
        "import torch\n",
        "from pytorch_lightning.callbacks import ModelCheckpoint"
      ],
      "metadata": {
        "id": "ukeI_bwa5XHY"
      },
      "execution_count": null,
      "outputs": []
    },
    {
      "cell_type": "code",
      "source": [
        "filename = \"/content/FD_CLS.xlsx\"\n",
        "\n",
        "data = pd.read_excel(filename,index_col=0)\n",
        "data.rename(columns = {'data':'source', 'summary':'target'}, inplace = True)"
      ],
      "metadata": {
        "id": "9VQCnR_H2G93"
      },
      "execution_count": null,
      "outputs": []
    },
    {
      "cell_type": "code",
      "source": [
        "data.shape"
      ],
      "metadata": {
        "colab": {
          "base_uri": "https://localhost:8080/"
        },
        "id": "evv2ajlkITzK",
        "outputId": "7bae0b39-9bde-4478-cdf1-e131618ce5ea"
      },
      "execution_count": null,
      "outputs": [
        {
          "output_type": "execute_result",
          "data": {
            "text/plain": [
              "(6, 2)"
            ]
          },
          "metadata": {},
          "execution_count": 39
        }
      ]
    },
    {
      "cell_type": "code",
      "source": [
        "data"
      ],
      "metadata": {
        "colab": {
          "base_uri": "https://localhost:8080/",
          "height": 238
        },
        "id": "djaBzB8pIVRC",
        "outputId": "ed07b478-3dfd-4d7a-e0d8-18836b53f621"
      },
      "execution_count": null,
      "outputs": [
        {
          "output_type": "execute_result",
          "data": {
            "text/plain": [
              "                                              source  \\\n",
              "0  The learned Chief Justice rejected the argumen...   \n",
              "1  This passage, which was relied on by the learn...   \n",
              "2  It was held that the equal protection clause c...   \n",
              "3  The meaning, scope and effect of 334 article 1...   \n",
              "4  N: Criminal Appeal No. 8 of 1951. Appeal from ...   \n",
              "5  The section which consists of two parts is in ...   \n",
              "\n",
              "                                              target  \n",
              "0  (vi) The notification issued under the Act in ...  \n",
              "1  Per FAZL ALl, MAHAJAN, MUKHERJEA and CHANDRASE...  \n",
              "2  5 (1) clearly and unambigu ously vests the Sta...  \n",
              "3  5(1) which empowers the State Government to di...  \n",
              "4  Sub section (1) of sec.(2) provided that any t...  \n",
              "5  19 of the Bombay Rents, Hotel and Lodging Hous...  "
            ],
            "text/html": [
              "\n",
              "  <div id=\"df-c463cced-880e-4b65-affb-3f29a3e8da51\">\n",
              "    <div class=\"colab-df-container\">\n",
              "      <div>\n",
              "<style scoped>\n",
              "    .dataframe tbody tr th:only-of-type {\n",
              "        vertical-align: middle;\n",
              "    }\n",
              "\n",
              "    .dataframe tbody tr th {\n",
              "        vertical-align: top;\n",
              "    }\n",
              "\n",
              "    .dataframe thead th {\n",
              "        text-align: right;\n",
              "    }\n",
              "</style>\n",
              "<table border=\"1\" class=\"dataframe\">\n",
              "  <thead>\n",
              "    <tr style=\"text-align: right;\">\n",
              "      <th></th>\n",
              "      <th>source</th>\n",
              "      <th>target</th>\n",
              "    </tr>\n",
              "  </thead>\n",
              "  <tbody>\n",
              "    <tr>\n",
              "      <th>0</th>\n",
              "      <td>The learned Chief Justice rejected the argumen...</td>\n",
              "      <td>(vi) The notification issued under the Act in ...</td>\n",
              "    </tr>\n",
              "    <tr>\n",
              "      <th>1</th>\n",
              "      <td>This passage, which was relied on by the learn...</td>\n",
              "      <td>Per FAZL ALl, MAHAJAN, MUKHERJEA and CHANDRASE...</td>\n",
              "    </tr>\n",
              "    <tr>\n",
              "      <th>2</th>\n",
              "      <td>It was held that the equal protection clause c...</td>\n",
              "      <td>5 (1) clearly and unambigu ously vests the Sta...</td>\n",
              "    </tr>\n",
              "    <tr>\n",
              "      <th>3</th>\n",
              "      <td>The meaning, scope and effect of 334 article 1...</td>\n",
              "      <td>5(1) which empowers the State Government to di...</td>\n",
              "    </tr>\n",
              "    <tr>\n",
              "      <th>4</th>\n",
              "      <td>N: Criminal Appeal No. 8 of 1951. Appeal from ...</td>\n",
              "      <td>Sub section (1) of sec.(2) provided that any t...</td>\n",
              "    </tr>\n",
              "    <tr>\n",
              "      <th>5</th>\n",
              "      <td>The section which consists of two parts is in ...</td>\n",
              "      <td>19 of the Bombay Rents, Hotel and Lodging Hous...</td>\n",
              "    </tr>\n",
              "  </tbody>\n",
              "</table>\n",
              "</div>\n",
              "      <button class=\"colab-df-convert\" onclick=\"convertToInteractive('df-c463cced-880e-4b65-affb-3f29a3e8da51')\"\n",
              "              title=\"Convert this dataframe to an interactive table.\"\n",
              "              style=\"display:none;\">\n",
              "        \n",
              "  <svg xmlns=\"http://www.w3.org/2000/svg\" height=\"24px\"viewBox=\"0 0 24 24\"\n",
              "       width=\"24px\">\n",
              "    <path d=\"M0 0h24v24H0V0z\" fill=\"none\"/>\n",
              "    <path d=\"M18.56 5.44l.94 2.06.94-2.06 2.06-.94-2.06-.94-.94-2.06-.94 2.06-2.06.94zm-11 1L8.5 8.5l.94-2.06 2.06-.94-2.06-.94L8.5 2.5l-.94 2.06-2.06.94zm10 10l.94 2.06.94-2.06 2.06-.94-2.06-.94-.94-2.06-.94 2.06-2.06.94z\"/><path d=\"M17.41 7.96l-1.37-1.37c-.4-.4-.92-.59-1.43-.59-.52 0-1.04.2-1.43.59L10.3 9.45l-7.72 7.72c-.78.78-.78 2.05 0 2.83L4 21.41c.39.39.9.59 1.41.59.51 0 1.02-.2 1.41-.59l7.78-7.78 2.81-2.81c.8-.78.8-2.07 0-2.86zM5.41 20L4 18.59l7.72-7.72 1.47 1.35L5.41 20z\"/>\n",
              "  </svg>\n",
              "      </button>\n",
              "      \n",
              "  <style>\n",
              "    .colab-df-container {\n",
              "      display:flex;\n",
              "      flex-wrap:wrap;\n",
              "      gap: 12px;\n",
              "    }\n",
              "\n",
              "    .colab-df-convert {\n",
              "      background-color: #E8F0FE;\n",
              "      border: none;\n",
              "      border-radius: 50%;\n",
              "      cursor: pointer;\n",
              "      display: none;\n",
              "      fill: #1967D2;\n",
              "      height: 32px;\n",
              "      padding: 0 0 0 0;\n",
              "      width: 32px;\n",
              "    }\n",
              "\n",
              "    .colab-df-convert:hover {\n",
              "      background-color: #E2EBFA;\n",
              "      box-shadow: 0px 1px 2px rgba(60, 64, 67, 0.3), 0px 1px 3px 1px rgba(60, 64, 67, 0.15);\n",
              "      fill: #174EA6;\n",
              "    }\n",
              "\n",
              "    [theme=dark] .colab-df-convert {\n",
              "      background-color: #3B4455;\n",
              "      fill: #D2E3FC;\n",
              "    }\n",
              "\n",
              "    [theme=dark] .colab-df-convert:hover {\n",
              "      background-color: #434B5C;\n",
              "      box-shadow: 0px 1px 3px 1px rgba(0, 0, 0, 0.15);\n",
              "      filter: drop-shadow(0px 1px 2px rgba(0, 0, 0, 0.3));\n",
              "      fill: #FFFFFF;\n",
              "    }\n",
              "  </style>\n",
              "\n",
              "      <script>\n",
              "        const buttonEl =\n",
              "          document.querySelector('#df-c463cced-880e-4b65-affb-3f29a3e8da51 button.colab-df-convert');\n",
              "        buttonEl.style.display =\n",
              "          google.colab.kernel.accessAllowed ? 'block' : 'none';\n",
              "\n",
              "        async function convertToInteractive(key) {\n",
              "          const element = document.querySelector('#df-c463cced-880e-4b65-affb-3f29a3e8da51');\n",
              "          const dataTable =\n",
              "            await google.colab.kernel.invokeFunction('convertToInteractive',\n",
              "                                                     [key], {});\n",
              "          if (!dataTable) return;\n",
              "\n",
              "          const docLinkHtml = 'Like what you see? Visit the ' +\n",
              "            '<a target=\"_blank\" href=https://colab.research.google.com/notebooks/data_table.ipynb>data table notebook</a>'\n",
              "            + ' to learn more about interactive tables.';\n",
              "          element.innerHTML = '';\n",
              "          dataTable['output_type'] = 'display_data';\n",
              "          await google.colab.output.renderOutput(dataTable, element);\n",
              "          const docLink = document.createElement('div');\n",
              "          docLink.innerHTML = docLinkHtml;\n",
              "          element.appendChild(docLink);\n",
              "        }\n",
              "      </script>\n",
              "    </div>\n",
              "  </div>\n",
              "  "
            ]
          },
          "metadata": {},
          "execution_count": 40
        }
      ]
    },
    {
      "cell_type": "code",
      "source": [
        "class SummaryDataModule(pl.LightningDataModule):\n",
        "  def __init__(self, tokenizer, df, batch_size):\n",
        "    super().__init__()\n",
        "    self.tokenizer = tokenizer\n",
        "    self.batch_size = batch_size\n",
        "    self.data = df\n",
        "\n",
        "  # Loads and splits the data into training, validation and test sets with a 60/20/20 split\n",
        "  def prepare_data(self):\n",
        "    self.train, self.validate, self.test = np.split(self.data.sample(frac=1), [int(.6*len(self.data)), int(.8*len(self.data))])\n",
        "\n",
        "  # encode the sentences using the tokenizer\n",
        "  def setup(self, stage):\n",
        "    self.train = encode_sentences(self.tokenizer, self.train['source'], self.train['target'])\n",
        "    self.validate = encode_sentences(self.tokenizer, self.validate['source'], self.validate['target'])\n",
        "    self.test = encode_sentences(self.tokenizer, self.test['source'], self.test['target'])\n",
        "\n",
        "  # Load the training, validation and test sets in Pytorch Dataset objects\n",
        "  def train_dataloader(self):\n",
        "    dataset = TensorDataset(self.train['input_ids'], self.train['attention_mask'], self.train['labels'])\n",
        "    train_data = DataLoader(dataset, sampler = RandomSampler(dataset), batch_size = self.batch_size)\n",
        "    return train_data\n",
        "\n",
        "  def val_dataloader(self):\n",
        "    dataset = TensorDataset(self.validate['input_ids'], self.validate['attention_mask'], self.validate['labels'])\n",
        "    val_data = DataLoader(dataset, batch_size = self.batch_size)\n",
        "    return val_data\n",
        "\n",
        "  def test_dataloader(self):\n",
        "    dataset = TensorDataset(self.test['input_ids'], self.test['attention_mask'], self.test['labels'])\n",
        "    test_data = DataLoader(dataset, batch_size = self.batch_size)\n",
        "    return test_data"
      ],
      "metadata": {
        "id": "rpvy2WqC49Pn"
      },
      "execution_count": null,
      "outputs": []
    },
    {
      "cell_type": "code",
      "source": [
        "def encode_sentences(tokenizer, source_sentences, target_sentences, max_length=1024, min_length = 512, pad_to_max_length=True, return_tensors=\"pt\"):\n",
        "  ''' Function that tokenizes a sentence\n",
        "      Args: tokenizer - the BART tokenizer; source and target sentences are the source and target sentences\n",
        "      Returns: Dictionary with keys: input_ids, attention_mask, target_ids\n",
        "  '''\n",
        "\n",
        "  input_ids = []\n",
        "  attention_masks = []\n",
        "  target_ids = []\n",
        "  tokenized_sentences = {}\n",
        "\n",
        "  for sentence in source_sentences:\n",
        "    encoded_dict = tokenizer(\n",
        "          sentence,\n",
        "          max_length=max_length,\n",
        "          padding=\"max_length\" if pad_to_max_length else None,\n",
        "          truncation=True,\n",
        "          return_tensors=return_tensors,\n",
        "          add_prefix_space = True\n",
        "      )\n",
        "\n",
        "    input_ids.append(encoded_dict['input_ids'])\n",
        "    attention_masks.append(encoded_dict['attention_mask'])\n",
        "\n",
        "  input_ids = torch.cat(input_ids, dim = 0)\n",
        "  attention_masks = torch.cat(attention_masks, dim = 0)\n",
        "\n",
        "  for sentence in target_sentences:\n",
        "    encoded_dict = tokenizer(\n",
        "          sentence,\n",
        "          max_length=min_length,\n",
        "          padding=\"max_length\" if pad_to_max_length else None,\n",
        "          truncation=True,\n",
        "          return_tensors=return_tensors,\n",
        "          add_prefix_space = True\n",
        "      )\n",
        "    # Shift the target ids to the right\n",
        "    # shifted_target_ids = shift_tokens_right(encoded_dict['input_ids'], tokenizer.pad_token_id)\n",
        "    target_ids.append(encoded_dict['input_ids'])\n",
        "\n",
        "  target_ids = torch.cat(target_ids, dim = 0)\n",
        "\n",
        "\n",
        "  batch = {\n",
        "      \"input_ids\": input_ids,\n",
        "      \"attention_mask\": attention_masks,\n",
        "      \"labels\": target_ids,\n",
        "  }\n",
        "\n",
        "  return batch"
      ],
      "metadata": {
        "id": "0qFTw4ss5Mur"
      },
      "execution_count": null,
      "outputs": []
    },
    {
      "cell_type": "code",
      "source": [
        "class LitModel(pl.LightningModule):\n",
        "  # Instantiate the model\n",
        "  def __init__(self, learning_rate, tokenizer, model):\n",
        "    super().__init__()\n",
        "    self.tokenizer = tokenizer\n",
        "    self.model = model\n",
        "    self.learning_rate = learning_rate\n",
        "    # self.freeze_encoder = freeze_encoder\n",
        "    # self.freeze_embeds_ = freeze_embeds\n",
        "#     self.hparams = argparse.Namespace()\n",
        "\n",
        "    self.hparams.freeze_encoder = True\n",
        "    self.hparams.freeze_embeds = True\n",
        "    self.hparams.eval_beams = 4\n",
        "    # self.hparams = hparams\n",
        "\n",
        "    if self.hparams.freeze_encoder:\n",
        "      freeze_params(self.model.get_encoder())\n",
        "\n",
        "    if self.hparams.freeze_embeds:\n",
        "      self.freeze_embeds()\n",
        "\n",
        "  def freeze_embeds(self):\n",
        "    ''' freeze the positional embedding parameters of the model; adapted from finetune.py '''\n",
        "    freeze_params(self.model.model.shared)\n",
        "    for d in [self.model.model.encoder, self.model.model.decoder]:\n",
        "      freeze_params(d.embed_positions)\n",
        "      freeze_params(d.embed_tokens)\n",
        "\n",
        "  # Do a forward pass through the model\n",
        "  def forward(self, input_ids, **kwargs):\n",
        "    return self.model(input_ids, **kwargs)\n",
        "\n",
        "  def configure_optimizers(self):\n",
        "    optimizer = torch.optim.Adam(self.parameters(), lr = self.learning_rate)\n",
        "    return optimizer\n",
        "\n",
        "  def training_step(self, batch, batch_idx):\n",
        "    # Load the data into variables\n",
        "    src_ids, src_mask = batch[0], batch[1]\n",
        "    tgt_ids = batch[2]\n",
        "    # Shift the decoder tokens right (but NOT the tgt_ids)\n",
        "    decoder_input_ids = shift_tokens_right(tgt_ids, self.tokenizer.pad_token_id)\n",
        "\n",
        "    # Run the model and get the logits\n",
        "    outputs = self(src_ids, attention_mask=src_mask, decoder_input_ids=decoder_input_ids, use_cache=False)\n",
        "    lm_logits = outputs[0]\n",
        "    # Create the loss function\n",
        "    ce_loss_fct = torch.nn.CrossEntropyLoss(ignore_index=self.tokenizer.pad_token_id)\n",
        "    # Calculate the loss on the un-shifted tokens\n",
        "    loss = ce_loss_fct(lm_logits.view(-1, lm_logits.shape[-1]), tgt_ids.view(-1))\n",
        "\n",
        "    return {'loss':loss}\n",
        "\n",
        "  def validation_step(self, batch, batch_idx):\n",
        "\n",
        "    src_ids, src_mask = batch[0], batch[1]\n",
        "    tgt_ids = batch[2]\n",
        "\n",
        "    decoder_input_ids = shift_tokens_right(tgt_ids, self.tokenizer.pad_token_id)\n",
        "\n",
        "    # Run the model and get the logits\n",
        "    outputs = self(src_ids, attention_mask=src_mask, decoder_input_ids=decoder_input_ids, use_cache=False)\n",
        "    lm_logits = outputs[0]\n",
        "\n",
        "    ce_loss_fct = torch.nn.CrossEntropyLoss(ignore_index=self.tokenizer.pad_token_id)\n",
        "    val_loss = ce_loss_fct(lm_logits.view(-1, lm_logits.shape[-1]), tgt_ids.view(-1))\n",
        "\n",
        "    return {'loss': val_loss}\n",
        "\n",
        "  # Method that generates text using the BartForConditionalGeneration's generate() method\n",
        "  def generate_text(self, text, eval_beams, early_stopping = True, max_len = 1024):\n",
        "    ''' Function to generate text '''\n",
        "    generated_ids = self.model.generate(\n",
        "        text[\"input_ids\"],\n",
        "        attention_mask=text[\"attention_mask\"],\n",
        "        use_cache=True,\n",
        "        decoder_start_token_id = self.tokenizer.pad_token_id,\n",
        "        num_beams= eval_beams,\n",
        "        max_length = max_len,\n",
        "        early_stopping = early_stopping\n",
        "    )\n",
        "    return [self.tokenizer.decode(w, skip_special_tokens=True, clean_up_tokenization_spaces=True) for w in generated_ids]"
      ],
      "metadata": {
        "id": "gHcGUItT5xtT"
      },
      "execution_count": null,
      "outputs": []
    },
    {
      "cell_type": "code",
      "source": [
        "def shift_tokens_right(input_ids, pad_token_id):\n",
        "  \"\"\" Shift input ids one token to the right, and wrap the last non pad token (usually <eos>).\n",
        "      This is taken directly from modeling_bart.py\n",
        "  \"\"\"\n",
        "  prev_output_tokens = input_ids.clone()\n",
        "  index_of_eos = (input_ids.ne(pad_token_id).sum(dim=1) - 1).unsqueeze(-1)\n",
        "  prev_output_tokens[:, 0] = input_ids.gather(1, index_of_eos).squeeze()\n",
        "  prev_output_tokens[:, 1:] = input_ids[:, :-1]\n",
        "  return prev_output_tokens"
      ],
      "metadata": {
        "id": "L8rqXoE06LGz"
      },
      "execution_count": null,
      "outputs": []
    },
    {
      "cell_type": "code",
      "source": [
        "def freeze_params(model):\n",
        "  ''' Function that takes a model as input (or part of a model) and freezes the layers for faster training\n",
        "      adapted from finetune.py '''\n",
        "  for layer in model.parameters():\n",
        "    layer.requires_grade = False"
      ],
      "metadata": {
        "id": "Bg0co8VP6Gui"
      },
      "execution_count": null,
      "outputs": []
    },
    {
      "cell_type": "code",
      "source": [
        "from transformers import BartTokenizer, BartForConditionalGeneration, AdamW, BartConfig\n",
        "\n",
        "tokenizer = BartTokenizer.from_pretrained('facebook/bart-large', add_prefix_space=True)\n",
        "\n",
        "bart_model = BartForConditionalGeneration.from_pretrained(\"facebook/bart-large\")"
      ],
      "metadata": {
        "colab": {
          "base_uri": "https://localhost:8080/",
          "height": 177,
          "referenced_widgets": [
            "ba1e8acd2ab94cc6871d9fb99571ba59",
            "337921d860124aee873b23ad3d3a7265",
            "7926eb703cf1486bafebfd9fbd596949",
            "0c06d43380794b03864b89ea3a88cb18",
            "08a508f4fd204d1a857184e98dda62bd",
            "8045c3588f8a45e29c3c087e8b239c04",
            "7c760faa1e104591b0026554e638cfc9",
            "f3602f902a7442f6b11bc3de06c1690b",
            "a0c8199bfebd418bb1c3eeb8997f0c8e",
            "275c03d33401437d880ca7f24d09c6a4",
            "dede8fa82a6040c796c2e74d44a18d16",
            "9a4f9d2328e749d0bb25e5ca7f5e60e7",
            "2967bebf65274c4396e9e16d13a5f522",
            "5df149f9b51447f6856c72813de26862",
            "9b241d92773f448291f7176d34a0d210",
            "12c7f299fe44410f873747334cf5055e",
            "a145e84602854dc08224d61512134f57",
            "8aca097bcab3434eb5f59da2f7ee5bc1",
            "24ceb3facddd43ca892f6db3153f9bd2",
            "fdbdbcd53bda407f8039d8b20ceb75cd",
            "51fee30c1bc048a5a1e6f5089cf62d8a",
            "692057b9eedc411bbf13e475609a7f48",
            "8d9bf0937c7a4b379347a5e9979b1572",
            "76c6b062766f42f4ad4969ace91235c4",
            "3071b1f4e72a45dcb605eaac3f686089",
            "962b036f41ad460a9b40e5d6c0282156",
            "f628ff1b38f848cca1b70c97d9d70389",
            "63ff0c571c7642e68b1744a782ccc9ea",
            "8ff491ccecee4f53a4f6d89c828e717e",
            "c9e1af8dd00045b987f39a64237be6a0",
            "4890a06482884a6998427cbf826fbe26",
            "a8ef5360e59a48629a3cfd4bdb41ea41",
            "25c5842517ed4ec1a67515d20ea1d2a6",
            "2193908ac8af4ca0b4059d3de46992fb",
            "78e37e25180a4f559478a7aa110a1788",
            "9e8bbf3fc890409bb476a7a30fb37a7a",
            "e15c45cbfe5f482c8a71087d05894552",
            "82880287bb684ec89512faf5ecd8480c",
            "2aec2e3a735b43029b9d4aeae037cc76",
            "fbeccac01ec54e8bbeb5a25ff21e2f94",
            "7231248cbbe64532972a7687d16c90a0",
            "1db684ce470b4143b1e79fe185714ad7",
            "07ee80d20b3d4dc7b808d157d4f7d6d5",
            "bc81086989e74a2e931f95d1a45aade6",
            "5a25cfcbd5494d8c88129d17d9204ef3",
            "030958aa3df8419ba64438652dac5bb8",
            "7c36097fd7a24a11841724e498b49a1e",
            "fadbea7162b84210bb4edecea4573f1d",
            "24a8571969204260b4c66567fef95ccb",
            "650b5d2bed6b48caaeaa5d94958ab1e1",
            "3530b25c02524378b7387c9df1bebd42",
            "0cb9c49a719d4d269124270bf7a244cc",
            "4be8d6f2fa304ec59440147d185e09b4",
            "c6db7b3d054f416c94561d5211ad4ec5",
            "19082f79effd4e71a18470d6d1cf79f2"
          ]
        },
        "id": "UhpY3FFe4puQ",
        "outputId": "d2cae983-8a0e-4263-f983-5a6df44b131d"
      },
      "execution_count": null,
      "outputs": [
        {
          "output_type": "display_data",
          "data": {
            "text/plain": [
              "Downloading (…)olve/main/vocab.json:   0%|          | 0.00/899k [00:00<?, ?B/s]"
            ],
            "application/vnd.jupyter.widget-view+json": {
              "version_major": 2,
              "version_minor": 0,
              "model_id": "ba1e8acd2ab94cc6871d9fb99571ba59"
            }
          },
          "metadata": {}
        },
        {
          "output_type": "display_data",
          "data": {
            "text/plain": [
              "Downloading (…)olve/main/merges.txt:   0%|          | 0.00/456k [00:00<?, ?B/s]"
            ],
            "application/vnd.jupyter.widget-view+json": {
              "version_major": 2,
              "version_minor": 0,
              "model_id": "9a4f9d2328e749d0bb25e5ca7f5e60e7"
            }
          },
          "metadata": {}
        },
        {
          "output_type": "display_data",
          "data": {
            "text/plain": [
              "Downloading (…)okenizer_config.json:   0%|          | 0.00/26.0 [00:00<?, ?B/s]"
            ],
            "application/vnd.jupyter.widget-view+json": {
              "version_major": 2,
              "version_minor": 0,
              "model_id": "8d9bf0937c7a4b379347a5e9979b1572"
            }
          },
          "metadata": {}
        },
        {
          "output_type": "display_data",
          "data": {
            "text/plain": [
              "Downloading (…)lve/main/config.json:   0%|          | 0.00/1.63k [00:00<?, ?B/s]"
            ],
            "application/vnd.jupyter.widget-view+json": {
              "version_major": 2,
              "version_minor": 0,
              "model_id": "2193908ac8af4ca0b4059d3de46992fb"
            }
          },
          "metadata": {}
        },
        {
          "output_type": "display_data",
          "data": {
            "text/plain": [
              "Downloading (…)\"pytorch_model.bin\";:   0%|          | 0.00/1.02G [00:00<?, ?B/s]"
            ],
            "application/vnd.jupyter.widget-view+json": {
              "version_major": 2,
              "version_minor": 0,
              "model_id": "5a25cfcbd5494d8c88129d17d9204ef3"
            }
          },
          "metadata": {}
        }
      ]
    },
    {
      "cell_type": "code",
      "source": [
        "new_tokens = ['<F>', '<RLC>', '<A>', '<S>', '<P>', '<R>', '<RPC>']\n",
        "\n",
        "special_tokens_dict = {'additional_special_tokens': new_tokens}\n",
        "num_added_toks = tokenizer.add_special_tokens(special_tokens_dict)\n",
        "bart_model.resize_token_embeddings(len(tokenizer))"
      ],
      "metadata": {
        "colab": {
          "base_uri": "https://localhost:8080/"
        },
        "id": "0vQCL5JT4q6Q",
        "outputId": "2477b893-1c3b-4250-ad75-b2bba9510a1d"
      },
      "execution_count": null,
      "outputs": [
        {
          "output_type": "execute_result",
          "data": {
            "text/plain": [
              "Embedding(50272, 1024)"
            ]
          },
          "metadata": {},
          "execution_count": 47
        }
      ]
    },
    {
      "cell_type": "code",
      "source": [
        "summary_data = SummaryDataModule(tokenizer, data, batch_size = 1)"
      ],
      "metadata": {
        "id": "CQ-TvNsN4q83"
      },
      "execution_count": null,
      "outputs": []
    },
    {
      "cell_type": "code",
      "source": [
        "summary_data"
      ],
      "metadata": {
        "colab": {
          "base_uri": "https://localhost:8080/"
        },
        "id": "sCzgeSETInqk",
        "outputId": "b6c64342-9e5c-4862-9049-78bce3700845"
      },
      "execution_count": null,
      "outputs": [
        {
          "output_type": "execute_result",
          "data": {
            "text/plain": [
              "<__main__.SummaryDataModule at 0x7f49eb9b6b80>"
            ]
          },
          "metadata": {},
          "execution_count": 49
        }
      ]
    },
    {
      "cell_type": "code",
      "source": [
        "model = LitModel(learning_rate = 2e-5, tokenizer = tokenizer, model = bart_model)"
      ],
      "metadata": {
        "id": "GxmUgZp7Il5l"
      },
      "execution_count": null,
      "outputs": []
    },
    {
      "cell_type": "code",
      "source": [
        "!pip install torch==1.8.0"
      ],
      "metadata": {
        "colab": {
          "base_uri": "https://localhost:8080/"
        },
        "id": "YfOkGntgNkjS",
        "outputId": "2c0cf749-5483-4a1b-f1af-dfceb6e8a407"
      },
      "execution_count": null,
      "outputs": [
        {
          "output_type": "stream",
          "name": "stdout",
          "text": [
            "Looking in indexes: https://pypi.org/simple, https://us-python.pkg.dev/colab-wheels/public/simple/\n",
            "Collecting torch==1.8.0\n",
            "  Downloading torch-1.8.0-cp38-cp38-manylinux1_x86_64.whl (735.5 MB)\n",
            "\u001b[2K     \u001b[90m━━━━━━━━━━━━━━━━━━━━━━━━━━━━━━━━━━━━━━━\u001b[0m \u001b[32m735.5/735.5 MB\u001b[0m \u001b[31m1.5 MB/s\u001b[0m eta \u001b[36m0:00:00\u001b[0m\n",
            "\u001b[?25hRequirement already satisfied: typing-extensions in /usr/local/lib/python3.8/dist-packages (from torch==1.8.0) (4.4.0)\n",
            "Requirement already satisfied: numpy in /usr/local/lib/python3.8/dist-packages (from torch==1.8.0) (1.21.6)\n",
            "Installing collected packages: torch\n",
            "  Attempting uninstall: torch\n",
            "    Found existing installation: torch 1.7.1\n",
            "    Uninstalling torch-1.7.1:\n",
            "      Successfully uninstalled torch-1.7.1\n",
            "\u001b[31mERROR: pip's dependency resolver does not currently take into account all the packages that are installed. This behaviour is the source of the following dependency conflicts.\n",
            "torchvision 0.14.1+cu116 requires torch==1.13.1, but you have torch 1.8.0 which is incompatible.\n",
            "torchaudio 0.13.1+cu116 requires torch==1.13.1, but you have torch 1.8.0 which is incompatible.\u001b[0m\u001b[31m\n",
            "\u001b[0mSuccessfully installed torch-1.8.0\n"
          ]
        }
      ]
    },
    {
      "cell_type": "code",
      "source": [
        "import torch.fx"
      ],
      "metadata": {
        "id": "LkGaSXbnNsMU"
      },
      "execution_count": null,
      "outputs": []
    },
    {
      "cell_type": "code",
      "source": [
        "trainer = pl.Trainer(max_epochs = 3,\n",
        "                     min_epochs = 2,\n",
        "                     auto_lr_find = False,\n",
        "                     progress_bar_refresh_rate = 5,\n",
        "                     precision = 16)"
      ],
      "metadata": {
        "colab": {
          "base_uri": "https://localhost:8080/",
          "height": 502
        },
        "id": "iHhIGNXY4q_k",
        "outputId": "e15bf629-d165-4d4f-d072-0d84d6269af8"
      },
      "execution_count": null,
      "outputs": [
        {
          "output_type": "stream",
          "name": "stderr",
          "text": [
            "GPU available: False, used: False\n",
            "GPU available: False, used: False\n",
            "INFO:lightning:GPU available: False, used: False\n",
            "TPU available: None, using: 0 TPU cores\n",
            "TPU available: None, using: 0 TPU cores\n",
            "INFO:lightning:TPU available: None, using: 0 TPU cores\n"
          ]
        },
        {
          "output_type": "error",
          "ename": "MisconfigurationException",
          "evalue": "ignored",
          "traceback": [
            "\u001b[0;31m---------------------------------------------------------------------------\u001b[0m",
            "\u001b[0;31mMisconfigurationException\u001b[0m                 Traceback (most recent call last)",
            "\u001b[0;32m<ipython-input-52-fdd2badf0891>\u001b[0m in \u001b[0;36m<module>\u001b[0;34m\u001b[0m\n\u001b[0;32m----> 1\u001b[0;31m trainer = pl.Trainer(max_epochs = 3,\n\u001b[0m\u001b[1;32m      2\u001b[0m                      \u001b[0mmin_epochs\u001b[0m \u001b[0;34m=\u001b[0m \u001b[0;36m2\u001b[0m\u001b[0;34m,\u001b[0m\u001b[0;34m\u001b[0m\u001b[0;34m\u001b[0m\u001b[0m\n\u001b[1;32m      3\u001b[0m                      \u001b[0mauto_lr_find\u001b[0m \u001b[0;34m=\u001b[0m \u001b[0;32mFalse\u001b[0m\u001b[0;34m,\u001b[0m\u001b[0;34m\u001b[0m\u001b[0;34m\u001b[0m\u001b[0m\n\u001b[1;32m      4\u001b[0m                      \u001b[0mprogress_bar_refresh_rate\u001b[0m \u001b[0;34m=\u001b[0m \u001b[0;36m5\u001b[0m\u001b[0;34m,\u001b[0m\u001b[0;34m\u001b[0m\u001b[0;34m\u001b[0m\u001b[0m\n\u001b[1;32m      5\u001b[0m                      precision = 16)\n",
            "\u001b[0;32m/usr/local/lib/python3.8/dist-packages/pytorch_lightning/trainer/connectors/env_vars_connector.py\u001b[0m in \u001b[0;36moverwrite_by_env_vars\u001b[0;34m(self, *args, **kwargs)\u001b[0m\n\u001b[1;32m     40\u001b[0m \u001b[0;34m\u001b[0m\u001b[0m\n\u001b[1;32m     41\u001b[0m         \u001b[0;31m# all args were already moved to kwargs\u001b[0m\u001b[0;34m\u001b[0m\u001b[0;34m\u001b[0m\u001b[0;34m\u001b[0m\u001b[0m\n\u001b[0;32m---> 42\u001b[0;31m         \u001b[0;32mreturn\u001b[0m \u001b[0mfn\u001b[0m\u001b[0;34m(\u001b[0m\u001b[0mself\u001b[0m\u001b[0;34m,\u001b[0m \u001b[0;34m**\u001b[0m\u001b[0mkwargs\u001b[0m\u001b[0;34m)\u001b[0m\u001b[0;34m\u001b[0m\u001b[0;34m\u001b[0m\u001b[0m\n\u001b[0m\u001b[1;32m     43\u001b[0m \u001b[0;34m\u001b[0m\u001b[0m\n\u001b[1;32m     44\u001b[0m     \u001b[0;32mreturn\u001b[0m \u001b[0moverwrite_by_env_vars\u001b[0m\u001b[0;34m\u001b[0m\u001b[0;34m\u001b[0m\u001b[0m\n",
            "\u001b[0;32m/usr/local/lib/python3.8/dist-packages/pytorch_lightning/trainer/trainer.py\u001b[0m in \u001b[0;36m__init__\u001b[0;34m(self, logger, checkpoint_callback, callbacks, default_root_dir, gradient_clip_val, process_position, num_nodes, num_processes, gpus, auto_select_gpus, tpu_cores, log_gpu_memory, progress_bar_refresh_rate, overfit_batches, track_grad_norm, check_val_every_n_epoch, fast_dev_run, accumulate_grad_batches, max_epochs, min_epochs, max_steps, min_steps, limit_train_batches, limit_val_batches, limit_test_batches, limit_predict_batches, val_check_interval, flush_logs_every_n_steps, log_every_n_steps, accelerator, sync_batchnorm, precision, weights_summary, weights_save_path, num_sanity_val_steps, truncated_bptt_steps, resume_from_checkpoint, profiler, benchmark, deterministic, reload_dataloaders_every_epoch, auto_lr_find, replace_sampler_ddp, terminate_on_nan, auto_scale_batch_size, prepare_data_per_node, plugins, amp_backend, amp_level, distributed_backend, automatic_optimization, move_metrics_to_cpu, enable_pl_optimizer, multiple_trainloader_mode, stochastic_weight_avg)\u001b[0m\n\u001b[1;32m    316\u001b[0m         \u001b[0mself\u001b[0m\u001b[0;34m.\u001b[0m\u001b[0moptimizer_connector\u001b[0m \u001b[0;34m=\u001b[0m \u001b[0mOptimizerConnector\u001b[0m\u001b[0;34m(\u001b[0m\u001b[0mself\u001b[0m\u001b[0;34m)\u001b[0m\u001b[0;34m\u001b[0m\u001b[0;34m\u001b[0m\u001b[0m\n\u001b[1;32m    317\u001b[0m \u001b[0;34m\u001b[0m\u001b[0m\n\u001b[0;32m--> 318\u001b[0;31m         self.accelerator_connector = AcceleratorConnector(\n\u001b[0m\u001b[1;32m    319\u001b[0m             \u001b[0mnum_processes\u001b[0m\u001b[0;34m,\u001b[0m \u001b[0mtpu_cores\u001b[0m\u001b[0;34m,\u001b[0m \u001b[0mdistributed_backend\u001b[0m\u001b[0;34m,\u001b[0m \u001b[0mauto_select_gpus\u001b[0m\u001b[0;34m,\u001b[0m \u001b[0mgpus\u001b[0m\u001b[0;34m,\u001b[0m \u001b[0mnum_nodes\u001b[0m\u001b[0;34m,\u001b[0m \u001b[0msync_batchnorm\u001b[0m\u001b[0;34m,\u001b[0m \u001b[0mbenchmark\u001b[0m\u001b[0;34m,\u001b[0m\u001b[0;34m\u001b[0m\u001b[0;34m\u001b[0m\u001b[0m\n\u001b[1;32m    320\u001b[0m             \u001b[0mreplace_sampler_ddp\u001b[0m\u001b[0;34m,\u001b[0m \u001b[0mdeterministic\u001b[0m\u001b[0;34m,\u001b[0m \u001b[0mprecision\u001b[0m\u001b[0;34m,\u001b[0m \u001b[0mamp_backend\u001b[0m\u001b[0;34m,\u001b[0m \u001b[0mamp_level\u001b[0m\u001b[0;34m,\u001b[0m \u001b[0mplugins\u001b[0m\u001b[0;34m\u001b[0m\u001b[0;34m\u001b[0m\u001b[0m\n",
            "\u001b[0;32m/usr/local/lib/python3.8/dist-packages/pytorch_lightning/trainer/connectors/accelerator_connector.py\u001b[0m in \u001b[0;36m__init__\u001b[0;34m(self, num_processes, tpu_cores, distributed_backend, auto_select_gpus, gpus, num_nodes, sync_batchnorm, benchmark, replace_sampler_ddp, deterministic, precision, amp_type, amp_level, plugins)\u001b[0m\n\u001b[1;32m    122\u001b[0m         \u001b[0mself\u001b[0m\u001b[0;34m.\u001b[0m\u001b[0mhandle_given_plugins\u001b[0m\u001b[0;34m(\u001b[0m\u001b[0mplugins\u001b[0m\u001b[0;34m)\u001b[0m\u001b[0;34m\u001b[0m\u001b[0;34m\u001b[0m\u001b[0m\n\u001b[1;32m    123\u001b[0m \u001b[0;34m\u001b[0m\u001b[0m\n\u001b[0;32m--> 124\u001b[0;31m         \u001b[0mself\u001b[0m\u001b[0;34m.\u001b[0m\u001b[0maccelerator\u001b[0m \u001b[0;34m=\u001b[0m \u001b[0mself\u001b[0m\u001b[0;34m.\u001b[0m\u001b[0mselect_accelerator\u001b[0m\u001b[0;34m(\u001b[0m\u001b[0;34m)\u001b[0m\u001b[0;34m\u001b[0m\u001b[0;34m\u001b[0m\u001b[0m\n\u001b[0m\u001b[1;32m    125\u001b[0m \u001b[0;34m\u001b[0m\u001b[0m\n\u001b[1;32m    126\u001b[0m         \u001b[0;31m# override dist backend when using tpus\u001b[0m\u001b[0;34m\u001b[0m\u001b[0;34m\u001b[0m\u001b[0;34m\u001b[0m\u001b[0m\n",
            "\u001b[0;32m/usr/local/lib/python3.8/dist-packages/pytorch_lightning/trainer/connectors/accelerator_connector.py\u001b[0m in \u001b[0;36mselect_accelerator\u001b[0;34m(self)\u001b[0m\n\u001b[1;32m    441\u001b[0m \u001b[0;34m\u001b[0m\u001b[0m\n\u001b[1;32m    442\u001b[0m         return acc_cls(\n\u001b[0;32m--> 443\u001b[0;31m             \u001b[0mprecision_plugin\u001b[0m\u001b[0;34m=\u001b[0m\u001b[0mself\u001b[0m\u001b[0;34m.\u001b[0m\u001b[0mprecision_plugin\u001b[0m\u001b[0;34m,\u001b[0m\u001b[0;34m\u001b[0m\u001b[0;34m\u001b[0m\u001b[0m\n\u001b[0m\u001b[1;32m    444\u001b[0m             \u001b[0mtraining_type_plugin\u001b[0m\u001b[0;34m=\u001b[0m\u001b[0mself\u001b[0m\u001b[0;34m.\u001b[0m\u001b[0mtraining_type_plugin\u001b[0m\u001b[0;34m,\u001b[0m\u001b[0;34m\u001b[0m\u001b[0;34m\u001b[0m\u001b[0m\n\u001b[1;32m    445\u001b[0m         )\n",
            "\u001b[0;32m/usr/local/lib/python3.8/dist-packages/pytorch_lightning/trainer/connectors/accelerator_connector.py\u001b[0m in \u001b[0;36mprecision_plugin\u001b[0;34m(self)\u001b[0m\n\u001b[1;32m    206\u001b[0m     \u001b[0;32mdef\u001b[0m \u001b[0mprecision_plugin\u001b[0m\u001b[0;34m(\u001b[0m\u001b[0mself\u001b[0m\u001b[0;34m)\u001b[0m \u001b[0;34m->\u001b[0m \u001b[0mPrecisionPlugin\u001b[0m\u001b[0;34m:\u001b[0m\u001b[0;34m\u001b[0m\u001b[0;34m\u001b[0m\u001b[0m\n\u001b[1;32m    207\u001b[0m         \u001b[0;32mif\u001b[0m \u001b[0mself\u001b[0m\u001b[0;34m.\u001b[0m\u001b[0m_precision_plugin\u001b[0m \u001b[0;32mis\u001b[0m \u001b[0;32mNone\u001b[0m\u001b[0;34m:\u001b[0m\u001b[0;34m\u001b[0m\u001b[0;34m\u001b[0m\u001b[0m\n\u001b[0;32m--> 208\u001b[0;31m             \u001b[0mself\u001b[0m\u001b[0;34m.\u001b[0m\u001b[0m_precision_plugin\u001b[0m \u001b[0;34m=\u001b[0m \u001b[0mself\u001b[0m\u001b[0;34m.\u001b[0m\u001b[0mselect_precision_plugin\u001b[0m\u001b[0;34m(\u001b[0m\u001b[0;34m)\u001b[0m\u001b[0;34m\u001b[0m\u001b[0;34m\u001b[0m\u001b[0m\n\u001b[0m\u001b[1;32m    209\u001b[0m         \u001b[0;32mreturn\u001b[0m \u001b[0mself\u001b[0m\u001b[0;34m.\u001b[0m\u001b[0m_precision_plugin\u001b[0m\u001b[0;34m\u001b[0m\u001b[0;34m\u001b[0m\u001b[0m\n\u001b[1;32m    210\u001b[0m \u001b[0;34m\u001b[0m\u001b[0m\n",
            "\u001b[0;32m/usr/local/lib/python3.8/dist-packages/pytorch_lightning/trainer/connectors/accelerator_connector.py\u001b[0m in \u001b[0;36mselect_precision_plugin\u001b[0;34m(self)\u001b[0m\n\u001b[1;32m    316\u001b[0m             \u001b[0;32mif\u001b[0m \u001b[0mself\u001b[0m\u001b[0;34m.\u001b[0m\u001b[0mamp_type\u001b[0m \u001b[0;34m==\u001b[0m \u001b[0mAMPType\u001b[0m\u001b[0;34m.\u001b[0m\u001b[0mNATIVE\u001b[0m\u001b[0;34m:\u001b[0m\u001b[0;34m\u001b[0m\u001b[0;34m\u001b[0m\u001b[0m\n\u001b[1;32m    317\u001b[0m                 \u001b[0;32mif\u001b[0m \u001b[0mself\u001b[0m\u001b[0;34m.\u001b[0m\u001b[0mon_cpu\u001b[0m\u001b[0;34m:\u001b[0m\u001b[0;34m\u001b[0m\u001b[0;34m\u001b[0m\u001b[0m\n\u001b[0;32m--> 318\u001b[0;31m                     raise MisconfigurationException(\n\u001b[0m\u001b[1;32m    319\u001b[0m                         \u001b[0;34m\"You have asked for native AMP on CPU, but AMP is only available on GPU.\"\u001b[0m\u001b[0;34m\u001b[0m\u001b[0;34m\u001b[0m\u001b[0m\n\u001b[1;32m    320\u001b[0m                     )\n",
            "\u001b[0;31mMisconfigurationException\u001b[0m: You have asked for native AMP on CPU, but AMP is only available on GPU."
          ]
        }
      ]
    },
    {
      "cell_type": "code",
      "source": [
        "trainer.fit(model, summary_data)"
      ],
      "metadata": {
        "id": "HzelSN7M6atb"
      },
      "execution_count": null,
      "outputs": []
    },
    {
      "cell_type": "code",
      "source": [
        "trainer.save_checkpoint(\"output.ckpt\")"
      ],
      "metadata": {
        "id": "Rx5TapMT6kV8"
      },
      "execution_count": null,
      "outputs": []
    },
    {
      "cell_type": "code",
      "source": [
        "!zip -r output.zip ./output.ckpt"
      ],
      "metadata": {
        "id": "CaWhr8yk64xU"
      },
      "execution_count": null,
      "outputs": []
    }
  ],
  "metadata": {
    "colab": {
      "collapsed_sections": [
        "tnQjcfx2Cv78"
      ],
      "toc_visible": true,
      "provenance": [],
      "include_colab_link": true
    },
    "gpuClass": "standard",
    "kernelspec": {
      "display_name": "base",
      "language": "python",
      "name": "python3"
    },
    "language_info": {
      "codemirror_mode": {
        "name": "ipython",
        "version": 3
      },
      "file_extension": ".py",
      "mimetype": "text/x-python",
      "name": "python",
      "nbconvert_exporter": "python",
      "pygments_lexer": "ipython3",
      "version": "3.8.8"
    },
    "vscode": {
      "interpreter": {
        "hash": "ad2bdc8ecc057115af97d19610ffacc2b4e99fae6737bb82f5d7fb13d2f2c186"
      }
    },
    "widgets": {
      "application/vnd.jupyter.widget-state+json": {
        "0259dce322bc4e879aab1a361d810348": {
          "model_module": "@jupyter-widgets/base",
          "model_module_version": "1.2.0",
          "model_name": "LayoutModel",
          "state": {
            "_model_module": "@jupyter-widgets/base",
            "_model_module_version": "1.2.0",
            "_model_name": "LayoutModel",
            "_view_count": null,
            "_view_module": "@jupyter-widgets/base",
            "_view_module_version": "1.2.0",
            "_view_name": "LayoutView",
            "align_content": null,
            "align_items": null,
            "align_self": null,
            "border": null,
            "bottom": null,
            "display": null,
            "flex": null,
            "flex_flow": null,
            "grid_area": null,
            "grid_auto_columns": null,
            "grid_auto_flow": null,
            "grid_auto_rows": null,
            "grid_column": null,
            "grid_gap": null,
            "grid_row": null,
            "grid_template_areas": null,
            "grid_template_columns": null,
            "grid_template_rows": null,
            "height": null,
            "justify_content": null,
            "justify_items": null,
            "left": null,
            "margin": null,
            "max_height": null,
            "max_width": null,
            "min_height": null,
            "min_width": null,
            "object_fit": null,
            "object_position": null,
            "order": null,
            "overflow": null,
            "overflow_x": null,
            "overflow_y": null,
            "padding": null,
            "right": null,
            "top": null,
            "visibility": null,
            "width": null
          }
        },
        "03f0bb47bc874f15b2c1e4b708e7e03f": {
          "model_module": "@jupyter-widgets/controls",
          "model_module_version": "1.5.0",
          "model_name": "HTMLModel",
          "state": {
            "_dom_classes": [],
            "_model_module": "@jupyter-widgets/controls",
            "_model_module_version": "1.5.0",
            "_model_name": "HTMLModel",
            "_view_count": null,
            "_view_module": "@jupyter-widgets/controls",
            "_view_module_version": "1.5.0",
            "_view_name": "HTMLView",
            "description": "",
            "description_tooltip": null,
            "layout": "IPY_MODEL_f8d78cc483ab4849aacd5db010d44d43",
            "placeholder": "​",
            "style": "IPY_MODEL_da6a976fdeb64d578f9cc870c3117b8d",
            "value": "Downloading (…)/main/tokenizer.json: 100%"
          }
        },
        "10fdf589e2d94f98bcb338ff4d059a85": {
          "model_module": "@jupyter-widgets/base",
          "model_module_version": "1.2.0",
          "model_name": "LayoutModel",
          "state": {
            "_model_module": "@jupyter-widgets/base",
            "_model_module_version": "1.2.0",
            "_model_name": "LayoutModel",
            "_view_count": null,
            "_view_module": "@jupyter-widgets/base",
            "_view_module_version": "1.2.0",
            "_view_name": "LayoutView",
            "align_content": null,
            "align_items": null,
            "align_self": null,
            "border": null,
            "bottom": null,
            "display": null,
            "flex": null,
            "flex_flow": null,
            "grid_area": null,
            "grid_auto_columns": null,
            "grid_auto_flow": null,
            "grid_auto_rows": null,
            "grid_column": null,
            "grid_gap": null,
            "grid_row": null,
            "grid_template_areas": null,
            "grid_template_columns": null,
            "grid_template_rows": null,
            "height": null,
            "justify_content": null,
            "justify_items": null,
            "left": null,
            "margin": null,
            "max_height": null,
            "max_width": null,
            "min_height": null,
            "min_width": null,
            "object_fit": null,
            "object_position": null,
            "order": null,
            "overflow": null,
            "overflow_x": null,
            "overflow_y": null,
            "padding": null,
            "right": null,
            "top": null,
            "visibility": null,
            "width": null
          }
        },
        "15651b1a2c5c4b41ad458b58e3f4e6ee": {
          "model_module": "@jupyter-widgets/base",
          "model_module_version": "1.2.0",
          "model_name": "LayoutModel",
          "state": {
            "_model_module": "@jupyter-widgets/base",
            "_model_module_version": "1.2.0",
            "_model_name": "LayoutModel",
            "_view_count": null,
            "_view_module": "@jupyter-widgets/base",
            "_view_module_version": "1.2.0",
            "_view_name": "LayoutView",
            "align_content": null,
            "align_items": null,
            "align_self": null,
            "border": null,
            "bottom": null,
            "display": null,
            "flex": null,
            "flex_flow": null,
            "grid_area": null,
            "grid_auto_columns": null,
            "grid_auto_flow": null,
            "grid_auto_rows": null,
            "grid_column": null,
            "grid_gap": null,
            "grid_row": null,
            "grid_template_areas": null,
            "grid_template_columns": null,
            "grid_template_rows": null,
            "height": null,
            "justify_content": null,
            "justify_items": null,
            "left": null,
            "margin": null,
            "max_height": null,
            "max_width": null,
            "min_height": null,
            "min_width": null,
            "object_fit": null,
            "object_position": null,
            "order": null,
            "overflow": null,
            "overflow_x": null,
            "overflow_y": null,
            "padding": null,
            "right": null,
            "top": null,
            "visibility": null,
            "width": null
          }
        },
        "182a0427955b4ac686018722bd5609e6": {
          "model_module": "@jupyter-widgets/controls",
          "model_module_version": "1.5.0",
          "model_name": "FloatProgressModel",
          "state": {
            "_dom_classes": [],
            "_model_module": "@jupyter-widgets/controls",
            "_model_module_version": "1.5.0",
            "_model_name": "FloatProgressModel",
            "_view_count": null,
            "_view_module": "@jupyter-widgets/controls",
            "_view_module_version": "1.5.0",
            "_view_name": "ProgressView",
            "bar_style": "success",
            "description": "",
            "description_tooltip": null,
            "layout": "IPY_MODEL_891ea26c59e84bd49734ed8aa4b324d0",
            "max": 2950825948,
            "min": 0,
            "orientation": "horizontal",
            "style": "IPY_MODEL_ddca2744693b48b382bbfa8b3d022713",
            "value": 2950825948
          }
        },
        "2316f12a61074bd68253d66798ad5893": {
          "model_module": "@jupyter-widgets/base",
          "model_module_version": "1.2.0",
          "model_name": "LayoutModel",
          "state": {
            "_model_module": "@jupyter-widgets/base",
            "_model_module_version": "1.2.0",
            "_model_name": "LayoutModel",
            "_view_count": null,
            "_view_module": "@jupyter-widgets/base",
            "_view_module_version": "1.2.0",
            "_view_name": "LayoutView",
            "align_content": null,
            "align_items": null,
            "align_self": null,
            "border": null,
            "bottom": null,
            "display": null,
            "flex": null,
            "flex_flow": null,
            "grid_area": null,
            "grid_auto_columns": null,
            "grid_auto_flow": null,
            "grid_auto_rows": null,
            "grid_column": null,
            "grid_gap": null,
            "grid_row": null,
            "grid_template_areas": null,
            "grid_template_columns": null,
            "grid_template_rows": null,
            "height": null,
            "justify_content": null,
            "justify_items": null,
            "left": null,
            "margin": null,
            "max_height": null,
            "max_width": null,
            "min_height": null,
            "min_width": null,
            "object_fit": null,
            "object_position": null,
            "order": null,
            "overflow": null,
            "overflow_x": null,
            "overflow_y": null,
            "padding": null,
            "right": null,
            "top": null,
            "visibility": null,
            "width": null
          }
        },
        "25329a3d204643eabac4589bcb8243c9": {
          "model_module": "@jupyter-widgets/controls",
          "model_module_version": "1.5.0",
          "model_name": "DescriptionStyleModel",
          "state": {
            "_model_module": "@jupyter-widgets/controls",
            "_model_module_version": "1.5.0",
            "_model_name": "DescriptionStyleModel",
            "_view_count": null,
            "_view_module": "@jupyter-widgets/base",
            "_view_module_version": "1.2.0",
            "_view_name": "StyleView",
            "description_width": ""
          }
        },
        "27460488413f45328aa496efd949c0ba": {
          "model_module": "@jupyter-widgets/base",
          "model_module_version": "1.2.0",
          "model_name": "LayoutModel",
          "state": {
            "_model_module": "@jupyter-widgets/base",
            "_model_module_version": "1.2.0",
            "_model_name": "LayoutModel",
            "_view_count": null,
            "_view_module": "@jupyter-widgets/base",
            "_view_module_version": "1.2.0",
            "_view_name": "LayoutView",
            "align_content": null,
            "align_items": null,
            "align_self": null,
            "border": null,
            "bottom": null,
            "display": null,
            "flex": null,
            "flex_flow": null,
            "grid_area": null,
            "grid_auto_columns": null,
            "grid_auto_flow": null,
            "grid_auto_rows": null,
            "grid_column": null,
            "grid_gap": null,
            "grid_row": null,
            "grid_template_areas": null,
            "grid_template_columns": null,
            "grid_template_rows": null,
            "height": null,
            "justify_content": null,
            "justify_items": null,
            "left": null,
            "margin": null,
            "max_height": null,
            "max_width": null,
            "min_height": null,
            "min_width": null,
            "object_fit": null,
            "object_position": null,
            "order": null,
            "overflow": null,
            "overflow_x": null,
            "overflow_y": null,
            "padding": null,
            "right": null,
            "top": null,
            "visibility": null,
            "width": null
          }
        },
        "27ed98c3550048a9803439920134bd63": {
          "model_module": "@jupyter-widgets/base",
          "model_module_version": "1.2.0",
          "model_name": "LayoutModel",
          "state": {
            "_model_module": "@jupyter-widgets/base",
            "_model_module_version": "1.2.0",
            "_model_name": "LayoutModel",
            "_view_count": null,
            "_view_module": "@jupyter-widgets/base",
            "_view_module_version": "1.2.0",
            "_view_name": "LayoutView",
            "align_content": null,
            "align_items": null,
            "align_self": null,
            "border": null,
            "bottom": null,
            "display": null,
            "flex": null,
            "flex_flow": null,
            "grid_area": null,
            "grid_auto_columns": null,
            "grid_auto_flow": null,
            "grid_auto_rows": null,
            "grid_column": null,
            "grid_gap": null,
            "grid_row": null,
            "grid_template_areas": null,
            "grid_template_columns": null,
            "grid_template_rows": null,
            "height": null,
            "justify_content": null,
            "justify_items": null,
            "left": null,
            "margin": null,
            "max_height": null,
            "max_width": null,
            "min_height": null,
            "min_width": null,
            "object_fit": null,
            "object_position": null,
            "order": null,
            "overflow": null,
            "overflow_x": null,
            "overflow_y": null,
            "padding": null,
            "right": null,
            "top": null,
            "visibility": null,
            "width": null
          }
        },
        "2941bba83cd24424ab920986f752ace4": {
          "model_module": "@jupyter-widgets/controls",
          "model_module_version": "1.5.0",
          "model_name": "DescriptionStyleModel",
          "state": {
            "_model_module": "@jupyter-widgets/controls",
            "_model_module_version": "1.5.0",
            "_model_name": "DescriptionStyleModel",
            "_view_count": null,
            "_view_module": "@jupyter-widgets/base",
            "_view_module_version": "1.2.0",
            "_view_name": "StyleView",
            "description_width": ""
          }
        },
        "2ab0bd75b12143558f8da9a5ff4f8478": {
          "model_module": "@jupyter-widgets/controls",
          "model_module_version": "1.5.0",
          "model_name": "HBoxModel",
          "state": {
            "_dom_classes": [],
            "_model_module": "@jupyter-widgets/controls",
            "_model_module_version": "1.5.0",
            "_model_name": "HBoxModel",
            "_view_count": null,
            "_view_module": "@jupyter-widgets/controls",
            "_view_module_version": "1.5.0",
            "_view_name": "HBoxView",
            "box_style": "",
            "children": [
              "IPY_MODEL_03f0bb47bc874f15b2c1e4b708e7e03f",
              "IPY_MODEL_7faab6520b2945c9b4a1077783fd3096",
              "IPY_MODEL_c3844dfa31f446d0b2e51e0eee454612"
            ],
            "layout": "IPY_MODEL_10fdf589e2d94f98bcb338ff4d059a85"
          }
        },
        "2c6b40a90e7a4711adf599b46d773635": {
          "model_module": "@jupyter-widgets/controls",
          "model_module_version": "1.5.0",
          "model_name": "HBoxModel",
          "state": {
            "_dom_classes": [],
            "_model_module": "@jupyter-widgets/controls",
            "_model_module_version": "1.5.0",
            "_model_name": "HBoxModel",
            "_view_count": null,
            "_view_module": "@jupyter-widgets/controls",
            "_view_module_version": "1.5.0",
            "_view_name": "HBoxView",
            "box_style": "",
            "children": [
              "IPY_MODEL_d62b57bfec074e9a8a072599a327293e",
              "IPY_MODEL_709a450908c84c0081a6f6ba6e136666",
              "IPY_MODEL_2e82a44966564a10be502396b354d2e2"
            ],
            "layout": "IPY_MODEL_15651b1a2c5c4b41ad458b58e3f4e6ee"
          }
        },
        "2e82a44966564a10be502396b354d2e2": {
          "model_module": "@jupyter-widgets/controls",
          "model_module_version": "1.5.0",
          "model_name": "HTMLModel",
          "state": {
            "_dom_classes": [],
            "_model_module": "@jupyter-widgets/controls",
            "_model_module_version": "1.5.0",
            "_model_name": "HTMLModel",
            "_view_count": null,
            "_view_module": "@jupyter-widgets/controls",
            "_view_module_version": "1.5.0",
            "_view_name": "HTMLView",
            "description": "",
            "description_tooltip": null,
            "layout": "IPY_MODEL_48ed33128c274878a958d3ccfb66accd",
            "placeholder": "​",
            "style": "IPY_MODEL_3c7448998c794a448295b0bafbac05e7",
            "value": " 1.21k/1.21k [00:00&lt;00:00, 38.5kB/s]"
          }
        },
        "39849b525bbd42f783bf4f477a927b79": {
          "model_module": "@jupyter-widgets/controls",
          "model_module_version": "1.5.0",
          "model_name": "HTMLModel",
          "state": {
            "_dom_classes": [],
            "_model_module": "@jupyter-widgets/controls",
            "_model_module_version": "1.5.0",
            "_model_name": "HTMLModel",
            "_view_count": null,
            "_view_module": "@jupyter-widgets/controls",
            "_view_module_version": "1.5.0",
            "_view_name": "HTMLView",
            "description": "",
            "description_tooltip": null,
            "layout": "IPY_MODEL_f2c2a2d1898444f98110f81990a3d8ed",
            "placeholder": "​",
            "style": "IPY_MODEL_25329a3d204643eabac4589bcb8243c9",
            "value": "Downloading (…)neration_config.json: 100%"
          }
        },
        "3c7448998c794a448295b0bafbac05e7": {
          "model_module": "@jupyter-widgets/controls",
          "model_module_version": "1.5.0",
          "model_name": "DescriptionStyleModel",
          "state": {
            "_model_module": "@jupyter-widgets/controls",
            "_model_module_version": "1.5.0",
            "_model_name": "DescriptionStyleModel",
            "_view_count": null,
            "_view_module": "@jupyter-widgets/base",
            "_view_module_version": "1.2.0",
            "_view_name": "StyleView",
            "description_width": ""
          }
        },
        "4209339e5eb8438f9652460deae21c6b": {
          "model_module": "@jupyter-widgets/base",
          "model_module_version": "1.2.0",
          "model_name": "LayoutModel",
          "state": {
            "_model_module": "@jupyter-widgets/base",
            "_model_module_version": "1.2.0",
            "_model_name": "LayoutModel",
            "_view_count": null,
            "_view_module": "@jupyter-widgets/base",
            "_view_module_version": "1.2.0",
            "_view_name": "LayoutView",
            "align_content": null,
            "align_items": null,
            "align_self": null,
            "border": null,
            "bottom": null,
            "display": null,
            "flex": null,
            "flex_flow": null,
            "grid_area": null,
            "grid_auto_columns": null,
            "grid_auto_flow": null,
            "grid_auto_rows": null,
            "grid_column": null,
            "grid_gap": null,
            "grid_row": null,
            "grid_template_areas": null,
            "grid_template_columns": null,
            "grid_template_rows": null,
            "height": null,
            "justify_content": null,
            "justify_items": null,
            "left": null,
            "margin": null,
            "max_height": null,
            "max_width": null,
            "min_height": null,
            "min_width": null,
            "object_fit": null,
            "object_position": null,
            "order": null,
            "overflow": null,
            "overflow_x": null,
            "overflow_y": null,
            "padding": null,
            "right": null,
            "top": null,
            "visibility": null,
            "width": null
          }
        },
        "46f7f69ff2d64d1a87fcca0ac2926454": {
          "model_module": "@jupyter-widgets/controls",
          "model_module_version": "1.5.0",
          "model_name": "ProgressStyleModel",
          "state": {
            "_model_module": "@jupyter-widgets/controls",
            "_model_module_version": "1.5.0",
            "_model_name": "ProgressStyleModel",
            "_view_count": null,
            "_view_module": "@jupyter-widgets/base",
            "_view_module_version": "1.2.0",
            "_view_name": "StyleView",
            "bar_color": null,
            "description_width": ""
          }
        },
        "48ed33128c274878a958d3ccfb66accd": {
          "model_module": "@jupyter-widgets/base",
          "model_module_version": "1.2.0",
          "model_name": "LayoutModel",
          "state": {
            "_model_module": "@jupyter-widgets/base",
            "_model_module_version": "1.2.0",
            "_model_name": "LayoutModel",
            "_view_count": null,
            "_view_module": "@jupyter-widgets/base",
            "_view_module_version": "1.2.0",
            "_view_name": "LayoutView",
            "align_content": null,
            "align_items": null,
            "align_self": null,
            "border": null,
            "bottom": null,
            "display": null,
            "flex": null,
            "flex_flow": null,
            "grid_area": null,
            "grid_auto_columns": null,
            "grid_auto_flow": null,
            "grid_auto_rows": null,
            "grid_column": null,
            "grid_gap": null,
            "grid_row": null,
            "grid_template_areas": null,
            "grid_template_columns": null,
            "grid_template_rows": null,
            "height": null,
            "justify_content": null,
            "justify_items": null,
            "left": null,
            "margin": null,
            "max_height": null,
            "max_width": null,
            "min_height": null,
            "min_width": null,
            "object_fit": null,
            "object_position": null,
            "order": null,
            "overflow": null,
            "overflow_x": null,
            "overflow_y": null,
            "padding": null,
            "right": null,
            "top": null,
            "visibility": null,
            "width": null
          }
        },
        "544d3bcf1ca743d3ab2a4dd4d7b07e6c": {
          "model_module": "@jupyter-widgets/controls",
          "model_module_version": "1.5.0",
          "model_name": "HBoxModel",
          "state": {
            "_dom_classes": [],
            "_model_module": "@jupyter-widgets/controls",
            "_model_module_version": "1.5.0",
            "_model_name": "HBoxModel",
            "_view_count": null,
            "_view_module": "@jupyter-widgets/controls",
            "_view_module_version": "1.5.0",
            "_view_name": "HBoxView",
            "box_style": "",
            "children": [
              "IPY_MODEL_39849b525bbd42f783bf4f477a927b79",
              "IPY_MODEL_f8cd81e8f43b4f36bc252e3041bef7f8",
              "IPY_MODEL_6588bd84bdd2458d945137a16007f5e8"
            ],
            "layout": "IPY_MODEL_63b19e775a044348a1d8d6269d9b9119"
          }
        },
        "5a15a5ff968e43d5a98eb758b11f2fb1": {
          "model_module": "@jupyter-widgets/controls",
          "model_module_version": "1.5.0",
          "model_name": "DescriptionStyleModel",
          "state": {
            "_model_module": "@jupyter-widgets/controls",
            "_model_module_version": "1.5.0",
            "_model_name": "DescriptionStyleModel",
            "_view_count": null,
            "_view_module": "@jupyter-widgets/base",
            "_view_module_version": "1.2.0",
            "_view_name": "StyleView",
            "description_width": ""
          }
        },
        "5e40905d5a594ca3b042cd63150f1a18": {
          "model_module": "@jupyter-widgets/controls",
          "model_module_version": "1.5.0",
          "model_name": "DescriptionStyleModel",
          "state": {
            "_model_module": "@jupyter-widgets/controls",
            "_model_module_version": "1.5.0",
            "_model_name": "DescriptionStyleModel",
            "_view_count": null,
            "_view_module": "@jupyter-widgets/base",
            "_view_module_version": "1.2.0",
            "_view_name": "StyleView",
            "description_width": ""
          }
        },
        "63b19e775a044348a1d8d6269d9b9119": {
          "model_module": "@jupyter-widgets/base",
          "model_module_version": "1.2.0",
          "model_name": "LayoutModel",
          "state": {
            "_model_module": "@jupyter-widgets/base",
            "_model_module_version": "1.2.0",
            "_model_name": "LayoutModel",
            "_view_count": null,
            "_view_module": "@jupyter-widgets/base",
            "_view_module_version": "1.2.0",
            "_view_name": "LayoutView",
            "align_content": null,
            "align_items": null,
            "align_self": null,
            "border": null,
            "bottom": null,
            "display": null,
            "flex": null,
            "flex_flow": null,
            "grid_area": null,
            "grid_auto_columns": null,
            "grid_auto_flow": null,
            "grid_auto_rows": null,
            "grid_column": null,
            "grid_gap": null,
            "grid_row": null,
            "grid_template_areas": null,
            "grid_template_columns": null,
            "grid_template_rows": null,
            "height": null,
            "justify_content": null,
            "justify_items": null,
            "left": null,
            "margin": null,
            "max_height": null,
            "max_width": null,
            "min_height": null,
            "min_width": null,
            "object_fit": null,
            "object_position": null,
            "order": null,
            "overflow": null,
            "overflow_x": null,
            "overflow_y": null,
            "padding": null,
            "right": null,
            "top": null,
            "visibility": null,
            "width": null
          }
        },
        "6588bd84bdd2458d945137a16007f5e8": {
          "model_module": "@jupyter-widgets/controls",
          "model_module_version": "1.5.0",
          "model_name": "HTMLModel",
          "state": {
            "_dom_classes": [],
            "_model_module": "@jupyter-widgets/controls",
            "_model_module_version": "1.5.0",
            "_model_name": "HTMLModel",
            "_view_count": null,
            "_view_module": "@jupyter-widgets/controls",
            "_view_module_version": "1.5.0",
            "_view_name": "HTMLView",
            "description": "",
            "description_tooltip": null,
            "layout": "IPY_MODEL_4209339e5eb8438f9652460deae21c6b",
            "placeholder": "​",
            "style": "IPY_MODEL_8b3efd4090154047827ca7ad703bf499",
            "value": " 147/147 [00:00&lt;00:00, 4.01kB/s]"
          }
        },
        "6c83647866a2429da0bfc1e7c480b2fc": {
          "model_module": "@jupyter-widgets/base",
          "model_module_version": "1.2.0",
          "model_name": "LayoutModel",
          "state": {
            "_model_module": "@jupyter-widgets/base",
            "_model_module_version": "1.2.0",
            "_model_name": "LayoutModel",
            "_view_count": null,
            "_view_module": "@jupyter-widgets/base",
            "_view_module_version": "1.2.0",
            "_view_name": "LayoutView",
            "align_content": null,
            "align_items": null,
            "align_self": null,
            "border": null,
            "bottom": null,
            "display": null,
            "flex": null,
            "flex_flow": null,
            "grid_area": null,
            "grid_auto_columns": null,
            "grid_auto_flow": null,
            "grid_auto_rows": null,
            "grid_column": null,
            "grid_gap": null,
            "grid_row": null,
            "grid_template_areas": null,
            "grid_template_columns": null,
            "grid_template_rows": null,
            "height": null,
            "justify_content": null,
            "justify_items": null,
            "left": null,
            "margin": null,
            "max_height": null,
            "max_width": null,
            "min_height": null,
            "min_width": null,
            "object_fit": null,
            "object_position": null,
            "order": null,
            "overflow": null,
            "overflow_x": null,
            "overflow_y": null,
            "padding": null,
            "right": null,
            "top": null,
            "visibility": null,
            "width": null
          }
        },
        "6e3f1a7ad7ef46b38d0742b27dc61fab": {
          "model_module": "@jupyter-widgets/controls",
          "model_module_version": "1.5.0",
          "model_name": "ProgressStyleModel",
          "state": {
            "_model_module": "@jupyter-widgets/controls",
            "_model_module_version": "1.5.0",
            "_model_name": "ProgressStyleModel",
            "_view_count": null,
            "_view_module": "@jupyter-widgets/base",
            "_view_module_version": "1.2.0",
            "_view_name": "StyleView",
            "bar_color": null,
            "description_width": ""
          }
        },
        "709a450908c84c0081a6f6ba6e136666": {
          "model_module": "@jupyter-widgets/controls",
          "model_module_version": "1.5.0",
          "model_name": "FloatProgressModel",
          "state": {
            "_dom_classes": [],
            "_model_module": "@jupyter-widgets/controls",
            "_model_module_version": "1.5.0",
            "_model_name": "FloatProgressModel",
            "_view_count": null,
            "_view_module": "@jupyter-widgets/controls",
            "_view_module_version": "1.5.0",
            "_view_name": "ProgressView",
            "bar_style": "success",
            "description": "",
            "description_tooltip": null,
            "layout": "IPY_MODEL_6c83647866a2429da0bfc1e7c480b2fc",
            "max": 1209,
            "min": 0,
            "orientation": "horizontal",
            "style": "IPY_MODEL_6e3f1a7ad7ef46b38d0742b27dc61fab",
            "value": 1209
          }
        },
        "7488502eb2d743e4ab7c11e9b4e38814": {
          "model_module": "@jupyter-widgets/base",
          "model_module_version": "1.2.0",
          "model_name": "LayoutModel",
          "state": {
            "_model_module": "@jupyter-widgets/base",
            "_model_module_version": "1.2.0",
            "_model_name": "LayoutModel",
            "_view_count": null,
            "_view_module": "@jupyter-widgets/base",
            "_view_module_version": "1.2.0",
            "_view_name": "LayoutView",
            "align_content": null,
            "align_items": null,
            "align_self": null,
            "border": null,
            "bottom": null,
            "display": null,
            "flex": null,
            "flex_flow": null,
            "grid_area": null,
            "grid_auto_columns": null,
            "grid_auto_flow": null,
            "grid_auto_rows": null,
            "grid_column": null,
            "grid_gap": null,
            "grid_row": null,
            "grid_template_areas": null,
            "grid_template_columns": null,
            "grid_template_rows": null,
            "height": null,
            "justify_content": null,
            "justify_items": null,
            "left": null,
            "margin": null,
            "max_height": null,
            "max_width": null,
            "min_height": null,
            "min_width": null,
            "object_fit": null,
            "object_position": null,
            "order": null,
            "overflow": null,
            "overflow_x": null,
            "overflow_y": null,
            "padding": null,
            "right": null,
            "top": null,
            "visibility": null,
            "width": null
          }
        },
        "7b18347ae13f451fa75fc6c3018b6ac2": {
          "model_module": "@jupyter-widgets/controls",
          "model_module_version": "1.5.0",
          "model_name": "ProgressStyleModel",
          "state": {
            "_model_module": "@jupyter-widgets/controls",
            "_model_module_version": "1.5.0",
            "_model_name": "ProgressStyleModel",
            "_view_count": null,
            "_view_module": "@jupyter-widgets/base",
            "_view_module_version": "1.2.0",
            "_view_name": "StyleView",
            "bar_color": null,
            "description_width": ""
          }
        },
        "7faab6520b2945c9b4a1077783fd3096": {
          "model_module": "@jupyter-widgets/controls",
          "model_module_version": "1.5.0",
          "model_name": "FloatProgressModel",
          "state": {
            "_dom_classes": [],
            "_model_module": "@jupyter-widgets/controls",
            "_model_module_version": "1.5.0",
            "_model_name": "FloatProgressModel",
            "_view_count": null,
            "_view_module": "@jupyter-widgets/controls",
            "_view_module_version": "1.5.0",
            "_view_name": "ProgressView",
            "bar_style": "success",
            "description": "",
            "description_tooltip": null,
            "layout": "IPY_MODEL_9f909b30ad9b4fa498737619f767e7ee",
            "max": 1389353,
            "min": 0,
            "orientation": "horizontal",
            "style": "IPY_MODEL_cec011865f0042cfaf898222d29fb359",
            "value": 1389353
          }
        },
        "800d1a1d62f044a3b14fbb935758af6b": {
          "model_module": "@jupyter-widgets/controls",
          "model_module_version": "1.5.0",
          "model_name": "DescriptionStyleModel",
          "state": {
            "_model_module": "@jupyter-widgets/controls",
            "_model_module_version": "1.5.0",
            "_model_name": "DescriptionStyleModel",
            "_view_count": null,
            "_view_module": "@jupyter-widgets/base",
            "_view_module_version": "1.2.0",
            "_view_name": "StyleView",
            "description_width": ""
          }
        },
        "891ea26c59e84bd49734ed8aa4b324d0": {
          "model_module": "@jupyter-widgets/base",
          "model_module_version": "1.2.0",
          "model_name": "LayoutModel",
          "state": {
            "_model_module": "@jupyter-widgets/base",
            "_model_module_version": "1.2.0",
            "_model_name": "LayoutModel",
            "_view_count": null,
            "_view_module": "@jupyter-widgets/base",
            "_view_module_version": "1.2.0",
            "_view_name": "LayoutView",
            "align_content": null,
            "align_items": null,
            "align_self": null,
            "border": null,
            "bottom": null,
            "display": null,
            "flex": null,
            "flex_flow": null,
            "grid_area": null,
            "grid_auto_columns": null,
            "grid_auto_flow": null,
            "grid_auto_rows": null,
            "grid_column": null,
            "grid_gap": null,
            "grid_row": null,
            "grid_template_areas": null,
            "grid_template_columns": null,
            "grid_template_rows": null,
            "height": null,
            "justify_content": null,
            "justify_items": null,
            "left": null,
            "margin": null,
            "max_height": null,
            "max_width": null,
            "min_height": null,
            "min_width": null,
            "object_fit": null,
            "object_position": null,
            "order": null,
            "overflow": null,
            "overflow_x": null,
            "overflow_y": null,
            "padding": null,
            "right": null,
            "top": null,
            "visibility": null,
            "width": null
          }
        },
        "8b3efd4090154047827ca7ad703bf499": {
          "model_module": "@jupyter-widgets/controls",
          "model_module_version": "1.5.0",
          "model_name": "DescriptionStyleModel",
          "state": {
            "_model_module": "@jupyter-widgets/controls",
            "_model_module_version": "1.5.0",
            "_model_name": "DescriptionStyleModel",
            "_view_count": null,
            "_view_module": "@jupyter-widgets/base",
            "_view_module_version": "1.2.0",
            "_view_name": "StyleView",
            "description_width": ""
          }
        },
        "8b8d6511530846cfb289df4374affa06": {
          "model_module": "@jupyter-widgets/base",
          "model_module_version": "1.2.0",
          "model_name": "LayoutModel",
          "state": {
            "_model_module": "@jupyter-widgets/base",
            "_model_module_version": "1.2.0",
            "_model_name": "LayoutModel",
            "_view_count": null,
            "_view_module": "@jupyter-widgets/base",
            "_view_module_version": "1.2.0",
            "_view_name": "LayoutView",
            "align_content": null,
            "align_items": null,
            "align_self": null,
            "border": null,
            "bottom": null,
            "display": null,
            "flex": null,
            "flex_flow": null,
            "grid_area": null,
            "grid_auto_columns": null,
            "grid_auto_flow": null,
            "grid_auto_rows": null,
            "grid_column": null,
            "grid_gap": null,
            "grid_row": null,
            "grid_template_areas": null,
            "grid_template_columns": null,
            "grid_template_rows": null,
            "height": null,
            "justify_content": null,
            "justify_items": null,
            "left": null,
            "margin": null,
            "max_height": null,
            "max_width": null,
            "min_height": null,
            "min_width": null,
            "object_fit": null,
            "object_position": null,
            "order": null,
            "overflow": null,
            "overflow_x": null,
            "overflow_y": null,
            "padding": null,
            "right": null,
            "top": null,
            "visibility": null,
            "width": null
          }
        },
        "98858911ab784c028d7d261116d384a9": {
          "model_module": "@jupyter-widgets/controls",
          "model_module_version": "1.5.0",
          "model_name": "HTMLModel",
          "state": {
            "_dom_classes": [],
            "_model_module": "@jupyter-widgets/controls",
            "_model_module_version": "1.5.0",
            "_model_name": "HTMLModel",
            "_view_count": null,
            "_view_module": "@jupyter-widgets/controls",
            "_view_module_version": "1.5.0",
            "_view_name": "HTMLView",
            "description": "",
            "description_tooltip": null,
            "layout": "IPY_MODEL_27460488413f45328aa496efd949c0ba",
            "placeholder": "​",
            "style": "IPY_MODEL_a8e0803eac484d998a15a5a5a2a36197",
            "value": "Downloading (…)ve/main/spiece.model: 100%"
          }
        },
        "9f909b30ad9b4fa498737619f767e7ee": {
          "model_module": "@jupyter-widgets/base",
          "model_module_version": "1.2.0",
          "model_name": "LayoutModel",
          "state": {
            "_model_module": "@jupyter-widgets/base",
            "_model_module_version": "1.2.0",
            "_model_name": "LayoutModel",
            "_view_count": null,
            "_view_module": "@jupyter-widgets/base",
            "_view_module_version": "1.2.0",
            "_view_name": "LayoutView",
            "align_content": null,
            "align_items": null,
            "align_self": null,
            "border": null,
            "bottom": null,
            "display": null,
            "flex": null,
            "flex_flow": null,
            "grid_area": null,
            "grid_auto_columns": null,
            "grid_auto_flow": null,
            "grid_auto_rows": null,
            "grid_column": null,
            "grid_gap": null,
            "grid_row": null,
            "grid_template_areas": null,
            "grid_template_columns": null,
            "grid_template_rows": null,
            "height": null,
            "justify_content": null,
            "justify_items": null,
            "left": null,
            "margin": null,
            "max_height": null,
            "max_width": null,
            "min_height": null,
            "min_width": null,
            "object_fit": null,
            "object_position": null,
            "order": null,
            "overflow": null,
            "overflow_x": null,
            "overflow_y": null,
            "padding": null,
            "right": null,
            "top": null,
            "visibility": null,
            "width": null
          }
        },
        "a4a074620d6e443abe9bc9b38a303a5c": {
          "model_module": "@jupyter-widgets/base",
          "model_module_version": "1.2.0",
          "model_name": "LayoutModel",
          "state": {
            "_model_module": "@jupyter-widgets/base",
            "_model_module_version": "1.2.0",
            "_model_name": "LayoutModel",
            "_view_count": null,
            "_view_module": "@jupyter-widgets/base",
            "_view_module_version": "1.2.0",
            "_view_name": "LayoutView",
            "align_content": null,
            "align_items": null,
            "align_self": null,
            "border": null,
            "bottom": null,
            "display": null,
            "flex": null,
            "flex_flow": null,
            "grid_area": null,
            "grid_auto_columns": null,
            "grid_auto_flow": null,
            "grid_auto_rows": null,
            "grid_column": null,
            "grid_gap": null,
            "grid_row": null,
            "grid_template_areas": null,
            "grid_template_columns": null,
            "grid_template_rows": null,
            "height": null,
            "justify_content": null,
            "justify_items": null,
            "left": null,
            "margin": null,
            "max_height": null,
            "max_width": null,
            "min_height": null,
            "min_width": null,
            "object_fit": null,
            "object_position": null,
            "order": null,
            "overflow": null,
            "overflow_x": null,
            "overflow_y": null,
            "padding": null,
            "right": null,
            "top": null,
            "visibility": null,
            "width": null
          }
        },
        "a8e0803eac484d998a15a5a5a2a36197": {
          "model_module": "@jupyter-widgets/controls",
          "model_module_version": "1.5.0",
          "model_name": "DescriptionStyleModel",
          "state": {
            "_model_module": "@jupyter-widgets/controls",
            "_model_module_version": "1.5.0",
            "_model_name": "DescriptionStyleModel",
            "_view_count": null,
            "_view_module": "@jupyter-widgets/base",
            "_view_module_version": "1.2.0",
            "_view_name": "StyleView",
            "description_width": ""
          }
        },
        "ac2d20f9694a4079a1d2ee0edfbad543": {
          "model_module": "@jupyter-widgets/controls",
          "model_module_version": "1.5.0",
          "model_name": "FloatProgressModel",
          "state": {
            "_dom_classes": [],
            "_model_module": "@jupyter-widgets/controls",
            "_model_module_version": "1.5.0",
            "_model_name": "FloatProgressModel",
            "_view_count": null,
            "_view_module": "@jupyter-widgets/controls",
            "_view_module_version": "1.5.0",
            "_view_name": "ProgressView",
            "bar_style": "success",
            "description": "",
            "description_tooltip": null,
            "layout": "IPY_MODEL_2316f12a61074bd68253d66798ad5893",
            "max": 791656,
            "min": 0,
            "orientation": "horizontal",
            "style": "IPY_MODEL_7b18347ae13f451fa75fc6c3018b6ac2",
            "value": 791656
          }
        },
        "ac56aaa8dbdb400193f6f3dfb833572f": {
          "model_module": "@jupyter-widgets/controls",
          "model_module_version": "1.5.0",
          "model_name": "DescriptionStyleModel",
          "state": {
            "_model_module": "@jupyter-widgets/controls",
            "_model_module_version": "1.5.0",
            "_model_name": "DescriptionStyleModel",
            "_view_count": null,
            "_view_module": "@jupyter-widgets/base",
            "_view_module_version": "1.2.0",
            "_view_name": "StyleView",
            "description_width": ""
          }
        },
        "b425e1c736ad416b949bbbde5ba61c25": {
          "model_module": "@jupyter-widgets/controls",
          "model_module_version": "1.5.0",
          "model_name": "HTMLModel",
          "state": {
            "_dom_classes": [],
            "_model_module": "@jupyter-widgets/controls",
            "_model_module_version": "1.5.0",
            "_model_name": "HTMLModel",
            "_view_count": null,
            "_view_module": "@jupyter-widgets/controls",
            "_view_module_version": "1.5.0",
            "_view_name": "HTMLView",
            "description": "",
            "description_tooltip": null,
            "layout": "IPY_MODEL_7488502eb2d743e4ab7c11e9b4e38814",
            "placeholder": "​",
            "style": "IPY_MODEL_5a15a5ff968e43d5a98eb758b11f2fb1",
            "value": " 2.95G/2.95G [00:23&lt;00:00, 171MB/s]"
          }
        },
        "ba7407f3dafd4d30b32b6ff29b8de188": {
          "model_module": "@jupyter-widgets/base",
          "model_module_version": "1.2.0",
          "model_name": "LayoutModel",
          "state": {
            "_model_module": "@jupyter-widgets/base",
            "_model_module_version": "1.2.0",
            "_model_name": "LayoutModel",
            "_view_count": null,
            "_view_module": "@jupyter-widgets/base",
            "_view_module_version": "1.2.0",
            "_view_name": "LayoutView",
            "align_content": null,
            "align_items": null,
            "align_self": null,
            "border": null,
            "bottom": null,
            "display": null,
            "flex": null,
            "flex_flow": null,
            "grid_area": null,
            "grid_auto_columns": null,
            "grid_auto_flow": null,
            "grid_auto_rows": null,
            "grid_column": null,
            "grid_gap": null,
            "grid_row": null,
            "grid_template_areas": null,
            "grid_template_columns": null,
            "grid_template_rows": null,
            "height": null,
            "justify_content": null,
            "justify_items": null,
            "left": null,
            "margin": null,
            "max_height": null,
            "max_width": null,
            "min_height": null,
            "min_width": null,
            "object_fit": null,
            "object_position": null,
            "order": null,
            "overflow": null,
            "overflow_x": null,
            "overflow_y": null,
            "padding": null,
            "right": null,
            "top": null,
            "visibility": null,
            "width": null
          }
        },
        "c3844dfa31f446d0b2e51e0eee454612": {
          "model_module": "@jupyter-widgets/controls",
          "model_module_version": "1.5.0",
          "model_name": "HTMLModel",
          "state": {
            "_dom_classes": [],
            "_model_module": "@jupyter-widgets/controls",
            "_model_module_version": "1.5.0",
            "_model_name": "HTMLModel",
            "_view_count": null,
            "_view_module": "@jupyter-widgets/controls",
            "_view_module_version": "1.5.0",
            "_view_name": "HTMLView",
            "description": "",
            "description_tooltip": null,
            "layout": "IPY_MODEL_d69504e6293c4512b942593c2c495111",
            "placeholder": "​",
            "style": "IPY_MODEL_5e40905d5a594ca3b042cd63150f1a18",
            "value": " 1.39M/1.39M [00:00&lt;00:00, 3.49MB/s]"
          }
        },
        "cbc2202c5bb6415da0a86e3a275983ef": {
          "model_module": "@jupyter-widgets/controls",
          "model_module_version": "1.5.0",
          "model_name": "HTMLModel",
          "state": {
            "_dom_classes": [],
            "_model_module": "@jupyter-widgets/controls",
            "_model_module_version": "1.5.0",
            "_model_name": "HTMLModel",
            "_view_count": null,
            "_view_module": "@jupyter-widgets/controls",
            "_view_module_version": "1.5.0",
            "_view_name": "HTMLView",
            "description": "",
            "description_tooltip": null,
            "layout": "IPY_MODEL_8b8d6511530846cfb289df4374affa06",
            "placeholder": "​",
            "style": "IPY_MODEL_2941bba83cd24424ab920986f752ace4",
            "value": "Downloading (…)&quot;pytorch_model.bin&quot;;: 100%"
          }
        },
        "ceab81b29ac54155b94ae0f8dec96e73": {
          "model_module": "@jupyter-widgets/controls",
          "model_module_version": "1.5.0",
          "model_name": "HBoxModel",
          "state": {
            "_dom_classes": [],
            "_model_module": "@jupyter-widgets/controls",
            "_model_module_version": "1.5.0",
            "_model_name": "HBoxModel",
            "_view_count": null,
            "_view_module": "@jupyter-widgets/controls",
            "_view_module_version": "1.5.0",
            "_view_name": "HBoxView",
            "box_style": "",
            "children": [
              "IPY_MODEL_cbc2202c5bb6415da0a86e3a275983ef",
              "IPY_MODEL_182a0427955b4ac686018722bd5609e6",
              "IPY_MODEL_b425e1c736ad416b949bbbde5ba61c25"
            ],
            "layout": "IPY_MODEL_ba7407f3dafd4d30b32b6ff29b8de188"
          }
        },
        "cec011865f0042cfaf898222d29fb359": {
          "model_module": "@jupyter-widgets/controls",
          "model_module_version": "1.5.0",
          "model_name": "ProgressStyleModel",
          "state": {
            "_model_module": "@jupyter-widgets/controls",
            "_model_module_version": "1.5.0",
            "_model_name": "ProgressStyleModel",
            "_view_count": null,
            "_view_module": "@jupyter-widgets/base",
            "_view_module_version": "1.2.0",
            "_view_name": "StyleView",
            "bar_color": null,
            "description_width": ""
          }
        },
        "cfb5ca21d3a34d7fa6da28ba8411ef2a": {
          "model_module": "@jupyter-widgets/controls",
          "model_module_version": "1.5.0",
          "model_name": "HBoxModel",
          "state": {
            "_dom_classes": [],
            "_model_module": "@jupyter-widgets/controls",
            "_model_module_version": "1.5.0",
            "_model_name": "HBoxModel",
            "_view_count": null,
            "_view_module": "@jupyter-widgets/controls",
            "_view_module_version": "1.5.0",
            "_view_name": "HBoxView",
            "box_style": "",
            "children": [
              "IPY_MODEL_98858911ab784c028d7d261116d384a9",
              "IPY_MODEL_ac2d20f9694a4079a1d2ee0edfbad543",
              "IPY_MODEL_e444f793a5ea47559bfa053a84e1eaec"
            ],
            "layout": "IPY_MODEL_a4a074620d6e443abe9bc9b38a303a5c"
          }
        },
        "d62b57bfec074e9a8a072599a327293e": {
          "model_module": "@jupyter-widgets/controls",
          "model_module_version": "1.5.0",
          "model_name": "HTMLModel",
          "state": {
            "_dom_classes": [],
            "_model_module": "@jupyter-widgets/controls",
            "_model_module_version": "1.5.0",
            "_model_name": "HTMLModel",
            "_view_count": null,
            "_view_module": "@jupyter-widgets/controls",
            "_view_module_version": "1.5.0",
            "_view_name": "HTMLView",
            "description": "",
            "description_tooltip": null,
            "layout": "IPY_MODEL_f55476c81e17435d9ff1c2267d07c14c",
            "placeholder": "​",
            "style": "IPY_MODEL_800d1a1d62f044a3b14fbb935758af6b",
            "value": "Downloading (…)lve/main/config.json: 100%"
          }
        },
        "d69504e6293c4512b942593c2c495111": {
          "model_module": "@jupyter-widgets/base",
          "model_module_version": "1.2.0",
          "model_name": "LayoutModel",
          "state": {
            "_model_module": "@jupyter-widgets/base",
            "_model_module_version": "1.2.0",
            "_model_name": "LayoutModel",
            "_view_count": null,
            "_view_module": "@jupyter-widgets/base",
            "_view_module_version": "1.2.0",
            "_view_name": "LayoutView",
            "align_content": null,
            "align_items": null,
            "align_self": null,
            "border": null,
            "bottom": null,
            "display": null,
            "flex": null,
            "flex_flow": null,
            "grid_area": null,
            "grid_auto_columns": null,
            "grid_auto_flow": null,
            "grid_auto_rows": null,
            "grid_column": null,
            "grid_gap": null,
            "grid_row": null,
            "grid_template_areas": null,
            "grid_template_columns": null,
            "grid_template_rows": null,
            "height": null,
            "justify_content": null,
            "justify_items": null,
            "left": null,
            "margin": null,
            "max_height": null,
            "max_width": null,
            "min_height": null,
            "min_width": null,
            "object_fit": null,
            "object_position": null,
            "order": null,
            "overflow": null,
            "overflow_x": null,
            "overflow_y": null,
            "padding": null,
            "right": null,
            "top": null,
            "visibility": null,
            "width": null
          }
        },
        "da6a976fdeb64d578f9cc870c3117b8d": {
          "model_module": "@jupyter-widgets/controls",
          "model_module_version": "1.5.0",
          "model_name": "DescriptionStyleModel",
          "state": {
            "_model_module": "@jupyter-widgets/controls",
            "_model_module_version": "1.5.0",
            "_model_name": "DescriptionStyleModel",
            "_view_count": null,
            "_view_module": "@jupyter-widgets/base",
            "_view_module_version": "1.2.0",
            "_view_name": "StyleView",
            "description_width": ""
          }
        },
        "ddca2744693b48b382bbfa8b3d022713": {
          "model_module": "@jupyter-widgets/controls",
          "model_module_version": "1.5.0",
          "model_name": "ProgressStyleModel",
          "state": {
            "_model_module": "@jupyter-widgets/controls",
            "_model_module_version": "1.5.0",
            "_model_name": "ProgressStyleModel",
            "_view_count": null,
            "_view_module": "@jupyter-widgets/base",
            "_view_module_version": "1.2.0",
            "_view_name": "StyleView",
            "bar_color": null,
            "description_width": ""
          }
        },
        "e444f793a5ea47559bfa053a84e1eaec": {
          "model_module": "@jupyter-widgets/controls",
          "model_module_version": "1.5.0",
          "model_name": "HTMLModel",
          "state": {
            "_dom_classes": [],
            "_model_module": "@jupyter-widgets/controls",
            "_model_module_version": "1.5.0",
            "_model_name": "HTMLModel",
            "_view_count": null,
            "_view_module": "@jupyter-widgets/controls",
            "_view_module_version": "1.5.0",
            "_view_name": "HTMLView",
            "description": "",
            "description_tooltip": null,
            "layout": "IPY_MODEL_27ed98c3550048a9803439920134bd63",
            "placeholder": "​",
            "style": "IPY_MODEL_ac56aaa8dbdb400193f6f3dfb833572f",
            "value": " 792k/792k [00:00&lt;00:00, 2.28MB/s]"
          }
        },
        "f2c2a2d1898444f98110f81990a3d8ed": {
          "model_module": "@jupyter-widgets/base",
          "model_module_version": "1.2.0",
          "model_name": "LayoutModel",
          "state": {
            "_model_module": "@jupyter-widgets/base",
            "_model_module_version": "1.2.0",
            "_model_name": "LayoutModel",
            "_view_count": null,
            "_view_module": "@jupyter-widgets/base",
            "_view_module_version": "1.2.0",
            "_view_name": "LayoutView",
            "align_content": null,
            "align_items": null,
            "align_self": null,
            "border": null,
            "bottom": null,
            "display": null,
            "flex": null,
            "flex_flow": null,
            "grid_area": null,
            "grid_auto_columns": null,
            "grid_auto_flow": null,
            "grid_auto_rows": null,
            "grid_column": null,
            "grid_gap": null,
            "grid_row": null,
            "grid_template_areas": null,
            "grid_template_columns": null,
            "grid_template_rows": null,
            "height": null,
            "justify_content": null,
            "justify_items": null,
            "left": null,
            "margin": null,
            "max_height": null,
            "max_width": null,
            "min_height": null,
            "min_width": null,
            "object_fit": null,
            "object_position": null,
            "order": null,
            "overflow": null,
            "overflow_x": null,
            "overflow_y": null,
            "padding": null,
            "right": null,
            "top": null,
            "visibility": null,
            "width": null
          }
        },
        "f55476c81e17435d9ff1c2267d07c14c": {
          "model_module": "@jupyter-widgets/base",
          "model_module_version": "1.2.0",
          "model_name": "LayoutModel",
          "state": {
            "_model_module": "@jupyter-widgets/base",
            "_model_module_version": "1.2.0",
            "_model_name": "LayoutModel",
            "_view_count": null,
            "_view_module": "@jupyter-widgets/base",
            "_view_module_version": "1.2.0",
            "_view_name": "LayoutView",
            "align_content": null,
            "align_items": null,
            "align_self": null,
            "border": null,
            "bottom": null,
            "display": null,
            "flex": null,
            "flex_flow": null,
            "grid_area": null,
            "grid_auto_columns": null,
            "grid_auto_flow": null,
            "grid_auto_rows": null,
            "grid_column": null,
            "grid_gap": null,
            "grid_row": null,
            "grid_template_areas": null,
            "grid_template_columns": null,
            "grid_template_rows": null,
            "height": null,
            "justify_content": null,
            "justify_items": null,
            "left": null,
            "margin": null,
            "max_height": null,
            "max_width": null,
            "min_height": null,
            "min_width": null,
            "object_fit": null,
            "object_position": null,
            "order": null,
            "overflow": null,
            "overflow_x": null,
            "overflow_y": null,
            "padding": null,
            "right": null,
            "top": null,
            "visibility": null,
            "width": null
          }
        },
        "f8cd81e8f43b4f36bc252e3041bef7f8": {
          "model_module": "@jupyter-widgets/controls",
          "model_module_version": "1.5.0",
          "model_name": "FloatProgressModel",
          "state": {
            "_dom_classes": [],
            "_model_module": "@jupyter-widgets/controls",
            "_model_module_version": "1.5.0",
            "_model_name": "FloatProgressModel",
            "_view_count": null,
            "_view_module": "@jupyter-widgets/controls",
            "_view_module_version": "1.5.0",
            "_view_name": "ProgressView",
            "bar_style": "success",
            "description": "",
            "description_tooltip": null,
            "layout": "IPY_MODEL_0259dce322bc4e879aab1a361d810348",
            "max": 147,
            "min": 0,
            "orientation": "horizontal",
            "style": "IPY_MODEL_46f7f69ff2d64d1a87fcca0ac2926454",
            "value": 147
          }
        },
        "f8d78cc483ab4849aacd5db010d44d43": {
          "model_module": "@jupyter-widgets/base",
          "model_module_version": "1.2.0",
          "model_name": "LayoutModel",
          "state": {
            "_model_module": "@jupyter-widgets/base",
            "_model_module_version": "1.2.0",
            "_model_name": "LayoutModel",
            "_view_count": null,
            "_view_module": "@jupyter-widgets/base",
            "_view_module_version": "1.2.0",
            "_view_name": "LayoutView",
            "align_content": null,
            "align_items": null,
            "align_self": null,
            "border": null,
            "bottom": null,
            "display": null,
            "flex": null,
            "flex_flow": null,
            "grid_area": null,
            "grid_auto_columns": null,
            "grid_auto_flow": null,
            "grid_auto_rows": null,
            "grid_column": null,
            "grid_gap": null,
            "grid_row": null,
            "grid_template_areas": null,
            "grid_template_columns": null,
            "grid_template_rows": null,
            "height": null,
            "justify_content": null,
            "justify_items": null,
            "left": null,
            "margin": null,
            "max_height": null,
            "max_width": null,
            "min_height": null,
            "min_width": null,
            "object_fit": null,
            "object_position": null,
            "order": null,
            "overflow": null,
            "overflow_x": null,
            "overflow_y": null,
            "padding": null,
            "right": null,
            "top": null,
            "visibility": null,
            "width": null
          }
        },
        "c0bd2c4888334bc294380b70a6b4a189": {
          "model_module": "@jupyter-widgets/controls",
          "model_name": "HBoxModel",
          "model_module_version": "1.5.0",
          "state": {
            "_dom_classes": [],
            "_model_module": "@jupyter-widgets/controls",
            "_model_module_version": "1.5.0",
            "_model_name": "HBoxModel",
            "_view_count": null,
            "_view_module": "@jupyter-widgets/controls",
            "_view_module_version": "1.5.0",
            "_view_name": "HBoxView",
            "box_style": "",
            "children": [
              "IPY_MODEL_2e4b6c8a20004929a3d3dbbaf5a7c193",
              "IPY_MODEL_31c801ce79c346c19571cdbfcc443a96",
              "IPY_MODEL_c9976277e34a48b99e2fff7da7898291"
            ],
            "layout": "IPY_MODEL_85c017b13d3a406aaf718ca281b9bc64"
          }
        },
        "2e4b6c8a20004929a3d3dbbaf5a7c193": {
          "model_module": "@jupyter-widgets/controls",
          "model_name": "HTMLModel",
          "model_module_version": "1.5.0",
          "state": {
            "_dom_classes": [],
            "_model_module": "@jupyter-widgets/controls",
            "_model_module_version": "1.5.0",
            "_model_name": "HTMLModel",
            "_view_count": null,
            "_view_module": "@jupyter-widgets/controls",
            "_view_module_version": "1.5.0",
            "_view_name": "HTMLView",
            "description": "",
            "description_tooltip": null,
            "layout": "IPY_MODEL_684fd9dbc31f463d8c730e43d15c875a",
            "placeholder": "​",
            "style": "IPY_MODEL_549bca2cdd024b91a1de2e845d0d6ce5",
            "value": "Downloading (…)okenizer_config.json: 100%"
          }
        },
        "31c801ce79c346c19571cdbfcc443a96": {
          "model_module": "@jupyter-widgets/controls",
          "model_name": "FloatProgressModel",
          "model_module_version": "1.5.0",
          "state": {
            "_dom_classes": [],
            "_model_module": "@jupyter-widgets/controls",
            "_model_module_version": "1.5.0",
            "_model_name": "FloatProgressModel",
            "_view_count": null,
            "_view_module": "@jupyter-widgets/controls",
            "_view_module_version": "1.5.0",
            "_view_name": "ProgressView",
            "bar_style": "success",
            "description": "",
            "description_tooltip": null,
            "layout": "IPY_MODEL_e3412c62c7d5426a85d627c8bba02585",
            "max": 26,
            "min": 0,
            "orientation": "horizontal",
            "style": "IPY_MODEL_4f2ca72b95ee4c01a0f062355ce30536",
            "value": 26
          }
        },
        "c9976277e34a48b99e2fff7da7898291": {
          "model_module": "@jupyter-widgets/controls",
          "model_name": "HTMLModel",
          "model_module_version": "1.5.0",
          "state": {
            "_dom_classes": [],
            "_model_module": "@jupyter-widgets/controls",
            "_model_module_version": "1.5.0",
            "_model_name": "HTMLModel",
            "_view_count": null,
            "_view_module": "@jupyter-widgets/controls",
            "_view_module_version": "1.5.0",
            "_view_name": "HTMLView",
            "description": "",
            "description_tooltip": null,
            "layout": "IPY_MODEL_81cf26079a464140ae61e542a228ea59",
            "placeholder": "​",
            "style": "IPY_MODEL_d14bbbda1e7f42f38e371f577e0fc34e",
            "value": " 26.0/26.0 [00:00&lt;00:00, 1.24kB/s]"
          }
        },
        "85c017b13d3a406aaf718ca281b9bc64": {
          "model_module": "@jupyter-widgets/base",
          "model_name": "LayoutModel",
          "model_module_version": "1.2.0",
          "state": {
            "_model_module": "@jupyter-widgets/base",
            "_model_module_version": "1.2.0",
            "_model_name": "LayoutModel",
            "_view_count": null,
            "_view_module": "@jupyter-widgets/base",
            "_view_module_version": "1.2.0",
            "_view_name": "LayoutView",
            "align_content": null,
            "align_items": null,
            "align_self": null,
            "border": null,
            "bottom": null,
            "display": null,
            "flex": null,
            "flex_flow": null,
            "grid_area": null,
            "grid_auto_columns": null,
            "grid_auto_flow": null,
            "grid_auto_rows": null,
            "grid_column": null,
            "grid_gap": null,
            "grid_row": null,
            "grid_template_areas": null,
            "grid_template_columns": null,
            "grid_template_rows": null,
            "height": null,
            "justify_content": null,
            "justify_items": null,
            "left": null,
            "margin": null,
            "max_height": null,
            "max_width": null,
            "min_height": null,
            "min_width": null,
            "object_fit": null,
            "object_position": null,
            "order": null,
            "overflow": null,
            "overflow_x": null,
            "overflow_y": null,
            "padding": null,
            "right": null,
            "top": null,
            "visibility": null,
            "width": null
          }
        },
        "684fd9dbc31f463d8c730e43d15c875a": {
          "model_module": "@jupyter-widgets/base",
          "model_name": "LayoutModel",
          "model_module_version": "1.2.0",
          "state": {
            "_model_module": "@jupyter-widgets/base",
            "_model_module_version": "1.2.0",
            "_model_name": "LayoutModel",
            "_view_count": null,
            "_view_module": "@jupyter-widgets/base",
            "_view_module_version": "1.2.0",
            "_view_name": "LayoutView",
            "align_content": null,
            "align_items": null,
            "align_self": null,
            "border": null,
            "bottom": null,
            "display": null,
            "flex": null,
            "flex_flow": null,
            "grid_area": null,
            "grid_auto_columns": null,
            "grid_auto_flow": null,
            "grid_auto_rows": null,
            "grid_column": null,
            "grid_gap": null,
            "grid_row": null,
            "grid_template_areas": null,
            "grid_template_columns": null,
            "grid_template_rows": null,
            "height": null,
            "justify_content": null,
            "justify_items": null,
            "left": null,
            "margin": null,
            "max_height": null,
            "max_width": null,
            "min_height": null,
            "min_width": null,
            "object_fit": null,
            "object_position": null,
            "order": null,
            "overflow": null,
            "overflow_x": null,
            "overflow_y": null,
            "padding": null,
            "right": null,
            "top": null,
            "visibility": null,
            "width": null
          }
        },
        "549bca2cdd024b91a1de2e845d0d6ce5": {
          "model_module": "@jupyter-widgets/controls",
          "model_name": "DescriptionStyleModel",
          "model_module_version": "1.5.0",
          "state": {
            "_model_module": "@jupyter-widgets/controls",
            "_model_module_version": "1.5.0",
            "_model_name": "DescriptionStyleModel",
            "_view_count": null,
            "_view_module": "@jupyter-widgets/base",
            "_view_module_version": "1.2.0",
            "_view_name": "StyleView",
            "description_width": ""
          }
        },
        "e3412c62c7d5426a85d627c8bba02585": {
          "model_module": "@jupyter-widgets/base",
          "model_name": "LayoutModel",
          "model_module_version": "1.2.0",
          "state": {
            "_model_module": "@jupyter-widgets/base",
            "_model_module_version": "1.2.0",
            "_model_name": "LayoutModel",
            "_view_count": null,
            "_view_module": "@jupyter-widgets/base",
            "_view_module_version": "1.2.0",
            "_view_name": "LayoutView",
            "align_content": null,
            "align_items": null,
            "align_self": null,
            "border": null,
            "bottom": null,
            "display": null,
            "flex": null,
            "flex_flow": null,
            "grid_area": null,
            "grid_auto_columns": null,
            "grid_auto_flow": null,
            "grid_auto_rows": null,
            "grid_column": null,
            "grid_gap": null,
            "grid_row": null,
            "grid_template_areas": null,
            "grid_template_columns": null,
            "grid_template_rows": null,
            "height": null,
            "justify_content": null,
            "justify_items": null,
            "left": null,
            "margin": null,
            "max_height": null,
            "max_width": null,
            "min_height": null,
            "min_width": null,
            "object_fit": null,
            "object_position": null,
            "order": null,
            "overflow": null,
            "overflow_x": null,
            "overflow_y": null,
            "padding": null,
            "right": null,
            "top": null,
            "visibility": null,
            "width": null
          }
        },
        "4f2ca72b95ee4c01a0f062355ce30536": {
          "model_module": "@jupyter-widgets/controls",
          "model_name": "ProgressStyleModel",
          "model_module_version": "1.5.0",
          "state": {
            "_model_module": "@jupyter-widgets/controls",
            "_model_module_version": "1.5.0",
            "_model_name": "ProgressStyleModel",
            "_view_count": null,
            "_view_module": "@jupyter-widgets/base",
            "_view_module_version": "1.2.0",
            "_view_name": "StyleView",
            "bar_color": null,
            "description_width": ""
          }
        },
        "81cf26079a464140ae61e542a228ea59": {
          "model_module": "@jupyter-widgets/base",
          "model_name": "LayoutModel",
          "model_module_version": "1.2.0",
          "state": {
            "_model_module": "@jupyter-widgets/base",
            "_model_module_version": "1.2.0",
            "_model_name": "LayoutModel",
            "_view_count": null,
            "_view_module": "@jupyter-widgets/base",
            "_view_module_version": "1.2.0",
            "_view_name": "LayoutView",
            "align_content": null,
            "align_items": null,
            "align_self": null,
            "border": null,
            "bottom": null,
            "display": null,
            "flex": null,
            "flex_flow": null,
            "grid_area": null,
            "grid_auto_columns": null,
            "grid_auto_flow": null,
            "grid_auto_rows": null,
            "grid_column": null,
            "grid_gap": null,
            "grid_row": null,
            "grid_template_areas": null,
            "grid_template_columns": null,
            "grid_template_rows": null,
            "height": null,
            "justify_content": null,
            "justify_items": null,
            "left": null,
            "margin": null,
            "max_height": null,
            "max_width": null,
            "min_height": null,
            "min_width": null,
            "object_fit": null,
            "object_position": null,
            "order": null,
            "overflow": null,
            "overflow_x": null,
            "overflow_y": null,
            "padding": null,
            "right": null,
            "top": null,
            "visibility": null,
            "width": null
          }
        },
        "d14bbbda1e7f42f38e371f577e0fc34e": {
          "model_module": "@jupyter-widgets/controls",
          "model_name": "DescriptionStyleModel",
          "model_module_version": "1.5.0",
          "state": {
            "_model_module": "@jupyter-widgets/controls",
            "_model_module_version": "1.5.0",
            "_model_name": "DescriptionStyleModel",
            "_view_count": null,
            "_view_module": "@jupyter-widgets/base",
            "_view_module_version": "1.2.0",
            "_view_name": "StyleView",
            "description_width": ""
          }
        },
        "d6629a6f5b424371a24856e22994babf": {
          "model_module": "@jupyter-widgets/controls",
          "model_name": "HBoxModel",
          "model_module_version": "1.5.0",
          "state": {
            "_dom_classes": [],
            "_model_module": "@jupyter-widgets/controls",
            "_model_module_version": "1.5.0",
            "_model_name": "HBoxModel",
            "_view_count": null,
            "_view_module": "@jupyter-widgets/controls",
            "_view_module_version": "1.5.0",
            "_view_name": "HBoxView",
            "box_style": "",
            "children": [
              "IPY_MODEL_6df19af955894d6f87d90ddefd54fc86",
              "IPY_MODEL_8fd7f0fa961f47e7b064de42c0328d7f",
              "IPY_MODEL_86cd541e2e7d41f2b0ebd5672ff8bbf8"
            ],
            "layout": "IPY_MODEL_1879049519a04da9b8c3634956acccd4"
          }
        },
        "6df19af955894d6f87d90ddefd54fc86": {
          "model_module": "@jupyter-widgets/controls",
          "model_name": "HTMLModel",
          "model_module_version": "1.5.0",
          "state": {
            "_dom_classes": [],
            "_model_module": "@jupyter-widgets/controls",
            "_model_module_version": "1.5.0",
            "_model_name": "HTMLModel",
            "_view_count": null,
            "_view_module": "@jupyter-widgets/controls",
            "_view_module_version": "1.5.0",
            "_view_name": "HTMLView",
            "description": "",
            "description_tooltip": null,
            "layout": "IPY_MODEL_0cb3d6700b044cd28a1fb5938abc545d",
            "placeholder": "​",
            "style": "IPY_MODEL_8a3c1e4b0b39406f914e0548d340a20a",
            "value": "Downloading (…)lve/main/config.json: 100%"
          }
        },
        "8fd7f0fa961f47e7b064de42c0328d7f": {
          "model_module": "@jupyter-widgets/controls",
          "model_name": "FloatProgressModel",
          "model_module_version": "1.5.0",
          "state": {
            "_dom_classes": [],
            "_model_module": "@jupyter-widgets/controls",
            "_model_module_version": "1.5.0",
            "_model_name": "FloatProgressModel",
            "_view_count": null,
            "_view_module": "@jupyter-widgets/controls",
            "_view_module_version": "1.5.0",
            "_view_name": "ProgressView",
            "bar_style": "success",
            "description": "",
            "description_tooltip": null,
            "layout": "IPY_MODEL_bd552abf25d7490b837726aee009156c",
            "max": 1802,
            "min": 0,
            "orientation": "horizontal",
            "style": "IPY_MODEL_3db4aae5b6434b1ead1b1bb5e25beb19",
            "value": 1802
          }
        },
        "86cd541e2e7d41f2b0ebd5672ff8bbf8": {
          "model_module": "@jupyter-widgets/controls",
          "model_name": "HTMLModel",
          "model_module_version": "1.5.0",
          "state": {
            "_dom_classes": [],
            "_model_module": "@jupyter-widgets/controls",
            "_model_module_version": "1.5.0",
            "_model_name": "HTMLModel",
            "_view_count": null,
            "_view_module": "@jupyter-widgets/controls",
            "_view_module_version": "1.5.0",
            "_view_name": "HTMLView",
            "description": "",
            "description_tooltip": null,
            "layout": "IPY_MODEL_ca7b00db25fb41589b40892f1cd13488",
            "placeholder": "​",
            "style": "IPY_MODEL_6a053ed0072448efbc334a7ff3b3dbba",
            "value": " 1.80k/1.80k [00:00&lt;00:00, 96.3kB/s]"
          }
        },
        "1879049519a04da9b8c3634956acccd4": {
          "model_module": "@jupyter-widgets/base",
          "model_name": "LayoutModel",
          "model_module_version": "1.2.0",
          "state": {
            "_model_module": "@jupyter-widgets/base",
            "_model_module_version": "1.2.0",
            "_model_name": "LayoutModel",
            "_view_count": null,
            "_view_module": "@jupyter-widgets/base",
            "_view_module_version": "1.2.0",
            "_view_name": "LayoutView",
            "align_content": null,
            "align_items": null,
            "align_self": null,
            "border": null,
            "bottom": null,
            "display": null,
            "flex": null,
            "flex_flow": null,
            "grid_area": null,
            "grid_auto_columns": null,
            "grid_auto_flow": null,
            "grid_auto_rows": null,
            "grid_column": null,
            "grid_gap": null,
            "grid_row": null,
            "grid_template_areas": null,
            "grid_template_columns": null,
            "grid_template_rows": null,
            "height": null,
            "justify_content": null,
            "justify_items": null,
            "left": null,
            "margin": null,
            "max_height": null,
            "max_width": null,
            "min_height": null,
            "min_width": null,
            "object_fit": null,
            "object_position": null,
            "order": null,
            "overflow": null,
            "overflow_x": null,
            "overflow_y": null,
            "padding": null,
            "right": null,
            "top": null,
            "visibility": null,
            "width": null
          }
        },
        "0cb3d6700b044cd28a1fb5938abc545d": {
          "model_module": "@jupyter-widgets/base",
          "model_name": "LayoutModel",
          "model_module_version": "1.2.0",
          "state": {
            "_model_module": "@jupyter-widgets/base",
            "_model_module_version": "1.2.0",
            "_model_name": "LayoutModel",
            "_view_count": null,
            "_view_module": "@jupyter-widgets/base",
            "_view_module_version": "1.2.0",
            "_view_name": "LayoutView",
            "align_content": null,
            "align_items": null,
            "align_self": null,
            "border": null,
            "bottom": null,
            "display": null,
            "flex": null,
            "flex_flow": null,
            "grid_area": null,
            "grid_auto_columns": null,
            "grid_auto_flow": null,
            "grid_auto_rows": null,
            "grid_column": null,
            "grid_gap": null,
            "grid_row": null,
            "grid_template_areas": null,
            "grid_template_columns": null,
            "grid_template_rows": null,
            "height": null,
            "justify_content": null,
            "justify_items": null,
            "left": null,
            "margin": null,
            "max_height": null,
            "max_width": null,
            "min_height": null,
            "min_width": null,
            "object_fit": null,
            "object_position": null,
            "order": null,
            "overflow": null,
            "overflow_x": null,
            "overflow_y": null,
            "padding": null,
            "right": null,
            "top": null,
            "visibility": null,
            "width": null
          }
        },
        "8a3c1e4b0b39406f914e0548d340a20a": {
          "model_module": "@jupyter-widgets/controls",
          "model_name": "DescriptionStyleModel",
          "model_module_version": "1.5.0",
          "state": {
            "_model_module": "@jupyter-widgets/controls",
            "_model_module_version": "1.5.0",
            "_model_name": "DescriptionStyleModel",
            "_view_count": null,
            "_view_module": "@jupyter-widgets/base",
            "_view_module_version": "1.2.0",
            "_view_name": "StyleView",
            "description_width": ""
          }
        },
        "bd552abf25d7490b837726aee009156c": {
          "model_module": "@jupyter-widgets/base",
          "model_name": "LayoutModel",
          "model_module_version": "1.2.0",
          "state": {
            "_model_module": "@jupyter-widgets/base",
            "_model_module_version": "1.2.0",
            "_model_name": "LayoutModel",
            "_view_count": null,
            "_view_module": "@jupyter-widgets/base",
            "_view_module_version": "1.2.0",
            "_view_name": "LayoutView",
            "align_content": null,
            "align_items": null,
            "align_self": null,
            "border": null,
            "bottom": null,
            "display": null,
            "flex": null,
            "flex_flow": null,
            "grid_area": null,
            "grid_auto_columns": null,
            "grid_auto_flow": null,
            "grid_auto_rows": null,
            "grid_column": null,
            "grid_gap": null,
            "grid_row": null,
            "grid_template_areas": null,
            "grid_template_columns": null,
            "grid_template_rows": null,
            "height": null,
            "justify_content": null,
            "justify_items": null,
            "left": null,
            "margin": null,
            "max_height": null,
            "max_width": null,
            "min_height": null,
            "min_width": null,
            "object_fit": null,
            "object_position": null,
            "order": null,
            "overflow": null,
            "overflow_x": null,
            "overflow_y": null,
            "padding": null,
            "right": null,
            "top": null,
            "visibility": null,
            "width": null
          }
        },
        "3db4aae5b6434b1ead1b1bb5e25beb19": {
          "model_module": "@jupyter-widgets/controls",
          "model_name": "ProgressStyleModel",
          "model_module_version": "1.5.0",
          "state": {
            "_model_module": "@jupyter-widgets/controls",
            "_model_module_version": "1.5.0",
            "_model_name": "ProgressStyleModel",
            "_view_count": null,
            "_view_module": "@jupyter-widgets/base",
            "_view_module_version": "1.2.0",
            "_view_name": "StyleView",
            "bar_color": null,
            "description_width": ""
          }
        },
        "ca7b00db25fb41589b40892f1cd13488": {
          "model_module": "@jupyter-widgets/base",
          "model_name": "LayoutModel",
          "model_module_version": "1.2.0",
          "state": {
            "_model_module": "@jupyter-widgets/base",
            "_model_module_version": "1.2.0",
            "_model_name": "LayoutModel",
            "_view_count": null,
            "_view_module": "@jupyter-widgets/base",
            "_view_module_version": "1.2.0",
            "_view_name": "LayoutView",
            "align_content": null,
            "align_items": null,
            "align_self": null,
            "border": null,
            "bottom": null,
            "display": null,
            "flex": null,
            "flex_flow": null,
            "grid_area": null,
            "grid_auto_columns": null,
            "grid_auto_flow": null,
            "grid_auto_rows": null,
            "grid_column": null,
            "grid_gap": null,
            "grid_row": null,
            "grid_template_areas": null,
            "grid_template_columns": null,
            "grid_template_rows": null,
            "height": null,
            "justify_content": null,
            "justify_items": null,
            "left": null,
            "margin": null,
            "max_height": null,
            "max_width": null,
            "min_height": null,
            "min_width": null,
            "object_fit": null,
            "object_position": null,
            "order": null,
            "overflow": null,
            "overflow_x": null,
            "overflow_y": null,
            "padding": null,
            "right": null,
            "top": null,
            "visibility": null,
            "width": null
          }
        },
        "6a053ed0072448efbc334a7ff3b3dbba": {
          "model_module": "@jupyter-widgets/controls",
          "model_name": "DescriptionStyleModel",
          "model_module_version": "1.5.0",
          "state": {
            "_model_module": "@jupyter-widgets/controls",
            "_model_module_version": "1.5.0",
            "_model_name": "DescriptionStyleModel",
            "_view_count": null,
            "_view_module": "@jupyter-widgets/base",
            "_view_module_version": "1.2.0",
            "_view_name": "StyleView",
            "description_width": ""
          }
        },
        "379b869ed23c494fabdc5e4e0f4e5215": {
          "model_module": "@jupyter-widgets/controls",
          "model_name": "HBoxModel",
          "model_module_version": "1.5.0",
          "state": {
            "_dom_classes": [],
            "_model_module": "@jupyter-widgets/controls",
            "_model_module_version": "1.5.0",
            "_model_name": "HBoxModel",
            "_view_count": null,
            "_view_module": "@jupyter-widgets/controls",
            "_view_module_version": "1.5.0",
            "_view_name": "HBoxView",
            "box_style": "",
            "children": [
              "IPY_MODEL_2b6e0addcb1448d986abb3dc6f4a57fe",
              "IPY_MODEL_3b69edec7f4846a0ab7e8a130d4af7f7",
              "IPY_MODEL_ff4e5e17e5a948428e92074eeb7fe45d"
            ],
            "layout": "IPY_MODEL_72b8890f0557437687b67f523f8e9bbb"
          }
        },
        "2b6e0addcb1448d986abb3dc6f4a57fe": {
          "model_module": "@jupyter-widgets/controls",
          "model_name": "HTMLModel",
          "model_module_version": "1.5.0",
          "state": {
            "_dom_classes": [],
            "_model_module": "@jupyter-widgets/controls",
            "_model_module_version": "1.5.0",
            "_model_name": "HTMLModel",
            "_view_count": null,
            "_view_module": "@jupyter-widgets/controls",
            "_view_module_version": "1.5.0",
            "_view_name": "HTMLView",
            "description": "",
            "description_tooltip": null,
            "layout": "IPY_MODEL_90eaf82fb4a543a09cf484d09777d38a",
            "placeholder": "​",
            "style": "IPY_MODEL_804cd75ce8b444a3b6e1599e7883bf9b",
            "value": "Downloading (…)olve/main/vocab.json: 100%"
          }
        },
        "3b69edec7f4846a0ab7e8a130d4af7f7": {
          "model_module": "@jupyter-widgets/controls",
          "model_name": "FloatProgressModel",
          "model_module_version": "1.5.0",
          "state": {
            "_dom_classes": [],
            "_model_module": "@jupyter-widgets/controls",
            "_model_module_version": "1.5.0",
            "_model_name": "FloatProgressModel",
            "_view_count": null,
            "_view_module": "@jupyter-widgets/controls",
            "_view_module_version": "1.5.0",
            "_view_name": "ProgressView",
            "bar_style": "success",
            "description": "",
            "description_tooltip": null,
            "layout": "IPY_MODEL_7b5cbe48035e4de3be35d0fda07814e4",
            "max": 898822,
            "min": 0,
            "orientation": "horizontal",
            "style": "IPY_MODEL_b3f5466188144c4abb5632aec87b21b3",
            "value": 898822
          }
        },
        "ff4e5e17e5a948428e92074eeb7fe45d": {
          "model_module": "@jupyter-widgets/controls",
          "model_name": "HTMLModel",
          "model_module_version": "1.5.0",
          "state": {
            "_dom_classes": [],
            "_model_module": "@jupyter-widgets/controls",
            "_model_module_version": "1.5.0",
            "_model_name": "HTMLModel",
            "_view_count": null,
            "_view_module": "@jupyter-widgets/controls",
            "_view_module_version": "1.5.0",
            "_view_name": "HTMLView",
            "description": "",
            "description_tooltip": null,
            "layout": "IPY_MODEL_4de67449b96b4d779c8fc6021fe4192f",
            "placeholder": "​",
            "style": "IPY_MODEL_e0dc887f757545b2acd7a902dcbac3ea",
            "value": " 899k/899k [00:00&lt;00:00, 24.0MB/s]"
          }
        },
        "72b8890f0557437687b67f523f8e9bbb": {
          "model_module": "@jupyter-widgets/base",
          "model_name": "LayoutModel",
          "model_module_version": "1.2.0",
          "state": {
            "_model_module": "@jupyter-widgets/base",
            "_model_module_version": "1.2.0",
            "_model_name": "LayoutModel",
            "_view_count": null,
            "_view_module": "@jupyter-widgets/base",
            "_view_module_version": "1.2.0",
            "_view_name": "LayoutView",
            "align_content": null,
            "align_items": null,
            "align_self": null,
            "border": null,
            "bottom": null,
            "display": null,
            "flex": null,
            "flex_flow": null,
            "grid_area": null,
            "grid_auto_columns": null,
            "grid_auto_flow": null,
            "grid_auto_rows": null,
            "grid_column": null,
            "grid_gap": null,
            "grid_row": null,
            "grid_template_areas": null,
            "grid_template_columns": null,
            "grid_template_rows": null,
            "height": null,
            "justify_content": null,
            "justify_items": null,
            "left": null,
            "margin": null,
            "max_height": null,
            "max_width": null,
            "min_height": null,
            "min_width": null,
            "object_fit": null,
            "object_position": null,
            "order": null,
            "overflow": null,
            "overflow_x": null,
            "overflow_y": null,
            "padding": null,
            "right": null,
            "top": null,
            "visibility": null,
            "width": null
          }
        },
        "90eaf82fb4a543a09cf484d09777d38a": {
          "model_module": "@jupyter-widgets/base",
          "model_name": "LayoutModel",
          "model_module_version": "1.2.0",
          "state": {
            "_model_module": "@jupyter-widgets/base",
            "_model_module_version": "1.2.0",
            "_model_name": "LayoutModel",
            "_view_count": null,
            "_view_module": "@jupyter-widgets/base",
            "_view_module_version": "1.2.0",
            "_view_name": "LayoutView",
            "align_content": null,
            "align_items": null,
            "align_self": null,
            "border": null,
            "bottom": null,
            "display": null,
            "flex": null,
            "flex_flow": null,
            "grid_area": null,
            "grid_auto_columns": null,
            "grid_auto_flow": null,
            "grid_auto_rows": null,
            "grid_column": null,
            "grid_gap": null,
            "grid_row": null,
            "grid_template_areas": null,
            "grid_template_columns": null,
            "grid_template_rows": null,
            "height": null,
            "justify_content": null,
            "justify_items": null,
            "left": null,
            "margin": null,
            "max_height": null,
            "max_width": null,
            "min_height": null,
            "min_width": null,
            "object_fit": null,
            "object_position": null,
            "order": null,
            "overflow": null,
            "overflow_x": null,
            "overflow_y": null,
            "padding": null,
            "right": null,
            "top": null,
            "visibility": null,
            "width": null
          }
        },
        "804cd75ce8b444a3b6e1599e7883bf9b": {
          "model_module": "@jupyter-widgets/controls",
          "model_name": "DescriptionStyleModel",
          "model_module_version": "1.5.0",
          "state": {
            "_model_module": "@jupyter-widgets/controls",
            "_model_module_version": "1.5.0",
            "_model_name": "DescriptionStyleModel",
            "_view_count": null,
            "_view_module": "@jupyter-widgets/base",
            "_view_module_version": "1.2.0",
            "_view_name": "StyleView",
            "description_width": ""
          }
        },
        "7b5cbe48035e4de3be35d0fda07814e4": {
          "model_module": "@jupyter-widgets/base",
          "model_name": "LayoutModel",
          "model_module_version": "1.2.0",
          "state": {
            "_model_module": "@jupyter-widgets/base",
            "_model_module_version": "1.2.0",
            "_model_name": "LayoutModel",
            "_view_count": null,
            "_view_module": "@jupyter-widgets/base",
            "_view_module_version": "1.2.0",
            "_view_name": "LayoutView",
            "align_content": null,
            "align_items": null,
            "align_self": null,
            "border": null,
            "bottom": null,
            "display": null,
            "flex": null,
            "flex_flow": null,
            "grid_area": null,
            "grid_auto_columns": null,
            "grid_auto_flow": null,
            "grid_auto_rows": null,
            "grid_column": null,
            "grid_gap": null,
            "grid_row": null,
            "grid_template_areas": null,
            "grid_template_columns": null,
            "grid_template_rows": null,
            "height": null,
            "justify_content": null,
            "justify_items": null,
            "left": null,
            "margin": null,
            "max_height": null,
            "max_width": null,
            "min_height": null,
            "min_width": null,
            "object_fit": null,
            "object_position": null,
            "order": null,
            "overflow": null,
            "overflow_x": null,
            "overflow_y": null,
            "padding": null,
            "right": null,
            "top": null,
            "visibility": null,
            "width": null
          }
        },
        "b3f5466188144c4abb5632aec87b21b3": {
          "model_module": "@jupyter-widgets/controls",
          "model_name": "ProgressStyleModel",
          "model_module_version": "1.5.0",
          "state": {
            "_model_module": "@jupyter-widgets/controls",
            "_model_module_version": "1.5.0",
            "_model_name": "ProgressStyleModel",
            "_view_count": null,
            "_view_module": "@jupyter-widgets/base",
            "_view_module_version": "1.2.0",
            "_view_name": "StyleView",
            "bar_color": null,
            "description_width": ""
          }
        },
        "4de67449b96b4d779c8fc6021fe4192f": {
          "model_module": "@jupyter-widgets/base",
          "model_name": "LayoutModel",
          "model_module_version": "1.2.0",
          "state": {
            "_model_module": "@jupyter-widgets/base",
            "_model_module_version": "1.2.0",
            "_model_name": "LayoutModel",
            "_view_count": null,
            "_view_module": "@jupyter-widgets/base",
            "_view_module_version": "1.2.0",
            "_view_name": "LayoutView",
            "align_content": null,
            "align_items": null,
            "align_self": null,
            "border": null,
            "bottom": null,
            "display": null,
            "flex": null,
            "flex_flow": null,
            "grid_area": null,
            "grid_auto_columns": null,
            "grid_auto_flow": null,
            "grid_auto_rows": null,
            "grid_column": null,
            "grid_gap": null,
            "grid_row": null,
            "grid_template_areas": null,
            "grid_template_columns": null,
            "grid_template_rows": null,
            "height": null,
            "justify_content": null,
            "justify_items": null,
            "left": null,
            "margin": null,
            "max_height": null,
            "max_width": null,
            "min_height": null,
            "min_width": null,
            "object_fit": null,
            "object_position": null,
            "order": null,
            "overflow": null,
            "overflow_x": null,
            "overflow_y": null,
            "padding": null,
            "right": null,
            "top": null,
            "visibility": null,
            "width": null
          }
        },
        "e0dc887f757545b2acd7a902dcbac3ea": {
          "model_module": "@jupyter-widgets/controls",
          "model_name": "DescriptionStyleModel",
          "model_module_version": "1.5.0",
          "state": {
            "_model_module": "@jupyter-widgets/controls",
            "_model_module_version": "1.5.0",
            "_model_name": "DescriptionStyleModel",
            "_view_count": null,
            "_view_module": "@jupyter-widgets/base",
            "_view_module_version": "1.2.0",
            "_view_name": "StyleView",
            "description_width": ""
          }
        },
        "370b5b0478a544eca7fe41206bc50371": {
          "model_module": "@jupyter-widgets/controls",
          "model_name": "HBoxModel",
          "model_module_version": "1.5.0",
          "state": {
            "_dom_classes": [],
            "_model_module": "@jupyter-widgets/controls",
            "_model_module_version": "1.5.0",
            "_model_name": "HBoxModel",
            "_view_count": null,
            "_view_module": "@jupyter-widgets/controls",
            "_view_module_version": "1.5.0",
            "_view_name": "HBoxView",
            "box_style": "",
            "children": [
              "IPY_MODEL_e392593e0c304cd0b7734eed5d0bb5a9",
              "IPY_MODEL_ac5d544fe2194a6099129da7dce25c6d",
              "IPY_MODEL_8679eaf7e10a4267816f3b362734cea0"
            ],
            "layout": "IPY_MODEL_eda4ec307d694bdd9a09e33e4fee944d"
          }
        },
        "e392593e0c304cd0b7734eed5d0bb5a9": {
          "model_module": "@jupyter-widgets/controls",
          "model_name": "HTMLModel",
          "model_module_version": "1.5.0",
          "state": {
            "_dom_classes": [],
            "_model_module": "@jupyter-widgets/controls",
            "_model_module_version": "1.5.0",
            "_model_name": "HTMLModel",
            "_view_count": null,
            "_view_module": "@jupyter-widgets/controls",
            "_view_module_version": "1.5.0",
            "_view_name": "HTMLView",
            "description": "",
            "description_tooltip": null,
            "layout": "IPY_MODEL_75f24e49769b454c9437b4b30357121d",
            "placeholder": "​",
            "style": "IPY_MODEL_5580d400e2384f1c86d12bd662fab7ad",
            "value": "Downloading (…)olve/main/merges.txt: 100%"
          }
        },
        "ac5d544fe2194a6099129da7dce25c6d": {
          "model_module": "@jupyter-widgets/controls",
          "model_name": "FloatProgressModel",
          "model_module_version": "1.5.0",
          "state": {
            "_dom_classes": [],
            "_model_module": "@jupyter-widgets/controls",
            "_model_module_version": "1.5.0",
            "_model_name": "FloatProgressModel",
            "_view_count": null,
            "_view_module": "@jupyter-widgets/controls",
            "_view_module_version": "1.5.0",
            "_view_name": "ProgressView",
            "bar_style": "success",
            "description": "",
            "description_tooltip": null,
            "layout": "IPY_MODEL_7c45746f5c144474b8f5694d1dc8f4f2",
            "max": 456318,
            "min": 0,
            "orientation": "horizontal",
            "style": "IPY_MODEL_1ab250e25b8841d8a3a8f3d98c808be9",
            "value": 456318
          }
        },
        "8679eaf7e10a4267816f3b362734cea0": {
          "model_module": "@jupyter-widgets/controls",
          "model_name": "HTMLModel",
          "model_module_version": "1.5.0",
          "state": {
            "_dom_classes": [],
            "_model_module": "@jupyter-widgets/controls",
            "_model_module_version": "1.5.0",
            "_model_name": "HTMLModel",
            "_view_count": null,
            "_view_module": "@jupyter-widgets/controls",
            "_view_module_version": "1.5.0",
            "_view_name": "HTMLView",
            "description": "",
            "description_tooltip": null,
            "layout": "IPY_MODEL_611ddba88632420d979fbec974571901",
            "placeholder": "​",
            "style": "IPY_MODEL_37994059972d42d8bfd305f87885af19",
            "value": " 456k/456k [00:00&lt;00:00, 14.2MB/s]"
          }
        },
        "eda4ec307d694bdd9a09e33e4fee944d": {
          "model_module": "@jupyter-widgets/base",
          "model_name": "LayoutModel",
          "model_module_version": "1.2.0",
          "state": {
            "_model_module": "@jupyter-widgets/base",
            "_model_module_version": "1.2.0",
            "_model_name": "LayoutModel",
            "_view_count": null,
            "_view_module": "@jupyter-widgets/base",
            "_view_module_version": "1.2.0",
            "_view_name": "LayoutView",
            "align_content": null,
            "align_items": null,
            "align_self": null,
            "border": null,
            "bottom": null,
            "display": null,
            "flex": null,
            "flex_flow": null,
            "grid_area": null,
            "grid_auto_columns": null,
            "grid_auto_flow": null,
            "grid_auto_rows": null,
            "grid_column": null,
            "grid_gap": null,
            "grid_row": null,
            "grid_template_areas": null,
            "grid_template_columns": null,
            "grid_template_rows": null,
            "height": null,
            "justify_content": null,
            "justify_items": null,
            "left": null,
            "margin": null,
            "max_height": null,
            "max_width": null,
            "min_height": null,
            "min_width": null,
            "object_fit": null,
            "object_position": null,
            "order": null,
            "overflow": null,
            "overflow_x": null,
            "overflow_y": null,
            "padding": null,
            "right": null,
            "top": null,
            "visibility": null,
            "width": null
          }
        },
        "75f24e49769b454c9437b4b30357121d": {
          "model_module": "@jupyter-widgets/base",
          "model_name": "LayoutModel",
          "model_module_version": "1.2.0",
          "state": {
            "_model_module": "@jupyter-widgets/base",
            "_model_module_version": "1.2.0",
            "_model_name": "LayoutModel",
            "_view_count": null,
            "_view_module": "@jupyter-widgets/base",
            "_view_module_version": "1.2.0",
            "_view_name": "LayoutView",
            "align_content": null,
            "align_items": null,
            "align_self": null,
            "border": null,
            "bottom": null,
            "display": null,
            "flex": null,
            "flex_flow": null,
            "grid_area": null,
            "grid_auto_columns": null,
            "grid_auto_flow": null,
            "grid_auto_rows": null,
            "grid_column": null,
            "grid_gap": null,
            "grid_row": null,
            "grid_template_areas": null,
            "grid_template_columns": null,
            "grid_template_rows": null,
            "height": null,
            "justify_content": null,
            "justify_items": null,
            "left": null,
            "margin": null,
            "max_height": null,
            "max_width": null,
            "min_height": null,
            "min_width": null,
            "object_fit": null,
            "object_position": null,
            "order": null,
            "overflow": null,
            "overflow_x": null,
            "overflow_y": null,
            "padding": null,
            "right": null,
            "top": null,
            "visibility": null,
            "width": null
          }
        },
        "5580d400e2384f1c86d12bd662fab7ad": {
          "model_module": "@jupyter-widgets/controls",
          "model_name": "DescriptionStyleModel",
          "model_module_version": "1.5.0",
          "state": {
            "_model_module": "@jupyter-widgets/controls",
            "_model_module_version": "1.5.0",
            "_model_name": "DescriptionStyleModel",
            "_view_count": null,
            "_view_module": "@jupyter-widgets/base",
            "_view_module_version": "1.2.0",
            "_view_name": "StyleView",
            "description_width": ""
          }
        },
        "7c45746f5c144474b8f5694d1dc8f4f2": {
          "model_module": "@jupyter-widgets/base",
          "model_name": "LayoutModel",
          "model_module_version": "1.2.0",
          "state": {
            "_model_module": "@jupyter-widgets/base",
            "_model_module_version": "1.2.0",
            "_model_name": "LayoutModel",
            "_view_count": null,
            "_view_module": "@jupyter-widgets/base",
            "_view_module_version": "1.2.0",
            "_view_name": "LayoutView",
            "align_content": null,
            "align_items": null,
            "align_self": null,
            "border": null,
            "bottom": null,
            "display": null,
            "flex": null,
            "flex_flow": null,
            "grid_area": null,
            "grid_auto_columns": null,
            "grid_auto_flow": null,
            "grid_auto_rows": null,
            "grid_column": null,
            "grid_gap": null,
            "grid_row": null,
            "grid_template_areas": null,
            "grid_template_columns": null,
            "grid_template_rows": null,
            "height": null,
            "justify_content": null,
            "justify_items": null,
            "left": null,
            "margin": null,
            "max_height": null,
            "max_width": null,
            "min_height": null,
            "min_width": null,
            "object_fit": null,
            "object_position": null,
            "order": null,
            "overflow": null,
            "overflow_x": null,
            "overflow_y": null,
            "padding": null,
            "right": null,
            "top": null,
            "visibility": null,
            "width": null
          }
        },
        "1ab250e25b8841d8a3a8f3d98c808be9": {
          "model_module": "@jupyter-widgets/controls",
          "model_name": "ProgressStyleModel",
          "model_module_version": "1.5.0",
          "state": {
            "_model_module": "@jupyter-widgets/controls",
            "_model_module_version": "1.5.0",
            "_model_name": "ProgressStyleModel",
            "_view_count": null,
            "_view_module": "@jupyter-widgets/base",
            "_view_module_version": "1.2.0",
            "_view_name": "StyleView",
            "bar_color": null,
            "description_width": ""
          }
        },
        "611ddba88632420d979fbec974571901": {
          "model_module": "@jupyter-widgets/base",
          "model_name": "LayoutModel",
          "model_module_version": "1.2.0",
          "state": {
            "_model_module": "@jupyter-widgets/base",
            "_model_module_version": "1.2.0",
            "_model_name": "LayoutModel",
            "_view_count": null,
            "_view_module": "@jupyter-widgets/base",
            "_view_module_version": "1.2.0",
            "_view_name": "LayoutView",
            "align_content": null,
            "align_items": null,
            "align_self": null,
            "border": null,
            "bottom": null,
            "display": null,
            "flex": null,
            "flex_flow": null,
            "grid_area": null,
            "grid_auto_columns": null,
            "grid_auto_flow": null,
            "grid_auto_rows": null,
            "grid_column": null,
            "grid_gap": null,
            "grid_row": null,
            "grid_template_areas": null,
            "grid_template_columns": null,
            "grid_template_rows": null,
            "height": null,
            "justify_content": null,
            "justify_items": null,
            "left": null,
            "margin": null,
            "max_height": null,
            "max_width": null,
            "min_height": null,
            "min_width": null,
            "object_fit": null,
            "object_position": null,
            "order": null,
            "overflow": null,
            "overflow_x": null,
            "overflow_y": null,
            "padding": null,
            "right": null,
            "top": null,
            "visibility": null,
            "width": null
          }
        },
        "37994059972d42d8bfd305f87885af19": {
          "model_module": "@jupyter-widgets/controls",
          "model_name": "DescriptionStyleModel",
          "model_module_version": "1.5.0",
          "state": {
            "_model_module": "@jupyter-widgets/controls",
            "_model_module_version": "1.5.0",
            "_model_name": "DescriptionStyleModel",
            "_view_count": null,
            "_view_module": "@jupyter-widgets/base",
            "_view_module_version": "1.2.0",
            "_view_name": "StyleView",
            "description_width": ""
          }
        },
        "0f1c8c585679453b924ff012925c29f8": {
          "model_module": "@jupyter-widgets/controls",
          "model_name": "HBoxModel",
          "model_module_version": "1.5.0",
          "state": {
            "_dom_classes": [],
            "_model_module": "@jupyter-widgets/controls",
            "_model_module_version": "1.5.0",
            "_model_name": "HBoxModel",
            "_view_count": null,
            "_view_module": "@jupyter-widgets/controls",
            "_view_module_version": "1.5.0",
            "_view_name": "HBoxView",
            "box_style": "",
            "children": [
              "IPY_MODEL_eabaddf91c3749138c5957d3585c6d5c",
              "IPY_MODEL_d2caad2b641e42748527d09a1ce676e6",
              "IPY_MODEL_e0f6e558bd744b68bf8860b1c85339f3"
            ],
            "layout": "IPY_MODEL_0857a775cde34a129a226373ee6182b8"
          }
        },
        "eabaddf91c3749138c5957d3585c6d5c": {
          "model_module": "@jupyter-widgets/controls",
          "model_name": "HTMLModel",
          "model_module_version": "1.5.0",
          "state": {
            "_dom_classes": [],
            "_model_module": "@jupyter-widgets/controls",
            "_model_module_version": "1.5.0",
            "_model_name": "HTMLModel",
            "_view_count": null,
            "_view_module": "@jupyter-widgets/controls",
            "_view_module_version": "1.5.0",
            "_view_name": "HTMLView",
            "description": "",
            "description_tooltip": null,
            "layout": "IPY_MODEL_ba010b3724f5463ea4ac2fc899ca00e0",
            "placeholder": "​",
            "style": "IPY_MODEL_ea56103285e24ba7bb96324d191bbad4",
            "value": "Downloading (…)&quot;pytorch_model.bin&quot;;: 100%"
          }
        },
        "d2caad2b641e42748527d09a1ce676e6": {
          "model_module": "@jupyter-widgets/controls",
          "model_name": "FloatProgressModel",
          "model_module_version": "1.5.0",
          "state": {
            "_dom_classes": [],
            "_model_module": "@jupyter-widgets/controls",
            "_model_module_version": "1.5.0",
            "_model_name": "FloatProgressModel",
            "_view_count": null,
            "_view_module": "@jupyter-widgets/controls",
            "_view_module_version": "1.5.0",
            "_view_name": "ProgressView",
            "bar_style": "success",
            "description": "",
            "description_tooltip": null,
            "layout": "IPY_MODEL_b2a00ff23a484971a9b2a94272f561cb",
            "max": 1222317369,
            "min": 0,
            "orientation": "horizontal",
            "style": "IPY_MODEL_e825c535d25949b98e25f21aeb644d8a",
            "value": 1222317369
          }
        },
        "e0f6e558bd744b68bf8860b1c85339f3": {
          "model_module": "@jupyter-widgets/controls",
          "model_name": "HTMLModel",
          "model_module_version": "1.5.0",
          "state": {
            "_dom_classes": [],
            "_model_module": "@jupyter-widgets/controls",
            "_model_module_version": "1.5.0",
            "_model_name": "HTMLModel",
            "_view_count": null,
            "_view_module": "@jupyter-widgets/controls",
            "_view_module_version": "1.5.0",
            "_view_name": "HTMLView",
            "description": "",
            "description_tooltip": null,
            "layout": "IPY_MODEL_f895f67e31e44f01a42d39b97c54266f",
            "placeholder": "​",
            "style": "IPY_MODEL_c6cce4906a43411c865d08bcf09dd5bb",
            "value": " 1.22G/1.22G [00:10&lt;00:00, 161MB/s]"
          }
        },
        "0857a775cde34a129a226373ee6182b8": {
          "model_module": "@jupyter-widgets/base",
          "model_name": "LayoutModel",
          "model_module_version": "1.2.0",
          "state": {
            "_model_module": "@jupyter-widgets/base",
            "_model_module_version": "1.2.0",
            "_model_name": "LayoutModel",
            "_view_count": null,
            "_view_module": "@jupyter-widgets/base",
            "_view_module_version": "1.2.0",
            "_view_name": "LayoutView",
            "align_content": null,
            "align_items": null,
            "align_self": null,
            "border": null,
            "bottom": null,
            "display": null,
            "flex": null,
            "flex_flow": null,
            "grid_area": null,
            "grid_auto_columns": null,
            "grid_auto_flow": null,
            "grid_auto_rows": null,
            "grid_column": null,
            "grid_gap": null,
            "grid_row": null,
            "grid_template_areas": null,
            "grid_template_columns": null,
            "grid_template_rows": null,
            "height": null,
            "justify_content": null,
            "justify_items": null,
            "left": null,
            "margin": null,
            "max_height": null,
            "max_width": null,
            "min_height": null,
            "min_width": null,
            "object_fit": null,
            "object_position": null,
            "order": null,
            "overflow": null,
            "overflow_x": null,
            "overflow_y": null,
            "padding": null,
            "right": null,
            "top": null,
            "visibility": null,
            "width": null
          }
        },
        "ba010b3724f5463ea4ac2fc899ca00e0": {
          "model_module": "@jupyter-widgets/base",
          "model_name": "LayoutModel",
          "model_module_version": "1.2.0",
          "state": {
            "_model_module": "@jupyter-widgets/base",
            "_model_module_version": "1.2.0",
            "_model_name": "LayoutModel",
            "_view_count": null,
            "_view_module": "@jupyter-widgets/base",
            "_view_module_version": "1.2.0",
            "_view_name": "LayoutView",
            "align_content": null,
            "align_items": null,
            "align_self": null,
            "border": null,
            "bottom": null,
            "display": null,
            "flex": null,
            "flex_flow": null,
            "grid_area": null,
            "grid_auto_columns": null,
            "grid_auto_flow": null,
            "grid_auto_rows": null,
            "grid_column": null,
            "grid_gap": null,
            "grid_row": null,
            "grid_template_areas": null,
            "grid_template_columns": null,
            "grid_template_rows": null,
            "height": null,
            "justify_content": null,
            "justify_items": null,
            "left": null,
            "margin": null,
            "max_height": null,
            "max_width": null,
            "min_height": null,
            "min_width": null,
            "object_fit": null,
            "object_position": null,
            "order": null,
            "overflow": null,
            "overflow_x": null,
            "overflow_y": null,
            "padding": null,
            "right": null,
            "top": null,
            "visibility": null,
            "width": null
          }
        },
        "ea56103285e24ba7bb96324d191bbad4": {
          "model_module": "@jupyter-widgets/controls",
          "model_name": "DescriptionStyleModel",
          "model_module_version": "1.5.0",
          "state": {
            "_model_module": "@jupyter-widgets/controls",
            "_model_module_version": "1.5.0",
            "_model_name": "DescriptionStyleModel",
            "_view_count": null,
            "_view_module": "@jupyter-widgets/base",
            "_view_module_version": "1.2.0",
            "_view_name": "StyleView",
            "description_width": ""
          }
        },
        "b2a00ff23a484971a9b2a94272f561cb": {
          "model_module": "@jupyter-widgets/base",
          "model_name": "LayoutModel",
          "model_module_version": "1.2.0",
          "state": {
            "_model_module": "@jupyter-widgets/base",
            "_model_module_version": "1.2.0",
            "_model_name": "LayoutModel",
            "_view_count": null,
            "_view_module": "@jupyter-widgets/base",
            "_view_module_version": "1.2.0",
            "_view_name": "LayoutView",
            "align_content": null,
            "align_items": null,
            "align_self": null,
            "border": null,
            "bottom": null,
            "display": null,
            "flex": null,
            "flex_flow": null,
            "grid_area": null,
            "grid_auto_columns": null,
            "grid_auto_flow": null,
            "grid_auto_rows": null,
            "grid_column": null,
            "grid_gap": null,
            "grid_row": null,
            "grid_template_areas": null,
            "grid_template_columns": null,
            "grid_template_rows": null,
            "height": null,
            "justify_content": null,
            "justify_items": null,
            "left": null,
            "margin": null,
            "max_height": null,
            "max_width": null,
            "min_height": null,
            "min_width": null,
            "object_fit": null,
            "object_position": null,
            "order": null,
            "overflow": null,
            "overflow_x": null,
            "overflow_y": null,
            "padding": null,
            "right": null,
            "top": null,
            "visibility": null,
            "width": null
          }
        },
        "e825c535d25949b98e25f21aeb644d8a": {
          "model_module": "@jupyter-widgets/controls",
          "model_name": "ProgressStyleModel",
          "model_module_version": "1.5.0",
          "state": {
            "_model_module": "@jupyter-widgets/controls",
            "_model_module_version": "1.5.0",
            "_model_name": "ProgressStyleModel",
            "_view_count": null,
            "_view_module": "@jupyter-widgets/base",
            "_view_module_version": "1.2.0",
            "_view_name": "StyleView",
            "bar_color": null,
            "description_width": ""
          }
        },
        "f895f67e31e44f01a42d39b97c54266f": {
          "model_module": "@jupyter-widgets/base",
          "model_name": "LayoutModel",
          "model_module_version": "1.2.0",
          "state": {
            "_model_module": "@jupyter-widgets/base",
            "_model_module_version": "1.2.0",
            "_model_name": "LayoutModel",
            "_view_count": null,
            "_view_module": "@jupyter-widgets/base",
            "_view_module_version": "1.2.0",
            "_view_name": "LayoutView",
            "align_content": null,
            "align_items": null,
            "align_self": null,
            "border": null,
            "bottom": null,
            "display": null,
            "flex": null,
            "flex_flow": null,
            "grid_area": null,
            "grid_auto_columns": null,
            "grid_auto_flow": null,
            "grid_auto_rows": null,
            "grid_column": null,
            "grid_gap": null,
            "grid_row": null,
            "grid_template_areas": null,
            "grid_template_columns": null,
            "grid_template_rows": null,
            "height": null,
            "justify_content": null,
            "justify_items": null,
            "left": null,
            "margin": null,
            "max_height": null,
            "max_width": null,
            "min_height": null,
            "min_width": null,
            "object_fit": null,
            "object_position": null,
            "order": null,
            "overflow": null,
            "overflow_x": null,
            "overflow_y": null,
            "padding": null,
            "right": null,
            "top": null,
            "visibility": null,
            "width": null
          }
        },
        "c6cce4906a43411c865d08bcf09dd5bb": {
          "model_module": "@jupyter-widgets/controls",
          "model_name": "DescriptionStyleModel",
          "model_module_version": "1.5.0",
          "state": {
            "_model_module": "@jupyter-widgets/controls",
            "_model_module_version": "1.5.0",
            "_model_name": "DescriptionStyleModel",
            "_view_count": null,
            "_view_module": "@jupyter-widgets/base",
            "_view_module_version": "1.2.0",
            "_view_name": "StyleView",
            "description_width": ""
          }
        },
        "7010775c6e464460a52b80290f84db88": {
          "model_module": "@jupyter-widgets/controls",
          "model_name": "HBoxModel",
          "model_module_version": "1.5.0",
          "state": {
            "_dom_classes": [],
            "_model_module": "@jupyter-widgets/controls",
            "_model_module_version": "1.5.0",
            "_model_name": "HBoxModel",
            "_view_count": null,
            "_view_module": "@jupyter-widgets/controls",
            "_view_module_version": "1.5.0",
            "_view_name": "HBoxView",
            "box_style": "",
            "children": [
              "IPY_MODEL_a9155f311d38422e86053dbcff2447a0",
              "IPY_MODEL_b1c1f32a2292453384ca299053e55aeb",
              "IPY_MODEL_8e5199f7e7b9483fa87d78530157e7c8"
            ],
            "layout": "IPY_MODEL_ff03fe04fccd4aefa5afa23099cce2f8"
          }
        },
        "a9155f311d38422e86053dbcff2447a0": {
          "model_module": "@jupyter-widgets/controls",
          "model_name": "HTMLModel",
          "model_module_version": "1.5.0",
          "state": {
            "_dom_classes": [],
            "_model_module": "@jupyter-widgets/controls",
            "_model_module_version": "1.5.0",
            "_model_name": "HTMLModel",
            "_view_count": null,
            "_view_module": "@jupyter-widgets/controls",
            "_view_module_version": "1.5.0",
            "_view_name": "HTMLView",
            "description": "",
            "description_tooltip": null,
            "layout": "IPY_MODEL_e3d200e47dbb4f7595dae0cdab74a8ec",
            "placeholder": "​",
            "style": "IPY_MODEL_99d40d0efcf5480d866c76297626fb60",
            "value": "Downloading (…)&quot;pytorch_model.bin&quot;;: 100%"
          }
        },
        "b1c1f32a2292453384ca299053e55aeb": {
          "model_module": "@jupyter-widgets/controls",
          "model_name": "FloatProgressModel",
          "model_module_version": "1.5.0",
          "state": {
            "_dom_classes": [],
            "_model_module": "@jupyter-widgets/controls",
            "_model_module_version": "1.5.0",
            "_model_name": "FloatProgressModel",
            "_view_count": null,
            "_view_module": "@jupyter-widgets/controls",
            "_view_module_version": "1.5.0",
            "_view_name": "ProgressView",
            "bar_style": "success",
            "description": "",
            "description_tooltip": null,
            "layout": "IPY_MODEL_c7ca75f1f2f745bcac3be306c8828072",
            "max": 512568261,
            "min": 0,
            "orientation": "horizontal",
            "style": "IPY_MODEL_60da870bb2514a29a7e5759c4fdcee9d",
            "value": 512568261
          }
        },
        "8e5199f7e7b9483fa87d78530157e7c8": {
          "model_module": "@jupyter-widgets/controls",
          "model_name": "HTMLModel",
          "model_module_version": "1.5.0",
          "state": {
            "_dom_classes": [],
            "_model_module": "@jupyter-widgets/controls",
            "_model_module_version": "1.5.0",
            "_model_name": "HTMLModel",
            "_view_count": null,
            "_view_module": "@jupyter-widgets/controls",
            "_view_module_version": "1.5.0",
            "_view_name": "HTMLView",
            "description": "",
            "description_tooltip": null,
            "layout": "IPY_MODEL_77669810f0424671b5e1f8466f7e55d6",
            "placeholder": "​",
            "style": "IPY_MODEL_04b37887e7144b1888fc81bf8f41e2fb",
            "value": " 513M/513M [00:02&lt;00:00, 264MB/s]"
          }
        },
        "ff03fe04fccd4aefa5afa23099cce2f8": {
          "model_module": "@jupyter-widgets/base",
          "model_name": "LayoutModel",
          "model_module_version": "1.2.0",
          "state": {
            "_model_module": "@jupyter-widgets/base",
            "_model_module_version": "1.2.0",
            "_model_name": "LayoutModel",
            "_view_count": null,
            "_view_module": "@jupyter-widgets/base",
            "_view_module_version": "1.2.0",
            "_view_name": "LayoutView",
            "align_content": null,
            "align_items": null,
            "align_self": null,
            "border": null,
            "bottom": null,
            "display": null,
            "flex": null,
            "flex_flow": null,
            "grid_area": null,
            "grid_auto_columns": null,
            "grid_auto_flow": null,
            "grid_auto_rows": null,
            "grid_column": null,
            "grid_gap": null,
            "grid_row": null,
            "grid_template_areas": null,
            "grid_template_columns": null,
            "grid_template_rows": null,
            "height": null,
            "justify_content": null,
            "justify_items": null,
            "left": null,
            "margin": null,
            "max_height": null,
            "max_width": null,
            "min_height": null,
            "min_width": null,
            "object_fit": null,
            "object_position": null,
            "order": null,
            "overflow": null,
            "overflow_x": null,
            "overflow_y": null,
            "padding": null,
            "right": null,
            "top": null,
            "visibility": null,
            "width": null
          }
        },
        "e3d200e47dbb4f7595dae0cdab74a8ec": {
          "model_module": "@jupyter-widgets/base",
          "model_name": "LayoutModel",
          "model_module_version": "1.2.0",
          "state": {
            "_model_module": "@jupyter-widgets/base",
            "_model_module_version": "1.2.0",
            "_model_name": "LayoutModel",
            "_view_count": null,
            "_view_module": "@jupyter-widgets/base",
            "_view_module_version": "1.2.0",
            "_view_name": "LayoutView",
            "align_content": null,
            "align_items": null,
            "align_self": null,
            "border": null,
            "bottom": null,
            "display": null,
            "flex": null,
            "flex_flow": null,
            "grid_area": null,
            "grid_auto_columns": null,
            "grid_auto_flow": null,
            "grid_auto_rows": null,
            "grid_column": null,
            "grid_gap": null,
            "grid_row": null,
            "grid_template_areas": null,
            "grid_template_columns": null,
            "grid_template_rows": null,
            "height": null,
            "justify_content": null,
            "justify_items": null,
            "left": null,
            "margin": null,
            "max_height": null,
            "max_width": null,
            "min_height": null,
            "min_width": null,
            "object_fit": null,
            "object_position": null,
            "order": null,
            "overflow": null,
            "overflow_x": null,
            "overflow_y": null,
            "padding": null,
            "right": null,
            "top": null,
            "visibility": null,
            "width": null
          }
        },
        "99d40d0efcf5480d866c76297626fb60": {
          "model_module": "@jupyter-widgets/controls",
          "model_name": "DescriptionStyleModel",
          "model_module_version": "1.5.0",
          "state": {
            "_model_module": "@jupyter-widgets/controls",
            "_model_module_version": "1.5.0",
            "_model_name": "DescriptionStyleModel",
            "_view_count": null,
            "_view_module": "@jupyter-widgets/base",
            "_view_module_version": "1.2.0",
            "_view_name": "StyleView",
            "description_width": ""
          }
        },
        "c7ca75f1f2f745bcac3be306c8828072": {
          "model_module": "@jupyter-widgets/base",
          "model_name": "LayoutModel",
          "model_module_version": "1.2.0",
          "state": {
            "_model_module": "@jupyter-widgets/base",
            "_model_module_version": "1.2.0",
            "_model_name": "LayoutModel",
            "_view_count": null,
            "_view_module": "@jupyter-widgets/base",
            "_view_module_version": "1.2.0",
            "_view_name": "LayoutView",
            "align_content": null,
            "align_items": null,
            "align_self": null,
            "border": null,
            "bottom": null,
            "display": null,
            "flex": null,
            "flex_flow": null,
            "grid_area": null,
            "grid_auto_columns": null,
            "grid_auto_flow": null,
            "grid_auto_rows": null,
            "grid_column": null,
            "grid_gap": null,
            "grid_row": null,
            "grid_template_areas": null,
            "grid_template_columns": null,
            "grid_template_rows": null,
            "height": null,
            "justify_content": null,
            "justify_items": null,
            "left": null,
            "margin": null,
            "max_height": null,
            "max_width": null,
            "min_height": null,
            "min_width": null,
            "object_fit": null,
            "object_position": null,
            "order": null,
            "overflow": null,
            "overflow_x": null,
            "overflow_y": null,
            "padding": null,
            "right": null,
            "top": null,
            "visibility": null,
            "width": null
          }
        },
        "60da870bb2514a29a7e5759c4fdcee9d": {
          "model_module": "@jupyter-widgets/controls",
          "model_name": "ProgressStyleModel",
          "model_module_version": "1.5.0",
          "state": {
            "_model_module": "@jupyter-widgets/controls",
            "_model_module_version": "1.5.0",
            "_model_name": "ProgressStyleModel",
            "_view_count": null,
            "_view_module": "@jupyter-widgets/base",
            "_view_module_version": "1.2.0",
            "_view_name": "StyleView",
            "bar_color": null,
            "description_width": ""
          }
        },
        "77669810f0424671b5e1f8466f7e55d6": {
          "model_module": "@jupyter-widgets/base",
          "model_name": "LayoutModel",
          "model_module_version": "1.2.0",
          "state": {
            "_model_module": "@jupyter-widgets/base",
            "_model_module_version": "1.2.0",
            "_model_name": "LayoutModel",
            "_view_count": null,
            "_view_module": "@jupyter-widgets/base",
            "_view_module_version": "1.2.0",
            "_view_name": "LayoutView",
            "align_content": null,
            "align_items": null,
            "align_self": null,
            "border": null,
            "bottom": null,
            "display": null,
            "flex": null,
            "flex_flow": null,
            "grid_area": null,
            "grid_auto_columns": null,
            "grid_auto_flow": null,
            "grid_auto_rows": null,
            "grid_column": null,
            "grid_gap": null,
            "grid_row": null,
            "grid_template_areas": null,
            "grid_template_columns": null,
            "grid_template_rows": null,
            "height": null,
            "justify_content": null,
            "justify_items": null,
            "left": null,
            "margin": null,
            "max_height": null,
            "max_width": null,
            "min_height": null,
            "min_width": null,
            "object_fit": null,
            "object_position": null,
            "order": null,
            "overflow": null,
            "overflow_x": null,
            "overflow_y": null,
            "padding": null,
            "right": null,
            "top": null,
            "visibility": null,
            "width": null
          }
        },
        "04b37887e7144b1888fc81bf8f41e2fb": {
          "model_module": "@jupyter-widgets/controls",
          "model_name": "DescriptionStyleModel",
          "model_module_version": "1.5.0",
          "state": {
            "_model_module": "@jupyter-widgets/controls",
            "_model_module_version": "1.5.0",
            "_model_name": "DescriptionStyleModel",
            "_view_count": null,
            "_view_module": "@jupyter-widgets/base",
            "_view_module_version": "1.2.0",
            "_view_name": "StyleView",
            "description_width": ""
          }
        },
        "8b94c185e24a4e8da6178c5e77a68ea9": {
          "model_module": "@jupyter-widgets/controls",
          "model_name": "HBoxModel",
          "model_module_version": "1.5.0",
          "state": {
            "_dom_classes": [],
            "_model_module": "@jupyter-widgets/controls",
            "_model_module_version": "1.5.0",
            "_model_name": "HBoxModel",
            "_view_count": null,
            "_view_module": "@jupyter-widgets/controls",
            "_view_module_version": "1.5.0",
            "_view_name": "HBoxView",
            "box_style": "",
            "children": [
              "IPY_MODEL_ead9502c3bcd4b0bac8fdce208af17ac",
              "IPY_MODEL_d2836f1454f24cbd933f6ba73b66e6c4",
              "IPY_MODEL_34eff0a76c694d589a5f3eb7e760128c"
            ],
            "layout": "IPY_MODEL_bf1eb23a969a4f02b1754ada5180e1b2"
          }
        },
        "ead9502c3bcd4b0bac8fdce208af17ac": {
          "model_module": "@jupyter-widgets/controls",
          "model_name": "HTMLModel",
          "model_module_version": "1.5.0",
          "state": {
            "_dom_classes": [],
            "_model_module": "@jupyter-widgets/controls",
            "_model_module_version": "1.5.0",
            "_model_name": "HTMLModel",
            "_view_count": null,
            "_view_module": "@jupyter-widgets/controls",
            "_view_module_version": "1.5.0",
            "_view_name": "HTMLView",
            "description": "",
            "description_tooltip": null,
            "layout": "IPY_MODEL_83a57e6df2e34cf5a91ea9dee2b643db",
            "placeholder": "​",
            "style": "IPY_MODEL_61b853cff0f24b48a3ebb101fadbbab7",
            "value": "Downloading config.json: 100%"
          }
        },
        "d2836f1454f24cbd933f6ba73b66e6c4": {
          "model_module": "@jupyter-widgets/controls",
          "model_name": "FloatProgressModel",
          "model_module_version": "1.5.0",
          "state": {
            "_dom_classes": [],
            "_model_module": "@jupyter-widgets/controls",
            "_model_module_version": "1.5.0",
            "_model_name": "FloatProgressModel",
            "_view_count": null,
            "_view_module": "@jupyter-widgets/controls",
            "_view_module_version": "1.5.0",
            "_view_name": "ProgressView",
            "bar_style": "success",
            "description": "",
            "description_tooltip": null,
            "layout": "IPY_MODEL_f68806ad2e9544ddb6dc835fb1635495",
            "max": 1206,
            "min": 0,
            "orientation": "horizontal",
            "style": "IPY_MODEL_ed38eafa106a4fa7a8def5dd605fbdac",
            "value": 1206
          }
        },
        "34eff0a76c694d589a5f3eb7e760128c": {
          "model_module": "@jupyter-widgets/controls",
          "model_name": "HTMLModel",
          "model_module_version": "1.5.0",
          "state": {
            "_dom_classes": [],
            "_model_module": "@jupyter-widgets/controls",
            "_model_module_version": "1.5.0",
            "_model_name": "HTMLModel",
            "_view_count": null,
            "_view_module": "@jupyter-widgets/controls",
            "_view_module_version": "1.5.0",
            "_view_name": "HTMLView",
            "description": "",
            "description_tooltip": null,
            "layout": "IPY_MODEL_0e351c913cad429789d2eee3abb7236d",
            "placeholder": "​",
            "style": "IPY_MODEL_8be3eeefa5ea4682a91578271129c01a",
            "value": " 1.18k/1.18k [00:00&lt;00:00, 61.7kB/s]"
          }
        },
        "bf1eb23a969a4f02b1754ada5180e1b2": {
          "model_module": "@jupyter-widgets/base",
          "model_name": "LayoutModel",
          "model_module_version": "1.2.0",
          "state": {
            "_model_module": "@jupyter-widgets/base",
            "_model_module_version": "1.2.0",
            "_model_name": "LayoutModel",
            "_view_count": null,
            "_view_module": "@jupyter-widgets/base",
            "_view_module_version": "1.2.0",
            "_view_name": "LayoutView",
            "align_content": null,
            "align_items": null,
            "align_self": null,
            "border": null,
            "bottom": null,
            "display": null,
            "flex": null,
            "flex_flow": null,
            "grid_area": null,
            "grid_auto_columns": null,
            "grid_auto_flow": null,
            "grid_auto_rows": null,
            "grid_column": null,
            "grid_gap": null,
            "grid_row": null,
            "grid_template_areas": null,
            "grid_template_columns": null,
            "grid_template_rows": null,
            "height": null,
            "justify_content": null,
            "justify_items": null,
            "left": null,
            "margin": null,
            "max_height": null,
            "max_width": null,
            "min_height": null,
            "min_width": null,
            "object_fit": null,
            "object_position": null,
            "order": null,
            "overflow": null,
            "overflow_x": null,
            "overflow_y": null,
            "padding": null,
            "right": null,
            "top": null,
            "visibility": null,
            "width": null
          }
        },
        "83a57e6df2e34cf5a91ea9dee2b643db": {
          "model_module": "@jupyter-widgets/base",
          "model_name": "LayoutModel",
          "model_module_version": "1.2.0",
          "state": {
            "_model_module": "@jupyter-widgets/base",
            "_model_module_version": "1.2.0",
            "_model_name": "LayoutModel",
            "_view_count": null,
            "_view_module": "@jupyter-widgets/base",
            "_view_module_version": "1.2.0",
            "_view_name": "LayoutView",
            "align_content": null,
            "align_items": null,
            "align_self": null,
            "border": null,
            "bottom": null,
            "display": null,
            "flex": null,
            "flex_flow": null,
            "grid_area": null,
            "grid_auto_columns": null,
            "grid_auto_flow": null,
            "grid_auto_rows": null,
            "grid_column": null,
            "grid_gap": null,
            "grid_row": null,
            "grid_template_areas": null,
            "grid_template_columns": null,
            "grid_template_rows": null,
            "height": null,
            "justify_content": null,
            "justify_items": null,
            "left": null,
            "margin": null,
            "max_height": null,
            "max_width": null,
            "min_height": null,
            "min_width": null,
            "object_fit": null,
            "object_position": null,
            "order": null,
            "overflow": null,
            "overflow_x": null,
            "overflow_y": null,
            "padding": null,
            "right": null,
            "top": null,
            "visibility": null,
            "width": null
          }
        },
        "61b853cff0f24b48a3ebb101fadbbab7": {
          "model_module": "@jupyter-widgets/controls",
          "model_name": "DescriptionStyleModel",
          "model_module_version": "1.5.0",
          "state": {
            "_model_module": "@jupyter-widgets/controls",
            "_model_module_version": "1.5.0",
            "_model_name": "DescriptionStyleModel",
            "_view_count": null,
            "_view_module": "@jupyter-widgets/base",
            "_view_module_version": "1.2.0",
            "_view_name": "StyleView",
            "description_width": ""
          }
        },
        "f68806ad2e9544ddb6dc835fb1635495": {
          "model_module": "@jupyter-widgets/base",
          "model_name": "LayoutModel",
          "model_module_version": "1.2.0",
          "state": {
            "_model_module": "@jupyter-widgets/base",
            "_model_module_version": "1.2.0",
            "_model_name": "LayoutModel",
            "_view_count": null,
            "_view_module": "@jupyter-widgets/base",
            "_view_module_version": "1.2.0",
            "_view_name": "LayoutView",
            "align_content": null,
            "align_items": null,
            "align_self": null,
            "border": null,
            "bottom": null,
            "display": null,
            "flex": null,
            "flex_flow": null,
            "grid_area": null,
            "grid_auto_columns": null,
            "grid_auto_flow": null,
            "grid_auto_rows": null,
            "grid_column": null,
            "grid_gap": null,
            "grid_row": null,
            "grid_template_areas": null,
            "grid_template_columns": null,
            "grid_template_rows": null,
            "height": null,
            "justify_content": null,
            "justify_items": null,
            "left": null,
            "margin": null,
            "max_height": null,
            "max_width": null,
            "min_height": null,
            "min_width": null,
            "object_fit": null,
            "object_position": null,
            "order": null,
            "overflow": null,
            "overflow_x": null,
            "overflow_y": null,
            "padding": null,
            "right": null,
            "top": null,
            "visibility": null,
            "width": null
          }
        },
        "ed38eafa106a4fa7a8def5dd605fbdac": {
          "model_module": "@jupyter-widgets/controls",
          "model_name": "ProgressStyleModel",
          "model_module_version": "1.5.0",
          "state": {
            "_model_module": "@jupyter-widgets/controls",
            "_model_module_version": "1.5.0",
            "_model_name": "ProgressStyleModel",
            "_view_count": null,
            "_view_module": "@jupyter-widgets/base",
            "_view_module_version": "1.2.0",
            "_view_name": "StyleView",
            "bar_color": null,
            "description_width": ""
          }
        },
        "0e351c913cad429789d2eee3abb7236d": {
          "model_module": "@jupyter-widgets/base",
          "model_name": "LayoutModel",
          "model_module_version": "1.2.0",
          "state": {
            "_model_module": "@jupyter-widgets/base",
            "_model_module_version": "1.2.0",
            "_model_name": "LayoutModel",
            "_view_count": null,
            "_view_module": "@jupyter-widgets/base",
            "_view_module_version": "1.2.0",
            "_view_name": "LayoutView",
            "align_content": null,
            "align_items": null,
            "align_self": null,
            "border": null,
            "bottom": null,
            "display": null,
            "flex": null,
            "flex_flow": null,
            "grid_area": null,
            "grid_auto_columns": null,
            "grid_auto_flow": null,
            "grid_auto_rows": null,
            "grid_column": null,
            "grid_gap": null,
            "grid_row": null,
            "grid_template_areas": null,
            "grid_template_columns": null,
            "grid_template_rows": null,
            "height": null,
            "justify_content": null,
            "justify_items": null,
            "left": null,
            "margin": null,
            "max_height": null,
            "max_width": null,
            "min_height": null,
            "min_width": null,
            "object_fit": null,
            "object_position": null,
            "order": null,
            "overflow": null,
            "overflow_x": null,
            "overflow_y": null,
            "padding": null,
            "right": null,
            "top": null,
            "visibility": null,
            "width": null
          }
        },
        "8be3eeefa5ea4682a91578271129c01a": {
          "model_module": "@jupyter-widgets/controls",
          "model_name": "DescriptionStyleModel",
          "model_module_version": "1.5.0",
          "state": {
            "_model_module": "@jupyter-widgets/controls",
            "_model_module_version": "1.5.0",
            "_model_name": "DescriptionStyleModel",
            "_view_count": null,
            "_view_module": "@jupyter-widgets/base",
            "_view_module_version": "1.2.0",
            "_view_name": "StyleView",
            "description_width": ""
          }
        },
        "3584214868004e9b8d4e9d605e0e127c": {
          "model_module": "@jupyter-widgets/controls",
          "model_name": "HBoxModel",
          "model_module_version": "1.5.0",
          "state": {
            "_dom_classes": [],
            "_model_module": "@jupyter-widgets/controls",
            "_model_module_version": "1.5.0",
            "_model_name": "HBoxModel",
            "_view_count": null,
            "_view_module": "@jupyter-widgets/controls",
            "_view_module_version": "1.5.0",
            "_view_name": "HBoxView",
            "box_style": "",
            "children": [
              "IPY_MODEL_4f72c41a51c047829b0abc1c17676b4a",
              "IPY_MODEL_b64ae4f611084574a11f52d01e1803ff",
              "IPY_MODEL_c129c54b87d64d3a867cb45481cd8927"
            ],
            "layout": "IPY_MODEL_a0633798d0af4768a200c1b2ce4d3a28"
          }
        },
        "4f72c41a51c047829b0abc1c17676b4a": {
          "model_module": "@jupyter-widgets/controls",
          "model_name": "HTMLModel",
          "model_module_version": "1.5.0",
          "state": {
            "_dom_classes": [],
            "_model_module": "@jupyter-widgets/controls",
            "_model_module_version": "1.5.0",
            "_model_name": "HTMLModel",
            "_view_count": null,
            "_view_module": "@jupyter-widgets/controls",
            "_view_module_version": "1.5.0",
            "_view_name": "HTMLView",
            "description": "",
            "description_tooltip": null,
            "layout": "IPY_MODEL_c6f591d74a7b452c8831c50e8b461c7f",
            "placeholder": "​",
            "style": "IPY_MODEL_71291b01638a4b02a26fc1891a0833ab",
            "value": "Downloading spiece.model: 100%"
          }
        },
        "b64ae4f611084574a11f52d01e1803ff": {
          "model_module": "@jupyter-widgets/controls",
          "model_name": "FloatProgressModel",
          "model_module_version": "1.5.0",
          "state": {
            "_dom_classes": [],
            "_model_module": "@jupyter-widgets/controls",
            "_model_module_version": "1.5.0",
            "_model_name": "FloatProgressModel",
            "_view_count": null,
            "_view_module": "@jupyter-widgets/controls",
            "_view_module_version": "1.5.0",
            "_view_name": "ProgressView",
            "bar_style": "success",
            "description": "",
            "description_tooltip": null,
            "layout": "IPY_MODEL_61041fbe36ea475c820418bca8b4848c",
            "max": 791656,
            "min": 0,
            "orientation": "horizontal",
            "style": "IPY_MODEL_170fce42d1554cf58107626f303b749a",
            "value": 791656
          }
        },
        "c129c54b87d64d3a867cb45481cd8927": {
          "model_module": "@jupyter-widgets/controls",
          "model_name": "HTMLModel",
          "model_module_version": "1.5.0",
          "state": {
            "_dom_classes": [],
            "_model_module": "@jupyter-widgets/controls",
            "_model_module_version": "1.5.0",
            "_model_name": "HTMLModel",
            "_view_count": null,
            "_view_module": "@jupyter-widgets/controls",
            "_view_module_version": "1.5.0",
            "_view_name": "HTMLView",
            "description": "",
            "description_tooltip": null,
            "layout": "IPY_MODEL_720bed3a76cb4867b37af13c1eac1094",
            "placeholder": "​",
            "style": "IPY_MODEL_f13fee8f830e4aa4b11df605731bd361",
            "value": " 773k/773k [00:00&lt;00:00, 3.56MB/s]"
          }
        },
        "a0633798d0af4768a200c1b2ce4d3a28": {
          "model_module": "@jupyter-widgets/base",
          "model_name": "LayoutModel",
          "model_module_version": "1.2.0",
          "state": {
            "_model_module": "@jupyter-widgets/base",
            "_model_module_version": "1.2.0",
            "_model_name": "LayoutModel",
            "_view_count": null,
            "_view_module": "@jupyter-widgets/base",
            "_view_module_version": "1.2.0",
            "_view_name": "LayoutView",
            "align_content": null,
            "align_items": null,
            "align_self": null,
            "border": null,
            "bottom": null,
            "display": null,
            "flex": null,
            "flex_flow": null,
            "grid_area": null,
            "grid_auto_columns": null,
            "grid_auto_flow": null,
            "grid_auto_rows": null,
            "grid_column": null,
            "grid_gap": null,
            "grid_row": null,
            "grid_template_areas": null,
            "grid_template_columns": null,
            "grid_template_rows": null,
            "height": null,
            "justify_content": null,
            "justify_items": null,
            "left": null,
            "margin": null,
            "max_height": null,
            "max_width": null,
            "min_height": null,
            "min_width": null,
            "object_fit": null,
            "object_position": null,
            "order": null,
            "overflow": null,
            "overflow_x": null,
            "overflow_y": null,
            "padding": null,
            "right": null,
            "top": null,
            "visibility": null,
            "width": null
          }
        },
        "c6f591d74a7b452c8831c50e8b461c7f": {
          "model_module": "@jupyter-widgets/base",
          "model_name": "LayoutModel",
          "model_module_version": "1.2.0",
          "state": {
            "_model_module": "@jupyter-widgets/base",
            "_model_module_version": "1.2.0",
            "_model_name": "LayoutModel",
            "_view_count": null,
            "_view_module": "@jupyter-widgets/base",
            "_view_module_version": "1.2.0",
            "_view_name": "LayoutView",
            "align_content": null,
            "align_items": null,
            "align_self": null,
            "border": null,
            "bottom": null,
            "display": null,
            "flex": null,
            "flex_flow": null,
            "grid_area": null,
            "grid_auto_columns": null,
            "grid_auto_flow": null,
            "grid_auto_rows": null,
            "grid_column": null,
            "grid_gap": null,
            "grid_row": null,
            "grid_template_areas": null,
            "grid_template_columns": null,
            "grid_template_rows": null,
            "height": null,
            "justify_content": null,
            "justify_items": null,
            "left": null,
            "margin": null,
            "max_height": null,
            "max_width": null,
            "min_height": null,
            "min_width": null,
            "object_fit": null,
            "object_position": null,
            "order": null,
            "overflow": null,
            "overflow_x": null,
            "overflow_y": null,
            "padding": null,
            "right": null,
            "top": null,
            "visibility": null,
            "width": null
          }
        },
        "71291b01638a4b02a26fc1891a0833ab": {
          "model_module": "@jupyter-widgets/controls",
          "model_name": "DescriptionStyleModel",
          "model_module_version": "1.5.0",
          "state": {
            "_model_module": "@jupyter-widgets/controls",
            "_model_module_version": "1.5.0",
            "_model_name": "DescriptionStyleModel",
            "_view_count": null,
            "_view_module": "@jupyter-widgets/base",
            "_view_module_version": "1.2.0",
            "_view_name": "StyleView",
            "description_width": ""
          }
        },
        "61041fbe36ea475c820418bca8b4848c": {
          "model_module": "@jupyter-widgets/base",
          "model_name": "LayoutModel",
          "model_module_version": "1.2.0",
          "state": {
            "_model_module": "@jupyter-widgets/base",
            "_model_module_version": "1.2.0",
            "_model_name": "LayoutModel",
            "_view_count": null,
            "_view_module": "@jupyter-widgets/base",
            "_view_module_version": "1.2.0",
            "_view_name": "LayoutView",
            "align_content": null,
            "align_items": null,
            "align_self": null,
            "border": null,
            "bottom": null,
            "display": null,
            "flex": null,
            "flex_flow": null,
            "grid_area": null,
            "grid_auto_columns": null,
            "grid_auto_flow": null,
            "grid_auto_rows": null,
            "grid_column": null,
            "grid_gap": null,
            "grid_row": null,
            "grid_template_areas": null,
            "grid_template_columns": null,
            "grid_template_rows": null,
            "height": null,
            "justify_content": null,
            "justify_items": null,
            "left": null,
            "margin": null,
            "max_height": null,
            "max_width": null,
            "min_height": null,
            "min_width": null,
            "object_fit": null,
            "object_position": null,
            "order": null,
            "overflow": null,
            "overflow_x": null,
            "overflow_y": null,
            "padding": null,
            "right": null,
            "top": null,
            "visibility": null,
            "width": null
          }
        },
        "170fce42d1554cf58107626f303b749a": {
          "model_module": "@jupyter-widgets/controls",
          "model_name": "ProgressStyleModel",
          "model_module_version": "1.5.0",
          "state": {
            "_model_module": "@jupyter-widgets/controls",
            "_model_module_version": "1.5.0",
            "_model_name": "ProgressStyleModel",
            "_view_count": null,
            "_view_module": "@jupyter-widgets/base",
            "_view_module_version": "1.2.0",
            "_view_name": "StyleView",
            "bar_color": null,
            "description_width": ""
          }
        },
        "720bed3a76cb4867b37af13c1eac1094": {
          "model_module": "@jupyter-widgets/base",
          "model_name": "LayoutModel",
          "model_module_version": "1.2.0",
          "state": {
            "_model_module": "@jupyter-widgets/base",
            "_model_module_version": "1.2.0",
            "_model_name": "LayoutModel",
            "_view_count": null,
            "_view_module": "@jupyter-widgets/base",
            "_view_module_version": "1.2.0",
            "_view_name": "LayoutView",
            "align_content": null,
            "align_items": null,
            "align_self": null,
            "border": null,
            "bottom": null,
            "display": null,
            "flex": null,
            "flex_flow": null,
            "grid_area": null,
            "grid_auto_columns": null,
            "grid_auto_flow": null,
            "grid_auto_rows": null,
            "grid_column": null,
            "grid_gap": null,
            "grid_row": null,
            "grid_template_areas": null,
            "grid_template_columns": null,
            "grid_template_rows": null,
            "height": null,
            "justify_content": null,
            "justify_items": null,
            "left": null,
            "margin": null,
            "max_height": null,
            "max_width": null,
            "min_height": null,
            "min_width": null,
            "object_fit": null,
            "object_position": null,
            "order": null,
            "overflow": null,
            "overflow_x": null,
            "overflow_y": null,
            "padding": null,
            "right": null,
            "top": null,
            "visibility": null,
            "width": null
          }
        },
        "f13fee8f830e4aa4b11df605731bd361": {
          "model_module": "@jupyter-widgets/controls",
          "model_name": "DescriptionStyleModel",
          "model_module_version": "1.5.0",
          "state": {
            "_model_module": "@jupyter-widgets/controls",
            "_model_module_version": "1.5.0",
            "_model_name": "DescriptionStyleModel",
            "_view_count": null,
            "_view_module": "@jupyter-widgets/base",
            "_view_module_version": "1.2.0",
            "_view_name": "StyleView",
            "description_width": ""
          }
        },
        "5deecf357239440d91d6ade1dfa027b7": {
          "model_module": "@jupyter-widgets/controls",
          "model_name": "HBoxModel",
          "model_module_version": "1.5.0",
          "state": {
            "_dom_classes": [],
            "_model_module": "@jupyter-widgets/controls",
            "_model_module_version": "1.5.0",
            "_model_name": "HBoxModel",
            "_view_count": null,
            "_view_module": "@jupyter-widgets/controls",
            "_view_module_version": "1.5.0",
            "_view_name": "HBoxView",
            "box_style": "",
            "children": [
              "IPY_MODEL_154ae4d803b84defb6a280cbd2931eca",
              "IPY_MODEL_8a5421ab6f0f44cfa65c78e78ad1bb01",
              "IPY_MODEL_dff4a391e96b4144813f4728ea5618f1"
            ],
            "layout": "IPY_MODEL_b045e1edc7394902bdb607663752700d"
          }
        },
        "154ae4d803b84defb6a280cbd2931eca": {
          "model_module": "@jupyter-widgets/controls",
          "model_name": "HTMLModel",
          "model_module_version": "1.5.0",
          "state": {
            "_dom_classes": [],
            "_model_module": "@jupyter-widgets/controls",
            "_model_module_version": "1.5.0",
            "_model_name": "HTMLModel",
            "_view_count": null,
            "_view_module": "@jupyter-widgets/controls",
            "_view_module_version": "1.5.0",
            "_view_name": "HTMLView",
            "description": "",
            "description_tooltip": null,
            "layout": "IPY_MODEL_b7b9a8cdc528419a8d66c46aac209f17",
            "placeholder": "​",
            "style": "IPY_MODEL_35e02f4e32bd43609d8dd237dc50aac8",
            "value": "Downloading tokenizer.json: 100%"
          }
        },
        "8a5421ab6f0f44cfa65c78e78ad1bb01": {
          "model_module": "@jupyter-widgets/controls",
          "model_name": "FloatProgressModel",
          "model_module_version": "1.5.0",
          "state": {
            "_dom_classes": [],
            "_model_module": "@jupyter-widgets/controls",
            "_model_module_version": "1.5.0",
            "_model_name": "FloatProgressModel",
            "_view_count": null,
            "_view_module": "@jupyter-widgets/controls",
            "_view_module_version": "1.5.0",
            "_view_name": "ProgressView",
            "bar_style": "success",
            "description": "",
            "description_tooltip": null,
            "layout": "IPY_MODEL_ed478b7d86b04884808b46f43f217cd3",
            "max": 1389353,
            "min": 0,
            "orientation": "horizontal",
            "style": "IPY_MODEL_27d52f3c93924fe6a48e0992ef8e7f82",
            "value": 1389353
          }
        },
        "dff4a391e96b4144813f4728ea5618f1": {
          "model_module": "@jupyter-widgets/controls",
          "model_name": "HTMLModel",
          "model_module_version": "1.5.0",
          "state": {
            "_dom_classes": [],
            "_model_module": "@jupyter-widgets/controls",
            "_model_module_version": "1.5.0",
            "_model_name": "HTMLModel",
            "_view_count": null,
            "_view_module": "@jupyter-widgets/controls",
            "_view_module_version": "1.5.0",
            "_view_name": "HTMLView",
            "description": "",
            "description_tooltip": null,
            "layout": "IPY_MODEL_1c9d4eeab3e447b8b962fa774351f9bc",
            "placeholder": "​",
            "style": "IPY_MODEL_e3adda74fc8945abbc17bf82b12b0098",
            "value": " 1.32M/1.32M [00:00&lt;00:00, 1.75MB/s]"
          }
        },
        "b045e1edc7394902bdb607663752700d": {
          "model_module": "@jupyter-widgets/base",
          "model_name": "LayoutModel",
          "model_module_version": "1.2.0",
          "state": {
            "_model_module": "@jupyter-widgets/base",
            "_model_module_version": "1.2.0",
            "_model_name": "LayoutModel",
            "_view_count": null,
            "_view_module": "@jupyter-widgets/base",
            "_view_module_version": "1.2.0",
            "_view_name": "LayoutView",
            "align_content": null,
            "align_items": null,
            "align_self": null,
            "border": null,
            "bottom": null,
            "display": null,
            "flex": null,
            "flex_flow": null,
            "grid_area": null,
            "grid_auto_columns": null,
            "grid_auto_flow": null,
            "grid_auto_rows": null,
            "grid_column": null,
            "grid_gap": null,
            "grid_row": null,
            "grid_template_areas": null,
            "grid_template_columns": null,
            "grid_template_rows": null,
            "height": null,
            "justify_content": null,
            "justify_items": null,
            "left": null,
            "margin": null,
            "max_height": null,
            "max_width": null,
            "min_height": null,
            "min_width": null,
            "object_fit": null,
            "object_position": null,
            "order": null,
            "overflow": null,
            "overflow_x": null,
            "overflow_y": null,
            "padding": null,
            "right": null,
            "top": null,
            "visibility": null,
            "width": null
          }
        },
        "b7b9a8cdc528419a8d66c46aac209f17": {
          "model_module": "@jupyter-widgets/base",
          "model_name": "LayoutModel",
          "model_module_version": "1.2.0",
          "state": {
            "_model_module": "@jupyter-widgets/base",
            "_model_module_version": "1.2.0",
            "_model_name": "LayoutModel",
            "_view_count": null,
            "_view_module": "@jupyter-widgets/base",
            "_view_module_version": "1.2.0",
            "_view_name": "LayoutView",
            "align_content": null,
            "align_items": null,
            "align_self": null,
            "border": null,
            "bottom": null,
            "display": null,
            "flex": null,
            "flex_flow": null,
            "grid_area": null,
            "grid_auto_columns": null,
            "grid_auto_flow": null,
            "grid_auto_rows": null,
            "grid_column": null,
            "grid_gap": null,
            "grid_row": null,
            "grid_template_areas": null,
            "grid_template_columns": null,
            "grid_template_rows": null,
            "height": null,
            "justify_content": null,
            "justify_items": null,
            "left": null,
            "margin": null,
            "max_height": null,
            "max_width": null,
            "min_height": null,
            "min_width": null,
            "object_fit": null,
            "object_position": null,
            "order": null,
            "overflow": null,
            "overflow_x": null,
            "overflow_y": null,
            "padding": null,
            "right": null,
            "top": null,
            "visibility": null,
            "width": null
          }
        },
        "35e02f4e32bd43609d8dd237dc50aac8": {
          "model_module": "@jupyter-widgets/controls",
          "model_name": "DescriptionStyleModel",
          "model_module_version": "1.5.0",
          "state": {
            "_model_module": "@jupyter-widgets/controls",
            "_model_module_version": "1.5.0",
            "_model_name": "DescriptionStyleModel",
            "_view_count": null,
            "_view_module": "@jupyter-widgets/base",
            "_view_module_version": "1.2.0",
            "_view_name": "StyleView",
            "description_width": ""
          }
        },
        "ed478b7d86b04884808b46f43f217cd3": {
          "model_module": "@jupyter-widgets/base",
          "model_name": "LayoutModel",
          "model_module_version": "1.2.0",
          "state": {
            "_model_module": "@jupyter-widgets/base",
            "_model_module_version": "1.2.0",
            "_model_name": "LayoutModel",
            "_view_count": null,
            "_view_module": "@jupyter-widgets/base",
            "_view_module_version": "1.2.0",
            "_view_name": "LayoutView",
            "align_content": null,
            "align_items": null,
            "align_self": null,
            "border": null,
            "bottom": null,
            "display": null,
            "flex": null,
            "flex_flow": null,
            "grid_area": null,
            "grid_auto_columns": null,
            "grid_auto_flow": null,
            "grid_auto_rows": null,
            "grid_column": null,
            "grid_gap": null,
            "grid_row": null,
            "grid_template_areas": null,
            "grid_template_columns": null,
            "grid_template_rows": null,
            "height": null,
            "justify_content": null,
            "justify_items": null,
            "left": null,
            "margin": null,
            "max_height": null,
            "max_width": null,
            "min_height": null,
            "min_width": null,
            "object_fit": null,
            "object_position": null,
            "order": null,
            "overflow": null,
            "overflow_x": null,
            "overflow_y": null,
            "padding": null,
            "right": null,
            "top": null,
            "visibility": null,
            "width": null
          }
        },
        "27d52f3c93924fe6a48e0992ef8e7f82": {
          "model_module": "@jupyter-widgets/controls",
          "model_name": "ProgressStyleModel",
          "model_module_version": "1.5.0",
          "state": {
            "_model_module": "@jupyter-widgets/controls",
            "_model_module_version": "1.5.0",
            "_model_name": "ProgressStyleModel",
            "_view_count": null,
            "_view_module": "@jupyter-widgets/base",
            "_view_module_version": "1.2.0",
            "_view_name": "StyleView",
            "bar_color": null,
            "description_width": ""
          }
        },
        "1c9d4eeab3e447b8b962fa774351f9bc": {
          "model_module": "@jupyter-widgets/base",
          "model_name": "LayoutModel",
          "model_module_version": "1.2.0",
          "state": {
            "_model_module": "@jupyter-widgets/base",
            "_model_module_version": "1.2.0",
            "_model_name": "LayoutModel",
            "_view_count": null,
            "_view_module": "@jupyter-widgets/base",
            "_view_module_version": "1.2.0",
            "_view_name": "LayoutView",
            "align_content": null,
            "align_items": null,
            "align_self": null,
            "border": null,
            "bottom": null,
            "display": null,
            "flex": null,
            "flex_flow": null,
            "grid_area": null,
            "grid_auto_columns": null,
            "grid_auto_flow": null,
            "grid_auto_rows": null,
            "grid_column": null,
            "grid_gap": null,
            "grid_row": null,
            "grid_template_areas": null,
            "grid_template_columns": null,
            "grid_template_rows": null,
            "height": null,
            "justify_content": null,
            "justify_items": null,
            "left": null,
            "margin": null,
            "max_height": null,
            "max_width": null,
            "min_height": null,
            "min_width": null,
            "object_fit": null,
            "object_position": null,
            "order": null,
            "overflow": null,
            "overflow_x": null,
            "overflow_y": null,
            "padding": null,
            "right": null,
            "top": null,
            "visibility": null,
            "width": null
          }
        },
        "e3adda74fc8945abbc17bf82b12b0098": {
          "model_module": "@jupyter-widgets/controls",
          "model_name": "DescriptionStyleModel",
          "model_module_version": "1.5.0",
          "state": {
            "_model_module": "@jupyter-widgets/controls",
            "_model_module_version": "1.5.0",
            "_model_name": "DescriptionStyleModel",
            "_view_count": null,
            "_view_module": "@jupyter-widgets/base",
            "_view_module_version": "1.2.0",
            "_view_name": "StyleView",
            "description_width": ""
          }
        },
        "0e13c2cefe2646dcb6c3d6292032e9fa": {
          "model_module": "@jupyter-widgets/controls",
          "model_name": "HBoxModel",
          "model_module_version": "1.5.0",
          "state": {
            "_dom_classes": [],
            "_model_module": "@jupyter-widgets/controls",
            "_model_module_version": "1.5.0",
            "_model_name": "HBoxModel",
            "_view_count": null,
            "_view_module": "@jupyter-widgets/controls",
            "_view_module_version": "1.5.0",
            "_view_name": "HBoxView",
            "box_style": "",
            "children": [
              "IPY_MODEL_72a0cdc0ff184e4f9ce8fc5966d90277",
              "IPY_MODEL_85a4c95e6a724ffd8c1167b22411fc79",
              "IPY_MODEL_9fc82a78d6f7412280f686cf934318a6"
            ],
            "layout": "IPY_MODEL_d735a4a15c3144d0abb566886a37052f"
          }
        },
        "72a0cdc0ff184e4f9ce8fc5966d90277": {
          "model_module": "@jupyter-widgets/controls",
          "model_name": "HTMLModel",
          "model_module_version": "1.5.0",
          "state": {
            "_dom_classes": [],
            "_model_module": "@jupyter-widgets/controls",
            "_model_module_version": "1.5.0",
            "_model_name": "HTMLModel",
            "_view_count": null,
            "_view_module": "@jupyter-widgets/controls",
            "_view_module_version": "1.5.0",
            "_view_name": "HTMLView",
            "description": "",
            "description_tooltip": null,
            "layout": "IPY_MODEL_d608f2f7adb14d5db3af822f7968c287",
            "placeholder": "​",
            "style": "IPY_MODEL_6ed637733c0e4bd8a2574b03a11d040a",
            "value": "Downloading pytorch_model.bin: 100%"
          }
        },
        "85a4c95e6a724ffd8c1167b22411fc79": {
          "model_module": "@jupyter-widgets/controls",
          "model_name": "FloatProgressModel",
          "model_module_version": "1.5.0",
          "state": {
            "_dom_classes": [],
            "_model_module": "@jupyter-widgets/controls",
            "_model_module_version": "1.5.0",
            "_model_name": "FloatProgressModel",
            "_view_count": null,
            "_view_module": "@jupyter-widgets/controls",
            "_view_module_version": "1.5.0",
            "_view_name": "ProgressView",
            "bar_style": "success",
            "description": "",
            "description_tooltip": null,
            "layout": "IPY_MODEL_f010c328a3de46f6ae7496623cb3718e",
            "max": 242065649,
            "min": 0,
            "orientation": "horizontal",
            "style": "IPY_MODEL_b3d7b34d8358421999c1ee46d03b602b",
            "value": 242065649
          }
        },
        "9fc82a78d6f7412280f686cf934318a6": {
          "model_module": "@jupyter-widgets/controls",
          "model_name": "HTMLModel",
          "model_module_version": "1.5.0",
          "state": {
            "_dom_classes": [],
            "_model_module": "@jupyter-widgets/controls",
            "_model_module_version": "1.5.0",
            "_model_name": "HTMLModel",
            "_view_count": null,
            "_view_module": "@jupyter-widgets/controls",
            "_view_module_version": "1.5.0",
            "_view_name": "HTMLView",
            "description": "",
            "description_tooltip": null,
            "layout": "IPY_MODEL_091eebd699c145c383d3eac1615fa26f",
            "placeholder": "​",
            "style": "IPY_MODEL_d0eb8b0c68dd4d21b8eaae07aef06bf6",
            "value": " 231M/231M [00:05&lt;00:00, 31.1MB/s]"
          }
        },
        "d735a4a15c3144d0abb566886a37052f": {
          "model_module": "@jupyter-widgets/base",
          "model_name": "LayoutModel",
          "model_module_version": "1.2.0",
          "state": {
            "_model_module": "@jupyter-widgets/base",
            "_model_module_version": "1.2.0",
            "_model_name": "LayoutModel",
            "_view_count": null,
            "_view_module": "@jupyter-widgets/base",
            "_view_module_version": "1.2.0",
            "_view_name": "LayoutView",
            "align_content": null,
            "align_items": null,
            "align_self": null,
            "border": null,
            "bottom": null,
            "display": null,
            "flex": null,
            "flex_flow": null,
            "grid_area": null,
            "grid_auto_columns": null,
            "grid_auto_flow": null,
            "grid_auto_rows": null,
            "grid_column": null,
            "grid_gap": null,
            "grid_row": null,
            "grid_template_areas": null,
            "grid_template_columns": null,
            "grid_template_rows": null,
            "height": null,
            "justify_content": null,
            "justify_items": null,
            "left": null,
            "margin": null,
            "max_height": null,
            "max_width": null,
            "min_height": null,
            "min_width": null,
            "object_fit": null,
            "object_position": null,
            "order": null,
            "overflow": null,
            "overflow_x": null,
            "overflow_y": null,
            "padding": null,
            "right": null,
            "top": null,
            "visibility": null,
            "width": null
          }
        },
        "d608f2f7adb14d5db3af822f7968c287": {
          "model_module": "@jupyter-widgets/base",
          "model_name": "LayoutModel",
          "model_module_version": "1.2.0",
          "state": {
            "_model_module": "@jupyter-widgets/base",
            "_model_module_version": "1.2.0",
            "_model_name": "LayoutModel",
            "_view_count": null,
            "_view_module": "@jupyter-widgets/base",
            "_view_module_version": "1.2.0",
            "_view_name": "LayoutView",
            "align_content": null,
            "align_items": null,
            "align_self": null,
            "border": null,
            "bottom": null,
            "display": null,
            "flex": null,
            "flex_flow": null,
            "grid_area": null,
            "grid_auto_columns": null,
            "grid_auto_flow": null,
            "grid_auto_rows": null,
            "grid_column": null,
            "grid_gap": null,
            "grid_row": null,
            "grid_template_areas": null,
            "grid_template_columns": null,
            "grid_template_rows": null,
            "height": null,
            "justify_content": null,
            "justify_items": null,
            "left": null,
            "margin": null,
            "max_height": null,
            "max_width": null,
            "min_height": null,
            "min_width": null,
            "object_fit": null,
            "object_position": null,
            "order": null,
            "overflow": null,
            "overflow_x": null,
            "overflow_y": null,
            "padding": null,
            "right": null,
            "top": null,
            "visibility": null,
            "width": null
          }
        },
        "6ed637733c0e4bd8a2574b03a11d040a": {
          "model_module": "@jupyter-widgets/controls",
          "model_name": "DescriptionStyleModel",
          "model_module_version": "1.5.0",
          "state": {
            "_model_module": "@jupyter-widgets/controls",
            "_model_module_version": "1.5.0",
            "_model_name": "DescriptionStyleModel",
            "_view_count": null,
            "_view_module": "@jupyter-widgets/base",
            "_view_module_version": "1.2.0",
            "_view_name": "StyleView",
            "description_width": ""
          }
        },
        "f010c328a3de46f6ae7496623cb3718e": {
          "model_module": "@jupyter-widgets/base",
          "model_name": "LayoutModel",
          "model_module_version": "1.2.0",
          "state": {
            "_model_module": "@jupyter-widgets/base",
            "_model_module_version": "1.2.0",
            "_model_name": "LayoutModel",
            "_view_count": null,
            "_view_module": "@jupyter-widgets/base",
            "_view_module_version": "1.2.0",
            "_view_name": "LayoutView",
            "align_content": null,
            "align_items": null,
            "align_self": null,
            "border": null,
            "bottom": null,
            "display": null,
            "flex": null,
            "flex_flow": null,
            "grid_area": null,
            "grid_auto_columns": null,
            "grid_auto_flow": null,
            "grid_auto_rows": null,
            "grid_column": null,
            "grid_gap": null,
            "grid_row": null,
            "grid_template_areas": null,
            "grid_template_columns": null,
            "grid_template_rows": null,
            "height": null,
            "justify_content": null,
            "justify_items": null,
            "left": null,
            "margin": null,
            "max_height": null,
            "max_width": null,
            "min_height": null,
            "min_width": null,
            "object_fit": null,
            "object_position": null,
            "order": null,
            "overflow": null,
            "overflow_x": null,
            "overflow_y": null,
            "padding": null,
            "right": null,
            "top": null,
            "visibility": null,
            "width": null
          }
        },
        "b3d7b34d8358421999c1ee46d03b602b": {
          "model_module": "@jupyter-widgets/controls",
          "model_name": "ProgressStyleModel",
          "model_module_version": "1.5.0",
          "state": {
            "_model_module": "@jupyter-widgets/controls",
            "_model_module_version": "1.5.0",
            "_model_name": "ProgressStyleModel",
            "_view_count": null,
            "_view_module": "@jupyter-widgets/base",
            "_view_module_version": "1.2.0",
            "_view_name": "StyleView",
            "bar_color": null,
            "description_width": ""
          }
        },
        "091eebd699c145c383d3eac1615fa26f": {
          "model_module": "@jupyter-widgets/base",
          "model_name": "LayoutModel",
          "model_module_version": "1.2.0",
          "state": {
            "_model_module": "@jupyter-widgets/base",
            "_model_module_version": "1.2.0",
            "_model_name": "LayoutModel",
            "_view_count": null,
            "_view_module": "@jupyter-widgets/base",
            "_view_module_version": "1.2.0",
            "_view_name": "LayoutView",
            "align_content": null,
            "align_items": null,
            "align_self": null,
            "border": null,
            "bottom": null,
            "display": null,
            "flex": null,
            "flex_flow": null,
            "grid_area": null,
            "grid_auto_columns": null,
            "grid_auto_flow": null,
            "grid_auto_rows": null,
            "grid_column": null,
            "grid_gap": null,
            "grid_row": null,
            "grid_template_areas": null,
            "grid_template_columns": null,
            "grid_template_rows": null,
            "height": null,
            "justify_content": null,
            "justify_items": null,
            "left": null,
            "margin": null,
            "max_height": null,
            "max_width": null,
            "min_height": null,
            "min_width": null,
            "object_fit": null,
            "object_position": null,
            "order": null,
            "overflow": null,
            "overflow_x": null,
            "overflow_y": null,
            "padding": null,
            "right": null,
            "top": null,
            "visibility": null,
            "width": null
          }
        },
        "d0eb8b0c68dd4d21b8eaae07aef06bf6": {
          "model_module": "@jupyter-widgets/controls",
          "model_name": "DescriptionStyleModel",
          "model_module_version": "1.5.0",
          "state": {
            "_model_module": "@jupyter-widgets/controls",
            "_model_module_version": "1.5.0",
            "_model_name": "DescriptionStyleModel",
            "_view_count": null,
            "_view_module": "@jupyter-widgets/base",
            "_view_module_version": "1.2.0",
            "_view_name": "StyleView",
            "description_width": ""
          }
        },
        "ba1e8acd2ab94cc6871d9fb99571ba59": {
          "model_module": "@jupyter-widgets/controls",
          "model_name": "HBoxModel",
          "model_module_version": "1.5.0",
          "state": {
            "_dom_classes": [],
            "_model_module": "@jupyter-widgets/controls",
            "_model_module_version": "1.5.0",
            "_model_name": "HBoxModel",
            "_view_count": null,
            "_view_module": "@jupyter-widgets/controls",
            "_view_module_version": "1.5.0",
            "_view_name": "HBoxView",
            "box_style": "",
            "children": [
              "IPY_MODEL_337921d860124aee873b23ad3d3a7265",
              "IPY_MODEL_7926eb703cf1486bafebfd9fbd596949",
              "IPY_MODEL_0c06d43380794b03864b89ea3a88cb18"
            ],
            "layout": "IPY_MODEL_08a508f4fd204d1a857184e98dda62bd"
          }
        },
        "337921d860124aee873b23ad3d3a7265": {
          "model_module": "@jupyter-widgets/controls",
          "model_name": "HTMLModel",
          "model_module_version": "1.5.0",
          "state": {
            "_dom_classes": [],
            "_model_module": "@jupyter-widgets/controls",
            "_model_module_version": "1.5.0",
            "_model_name": "HTMLModel",
            "_view_count": null,
            "_view_module": "@jupyter-widgets/controls",
            "_view_module_version": "1.5.0",
            "_view_name": "HTMLView",
            "description": "",
            "description_tooltip": null,
            "layout": "IPY_MODEL_8045c3588f8a45e29c3c087e8b239c04",
            "placeholder": "​",
            "style": "IPY_MODEL_7c760faa1e104591b0026554e638cfc9",
            "value": "Downloading (…)olve/main/vocab.json: 100%"
          }
        },
        "7926eb703cf1486bafebfd9fbd596949": {
          "model_module": "@jupyter-widgets/controls",
          "model_name": "FloatProgressModel",
          "model_module_version": "1.5.0",
          "state": {
            "_dom_classes": [],
            "_model_module": "@jupyter-widgets/controls",
            "_model_module_version": "1.5.0",
            "_model_name": "FloatProgressModel",
            "_view_count": null,
            "_view_module": "@jupyter-widgets/controls",
            "_view_module_version": "1.5.0",
            "_view_name": "ProgressView",
            "bar_style": "success",
            "description": "",
            "description_tooltip": null,
            "layout": "IPY_MODEL_f3602f902a7442f6b11bc3de06c1690b",
            "max": 898822,
            "min": 0,
            "orientation": "horizontal",
            "style": "IPY_MODEL_a0c8199bfebd418bb1c3eeb8997f0c8e",
            "value": 898822
          }
        },
        "0c06d43380794b03864b89ea3a88cb18": {
          "model_module": "@jupyter-widgets/controls",
          "model_name": "HTMLModel",
          "model_module_version": "1.5.0",
          "state": {
            "_dom_classes": [],
            "_model_module": "@jupyter-widgets/controls",
            "_model_module_version": "1.5.0",
            "_model_name": "HTMLModel",
            "_view_count": null,
            "_view_module": "@jupyter-widgets/controls",
            "_view_module_version": "1.5.0",
            "_view_name": "HTMLView",
            "description": "",
            "description_tooltip": null,
            "layout": "IPY_MODEL_275c03d33401437d880ca7f24d09c6a4",
            "placeholder": "​",
            "style": "IPY_MODEL_dede8fa82a6040c796c2e74d44a18d16",
            "value": " 899k/899k [00:00&lt;00:00, 1.96MB/s]"
          }
        },
        "08a508f4fd204d1a857184e98dda62bd": {
          "model_module": "@jupyter-widgets/base",
          "model_name": "LayoutModel",
          "model_module_version": "1.2.0",
          "state": {
            "_model_module": "@jupyter-widgets/base",
            "_model_module_version": "1.2.0",
            "_model_name": "LayoutModel",
            "_view_count": null,
            "_view_module": "@jupyter-widgets/base",
            "_view_module_version": "1.2.0",
            "_view_name": "LayoutView",
            "align_content": null,
            "align_items": null,
            "align_self": null,
            "border": null,
            "bottom": null,
            "display": null,
            "flex": null,
            "flex_flow": null,
            "grid_area": null,
            "grid_auto_columns": null,
            "grid_auto_flow": null,
            "grid_auto_rows": null,
            "grid_column": null,
            "grid_gap": null,
            "grid_row": null,
            "grid_template_areas": null,
            "grid_template_columns": null,
            "grid_template_rows": null,
            "height": null,
            "justify_content": null,
            "justify_items": null,
            "left": null,
            "margin": null,
            "max_height": null,
            "max_width": null,
            "min_height": null,
            "min_width": null,
            "object_fit": null,
            "object_position": null,
            "order": null,
            "overflow": null,
            "overflow_x": null,
            "overflow_y": null,
            "padding": null,
            "right": null,
            "top": null,
            "visibility": null,
            "width": null
          }
        },
        "8045c3588f8a45e29c3c087e8b239c04": {
          "model_module": "@jupyter-widgets/base",
          "model_name": "LayoutModel",
          "model_module_version": "1.2.0",
          "state": {
            "_model_module": "@jupyter-widgets/base",
            "_model_module_version": "1.2.0",
            "_model_name": "LayoutModel",
            "_view_count": null,
            "_view_module": "@jupyter-widgets/base",
            "_view_module_version": "1.2.0",
            "_view_name": "LayoutView",
            "align_content": null,
            "align_items": null,
            "align_self": null,
            "border": null,
            "bottom": null,
            "display": null,
            "flex": null,
            "flex_flow": null,
            "grid_area": null,
            "grid_auto_columns": null,
            "grid_auto_flow": null,
            "grid_auto_rows": null,
            "grid_column": null,
            "grid_gap": null,
            "grid_row": null,
            "grid_template_areas": null,
            "grid_template_columns": null,
            "grid_template_rows": null,
            "height": null,
            "justify_content": null,
            "justify_items": null,
            "left": null,
            "margin": null,
            "max_height": null,
            "max_width": null,
            "min_height": null,
            "min_width": null,
            "object_fit": null,
            "object_position": null,
            "order": null,
            "overflow": null,
            "overflow_x": null,
            "overflow_y": null,
            "padding": null,
            "right": null,
            "top": null,
            "visibility": null,
            "width": null
          }
        },
        "7c760faa1e104591b0026554e638cfc9": {
          "model_module": "@jupyter-widgets/controls",
          "model_name": "DescriptionStyleModel",
          "model_module_version": "1.5.0",
          "state": {
            "_model_module": "@jupyter-widgets/controls",
            "_model_module_version": "1.5.0",
            "_model_name": "DescriptionStyleModel",
            "_view_count": null,
            "_view_module": "@jupyter-widgets/base",
            "_view_module_version": "1.2.0",
            "_view_name": "StyleView",
            "description_width": ""
          }
        },
        "f3602f902a7442f6b11bc3de06c1690b": {
          "model_module": "@jupyter-widgets/base",
          "model_name": "LayoutModel",
          "model_module_version": "1.2.0",
          "state": {
            "_model_module": "@jupyter-widgets/base",
            "_model_module_version": "1.2.0",
            "_model_name": "LayoutModel",
            "_view_count": null,
            "_view_module": "@jupyter-widgets/base",
            "_view_module_version": "1.2.0",
            "_view_name": "LayoutView",
            "align_content": null,
            "align_items": null,
            "align_self": null,
            "border": null,
            "bottom": null,
            "display": null,
            "flex": null,
            "flex_flow": null,
            "grid_area": null,
            "grid_auto_columns": null,
            "grid_auto_flow": null,
            "grid_auto_rows": null,
            "grid_column": null,
            "grid_gap": null,
            "grid_row": null,
            "grid_template_areas": null,
            "grid_template_columns": null,
            "grid_template_rows": null,
            "height": null,
            "justify_content": null,
            "justify_items": null,
            "left": null,
            "margin": null,
            "max_height": null,
            "max_width": null,
            "min_height": null,
            "min_width": null,
            "object_fit": null,
            "object_position": null,
            "order": null,
            "overflow": null,
            "overflow_x": null,
            "overflow_y": null,
            "padding": null,
            "right": null,
            "top": null,
            "visibility": null,
            "width": null
          }
        },
        "a0c8199bfebd418bb1c3eeb8997f0c8e": {
          "model_module": "@jupyter-widgets/controls",
          "model_name": "ProgressStyleModel",
          "model_module_version": "1.5.0",
          "state": {
            "_model_module": "@jupyter-widgets/controls",
            "_model_module_version": "1.5.0",
            "_model_name": "ProgressStyleModel",
            "_view_count": null,
            "_view_module": "@jupyter-widgets/base",
            "_view_module_version": "1.2.0",
            "_view_name": "StyleView",
            "bar_color": null,
            "description_width": ""
          }
        },
        "275c03d33401437d880ca7f24d09c6a4": {
          "model_module": "@jupyter-widgets/base",
          "model_name": "LayoutModel",
          "model_module_version": "1.2.0",
          "state": {
            "_model_module": "@jupyter-widgets/base",
            "_model_module_version": "1.2.0",
            "_model_name": "LayoutModel",
            "_view_count": null,
            "_view_module": "@jupyter-widgets/base",
            "_view_module_version": "1.2.0",
            "_view_name": "LayoutView",
            "align_content": null,
            "align_items": null,
            "align_self": null,
            "border": null,
            "bottom": null,
            "display": null,
            "flex": null,
            "flex_flow": null,
            "grid_area": null,
            "grid_auto_columns": null,
            "grid_auto_flow": null,
            "grid_auto_rows": null,
            "grid_column": null,
            "grid_gap": null,
            "grid_row": null,
            "grid_template_areas": null,
            "grid_template_columns": null,
            "grid_template_rows": null,
            "height": null,
            "justify_content": null,
            "justify_items": null,
            "left": null,
            "margin": null,
            "max_height": null,
            "max_width": null,
            "min_height": null,
            "min_width": null,
            "object_fit": null,
            "object_position": null,
            "order": null,
            "overflow": null,
            "overflow_x": null,
            "overflow_y": null,
            "padding": null,
            "right": null,
            "top": null,
            "visibility": null,
            "width": null
          }
        },
        "dede8fa82a6040c796c2e74d44a18d16": {
          "model_module": "@jupyter-widgets/controls",
          "model_name": "DescriptionStyleModel",
          "model_module_version": "1.5.0",
          "state": {
            "_model_module": "@jupyter-widgets/controls",
            "_model_module_version": "1.5.0",
            "_model_name": "DescriptionStyleModel",
            "_view_count": null,
            "_view_module": "@jupyter-widgets/base",
            "_view_module_version": "1.2.0",
            "_view_name": "StyleView",
            "description_width": ""
          }
        },
        "9a4f9d2328e749d0bb25e5ca7f5e60e7": {
          "model_module": "@jupyter-widgets/controls",
          "model_name": "HBoxModel",
          "model_module_version": "1.5.0",
          "state": {
            "_dom_classes": [],
            "_model_module": "@jupyter-widgets/controls",
            "_model_module_version": "1.5.0",
            "_model_name": "HBoxModel",
            "_view_count": null,
            "_view_module": "@jupyter-widgets/controls",
            "_view_module_version": "1.5.0",
            "_view_name": "HBoxView",
            "box_style": "",
            "children": [
              "IPY_MODEL_2967bebf65274c4396e9e16d13a5f522",
              "IPY_MODEL_5df149f9b51447f6856c72813de26862",
              "IPY_MODEL_9b241d92773f448291f7176d34a0d210"
            ],
            "layout": "IPY_MODEL_12c7f299fe44410f873747334cf5055e"
          }
        },
        "2967bebf65274c4396e9e16d13a5f522": {
          "model_module": "@jupyter-widgets/controls",
          "model_name": "HTMLModel",
          "model_module_version": "1.5.0",
          "state": {
            "_dom_classes": [],
            "_model_module": "@jupyter-widgets/controls",
            "_model_module_version": "1.5.0",
            "_model_name": "HTMLModel",
            "_view_count": null,
            "_view_module": "@jupyter-widgets/controls",
            "_view_module_version": "1.5.0",
            "_view_name": "HTMLView",
            "description": "",
            "description_tooltip": null,
            "layout": "IPY_MODEL_a145e84602854dc08224d61512134f57",
            "placeholder": "​",
            "style": "IPY_MODEL_8aca097bcab3434eb5f59da2f7ee5bc1",
            "value": "Downloading (…)olve/main/merges.txt: 100%"
          }
        },
        "5df149f9b51447f6856c72813de26862": {
          "model_module": "@jupyter-widgets/controls",
          "model_name": "FloatProgressModel",
          "model_module_version": "1.5.0",
          "state": {
            "_dom_classes": [],
            "_model_module": "@jupyter-widgets/controls",
            "_model_module_version": "1.5.0",
            "_model_name": "FloatProgressModel",
            "_view_count": null,
            "_view_module": "@jupyter-widgets/controls",
            "_view_module_version": "1.5.0",
            "_view_name": "ProgressView",
            "bar_style": "success",
            "description": "",
            "description_tooltip": null,
            "layout": "IPY_MODEL_24ceb3facddd43ca892f6db3153f9bd2",
            "max": 456318,
            "min": 0,
            "orientation": "horizontal",
            "style": "IPY_MODEL_fdbdbcd53bda407f8039d8b20ceb75cd",
            "value": 456318
          }
        },
        "9b241d92773f448291f7176d34a0d210": {
          "model_module": "@jupyter-widgets/controls",
          "model_name": "HTMLModel",
          "model_module_version": "1.5.0",
          "state": {
            "_dom_classes": [],
            "_model_module": "@jupyter-widgets/controls",
            "_model_module_version": "1.5.0",
            "_model_name": "HTMLModel",
            "_view_count": null,
            "_view_module": "@jupyter-widgets/controls",
            "_view_module_version": "1.5.0",
            "_view_name": "HTMLView",
            "description": "",
            "description_tooltip": null,
            "layout": "IPY_MODEL_51fee30c1bc048a5a1e6f5089cf62d8a",
            "placeholder": "​",
            "style": "IPY_MODEL_692057b9eedc411bbf13e475609a7f48",
            "value": " 456k/456k [00:00&lt;00:00, 1.07MB/s]"
          }
        },
        "12c7f299fe44410f873747334cf5055e": {
          "model_module": "@jupyter-widgets/base",
          "model_name": "LayoutModel",
          "model_module_version": "1.2.0",
          "state": {
            "_model_module": "@jupyter-widgets/base",
            "_model_module_version": "1.2.0",
            "_model_name": "LayoutModel",
            "_view_count": null,
            "_view_module": "@jupyter-widgets/base",
            "_view_module_version": "1.2.0",
            "_view_name": "LayoutView",
            "align_content": null,
            "align_items": null,
            "align_self": null,
            "border": null,
            "bottom": null,
            "display": null,
            "flex": null,
            "flex_flow": null,
            "grid_area": null,
            "grid_auto_columns": null,
            "grid_auto_flow": null,
            "grid_auto_rows": null,
            "grid_column": null,
            "grid_gap": null,
            "grid_row": null,
            "grid_template_areas": null,
            "grid_template_columns": null,
            "grid_template_rows": null,
            "height": null,
            "justify_content": null,
            "justify_items": null,
            "left": null,
            "margin": null,
            "max_height": null,
            "max_width": null,
            "min_height": null,
            "min_width": null,
            "object_fit": null,
            "object_position": null,
            "order": null,
            "overflow": null,
            "overflow_x": null,
            "overflow_y": null,
            "padding": null,
            "right": null,
            "top": null,
            "visibility": null,
            "width": null
          }
        },
        "a145e84602854dc08224d61512134f57": {
          "model_module": "@jupyter-widgets/base",
          "model_name": "LayoutModel",
          "model_module_version": "1.2.0",
          "state": {
            "_model_module": "@jupyter-widgets/base",
            "_model_module_version": "1.2.0",
            "_model_name": "LayoutModel",
            "_view_count": null,
            "_view_module": "@jupyter-widgets/base",
            "_view_module_version": "1.2.0",
            "_view_name": "LayoutView",
            "align_content": null,
            "align_items": null,
            "align_self": null,
            "border": null,
            "bottom": null,
            "display": null,
            "flex": null,
            "flex_flow": null,
            "grid_area": null,
            "grid_auto_columns": null,
            "grid_auto_flow": null,
            "grid_auto_rows": null,
            "grid_column": null,
            "grid_gap": null,
            "grid_row": null,
            "grid_template_areas": null,
            "grid_template_columns": null,
            "grid_template_rows": null,
            "height": null,
            "justify_content": null,
            "justify_items": null,
            "left": null,
            "margin": null,
            "max_height": null,
            "max_width": null,
            "min_height": null,
            "min_width": null,
            "object_fit": null,
            "object_position": null,
            "order": null,
            "overflow": null,
            "overflow_x": null,
            "overflow_y": null,
            "padding": null,
            "right": null,
            "top": null,
            "visibility": null,
            "width": null
          }
        },
        "8aca097bcab3434eb5f59da2f7ee5bc1": {
          "model_module": "@jupyter-widgets/controls",
          "model_name": "DescriptionStyleModel",
          "model_module_version": "1.5.0",
          "state": {
            "_model_module": "@jupyter-widgets/controls",
            "_model_module_version": "1.5.0",
            "_model_name": "DescriptionStyleModel",
            "_view_count": null,
            "_view_module": "@jupyter-widgets/base",
            "_view_module_version": "1.2.0",
            "_view_name": "StyleView",
            "description_width": ""
          }
        },
        "24ceb3facddd43ca892f6db3153f9bd2": {
          "model_module": "@jupyter-widgets/base",
          "model_name": "LayoutModel",
          "model_module_version": "1.2.0",
          "state": {
            "_model_module": "@jupyter-widgets/base",
            "_model_module_version": "1.2.0",
            "_model_name": "LayoutModel",
            "_view_count": null,
            "_view_module": "@jupyter-widgets/base",
            "_view_module_version": "1.2.0",
            "_view_name": "LayoutView",
            "align_content": null,
            "align_items": null,
            "align_self": null,
            "border": null,
            "bottom": null,
            "display": null,
            "flex": null,
            "flex_flow": null,
            "grid_area": null,
            "grid_auto_columns": null,
            "grid_auto_flow": null,
            "grid_auto_rows": null,
            "grid_column": null,
            "grid_gap": null,
            "grid_row": null,
            "grid_template_areas": null,
            "grid_template_columns": null,
            "grid_template_rows": null,
            "height": null,
            "justify_content": null,
            "justify_items": null,
            "left": null,
            "margin": null,
            "max_height": null,
            "max_width": null,
            "min_height": null,
            "min_width": null,
            "object_fit": null,
            "object_position": null,
            "order": null,
            "overflow": null,
            "overflow_x": null,
            "overflow_y": null,
            "padding": null,
            "right": null,
            "top": null,
            "visibility": null,
            "width": null
          }
        },
        "fdbdbcd53bda407f8039d8b20ceb75cd": {
          "model_module": "@jupyter-widgets/controls",
          "model_name": "ProgressStyleModel",
          "model_module_version": "1.5.0",
          "state": {
            "_model_module": "@jupyter-widgets/controls",
            "_model_module_version": "1.5.0",
            "_model_name": "ProgressStyleModel",
            "_view_count": null,
            "_view_module": "@jupyter-widgets/base",
            "_view_module_version": "1.2.0",
            "_view_name": "StyleView",
            "bar_color": null,
            "description_width": ""
          }
        },
        "51fee30c1bc048a5a1e6f5089cf62d8a": {
          "model_module": "@jupyter-widgets/base",
          "model_name": "LayoutModel",
          "model_module_version": "1.2.0",
          "state": {
            "_model_module": "@jupyter-widgets/base",
            "_model_module_version": "1.2.0",
            "_model_name": "LayoutModel",
            "_view_count": null,
            "_view_module": "@jupyter-widgets/base",
            "_view_module_version": "1.2.0",
            "_view_name": "LayoutView",
            "align_content": null,
            "align_items": null,
            "align_self": null,
            "border": null,
            "bottom": null,
            "display": null,
            "flex": null,
            "flex_flow": null,
            "grid_area": null,
            "grid_auto_columns": null,
            "grid_auto_flow": null,
            "grid_auto_rows": null,
            "grid_column": null,
            "grid_gap": null,
            "grid_row": null,
            "grid_template_areas": null,
            "grid_template_columns": null,
            "grid_template_rows": null,
            "height": null,
            "justify_content": null,
            "justify_items": null,
            "left": null,
            "margin": null,
            "max_height": null,
            "max_width": null,
            "min_height": null,
            "min_width": null,
            "object_fit": null,
            "object_position": null,
            "order": null,
            "overflow": null,
            "overflow_x": null,
            "overflow_y": null,
            "padding": null,
            "right": null,
            "top": null,
            "visibility": null,
            "width": null
          }
        },
        "692057b9eedc411bbf13e475609a7f48": {
          "model_module": "@jupyter-widgets/controls",
          "model_name": "DescriptionStyleModel",
          "model_module_version": "1.5.0",
          "state": {
            "_model_module": "@jupyter-widgets/controls",
            "_model_module_version": "1.5.0",
            "_model_name": "DescriptionStyleModel",
            "_view_count": null,
            "_view_module": "@jupyter-widgets/base",
            "_view_module_version": "1.2.0",
            "_view_name": "StyleView",
            "description_width": ""
          }
        },
        "8d9bf0937c7a4b379347a5e9979b1572": {
          "model_module": "@jupyter-widgets/controls",
          "model_name": "HBoxModel",
          "model_module_version": "1.5.0",
          "state": {
            "_dom_classes": [],
            "_model_module": "@jupyter-widgets/controls",
            "_model_module_version": "1.5.0",
            "_model_name": "HBoxModel",
            "_view_count": null,
            "_view_module": "@jupyter-widgets/controls",
            "_view_module_version": "1.5.0",
            "_view_name": "HBoxView",
            "box_style": "",
            "children": [
              "IPY_MODEL_76c6b062766f42f4ad4969ace91235c4",
              "IPY_MODEL_3071b1f4e72a45dcb605eaac3f686089",
              "IPY_MODEL_962b036f41ad460a9b40e5d6c0282156"
            ],
            "layout": "IPY_MODEL_f628ff1b38f848cca1b70c97d9d70389"
          }
        },
        "76c6b062766f42f4ad4969ace91235c4": {
          "model_module": "@jupyter-widgets/controls",
          "model_name": "HTMLModel",
          "model_module_version": "1.5.0",
          "state": {
            "_dom_classes": [],
            "_model_module": "@jupyter-widgets/controls",
            "_model_module_version": "1.5.0",
            "_model_name": "HTMLModel",
            "_view_count": null,
            "_view_module": "@jupyter-widgets/controls",
            "_view_module_version": "1.5.0",
            "_view_name": "HTMLView",
            "description": "",
            "description_tooltip": null,
            "layout": "IPY_MODEL_63ff0c571c7642e68b1744a782ccc9ea",
            "placeholder": "​",
            "style": "IPY_MODEL_8ff491ccecee4f53a4f6d89c828e717e",
            "value": "Downloading (…)okenizer_config.json: 100%"
          }
        },
        "3071b1f4e72a45dcb605eaac3f686089": {
          "model_module": "@jupyter-widgets/controls",
          "model_name": "FloatProgressModel",
          "model_module_version": "1.5.0",
          "state": {
            "_dom_classes": [],
            "_model_module": "@jupyter-widgets/controls",
            "_model_module_version": "1.5.0",
            "_model_name": "FloatProgressModel",
            "_view_count": null,
            "_view_module": "@jupyter-widgets/controls",
            "_view_module_version": "1.5.0",
            "_view_name": "ProgressView",
            "bar_style": "success",
            "description": "",
            "description_tooltip": null,
            "layout": "IPY_MODEL_c9e1af8dd00045b987f39a64237be6a0",
            "max": 26,
            "min": 0,
            "orientation": "horizontal",
            "style": "IPY_MODEL_4890a06482884a6998427cbf826fbe26",
            "value": 26
          }
        },
        "962b036f41ad460a9b40e5d6c0282156": {
          "model_module": "@jupyter-widgets/controls",
          "model_name": "HTMLModel",
          "model_module_version": "1.5.0",
          "state": {
            "_dom_classes": [],
            "_model_module": "@jupyter-widgets/controls",
            "_model_module_version": "1.5.0",
            "_model_name": "HTMLModel",
            "_view_count": null,
            "_view_module": "@jupyter-widgets/controls",
            "_view_module_version": "1.5.0",
            "_view_name": "HTMLView",
            "description": "",
            "description_tooltip": null,
            "layout": "IPY_MODEL_a8ef5360e59a48629a3cfd4bdb41ea41",
            "placeholder": "​",
            "style": "IPY_MODEL_25c5842517ed4ec1a67515d20ea1d2a6",
            "value": " 26.0/26.0 [00:00&lt;00:00, 1.41kB/s]"
          }
        },
        "f628ff1b38f848cca1b70c97d9d70389": {
          "model_module": "@jupyter-widgets/base",
          "model_name": "LayoutModel",
          "model_module_version": "1.2.0",
          "state": {
            "_model_module": "@jupyter-widgets/base",
            "_model_module_version": "1.2.0",
            "_model_name": "LayoutModel",
            "_view_count": null,
            "_view_module": "@jupyter-widgets/base",
            "_view_module_version": "1.2.0",
            "_view_name": "LayoutView",
            "align_content": null,
            "align_items": null,
            "align_self": null,
            "border": null,
            "bottom": null,
            "display": null,
            "flex": null,
            "flex_flow": null,
            "grid_area": null,
            "grid_auto_columns": null,
            "grid_auto_flow": null,
            "grid_auto_rows": null,
            "grid_column": null,
            "grid_gap": null,
            "grid_row": null,
            "grid_template_areas": null,
            "grid_template_columns": null,
            "grid_template_rows": null,
            "height": null,
            "justify_content": null,
            "justify_items": null,
            "left": null,
            "margin": null,
            "max_height": null,
            "max_width": null,
            "min_height": null,
            "min_width": null,
            "object_fit": null,
            "object_position": null,
            "order": null,
            "overflow": null,
            "overflow_x": null,
            "overflow_y": null,
            "padding": null,
            "right": null,
            "top": null,
            "visibility": null,
            "width": null
          }
        },
        "63ff0c571c7642e68b1744a782ccc9ea": {
          "model_module": "@jupyter-widgets/base",
          "model_name": "LayoutModel",
          "model_module_version": "1.2.0",
          "state": {
            "_model_module": "@jupyter-widgets/base",
            "_model_module_version": "1.2.0",
            "_model_name": "LayoutModel",
            "_view_count": null,
            "_view_module": "@jupyter-widgets/base",
            "_view_module_version": "1.2.0",
            "_view_name": "LayoutView",
            "align_content": null,
            "align_items": null,
            "align_self": null,
            "border": null,
            "bottom": null,
            "display": null,
            "flex": null,
            "flex_flow": null,
            "grid_area": null,
            "grid_auto_columns": null,
            "grid_auto_flow": null,
            "grid_auto_rows": null,
            "grid_column": null,
            "grid_gap": null,
            "grid_row": null,
            "grid_template_areas": null,
            "grid_template_columns": null,
            "grid_template_rows": null,
            "height": null,
            "justify_content": null,
            "justify_items": null,
            "left": null,
            "margin": null,
            "max_height": null,
            "max_width": null,
            "min_height": null,
            "min_width": null,
            "object_fit": null,
            "object_position": null,
            "order": null,
            "overflow": null,
            "overflow_x": null,
            "overflow_y": null,
            "padding": null,
            "right": null,
            "top": null,
            "visibility": null,
            "width": null
          }
        },
        "8ff491ccecee4f53a4f6d89c828e717e": {
          "model_module": "@jupyter-widgets/controls",
          "model_name": "DescriptionStyleModel",
          "model_module_version": "1.5.0",
          "state": {
            "_model_module": "@jupyter-widgets/controls",
            "_model_module_version": "1.5.0",
            "_model_name": "DescriptionStyleModel",
            "_view_count": null,
            "_view_module": "@jupyter-widgets/base",
            "_view_module_version": "1.2.0",
            "_view_name": "StyleView",
            "description_width": ""
          }
        },
        "c9e1af8dd00045b987f39a64237be6a0": {
          "model_module": "@jupyter-widgets/base",
          "model_name": "LayoutModel",
          "model_module_version": "1.2.0",
          "state": {
            "_model_module": "@jupyter-widgets/base",
            "_model_module_version": "1.2.0",
            "_model_name": "LayoutModel",
            "_view_count": null,
            "_view_module": "@jupyter-widgets/base",
            "_view_module_version": "1.2.0",
            "_view_name": "LayoutView",
            "align_content": null,
            "align_items": null,
            "align_self": null,
            "border": null,
            "bottom": null,
            "display": null,
            "flex": null,
            "flex_flow": null,
            "grid_area": null,
            "grid_auto_columns": null,
            "grid_auto_flow": null,
            "grid_auto_rows": null,
            "grid_column": null,
            "grid_gap": null,
            "grid_row": null,
            "grid_template_areas": null,
            "grid_template_columns": null,
            "grid_template_rows": null,
            "height": null,
            "justify_content": null,
            "justify_items": null,
            "left": null,
            "margin": null,
            "max_height": null,
            "max_width": null,
            "min_height": null,
            "min_width": null,
            "object_fit": null,
            "object_position": null,
            "order": null,
            "overflow": null,
            "overflow_x": null,
            "overflow_y": null,
            "padding": null,
            "right": null,
            "top": null,
            "visibility": null,
            "width": null
          }
        },
        "4890a06482884a6998427cbf826fbe26": {
          "model_module": "@jupyter-widgets/controls",
          "model_name": "ProgressStyleModel",
          "model_module_version": "1.5.0",
          "state": {
            "_model_module": "@jupyter-widgets/controls",
            "_model_module_version": "1.5.0",
            "_model_name": "ProgressStyleModel",
            "_view_count": null,
            "_view_module": "@jupyter-widgets/base",
            "_view_module_version": "1.2.0",
            "_view_name": "StyleView",
            "bar_color": null,
            "description_width": ""
          }
        },
        "a8ef5360e59a48629a3cfd4bdb41ea41": {
          "model_module": "@jupyter-widgets/base",
          "model_name": "LayoutModel",
          "model_module_version": "1.2.0",
          "state": {
            "_model_module": "@jupyter-widgets/base",
            "_model_module_version": "1.2.0",
            "_model_name": "LayoutModel",
            "_view_count": null,
            "_view_module": "@jupyter-widgets/base",
            "_view_module_version": "1.2.0",
            "_view_name": "LayoutView",
            "align_content": null,
            "align_items": null,
            "align_self": null,
            "border": null,
            "bottom": null,
            "display": null,
            "flex": null,
            "flex_flow": null,
            "grid_area": null,
            "grid_auto_columns": null,
            "grid_auto_flow": null,
            "grid_auto_rows": null,
            "grid_column": null,
            "grid_gap": null,
            "grid_row": null,
            "grid_template_areas": null,
            "grid_template_columns": null,
            "grid_template_rows": null,
            "height": null,
            "justify_content": null,
            "justify_items": null,
            "left": null,
            "margin": null,
            "max_height": null,
            "max_width": null,
            "min_height": null,
            "min_width": null,
            "object_fit": null,
            "object_position": null,
            "order": null,
            "overflow": null,
            "overflow_x": null,
            "overflow_y": null,
            "padding": null,
            "right": null,
            "top": null,
            "visibility": null,
            "width": null
          }
        },
        "25c5842517ed4ec1a67515d20ea1d2a6": {
          "model_module": "@jupyter-widgets/controls",
          "model_name": "DescriptionStyleModel",
          "model_module_version": "1.5.0",
          "state": {
            "_model_module": "@jupyter-widgets/controls",
            "_model_module_version": "1.5.0",
            "_model_name": "DescriptionStyleModel",
            "_view_count": null,
            "_view_module": "@jupyter-widgets/base",
            "_view_module_version": "1.2.0",
            "_view_name": "StyleView",
            "description_width": ""
          }
        },
        "2193908ac8af4ca0b4059d3de46992fb": {
          "model_module": "@jupyter-widgets/controls",
          "model_name": "HBoxModel",
          "model_module_version": "1.5.0",
          "state": {
            "_dom_classes": [],
            "_model_module": "@jupyter-widgets/controls",
            "_model_module_version": "1.5.0",
            "_model_name": "HBoxModel",
            "_view_count": null,
            "_view_module": "@jupyter-widgets/controls",
            "_view_module_version": "1.5.0",
            "_view_name": "HBoxView",
            "box_style": "",
            "children": [
              "IPY_MODEL_78e37e25180a4f559478a7aa110a1788",
              "IPY_MODEL_9e8bbf3fc890409bb476a7a30fb37a7a",
              "IPY_MODEL_e15c45cbfe5f482c8a71087d05894552"
            ],
            "layout": "IPY_MODEL_82880287bb684ec89512faf5ecd8480c"
          }
        },
        "78e37e25180a4f559478a7aa110a1788": {
          "model_module": "@jupyter-widgets/controls",
          "model_name": "HTMLModel",
          "model_module_version": "1.5.0",
          "state": {
            "_dom_classes": [],
            "_model_module": "@jupyter-widgets/controls",
            "_model_module_version": "1.5.0",
            "_model_name": "HTMLModel",
            "_view_count": null,
            "_view_module": "@jupyter-widgets/controls",
            "_view_module_version": "1.5.0",
            "_view_name": "HTMLView",
            "description": "",
            "description_tooltip": null,
            "layout": "IPY_MODEL_2aec2e3a735b43029b9d4aeae037cc76",
            "placeholder": "​",
            "style": "IPY_MODEL_fbeccac01ec54e8bbeb5a25ff21e2f94",
            "value": "Downloading (…)lve/main/config.json: 100%"
          }
        },
        "9e8bbf3fc890409bb476a7a30fb37a7a": {
          "model_module": "@jupyter-widgets/controls",
          "model_name": "FloatProgressModel",
          "model_module_version": "1.5.0",
          "state": {
            "_dom_classes": [],
            "_model_module": "@jupyter-widgets/controls",
            "_model_module_version": "1.5.0",
            "_model_name": "FloatProgressModel",
            "_view_count": null,
            "_view_module": "@jupyter-widgets/controls",
            "_view_module_version": "1.5.0",
            "_view_name": "ProgressView",
            "bar_style": "success",
            "description": "",
            "description_tooltip": null,
            "layout": "IPY_MODEL_7231248cbbe64532972a7687d16c90a0",
            "max": 1628,
            "min": 0,
            "orientation": "horizontal",
            "style": "IPY_MODEL_1db684ce470b4143b1e79fe185714ad7",
            "value": 1628
          }
        },
        "e15c45cbfe5f482c8a71087d05894552": {
          "model_module": "@jupyter-widgets/controls",
          "model_name": "HTMLModel",
          "model_module_version": "1.5.0",
          "state": {
            "_dom_classes": [],
            "_model_module": "@jupyter-widgets/controls",
            "_model_module_version": "1.5.0",
            "_model_name": "HTMLModel",
            "_view_count": null,
            "_view_module": "@jupyter-widgets/controls",
            "_view_module_version": "1.5.0",
            "_view_name": "HTMLView",
            "description": "",
            "description_tooltip": null,
            "layout": "IPY_MODEL_07ee80d20b3d4dc7b808d157d4f7d6d5",
            "placeholder": "​",
            "style": "IPY_MODEL_bc81086989e74a2e931f95d1a45aade6",
            "value": " 1.63k/1.63k [00:00&lt;00:00, 56.7kB/s]"
          }
        },
        "82880287bb684ec89512faf5ecd8480c": {
          "model_module": "@jupyter-widgets/base",
          "model_name": "LayoutModel",
          "model_module_version": "1.2.0",
          "state": {
            "_model_module": "@jupyter-widgets/base",
            "_model_module_version": "1.2.0",
            "_model_name": "LayoutModel",
            "_view_count": null,
            "_view_module": "@jupyter-widgets/base",
            "_view_module_version": "1.2.0",
            "_view_name": "LayoutView",
            "align_content": null,
            "align_items": null,
            "align_self": null,
            "border": null,
            "bottom": null,
            "display": null,
            "flex": null,
            "flex_flow": null,
            "grid_area": null,
            "grid_auto_columns": null,
            "grid_auto_flow": null,
            "grid_auto_rows": null,
            "grid_column": null,
            "grid_gap": null,
            "grid_row": null,
            "grid_template_areas": null,
            "grid_template_columns": null,
            "grid_template_rows": null,
            "height": null,
            "justify_content": null,
            "justify_items": null,
            "left": null,
            "margin": null,
            "max_height": null,
            "max_width": null,
            "min_height": null,
            "min_width": null,
            "object_fit": null,
            "object_position": null,
            "order": null,
            "overflow": null,
            "overflow_x": null,
            "overflow_y": null,
            "padding": null,
            "right": null,
            "top": null,
            "visibility": null,
            "width": null
          }
        },
        "2aec2e3a735b43029b9d4aeae037cc76": {
          "model_module": "@jupyter-widgets/base",
          "model_name": "LayoutModel",
          "model_module_version": "1.2.0",
          "state": {
            "_model_module": "@jupyter-widgets/base",
            "_model_module_version": "1.2.0",
            "_model_name": "LayoutModel",
            "_view_count": null,
            "_view_module": "@jupyter-widgets/base",
            "_view_module_version": "1.2.0",
            "_view_name": "LayoutView",
            "align_content": null,
            "align_items": null,
            "align_self": null,
            "border": null,
            "bottom": null,
            "display": null,
            "flex": null,
            "flex_flow": null,
            "grid_area": null,
            "grid_auto_columns": null,
            "grid_auto_flow": null,
            "grid_auto_rows": null,
            "grid_column": null,
            "grid_gap": null,
            "grid_row": null,
            "grid_template_areas": null,
            "grid_template_columns": null,
            "grid_template_rows": null,
            "height": null,
            "justify_content": null,
            "justify_items": null,
            "left": null,
            "margin": null,
            "max_height": null,
            "max_width": null,
            "min_height": null,
            "min_width": null,
            "object_fit": null,
            "object_position": null,
            "order": null,
            "overflow": null,
            "overflow_x": null,
            "overflow_y": null,
            "padding": null,
            "right": null,
            "top": null,
            "visibility": null,
            "width": null
          }
        },
        "fbeccac01ec54e8bbeb5a25ff21e2f94": {
          "model_module": "@jupyter-widgets/controls",
          "model_name": "DescriptionStyleModel",
          "model_module_version": "1.5.0",
          "state": {
            "_model_module": "@jupyter-widgets/controls",
            "_model_module_version": "1.5.0",
            "_model_name": "DescriptionStyleModel",
            "_view_count": null,
            "_view_module": "@jupyter-widgets/base",
            "_view_module_version": "1.2.0",
            "_view_name": "StyleView",
            "description_width": ""
          }
        },
        "7231248cbbe64532972a7687d16c90a0": {
          "model_module": "@jupyter-widgets/base",
          "model_name": "LayoutModel",
          "model_module_version": "1.2.0",
          "state": {
            "_model_module": "@jupyter-widgets/base",
            "_model_module_version": "1.2.0",
            "_model_name": "LayoutModel",
            "_view_count": null,
            "_view_module": "@jupyter-widgets/base",
            "_view_module_version": "1.2.0",
            "_view_name": "LayoutView",
            "align_content": null,
            "align_items": null,
            "align_self": null,
            "border": null,
            "bottom": null,
            "display": null,
            "flex": null,
            "flex_flow": null,
            "grid_area": null,
            "grid_auto_columns": null,
            "grid_auto_flow": null,
            "grid_auto_rows": null,
            "grid_column": null,
            "grid_gap": null,
            "grid_row": null,
            "grid_template_areas": null,
            "grid_template_columns": null,
            "grid_template_rows": null,
            "height": null,
            "justify_content": null,
            "justify_items": null,
            "left": null,
            "margin": null,
            "max_height": null,
            "max_width": null,
            "min_height": null,
            "min_width": null,
            "object_fit": null,
            "object_position": null,
            "order": null,
            "overflow": null,
            "overflow_x": null,
            "overflow_y": null,
            "padding": null,
            "right": null,
            "top": null,
            "visibility": null,
            "width": null
          }
        },
        "1db684ce470b4143b1e79fe185714ad7": {
          "model_module": "@jupyter-widgets/controls",
          "model_name": "ProgressStyleModel",
          "model_module_version": "1.5.0",
          "state": {
            "_model_module": "@jupyter-widgets/controls",
            "_model_module_version": "1.5.0",
            "_model_name": "ProgressStyleModel",
            "_view_count": null,
            "_view_module": "@jupyter-widgets/base",
            "_view_module_version": "1.2.0",
            "_view_name": "StyleView",
            "bar_color": null,
            "description_width": ""
          }
        },
        "07ee80d20b3d4dc7b808d157d4f7d6d5": {
          "model_module": "@jupyter-widgets/base",
          "model_name": "LayoutModel",
          "model_module_version": "1.2.0",
          "state": {
            "_model_module": "@jupyter-widgets/base",
            "_model_module_version": "1.2.0",
            "_model_name": "LayoutModel",
            "_view_count": null,
            "_view_module": "@jupyter-widgets/base",
            "_view_module_version": "1.2.0",
            "_view_name": "LayoutView",
            "align_content": null,
            "align_items": null,
            "align_self": null,
            "border": null,
            "bottom": null,
            "display": null,
            "flex": null,
            "flex_flow": null,
            "grid_area": null,
            "grid_auto_columns": null,
            "grid_auto_flow": null,
            "grid_auto_rows": null,
            "grid_column": null,
            "grid_gap": null,
            "grid_row": null,
            "grid_template_areas": null,
            "grid_template_columns": null,
            "grid_template_rows": null,
            "height": null,
            "justify_content": null,
            "justify_items": null,
            "left": null,
            "margin": null,
            "max_height": null,
            "max_width": null,
            "min_height": null,
            "min_width": null,
            "object_fit": null,
            "object_position": null,
            "order": null,
            "overflow": null,
            "overflow_x": null,
            "overflow_y": null,
            "padding": null,
            "right": null,
            "top": null,
            "visibility": null,
            "width": null
          }
        },
        "bc81086989e74a2e931f95d1a45aade6": {
          "model_module": "@jupyter-widgets/controls",
          "model_name": "DescriptionStyleModel",
          "model_module_version": "1.5.0",
          "state": {
            "_model_module": "@jupyter-widgets/controls",
            "_model_module_version": "1.5.0",
            "_model_name": "DescriptionStyleModel",
            "_view_count": null,
            "_view_module": "@jupyter-widgets/base",
            "_view_module_version": "1.2.0",
            "_view_name": "StyleView",
            "description_width": ""
          }
        },
        "5a25cfcbd5494d8c88129d17d9204ef3": {
          "model_module": "@jupyter-widgets/controls",
          "model_name": "HBoxModel",
          "model_module_version": "1.5.0",
          "state": {
            "_dom_classes": [],
            "_model_module": "@jupyter-widgets/controls",
            "_model_module_version": "1.5.0",
            "_model_name": "HBoxModel",
            "_view_count": null,
            "_view_module": "@jupyter-widgets/controls",
            "_view_module_version": "1.5.0",
            "_view_name": "HBoxView",
            "box_style": "",
            "children": [
              "IPY_MODEL_030958aa3df8419ba64438652dac5bb8",
              "IPY_MODEL_7c36097fd7a24a11841724e498b49a1e",
              "IPY_MODEL_fadbea7162b84210bb4edecea4573f1d"
            ],
            "layout": "IPY_MODEL_24a8571969204260b4c66567fef95ccb"
          }
        },
        "030958aa3df8419ba64438652dac5bb8": {
          "model_module": "@jupyter-widgets/controls",
          "model_name": "HTMLModel",
          "model_module_version": "1.5.0",
          "state": {
            "_dom_classes": [],
            "_model_module": "@jupyter-widgets/controls",
            "_model_module_version": "1.5.0",
            "_model_name": "HTMLModel",
            "_view_count": null,
            "_view_module": "@jupyter-widgets/controls",
            "_view_module_version": "1.5.0",
            "_view_name": "HTMLView",
            "description": "",
            "description_tooltip": null,
            "layout": "IPY_MODEL_650b5d2bed6b48caaeaa5d94958ab1e1",
            "placeholder": "​",
            "style": "IPY_MODEL_3530b25c02524378b7387c9df1bebd42",
            "value": "Downloading (…)&quot;pytorch_model.bin&quot;;: 100%"
          }
        },
        "7c36097fd7a24a11841724e498b49a1e": {
          "model_module": "@jupyter-widgets/controls",
          "model_name": "FloatProgressModel",
          "model_module_version": "1.5.0",
          "state": {
            "_dom_classes": [],
            "_model_module": "@jupyter-widgets/controls",
            "_model_module_version": "1.5.0",
            "_model_name": "FloatProgressModel",
            "_view_count": null,
            "_view_module": "@jupyter-widgets/controls",
            "_view_module_version": "1.5.0",
            "_view_name": "ProgressView",
            "bar_style": "success",
            "description": "",
            "description_tooltip": null,
            "layout": "IPY_MODEL_0cb9c49a719d4d269124270bf7a244cc",
            "max": 1018571383,
            "min": 0,
            "orientation": "horizontal",
            "style": "IPY_MODEL_4be8d6f2fa304ec59440147d185e09b4",
            "value": 1018571383
          }
        },
        "fadbea7162b84210bb4edecea4573f1d": {
          "model_module": "@jupyter-widgets/controls",
          "model_name": "HTMLModel",
          "model_module_version": "1.5.0",
          "state": {
            "_dom_classes": [],
            "_model_module": "@jupyter-widgets/controls",
            "_model_module_version": "1.5.0",
            "_model_name": "HTMLModel",
            "_view_count": null,
            "_view_module": "@jupyter-widgets/controls",
            "_view_module_version": "1.5.0",
            "_view_name": "HTMLView",
            "description": "",
            "description_tooltip": null,
            "layout": "IPY_MODEL_c6db7b3d054f416c94561d5211ad4ec5",
            "placeholder": "​",
            "style": "IPY_MODEL_19082f79effd4e71a18470d6d1cf79f2",
            "value": " 1.02G/1.02G [00:04&lt;00:00, 202MB/s]"
          }
        },
        "24a8571969204260b4c66567fef95ccb": {
          "model_module": "@jupyter-widgets/base",
          "model_name": "LayoutModel",
          "model_module_version": "1.2.0",
          "state": {
            "_model_module": "@jupyter-widgets/base",
            "_model_module_version": "1.2.0",
            "_model_name": "LayoutModel",
            "_view_count": null,
            "_view_module": "@jupyter-widgets/base",
            "_view_module_version": "1.2.0",
            "_view_name": "LayoutView",
            "align_content": null,
            "align_items": null,
            "align_self": null,
            "border": null,
            "bottom": null,
            "display": null,
            "flex": null,
            "flex_flow": null,
            "grid_area": null,
            "grid_auto_columns": null,
            "grid_auto_flow": null,
            "grid_auto_rows": null,
            "grid_column": null,
            "grid_gap": null,
            "grid_row": null,
            "grid_template_areas": null,
            "grid_template_columns": null,
            "grid_template_rows": null,
            "height": null,
            "justify_content": null,
            "justify_items": null,
            "left": null,
            "margin": null,
            "max_height": null,
            "max_width": null,
            "min_height": null,
            "min_width": null,
            "object_fit": null,
            "object_position": null,
            "order": null,
            "overflow": null,
            "overflow_x": null,
            "overflow_y": null,
            "padding": null,
            "right": null,
            "top": null,
            "visibility": null,
            "width": null
          }
        },
        "650b5d2bed6b48caaeaa5d94958ab1e1": {
          "model_module": "@jupyter-widgets/base",
          "model_name": "LayoutModel",
          "model_module_version": "1.2.0",
          "state": {
            "_model_module": "@jupyter-widgets/base",
            "_model_module_version": "1.2.0",
            "_model_name": "LayoutModel",
            "_view_count": null,
            "_view_module": "@jupyter-widgets/base",
            "_view_module_version": "1.2.0",
            "_view_name": "LayoutView",
            "align_content": null,
            "align_items": null,
            "align_self": null,
            "border": null,
            "bottom": null,
            "display": null,
            "flex": null,
            "flex_flow": null,
            "grid_area": null,
            "grid_auto_columns": null,
            "grid_auto_flow": null,
            "grid_auto_rows": null,
            "grid_column": null,
            "grid_gap": null,
            "grid_row": null,
            "grid_template_areas": null,
            "grid_template_columns": null,
            "grid_template_rows": null,
            "height": null,
            "justify_content": null,
            "justify_items": null,
            "left": null,
            "margin": null,
            "max_height": null,
            "max_width": null,
            "min_height": null,
            "min_width": null,
            "object_fit": null,
            "object_position": null,
            "order": null,
            "overflow": null,
            "overflow_x": null,
            "overflow_y": null,
            "padding": null,
            "right": null,
            "top": null,
            "visibility": null,
            "width": null
          }
        },
        "3530b25c02524378b7387c9df1bebd42": {
          "model_module": "@jupyter-widgets/controls",
          "model_name": "DescriptionStyleModel",
          "model_module_version": "1.5.0",
          "state": {
            "_model_module": "@jupyter-widgets/controls",
            "_model_module_version": "1.5.0",
            "_model_name": "DescriptionStyleModel",
            "_view_count": null,
            "_view_module": "@jupyter-widgets/base",
            "_view_module_version": "1.2.0",
            "_view_name": "StyleView",
            "description_width": ""
          }
        },
        "0cb9c49a719d4d269124270bf7a244cc": {
          "model_module": "@jupyter-widgets/base",
          "model_name": "LayoutModel",
          "model_module_version": "1.2.0",
          "state": {
            "_model_module": "@jupyter-widgets/base",
            "_model_module_version": "1.2.0",
            "_model_name": "LayoutModel",
            "_view_count": null,
            "_view_module": "@jupyter-widgets/base",
            "_view_module_version": "1.2.0",
            "_view_name": "LayoutView",
            "align_content": null,
            "align_items": null,
            "align_self": null,
            "border": null,
            "bottom": null,
            "display": null,
            "flex": null,
            "flex_flow": null,
            "grid_area": null,
            "grid_auto_columns": null,
            "grid_auto_flow": null,
            "grid_auto_rows": null,
            "grid_column": null,
            "grid_gap": null,
            "grid_row": null,
            "grid_template_areas": null,
            "grid_template_columns": null,
            "grid_template_rows": null,
            "height": null,
            "justify_content": null,
            "justify_items": null,
            "left": null,
            "margin": null,
            "max_height": null,
            "max_width": null,
            "min_height": null,
            "min_width": null,
            "object_fit": null,
            "object_position": null,
            "order": null,
            "overflow": null,
            "overflow_x": null,
            "overflow_y": null,
            "padding": null,
            "right": null,
            "top": null,
            "visibility": null,
            "width": null
          }
        },
        "4be8d6f2fa304ec59440147d185e09b4": {
          "model_module": "@jupyter-widgets/controls",
          "model_name": "ProgressStyleModel",
          "model_module_version": "1.5.0",
          "state": {
            "_model_module": "@jupyter-widgets/controls",
            "_model_module_version": "1.5.0",
            "_model_name": "ProgressStyleModel",
            "_view_count": null,
            "_view_module": "@jupyter-widgets/base",
            "_view_module_version": "1.2.0",
            "_view_name": "StyleView",
            "bar_color": null,
            "description_width": ""
          }
        },
        "c6db7b3d054f416c94561d5211ad4ec5": {
          "model_module": "@jupyter-widgets/base",
          "model_name": "LayoutModel",
          "model_module_version": "1.2.0",
          "state": {
            "_model_module": "@jupyter-widgets/base",
            "_model_module_version": "1.2.0",
            "_model_name": "LayoutModel",
            "_view_count": null,
            "_view_module": "@jupyter-widgets/base",
            "_view_module_version": "1.2.0",
            "_view_name": "LayoutView",
            "align_content": null,
            "align_items": null,
            "align_self": null,
            "border": null,
            "bottom": null,
            "display": null,
            "flex": null,
            "flex_flow": null,
            "grid_area": null,
            "grid_auto_columns": null,
            "grid_auto_flow": null,
            "grid_auto_rows": null,
            "grid_column": null,
            "grid_gap": null,
            "grid_row": null,
            "grid_template_areas": null,
            "grid_template_columns": null,
            "grid_template_rows": null,
            "height": null,
            "justify_content": null,
            "justify_items": null,
            "left": null,
            "margin": null,
            "max_height": null,
            "max_width": null,
            "min_height": null,
            "min_width": null,
            "object_fit": null,
            "object_position": null,
            "order": null,
            "overflow": null,
            "overflow_x": null,
            "overflow_y": null,
            "padding": null,
            "right": null,
            "top": null,
            "visibility": null,
            "width": null
          }
        },
        "19082f79effd4e71a18470d6d1cf79f2": {
          "model_module": "@jupyter-widgets/controls",
          "model_name": "DescriptionStyleModel",
          "model_module_version": "1.5.0",
          "state": {
            "_model_module": "@jupyter-widgets/controls",
            "_model_module_version": "1.5.0",
            "_model_name": "DescriptionStyleModel",
            "_view_count": null,
            "_view_module": "@jupyter-widgets/base",
            "_view_module_version": "1.2.0",
            "_view_name": "StyleView",
            "description_width": ""
          }
        }
      }
    }
  },
  "nbformat": 4,
  "nbformat_minor": 0
}